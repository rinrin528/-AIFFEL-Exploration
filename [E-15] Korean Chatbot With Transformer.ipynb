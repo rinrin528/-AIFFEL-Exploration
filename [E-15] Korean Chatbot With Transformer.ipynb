{
 "cells": [
  {
   "cell_type": "markdown",
   "id": "australian-syntax",
   "metadata": {},
   "source": [
    "# 한국어 챗봇 만들기"
   ]
  },
  {
   "cell_type": "markdown",
   "id": "dried-massage",
   "metadata": {},
   "source": [
    "# step1) 필요 패키지 임포트"
   ]
  },
  {
   "cell_type": "code",
   "execution_count": 1,
   "id": "expensive-tackle",
   "metadata": {},
   "outputs": [],
   "source": [
    "import tensorflow as tf\n",
    "import tensorflow_datasets as tfds\n",
    "import os\n",
    "import re\n",
    "import pandas as pd\n",
    "import numpy as np\n",
    "import matplotlib.pyplot as plt"
   ]
  },
  {
   "cell_type": "markdown",
   "id": "collective-event",
   "metadata": {},
   "source": [
    "# step2) 데이터 다운 및 전처리"
   ]
  },
  {
   "cell_type": "markdown",
   "id": "instrumental-sodium",
   "metadata": {},
   "source": [
    "## 2-1. 데이터 다운"
   ]
  },
  {
   "cell_type": "markdown",
   "id": "located-kitty",
   "metadata": {},
   "source": [
    "- 데이터는 질문과 그에 대한 대답과 질문이 어떤 유형인지를 담고 있다.\n",
    "- label \n",
    "    - 0 : 일상 질문 \n",
    "    - 1 : 부정(이별)\n",
    "    - 2 : 긍정(사랑)"
   ]
  },
  {
   "cell_type": "code",
   "execution_count": 2,
   "id": "thorough-missile",
   "metadata": {
    "scrolled": true
   },
   "outputs": [
    {
     "data": {
      "text/html": [
       "<div>\n",
       "<style scoped>\n",
       "    .dataframe tbody tr th:only-of-type {\n",
       "        vertical-align: middle;\n",
       "    }\n",
       "\n",
       "    .dataframe tbody tr th {\n",
       "        vertical-align: top;\n",
       "    }\n",
       "\n",
       "    .dataframe thead th {\n",
       "        text-align: right;\n",
       "    }\n",
       "</style>\n",
       "<table border=\"1\" class=\"dataframe\">\n",
       "  <thead>\n",
       "    <tr style=\"text-align: right;\">\n",
       "      <th></th>\n",
       "      <th>Q</th>\n",
       "      <th>A</th>\n",
       "      <th>label</th>\n",
       "    </tr>\n",
       "  </thead>\n",
       "  <tbody>\n",
       "    <tr>\n",
       "      <th>0</th>\n",
       "      <td>12시 땡!</td>\n",
       "      <td>하루가 또 가네요.</td>\n",
       "      <td>0</td>\n",
       "    </tr>\n",
       "    <tr>\n",
       "      <th>1</th>\n",
       "      <td>1지망 학교 떨어졌어</td>\n",
       "      <td>위로해 드립니다.</td>\n",
       "      <td>0</td>\n",
       "    </tr>\n",
       "    <tr>\n",
       "      <th>2</th>\n",
       "      <td>3박4일 놀러가고 싶다</td>\n",
       "      <td>여행은 언제나 좋죠.</td>\n",
       "      <td>0</td>\n",
       "    </tr>\n",
       "    <tr>\n",
       "      <th>3</th>\n",
       "      <td>3박4일 정도 놀러가고 싶다</td>\n",
       "      <td>여행은 언제나 좋죠.</td>\n",
       "      <td>0</td>\n",
       "    </tr>\n",
       "    <tr>\n",
       "      <th>4</th>\n",
       "      <td>PPL 심하네</td>\n",
       "      <td>눈살이 찌푸려지죠.</td>\n",
       "      <td>0</td>\n",
       "    </tr>\n",
       "  </tbody>\n",
       "</table>\n",
       "</div>"
      ],
      "text/plain": [
       "                 Q            A  label\n",
       "0           12시 땡!   하루가 또 가네요.      0\n",
       "1      1지망 학교 떨어졌어    위로해 드립니다.      0\n",
       "2     3박4일 놀러가고 싶다  여행은 언제나 좋죠.      0\n",
       "3  3박4일 정도 놀러가고 싶다  여행은 언제나 좋죠.      0\n",
       "4          PPL 심하네   눈살이 찌푸려지죠.      0"
      ]
     },
     "execution_count": 2,
     "metadata": {},
     "output_type": "execute_result"
    }
   ],
   "source": [
    "data_path = os.getenv('HOME')+'/aiffel/enode15/transformer_chatbot/data/ChatbotData.csv'\n",
    "data = pd.read_csv(data_path)\n",
    "data.head()"
   ]
  },
  {
   "cell_type": "code",
   "execution_count": 3,
   "id": "quarterly-denmark",
   "metadata": {},
   "outputs": [
    {
     "data": {
      "text/plain": [
       "array([0, 1, 2])"
      ]
     },
     "execution_count": 3,
     "metadata": {},
     "output_type": "execute_result"
    }
   ],
   "source": [
    "data.label.unique()"
   ]
  },
  {
   "cell_type": "markdown",
   "id": "hungarian-subscription",
   "metadata": {},
   "source": [
    "- 전체 데이터셋 개수를 확인하자"
   ]
  },
  {
   "cell_type": "code",
   "execution_count": 4,
   "id": "horizontal-bedroom",
   "metadata": {},
   "outputs": [
    {
     "name": "stdout",
     "output_type": "stream",
     "text": [
      "<class 'pandas.core.frame.DataFrame'>\n",
      "RangeIndex: 11823 entries, 0 to 11822\n",
      "Data columns (total 3 columns):\n",
      " #   Column  Non-Null Count  Dtype \n",
      "---  ------  --------------  ----- \n",
      " 0   Q       11823 non-null  object\n",
      " 1   A       11823 non-null  object\n",
      " 2   label   11823 non-null  int64 \n",
      "dtypes: int64(1), object(2)\n",
      "memory usage: 277.2+ KB\n"
     ]
    }
   ],
   "source": [
    "data.info()"
   ]
  },
  {
   "cell_type": "markdown",
   "id": "rental-waterproof",
   "metadata": {},
   "source": [
    "- 데이터 개수가 적어서 전체를 사용해도 될 것 같다."
   ]
  },
  {
   "cell_type": "code",
   "execution_count": 5,
   "id": "governing-assignment",
   "metadata": {},
   "outputs": [
    {
     "name": "stdout",
     "output_type": "stream",
     "text": [
      "11823\n"
     ]
    }
   ],
   "source": [
    "# 사용할 샘플의 최대 개수\n",
    "MAX_SAMPLES = len(data)\n",
    "print(MAX_SAMPLES)"
   ]
  },
  {
   "cell_type": "markdown",
   "id": "weighted-toyota",
   "metadata": {},
   "source": [
    "## 2-2. 데이터 전처리"
   ]
  },
  {
   "cell_type": "markdown",
   "id": "convertible-costume",
   "metadata": {},
   "source": [
    "- 정규 표현식으로 구두점과 단어 사이 공백을 추가한다.\n",
    "- 데이터셋에 숫자도 많이 포함되어 있어서 (ex) 1박 2일, 12시) 한글, 숫자, 문장부호를 제외한 다른 문자를 제거하는 전처리 함수를 만들었다."
   ]
  },
  {
   "cell_type": "code",
   "execution_count": 6,
   "id": "christian-junction",
   "metadata": {},
   "outputs": [],
   "source": [
    "# 전처리 함수\n",
    "def preprocess_sentence(sentence):\n",
    "    sentence = sentence.lower().strip()\n",
    "\n",
    "    # 단어와 구두점(punctuation) 사이의 거리를 만듭니다.\n",
    "    # 예를 들어서 \"I am a student.\" => \"I am a student .\"와 같이\n",
    "    # student와 온점 사이에 거리를 만듭니다.\n",
    "    sentence = re.sub(r\"([?.!,])\", r\" \\1 \", sentence)\n",
    "    sentence = re.sub(r'[\" \"]+', \" \", sentence)\n",
    "\n",
    "    # 한글과 숫자, 문장부호(\".\", \"?\", \"!\", \",\")를 제외한 모든 문자를 공백인 ' '로 대체합니다.\n",
    "    sentence = re.sub(r\"[^0-9ㄱ-ㅎ가-힣?.!,]+\", \" \", sentence)\n",
    "    sentence = sentence.strip()\n",
    "    return sentence"
   ]
  },
  {
   "cell_type": "markdown",
   "id": "mental-cache",
   "metadata": {},
   "source": [
    "- 영어 데이터의 자료형 역시 list였으므로 데이터 프레임의 각 열에 전처리 함수를 적용한 후 리스트로 변환해서 questions와 answers를 만들자."
   ]
  },
  {
   "cell_type": "code",
   "execution_count": 7,
   "id": "instrumental-anthony",
   "metadata": {},
   "outputs": [],
   "source": [
    "questions, answers = list(data['Q'].map(preprocess_sentence)), list(data['A'].map(preprocess_sentence))"
   ]
  },
  {
   "cell_type": "code",
   "execution_count": 8,
   "id": "plain-consumer",
   "metadata": {},
   "outputs": [
    {
     "name": "stdout",
     "output_type": "stream",
     "text": [
      "전체 샘플 수 : 11823\n",
      "전체 샘플 수 : 11823\n"
     ]
    }
   ],
   "source": [
    "print('전체 샘플 수 :', len(questions))\n",
    "print('전체 샘플 수 :', len(answers))"
   ]
  },
  {
   "cell_type": "markdown",
   "id": "anonymous-compression",
   "metadata": {},
   "source": [
    "실제 전처리된 데이터를 확인해보자."
   ]
  },
  {
   "cell_type": "code",
   "execution_count": 9,
   "id": "smart-silence",
   "metadata": {},
   "outputs": [
    {
     "data": {
      "text/plain": [
       "['12시 땡 !', '1지망 학교 떨어졌어', '3박4일 놀러가고 싶다']"
      ]
     },
     "execution_count": 9,
     "metadata": {},
     "output_type": "execute_result"
    }
   ],
   "source": [
    "questions[:3]"
   ]
  },
  {
   "cell_type": "code",
   "execution_count": 10,
   "id": "proper-bracelet",
   "metadata": {},
   "outputs": [
    {
     "data": {
      "text/plain": [
       "['하루가 또 가네요 .', '위로해 드립니다 .', '여행은 언제나 좋죠 .']"
      ]
     },
     "execution_count": 10,
     "metadata": {},
     "output_type": "execute_result"
    }
   ],
   "source": [
    "answers[:3]"
   ]
  },
  {
   "cell_type": "markdown",
   "id": "adjacent-canon",
   "metadata": {},
   "source": [
    "# step3) 단어사전 구축 및 전처리"
   ]
  },
  {
   "cell_type": "markdown",
   "id": "painted-miracle",
   "metadata": {},
   "source": [
    "## 3-1. `tensorflow_datasets.deprecatd.text.SubwordTextEncoder`로 단어사전 구축\n",
    "- 별도의 한국어 형태소 분석기 사용하지 않고 자체 제작한 토크나이저를 사용한다.\n",
    "- 말뭉치에서 단어장을 생성해준다."
   ]
  },
  {
   "cell_type": "code",
   "execution_count": 11,
   "id": "looking-fruit",
   "metadata": {},
   "outputs": [],
   "source": [
    "import tensorflow_datasets as tfds\n",
    "\n",
    "# 질문과 답변 데이터셋에 대해서 Vocabulary 생성. (Tensorflow 2.3.0 이상) (클라우드는 2.4 입니다)\n",
    "tokenizer = tfds.deprecated.text.SubwordTextEncoder.build_from_corpus(questions + answers, target_vocab_size=2**13)"
   ]
  },
  {
   "cell_type": "markdown",
   "id": "departmental-tower",
   "metadata": {},
   "source": [
    "## 3-2. 단어장에 시작토큰, 종료토큰 추가"
   ]
  },
  {
   "cell_type": "markdown",
   "id": "sound-convenience",
   "metadata": {},
   "source": [
    "- 질문과 답변에서 추출한 단어들로 구축한 단어사전 크기 뒤에 시작 토큰과 종료 토큰을 대신할 정수 값을 지정한다."
   ]
  },
  {
   "cell_type": "code",
   "execution_count": 12,
   "id": "circular-bottle",
   "metadata": {},
   "outputs": [],
   "source": [
    "# 시작 토큰과 종료 토큰에 고유한 정수를 부여합니다.\n",
    "START_TOKEN, END_TOKEN = [tokenizer.vocab_size], [tokenizer.vocab_size + 1]"
   ]
  },
  {
   "cell_type": "markdown",
   "id": "baking-humanity",
   "metadata": {},
   "source": [
    "- 시작 토큰과 종료 토큰 정수를 고려해 단어사전 크기에 2를 더한다."
   ]
  },
  {
   "cell_type": "code",
   "execution_count": 13,
   "id": "sorted-classification",
   "metadata": {},
   "outputs": [
    {
     "name": "stdout",
     "output_type": "stream",
     "text": [
      "8160\n"
     ]
    }
   ],
   "source": [
    "# 시작 토큰과 종료 토큰을 고려하여 +2를 하여 단어장의 크기를 산정합니다.\n",
    "VOCAB_SIZE = tokenizer.vocab_size + 2\n",
    "print(VOCAB_SIZE)"
   ]
  },
  {
   "cell_type": "markdown",
   "id": "proprietary-generic",
   "metadata": {},
   "source": [
    "## 3-3. 단어 정수 인코딩, 패딩"
   ]
  },
  {
   "cell_type": "markdown",
   "id": "veterinary-mattress",
   "metadata": {},
   "source": [
    "- 텐서플로우로 구축한 토크나이저의 메소드 `encode(sentence)`는 단어사전 안에 있는 문장을 입력하면 정수로 인코딩 해준다."
   ]
  },
  {
   "cell_type": "code",
   "execution_count": 14,
   "id": "former-workplace",
   "metadata": {},
   "outputs": [
    {
     "name": "stdout",
     "output_type": "stream",
     "text": [
      "정수 인코딩 후의 21번째 질문 샘플: [5758, 612, 2486, 4159]\n",
      "정수 인코딩 후의 21번째 답변 샘플: [2354, 7501, 7, 6265, 97, 1]\n"
     ]
    }
   ],
   "source": [
    "# 임의의 22번째 샘플에 대해서 정수 인코딩 작업을 수행.\n",
    "# 각 토큰을 고유한 정수로 변환\n",
    "print('정수 인코딩 후의 21번째 질문 샘플: {}'.format(tokenizer.encode(questions[21])))\n",
    "print('정수 인코딩 후의 21번째 답변 샘플: {}'.format(tokenizer.encode(answers[21])))"
   ]
  },
  {
   "cell_type": "markdown",
   "id": "occasional-notebook",
   "metadata": {},
   "source": [
    "- 정수 인코딩에 사용할 최대 길이를 정하기 위해 문장 길이 분포를 확인해보자."
   ]
  },
  {
   "cell_type": "code",
   "execution_count": 15,
   "id": "stable-seminar",
   "metadata": {},
   "outputs": [
    {
     "data": {
      "text/plain": [
       "count    11823.000000\n",
       "mean         2.937833\n",
       "std          1.846075\n",
       "min          0.000000\n",
       "25%          2.000000\n",
       "50%          3.000000\n",
       "75%          4.000000\n",
       "99%          9.000000\n",
       "max         15.000000\n",
       "dtype: float64"
      ]
     },
     "execution_count": 15,
     "metadata": {},
     "output_type": "execute_result"
    }
   ],
   "source": [
    "q_len = pd.Series(questions).str.count(' ')\n",
    "q_len.describe(percentiles=[.25, .75, .99])"
   ]
  },
  {
   "cell_type": "code",
   "execution_count": 16,
   "id": "distributed-sustainability",
   "metadata": {},
   "outputs": [
    {
     "data": {
      "text/plain": [
       "count    11823.000000\n",
       "mean         3.715301\n",
       "std          1.925347\n",
       "min          0.000000\n",
       "25%          2.000000\n",
       "50%          3.000000\n",
       "75%          5.000000\n",
       "99%         10.000000\n",
       "max         23.000000\n",
       "dtype: float64"
      ]
     },
     "execution_count": 16,
     "metadata": {},
     "output_type": "execute_result"
    }
   ],
   "source": [
    "a_len = pd.Series(answers).str.count(' ')\n",
    "a_len.describe(percentiles=[.25, .75, .99])"
   ]
  },
  {
   "cell_type": "code",
   "execution_count": 17,
   "id": "sporting-clothing",
   "metadata": {},
   "outputs": [
    {
     "data": {
      "text/plain": [
       "5362     13\n",
       "5396     11\n",
       "5567     11\n",
       "5772     10\n",
       "5785     12\n",
       "8527     10\n",
       "8601     10\n",
       "8903     11\n",
       "8922     10\n",
       "8930     10\n",
       "9026     11\n",
       "9047     10\n",
       "9167     11\n",
       "9174     10\n",
       "9273     13\n",
       "9276     12\n",
       "9422     11\n",
       "9448     10\n",
       "9471     10\n",
       "9473     10\n",
       "9498     10\n",
       "9506     11\n",
       "9516     10\n",
       "9519     11\n",
       "9662     10\n",
       "10052    12\n",
       "10071    11\n",
       "10175    10\n",
       "10221    10\n",
       "10245    12\n",
       "10263    10\n",
       "10722    10\n",
       "10733    10\n",
       "10870    11\n",
       "10888    11\n",
       "10889    11\n",
       "10958    10\n",
       "11010    10\n",
       "11011    12\n",
       "11044    10\n",
       "11053    10\n",
       "11129    10\n",
       "11186    10\n",
       "11248    12\n",
       "11348    10\n",
       "11451    10\n",
       "11462    11\n",
       "11556    11\n",
       "11626    10\n",
       "11769    11\n",
       "11809    10\n",
       "11810    15\n",
       "dtype: int64"
      ]
     },
     "execution_count": 17,
     "metadata": {},
     "output_type": "execute_result"
    }
   ],
   "source": [
    "q_len[q_len>9]"
   ]
  },
  {
   "cell_type": "code",
   "execution_count": 18,
   "id": "dependent-railway",
   "metadata": {},
   "outputs": [
    {
     "data": {
      "text/plain": [
       "9659     16\n",
       "9884     18\n",
       "10258    23\n",
       "10728    17\n",
       "10780    17\n",
       "10808    21\n",
       "dtype: int64"
      ]
     },
     "execution_count": 18,
     "metadata": {},
     "output_type": "execute_result"
    }
   ],
   "source": [
    "a_len[a_len>15]"
   ]
  },
  {
   "cell_type": "markdown",
   "id": "limited-holmes",
   "metadata": {},
   "source": [
    "- 질문과 대답의 최대값은 각각 15 단어, 23 단어였다.\n",
    "- 질문 데이터의 99%인 9로 자르기에는 9 이상인 데이터의 수가 꽤 있는 것 같아 답변 데이터의 99%인 MAX_LENGTH를 15로 산정해봤다."
   ]
  },
  {
   "cell_type": "code",
   "execution_count": 19,
   "id": "integrated-judges",
   "metadata": {},
   "outputs": [
    {
     "name": "stdout",
     "output_type": "stream",
     "text": [
      "15\n"
     ]
    }
   ],
   "source": [
    "# 샘플의 최대 허용 길이 또는 패딩 후의 최종 길이\n",
    "MAX_LENGTH = 15\n",
    "print(MAX_LENGTH)"
   ]
  },
  {
   "cell_type": "code",
   "execution_count": 20,
   "id": "sonic-timeline",
   "metadata": {},
   "outputs": [],
   "source": [
    "# 정수 인코딩, 최대 길이를 초과하는 샘플 제거, 패딩\n",
    "def tokenize_and_filter(inputs, outputs):\n",
    "    tokenized_inputs, tokenized_outputs = [], []\n",
    "\n",
    "    for (sentence1, sentence2) in zip(inputs, outputs):\n",
    "        # 정수 인코딩 과정에서 시작 토큰과 종료 토큰을 추가\n",
    "        sentence1 = START_TOKEN + tokenizer.encode(sentence1) + END_TOKEN\n",
    "        sentence2 = START_TOKEN + tokenizer.encode(sentence2) + END_TOKEN\n",
    "\n",
    "        # 최대 길이 39 이하인 경우에만 데이터셋으로 허용\n",
    "        if len(sentence1) <= MAX_LENGTH and len(sentence2) <= MAX_LENGTH:\n",
    "            tokenized_inputs.append(sentence1)\n",
    "            tokenized_outputs.append(sentence2)\n",
    "\n",
    "    # 최대 길이 39으로 모든 데이터셋을 패딩\n",
    "    tokenized_inputs = tf.keras.preprocessing.sequence.pad_sequences(\n",
    "        tokenized_inputs, maxlen=MAX_LENGTH, padding='post')\n",
    "    tokenized_outputs = tf.keras.preprocessing.sequence.pad_sequences(\n",
    "        tokenized_outputs, maxlen=MAX_LENGTH, padding='post')\n",
    "\n",
    "    return tokenized_inputs, tokenized_outputs"
   ]
  },
  {
   "cell_type": "code",
   "execution_count": 21,
   "id": "purple-tract",
   "metadata": {},
   "outputs": [
    {
     "name": "stdout",
     "output_type": "stream",
     "text": [
      "단어장의 크기 : 8160\n",
      "필터링 후의 질문 샘플 개수: 11573\n",
      "필터링 후의 답변 샘플 개수: 11573\n"
     ]
    }
   ],
   "source": [
    "questions, answers = tokenize_and_filter(questions, answers)\n",
    "print('단어장의 크기 :',(VOCAB_SIZE))\n",
    "print('필터링 후의 질문 샘플 개수: {}'.format(len(questions)))\n",
    "print('필터링 후의 답변 샘플 개수: {}'.format(len(answers)))"
   ]
  },
  {
   "cell_type": "markdown",
   "id": "accomplished-compatibility",
   "metadata": {},
   "source": [
    "## 3-4. 데이터 셋 생성\n",
    "### 교사 강요(`Teacher Forcing`)\n",
    "- 트랜스포머도 seq2seq 처럼 디코더가 입력받은 문장 행렬로 부터 각 시점의 단어를 예측하도록 훈련\n",
    "\n",
    "- 교사 강요를 적용해서 데이터셋을 생성한다. \n",
    "- 인코더의 입력은 질문의 전체 문장을 입력 받는다.\n",
    "- 디코더의 입력은 답변의 전체 문장 중 종료 토큰을 제거한다.\n",
    "- 디코더는 이전 타겟을 다음 입력으로 사용하므로 출력에는 시작 토큰을 제거한 답변을 제공한다."
   ]
  },
  {
   "cell_type": "code",
   "execution_count": 22,
   "id": "detailed-toronto",
   "metadata": {},
   "outputs": [],
   "source": [
    "BATCH_SIZE = 64\n",
    "BUFFER_SIZE = 20000\n",
    "\n",
    "# 디코더는 이전의 target을 다음의 input으로 사용합니다.\n",
    "# 이에 따라 outputs에서는 START_TOKEN을 제거하겠습니다.\n",
    "dataset = tf.data.Dataset.from_tensor_slices((\n",
    "    {\n",
    "        'inputs': questions,\n",
    "        'dec_inputs': answers[:, :-1]\n",
    "    },\n",
    "    {\n",
    "        'outputs': answers[:, 1:]\n",
    "    },\n",
    "))\n",
    "\n",
    "dataset = dataset.cache()\n",
    "dataset = dataset.shuffle(BUFFER_SIZE)\n",
    "dataset = dataset.batch(BATCH_SIZE)\n",
    "dataset = dataset.prefetch(tf.data.experimental.AUTOTUNE)"
   ]
  },
  {
   "cell_type": "markdown",
   "id": "atomic-working",
   "metadata": {},
   "source": [
    "# step4) 모델 도우미 함수"
   ]
  },
  {
   "cell_type": "markdown",
   "id": "strange-yeast",
   "metadata": {},
   "source": [
    "## 4-1. Positional Encoding"
   ]
  },
  {
   "cell_type": "markdown",
   "id": "fewer-above",
   "metadata": {},
   "source": [
    "- 트랜스포머 모델은 기존 RNN과 달리 문장 전체 행렬을 입력으로 받는다. 그렇기 때문에 문장에서의 순서 정보도 같이 전달해줘야 어떤 단어가 문장의 어느 위치에서 자주  발생하는지 등을 알 수 있다.\n",
    "포지셔널 인코딩은 모델에게 전체 문장에서 단어의 순서를 알려준다."
   ]
  },
  {
   "cell_type": "code",
   "execution_count": 23,
   "id": "honey-shell",
   "metadata": {},
   "outputs": [],
   "source": [
    "# 포지셔널 인코딩 레이어\n",
    "class PositionalEncoding(tf.keras.layers.Layer):\n",
    "\n",
    "    def __init__(self, position, d_model):\n",
    "        super(PositionalEncoding, self).__init__()\n",
    "        self.pos_encoding = self.positional_encoding(position, d_model)\n",
    "\n",
    "    def get_angles(self, position, i, d_model):\n",
    "        angles = 1 / tf.pow(10000, (2 * (i // 2)) / tf.cast(d_model, tf.float32))\n",
    "        return position * angles\n",
    "\n",
    "    def positional_encoding(self, position, d_model):\n",
    "        # 각도 배열 생성\n",
    "        angle_rads = self.get_angles(\n",
    "            position=tf.range(position, dtype=tf.float32)[:, tf.newaxis],\n",
    "            i=tf.range(d_model, dtype=tf.float32)[tf.newaxis, :],\n",
    "            d_model=d_model)\n",
    "\n",
    "        # 배열의 짝수 인덱스에는 sin 함수 적용\n",
    "        sines = tf.math.sin(angle_rads[:, 0::2])\n",
    "        # 배열의 홀수 인덱스에는 cosine 함수 적용\n",
    "        cosines = tf.math.cos(angle_rads[:, 1::2])\n",
    "\n",
    "        # sin과 cosine이 교차되도록 재배열\n",
    "        pos_encoding = tf.stack([sines, cosines], axis=0)\n",
    "        pos_encoding = tf.transpose(pos_encoding,[1, 2, 0]) \n",
    "        pos_encoding = tf.reshape(pos_encoding, [position, d_model])\n",
    "\n",
    "        pos_encoding = pos_encoding[tf.newaxis, ...]\n",
    "        return tf.cast(pos_encoding, tf.float32)\n",
    "\n",
    "    def call(self, inputs):\n",
    "        return inputs + self.pos_encoding[:, :tf.shape(inputs)[1], :]"
   ]
  },
  {
   "cell_type": "code",
   "execution_count": 190,
   "id": "russian-genius",
   "metadata": {},
   "outputs": [
    {
     "data": {
      "image/png": "[encoded data removed]",
      "text/plain": [
       "<Figure size 432x288 with 2 Axes>"
      ]
     },
     "metadata": {
      "needs_background": "light"
     },
     "output_type": "display_data"
    }
   ],
   "source": [
    "sample_pos_encoding = PositionalEncoding(15, 512)\n",
    "\n",
    "plt.pcolormesh(sample_pos_encoding.pos_encoding.numpy()[0], cmap='RdBu')\n",
    "plt.xlabel('Depth')\n",
    "plt.xlim((0, 512))\n",
    "plt.ylabel('Position')\n",
    "plt.colorbar()\n",
    "plt.show()"
   ]
  },
  {
   "cell_type": "markdown",
   "id": "mounted-norway",
   "metadata": {},
   "source": [
    "## 4-2. scaled dot product attention"
   ]
  },
  {
   "cell_type": "code",
   "execution_count": 189,
   "id": "balanced-routine",
   "metadata": {},
   "outputs": [],
   "source": [
    "# 스케일드 닷 프로덕트 어텐션 함수\n",
    "def scaled_dot_product_attention(query, key, value, mask):\n",
    "    # 어텐션 가중치는 Q와 K의 닷 프로덕트\n",
    "    matmul_qk = tf.matmul(query, key, transpose_b=True)\n",
    "\n",
    "    # 가중치를 정규화\n",
    "    depth = tf.cast(tf.shape(key)[-1], tf.float32)\n",
    "    logits = matmul_qk / tf.math.sqrt(depth)\n",
    "\n",
    "    # 패딩에 마스크 추가\n",
    "    if mask is not None:\n",
    "        logits += (mask * -1e9)\n",
    "\n",
    "    # softmax적용\n",
    "    attention_weights = tf.nn.softmax(logits, axis=-1)\n",
    "\n",
    "    # 최종 어텐션은 가중치와 V의 닷 프로덕트\n",
    "    output = tf.matmul(attention_weights, value)\n",
    "    return output"
   ]
  },
  {
   "cell_type": "markdown",
   "id": "guided-hobby",
   "metadata": {},
   "source": [
    "## 4-3. 멀티 헤드 어텐션"
   ]
  },
  {
   "cell_type": "markdown",
   "id": "existing-family",
   "metadata": {},
   "source": [
    "- 병렬로 어텐션을 진행한다.\n",
    "- 모델 생성 시 "
   ]
  },
  {
   "cell_type": "code",
   "execution_count": 26,
   "id": "white-generation",
   "metadata": {},
   "outputs": [],
   "source": [
    "class MultiHeadAttention(tf.keras.layers.Layer):\n",
    "\n",
    "    def __init__(self, d_model, num_heads, name=\"multi_head_attention\"):\n",
    "        super(MultiHeadAttention, self).__init__(name=name)\n",
    "        self.num_heads = num_heads\n",
    "        self.d_model = d_model\n",
    "\n",
    "        assert d_model % self.num_heads == 0\n",
    "\n",
    "        self.depth = d_model // self.num_heads\n",
    "\n",
    "        self.query_dense = tf.keras.layers.Dense(units=d_model)\n",
    "        self.key_dense = tf.keras.layers.Dense(units=d_model)\n",
    "        self.value_dense = tf.keras.layers.Dense(units=d_model)\n",
    "\n",
    "        self.dense = tf.keras.layers.Dense(units=d_model)\n",
    "\n",
    "    def split_heads(self, inputs, batch_size):\n",
    "        inputs = tf.reshape(\n",
    "            inputs, shape=(batch_size, -1, self.num_heads, self.depth))\n",
    "        return tf.transpose(inputs, perm=[0, 2, 1, 3])\n",
    "\n",
    "    def call(self, inputs):\n",
    "        query, key, value, mask = inputs['query'], inputs['key'], inputs['value'], inputs['mask']\n",
    "        batch_size = tf.shape(query)[0]\n",
    "\n",
    "        # Q, K, V에 각각 Dense를 적용합니다\n",
    "        query = self.query_dense(query)\n",
    "        key = self.key_dense(key)\n",
    "        value = self.value_dense(value)\n",
    "\n",
    "        # 병렬 연산을 위한 머리를 여러 개 만듭니다\n",
    "        query = self.split_heads(query, batch_size)\n",
    "        key = self.split_heads(key, batch_size)\n",
    "        value = self.split_heads(value, batch_size)\n",
    "\n",
    "        # 스케일드 닷 프로덕트 어텐션 함수\n",
    "        scaled_attention = scaled_dot_product_attention(query, key, value, mask)\n",
    "\n",
    "        scaled_attention = tf.transpose(scaled_attention, perm=[0, 2, 1, 3])\n",
    "\n",
    "        # 어텐션 연산 후에 각 결과를 다시 연결(concatenate)합니다\n",
    "        concat_attention = tf.reshape(scaled_attention,\n",
    "                                      (batch_size, -1, self.d_model))\n",
    "\n",
    "        # 최종 결과에도 Dense를 한 번 더 적용합니다\n",
    "        outputs = self.dense(concat_attention)\n",
    "\n",
    "        return outputs"
   ]
  },
  {
   "cell_type": "markdown",
   "id": "aggressive-sauce",
   "metadata": {},
   "source": [
    "## 4-4. 마스킹"
   ]
  },
  {
   "cell_type": "markdown",
   "id": "thirty-collins",
   "metadata": {},
   "source": [
    "### 4-4-1. 패딩 마스킹\n",
    "- 문장 길이를 맞추기 위해 넣었던 패딩 값은 어텐션 연산에 의미가 없다.\n",
    "- 이를 제외하기 위해 패딩의 위치를 마스킹하자."
   ]
  },
  {
   "cell_type": "code",
   "execution_count": 27,
   "id": "legislative-strike",
   "metadata": {},
   "outputs": [],
   "source": [
    "# 패딩 마스킹\n",
    "# 정수 시퀀스 입력 시 0인 부분 체크한 벡터 반환\n",
    "def create_padding_mask(x):\n",
    "    mask = tf.cast(tf.math.equal(x, 0), tf.float32)\n",
    "    # (batch_size, 1, 1, sequence length)\n",
    "    return mask[:, tf.newaxis, tf.newaxis, :]"
   ]
  },
  {
   "cell_type": "markdown",
   "id": "planned-applicant",
   "metadata": {},
   "source": [
    "### 4-4-2. 룩 어헤드 마스킹\n",
    "- 트랜스포머는 기존 RNN과 달리 문장 전체 벡터가 입력으로 들어간다.\n",
    "- RNN은 각각의 step마다 단어가 들어가므로 단어를 예측할 때 이전 스텝에서 나온 단어들만 참고할 수 있고 이후에 생성될 단어를 참고할 수가 없다.\n",
    "- 그렇지만 트랜스포머는 전체 문장이 입력으로 들어가므로 지금 예측하는 위치와 상관 없이 모든 단어를 참조할 수 있다.\n",
    "- 예측해야할 위치 다음에 나오는 단어들은 볼 수 없도록 가리는 룩 어헤드 마스크를 생성하자."
   ]
  },
  {
   "cell_type": "code",
   "execution_count": 28,
   "id": "republican-mountain",
   "metadata": {},
   "outputs": [],
   "source": [
    "# 룩 어헤드 마스킹\n",
    "# 역시 패딩 마스킹 필요\n",
    "def create_look_ahead_mask(x):\n",
    "    seq_len = tf.shape(x)[1]\n",
    "    look_ahead_mask = 1 - tf.linalg.band_part(tf.ones((seq_len, seq_len)), -1, 0)\n",
    "    padding_mask = create_padding_mask(x)\n",
    "    return tf.maximum(look_ahead_mask, padding_mask)"
   ]
  },
  {
   "cell_type": "markdown",
   "id": "prime-praise",
   "metadata": {},
   "source": [
    "# step5) 모델 구성하기"
   ]
  },
  {
   "cell_type": "markdown",
   "id": "willing-hawaii",
   "metadata": {},
   "source": [
    "## 5-1. 인코더 층 구성\n",
    "- 하나의 인코더 레이어를 구성하는 함수다.\n",
    "- 멀티 헤드 어텐션 -> Dropout, Layer Normalization -> Dense('relu') -> Dense -> Dropout, Layer Normalization"
   ]
  },
  {
   "cell_type": "code",
   "execution_count": 29,
   "id": "careful-cassette",
   "metadata": {},
   "outputs": [],
   "source": [
    "# 인코더 하나의 레이어를 함수로 구현.\n",
    "# 이 하나의 레이어 안에는 두 개의 서브 레이어가 존재합니다.\n",
    "def encoder_layer(units, d_model, num_heads, dropout, name=\"encoder_layer\"):\n",
    "    inputs = tf.keras.Input(shape=(None, d_model), name=\"inputs\")\n",
    "\n",
    "    # 패딩 마스크 사용\n",
    "    padding_mask = tf.keras.Input(shape=(1, 1, None), name=\"padding_mask\")\n",
    "\n",
    "    # 첫 번째 서브 레이어 : 멀티 헤드 어텐션 수행 (셀프 어텐션)\n",
    "    attention = MultiHeadAttention(\n",
    "      d_model, num_heads, name=\"attention\")({\n",
    "          'query': inputs,\n",
    "          'key': inputs,\n",
    "          'value': inputs,\n",
    "          'mask': padding_mask\n",
    "      })\n",
    "\n",
    "    # 어텐션의 결과는 Dropout과 Layer Normalization이라는 훈련을 돕는 테크닉을 수행\n",
    "    attention = tf.keras.layers.Dropout(rate=dropout)(attention)\n",
    "    attention = tf.keras.layers.LayerNormalization(\n",
    "      epsilon=1e-6)(inputs + attention)\n",
    "\n",
    "    # 두 번째 서브 레이어 : 2개의 완전연결층\n",
    "    outputs = tf.keras.layers.Dense(units=units, activation='relu')(attention)\n",
    "    outputs = tf.keras.layers.Dense(units=d_model)(outputs)\n",
    "\n",
    "    # 완전연결층의 결과는 Dropout과 LayerNormalization이라는 훈련을 돕는 테크닉을 수행\n",
    "    outputs = tf.keras.layers.Dropout(rate=dropout)(outputs)\n",
    "    outputs = tf.keras.layers.LayerNormalization(\n",
    "      epsilon=1e-6)(attention + outputs)\n",
    "\n",
    "    return tf.keras.Model(\n",
    "      inputs=[inputs, padding_mask], outputs=outputs, name=name)"
   ]
  },
  {
   "cell_type": "markdown",
   "id": "short-campaign",
   "metadata": {},
   "source": [
    "## 5-2. 인코더 생성\n",
    "- 임베딩층과 포지셔널 인코딩과 인코더 층 여러개를 연결해서 하나의 인코더를 만든다."
   ]
  },
  {
   "cell_type": "code",
   "execution_count": 30,
   "id": "efficient-details",
   "metadata": {},
   "outputs": [],
   "source": [
    "def encoder(vocab_size,\n",
    "            num_layers,\n",
    "            units,\n",
    "            d_model,\n",
    "            num_heads,\n",
    "            dropout,\n",
    "            name=\"encoder\"):\n",
    "    inputs = tf.keras.Input(shape=(None,), name=\"inputs\")\n",
    "\n",
    "    # 패딩 마스크 사용\n",
    "    padding_mask = tf.keras.Input(shape=(1, 1, None), name=\"padding_mask\")\n",
    "\n",
    "    # 임베딩 레이어\n",
    "    embeddings = tf.keras.layers.Embedding(vocab_size, d_model)(inputs)\n",
    "    embeddings *= tf.math.sqrt(tf.cast(d_model, tf.float32))\n",
    "\n",
    "    # 포지셔널 인코딩\n",
    "    embeddings = PositionalEncoding(vocab_size, d_model)(embeddings)\n",
    "\n",
    "    outputs = tf.keras.layers.Dropout(rate=dropout)(embeddings)\n",
    "\n",
    "    # num_layers만큼 쌓아올린 인코더의 층.\n",
    "    for i in range(num_layers):\n",
    "        outputs = encoder_layer(\n",
    "            units=units,\n",
    "            d_model=d_model,\n",
    "            num_heads=num_heads,\n",
    "            dropout=dropout,\n",
    "            name=\"encoder_layer_{}\".format(i),\n",
    "        )([outputs, padding_mask])\n",
    "\n",
    "    return tf.keras.Model(\n",
    "      inputs=[inputs, padding_mask], outputs=outputs, name=name)"
   ]
  },
  {
   "cell_type": "markdown",
   "id": "level-socket",
   "metadata": {},
   "source": [
    "## 5-3. 디코더 층 구성"
   ]
  },
  {
   "cell_type": "markdown",
   "id": "extended-estate",
   "metadata": {},
   "source": [
    "- 하나의 디코더 레이어를 구성하는 함수다.\n",
    "- 셀프 어텐션 -> LayerNormalization -> 인코더-디코더 어텐션 -> Dropout, LayerNormalization -> Dense('relu') -> Dense -> Dropout, Layer Normalization"
   ]
  },
  {
   "cell_type": "code",
   "execution_count": 31,
   "id": "broad-defensive",
   "metadata": {},
   "outputs": [],
   "source": [
    "# 디코더 하나의 레이어를 함수로 구현.\n",
    "# 이 하나의 레이어 안에는 세 개의 서브 레이어가 존재합니다.\n",
    "def decoder_layer(units, d_model, num_heads, dropout, name=\"decoder_layer\"):\n",
    "    inputs = tf.keras.Input(shape=(None, d_model), name=\"inputs\")\n",
    "    enc_outputs = tf.keras.Input(shape=(None, d_model), name=\"encoder_outputs\")\n",
    "    look_ahead_mask = tf.keras.Input(\n",
    "      shape=(1, None, None), name=\"look_ahead_mask\")\n",
    "    padding_mask = tf.keras.Input(shape=(1, 1, None), name='padding_mask')\n",
    "\n",
    "    # 첫 번째 서브 레이어 : 멀티 헤드 어텐션 수행 (셀프 어텐션)\n",
    "    attention1 = MultiHeadAttention(\n",
    "      d_model, num_heads, name=\"attention_1\")(inputs={\n",
    "          'query': inputs,\n",
    "          'key': inputs,\n",
    "          'value': inputs,\n",
    "          'mask': look_ahead_mask\n",
    "      })\n",
    "\n",
    "    # 멀티 헤드 어텐션의 결과는 LayerNormalization이라는 훈련을 돕는 테크닉을 수행\n",
    "    attention1 = tf.keras.layers.LayerNormalization(\n",
    "      epsilon=1e-6)(attention1 + inputs)\n",
    "\n",
    "    # 두 번째 서브 레이어 : 마스크드 멀티 헤드 어텐션 수행 (인코더-디코더 어텐션)\n",
    "    attention2 = MultiHeadAttention(\n",
    "      d_model, num_heads, name=\"attention_2\")(inputs={\n",
    "          'query': attention1,\n",
    "          'key': enc_outputs,\n",
    "          'value': enc_outputs,\n",
    "          'mask': padding_mask\n",
    "      })\n",
    "\n",
    "    # 마스크드 멀티 헤드 어텐션의 결과는\n",
    "    # Dropout과 LayerNormalization이라는 훈련을 돕는 테크닉을 수행\n",
    "    attention2 = tf.keras.layers.Dropout(rate=dropout)(attention2)\n",
    "    attention2 = tf.keras.layers.LayerNormalization(\n",
    "      epsilon=1e-6)(attention2 + attention1)\n",
    "\n",
    "    # 세 번째 서브 레이어 : 2개의 완전연결층\n",
    "    outputs = tf.keras.layers.Dense(units=units, activation='relu')(attention2)\n",
    "    outputs = tf.keras.layers.Dense(units=d_model)(outputs)\n",
    "\n",
    "    # 완전연결층의 결과는 Dropout과 LayerNormalization 수행\n",
    "    outputs = tf.keras.layers.Dropout(rate=dropout)(outputs)\n",
    "    outputs = tf.keras.layers.LayerNormalization(\n",
    "      epsilon=1e-6)(outputs + attention2)\n",
    "\n",
    "    return tf.keras.Model(\n",
    "      inputs=[inputs, enc_outputs, look_ahead_mask, padding_mask],\n",
    "      outputs=outputs,\n",
    "      name=name)"
   ]
  },
  {
   "cell_type": "markdown",
   "id": "apparent-greeting",
   "metadata": {},
   "source": [
    "## 5-4. 디코더 생성"
   ]
  },
  {
   "cell_type": "markdown",
   "id": "industrial-rebel",
   "metadata": {},
   "source": [
    "- 임베딩 레이어와 포지셔널 인코딩 이후에 앞서 생성한 디코더 층 생성 함수를 이용해 디코더 층 여러개를 이어붙인다."
   ]
  },
  {
   "cell_type": "code",
   "execution_count": 32,
   "id": "specified-syndrome",
   "metadata": {},
   "outputs": [],
   "source": [
    "def decoder(vocab_size,\n",
    "            num_layers,\n",
    "            units,\n",
    "            d_model,\n",
    "            num_heads,\n",
    "            dropout,\n",
    "            name='decoder'):\n",
    "    inputs = tf.keras.Input(shape=(None,), name='inputs')\n",
    "    enc_outputs = tf.keras.Input(shape=(None, d_model), name='encoder_outputs')\n",
    "    look_ahead_mask = tf.keras.Input(\n",
    "      shape=(1, None, None), name='look_ahead_mask')\n",
    "\n",
    "    # 패딩 마스크\n",
    "    padding_mask = tf.keras.Input(shape=(1, 1, None), name='padding_mask')\n",
    "\n",
    "    # 임베딩 레이어\n",
    "    embeddings = tf.keras.layers.Embedding(vocab_size, d_model)(inputs)\n",
    "    embeddings *= tf.math.sqrt(tf.cast(d_model, tf.float32))\n",
    "\n",
    "    # 포지셔널 인코딩\n",
    "    embeddings = PositionalEncoding(vocab_size, d_model)(embeddings)\n",
    "\n",
    "    # Dropout이라는 훈련을 돕는 테크닉을 수행\n",
    "    outputs = tf.keras.layers.Dropout(rate=dropout)(embeddings)\n",
    "\n",
    "    for i in range(num_layers):\n",
    "        outputs = decoder_layer(\n",
    "            units=units,\n",
    "            d_model=d_model,\n",
    "            num_heads=num_heads,\n",
    "            dropout=dropout,\n",
    "            name='decoder_layer_{}'.format(i),\n",
    "        )(inputs=[outputs, enc_outputs, look_ahead_mask, padding_mask])\n",
    "\n",
    "    return tf.keras.Model(\n",
    "      inputs=[inputs, enc_outputs, look_ahead_mask, padding_mask],\n",
    "      outputs=outputs,\n",
    "      name=name)"
   ]
  },
  {
   "cell_type": "markdown",
   "id": "unknown-bulgarian",
   "metadata": {},
   "source": [
    "## 5-5. 모델 정의"
   ]
  },
  {
   "cell_type": "code",
   "execution_count": 33,
   "id": "quick-friendship",
   "metadata": {},
   "outputs": [],
   "source": [
    "def transformer(vocab_size,\n",
    "                num_layers,\n",
    "                units,\n",
    "                d_model,\n",
    "                num_heads,\n",
    "                dropout,\n",
    "                name=\"transformer\"):\n",
    "    inputs = tf.keras.Input(shape=(None,), name=\"inputs\")\n",
    "    dec_inputs = tf.keras.Input(shape=(None,), name=\"dec_inputs\")\n",
    "\n",
    "    # 인코더에서 패딩을 위한 마스크\n",
    "    enc_padding_mask = tf.keras.layers.Lambda(\n",
    "      create_padding_mask, output_shape=(1, 1, None),\n",
    "      name='enc_padding_mask')(inputs)\n",
    "\n",
    "    # 디코더에서 미래의 토큰을 마스크 하기 위해서 사용합니다.\n",
    "    # 내부적으로 패딩 마스크도 포함되어져 있습니다.\n",
    "    look_ahead_mask = tf.keras.layers.Lambda(\n",
    "      create_look_ahead_mask,\n",
    "      output_shape=(1, None, None),\n",
    "      name='look_ahead_mask')(dec_inputs)\n",
    "\n",
    "    # 두 번째 어텐션 블록에서 인코더의 벡터들을 마스킹\n",
    "    # 디코더에서 패딩을 위한 마스크\n",
    "    dec_padding_mask = tf.keras.layers.Lambda(\n",
    "      create_padding_mask, output_shape=(1, 1, None),\n",
    "      name='dec_padding_mask')(inputs)\n",
    "\n",
    "    # 인코더\n",
    "    enc_outputs = encoder(\n",
    "      vocab_size=vocab_size,\n",
    "      num_layers=num_layers,\n",
    "      units=units,\n",
    "      d_model=d_model,\n",
    "      num_heads=num_heads,\n",
    "      dropout=dropout,\n",
    "    )(inputs=[inputs, enc_padding_mask])\n",
    "\n",
    "    # 디코더\n",
    "    dec_outputs = decoder(\n",
    "      vocab_size=vocab_size,\n",
    "      num_layers=num_layers,\n",
    "      units=units,\n",
    "      d_model=d_model,\n",
    "      num_heads=num_heads,\n",
    "      dropout=dropout,\n",
    "    )(inputs=[dec_inputs, enc_outputs, look_ahead_mask, dec_padding_mask])\n",
    "\n",
    "    # 완전연결층\n",
    "    outputs = tf.keras.layers.Dense(units=vocab_size, name=\"outputs\")(dec_outputs)\n",
    "\n",
    "    return tf.keras.Model(inputs=[inputs, dec_inputs], outputs=outputs, name=name)"
   ]
  },
  {
   "cell_type": "markdown",
   "id": "neural-implementation",
   "metadata": {},
   "source": [
    "## 5-6. 모델 생성"
   ]
  },
  {
   "cell_type": "code",
   "execution_count": 34,
   "id": "virgin-passion",
   "metadata": {},
   "outputs": [
    {
     "name": "stdout",
     "output_type": "stream",
     "text": [
      "Model: \"transformer\"\n",
      "__________________________________________________________________________________________________\n",
      "Layer (type)                    Output Shape         Param #     Connected to                     \n",
      "==================================================================================================\n",
      "inputs (InputLayer)             [(None, None)]       0                                            \n",
      "__________________________________________________________________________________________________\n",
      "dec_inputs (InputLayer)         [(None, None)]       0                                            \n",
      "__________________________________________________________________________________________________\n",
      "enc_padding_mask (Lambda)       (None, 1, 1, None)   0           inputs[0][0]                     \n",
      "__________________________________________________________________________________________________\n",
      "encoder (Functional)            (None, None, 256)    3143168     inputs[0][0]                     \n",
      "                                                                 enc_padding_mask[0][0]           \n",
      "__________________________________________________________________________________________________\n",
      "look_ahead_mask (Lambda)        (None, 1, None, None 0           dec_inputs[0][0]                 \n",
      "__________________________________________________________________________________________________\n",
      "dec_padding_mask (Lambda)       (None, 1, 1, None)   0           inputs[0][0]                     \n",
      "__________________________________________________________________________________________________\n",
      "decoder (Functional)            (None, None, 256)    3670528     dec_inputs[0][0]                 \n",
      "                                                                 encoder[0][0]                    \n",
      "                                                                 look_ahead_mask[0][0]            \n",
      "                                                                 dec_padding_mask[0][0]           \n",
      "__________________________________________________________________________________________________\n",
      "outputs (Dense)                 (None, None, 8160)   2097120     decoder[0][0]                    \n",
      "==================================================================================================\n",
      "Total params: 8,910,816\n",
      "Trainable params: 8,910,816\n",
      "Non-trainable params: 0\n",
      "__________________________________________________________________________________________________\n"
     ]
    }
   ],
   "source": [
    "tf.keras.backend.clear_session()\n",
    "\n",
    "# 하이퍼파라미터\n",
    "NUM_LAYERS = 2 # 인코더와 디코더의 층의 개수\n",
    "D_MODEL = 256 # 인코더와 디코더 내부의 입, 출력의 고정 차원\n",
    "NUM_HEADS = 8 # 멀티 헤드 어텐션에서의 헤드 수 \n",
    "UNITS = 512 # 피드 포워드 신경망의 은닉층의 크기\n",
    "DROPOUT = 0.1 # 드롭아웃의 비율\n",
    "\n",
    "model = transformer(\n",
    "    vocab_size=VOCAB_SIZE,\n",
    "    num_layers=NUM_LAYERS,\n",
    "    units=UNITS,\n",
    "    d_model=D_MODEL,\n",
    "    num_heads=NUM_HEADS,\n",
    "    dropout=DROPOUT)\n",
    "\n",
    "model.summary()"
   ]
  },
  {
   "cell_type": "markdown",
   "id": "infrared-index",
   "metadata": {},
   "source": [
    "## 5-7. 손실 함수"
   ]
  },
  {
   "cell_type": "code",
   "execution_count": 35,
   "id": "familiar-spotlight",
   "metadata": {},
   "outputs": [],
   "source": [
    "def loss_function(y_true, y_pred):\n",
    "    y_true = tf.reshape(y_true, shape=(-1, MAX_LENGTH - 1))\n",
    "\n",
    "    loss = tf.keras.losses.SparseCategoricalCrossentropy(\n",
    "      from_logits=True, reduction='none')(y_true, y_pred)\n",
    "\n",
    "    mask = tf.cast(tf.not_equal(y_true, 0), tf.float32)\n",
    "    loss = tf.multiply(loss, mask)\n",
    "\n",
    "    return tf.reduce_mean(loss)"
   ]
  },
  {
   "cell_type": "markdown",
   "id": "burning-texture",
   "metadata": {},
   "source": [
    "## 5-8. 커스텀 된 학습률"
   ]
  },
  {
   "cell_type": "markdown",
   "id": "traditional-showcase",
   "metadata": {},
   "source": [
    "- 초반에 학습률을 크게 설정했다가 점점 학습이 진행되면서 train step이 증가할 수록 학습률을 서서히 낮추는 커스텀 학습률 스케쥴링 방법을 사용하자."
   ]
  },
  {
   "cell_type": "code",
   "execution_count": 36,
   "id": "photographic-fighter",
   "metadata": {},
   "outputs": [],
   "source": [
    "class CustomSchedule(tf.keras.optimizers.schedules.LearningRateSchedule):\n",
    "\n",
    "    def __init__(self, d_model, warmup_steps=4000):\n",
    "        super(CustomSchedule, self).__init__()\n",
    "\n",
    "        self.d_model = d_model\n",
    "        self.d_model = tf.cast(self.d_model, tf.float32)\n",
    "\n",
    "        self.warmup_steps = warmup_steps\n",
    "\n",
    "    def __call__(self, step):\n",
    "        arg1 = tf.math.rsqrt(step)\n",
    "        arg2 = step * (self.warmup_steps**-1.5)\n",
    "\n",
    "        return tf.math.rsqrt(self.d_model) * tf.math.minimum(arg1, arg2)"
   ]
  },
  {
   "cell_type": "markdown",
   "id": "streaming-dressing",
   "metadata": {},
   "source": [
    "- 시각화"
   ]
  },
  {
   "cell_type": "code",
   "execution_count": 37,
   "id": "numerical-karaoke",
   "metadata": {
    "scrolled": true
   },
   "outputs": [
    {
     "data": {
      "text/plain": [
       "Text(0.5, 0, 'Train Step')"
      ]
     },
     "execution_count": 37,
     "metadata": {},
     "output_type": "execute_result"
    },
    {
     "data": {
      "image/png": "[encoded data removed]",
      "text/plain": [
       "<Figure size 432x288 with 1 Axes>"
      ]
     },
     "metadata": {
      "needs_background": "light"
     },
     "output_type": "display_data"
    }
   ],
   "source": [
    "sample_learning_rate = CustomSchedule(d_model=128)\n",
    "\n",
    "plt.plot(sample_learning_rate(tf.range(200000, dtype=tf.float32)))\n",
    "plt.ylabel(\"Learning Rate\")\n",
    "plt.xlabel(\"Train Step\")"
   ]
  },
  {
   "cell_type": "markdown",
   "id": "handmade-region",
   "metadata": {},
   "source": [
    "## 5-9. 모델 컴파일"
   ]
  },
  {
   "cell_type": "code",
   "execution_count": 38,
   "id": "lesbian-input",
   "metadata": {},
   "outputs": [],
   "source": [
    "learning_rate = CustomSchedule(D_MODEL)\n",
    "\n",
    "optimizer = tf.keras.optimizers.Adam(\n",
    "    learning_rate, beta_1=0.9, beta_2=0.98, epsilon=1e-9)\n",
    "\n",
    "def accuracy(y_true, y_pred):\n",
    "    y_true = tf.reshape(y_true, shape=(-1, MAX_LENGTH - 1))\n",
    "    return tf.keras.metrics.sparse_categorical_accuracy(y_true, y_pred)\n",
    "\n",
    "model.compile(optimizer=optimizer, loss=loss_function, metrics=[accuracy])"
   ]
  },
  {
   "cell_type": "markdown",
   "id": "international-resource",
   "metadata": {},
   "source": [
    "## 5-10. 훈련"
   ]
  },
  {
   "cell_type": "code",
   "execution_count": 39,
   "id": "binary-shirt",
   "metadata": {},
   "outputs": [
    {
     "name": "stdout",
     "output_type": "stream",
     "text": [
      "Epoch 1/20\n",
      "181/181 [==============================] - 41s 182ms/step - loss: 4.1404 - accuracy: 0.0456\n",
      "Epoch 2/20\n",
      "181/181 [==============================] - 38s 208ms/step - loss: 3.3750 - accuracy: 0.1374\n",
      "Epoch 3/20\n",
      "181/181 [==============================] - 38s 211ms/step - loss: 2.8006 - accuracy: 0.1398\n",
      "Epoch 4/20\n",
      "181/181 [==============================] - 37s 207ms/step - loss: 2.5475 - accuracy: 0.1476\n",
      "Epoch 5/20\n",
      "181/181 [==============================] - 39s 214ms/step - loss: 2.3641 - accuracy: 0.1577\n",
      "Epoch 6/20\n",
      "181/181 [==============================] - 38s 208ms/step - loss: 2.2270 - accuracy: 0.1679\n",
      "Epoch 7/20\n",
      "181/181 [==============================] - 37s 203ms/step - loss: 2.0440 - accuracy: 0.1835\n",
      "Epoch 8/20\n",
      "181/181 [==============================] - 38s 208ms/step - loss: 1.8323 - accuracy: 0.2039\n",
      "Epoch 9/20\n",
      "181/181 [==============================] - 39s 218ms/step - loss: 1.6345 - accuracy: 0.2299\n",
      "Epoch 10/20\n",
      "181/181 [==============================] - 38s 212ms/step - loss: 1.3898 - accuracy: 0.2539\n",
      "Epoch 11/20\n",
      "181/181 [==============================] - 39s 216ms/step - loss: 1.1736 - accuracy: 0.2847\n",
      "Epoch 12/20\n",
      "181/181 [==============================] - 39s 213ms/step - loss: 0.9451 - accuracy: 0.3138\n",
      "Epoch 13/20\n",
      "181/181 [==============================] - 40s 222ms/step - loss: 0.7382 - accuracy: 0.3472\n",
      "Epoch 14/20\n",
      "181/181 [==============================] - 48s 266ms/step - loss: 0.5536 - accuracy: 0.3751\n",
      "Epoch 15/20\n",
      "181/181 [==============================] - 50s 278ms/step - loss: 0.3948 - accuracy: 0.4047\n",
      "Epoch 16/20\n",
      "181/181 [==============================] - 50s 274ms/step - loss: 0.2771 - accuracy: 0.4244\n",
      "Epoch 17/20\n",
      "181/181 [==============================] - 49s 272ms/step - loss: 0.1922 - accuracy: 0.4401\n",
      "Epoch 18/20\n",
      "181/181 [==============================] - 51s 280ms/step - loss: 0.1384 - accuracy: 0.4512\n",
      "Epoch 19/20\n",
      "181/181 [==============================] - 49s 269ms/step - loss: 0.1141 - accuracy: 0.4493\n",
      "Epoch 20/20\n",
      "181/181 [==============================] - 51s 282ms/step - loss: 0.0996 - accuracy: 0.4543\n"
     ]
    },
    {
     "data": {
      "text/plain": [
       "<tensorflow.python.keras.callbacks.History at 0x7fca06469490>"
      ]
     },
     "execution_count": 39,
     "metadata": {},
     "output_type": "execute_result"
    }
   ],
   "source": [
    "EPOCHS = 20\n",
    "model.fit(dataset, epochs=EPOCHS, verbose=1)"
   ]
  },
  {
   "cell_type": "markdown",
   "id": "remarkable-combination",
   "metadata": {},
   "source": [
    "- loss가 안정적으로 수렴하는 모습을 볼 수 있다."
   ]
  },
  {
   "cell_type": "markdown",
   "id": "favorite-stick",
   "metadata": {},
   "source": [
    "# step6) 모델 평가하기\n",
    "- 입력 문장에 대한 대답을 생성하는 예측 함수를 만들자"
   ]
  },
  {
   "cell_type": "code",
   "execution_count": 40,
   "id": "isolated-bernard",
   "metadata": {},
   "outputs": [],
   "source": [
    "def decoder_inference(sentence):\n",
    "  sentence = preprocess_sentence(sentence)\n",
    "\n",
    "  # 입력된 문장을 정수 인코딩 후, 시작 토큰과 종료 토큰을 앞뒤로 추가.\n",
    "  sentence = tf.expand_dims(\n",
    "      START_TOKEN + tokenizer.encode(sentence) + END_TOKEN, axis=0)\n",
    "\n",
    "  # 디코더의 현재까지의 예측한 출력 시퀀스가 지속적으로 저장되는 변수.\n",
    "  # 처음에는 예측한 내용이 없으므로 시작 토큰만 별도 저장.\n",
    "  output_sequence = tf.expand_dims(START_TOKEN, 0)\n",
    "\n",
    "  # 디코더의 인퍼런스 단계\n",
    "  for i in range(MAX_LENGTH):\n",
    "    # 디코더는 최대 MAX_LENGTH의 길이만큼 다음 단어 예측을 반복합니다.\n",
    "    predictions = model(inputs=[sentence, output_sequence], training=False)\n",
    "    predictions = predictions[:, -1:, :]\n",
    "\n",
    "    # 현재 예측한 단어의 정수\n",
    "    predicted_id = tf.cast(tf.argmax(predictions, axis=-1), tf.int32)\n",
    "\n",
    "    # 만약 현재 예측한 단어가 종료 토큰이라면 for문을 종료\n",
    "    if tf.equal(predicted_id, END_TOKEN[0]):\n",
    "      break\n",
    "\n",
    "    # 예측한 단어들은 지속적으로 output_sequence에 추가됩니다.\n",
    "    # 이 output_sequence는 다시 디코더의 입력이 됩니다.\n",
    "    output_sequence = tf.concat([output_sequence, predicted_id], axis=-1)\n",
    "\n",
    "  return tf.squeeze(output_sequence, axis=0)"
   ]
  },
  {
   "cell_type": "code",
   "execution_count": 41,
   "id": "toxic-injection",
   "metadata": {},
   "outputs": [],
   "source": [
    "def sentence_generation(sentence):\n",
    "  # 입력 문장에 대해서 디코더를 동작 시켜 예측된 정수 시퀀스를 리턴받습니다.\n",
    "  prediction = decoder_inference(sentence)\n",
    "\n",
    "  # 정수 시퀀스를 다시 텍스트 시퀀스로 변환합니다.\n",
    "  predicted_sentence = tokenizer.decode(\n",
    "      [i for i in prediction if i < tokenizer.vocab_size])\n",
    "\n",
    "  print('입력 : {}'.format(sentence))\n",
    "  print('출력 : {}'.format(predicted_sentence))\n",
    "\n",
    "  return predicted_sentence"
   ]
  },
  {
   "cell_type": "code",
   "execution_count": 42,
   "id": "hourly-smoke",
   "metadata": {},
   "outputs": [
    {
     "name": "stdout",
     "output_type": "stream",
     "text": [
      "입력 : 졸리다.\n",
      "출력 : 잠을 깨요 ! 기운 내요 ! !\n"
     ]
    },
    {
     "data": {
      "text/plain": [
       "'잠을 깨요 ! 기운 내요 ! !'"
      ]
     },
     "execution_count": 42,
     "metadata": {},
     "output_type": "execute_result"
    }
   ],
   "source": [
    "sentence_generation('졸리다.')"
   ]
  },
  {
   "cell_type": "code",
   "execution_count": 43,
   "id": "settled-house",
   "metadata": {},
   "outputs": [
    {
     "name": "stdout",
     "output_type": "stream",
     "text": [
      "입력 : 배고파 죽겠어\n",
      "출력 : 얼른 뭐라도 드세요 .\n"
     ]
    },
    {
     "data": {
      "text/plain": [
       "'얼른 뭐라도 드세요 .'"
      ]
     },
     "execution_count": 43,
     "metadata": {},
     "output_type": "execute_result"
    }
   ],
   "source": [
    "sentence_generation('배고파 죽겠어')"
   ]
  },
  {
   "cell_type": "code",
   "execution_count": 44,
   "id": "upper-weekend",
   "metadata": {},
   "outputs": [
    {
     "name": "stdout",
     "output_type": "stream",
     "text": [
      "입력 : 배고파 죽겠다\n",
      "출력 : 얼른 맛난 음식 드세요 .\n"
     ]
    },
    {
     "data": {
      "text/plain": [
       "'얼른 맛난 음식 드세요 .'"
      ]
     },
     "execution_count": 44,
     "metadata": {},
     "output_type": "execute_result"
    }
   ],
   "source": [
    "sentence_generation('배고파 죽겠다')"
   ]
  },
  {
   "cell_type": "code",
   "execution_count": 163,
   "id": "described-jamaica",
   "metadata": {},
   "outputs": [
    {
     "name": "stdout",
     "output_type": "stream",
     "text": [
      "입력 : 합격했어!\n",
      "출력 : 좋은 사회생활의 밑거름이 되길 바랍니다 .\n"
     ]
    },
    {
     "data": {
      "text/plain": [
       "'좋은 사회생활의 밑거름이 되길 바랍니다 .'"
      ]
     },
     "execution_count": 163,
     "metadata": {},
     "output_type": "execute_result"
    }
   ],
   "source": [
    "sentence_generation('합격했어!')"
   ]
  },
  {
   "cell_type": "code",
   "execution_count": 47,
   "id": "driving-fifty",
   "metadata": {
    "scrolled": true
   },
   "outputs": [
    {
     "name": "stdout",
     "output_type": "stream",
     "text": [
      "입력 : 내일 기말고사야\n",
      "출력 : 좋은 결과 있을 거예요 .\n"
     ]
    },
    {
     "data": {
      "text/plain": [
       "'좋은 결과 있을 거예요 .'"
      ]
     },
     "execution_count": 47,
     "metadata": {},
     "output_type": "execute_result"
    }
   ],
   "source": [
    "sentence_generation('내일 기말고사야')"
   ]
  },
  {
   "cell_type": "code",
   "execution_count": 48,
   "id": "realistic-showcase",
   "metadata": {},
   "outputs": [
    {
     "name": "stdout",
     "output_type": "stream",
     "text": [
      "입력 : 놀고 싶어\n",
      "출력 : 저도요 . 제일 편한거 같아요 .\n"
     ]
    },
    {
     "data": {
      "text/plain": [
       "'저도요 . 제일 편한거 같아요 .'"
      ]
     },
     "execution_count": 48,
     "metadata": {},
     "output_type": "execute_result"
    }
   ],
   "source": [
    "sentence_generation('놀고 싶어')"
   ]
  },
  {
   "cell_type": "code",
   "execution_count": 49,
   "id": "compound-affairs",
   "metadata": {},
   "outputs": [
    {
     "name": "stdout",
     "output_type": "stream",
     "text": [
      "입력 : 심심해\n",
      "출력 : 친구들과 연락해보세요 .\n"
     ]
    },
    {
     "data": {
      "text/plain": [
       "'친구들과 연락해보세요 .'"
      ]
     },
     "execution_count": 49,
     "metadata": {},
     "output_type": "execute_result"
    }
   ],
   "source": [
    "sentence_generation('심심해')"
   ]
  },
  {
   "cell_type": "code",
   "execution_count": 50,
   "id": "amber-paper",
   "metadata": {},
   "outputs": [
    {
     "name": "stdout",
     "output_type": "stream",
     "text": [
      "입력 : 심심하다고\n",
      "출력 : 친구들과 연락해보세요 .\n"
     ]
    },
    {
     "data": {
      "text/plain": [
       "'친구들과 연락해보세요 .'"
      ]
     },
     "execution_count": 50,
     "metadata": {},
     "output_type": "execute_result"
    }
   ],
   "source": [
    "sentence_generation('심심하다고')"
   ]
  },
  {
   "cell_type": "markdown",
   "id": "incomplete-packaging",
   "metadata": {},
   "source": [
    "- 띄어쓰기가 달라도 특이한 주요 키워드가 포함되어있으면 똑같은 답변을 내놓는다."
   ]
  },
  {
   "cell_type": "code",
   "execution_count": 56,
   "id": "informed-somewhere",
   "metadata": {
    "scrolled": true
   },
   "outputs": [
    {
     "name": "stdout",
     "output_type": "stream",
     "text": [
      "입력 : 교직이수 하고 싶어\n",
      "출력 : 학점 관리하세요 .\n"
     ]
    },
    {
     "data": {
      "text/plain": [
       "'학점 관리하세요 .'"
      ]
     },
     "execution_count": 56,
     "metadata": {},
     "output_type": "execute_result"
    }
   ],
   "source": [
    "sentence_generation('교직이수 하고 싶어')"
   ]
  },
  {
   "cell_type": "code",
   "execution_count": 57,
   "id": "interested-budget",
   "metadata": {
    "scrolled": true
   },
   "outputs": [
    {
     "name": "stdout",
     "output_type": "stream",
     "text": [
      "입력 : 교직이수 하고싶어\n",
      "출력 : 학점 관리하세요 .\n"
     ]
    },
    {
     "data": {
      "text/plain": [
       "'학점 관리하세요 .'"
      ]
     },
     "execution_count": 57,
     "metadata": {},
     "output_type": "execute_result"
    }
   ],
   "source": [
    "sentence_generation('교직이수 하고싶어')"
   ]
  },
  {
   "cell_type": "code",
   "execution_count": 175,
   "id": "adjusted-portfolio",
   "metadata": {
    "scrolled": true
   },
   "outputs": [
    {
     "name": "stdout",
     "output_type": "stream",
     "text": [
      "입력 : 교직이수 하기 싫어\n",
      "출력 : 학점 관리하세요 .\n"
     ]
    },
    {
     "data": {
      "text/plain": [
       "'학점 관리하세요 .'"
      ]
     },
     "execution_count": 175,
     "metadata": {},
     "output_type": "execute_result"
    }
   ],
   "source": [
    "sentence_generation('교직이수 하기 싫어')"
   ]
  },
  {
   "cell_type": "code",
   "execution_count": 59,
   "id": "german-silence",
   "metadata": {},
   "outputs": [
    {
     "name": "stdout",
     "output_type": "stream",
     "text": [
      "입력 : 재밌는 거 뭐 없을까\n",
      "출력 : 제가 있잖아요 .\n"
     ]
    },
    {
     "data": {
      "text/plain": [
       "'제가 있잖아요 .'"
      ]
     },
     "execution_count": 59,
     "metadata": {},
     "output_type": "execute_result"
    }
   ],
   "source": [
    "sentence_generation('재밌는 거 뭐 없을까')"
   ]
  },
  {
   "cell_type": "code",
   "execution_count": 60,
   "id": "ideal-surface",
   "metadata": {},
   "outputs": [
    {
     "name": "stdout",
     "output_type": "stream",
     "text": [
      "입력 : 맛집 알려줘\n",
      "출력 : 벌써 먹고 싶어요 .\n"
     ]
    },
    {
     "data": {
      "text/plain": [
       "'벌써 먹고 싶어요 .'"
      ]
     },
     "execution_count": 60,
     "metadata": {},
     "output_type": "execute_result"
    }
   ],
   "source": [
    "sentence_generation('맛집 알려줘')"
   ]
  },
  {
   "cell_type": "code",
   "execution_count": 62,
   "id": "alone-flash",
   "metadata": {
    "scrolled": true
   },
   "outputs": [
    {
     "name": "stdout",
     "output_type": "stream",
     "text": [
      "입력 : 졸려\n",
      "출력 : 오늘 일찍 주무세요 .\n"
     ]
    },
    {
     "data": {
      "text/plain": [
       "'오늘 일찍 주무세요 .'"
      ]
     },
     "execution_count": 62,
     "metadata": {},
     "output_type": "execute_result"
    }
   ],
   "source": [
    "sentence_generation('졸려')"
   ]
  },
  {
   "cell_type": "code",
   "execution_count": 63,
   "id": "trained-interference",
   "metadata": {
    "scrolled": false
   },
   "outputs": [
    {
     "name": "stdout",
     "output_type": "stream",
     "text": [
      "입력 : 치킨 먹고 싶어\n",
      "출력 : 맛있게 드세요 .\n"
     ]
    },
    {
     "data": {
      "text/plain": [
       "'맛있게 드세요 .'"
      ]
     },
     "execution_count": 63,
     "metadata": {},
     "output_type": "execute_result"
    }
   ],
   "source": [
    "sentence_generation('치킨 먹고 싶어')"
   ]
  },
  {
   "cell_type": "code",
   "execution_count": 64,
   "id": "prospective-arrow",
   "metadata": {},
   "outputs": [
    {
     "name": "stdout",
     "output_type": "stream",
     "text": [
      "입력 : 허리 아파\n",
      "출력 : 운동 해보는 것도 좋을 거예요 .\n"
     ]
    },
    {
     "data": {
      "text/plain": [
       "'운동 해보는 것도 좋을 거예요 .'"
      ]
     },
     "execution_count": 64,
     "metadata": {},
     "output_type": "execute_result"
    }
   ],
   "source": [
    "sentence_generation('허리 아파')"
   ]
  },
  {
   "cell_type": "code",
   "execution_count": 65,
   "id": "parallel-nutrition",
   "metadata": {
    "scrolled": true
   },
   "outputs": [
    {
     "name": "stdout",
     "output_type": "stream",
     "text": [
      "입력 : 마카롱 먹고 싶어\n",
      "출력 : 비싸지만 맛있어요 .\n"
     ]
    },
    {
     "data": {
      "text/plain": [
       "'비싸지만 맛있어요 .'"
      ]
     },
     "execution_count": 65,
     "metadata": {},
     "output_type": "execute_result"
    }
   ],
   "source": [
    "sentence_generation('마카롱 먹고 싶어')"
   ]
  },
  {
   "cell_type": "code",
   "execution_count": 95,
   "id": "micro-commerce",
   "metadata": {},
   "outputs": [
    {
     "name": "stdout",
     "output_type": "stream",
     "text": [
      "입력 : 꺼져\n",
      "출력 : 충전하고 만나요 .\n"
     ]
    },
    {
     "data": {
      "text/plain": [
       "'충전하고 만나요 .'"
      ]
     },
     "execution_count": 95,
     "metadata": {},
     "output_type": "execute_result"
    }
   ],
   "source": [
    "sentence_generation('꺼져')"
   ]
  },
  {
   "cell_type": "code",
   "execution_count": 67,
   "id": "textile-judges",
   "metadata": {},
   "outputs": [
    {
     "name": "stdout",
     "output_type": "stream",
     "text": [
      "입력 : 어떻게 나한테 이래\n",
      "출력 : 힘들만해요 .\n"
     ]
    },
    {
     "data": {
      "text/plain": [
       "'힘들만해요 .'"
      ]
     },
     "execution_count": 67,
     "metadata": {},
     "output_type": "execute_result"
    }
   ],
   "source": [
    "sentence_generation('어떻게 나한테 이래')"
   ]
  },
  {
   "cell_type": "code",
   "execution_count": 69,
   "id": "persistent-tulsa",
   "metadata": {},
   "outputs": [
    {
     "name": "stdout",
     "output_type": "stream",
     "text": [
      "입력 : 피자 먹고 싶어\n",
      "출력 : 같이 먹어주죠 .\n"
     ]
    },
    {
     "data": {
      "text/plain": [
       "'같이 먹어주죠 .'"
      ]
     },
     "execution_count": 69,
     "metadata": {},
     "output_type": "execute_result"
    }
   ],
   "source": [
    "sentence_generation('피자 먹고 싶어')"
   ]
  },
  {
   "cell_type": "code",
   "execution_count": 100,
   "id": "residential-simple",
   "metadata": {},
   "outputs": [
    {
     "name": "stdout",
     "output_type": "stream",
     "text": [
      "입력 : 나 내일 시험이야\n",
      "출력 : 컨디션 조절 하세요 .\n"
     ]
    },
    {
     "data": {
      "text/plain": [
       "'컨디션 조절 하세요 .'"
      ]
     },
     "execution_count": 100,
     "metadata": {},
     "output_type": "execute_result"
    }
   ],
   "source": [
    "sentence_generation('나 내일 시험이야')"
   ]
  },
  {
   "cell_type": "code",
   "execution_count": 165,
   "id": "packed-safety",
   "metadata": {},
   "outputs": [
    {
     "name": "stdout",
     "output_type": "stream",
     "text": [
      "입력 : 비가 엄청 온다\n",
      "출력 : 비 맞으면 안돼요 !\n"
     ]
    },
    {
     "data": {
      "text/plain": [
       "'비 맞으면 안돼요 !'"
      ]
     },
     "execution_count": 165,
     "metadata": {},
     "output_type": "execute_result"
    }
   ],
   "source": [
    "sentence_generation('비가 엄청 온다')"
   ]
  },
  {
   "cell_type": "code",
   "execution_count": 72,
   "id": "flexible-charm",
   "metadata": {},
   "outputs": [
    {
     "name": "stdout",
     "output_type": "stream",
     "text": [
      "입력 : 뭔가 술이 땡기네\n",
      "출력 : 혹시 전화를 한 건 아니길 바랍니다 .\n"
     ]
    },
    {
     "data": {
      "text/plain": [
       "'혹시 전화를 한 건 아니길 바랍니다 .'"
      ]
     },
     "execution_count": 72,
     "metadata": {},
     "output_type": "execute_result"
    }
   ],
   "source": [
    "sentence_generation('뭔가 술이 땡기네')"
   ]
  },
  {
   "cell_type": "code",
   "execution_count": 73,
   "id": "heavy-private",
   "metadata": {},
   "outputs": [
    {
     "name": "stdout",
     "output_type": "stream",
     "text": [
      "입력 : 술 마시고 싶다\n",
      "출력 : 저랑 한 잔 해요 .\n"
     ]
    },
    {
     "data": {
      "text/plain": [
       "'저랑 한 잔 해요 .'"
      ]
     },
     "execution_count": 73,
     "metadata": {},
     "output_type": "execute_result"
    }
   ],
   "source": [
    "sentence_generation('술 마시고 싶다')"
   ]
  },
  {
   "cell_type": "code",
   "execution_count": 76,
   "id": "general-control",
   "metadata": {},
   "outputs": [
    {
     "name": "stdout",
     "output_type": "stream",
     "text": [
      "입력 : 카페인 중독인가봐\n",
      "출력 : 핑계예요 .\n"
     ]
    },
    {
     "data": {
      "text/plain": [
       "'핑계예요 .'"
      ]
     },
     "execution_count": 76,
     "metadata": {},
     "output_type": "execute_result"
    }
   ],
   "source": [
    "sentence_generation('카페인 중독인가봐')"
   ]
  },
  {
   "cell_type": "code",
   "execution_count": 77,
   "id": "endless-detail",
   "metadata": {
    "scrolled": true
   },
   "outputs": [
    {
     "name": "stdout",
     "output_type": "stream",
     "text": [
      "입력 : 꿀꿀하네\n",
      "출력 : 더 괜찮아 지려고 하는 과정일 거예요 .\n"
     ]
    },
    {
     "data": {
      "text/plain": [
       "'더 괜찮아 지려고 하는 과정일 거예요 .'"
      ]
     },
     "execution_count": 77,
     "metadata": {},
     "output_type": "execute_result"
    }
   ],
   "source": [
    "sentence_generation('꿀꿀하네')"
   ]
  },
  {
   "cell_type": "code",
   "execution_count": 78,
   "id": "widespread-transition",
   "metadata": {
    "scrolled": true
   },
   "outputs": [
    {
     "name": "stdout",
     "output_type": "stream",
     "text": [
      "입력 : 졸업했다!\n",
      "출력 : 졸업 축하해요\n"
     ]
    },
    {
     "data": {
      "text/plain": [
       "'졸업 축하해요'"
      ]
     },
     "execution_count": 78,
     "metadata": {},
     "output_type": "execute_result"
    }
   ],
   "source": [
    "sentence_generation('졸업했다!')"
   ]
  },
  {
   "cell_type": "code",
   "execution_count": 80,
   "id": "reliable-democrat",
   "metadata": {
    "scrolled": true
   },
   "outputs": [
    {
     "name": "stdout",
     "output_type": "stream",
     "text": [
      "입력 : 귀가 간지러워\n",
      "출력 : 누가 욕하고 있나봐요 .\n"
     ]
    },
    {
     "data": {
      "text/plain": [
       "'누가 욕하고 있나봐요 .'"
      ]
     },
     "execution_count": 80,
     "metadata": {},
     "output_type": "execute_result"
    }
   ],
   "source": [
    "sentence_generation('귀가 간지러워')"
   ]
  },
  {
   "cell_type": "code",
   "execution_count": 81,
   "id": "hungry-fraction",
   "metadata": {
    "scrolled": true
   },
   "outputs": [
    {
     "name": "stdout",
     "output_type": "stream",
     "text": [
      "입력 : 오늘 같은 날엔\n",
      "출력 : 축하드려요 .\n"
     ]
    },
    {
     "data": {
      "text/plain": [
       "'축하드려요 .'"
      ]
     },
     "execution_count": 81,
     "metadata": {},
     "output_type": "execute_result"
    }
   ],
   "source": [
    "sentence_generation('오늘 같은 날엔')"
   ]
  },
  {
   "cell_type": "code",
   "execution_count": 84,
   "id": "rolled-bryan",
   "metadata": {
    "scrolled": true
   },
   "outputs": [
    {
     "name": "stdout",
     "output_type": "stream",
     "text": [
      "입력 : 공부하기 싫어\n",
      "출력 : 잠시 쉬어도 괜찮아요 .\n"
     ]
    },
    {
     "data": {
      "text/plain": [
       "'잠시 쉬어도 괜찮아요 .'"
      ]
     },
     "execution_count": 84,
     "metadata": {},
     "output_type": "execute_result"
    }
   ],
   "source": [
    "sentence_generation('공부하기 싫어')"
   ]
  },
  {
   "cell_type": "code",
   "execution_count": 86,
   "id": "spanish-english",
   "metadata": {},
   "outputs": [
    {
     "name": "stdout",
     "output_type": "stream",
     "text": [
      "입력 : 막걸리엔 파전\n",
      "출력 : 뭐 좀 챙겨드세요 .\n"
     ]
    },
    {
     "data": {
      "text/plain": [
       "'뭐 좀 챙겨드세요 .'"
      ]
     },
     "execution_count": 86,
     "metadata": {},
     "output_type": "execute_result"
    }
   ],
   "source": [
    "sentence_generation('막걸리엔 파전')"
   ]
  },
  {
   "cell_type": "markdown",
   "id": "forty-marker",
   "metadata": {},
   "source": [
    "- 원본 데이터셋과 비슷한 말인 것 같은데도 중간중간 부사어나 어미에 따라 다른 대답을 했다."
   ]
  },
  {
   "cell_type": "code",
   "execution_count": 88,
   "id": "paperback-communist",
   "metadata": {},
   "outputs": [
    {
     "name": "stdout",
     "output_type": "stream",
     "text": [
      "입력 : 치매가 심해지고 있어\n",
      "출력 : 무서운 소리 마세요 .\n"
     ]
    },
    {
     "data": {
      "text/plain": [
       "'무서운 소리 마세요 .'"
      ]
     },
     "execution_count": 88,
     "metadata": {},
     "output_type": "execute_result"
    }
   ],
   "source": [
    "sentence_generation('치매가 심해지고 있어')"
   ]
  },
  {
   "cell_type": "code",
   "execution_count": 89,
   "id": "indonesian-strengthening",
   "metadata": {
    "scrolled": true
   },
   "outputs": [
    {
     "name": "stdout",
     "output_type": "stream",
     "text": [
      "입력 : 치매가 점점 심해지는 거 같아\n",
      "출력 : 더 많이 연락하고 관심을 가져주세요 .\n"
     ]
    },
    {
     "data": {
      "text/plain": [
       "'더 많이 연락하고 관심을 가져주세요 .'"
      ]
     },
     "execution_count": 89,
     "metadata": {},
     "output_type": "execute_result"
    }
   ],
   "source": [
    "sentence_generation('치매가 점점 심해지는 거 같아')"
   ]
  },
  {
   "cell_type": "code",
   "execution_count": 90,
   "id": "hispanic-webcam",
   "metadata": {
    "scrolled": true
   },
   "outputs": [
    {
     "data": {
      "text/html": [
       "<div>\n",
       "<style scoped>\n",
       "    .dataframe tbody tr th:only-of-type {\n",
       "        vertical-align: middle;\n",
       "    }\n",
       "\n",
       "    .dataframe tbody tr th {\n",
       "        vertical-align: top;\n",
       "    }\n",
       "\n",
       "    .dataframe thead th {\n",
       "        text-align: right;\n",
       "    }\n",
       "</style>\n",
       "<table border=\"1\" class=\"dataframe\">\n",
       "  <thead>\n",
       "    <tr style=\"text-align: right;\">\n",
       "      <th></th>\n",
       "      <th>Q</th>\n",
       "      <th>A</th>\n",
       "      <th>label</th>\n",
       "    </tr>\n",
       "  </thead>\n",
       "  <tbody>\n",
       "    <tr>\n",
       "      <th>4575</th>\n",
       "      <td>치매가 더 심해지는 것 같아 무서워</td>\n",
       "      <td>더 많이 연락하고 관심을 가져주세요.</td>\n",
       "      <td>0</td>\n",
       "    </tr>\n",
       "    <tr>\n",
       "      <th>4576</th>\n",
       "      <td>치매가 점점 심해지는 거 같아</td>\n",
       "      <td>더 많이 연락하고 관심을 가져주세요.</td>\n",
       "      <td>0</td>\n",
       "    </tr>\n",
       "    <tr>\n",
       "      <th>4577</th>\n",
       "      <td>치매이면 어쩌지</td>\n",
       "      <td>무서운 소리 마세요.</td>\n",
       "      <td>0</td>\n",
       "    </tr>\n",
       "    <tr>\n",
       "      <th>4578</th>\n",
       "      <td>치매일까봐 무섭다.</td>\n",
       "      <td>무서운 소리 마세요.</td>\n",
       "      <td>0</td>\n",
       "    </tr>\n",
       "  </tbody>\n",
       "</table>\n",
       "</div>"
      ],
      "text/plain": [
       "                        Q                     A  label\n",
       "4575  치매가 더 심해지는 것 같아 무서워  더 많이 연락하고 관심을 가져주세요.      0\n",
       "4576     치매가 점점 심해지는 거 같아  더 많이 연락하고 관심을 가져주세요.      0\n",
       "4577             치매이면 어쩌지           무서운 소리 마세요.      0\n",
       "4578           치매일까봐 무섭다.           무서운 소리 마세요.      0"
      ]
     },
     "execution_count": 90,
     "metadata": {},
     "output_type": "execute_result"
    }
   ],
   "source": [
    "data[data.Q.str[:2]=='치매']"
   ]
  },
  {
   "cell_type": "code",
   "execution_count": 99,
   "id": "engaging-music",
   "metadata": {},
   "outputs": [
    {
     "name": "stdout",
     "output_type": "stream",
     "text": [
      "입력 : 미쳤냐\n",
      "출력 : 그럴 수 있어요 .\n"
     ]
    },
    {
     "data": {
      "text/plain": [
       "'그럴 수 있어요 .'"
      ]
     },
     "execution_count": 99,
     "metadata": {},
     "output_type": "execute_result"
    }
   ],
   "source": [
    "sentence_generation('미쳤냐')"
   ]
  },
  {
   "cell_type": "code",
   "execution_count": 101,
   "id": "automotive-click",
   "metadata": {},
   "outputs": [
    {
     "name": "stdout",
     "output_type": "stream",
     "text": [
      "입력 : 화가 나\n",
      "출력 : 저에게 화를 덜어보세요 .\n"
     ]
    },
    {
     "data": {
      "text/plain": [
       "'저에게 화를 덜어보세요 .'"
      ]
     },
     "execution_count": 101,
     "metadata": {},
     "output_type": "execute_result"
    }
   ],
   "source": [
    "sentence_generation('화가 나')"
   ]
  },
  {
   "cell_type": "code",
   "execution_count": 102,
   "id": "republican-parker",
   "metadata": {},
   "outputs": [
    {
     "name": "stdout",
     "output_type": "stream",
     "text": [
      "입력 : 졸려\n",
      "출력 : 오늘 일찍 주무세요 .\n"
     ]
    },
    {
     "data": {
      "text/plain": [
       "'오늘 일찍 주무세요 .'"
      ]
     },
     "execution_count": 102,
     "metadata": {},
     "output_type": "execute_result"
    }
   ],
   "source": [
    "sentence_generation('졸려')"
   ]
  },
  {
   "cell_type": "code",
   "execution_count": 104,
   "id": "convinced-attention",
   "metadata": {},
   "outputs": [
    {
     "name": "stdout",
     "output_type": "stream",
     "text": [
      "입력 : 빙수가 먹고 싶어\n",
      "출력 : 디저트는 언제나 맛있어요 .\n"
     ]
    },
    {
     "data": {
      "text/plain": [
       "'디저트는 언제나 맛있어요 .'"
      ]
     },
     "execution_count": 104,
     "metadata": {},
     "output_type": "execute_result"
    }
   ],
   "source": [
    "sentence_generation('빙수가 먹고 싶어')"
   ]
  },
  {
   "cell_type": "code",
   "execution_count": 105,
   "id": "accredited-voltage",
   "metadata": {},
   "outputs": [
    {
     "name": "stdout",
     "output_type": "stream",
     "text": [
      "입력 : 빙수는 항상 옳아\n",
      "출력 : 디져트 드세요 .\n"
     ]
    },
    {
     "data": {
      "text/plain": [
       "'디져트 드세요 .'"
      ]
     },
     "execution_count": 105,
     "metadata": {},
     "output_type": "execute_result"
    }
   ],
   "source": [
    "sentence_generation('빙수는 항상 옳아')"
   ]
  },
  {
   "cell_type": "code",
   "execution_count": 106,
   "id": "hindu-gibraltar",
   "metadata": {},
   "outputs": [
    {
     "name": "stdout",
     "output_type": "stream",
     "text": [
      "입력 : 어젯밤 세상이 무너졌어\n",
      "출력 : 어떤 꿈이었나요 .\n"
     ]
    },
    {
     "data": {
      "text/plain": [
       "'어떤 꿈이었나요 .'"
      ]
     },
     "execution_count": 106,
     "metadata": {},
     "output_type": "execute_result"
    }
   ],
   "source": [
    "sentence_generation('어젯밤 세상이 무너졌어')"
   ]
  },
  {
   "cell_type": "code",
   "execution_count": 112,
   "id": "consistent-production",
   "metadata": {
    "scrolled": true
   },
   "outputs": [
    {
     "name": "stdout",
     "output_type": "stream",
     "text": [
      "입력 : 울어도 돼\n",
      "출력 : 저에게 기대세요 .\n"
     ]
    },
    {
     "data": {
      "text/plain": [
       "'저에게 기대세요 .'"
      ]
     },
     "execution_count": 112,
     "metadata": {},
     "output_type": "execute_result"
    }
   ],
   "source": [
    "sentence_generation('울어도 돼')"
   ]
  },
  {
   "cell_type": "code",
   "execution_count": 113,
   "id": "vanilla-russian",
   "metadata": {},
   "outputs": [
    {
     "name": "stdout",
     "output_type": "stream",
     "text": [
      "입력 : 산책 하자\n",
      "출력 : 안해도 괜찮을 거예요\n"
     ]
    },
    {
     "data": {
      "text/plain": [
       "'안해도 괜찮을 거예요'"
      ]
     },
     "execution_count": 113,
     "metadata": {},
     "output_type": "execute_result"
    }
   ],
   "source": [
    "sentence_generation('산책 하자')"
   ]
  },
  {
   "cell_type": "code",
   "execution_count": 191,
   "id": "impaired-iceland",
   "metadata": {},
   "outputs": [
    {
     "name": "stdout",
     "output_type": "stream",
     "text": [
      "입력 : 산책 갈까?\n",
      "출력 : 안해도 괜찮을 거예요\n"
     ]
    },
    {
     "data": {
      "text/plain": [
       "'안해도 괜찮을 거예요'"
      ]
     },
     "execution_count": 191,
     "metadata": {},
     "output_type": "execute_result"
    }
   ],
   "source": [
    "sentence_generation('산책 갈까?')"
   ]
  },
  {
   "cell_type": "code",
   "execution_count": 114,
   "id": "alpha-frank",
   "metadata": {},
   "outputs": [
    {
     "name": "stdout",
     "output_type": "stream",
     "text": [
      "입력 : 어머님은 짜장면이 싫다고 하셨어\n",
      "출력 : 요즘 예민한가봐요 .\n"
     ]
    },
    {
     "data": {
      "text/plain": [
       "'요즘 예민한가봐요 .'"
      ]
     },
     "execution_count": 114,
     "metadata": {},
     "output_type": "execute_result"
    }
   ],
   "source": [
    "sentence_generation('어머님은 짜장면이 싫다고 하셨어')"
   ]
  },
  {
   "cell_type": "code",
   "execution_count": 117,
   "id": "front-morrison",
   "metadata": {},
   "outputs": [
    {
     "name": "stdout",
     "output_type": "stream",
     "text": [
      "입력 : 한강 가자\n",
      "출력 : 야근이 만든 야경이죠 .\n"
     ]
    },
    {
     "data": {
      "text/plain": [
       "'야근이 만든 야경이죠 .'"
      ]
     },
     "execution_count": 117,
     "metadata": {},
     "output_type": "execute_result"
    }
   ],
   "source": [
    "sentence_generation('한강 가자')"
   ]
  },
  {
   "cell_type": "code",
   "execution_count": 122,
   "id": "universal-store",
   "metadata": {},
   "outputs": [
    {
     "data": {
      "text/html": [
       "<div>\n",
       "<style scoped>\n",
       "    .dataframe tbody tr th:only-of-type {\n",
       "        vertical-align: middle;\n",
       "    }\n",
       "\n",
       "    .dataframe tbody tr th {\n",
       "        vertical-align: top;\n",
       "    }\n",
       "\n",
       "    .dataframe thead th {\n",
       "        text-align: right;\n",
       "    }\n",
       "</style>\n",
       "<table border=\"1\" class=\"dataframe\">\n",
       "  <thead>\n",
       "    <tr style=\"text-align: right;\">\n",
       "      <th></th>\n",
       "      <th>Q</th>\n",
       "      <th>A</th>\n",
       "      <th>label</th>\n",
       "    </tr>\n",
       "  </thead>\n",
       "  <tbody>\n",
       "    <tr>\n",
       "      <th>5009</th>\n",
       "      <td>한강 가서 맥주 마시고 싶다.</td>\n",
       "      <td>분위기도 맛도 다 좋겠네요.</td>\n",
       "      <td>0</td>\n",
       "    </tr>\n",
       "    <tr>\n",
       "      <th>5010</th>\n",
       "      <td>한강 밤에 가면 좋겠지?</td>\n",
       "      <td>야근이 만든 야경이죠.</td>\n",
       "      <td>0</td>\n",
       "    </tr>\n",
       "    <tr>\n",
       "      <th>5011</th>\n",
       "      <td>한강 야경 좋지?</td>\n",
       "      <td>야근이 만든 야경이죠.</td>\n",
       "      <td>0</td>\n",
       "    </tr>\n",
       "    <tr>\n",
       "      <th>5012</th>\n",
       "      <td>한강에서 맥주 캬</td>\n",
       "      <td>분위기도 맛도 다 좋겠네요.</td>\n",
       "      <td>0</td>\n",
       "    </tr>\n",
       "    <tr>\n",
       "      <th>8425</th>\n",
       "      <td>한강에서 소주한잔.</td>\n",
       "      <td>분위기 있네요.</td>\n",
       "      <td>1</td>\n",
       "    </tr>\n",
       "  </tbody>\n",
       "</table>\n",
       "</div>"
      ],
      "text/plain": [
       "                     Q                A  label\n",
       "5009  한강 가서 맥주 마시고 싶다.  분위기도 맛도 다 좋겠네요.      0\n",
       "5010     한강 밤에 가면 좋겠지?     야근이 만든 야경이죠.      0\n",
       "5011         한강 야경 좋지?     야근이 만든 야경이죠.      0\n",
       "5012         한강에서 맥주 캬  분위기도 맛도 다 좋겠네요.      0\n",
       "8425        한강에서 소주한잔.         분위기 있네요.      1"
      ]
     },
     "execution_count": 122,
     "metadata": {},
     "output_type": "execute_result"
    }
   ],
   "source": [
    "data[data['Q'].str[:2]=='한강']"
   ]
  },
  {
   "cell_type": "code",
   "execution_count": 177,
   "id": "unlimited-innocent",
   "metadata": {},
   "outputs": [
    {
     "name": "stdout",
     "output_type": "stream",
     "text": [
      "입력 : 마음이 아프네\n",
      "출력 : 지쳐서 그런가봐요 .\n"
     ]
    },
    {
     "data": {
      "text/plain": [
       "'지쳐서 그런가봐요 .'"
      ]
     },
     "execution_count": 177,
     "metadata": {},
     "output_type": "execute_result"
    }
   ],
   "source": [
    "sentence_generation('마음이 아프네')"
   ]
  },
  {
   "cell_type": "code",
   "execution_count": 125,
   "id": "pressed-borough",
   "metadata": {},
   "outputs": [
    {
     "name": "stdout",
     "output_type": "stream",
     "text": [
      "입력 : 어떻게 나한테 이래\n",
      "출력 : 힘들만해요 .\n"
     ]
    },
    {
     "data": {
      "text/plain": [
       "'힘들만해요 .'"
      ]
     },
     "execution_count": 125,
     "metadata": {},
     "output_type": "execute_result"
    }
   ],
   "source": [
    "sentence_generation('어떻게 나한테 이래')"
   ]
  },
  {
   "cell_type": "markdown",
   "id": "studied-portal",
   "metadata": {},
   "source": [
    "- 이렇게 하나의 키워드만 걸리면 같은 응답을 하는 경우도 보였다."
   ]
  },
  {
   "cell_type": "code",
   "execution_count": 126,
   "id": "greater-worker",
   "metadata": {},
   "outputs": [
    {
     "name": "stdout",
     "output_type": "stream",
     "text": [
      "입력 : 새 옷을 샀어\n",
      "출력 : 깔끔한 스타일이 좋을 것 같습니다 .\n"
     ]
    },
    {
     "data": {
      "text/plain": [
       "'깔끔한 스타일이 좋을 것 같습니다 .'"
      ]
     },
     "execution_count": 126,
     "metadata": {},
     "output_type": "execute_result"
    }
   ],
   "source": [
    "sentence_generation('새 옷을 샀어')"
   ]
  },
  {
   "cell_type": "code",
   "execution_count": 127,
   "id": "educational-covering",
   "metadata": {},
   "outputs": [
    {
     "name": "stdout",
     "output_type": "stream",
     "text": [
      "입력 : 오늘 무슨 옷을 입을까?\n",
      "출력 : 깔끔한 스타일이 좋을 것 같습니다 .\n"
     ]
    },
    {
     "data": {
      "text/plain": [
       "'깔끔한 스타일이 좋을 것 같습니다 .'"
      ]
     },
     "execution_count": 127,
     "metadata": {},
     "output_type": "execute_result"
    }
   ],
   "source": [
    "sentence_generation('오늘 무슨 옷을 입을까?')"
   ]
  },
  {
   "cell_type": "markdown",
   "id": "fitting-sacrifice",
   "metadata": {},
   "source": [
    "- 비슷한 맥락의 말인데도 꽤 다른 응답을 보여주기도 했다."
   ]
  },
  {
   "cell_type": "code",
   "execution_count": 128,
   "id": "opposite-taxation",
   "metadata": {},
   "outputs": [
    {
     "name": "stdout",
     "output_type": "stream",
     "text": [
      "입력 : 화나\n",
      "출력 : 결국 시간은 흐르고 일상으로 돌아갈 거예요 .\n"
     ]
    },
    {
     "data": {
      "text/plain": [
       "'결국 시간은 흐르고 일상으로 돌아갈 거예요 .'"
      ]
     },
     "execution_count": 128,
     "metadata": {},
     "output_type": "execute_result"
    }
   ],
   "source": [
    "sentence_generation('화나')"
   ]
  },
  {
   "cell_type": "code",
   "execution_count": 129,
   "id": "waiting-convergence",
   "metadata": {},
   "outputs": [
    {
     "name": "stdout",
     "output_type": "stream",
     "text": [
      "입력 : 화가 나\n",
      "출력 : 저에게 화를 덜어보세요 .\n"
     ]
    },
    {
     "data": {
      "text/plain": [
       "'저에게 화를 덜어보세요 .'"
      ]
     },
     "execution_count": 129,
     "metadata": {},
     "output_type": "execute_result"
    }
   ],
   "source": [
    "sentence_generation('화가 나')"
   ]
  },
  {
   "cell_type": "code",
   "execution_count": 130,
   "id": "small-cologne",
   "metadata": {},
   "outputs": [
    {
     "name": "stdout",
     "output_type": "stream",
     "text": [
      "입력 : 재밌는 거 뭐 없을까?\n",
      "출력 : 제가 있잖아요 .\n"
     ]
    },
    {
     "data": {
      "text/plain": [
       "'제가 있잖아요 .'"
      ]
     },
     "execution_count": 130,
     "metadata": {},
     "output_type": "execute_result"
    }
   ],
   "source": [
    "sentence_generation('재밌는 거 뭐 없을까?')"
   ]
  },
  {
   "cell_type": "code",
   "execution_count": 131,
   "id": "hybrid-thriller",
   "metadata": {},
   "outputs": [
    {
     "name": "stdout",
     "output_type": "stream",
     "text": [
      "입력 : 정답을 알려줘\n",
      "출력 : 답은 언제나 내 안에 있죠 .\n"
     ]
    },
    {
     "data": {
      "text/plain": [
       "'답은 언제나 내 안에 있죠 .'"
      ]
     },
     "execution_count": 131,
     "metadata": {},
     "output_type": "execute_result"
    }
   ],
   "source": [
    "sentence_generation('정답을 알려줘')"
   ]
  },
  {
   "cell_type": "code",
   "execution_count": 132,
   "id": "authorized-dealer",
   "metadata": {},
   "outputs": [
    {
     "name": "stdout",
     "output_type": "stream",
     "text": [
      "입력 : 맛집 추천 좀\n",
      "출력 : 벌써 먹고 싶어요 .\n"
     ]
    },
    {
     "data": {
      "text/plain": [
       "'벌써 먹고 싶어요 .'"
      ]
     },
     "execution_count": 132,
     "metadata": {},
     "output_type": "execute_result"
    }
   ],
   "source": [
    "sentence_generation('맛집 추천 좀')"
   ]
  },
  {
   "cell_type": "code",
   "execution_count": 136,
   "id": "industrial-montreal",
   "metadata": {},
   "outputs": [
    {
     "name": "stdout",
     "output_type": "stream",
     "text": [
      "입력 : 어떻게 나한테 이래\n",
      "출력 : 힘들만해요 .\n"
     ]
    },
    {
     "data": {
      "text/plain": [
       "'힘들만해요 .'"
      ]
     },
     "execution_count": 136,
     "metadata": {},
     "output_type": "execute_result"
    }
   ],
   "source": [
    "sentence_generation('어떻게 나한테 이래')"
   ]
  },
  {
   "cell_type": "code",
   "execution_count": 140,
   "id": "liked-transmission",
   "metadata": {},
   "outputs": [
    {
     "name": "stdout",
     "output_type": "stream",
     "text": [
      "입력 : 비가 엄청 온다\n",
      "출력 : 비 맞으면 안돼요 !\n"
     ]
    },
    {
     "data": {
      "text/plain": [
       "'비 맞으면 안돼요 !'"
      ]
     },
     "execution_count": 140,
     "metadata": {},
     "output_type": "execute_result"
    }
   ],
   "source": [
    "sentence_generation('비가 엄청 온다')"
   ]
  },
  {
   "cell_type": "code",
   "execution_count": 143,
   "id": "endless-position",
   "metadata": {},
   "outputs": [
    {
     "name": "stdout",
     "output_type": "stream",
     "text": [
      "입력 : 출근길 너무 힘들어\n",
      "출력 : 회사 근처로 이사를 가보세요 .\n"
     ]
    },
    {
     "data": {
      "text/plain": [
       "'회사 근처로 이사를 가보세요 .'"
      ]
     },
     "execution_count": 143,
     "metadata": {},
     "output_type": "execute_result"
    }
   ],
   "source": [
    "sentence_generation('출근길 너무 힘들어')"
   ]
  },
  {
   "cell_type": "code",
   "execution_count": 147,
   "id": "linear-portuguese",
   "metadata": {},
   "outputs": [
    {
     "name": "stdout",
     "output_type": "stream",
     "text": [
      "입력 : 카페인 중독인가봐\n",
      "출력 : 핑계예요 .\n"
     ]
    },
    {
     "data": {
      "text/plain": [
       "'핑계예요 .'"
      ]
     },
     "execution_count": 147,
     "metadata": {},
     "output_type": "execute_result"
    }
   ],
   "source": [
    "sentence_generation('카페인 중독인가봐')"
   ]
  },
  {
   "cell_type": "code",
   "execution_count": 151,
   "id": "focused-envelope",
   "metadata": {},
   "outputs": [
    {
     "name": "stdout",
     "output_type": "stream",
     "text": [
      "입력 : 머리가 아파\n",
      "출력 : 병원에 가야죠 .\n"
     ]
    },
    {
     "data": {
      "text/plain": [
       "'병원에 가야죠 .'"
      ]
     },
     "execution_count": 151,
     "metadata": {},
     "output_type": "execute_result"
    }
   ],
   "source": [
    "sentence_generation('머리가 아파')"
   ]
  },
  {
   "cell_type": "code",
   "execution_count": 152,
   "id": "quick-dance",
   "metadata": {},
   "outputs": [
    {
     "name": "stdout",
     "output_type": "stream",
     "text": [
      "입력 : 꿀꿀하네\n",
      "출력 : 더 괜찮아 지려고 하는 과정일 거예요 .\n"
     ]
    },
    {
     "data": {
      "text/plain": [
       "'더 괜찮아 지려고 하는 과정일 거예요 .'"
      ]
     },
     "execution_count": 152,
     "metadata": {},
     "output_type": "execute_result"
    }
   ],
   "source": [
    "sentence_generation('꿀꿀하네')"
   ]
  },
  {
   "cell_type": "code",
   "execution_count": 153,
   "id": "opponent-casting",
   "metadata": {},
   "outputs": [
    {
     "name": "stdout",
     "output_type": "stream",
     "text": [
      "입력 : 졸업했다!\n",
      "출력 : 졸업 축하해요\n"
     ]
    },
    {
     "data": {
      "text/plain": [
       "'졸업 축하해요'"
      ]
     },
     "execution_count": 153,
     "metadata": {},
     "output_type": "execute_result"
    }
   ],
   "source": [
    "sentence_generation('졸업했다!')"
   ]
  },
  {
   "cell_type": "code",
   "execution_count": 154,
   "id": "thick-clone",
   "metadata": {},
   "outputs": [
    {
     "name": "stdout",
     "output_type": "stream",
     "text": [
      "입력 : 귀가 간지러워\n",
      "출력 : 누가 욕하고 있나봐요 .\n"
     ]
    },
    {
     "data": {
      "text/plain": [
       "'누가 욕하고 있나봐요 .'"
      ]
     },
     "execution_count": 154,
     "metadata": {},
     "output_type": "execute_result"
    }
   ],
   "source": [
    "sentence_generation('귀가 간지러워')"
   ]
  },
  {
   "cell_type": "code",
   "execution_count": 185,
   "id": "capital-connectivity",
   "metadata": {},
   "outputs": [
    {
     "name": "stdout",
     "output_type": "stream",
     "text": [
      "입력 : 요즘따라 슬픈 일이 자꾸 생각나\n",
      "출력 : 무슨 일이 있었나봐요 .\n"
     ]
    },
    {
     "data": {
      "text/plain": [
       "'무슨 일이 있었나봐요 .'"
      ]
     },
     "execution_count": 185,
     "metadata": {},
     "output_type": "execute_result"
    }
   ],
   "source": [
    "sentence_generation('요즘따라 슬픈 일이 자꾸 생각나')"
   ]
  },
  {
   "cell_type": "code",
   "execution_count": 179,
   "id": "thrown-structure",
   "metadata": {},
   "outputs": [
    {
     "name": "stdout",
     "output_type": "stream",
     "text": [
      "입력 : \n",
      "출력 : 지금은 힘들겠지만 조금만 더 견뎌봐요 .\n"
     ]
    },
    {
     "data": {
      "text/plain": [
       "'지금은 힘들겠지만 조금만 더 견뎌봐요 .'"
      ]
     },
     "execution_count": 179,
     "metadata": {},
     "output_type": "execute_result"
    }
   ],
   "source": [
    "sentence_generation('')"
   ]
  },
  {
   "cell_type": "code",
   "execution_count": 186,
   "id": "charming-seating",
   "metadata": {},
   "outputs": [
    {
     "name": "stdout",
     "output_type": "stream",
     "text": [
      "입력 : 매번 작심삼일\n",
      "출력 : 모든 일에도 후회가 남기 마련이지요 .\n"
     ]
    },
    {
     "data": {
      "text/plain": [
       "'모든 일에도 후회가 남기 마련이지요 .'"
      ]
     },
     "execution_count": 186,
     "metadata": {},
     "output_type": "execute_result"
    }
   ],
   "source": [
    "sentence_generation('매번 작심삼일')"
   ]
  },
  {
   "cell_type": "markdown",
   "id": "announced-mississippi",
   "metadata": {},
   "source": [
    "- 왜 그냥 작심삼일에... 이렇게 말하는 걸까"
   ]
  },
  {
   "cell_type": "code",
   "execution_count": 187,
   "id": "established-effort",
   "metadata": {},
   "outputs": [
    {
     "name": "stdout",
     "output_type": "stream",
     "text": [
      "입력 : 작심삼일\n",
      "출력 : 이별에 척도를 두지 말아요 .\n"
     ]
    },
    {
     "data": {
      "text/plain": [
       "'이별에 척도를 두지 말아요 .'"
      ]
     },
     "execution_count": 187,
     "metadata": {},
     "output_type": "execute_result"
    }
   ],
   "source": [
    "sentence_generation('작심삼일')"
   ]
  },
  {
   "cell_type": "code",
   "execution_count": 188,
   "id": "opposite-belief",
   "metadata": {},
   "outputs": [
    {
     "data": {
      "text/html": [
       "<div>\n",
       "<style scoped>\n",
       "    .dataframe tbody tr th:only-of-type {\n",
       "        vertical-align: middle;\n",
       "    }\n",
       "\n",
       "    .dataframe tbody tr th {\n",
       "        vertical-align: top;\n",
       "    }\n",
       "\n",
       "    .dataframe thead th {\n",
       "        text-align: right;\n",
       "    }\n",
       "</style>\n",
       "<table border=\"1\" class=\"dataframe\">\n",
       "  <thead>\n",
       "    <tr style=\"text-align: right;\">\n",
       "      <th></th>\n",
       "      <th>Q</th>\n",
       "      <th>A</th>\n",
       "      <th>label</th>\n",
       "    </tr>\n",
       "  </thead>\n",
       "  <tbody>\n",
       "    <tr>\n",
       "      <th>6935</th>\n",
       "      <td>어떤 작별일지</td>\n",
       "      <td>이별에 척도를 두지 말아요.</td>\n",
       "      <td>1</td>\n",
       "    </tr>\n",
       "  </tbody>\n",
       "</table>\n",
       "</div>"
      ],
      "text/plain": [
       "            Q                A  label\n",
       "6935  어떤 작별일지  이별에 척도를 두지 말아요.      1"
      ]
     },
     "execution_count": 188,
     "metadata": {},
     "output_type": "execute_result"
    }
   ],
   "source": [
    "data[data.A.str.contains('이별에 척도를 두지 말아요')]"
   ]
  },
  {
   "cell_type": "markdown",
   "id": "involved-stuff",
   "metadata": {},
   "source": []
  },
  {
   "cell_type": "code",
   "execution_count": 179,
   "id": "correct-exchange",
   "metadata": {},
   "outputs": [
    {
     "name": "stdout",
     "output_type": "stream",
     "text": [
      "입력 : \n",
      "출력 : 지금은 힘들겠지만 조금만 더 견뎌봐요 .\n"
     ]
    },
    {
     "data": {
      "text/plain": [
       "'지금은 힘들겠지만 조금만 더 견뎌봐요 .'"
      ]
     },
     "execution_count": 179,
     "metadata": {},
     "output_type": "execute_result"
    }
   ],
   "source": [
    "sentence_generation('')"
   ]
  },
  {
   "cell_type": "markdown",
   "id": "settled-genome",
   "metadata": {},
   "source": [
    "# 회고\n",
    "- 생각보다 상황에 적절한 말을 내뱉는 모습을 볼 수 있었다.\n",
    "- 어차피 패딩 마스크를 사용해서 MAX_LENGTH가 데이터셋 최대 단어 수 이상 인 경우 숫자가 좀 달라진다고 해도 별 차이가 없을 것이라고 생각했는데 최대 단어 수인 23을 넘겨서 39, 40으로 지정한 두 경우간에 문장 생성 결과도 꽤 달라졌다.\n",
    "    - 인퍼런스 함수에서 MAX_LENGTH를 한 번 더 반복하는게 그만큼 큰 의미가 있었나..\n",
    "- 타이트하게 MAX_LENGTH를 주었는데 생각보다 결과가 잘 나왔다.\n",
    "- 자주 나오지 않는 키워드는 원본 답변과 계속 같은 말만 반복했다.\n",
    "- 미묘한 어조 차이에 따라서 답변이 달라지는 모습을 볼 수 있었다.\n",
    "- 아직까지 트랜스포머의 성능을 올리기 위해서 어떤 튜닝을 할 수 있는지 확실히 감이 오지는 않는 것 같다. 조금 더 다양한 사례를 공부해 봐야겠다."
   ]
  }
 ],
 "metadata": {
  "kernelspec": {
   "display_name": "Python 3",
   "language": "python",
   "name": "python3"
  },
  "language_info": {
   "codemirror_mode": {
    "name": "ipython",
    "version": 3
   },
   "file_extension": ".py",
   "mimetype": "text/x-python",
   "name": "python",
   "nbconvert_exporter": "python",
   "pygments_lexer": "ipython3",
   "version": "3.7.9"
  }
 },
 "nbformat": 4,
 "nbformat_minor": 5
}
