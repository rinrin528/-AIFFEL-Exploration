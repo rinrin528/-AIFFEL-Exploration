{
 "cells": [
  {
   "cell_type": "markdown",
   "id": "superb-devon",
   "metadata": {},
   "source": [
    "# step1) 데이터 수집"
   ]
  },
  {
   "cell_type": "code",
   "execution_count": 147,
   "id": "arabic-publication",
   "metadata": {},
   "outputs": [
    {
     "name": "stderr",
     "output_type": "stream",
     "text": [
      "[nltk_data] Downloading package stopwords to /aiffel/nltk_data...\n",
      "[nltk_data]   Package stopwords is already up-to-date!\n"
     ]
    }
   ],
   "source": [
    "import os\n",
    "import urllib.request\n",
    "\n",
    "import pandas as pd\n",
    "import numpy as np\n",
    "\n",
    "# 전처리\n",
    "import re\n",
    "import nltk\n",
    "nltk.download('stopwords')\n",
    "from nltk.corpus import stopwords\n",
    "from bs4 import BeautifulSoup\n",
    "from tensorflow.keras.preprocessing.text import Tokenizer \n",
    "from tensorflow.keras.preprocessing.sequence import pad_sequences\n",
    "\n",
    "# 시각화\n",
    "from tensorflow.keras.utils import plot_model\n",
    "import matplotlib.pyplot as plt\n",
    "import seaborn as sns\n",
    "%matplotlib inline\n",
    "\n",
    "# 모델 구성\n",
    "from tensorflow.keras.layers import Input, LSTM, Embedding, Dense, Concatenate\n",
    "from tensorflow.keras.models import Model\n",
    "from tensorflow.keras.callbacks import EarlyStopping, ModelCheckpoint\n",
    "\n",
    "import warnings\n",
    "warnings.filterwarnings('ignore')"
   ]
  },
  {
   "cell_type": "code",
   "execution_count": 148,
   "id": "lightweight-office",
   "metadata": {
    "scrolled": true
   },
   "outputs": [],
   "source": [
    "urllib.request.urlretrieve(\"https://raw.githubusercontent.com/sunnysai12345/News_Summary/master/news_summary_more.csv\", filename=\"news_summary_more.csv\")\n",
    "data = pd.read_csv('news_summary_more.csv', encoding='iso-8859-1')"
   ]
  },
  {
   "cell_type": "code",
   "execution_count": 149,
   "id": "boring-newfoundland",
   "metadata": {
    "scrolled": false
   },
   "outputs": [
    {
     "data": {
      "text/html": [
       "<div>\n",
       "<style scoped>\n",
       "    .dataframe tbody tr th:only-of-type {\n",
       "        vertical-align: middle;\n",
       "    }\n",
       "\n",
       "    .dataframe tbody tr th {\n",
       "        vertical-align: top;\n",
       "    }\n",
       "\n",
       "    .dataframe thead th {\n",
       "        text-align: right;\n",
       "    }\n",
       "</style>\n",
       "<table border=\"1\" class=\"dataframe\">\n",
       "  <thead>\n",
       "    <tr style=\"text-align: right;\">\n",
       "      <th></th>\n",
       "      <th>headlines</th>\n",
       "      <th>text</th>\n",
       "    </tr>\n",
       "  </thead>\n",
       "  <tbody>\n",
       "    <tr>\n",
       "      <th>4424</th>\n",
       "      <td>Rats drank 1,000 litres of seized liquor in UP...</td>\n",
       "      <td>The police have claimed that a 'gang of rats' ...</td>\n",
       "    </tr>\n",
       "    <tr>\n",
       "      <th>47745</th>\n",
       "      <td>NASA spacecraft witnesses solar eclipse from s...</td>\n",
       "      <td>NASA's Solar Dynamics Observatory saw a total ...</td>\n",
       "    </tr>\n",
       "    <tr>\n",
       "      <th>57655</th>\n",
       "      <td>Keep vehicles' headlights on even during day: ...</td>\n",
       "      <td>Jharkhand Chief Minister Raghubar Das on Wedne...</td>\n",
       "    </tr>\n",
       "    <tr>\n",
       "      <th>9975</th>\n",
       "      <td>Andhra gets state emblem nearly five years aft...</td>\n",
       "      <td>Nearly five years after the bifurcation of And...</td>\n",
       "    </tr>\n",
       "    <tr>\n",
       "      <th>61554</th>\n",
       "      <td>Doctor suspended for Facebook post on dengue d...</td>\n",
       "      <td>A doctor at a West Bengal government hospital ...</td>\n",
       "    </tr>\n",
       "    <tr>\n",
       "      <th>50793</th>\n",
       "      <td>SC dismisses plea for SIT probe in attack on K...</td>\n",
       "      <td>The Supreme Court has dismissed a plea to cons...</td>\n",
       "    </tr>\n",
       "    <tr>\n",
       "      <th>54413</th>\n",
       "      <td>35-year-old ex-Aus captain takes one-handed fl...</td>\n",
       "      <td>Former Australia captain George Bailey pulled ...</td>\n",
       "    </tr>\n",
       "    <tr>\n",
       "      <th>72452</th>\n",
       "      <td>Russia aims to boost voter turnout with flash ...</td>\n",
       "      <td>The Russian Election Commission has ordered a ...</td>\n",
       "    </tr>\n",
       "    <tr>\n",
       "      <th>28398</th>\n",
       "      <td>Grass seemed greener when he bowled: Sehwag wi...</td>\n",
       "      <td>Former Indian cricketer Virender Sehwag took t...</td>\n",
       "    </tr>\n",
       "    <tr>\n",
       "      <th>37971</th>\n",
       "      <td>If govt can't, we will avenge his death: Marty...</td>\n",
       "      <td>The brother of Aurangzeb, an Army jawan who wa...</td>\n",
       "    </tr>\n",
       "  </tbody>\n",
       "</table>\n",
       "</div>"
      ],
      "text/plain": [
       "                                               headlines  \\\n",
       "4424   Rats drank 1,000 litres of seized liquor in UP...   \n",
       "47745  NASA spacecraft witnesses solar eclipse from s...   \n",
       "57655  Keep vehicles' headlights on even during day: ...   \n",
       "9975   Andhra gets state emblem nearly five years aft...   \n",
       "61554  Doctor suspended for Facebook post on dengue d...   \n",
       "50793  SC dismisses plea for SIT probe in attack on K...   \n",
       "54413  35-year-old ex-Aus captain takes one-handed fl...   \n",
       "72452  Russia aims to boost voter turnout with flash ...   \n",
       "28398  Grass seemed greener when he bowled: Sehwag wi...   \n",
       "37971  If govt can't, we will avenge his death: Marty...   \n",
       "\n",
       "                                                    text  \n",
       "4424   The police have claimed that a 'gang of rats' ...  \n",
       "47745  NASA's Solar Dynamics Observatory saw a total ...  \n",
       "57655  Jharkhand Chief Minister Raghubar Das on Wedne...  \n",
       "9975   Nearly five years after the bifurcation of And...  \n",
       "61554  A doctor at a West Bengal government hospital ...  \n",
       "50793  The Supreme Court has dismissed a plea to cons...  \n",
       "54413  Former Australia captain George Bailey pulled ...  \n",
       "72452  The Russian Election Commission has ordered a ...  \n",
       "28398  Former Indian cricketer Virender Sehwag took t...  \n",
       "37971  The brother of Aurangzeb, an Army jawan who wa...  "
      ]
     },
     "execution_count": 149,
     "metadata": {},
     "output_type": "execute_result"
    }
   ],
   "source": [
    "data.sample(10)"
   ]
  },
  {
   "cell_type": "markdown",
   "id": "discrete-thomson",
   "metadata": {},
   "source": [
    "# step2) 데이터 전처리"
   ]
  },
  {
   "cell_type": "markdown",
   "id": "straight-zambia",
   "metadata": {},
   "source": [
    "- 중복 데이터 제거\n",
    "- 텍스트 정규화\n",
    "- 텍스트 정제\n",
    "- 상대적으로 길이가 짧은 요약 데이터에 대해서도 불용어를 제거해야할까?"
   ]
  },
  {
   "cell_type": "markdown",
   "id": "sonic-broad",
   "metadata": {},
   "source": [
    "## 2-1. 중복 존재하는 행 제거\n",
    "- Text행"
   ]
  },
  {
   "cell_type": "code",
   "execution_count": 150,
   "id": "synthetic-laser",
   "metadata": {},
   "outputs": [
    {
     "name": "stdout",
     "output_type": "stream",
     "text": [
      "전체 샘플 수 :  98401\n",
      "headlines에서 유일한 샘플의 수 :  98280\n",
      "text에서 유일한 샘플의 수 :  98360\n"
     ]
    }
   ],
   "source": [
    "print(f'전체 샘플 수 : ', data['text'].count())\n",
    "for col in data.columns:\n",
    "    print(f'{col}에서 유일한 샘플의 수 : ', data[col].nunique())"
   ]
  },
  {
   "cell_type": "code",
   "execution_count": 151,
   "id": "involved-spring",
   "metadata": {
    "scrolled": true
   },
   "outputs": [
    {
     "name": "stdout",
     "output_type": "stream",
     "text": [
      "전체 중복 샘플 수 :  23\n"
     ]
    },
    {
     "data": {
      "text/html": [
       "<div>\n",
       "<style scoped>\n",
       "    .dataframe tbody tr th:only-of-type {\n",
       "        vertical-align: middle;\n",
       "    }\n",
       "\n",
       "    .dataframe tbody tr th {\n",
       "        vertical-align: top;\n",
       "    }\n",
       "\n",
       "    .dataframe thead th {\n",
       "        text-align: right;\n",
       "    }\n",
       "</style>\n",
       "<table border=\"1\" class=\"dataframe\">\n",
       "  <thead>\n",
       "    <tr style=\"text-align: right;\">\n",
       "      <th></th>\n",
       "      <th>headlines</th>\n",
       "      <th>text</th>\n",
       "    </tr>\n",
       "  </thead>\n",
       "  <tbody>\n",
       "    <tr>\n",
       "      <th>51012</th>\n",
       "      <td>Longest Test innings was longer than 10 footba...</td>\n",
       "      <td>Former Pakistani cricketer Hanif Mohammad batt...</td>\n",
       "    </tr>\n",
       "    <tr>\n",
       "      <th>53731</th>\n",
       "      <td>Captain once dropped himself, replacement brok...</td>\n",
       "      <td>England captain Mike Denness left himself out ...</td>\n",
       "    </tr>\n",
       "    <tr>\n",
       "      <th>55374</th>\n",
       "      <td>India marks National Mathematics Day in memory...</td>\n",
       "      <td>National Mathematics Day is celebrated on Dece...</td>\n",
       "    </tr>\n",
       "    <tr>\n",
       "      <th>58769</th>\n",
       "      <td>Indian bowler once took 2 hat-tricks in a sing...</td>\n",
       "      <td>Former Services' medium-pacer Joginder Rao pic...</td>\n",
       "    </tr>\n",
       "    <tr>\n",
       "      <th>59705</th>\n",
       "      <td>Why is England-Australia Test series called 'T...</td>\n",
       "      <td>England was beaten at home for the first time ...</td>\n",
       "    </tr>\n",
       "    <tr>\n",
       "      <th>60724</th>\n",
       "      <td>Sachin's debut was not telecast in India due t...</td>\n",
       "      <td>The Test in which Sachin Tendulkar made his in...</td>\n",
       "    </tr>\n",
       "    <tr>\n",
       "      <th>60885</th>\n",
       "      <td>Who is the cricketer with longest known surnam...</td>\n",
       "      <td>Fijian cricketer Ilikena Lasarusa Talebulamain...</td>\n",
       "    </tr>\n",
       "    <tr>\n",
       "      <th>62063</th>\n",
       "      <td>An ODI was once played in the middle of a Test...</td>\n",
       "      <td>Zimbabwe played an ODI against New Zealand in ...</td>\n",
       "    </tr>\n",
       "    <tr>\n",
       "      <th>62575</th>\n",
       "      <td>Virat Kohli took a wicket on the 0th ball of h...</td>\n",
       "      <td>Virat Kohli dismissed England's Kevin Pieterse...</td>\n",
       "    </tr>\n",
       "    <tr>\n",
       "      <th>63533</th>\n",
       "      <td>Bhabha convinced PM Nehru to start India's nuc...</td>\n",
       "      <td>Born on October 30, 1909, Padma Bhushan-awarde...</td>\n",
       "    </tr>\n",
       "    <tr>\n",
       "      <th>64468</th>\n",
       "      <td>WeWork offers collaborative co-working space f...</td>\n",
       "      <td>WeWork is a platform for creators, which provi...</td>\n",
       "    </tr>\n",
       "    <tr>\n",
       "      <th>69673</th>\n",
       "      <td>3 pairs of brothers once played for the same t...</td>\n",
       "      <td>The New Zealand-Zimbabwe Test, which started o...</td>\n",
       "    </tr>\n",
       "    <tr>\n",
       "      <th>70249</th>\n",
       "      <td>Inzamam once attacked fan with bat for calling...</td>\n",
       "      <td>Former Pakistan captain Inzamam-ul-Haq attacke...</td>\n",
       "    </tr>\n",
       "    <tr>\n",
       "      <th>70392</th>\n",
       "      <td>Warne rightly predicted India-Eng 2011 WC matc...</td>\n",
       "      <td>Before India-England 2011 World Cup match, for...</td>\n",
       "    </tr>\n",
       "    <tr>\n",
       "      <th>71887</th>\n",
       "      <td>Eng players once flew planes over stadium duri...</td>\n",
       "      <td>Former England players David Gower and John Mo...</td>\n",
       "    </tr>\n",
       "    <tr>\n",
       "      <th>74095</th>\n",
       "      <td>A solar eclipse once proved Einstein right, Ne...</td>\n",
       "      <td>English astronomer Arthur Eddington used 1919'...</td>\n",
       "    </tr>\n",
       "    <tr>\n",
       "      <th>75349</th>\n",
       "      <td>Bradman averaged 101.39 before last Test, ende...</td>\n",
       "      <td>Legendary Australian batsman Donald Bradman ha...</td>\n",
       "    </tr>\n",
       "    <tr>\n",
       "      <th>78244</th>\n",
       "      <td>1st player to hit 6 sixes in 1 over was born w...</td>\n",
       "      <td>Former Windies' cricketer Garry Sobers, the fi...</td>\n",
       "    </tr>\n",
       "    <tr>\n",
       "      <th>78521</th>\n",
       "      <td>CARS24 enables car owners to sell their cars i...</td>\n",
       "      <td>CARS24 has enabled car owners to sell their ca...</td>\n",
       "    </tr>\n",
       "    <tr>\n",
       "      <th>78522</th>\n",
       "      <td>Reebok launches FlexWeave technology in its la...</td>\n",
       "      <td>Reebok has launched FlexweaveÃ¢ÂÂan innovati...</td>\n",
       "    </tr>\n",
       "    <tr>\n",
       "      <th>81352</th>\n",
       "      <td>Nikola Tesla once worked for his arch rival Th...</td>\n",
       "      <td>Born on July 10, 1856, Serbian inventor Nikola...</td>\n",
       "    </tr>\n",
       "    <tr>\n",
       "      <th>84195</th>\n",
       "      <td>Northern Hemisphere witnesses longest day of t...</td>\n",
       "      <td>June 21 marks the beginning of summer in Earth...</td>\n",
       "    </tr>\n",
       "    <tr>\n",
       "      <th>86430</th>\n",
       "      <td>Warne produced 'ball of century' with his 1st ...</td>\n",
       "      <td>Legendary Australian spinner Shane Warne bowle...</td>\n",
       "    </tr>\n",
       "  </tbody>\n",
       "</table>\n",
       "</div>"
      ],
      "text/plain": [
       "                                               headlines  \\\n",
       "51012  Longest Test innings was longer than 10 footba...   \n",
       "53731  Captain once dropped himself, replacement brok...   \n",
       "55374  India marks National Mathematics Day in memory...   \n",
       "58769  Indian bowler once took 2 hat-tricks in a sing...   \n",
       "59705  Why is England-Australia Test series called 'T...   \n",
       "60724  Sachin's debut was not telecast in India due t...   \n",
       "60885  Who is the cricketer with longest known surnam...   \n",
       "62063  An ODI was once played in the middle of a Test...   \n",
       "62575  Virat Kohli took a wicket on the 0th ball of h...   \n",
       "63533  Bhabha convinced PM Nehru to start India's nuc...   \n",
       "64468  WeWork offers collaborative co-working space f...   \n",
       "69673  3 pairs of brothers once played for the same t...   \n",
       "70249  Inzamam once attacked fan with bat for calling...   \n",
       "70392  Warne rightly predicted India-Eng 2011 WC matc...   \n",
       "71887  Eng players once flew planes over stadium duri...   \n",
       "74095  A solar eclipse once proved Einstein right, Ne...   \n",
       "75349  Bradman averaged 101.39 before last Test, ende...   \n",
       "78244  1st player to hit 6 sixes in 1 over was born w...   \n",
       "78521  CARS24 enables car owners to sell their cars i...   \n",
       "78522  Reebok launches FlexWeave technology in its la...   \n",
       "81352  Nikola Tesla once worked for his arch rival Th...   \n",
       "84195  Northern Hemisphere witnesses longest day of t...   \n",
       "86430  Warne produced 'ball of century' with his 1st ...   \n",
       "\n",
       "                                                    text  \n",
       "51012  Former Pakistani cricketer Hanif Mohammad batt...  \n",
       "53731  England captain Mike Denness left himself out ...  \n",
       "55374  National Mathematics Day is celebrated on Dece...  \n",
       "58769  Former Services' medium-pacer Joginder Rao pic...  \n",
       "59705  England was beaten at home for the first time ...  \n",
       "60724  The Test in which Sachin Tendulkar made his in...  \n",
       "60885  Fijian cricketer Ilikena Lasarusa Talebulamain...  \n",
       "62063  Zimbabwe played an ODI against New Zealand in ...  \n",
       "62575  Virat Kohli dismissed England's Kevin Pieterse...  \n",
       "63533  Born on October 30, 1909, Padma Bhushan-awarde...  \n",
       "64468  WeWork is a platform for creators, which provi...  \n",
       "69673  The New Zealand-Zimbabwe Test, which started o...  \n",
       "70249  Former Pakistan captain Inzamam-ul-Haq attacke...  \n",
       "70392  Before India-England 2011 World Cup match, for...  \n",
       "71887  Former England players David Gower and John Mo...  \n",
       "74095  English astronomer Arthur Eddington used 1919'...  \n",
       "75349  Legendary Australian batsman Donald Bradman ha...  \n",
       "78244  Former Windies' cricketer Garry Sobers, the fi...  \n",
       "78521  CARS24 has enabled car owners to sell their ca...  \n",
       "78522  Reebok has launched FlexweaveÃ¢ÂÂan innovati...  \n",
       "81352  Born on July 10, 1856, Serbian inventor Nikola...  \n",
       "84195  June 21 marks the beginning of summer in Earth...  \n",
       "86430  Legendary Australian spinner Shane Warne bowle...  "
      ]
     },
     "execution_count": 151,
     "metadata": {},
     "output_type": "execute_result"
    }
   ],
   "source": [
    "print('전체 중복 샘플 수 : ',data['text'][data['headlines'].duplicated() & data['text'].duplicated()].count())\n",
    "data[data['headlines'].duplicated() & data['text'].duplicated()]"
   ]
  },
  {
   "cell_type": "markdown",
   "id": "incorrect-michigan",
   "metadata": {},
   "source": [
    "- 중복된 데이터 중 하나를 확인해보자."
   ]
  },
  {
   "cell_type": "code",
   "execution_count": 152,
   "id": "assured-council",
   "metadata": {},
   "outputs": [
    {
     "name": "stdout",
     "output_type": "stream",
     "text": [
      "headlines 길이\n",
      "1017     54\n",
      "51012    54\n",
      "Name: headlines, dtype: int64\n",
      "text 길이\n",
      "1017     366\n",
      "51012    366\n",
      "Name: text, dtype: int64\n"
     ]
    },
    {
     "data": {
      "text/plain": [
       "headlines    True\n",
       "text         True\n",
       "dtype: bool"
      ]
     },
     "execution_count": 152,
     "metadata": {},
     "output_type": "execute_result"
    }
   ],
   "source": [
    "dup = data[data['headlines'].str.contains('Longest Test innings was longer than 10 footba.')]\n",
    "dup\n",
    "for col in dup.columns:\n",
    "    print(f'{col} 길이')\n",
    "    print(dup[col].map(len))\n",
    "dup.loc[1017] == dup.loc[51012]"
   ]
  },
  {
   "cell_type": "markdown",
   "id": "respected-interview",
   "metadata": {},
   "source": [
    "- 우연히 뉴스 제목만 겹친 것이 아니라 뉴스 기사 내용까지 동일한 샘플이 23개나 존재했다. 중복된 행들을 아예 제거하자."
   ]
  },
  {
   "cell_type": "code",
   "execution_count": 153,
   "id": "funky-victor",
   "metadata": {},
   "outputs": [],
   "source": [
    "data.drop_duplicates(['headlines','text'], inplace=True)"
   ]
  },
  {
   "cell_type": "code",
   "execution_count": 154,
   "id": "foreign-commissioner",
   "metadata": {},
   "outputs": [
    {
     "name": "stdout",
     "output_type": "stream",
     "text": [
      "전체 샘플 수 :  98379\n",
      "headlines에서 유일한 샘플의 수 :  98280\n",
      "text에서 유일한 샘플의 수 :  98360\n"
     ]
    }
   ],
   "source": [
    "print(f'전체 샘플 수 : ', data[col].count())\n",
    "for col in data.columns:\n",
    "    print(f'{col}에서 유일한 샘플의 수 : ', data[col].nunique())"
   ]
  },
  {
   "cell_type": "markdown",
   "id": "varied-steering",
   "metadata": {},
   "source": [
    "## 2-2. 축약문 정규화\n",
    "- \\`를 사용해 축약된 문장을 다시 풀어주기 위한 정규화 사전을 구축한다."
   ]
  },
  {
   "cell_type": "code",
   "execution_count": 12,
   "id": "wired-solid",
   "metadata": {},
   "outputs": [
    {
     "name": "stdout",
     "output_type": "stream",
     "text": [
      "정규화 사전의 수:  120\n"
     ]
    }
   ],
   "source": [
    "contractions = {\"ain't\": \"is not\", \"aren't\": \"are not\",\"can't\": \"cannot\", \"'cause\": \"because\", \"could've\": \"could have\", \"couldn't\": \"could not\",\n",
    "                           \"didn't\": \"did not\",  \"doesn't\": \"does not\", \"don't\": \"do not\", \"hadn't\": \"had not\", \"hasn't\": \"has not\", \"haven't\": \"have not\",\n",
    "                           \"he'd\": \"he would\",\"he'll\": \"he will\", \"he's\": \"he is\", \"how'd\": \"how did\", \"how'd'y\": \"how do you\", \"how'll\": \"how will\", \"how's\": \"how is\",\n",
    "                           \"I'd\": \"I would\", \"I'd've\": \"I would have\", \"I'll\": \"I will\", \"I'll've\": \"I will have\",\"I'm\": \"I am\", \"I've\": \"I have\", \"i'd\": \"i would\",\n",
    "                           \"i'd've\": \"i would have\", \"i'll\": \"i will\",  \"i'll've\": \"i will have\",\"i'm\": \"i am\", \"i've\": \"i have\", \"isn't\": \"is not\", \"it'd\": \"it would\",\n",
    "                           \"it'd've\": \"it would have\", \"it'll\": \"it will\", \"it'll've\": \"it will have\",\"it's\": \"it is\", \"let's\": \"let us\", \"ma'am\": \"madam\",\n",
    "                           \"mayn't\": \"may not\", \"might've\": \"might have\",\"mightn't\": \"might not\",\"mightn't've\": \"might not have\", \"must've\": \"must have\",\n",
    "                           \"mustn't\": \"must not\", \"mustn't've\": \"must not have\", \"needn't\": \"need not\", \"needn't've\": \"need not have\",\"o'clock\": \"of the clock\",\n",
    "                           \"oughtn't\": \"ought not\", \"oughtn't've\": \"ought not have\", \"shan't\": \"shall not\", \"sha'n't\": \"shall not\", \"shan't've\": \"shall not have\",\n",
    "                           \"she'd\": \"she would\", \"she'd've\": \"she would have\", \"she'll\": \"she will\", \"she'll've\": \"she will have\", \"she's\": \"she is\",\n",
    "                           \"should've\": \"should have\", \"shouldn't\": \"should not\", \"shouldn't've\": \"should not have\", \"so've\": \"so have\",\"so's\": \"so as\",\n",
    "                           \"this's\": \"this is\",\"that'd\": \"that would\", \"that'd've\": \"that would have\", \"that's\": \"that is\", \"there'd\": \"there would\",\n",
    "                           \"there'd've\": \"there would have\", \"there's\": \"there is\", \"here's\": \"here is\",\"they'd\": \"they would\", \"they'd've\": \"they would have\",\n",
    "                           \"they'll\": \"they will\", \"they'll've\": \"they will have\", \"they're\": \"they are\", \"they've\": \"they have\", \"to've\": \"to have\",\n",
    "                           \"wasn't\": \"was not\", \"we'd\": \"we would\", \"we'd've\": \"we would have\", \"we'll\": \"we will\", \"we'll've\": \"we will have\", \"we're\": \"we are\",\n",
    "                           \"we've\": \"we have\", \"weren't\": \"were not\", \"what'll\": \"what will\", \"what'll've\": \"what will have\", \"what're\": \"what are\",\n",
    "                           \"what's\": \"what is\", \"what've\": \"what have\", \"when's\": \"when is\", \"when've\": \"when have\", \"where'd\": \"where did\", \"where's\": \"where is\",\n",
    "                           \"where've\": \"where have\", \"who'll\": \"who will\", \"who'll've\": \"who will have\", \"who's\": \"who is\", \"who've\": \"who have\",\n",
    "                           \"why's\": \"why is\", \"why've\": \"why have\", \"will've\": \"will have\", \"won't\": \"will not\", \"won't've\": \"will not have\",\n",
    "                           \"would've\": \"would have\", \"wouldn't\": \"would not\", \"wouldn't've\": \"would not have\", \"y'all\": \"you all\",\n",
    "                           \"y'all'd\": \"you all would\",\"y'all'd've\": \"you all would have\",\"y'all're\": \"you all are\",\"y'all've\": \"you all have\",\n",
    "                           \"you'd\": \"you would\", \"you'd've\": \"you would have\", \"you'll\": \"you will\", \"you'll've\": \"you will have\",\n",
    "                           \"you're\": \"you are\", \"you've\": \"you have\"}\n",
    "\n",
    "print(\"정규화 사전의 수: \", len(contractions))"
   ]
  },
  {
   "cell_type": "markdown",
   "id": "raising-glance",
   "metadata": {},
   "source": [
    "## 2-3. 불용어 제거\n",
    "- `NLTK` 불용어 리스트 참고해 샘플에서 불용어 제거하자.\n",
    "- 총 179개의 불용어가 정의되어 있다.\n",
    "- 짧은 문장인 `Summary`는 제거하지 않는다.\n",
    "- `Text`에서만 불용어를 제거하자."
   ]
  },
  {
   "cell_type": "code",
   "execution_count": 13,
   "id": "reserved-sound",
   "metadata": {
    "scrolled": true
   },
   "outputs": [
    {
     "name": "stdout",
     "output_type": "stream",
     "text": [
      "불용어 개수 : 179\n",
      "['i', 'me', 'my', 'myself', 'we', 'our', 'ours', 'ourselves', 'you', \"you're\", \"you've\", \"you'll\", \"you'd\", 'your', 'yours', 'yourself', 'yourselves', 'he', 'him', 'his', 'himself', 'she', \"she's\", 'her', 'hers', 'herself', 'it', \"it's\", 'its', 'itself', 'they', 'them', 'their', 'theirs', 'themselves', 'what', 'which', 'who', 'whom', 'this', 'that', \"that'll\", 'these', 'those', 'am', 'is', 'are', 'was', 'were', 'be', 'been', 'being', 'have', 'has', 'had', 'having', 'do', 'does', 'did', 'doing', 'a', 'an', 'the', 'and', 'but', 'if', 'or', 'because', 'as', 'until', 'while', 'of', 'at', 'by', 'for', 'with', 'about', 'against', 'between', 'into', 'through', 'during', 'before', 'after', 'above', 'below', 'to', 'from', 'up', 'down', 'in', 'out', 'on', 'off', 'over', 'under', 'again', 'further', 'then', 'once', 'here', 'there', 'when', 'where', 'why', 'how', 'all', 'any', 'both', 'each', 'few', 'more', 'most', 'other', 'some', 'such', 'no', 'nor', 'not', 'only', 'own', 'same', 'so', 'than', 'too', 'very', 's', 't', 'can', 'will', 'just', 'don', \"don't\", 'should', \"should've\", 'now', 'd', 'll', 'm', 'o', 're', 've', 'y', 'ain', 'aren', \"aren't\", 'couldn', \"couldn't\", 'didn', \"didn't\", 'doesn', \"doesn't\", 'hadn', \"hadn't\", 'hasn', \"hasn't\", 'haven', \"haven't\", 'isn', \"isn't\", 'ma', 'mightn', \"mightn't\", 'mustn', \"mustn't\", 'needn', \"needn't\", 'shan', \"shan't\", 'shouldn', \"shouldn't\", 'wasn', \"wasn't\", 'weren', \"weren't\", 'won', \"won't\", 'wouldn', \"wouldn't\"]\n"
     ]
    }
   ],
   "source": [
    "print('불용어 개수 :', len(stopwords.words('english') ))\n",
    "print(stopwords.words('english'))"
   ]
  },
  {
   "cell_type": "markdown",
   "id": "confident-statistics",
   "metadata": {},
   "source": [
    "## 2-4. 전처리\n",
    "- 앞서 생성한 축약어 사전과 불용어 목록을 활용해 전처리를 진행한다.\n",
    "- 소문자화\n",
    "- html 태그 포함된 경우 제거\n",
    "- 괄호 안에 포함된 문자열 제거\n",
    "- 소유격 's 제거\n",
    "- 특수문자 및 숫자 제거\n",
    "- m이 3개 이상이면 무의미한 경우이므로 제거"
   ]
  },
  {
   "cell_type": "code",
   "execution_count": 170,
   "id": "challenging-reward",
   "metadata": {},
   "outputs": [],
   "source": [
    "def preprocess_sentence(sentence, remove_stopwords=True):\n",
    "    sentence = sentence.lower() # 텍스트 소문자화\n",
    "    sentence = BeautifulSoup(sentence, \"lxml\").text # <br />, <a href = ...> 등의 html 태그 제거\n",
    "    sentence = re.sub(r'\\([^)]*\\)', '', sentence) # 괄호로 닫힌 문자열 (...) 제거 Ex) my husband (and myself!) for => my husband for\n",
    "    sentence = re.sub('\"','', sentence) # 쌍따옴표 \" 제거\n",
    "    sentence = ' '.join([contractions[t] if t in contractions else t for t in sentence.split(\" \")]) # 약어 정규화\n",
    "    sentence = re.sub(r\"'s\\b\",\"\", sentence) # 소유격 제거. Ex) roland's -> roland\n",
    "    sentence = re.sub(\"[^a-zA-Z]\", \" \", sentence) # 영어 외 문자(숫자, 특수문자 등) 공백으로 변환\n",
    "    sentence = re.sub('[m]{2,}', 'mm', sentence) # m이 3개 이상이면 2개로 변경. Ex) ummmmmmm yeah -> umm yeah\n",
    "    \n",
    "    # 불용어 제거 (Text)\n",
    "    if remove_stopwords:\n",
    "        tokens = ' '.join(word for word in sentence.split() if not word in stopwords.words('english') if len(word) > 1)\n",
    "    # 불용어 미제거 (Summary)\n",
    "    else:\n",
    "        tokens = ' '.join(word for word in sentence.split() if len(word) > 1)\n",
    "    return tokens"
   ]
  },
  {
   "cell_type": "code",
   "execution_count": 171,
   "id": "boolean-exception",
   "metadata": {
    "scrolled": true
   },
   "outputs": [
    {
     "name": "stdout",
     "output_type": "stream",
     "text": [
      "everything bought great infact ordered twice third ordered wasfor mother father\n",
      "great way to start the day\n"
     ]
    }
   ],
   "source": [
    "temp_text = 'Everything I bought was great, infact I ordered twice and the third ordered was<br />for my mother and father.'\n",
    "temp_summary = 'Great way to start (or finish) the day!!!'\n",
    "\n",
    "print(preprocess_sentence(temp_text))\n",
    "print(preprocess_sentence(temp_summary, False))"
   ]
  },
  {
   "cell_type": "markdown",
   "id": "trained-means",
   "metadata": {},
   "source": [
    "- 전체 데이터셋을 cpu 코어수 만큼 분할해서 멀티 프로세싱으로 전처리한다."
   ]
  },
  {
   "cell_type": "code",
   "execution_count": 172,
   "id": "better-pride",
   "metadata": {},
   "outputs": [],
   "source": [
    "import multiprocessing as mp   # 멀티 프로세싱으로 전처리 속도를 획기적으로 줄여봅시다\n",
    "from multiprocessing import Pool\n",
    "import time\n",
    "from functools import partial  # map을 할 때 함수에 여러 인자를 넣어줄 수 있도록 합니다\n",
    "\n",
    "# num_cores 만큼 쪼개진 데이터를 전처리하여 반환합니다\n",
    "def appendTexts(sentences, remove_stopwords):\n",
    "    texts = []\n",
    "    for s in sentences:\n",
    "        texts += preprocess_sentence(s, remove_stopwords),\n",
    "    return texts\n",
    "\n",
    "def preprocess_data(data, remove_stopwords=True):\n",
    "    start_time = time.time()\n",
    "    num_cores = mp.cpu_count()  # 컴퓨터의 코어 수를 구합니다\n",
    "\n",
    "    text_data_split = np.array_split(data, num_cores)  # 코어 수만큼 데이터를 배분하여 병렬적으로 처리할 수 있게 합니다\n",
    "    pool = Pool(num_cores)\n",
    "\n",
    "    processed_data = np.concatenate(pool.map(partial(appendTexts, remove_stopwords=remove_stopwords), text_data_split))  # 각자 작업한 데이터를 하나로 합쳐줍니다\n",
    "    pool.close()\n",
    "    pool.join()\n",
    "    print(time.time() - start_time, \" seconds\")\n",
    "    return processed_data"
   ]
  },
  {
   "cell_type": "code",
   "execution_count": 173,
   "id": "substantial-excuse",
   "metadata": {
    "scrolled": true
   },
   "outputs": [
    {
     "name": "stdout",
     "output_type": "stream",
     "text": [
      "187.81767416000366  seconds\n",
      "['saurav kant alumnus upgrad iiit pg program machine learning artificial intelligence sr systems engineer infosys almost years work experience program upgrad degree career support helped transition data scientist tech mahindra salary hike upgrad online power learning powered lakh careers'\n",
      " 'kunal shah credit card bill payment platform cred gave users chance win free food swiggy one year pranav kaushik delhi techie bagged reward spending cred coins users get one cred coin per rupee bill paid used avail rewards brands like ixigo bookmyshow ubereats cult fit'\n",
      " 'new zealand defeated india wickets fourth odi hamilton thursday win first match five match odi series india lost international match rohit sharma captaincy consecutive victories dating back march match witnessed india getting seventh lowest total odi cricket history'\n",
      " ...\n",
      " 'according reports new version science fiction film matrix development michael jordan reportedly play lead role film screenwriter zak penn talks write script film reports added actor keanu reeves starred original film followed two sequels'\n",
      " 'new music video shows rapper snoop dogg aiming toy gun clown character parodying us president donald trump video also shows tv airing news conference headline ronald klump wants deport doggs airing live clown house video remixed version song lavender'\n",
      " 'madhesi morcha alliance seven political parties withdrawn support pm pushpa kamal dahal led nepal government failed meet seven day ultimatum fulfil demands including endorsement revised constitution amendment bill morcha seats parliament despite withdrawal support immediate threat government']\n"
     ]
    }
   ],
   "source": [
    "clean_text = preprocess_data(data['text'])  # 클라우드 기준으로 3~4분 정도 소요 됩니다\n",
    "print(clean_text)"
   ]
  },
  {
   "cell_type": "code",
   "execution_count": 174,
   "id": "stopped-relative",
   "metadata": {
    "scrolled": false
   },
   "outputs": [
    {
     "name": "stdout",
     "output_type": "stream",
     "text": [
      "6.206622362136841  seconds\n",
      "['upgrad learner switches to career in ml al with salary hike'\n",
      " 'delhi techie wins free food from swiggy for one year on cred'\n",
      " 'new zealand end rohit sharma led india match winning streak' ...\n",
      " 'the matrix film to get reboot reports'\n",
      " 'snoop dogg aims gun at clown dressed as trump in new video'\n",
      " 'madhesi morcha withdraws support to nepalese government']\n"
     ]
    }
   ],
   "source": [
    "clean_headlines = preprocess_data(data['headlines'], remove_stopwords=False) # 클라우드 기준 1분정도 소요됩니다.\n",
    "print(clean_headlines)"
   ]
  },
  {
   "cell_type": "markdown",
   "id": "utility-satisfaction",
   "metadata": {},
   "source": [
    "- 전처리한 결과를 데이터셋에 적용한다.\n",
    "- 전처리 결과 공백이 된 경우 `np.nan`으로 대체한다."
   ]
  },
  {
   "cell_type": "code",
   "execution_count": 175,
   "id": "technological-participation",
   "metadata": {},
   "outputs": [],
   "source": [
    "data['text'] = clean_text\n",
    "data['headlines'] = clean_headlines\n",
    "\n",
    "data.replace('',np.nan, inplace=True)"
   ]
  },
  {
   "cell_type": "code",
   "execution_count": null,
   "id": "played-scout",
   "metadata": {},
   "outputs": [],
   "source": [
    "# 재 학습의 경우 토큰까지 추가한 파일 불러오기\n",
    "#data = pd.read_csv('news_summary_preprocessed.csv')"
   ]
  },
  {
   "cell_type": "markdown",
   "id": "modern-usage",
   "metadata": {},
   "source": [
    "## 2-5. 문장길이 분포 정리"
   ]
  },
  {
   "cell_type": "markdown",
   "id": "breathing-fourth",
   "metadata": {},
   "source": [
    "- text와 headlines의 최대길이, 최소길이, 평균길이 및 분포를 확인하자.\n",
    "- 전체 문장 분포에 비해서 너무 긴 문장은 제거해서 전체 데이터에 패딩이 적게 들어갈 수 있는 길이를 정한다."
   ]
  },
  {
   "cell_type": "code",
   "execution_count": 159,
   "id": "demographic-freeware",
   "metadata": {
    "scrolled": false
   },
   "outputs": [
    {
     "name": "stdout",
     "output_type": "stream",
     "text": [
      "headlines 열 최대 길이 : 86\n",
      "text 열 최대 길이 : 513\n"
     ]
    }
   ],
   "source": [
    "for col in data.columns:\n",
    "    print(f'{col} 열 최대 길이 :', data[col].map(len).max())"
   ]
  },
  {
   "cell_type": "code",
   "execution_count": 158,
   "id": "cheap-wagner",
   "metadata": {},
   "outputs": [
    {
     "name": "stdout",
     "output_type": "stream",
     "text": [
      "headlines 최소 길이 :  1\n",
      "headlines 최대 길이 :  18\n",
      "headlines 평균 길이 :  9.553786885412537\n"
     ]
    },
    {
     "data": {
      "image/png": "[encoded data removed]",
      "text/plain": [
       "<Figure size 720x576 with 2 Axes>"
      ]
     },
     "metadata": {
      "needs_background": "light"
     },
     "output_type": "display_data"
    },
    {
     "name": "stdout",
     "output_type": "stream",
     "text": [
      "text 최소 길이 :  1\n",
      "text 최대 길이 :  91\n",
      "text 평균 길이 :  58.23830288984438\n"
     ]
    },
    {
     "data": {
      "image/png": "[encoded data removed]",
      "text/plain": [
       "<Figure size 720x576 with 2 Axes>"
      ]
     },
     "metadata": {
      "needs_background": "light"
     },
     "output_type": "display_data"
    }
   ],
   "source": [
    "for col in data.columns:\n",
    "    cols_len = [len(s.split()) for s in data[col]]\n",
    "\n",
    "    print(f'{col} 최소 길이 : ',np.min(cols_len))\n",
    "    print(f'{col} 최대 길이 : ',np.max(cols_len))\n",
    "    print(f'{col} 평균 길이 : ',np.mean(cols_len))\n",
    "    \n",
    "    f, ax=plt.subplots(1,2,figsize=(10,8))\n",
    "    ax[0].boxplot(cols_len)\n",
    "    ax[0].set_title(col)\n",
    "    \n",
    "    ax[1].set_title(col)\n",
    "    ax[1].hist(cols_len, bins = 30)\n",
    "    ax[1].set_xlabel('length of samples')\n",
    "    ax[1].set_ylabel('number of samples')\n",
    "    \n",
    "    plt.show()"
   ]
  },
  {
   "cell_type": "code",
   "execution_count": 90,
   "id": "handled-leeds",
   "metadata": {},
   "outputs": [
    {
     "name": "stdout",
     "output_type": "stream",
     "text": [
      "9     26107\n",
      "10    25515\n",
      "11    15691\n",
      "8     15435\n",
      "12     6362\n",
      "7      5490\n",
      "13     1864\n",
      "6      1302\n",
      "14      338\n",
      "5       182\n",
      "15       67\n",
      "4        12\n",
      "16       10\n",
      "3         2\n",
      "1         1\n",
      "18        1\n",
      "dtype: int64\n",
      "60    42779\n",
      "59    17955\n",
      "58    11071\n",
      "57     7421\n",
      "56     5795\n",
      "55     4306\n",
      "54     3049\n",
      "53     2122\n",
      "52     1494\n",
      "51      980\n",
      "50      655\n",
      "49      233\n",
      "61      204\n",
      "48      119\n",
      "47       65\n",
      "46       43\n",
      "62       19\n",
      "64       18\n",
      "45       17\n",
      "44        7\n",
      "43        7\n",
      "63        5\n",
      "42        3\n",
      "41        3\n",
      "40        2\n",
      "66        2\n",
      "65        2\n",
      "1         1\n",
      "38        1\n",
      "91        1\n",
      "dtype: int64\n"
     ]
    }
   ],
   "source": [
    "for col in data.columns:\n",
    "    cols_len = pd.Series([len(s.split()) for s in data[col]]).value_counts()\n",
    "    print(cols_len)"
   ]
  },
  {
   "cell_type": "markdown",
   "id": "specific-windows",
   "metadata": {},
   "source": [
    "- 대부분의 text 단어개수 값이 66 이하에 분포하고 있다. 91 단어의 문장은 너무 많은 패딩이 들어가는 것을 막기 위해 제거하자.\n",
    "- 요약은 18개 단어 내로 비교적 좁은 범위에 분포하고 있다. 굳이 삭제할 필요는 없어보인다."
   ]
  },
  {
   "cell_type": "code",
   "execution_count": 176,
   "id": "serial-heading",
   "metadata": {},
   "outputs": [],
   "source": [
    "text_max_len = 67\n",
    "headlines_max_len = 18"
   ]
  },
  {
   "cell_type": "code",
   "execution_count": 161,
   "id": "qualified-settle",
   "metadata": {},
   "outputs": [],
   "source": [
    "def below_threshold_len(max_len, nested_list):\n",
    "    cnt = 0\n",
    "    for s in nested_list:\n",
    "        if(len(s.split()) <= max_len):\n",
    "            cnt = cnt + 1\n",
    "    print('전체 샘플 중 길이가 %s 이하인 샘플의 비율: %s'%(max_len, (cnt / len(nested_list))))"
   ]
  },
  {
   "cell_type": "code",
   "execution_count": 162,
   "id": "rising-serial",
   "metadata": {},
   "outputs": [
    {
     "name": "stdout",
     "output_type": "stream",
     "text": [
      "전체 샘플 중 길이가 67 이하인 샘플의 비율: 0.9999898352290632\n",
      "전체 샘플 중 길이가 18 이하인 샘플의 비율: 1.0\n"
     ]
    }
   ],
   "source": [
    "below_threshold_len(text_max_len, data['text'])\n",
    "below_threshold_len(headlines_max_len,  data['headlines'])"
   ]
  },
  {
   "cell_type": "code",
   "execution_count": 177,
   "id": "hungry-fever",
   "metadata": {},
   "outputs": [
    {
     "name": "stdout",
     "output_type": "stream",
     "text": [
      "전체 샘플수 : 98378\n"
     ]
    }
   ],
   "source": [
    "data = data[data['text'].apply(lambda x: len(x.split()) <= text_max_len)]\n",
    "data = data[data['headlines'].apply(lambda x: len(x.split()) <= headlines_max_len)]\n",
    "print('전체 샘플수 :', (len(data)))"
   ]
  },
  {
   "cell_type": "markdown",
   "id": "simple-password",
   "metadata": {},
   "source": [
    "## 2-6. 결측치 제거\n",
    "- 전처리 이후 결측치가 존재하는 지 확인한다."
   ]
  },
  {
   "cell_type": "code",
   "execution_count": 164,
   "id": "cooked-jenny",
   "metadata": {
    "scrolled": true
   },
   "outputs": [
    {
     "data": {
      "text/plain": [
       "headlines    0\n",
       "text         0\n",
       "dtype: int64"
      ]
     },
     "execution_count": 164,
     "metadata": {},
     "output_type": "execute_result"
    }
   ],
   "source": [
    "data.isnull().sum()"
   ]
  },
  {
   "cell_type": "markdown",
   "id": "detailed-lightweight",
   "metadata": {},
   "source": [
    "## 2-7. 시작 토큰, 종료 토큰 추가"
   ]
  },
  {
   "cell_type": "markdown",
   "id": "anonymous-cathedral",
   "metadata": {},
   "source": [
    "- 요약 데이터는 디코더의 입력이 되어 실제 요약을 생성하는데 사용되므로 시작 토큰과 종료 토큰을 추가한다."
   ]
  },
  {
   "cell_type": "code",
   "execution_count": 178,
   "id": "multiple-thomson",
   "metadata": {
    "scrolled": true
   },
   "outputs": [
    {
     "data": {
      "text/html": [
       "<div>\n",
       "<style scoped>\n",
       "    .dataframe tbody tr th:only-of-type {\n",
       "        vertical-align: middle;\n",
       "    }\n",
       "\n",
       "    .dataframe tbody tr th {\n",
       "        vertical-align: top;\n",
       "    }\n",
       "\n",
       "    .dataframe thead th {\n",
       "        text-align: right;\n",
       "    }\n",
       "</style>\n",
       "<table border=\"1\" class=\"dataframe\">\n",
       "  <thead>\n",
       "    <tr style=\"text-align: right;\">\n",
       "      <th></th>\n",
       "      <th>headlines</th>\n",
       "      <th>text</th>\n",
       "      <th>decoder_input</th>\n",
       "      <th>decoder_target</th>\n",
       "    </tr>\n",
       "  </thead>\n",
       "  <tbody>\n",
       "    <tr>\n",
       "      <th>0</th>\n",
       "      <td>upgrad learner switches to career in ml al wit...</td>\n",
       "      <td>saurav kant alumnus upgrad iiit pg program mac...</td>\n",
       "      <td>sostoken upgrad learner switches to career in ...</td>\n",
       "      <td>upgrad learner switches to career in ml al wit...</td>\n",
       "    </tr>\n",
       "    <tr>\n",
       "      <th>1</th>\n",
       "      <td>delhi techie wins free food from swiggy for on...</td>\n",
       "      <td>kunal shah credit card bill payment platform c...</td>\n",
       "      <td>sostoken delhi techie wins free food from swig...</td>\n",
       "      <td>delhi techie wins free food from swiggy for on...</td>\n",
       "    </tr>\n",
       "    <tr>\n",
       "      <th>2</th>\n",
       "      <td>new zealand end rohit sharma led india match w...</td>\n",
       "      <td>new zealand defeated india wickets fourth odi ...</td>\n",
       "      <td>sostoken new zealand end rohit sharma led indi...</td>\n",
       "      <td>new zealand end rohit sharma led india match w...</td>\n",
       "    </tr>\n",
       "    <tr>\n",
       "      <th>3</th>\n",
       "      <td>aegon life iterm insurance plan helps customer...</td>\n",
       "      <td>aegon life iterm insurance plan customers enjo...</td>\n",
       "      <td>sostoken aegon life iterm insurance plan helps...</td>\n",
       "      <td>aegon life iterm insurance plan helps customer...</td>\n",
       "    </tr>\n",
       "    <tr>\n",
       "      <th>4</th>\n",
       "      <td>have known hirani for yrs what if metoo claims...</td>\n",
       "      <td>speaking sexual harassment allegations rajkuma...</td>\n",
       "      <td>sostoken have known hirani for yrs what if met...</td>\n",
       "      <td>have known hirani for yrs what if metoo claims...</td>\n",
       "    </tr>\n",
       "  </tbody>\n",
       "</table>\n",
       "</div>"
      ],
      "text/plain": [
       "                                           headlines  \\\n",
       "0  upgrad learner switches to career in ml al wit...   \n",
       "1  delhi techie wins free food from swiggy for on...   \n",
       "2  new zealand end rohit sharma led india match w...   \n",
       "3  aegon life iterm insurance plan helps customer...   \n",
       "4  have known hirani for yrs what if metoo claims...   \n",
       "\n",
       "                                                text  \\\n",
       "0  saurav kant alumnus upgrad iiit pg program mac...   \n",
       "1  kunal shah credit card bill payment platform c...   \n",
       "2  new zealand defeated india wickets fourth odi ...   \n",
       "3  aegon life iterm insurance plan customers enjo...   \n",
       "4  speaking sexual harassment allegations rajkuma...   \n",
       "\n",
       "                                       decoder_input  \\\n",
       "0  sostoken upgrad learner switches to career in ...   \n",
       "1  sostoken delhi techie wins free food from swig...   \n",
       "2  sostoken new zealand end rohit sharma led indi...   \n",
       "3  sostoken aegon life iterm insurance plan helps...   \n",
       "4  sostoken have known hirani for yrs what if met...   \n",
       "\n",
       "                                      decoder_target  \n",
       "0  upgrad learner switches to career in ml al wit...  \n",
       "1  delhi techie wins free food from swiggy for on...  \n",
       "2  new zealand end rohit sharma led india match w...  \n",
       "3  aegon life iterm insurance plan helps customer...  \n",
       "4  have known hirani for yrs what if metoo claims...  "
      ]
     },
     "execution_count": 178,
     "metadata": {},
     "output_type": "execute_result"
    }
   ],
   "source": [
    "data['decoder_input'] = data['headlines'].apply(lambda x : 'sostoken '+ x)\n",
    "data['decoder_target'] = data['headlines'].apply(lambda x : x + ' eostoken')\n",
    "data.head()"
   ]
  },
  {
   "cell_type": "code",
   "execution_count": 179,
   "id": "defensive-liver",
   "metadata": {},
   "outputs": [],
   "source": [
    "data.to_csv('news_summary_preprocessed.csv',index=None)"
   ]
  },
  {
   "cell_type": "code",
   "execution_count": 167,
   "id": "fiscal-polish",
   "metadata": {},
   "outputs": [],
   "source": [
    "# 재 학습 수행 시 전처리 진행한 파일 불러오기\n",
    "data = pd.read_csv('news_summary_preprocessed.csv')"
   ]
  },
  {
   "cell_type": "code",
   "execution_count": 181,
   "id": "eastern-flavor",
   "metadata": {
    "scrolled": true
   },
   "outputs": [
    {
     "data": {
      "text/html": [
       "<div>\n",
       "<style scoped>\n",
       "    .dataframe tbody tr th:only-of-type {\n",
       "        vertical-align: middle;\n",
       "    }\n",
       "\n",
       "    .dataframe tbody tr th {\n",
       "        vertical-align: top;\n",
       "    }\n",
       "\n",
       "    .dataframe thead th {\n",
       "        text-align: right;\n",
       "    }\n",
       "</style>\n",
       "<table border=\"1\" class=\"dataframe\">\n",
       "  <thead>\n",
       "    <tr style=\"text-align: right;\">\n",
       "      <th></th>\n",
       "      <th>headlines</th>\n",
       "      <th>text</th>\n",
       "      <th>decoder_input</th>\n",
       "      <th>decoder_target</th>\n",
       "    </tr>\n",
       "  </thead>\n",
       "  <tbody>\n",
       "    <tr>\n",
       "      <th>9649</th>\n",
       "      <td>juventus apologises for suicide condolence to ...</td>\n",
       "      <td>portugal captain cristiano ronaldo club juvent...</td>\n",
       "      <td>sostoken juventus apologises for suicide condo...</td>\n",
       "      <td>juventus apologises for suicide condolence to ...</td>\n",
       "    </tr>\n",
       "    <tr>\n",
       "      <th>48923</th>\n",
       "      <td>beyonc would not be as successful with darker ...</td>\n",
       "      <td>beyonc father mathew knowles said daughter wou...</td>\n",
       "      <td>sostoken beyonc would not be as successful wit...</td>\n",
       "      <td>beyonc would not be as successful with darker ...</td>\n",
       "    </tr>\n",
       "    <tr>\n",
       "      <th>22866</th>\n",
       "      <td>chitrangda role in saheb biwi aur cut short re...</td>\n",
       "      <td>chitrangda singh role saheb biwi aur gangster ...</td>\n",
       "      <td>sostoken chitrangda role in saheb biwi aur cut...</td>\n",
       "      <td>chitrangda role in saheb biwi aur cut short re...</td>\n",
       "    </tr>\n",
       "    <tr>\n",
       "      <th>11009</th>\n",
       "      <td>yr old girl dies in landslide in people rescued</td>\n",
       "      <td>nine year old bakarwal girl died three family ...</td>\n",
       "      <td>sostoken yr old girl dies in landslide in peop...</td>\n",
       "      <td>yr old girl dies in landslide in people rescue...</td>\n",
       "    </tr>\n",
       "    <tr>\n",
       "      <th>92038</th>\n",
       "      <td>kashmiri scholar leaves bits pilani after faci...</td>\n",
       "      <td>hashim sofi kashmiri scholar birla institute t...</td>\n",
       "      <td>sostoken kashmiri scholar leaves bits pilani a...</td>\n",
       "      <td>kashmiri scholar leaves bits pilani after faci...</td>\n",
       "    </tr>\n",
       "  </tbody>\n",
       "</table>\n",
       "</div>"
      ],
      "text/plain": [
       "                                               headlines  \\\n",
       "9649   juventus apologises for suicide condolence to ...   \n",
       "48923  beyonc would not be as successful with darker ...   \n",
       "22866  chitrangda role in saheb biwi aur cut short re...   \n",
       "11009    yr old girl dies in landslide in people rescued   \n",
       "92038  kashmiri scholar leaves bits pilani after faci...   \n",
       "\n",
       "                                                    text  \\\n",
       "9649   portugal captain cristiano ronaldo club juvent...   \n",
       "48923  beyonc father mathew knowles said daughter wou...   \n",
       "22866  chitrangda singh role saheb biwi aur gangster ...   \n",
       "11009  nine year old bakarwal girl died three family ...   \n",
       "92038  hashim sofi kashmiri scholar birla institute t...   \n",
       "\n",
       "                                           decoder_input  \\\n",
       "9649   sostoken juventus apologises for suicide condo...   \n",
       "48923  sostoken beyonc would not be as successful wit...   \n",
       "22866  sostoken chitrangda role in saheb biwi aur cut...   \n",
       "11009  sostoken yr old girl dies in landslide in peop...   \n",
       "92038  sostoken kashmiri scholar leaves bits pilani a...   \n",
       "\n",
       "                                          decoder_target  \n",
       "9649   juventus apologises for suicide condolence to ...  \n",
       "48923  beyonc would not be as successful with darker ...  \n",
       "22866  chitrangda role in saheb biwi aur cut short re...  \n",
       "11009  yr old girl dies in landslide in people rescue...  \n",
       "92038  kashmiri scholar leaves bits pilani after faci...  "
      ]
     },
     "execution_count": 181,
     "metadata": {},
     "output_type": "execute_result"
    }
   ],
   "source": [
    "data.sample(5)"
   ]
  },
  {
   "cell_type": "markdown",
   "id": "certain-injection",
   "metadata": {},
   "source": [
    "## 2-8. train, test 데이터 분리"
   ]
  },
  {
   "cell_type": "markdown",
   "id": "coral-upset",
   "metadata": {},
   "source": [
    "- 기사 원문은 인코더의 입력으로\n",
    "- 시작 토큰을 붙인 기사 제목은 디코더의 입력으로\n",
    "- 종료 토큰을 붙인 기사 제목은 디코더의 레이블로 만든다."
   ]
  },
  {
   "cell_type": "code",
   "execution_count": 180,
   "id": "streaming-happening",
   "metadata": {},
   "outputs": [],
   "source": [
    "encoder_input = np.array(data['text']) # 인코더의 입력\n",
    "decoder_input = np.array(data['decoder_input']) # 디코더의 입력\n",
    "decoder_target = np.array(data['decoder_target']) # 디코더의 레이블"
   ]
  },
  {
   "cell_type": "code",
   "execution_count": 182,
   "id": "julian-estate",
   "metadata": {},
   "outputs": [
    {
     "name": "stdout",
     "output_type": "stream",
     "text": [
      "[72215 25401 87758 ... 82643 69134 85081]\n"
     ]
    }
   ],
   "source": [
    "indices = np.arange(encoder_input.shape[0])\n",
    "np.random.shuffle(indices)\n",
    "print(indices)"
   ]
  },
  {
   "cell_type": "code",
   "execution_count": 183,
   "id": "smart-supply",
   "metadata": {},
   "outputs": [],
   "source": [
    "encoder_input = encoder_input[indices]\n",
    "decoder_input = decoder_input[indices]\n",
    "decoder_target = decoder_target[indices]"
   ]
  },
  {
   "cell_type": "code",
   "execution_count": 184,
   "id": "tracked-harvard",
   "metadata": {
    "scrolled": true
   },
   "outputs": [
    {
     "name": "stdout",
     "output_type": "stream",
     "text": [
      "테스트 데이터의 수 : 19675\n"
     ]
    }
   ],
   "source": [
    "n_of_val = int(len(encoder_input)*0.2)\n",
    "print('테스트 데이터의 수 :', n_of_val)"
   ]
  },
  {
   "cell_type": "code",
   "execution_count": 185,
   "id": "diagnostic-surface",
   "metadata": {},
   "outputs": [
    {
     "name": "stdout",
     "output_type": "stream",
     "text": [
      "훈련 데이터의 개수 : 78703\n",
      "훈련 레이블의 개수 : 78703\n",
      "테스트 데이터의 개수 : 19675\n",
      "테스트 레이블의 개수 : 19675\n"
     ]
    }
   ],
   "source": [
    "encoder_input_train = encoder_input[:-n_of_val]\n",
    "decoder_input_train = decoder_input[:-n_of_val]\n",
    "decoder_target_train = decoder_target[:-n_of_val]\n",
    "\n",
    "encoder_input_test = encoder_input[-n_of_val:]\n",
    "decoder_input_test = decoder_input[-n_of_val:]\n",
    "decoder_target_test = decoder_target[-n_of_val:]\n",
    "\n",
    "print('훈련 데이터의 개수 :', len(encoder_input_train))\n",
    "print('훈련 레이블의 개수 :', len(decoder_input_train))\n",
    "print('테스트 데이터의 개수 :', len(encoder_input_test))\n",
    "print('테스트 레이블의 개수 :', len(decoder_input_test))"
   ]
  },
  {
   "cell_type": "markdown",
   "id": "quiet-dominican",
   "metadata": {},
   "source": [
    "## 2-9. 출현 빈도 적은 단어 제외\n",
    "- 데이터셋의 전체 단어 사전 크기는 매우 큰데에 비해 실제 사용 빈도수가 높은 단어는 몇 개 되지 않는다.\n",
    "- 특정 빈도수 이상으로 나타나는 경우만 포함하자."
   ]
  },
  {
   "cell_type": "code",
   "execution_count": 186,
   "id": "circular-narrative",
   "metadata": {},
   "outputs": [],
   "source": [
    "src_tokenizer = Tokenizer()\n",
    "src_tokenizer.fit_on_texts(encoder_input_train)"
   ]
  },
  {
   "cell_type": "markdown",
   "id": "under-charlotte",
   "metadata": {},
   "source": [
    "- 적절한 빈도수 임계치를 찾아보자."
   ]
  },
  {
   "cell_type": "code",
   "execution_count": 28,
   "id": "flying-athens",
   "metadata": {},
   "outputs": [
    {
     "name": "stdout",
     "output_type": "stream",
     "text": [
      "단어 집합(vocabulary)의 크기 : 69579\n",
      "등장 빈도가 8번 이하인 희귀 단어의 수: 50165\n",
      "단어 집합에서 희귀 단어를 제외시킬 경우의 단어 집합의 크기 19414\n",
      "단어 집합에서 희귀 단어의 비율: 72.09790310294773\n",
      "전체 등장 빈도에서 희귀 단어 등장 빈도 비율: 4.231518533164515\n"
     ]
    }
   ],
   "source": [
    "threshold = 9\n",
    "total_cnt = len(src_tokenizer.word_index) # 단어 사전 단어 개수\n",
    "rare_cnt = 0 # 등장 빈도수가 threshold보다 작은 단어의 개수를 카운트\n",
    "total_freq = 0 # 훈련 데이터의 전체 단어 빈도수 총 합\n",
    "rare_freq = 0 # 등장 빈도수가 threshold보다 작은 단어의 등장 빈도수의 총 합\n",
    "\n",
    "# 단어와 빈도수의 쌍(pair)을 key와 value로 받는다.\n",
    "for key, value in src_tokenizer.word_counts.items():\n",
    "    total_freq = total_freq + value\n",
    "\n",
    "    # 단어의 등장 빈도수가 threshold보다 작으면\n",
    "    if(value < threshold):\n",
    "        rare_cnt = rare_cnt + 1\n",
    "        rare_freq = rare_freq + value\n",
    "\n",
    "print('단어 집합(vocabulary)의 크기 :', total_cnt)\n",
    "print('등장 빈도가 %s번 이하인 희귀 단어의 수: %s'%(threshold - 1, rare_cnt))\n",
    "print('단어 집합에서 희귀 단어를 제외시킬 경우의 단어 집합의 크기 %s'%(total_cnt - rare_cnt))\n",
    "print(\"단어 집합에서 희귀 단어의 비율:\", (rare_cnt / total_cnt)*100)\n",
    "print(\"전체 등장 빈도에서 희귀 단어 등장 빈도 비율:\", (rare_freq / total_freq)*100)"
   ]
  },
  {
   "cell_type": "markdown",
   "id": "portable-closing",
   "metadata": {},
   "source": [
    "- 빈도수 9 이상의 단어들로 전체 데이터셋의 95.8% 정도를 커버할 수 있으므로 빈도수가 9일 때의 단어 사전 크기인 20000을 인코더의 단어 사전 크기로 정한다."
   ]
  },
  {
   "cell_type": "code",
   "execution_count": 187,
   "id": "vietnamese-legend",
   "metadata": {},
   "outputs": [],
   "source": [
    "src_vocab = 20000\n",
    "src_tokenizer = Tokenizer(num_words=src_vocab) # 단어 집합의 크기를 20,000으로 제한\n",
    "src_tokenizer.fit_on_texts(encoder_input_train) # 단어 집합 재생성."
   ]
  },
  {
   "cell_type": "markdown",
   "id": "powerful-seattle",
   "metadata": {},
   "source": [
    "## 2-10. 정수 인코딩 - `Tokenizer.texts_to_sequneces(txt_data)`\n",
    "- 실제 모델에서 사용할 수 있도록 문자열 시퀀스를 정수 시퀀스로 변환한다."
   ]
  },
  {
   "cell_type": "code",
   "execution_count": 188,
   "id": "focused-variation",
   "metadata": {
    "scrolled": true
   },
   "outputs": [
    {
     "name": "stdout",
     "output_type": "stream",
     "text": [
      "[[472, 1266, 58, 1, 1853, 741, 410, 1001, 328, 6561, 5610, 1379, 6740, 663, 170, 29, 5016, 6740, 1509, 15334, 201, 63, 1266, 1, 104, 5610, 835, 207, 70, 54, 3133], [2073, 328, 1253, 4101, 335, 6740, 29, 1509, 12, 206, 755, 1617, 328, 1717, 949, 4101, 259, 1172, 18, 949, 1700, 335, 1423, 18, 98, 949, 2, 1328, 276, 835, 207, 70, 1253, 4101, 3307, 70], [1559, 9, 2776, 5155, 19, 7, 3679, 1835, 9, 334, 475, 975, 3354, 7085, 869, 3502, 2674, 1191, 2164, 4176, 1835, 2391, 333, 132, 3574, 10, 230, 825, 7486, 904, 833, 797, 9, 301]]\n"
     ]
    }
   ],
   "source": [
    "# 텍스트 시퀀스를 정수 시퀀스로 변환\n",
    "encoder_input_train = src_tokenizer.texts_to_sequences(encoder_input_train) \n",
    "encoder_input_test = src_tokenizer.texts_to_sequences(encoder_input_test)\n",
    "\n",
    "# 잘 진행되었는지 샘플 출력\n",
    "print(encoder_input_train[:3])"
   ]
  },
  {
   "cell_type": "code",
   "execution_count": 189,
   "id": "ideal-offense",
   "metadata": {},
   "outputs": [
    {
     "name": "stdout",
     "output_type": "stream",
     "text": [
      "단어 집합(vocabulary)의 크기 : 30038\n",
      "등장 빈도가 8번 이하인 희귀 단어의 수: 21868\n",
      "단어 집합에서 희귀 단어를 제외시킬 경우의 단어 집합의 크기 8170\n",
      "단어 집합에서 희귀 단어의 비율: 72.80111858312803\n",
      "전체 등장 빈도에서 희귀 단어 등장 빈도 비율: 6.526439387305295\n"
     ]
    }
   ],
   "source": [
    "tar_tokenizer = Tokenizer()\n",
    "tar_tokenizer.fit_on_texts(decoder_input_train)\n",
    "total_cnt = len(tar_tokenizer.word_index) # 단어의 수\n",
    "rare_cnt = 0 # 등장 빈도수가 threshold보다 작은 단어의 개수를 카운트\n",
    "total_freq = 0 # 훈련 데이터의 전체 단어 빈도수 총 합\n",
    "rare_freq = 0 # 등장 빈도수가 threshold보다 작은 단어의 등장 빈도수의 총 합\n",
    "\n",
    "# 단어와 빈도수의 쌍(pair)을 key와 value로 받는다.\n",
    "for key, value in tar_tokenizer.word_counts.items():\n",
    "    total_freq = total_freq + value\n",
    "\n",
    "    # 단어의 등장 빈도수가 threshold보다 작으면\n",
    "    if(value < threshold):\n",
    "        rare_cnt = rare_cnt + 1\n",
    "        rare_freq = rare_freq + value\n",
    "\n",
    "print('단어 집합(vocabulary)의 크기 :', total_cnt)\n",
    "print('등장 빈도가 %s번 이하인 희귀 단어의 수: %s'%(threshold - 1, rare_cnt))\n",
    "print('단어 집합에서 희귀 단어를 제외시킬 경우의 단어 집합의 크기 %s'%(total_cnt - rare_cnt))\n",
    "print(\"단어 집합에서 희귀 단어의 비율:\", (rare_cnt / total_cnt)*100)\n",
    "print(\"전체 등장 빈도에서 희귀 단어 등장 빈도 비율:\", (rare_freq / total_freq)*100)"
   ]
  },
  {
   "cell_type": "code",
   "execution_count": 190,
   "id": "colonial-despite",
   "metadata": {},
   "outputs": [
    {
     "name": "stdout",
     "output_type": "stream",
     "text": [
      "input\n",
      "input  [[1, 6473, 3500, 23, 10, 1936, 668, 1039, 16, 695, 559], [1, 1368, 4402, 1039, 181, 354, 89, 6, 1904, 705], [1, 1535, 30, 44, 1018, 60, 460], [1, 7684, 1074, 248, 3, 110, 37, 1243], [1, 1163, 2539, 4403, 1574, 41, 333, 3, 2493]]\n",
      "target\n",
      "decoder  [[6473, 3500, 23, 10, 1936, 668, 1039, 16, 695, 559, 2], [1368, 4402, 1039, 181, 354, 89, 6, 1904, 705, 2], [1535, 30, 44, 1018, 60, 460, 2], [7684, 1074, 248, 3, 110, 37, 1243, 2], [1163, 2539, 4403, 1574, 41, 333, 3, 2493, 2]]\n"
     ]
    }
   ],
   "source": [
    "tar_vocab = 8000\n",
    "tar_tokenizer = Tokenizer(num_words=tar_vocab) \n",
    "tar_tokenizer.fit_on_texts(decoder_input_train)\n",
    "tar_tokenizer.fit_on_texts(decoder_target_train)\n",
    "\n",
    "# 텍스트 시퀀스를 정수 시퀀스로 변환\n",
    "decoder_input_train = tar_tokenizer.texts_to_sequences(decoder_input_train) \n",
    "decoder_target_train = tar_tokenizer.texts_to_sequences(decoder_target_train)\n",
    "decoder_input_test = tar_tokenizer.texts_to_sequences(decoder_input_test)\n",
    "decoder_target_test = tar_tokenizer.texts_to_sequences(decoder_target_test)\n",
    "\n",
    "# 잘 변환되었는지 확인\n",
    "print('input')\n",
    "print('input ',decoder_input_train[:5])\n",
    "print('target')\n",
    "print('decoder ',decoder_target_train[:5])"
   ]
  },
  {
   "cell_type": "markdown",
   "id": "hazardous-vienna",
   "metadata": {},
   "source": [
    "## 2-11. 전처리 결과 결측치 제거"
   ]
  },
  {
   "cell_type": "code",
   "execution_count": 191,
   "id": "asian-resolution",
   "metadata": {},
   "outputs": [
    {
     "name": "stdout",
     "output_type": "stream",
     "text": [
      "삭제할 훈련 데이터의 개수 : 0\n",
      "삭제할 테스트 데이터의 개수 : 1\n",
      "훈련 데이터의 개수 : 78703\n",
      "훈련 레이블의 개수 : 78703\n",
      "테스트 데이터의 개수 : 19674\n",
      "테스트 레이블의 개수 : 19674\n"
     ]
    }
   ],
   "source": [
    "drop_train = [index for index, sentence in enumerate(decoder_input_train) if len(sentence) == 1]\n",
    "drop_test = [index for index, sentence in enumerate(decoder_input_test) if len(sentence) == 1]\n",
    "\n",
    "print('삭제할 훈련 데이터의 개수 :', len(drop_train))\n",
    "print('삭제할 테스트 데이터의 개수 :', len(drop_test))\n",
    "\n",
    "encoder_input_train = np.delete(encoder_input_train, drop_train, axis=0)\n",
    "decoder_input_train = np.delete(decoder_input_train, drop_train, axis=0)\n",
    "decoder_target_train = np.delete(decoder_target_train, drop_train, axis=0)\n",
    "\n",
    "encoder_input_test = np.delete(encoder_input_test, drop_test, axis=0)\n",
    "decoder_input_test = np.delete(decoder_input_test, drop_test, axis=0)\n",
    "decoder_target_test = np.delete(decoder_target_test, drop_test, axis=0)\n",
    "\n",
    "print('훈련 데이터의 개수 :', len(encoder_input_train))\n",
    "print('훈련 레이블의 개수 :', len(decoder_input_train))\n",
    "print('테스트 데이터의 개수 :', len(encoder_input_test))\n",
    "print('테스트 레이블의 개수 :', len(decoder_input_test))"
   ]
  },
  {
   "cell_type": "markdown",
   "id": "differential-typing",
   "metadata": {},
   "source": [
    "## 2-10. 패딩"
   ]
  },
  {
   "cell_type": "code",
   "execution_count": 192,
   "id": "rotary-orchestra",
   "metadata": {},
   "outputs": [],
   "source": [
    "encoder_input_train = pad_sequences(encoder_input_train, maxlen=text_max_len, padding='post')\n",
    "encoder_input_test = pad_sequences(encoder_input_test, maxlen=text_max_len, padding='post')\n",
    "decoder_input_train = pad_sequences(decoder_input_train, maxlen=headlines_max_len, padding='post')\n",
    "decoder_target_train = pad_sequences(decoder_target_train, maxlen=headlines_max_len, padding='post')\n",
    "decoder_input_test = pad_sequences(decoder_input_test, maxlen=headlines_max_len, padding='post')\n",
    "decoder_target_test = pad_sequences(decoder_target_test, maxlen=headlines_max_len, padding='post')"
   ]
  },
  {
   "cell_type": "markdown",
   "id": "velvet-brook",
   "metadata": {},
   "source": [
    "# step3) 어텐션 매커니즘 사용"
   ]
  },
  {
   "cell_type": "markdown",
   "id": "sapphire-organizer",
   "metadata": {},
   "source": [
    "## 3-1. 인코더 설계"
   ]
  },
  {
   "cell_type": "code",
   "execution_count": 193,
   "id": "eligible-veteran",
   "metadata": {},
   "outputs": [
    {
     "name": "stdout",
     "output_type": "stream",
     "text": [
      "WARNING:tensorflow:Layer lstm_4 will not use cuDNN kernel since it doesn't meet the cuDNN kernel criteria. It will use generic GPU kernel as fallback when running on GPU\n",
      "WARNING:tensorflow:Layer lstm_5 will not use cuDNN kernel since it doesn't meet the cuDNN kernel criteria. It will use generic GPU kernel as fallback when running on GPU\n",
      "WARNING:tensorflow:Layer lstm_6 will not use cuDNN kernel since it doesn't meet the cuDNN kernel criteria. It will use generic GPU kernel as fallback when running on GPU\n"
     ]
    }
   ],
   "source": [
    "# 인코더 설계 시작\n",
    "embedding_dim = 128\n",
    "hidden_size = 256\n",
    "\n",
    "# 인코더\n",
    "encoder_inputs = Input(shape=(text_max_len,))\n",
    "\n",
    "# 인코더의 임베딩 층\n",
    "enc_emb = Embedding(src_vocab, embedding_dim)(encoder_inputs)\n",
    "\n",
    "# 인코더의 LSTM 1\n",
    "encoder_lstm1 = LSTM(hidden_size, return_sequences=True, return_state=True ,dropout = 0.4, recurrent_dropout = 0.4)\n",
    "encoder_output1, state_h1, state_c1 = encoder_lstm1(enc_emb)\n",
    "\n",
    "# 인코더의 LSTM 2\n",
    "encoder_lstm2 = LSTM(hidden_size, return_sequences=True, return_state=True, dropout=0.4, recurrent_dropout=0.4)\n",
    "encoder_output2, state_h2, state_c2 = encoder_lstm2(encoder_output1)\n",
    "\n",
    "# 인코더의 LSTM 3\n",
    "encoder_lstm3 = LSTM(hidden_size, return_state=True, return_sequences=True, dropout=0.4, recurrent_dropout=0.4)\n",
    "encoder_outputs, state_h, state_c= encoder_lstm3(encoder_output2)"
   ]
  },
  {
   "cell_type": "markdown",
   "id": "naval-apple",
   "metadata": {},
   "source": [
    "## 3-2. 디코더 설계"
   ]
  },
  {
   "cell_type": "code",
   "execution_count": 194,
   "id": "offshore-chick",
   "metadata": {},
   "outputs": [
    {
     "name": "stdout",
     "output_type": "stream",
     "text": [
      "WARNING:tensorflow:Layer lstm_7 will not use cuDNN kernel since it doesn't meet the cuDNN kernel criteria. It will use generic GPU kernel as fallback when running on GPU\n"
     ]
    }
   ],
   "source": [
    "# 디코더 설계\n",
    "decoder_inputs = Input(shape=(None,))\n",
    "\n",
    "# 디코더의 임베딩 층\n",
    "dec_emb_layer = Embedding(tar_vocab, embedding_dim)\n",
    "dec_emb = dec_emb_layer(decoder_inputs)\n",
    "\n",
    "# 디코더의 LSTM\n",
    "decoder_lstm = LSTM(hidden_size, return_sequences=True, return_state=True, dropout=0.4, recurrent_dropout=0.2)\n",
    "decoder_outputs, _, _ = decoder_lstm(dec_emb, initial_state=[state_h, state_c])"
   ]
  },
  {
   "cell_type": "code",
   "execution_count": 195,
   "id": "defensive-compilation",
   "metadata": {},
   "outputs": [],
   "source": [
    "# 디코더의 출력층\n",
    "decoder_softmax_layer = Dense(tar_vocab, activation='softmax')\n",
    "decoder_softmax_outputs = decoder_softmax_layer(decoder_outputs) "
   ]
  },
  {
   "cell_type": "markdown",
   "id": "committed-desperate",
   "metadata": {},
   "source": [
    "## 3-3. 어텐션 매커니즘 적용"
   ]
  },
  {
   "cell_type": "code",
   "execution_count": 52,
   "id": "proved-burke",
   "metadata": {},
   "outputs": [],
   "source": [
    "urllib.request.urlretrieve(\"https://raw.githubusercontent.com/thushv89/attention_keras/master/src/layers/attention.py\", filename=\"attention.py\")\n",
    "from attention import AttentionLayer"
   ]
  },
  {
   "cell_type": "code",
   "execution_count": 196,
   "id": "narrative-edwards",
   "metadata": {
    "scrolled": false
   },
   "outputs": [
    {
     "name": "stdout",
     "output_type": "stream",
     "text": [
      "Model: \"model_3\"\n",
      "__________________________________________________________________________________________________\n",
      "Layer (type)                    Output Shape         Param #     Connected to                     \n",
      "==================================================================================================\n",
      "input_6 (InputLayer)            [(None, 67)]         0                                            \n",
      "__________________________________________________________________________________________________\n",
      "embedding_2 (Embedding)         (None, 67, 128)      2560000     input_6[0][0]                    \n",
      "__________________________________________________________________________________________________\n",
      "lstm_4 (LSTM)                   [(None, 67, 256), (N 394240      embedding_2[0][0]                \n",
      "__________________________________________________________________________________________________\n",
      "input_7 (InputLayer)            [(None, None)]       0                                            \n",
      "__________________________________________________________________________________________________\n",
      "lstm_5 (LSTM)                   [(None, 67, 256), (N 525312      lstm_4[0][0]                     \n",
      "__________________________________________________________________________________________________\n",
      "embedding_3 (Embedding)         (None, None, 128)    1024000     input_7[0][0]                    \n",
      "__________________________________________________________________________________________________\n",
      "lstm_6 (LSTM)                   [(None, 67, 256), (N 525312      lstm_5[0][0]                     \n",
      "__________________________________________________________________________________________________\n",
      "lstm_7 (LSTM)                   [(None, None, 256),  394240      embedding_3[0][0]                \n",
      "                                                                 lstm_6[0][1]                     \n",
      "                                                                 lstm_6[0][2]                     \n",
      "__________________________________________________________________________________________________\n",
      "attention_layer (AttentionLayer ((None, None, 256),  131328      lstm_6[0][0]                     \n",
      "                                                                 lstm_7[0][0]                     \n",
      "__________________________________________________________________________________________________\n",
      "concat_layer (Concatenate)      (None, None, 512)    0           lstm_7[0][0]                     \n",
      "                                                                 attention_layer[0][0]            \n",
      "__________________________________________________________________________________________________\n",
      "dense_3 (Dense)                 (None, None, 8000)   4104000     concat_layer[0][0]               \n",
      "==================================================================================================\n",
      "Total params: 9,658,432\n",
      "Trainable params: 9,658,432\n",
      "Non-trainable params: 0\n",
      "__________________________________________________________________________________________________\n"
     ]
    }
   ],
   "source": [
    "# 어텐션 층(어텐션 함수)\n",
    "attn_layer = AttentionLayer(name='attention_layer')\n",
    "# 인코더와 디코더의 모든 time step의 hidden state를 어텐션 층에 전달하고 결과를 리턴\n",
    "attn_out, attn_states = attn_layer([encoder_outputs, decoder_outputs])\n",
    "\n",
    "# 어텐션의 결과와 디코더의 hidden state들을 연결\n",
    "decoder_concat_input = Concatenate(axis=-1, name='concat_layer')([decoder_outputs, attn_out])\n",
    "\n",
    "# 디코더의 출력층\n",
    "decoder_softmax_layer = Dense(tar_vocab, activation='softmax')\n",
    "decoder_softmax_outputs = decoder_softmax_layer(decoder_concat_input)\n",
    "\n",
    "# 모델 정의\n",
    "model = Model([encoder_inputs, decoder_inputs], decoder_softmax_outputs)\n",
    "model.summary()"
   ]
  },
  {
   "cell_type": "code",
   "execution_count": 197,
   "id": "representative-consensus",
   "metadata": {},
   "outputs": [
    {
     "data": {
      "image/png": "[encoded data removed]",
      "text/plain": [
       "<IPython.core.display.Image object>"
      ]
     },
     "execution_count": 197,
     "metadata": {},
     "output_type": "execute_result"
    }
   ],
   "source": [
    "plot_model(model, to_file='model_shapes.png', show_shapes=True)"
   ]
  },
  {
   "cell_type": "markdown",
   "id": "statewide-region",
   "metadata": {},
   "source": [
    "## 3-4. 모델 훈련"
   ]
  },
  {
   "cell_type": "code",
   "execution_count": 164,
   "id": "representative-three",
   "metadata": {},
   "outputs": [
    {
     "name": "stdout",
     "output_type": "stream",
     "text": [
      "Epoch 1/50\n",
      "307/307 [==============================] - 312s 983ms/step - loss: 4.0964 - val_loss: 3.3904\n",
      "Epoch 2/50\n",
      "307/307 [==============================] - 303s 986ms/step - loss: 3.3536 - val_loss: 3.1362\n",
      "Epoch 3/50\n",
      "307/307 [==============================] - 302s 985ms/step - loss: 3.0861 - val_loss: 2.9361\n",
      "Epoch 4/50\n",
      "307/307 [==============================] - 301s 980ms/step - loss: 2.8896 - val_loss: 2.8003\n",
      "Epoch 5/50\n",
      "307/307 [==============================] - 296s 966ms/step - loss: 2.7402 - val_loss: 2.7069\n",
      "Epoch 6/50\n",
      "307/307 [==============================] - 296s 966ms/step - loss: 2.6193 - val_loss: 2.6293\n",
      "Epoch 7/50\n",
      "307/307 [==============================] - 296s 965ms/step - loss: 2.5197 - val_loss: 2.5696\n",
      "Epoch 8/50\n",
      "307/307 [==============================] - 296s 965ms/step - loss: 2.4229 - val_loss: 2.5110\n",
      "Epoch 9/50\n",
      "307/307 [==============================] - 296s 965ms/step - loss: 2.3519 - val_loss: 2.4693\n",
      "Epoch 10/50\n",
      "307/307 [==============================] - 297s 968ms/step - loss: 2.2832 - val_loss: 2.4357\n",
      "Epoch 11/50\n",
      "307/307 [==============================] - 297s 967ms/step - loss: 2.2192 - val_loss: 2.4032\n",
      "Epoch 12/50\n",
      "307/307 [==============================] - 296s 965ms/step - loss: 2.1677 - val_loss: 2.3849\n",
      "Epoch 13/50\n",
      "307/307 [==============================] - 296s 964ms/step - loss: 2.1196 - val_loss: 2.3581\n",
      "Epoch 14/50\n",
      "307/307 [==============================] - 296s 965ms/step - loss: 2.0688 - val_loss: 2.3397\n",
      "Epoch 15/50\n",
      "307/307 [==============================] - 296s 966ms/step - loss: 2.0284 - val_loss: 2.3344\n",
      "Epoch 16/50\n",
      "307/307 [==============================] - 297s 966ms/step - loss: 1.9940 - val_loss: 2.3181\n",
      "Epoch 17/50\n",
      "307/307 [==============================] - 296s 965ms/step - loss: 1.9557 - val_loss: 2.3052\n",
      "Epoch 18/50\n",
      "307/307 [==============================] - 296s 965ms/step - loss: 1.9220 - val_loss: 2.2979\n",
      "Epoch 19/50\n",
      "307/307 [==============================] - 296s 965ms/step - loss: 1.8893 - val_loss: 2.2888\n",
      "Epoch 20/50\n",
      "307/307 [==============================] - 296s 964ms/step - loss: 1.8627 - val_loss: 2.2815\n",
      "Epoch 21/50\n",
      "307/307 [==============================] - 296s 965ms/step - loss: 1.8368 - val_loss: 2.2744\n",
      "Epoch 22/50\n",
      "307/307 [==============================] - 296s 965ms/step - loss: 1.8153 - val_loss: 2.2718\n",
      "Epoch 23/50\n",
      "307/307 [==============================] - 296s 964ms/step - loss: 1.7846 - val_loss: 2.2687\n",
      "Epoch 24/50\n",
      "307/307 [==============================] - 296s 964ms/step - loss: 1.7650 - val_loss: 2.2632\n",
      "Epoch 25/50\n",
      "307/307 [==============================] - 296s 965ms/step - loss: 1.7482 - val_loss: 2.2601\n",
      "Epoch 26/50\n",
      "307/307 [==============================] - 297s 967ms/step - loss: 1.7250 - val_loss: 2.2564\n",
      "Epoch 27/50\n",
      "307/307 [==============================] - 297s 968ms/step - loss: 1.6999 - val_loss: 2.2581\n",
      "Epoch 28/50\n",
      "307/307 [==============================] - 297s 968ms/step - loss: 1.6837 - val_loss: 2.2565\n",
      "Epoch 00028: early stopping\n"
     ]
    }
   ],
   "source": [
    "model.compile(optimizer='rmsprop', loss='sparse_categorical_crossentropy')\n",
    "es = EarlyStopping(monitor='val_loss', patience=2, verbose=1)\n",
    "history = model.fit(x=[encoder_input_train, decoder_input_train], y=decoder_target_train, \\\n",
    "          validation_data=([encoder_input_test, decoder_input_test], decoder_target_test), \\\n",
    "          batch_size=256, callbacks=[es], epochs=50)"
   ]
  },
  {
   "cell_type": "markdown",
   "id": "technological-limit",
   "metadata": {},
   "source": [
    "## 3-5. 모델 저장"
   ]
  },
  {
   "cell_type": "code",
   "execution_count": null,
   "id": "loved-cardiff",
   "metadata": {},
   "outputs": [],
   "source": [
    "path=os.getenv('HOME')+'/aiffel/enode10/news_summarization/news_model/model1'\n",
    "model.save(path)"
   ]
  },
  {
   "cell_type": "code",
   "execution_count": 44,
   "id": "orange-preparation",
   "metadata": {},
   "outputs": [],
   "source": [
    "weights_path=os.getenv('HOME')+'/aiffel/enode10/news_summarization/news_checkpoints/model1_checkpoint'\n",
    "new_model.save_weights(weights_path)"
   ]
  },
  {
   "cell_type": "code",
   "execution_count": 38,
   "id": "beautiful-shame",
   "metadata": {
    "scrolled": true
   },
   "outputs": [
    {
     "name": "stdout",
     "output_type": "stream",
     "text": [
      "WARNING:tensorflow:Layer lstm will not use cuDNN kernel since it doesn't meet the cuDNN kernel criteria. It will use generic GPU kernel as fallback when running on GPU\n",
      "WARNING:tensorflow:Layer lstm_1 will not use cuDNN kernel since it doesn't meet the cuDNN kernel criteria. It will use generic GPU kernel as fallback when running on GPU\n",
      "WARNING:tensorflow:Layer lstm_2 will not use cuDNN kernel since it doesn't meet the cuDNN kernel criteria. It will use generic GPU kernel as fallback when running on GPU\n",
      "WARNING:tensorflow:Layer lstm_3 will not use cuDNN kernel since it doesn't meet the cuDNN kernel criteria. It will use generic GPU kernel as fallback when running on GPU\n"
     ]
    }
   ],
   "source": [
    "import tensorflow as tf\n",
    "new_model = tf.keras.models.load_model(path)"
   ]
  },
  {
   "cell_type": "code",
   "execution_count": 166,
   "id": "communist-bibliography",
   "metadata": {},
   "outputs": [
    {
     "data": {
      "text/plain": [
       "['/aiffel/aiffel/enode10/news_summarization/news_history/model1_history.pkl']"
      ]
     },
     "execution_count": 166,
     "metadata": {},
     "output_type": "execute_result"
    }
   ],
   "source": [
    "import joblib\n",
    "joblib.dump(model.history.history, os.getenv('HOME')+'/aiffel/enode10/news_summarization/news_history/model1_history.pkl')"
   ]
  },
  {
   "cell_type": "markdown",
   "id": "roman-interim",
   "metadata": {},
   "source": [
    "## cf) 모델 불러오기"
   ]
  },
  {
   "cell_type": "code",
   "execution_count": 54,
   "id": "boolean-wound",
   "metadata": {},
   "outputs": [
    {
     "data": {
      "text/plain": [
       "<tensorflow.python.training.tracking.util.CheckpointLoadStatus at 0x7f79edbcb350>"
      ]
     },
     "execution_count": 54,
     "metadata": {},
     "output_type": "execute_result"
    }
   ],
   "source": [
    "model.load_weights(weights_path)"
   ]
  },
  {
   "cell_type": "code",
   "execution_count": 55,
   "id": "sized-burns",
   "metadata": {},
   "outputs": [
    {
     "name": "stdout",
     "output_type": "stream",
     "text": [
      "Model: \"model\"\n",
      "__________________________________________________________________________________________________\n",
      "Layer (type)                    Output Shape         Param #     Connected to                     \n",
      "==================================================================================================\n",
      "input_1 (InputLayer)            [(None, 60)]         0                                            \n",
      "__________________________________________________________________________________________________\n",
      "embedding (Embedding)           (None, 60, 128)      2560000     input_1[0][0]                    \n",
      "__________________________________________________________________________________________________\n",
      "lstm (LSTM)                     [(None, 60, 256), (N 394240      embedding[0][0]                  \n",
      "__________________________________________________________________________________________________\n",
      "input_2 (InputLayer)            [(None, None)]       0                                            \n",
      "__________________________________________________________________________________________________\n",
      "lstm_1 (LSTM)                   [(None, 60, 256), (N 525312      lstm[0][0]                       \n",
      "__________________________________________________________________________________________________\n",
      "embedding_1 (Embedding)         (None, None, 128)    1024000     input_2[0][0]                    \n",
      "__________________________________________________________________________________________________\n",
      "lstm_2 (LSTM)                   [(None, 60, 256), (N 525312      lstm_1[0][0]                     \n",
      "__________________________________________________________________________________________________\n",
      "lstm_3 (LSTM)                   [(None, None, 256),  394240      embedding_1[0][0]                \n",
      "                                                                 lstm_2[0][1]                     \n",
      "                                                                 lstm_2[0][2]                     \n",
      "__________________________________________________________________________________________________\n",
      "attention_layer (AttentionLayer ((None, None, 256),  131328      lstm_2[0][0]                     \n",
      "                                                                 lstm_3[0][0]                     \n",
      "__________________________________________________________________________________________________\n",
      "concat_layer (Concatenate)      (None, None, 512)    0           lstm_3[0][0]                     \n",
      "                                                                 attention_layer[0][0]            \n",
      "__________________________________________________________________________________________________\n",
      "dense_1 (Dense)                 (None, None, 8000)   4104000     concat_layer[0][0]               \n",
      "==================================================================================================\n",
      "Total params: 9,658,432\n",
      "Trainable params: 9,658,432\n",
      "Non-trainable params: 0\n",
      "__________________________________________________________________________________________________\n"
     ]
    }
   ],
   "source": [
    "model.summary()"
   ]
  },
  {
   "cell_type": "code",
   "execution_count": 40,
   "id": "chemical-intake",
   "metadata": {},
   "outputs": [],
   "source": [
    "import joblib\n",
    "history = joblib.load(os.getenv('HOME')+'/aiffel/enode10/news_summarization/news_history/model1_history.pkl')"
   ]
  },
  {
   "cell_type": "markdown",
   "id": "ecological-clark",
   "metadata": {},
   "source": [
    "## 3-6. 훈련 결과 시각화"
   ]
  },
  {
   "cell_type": "code",
   "execution_count": 41,
   "id": "caroline-moldova",
   "metadata": {
    "scrolled": true
   },
   "outputs": [
    {
     "data": {
      "image/png": "[encoded data removed]",
      "text/plain": [
       "<Figure size 432x288 with 1 Axes>"
      ]
     },
     "metadata": {
      "needs_background": "light"
     },
     "output_type": "display_data"
    }
   ],
   "source": [
    "plt.plot(history['loss'], label='train')\n",
    "plt.plot(history['val_loss'], label='test')\n",
    "plt.legend()\n",
    "plt.show()"
   ]
  },
  {
   "cell_type": "markdown",
   "id": "exempt-emphasis",
   "metadata": {},
   "source": [
    "# step4) 실제 결과와 요약문 비교"
   ]
  },
  {
   "cell_type": "markdown",
   "id": "combined-symposium",
   "metadata": {},
   "source": [
    "## 4-1. 정수 인덱스를 텍스트 데이터로 복원"
   ]
  },
  {
   "cell_type": "code",
   "execution_count": 198,
   "id": "welsh-marker",
   "metadata": {},
   "outputs": [],
   "source": [
    "# 정수 인덱스를 텍스트 데이터로 복원하는데 필요한 단어사전 3개\n",
    "src_index_to_word = src_tokenizer.index_word # 원문 단어 집합에서 정수 -> 단어를 얻음\n",
    "tar_word_to_index = tar_tokenizer.word_index # 요약 단어 집합에서 단어 -> 정수를 얻음\n",
    "tar_index_to_word = tar_tokenizer.index_word # 요약 단어 집합에서 정수 -> 단어를 얻음"
   ]
  },
  {
   "cell_type": "markdown",
   "id": "australian-wesley",
   "metadata": {},
   "source": [
    "## 4-2. 인퍼런스 모델 설계"
   ]
  },
  {
   "cell_type": "code",
   "execution_count": 199,
   "id": "scenic-tunnel",
   "metadata": {},
   "outputs": [],
   "source": [
    "# 인코더 설계\n",
    "encoder_model = Model(inputs=encoder_inputs, outputs=[encoder_outputs, state_h, state_c])\n",
    "\n",
    "# 이전 시점의 상태들을 저장하는 텐서\n",
    "decoder_state_input_h = Input(shape=(hidden_size,))\n",
    "decoder_state_input_c = Input(shape=(hidden_size,))\n",
    "\n",
    "dec_emb2 = dec_emb_layer(decoder_inputs)\n",
    "\n",
    "# 문장의 다음 단어를 예측하기 위해서 초기 상태(initial_state)를 이전 시점의 상태로 사용. 이는 뒤의 함수 decode_sequence()에 구현\n",
    "# 훈련 과정에서와 달리 LSTM의 리턴하는 은닉 상태와 셀 상태인 state_h와 state_c를 버리지 않음.\n",
    "decoder_outputs2, state_h2, state_c2 = decoder_lstm(dec_emb2, initial_state=[decoder_state_input_h, decoder_state_input_c])"
   ]
  },
  {
   "cell_type": "code",
   "execution_count": 200,
   "id": "otherwise-pantyhose",
   "metadata": {},
   "outputs": [],
   "source": [
    "# 어텐션 함수\n",
    "decoder_hidden_state_input = Input(shape=(text_max_len, hidden_size))\n",
    "attn_out_inf, attn_states_inf = attn_layer([decoder_hidden_state_input, decoder_outputs2])\n",
    "decoder_inf_concat = Concatenate(axis=-1, name='concat')([decoder_outputs2, attn_out_inf])\n",
    "\n",
    "# 디코더의 출력층\n",
    "decoder_outputs2 = decoder_softmax_layer(decoder_inf_concat) \n",
    "\n",
    "# 최종 디코더 모델\n",
    "decoder_model = Model(\n",
    "    [decoder_inputs] + [decoder_hidden_state_input,decoder_state_input_h, decoder_state_input_c],\n",
    "    [decoder_outputs2] + [state_h2, state_c2])"
   ]
  },
  {
   "cell_type": "code",
   "execution_count": 201,
   "id": "relative-parts",
   "metadata": {},
   "outputs": [
    {
     "data": {
      "image/png": "[encoded data removed]",
      "text/plain": [
       "<IPython.core.display.Image object>"
      ]
     },
     "execution_count": 201,
     "metadata": {},
     "output_type": "execute_result"
    }
   ],
   "source": [
    "plot_model(decoder_model, to_file='with_attention_model_shapes.png', show_shapes=True)"
   ]
  },
  {
   "cell_type": "code",
   "execution_count": 202,
   "id": "common-imperial",
   "metadata": {},
   "outputs": [
    {
     "data": {
      "image/png": "[encoded data removed]",
      "text/plain": [
       "<IPython.core.display.Image object>"
      ]
     },
     "execution_count": 202,
     "metadata": {},
     "output_type": "execute_result"
    }
   ],
   "source": [
    "plot_model(model, show_shapes=True)"
   ]
  },
  {
   "cell_type": "markdown",
   "id": "suspected-commodity",
   "metadata": {},
   "source": [
    "## 4-3. 인퍼런스 단어 시퀀스 생성"
   ]
  },
  {
   "cell_type": "code",
   "execution_count": 292,
   "id": "serious-spotlight",
   "metadata": {},
   "outputs": [],
   "source": [
    "# 원본 함수\n",
    "def decode_sequence(input_seq):\n",
    "    # 입력으로부터 인코더의 상태를 얻음\n",
    "    e_out, e_h, e_c = encoder_model.predict(input_seq)\n",
    "\n",
    "     # <SOS>에 해당하는 토큰 생성\n",
    "    target_seq = np.zeros((1,1))\n",
    "    target_seq[0, 0] = tar_word_to_index['sostoken']\n",
    "    \n",
    "    token_bag = set()\n",
    "\n",
    "    stop_condition = False\n",
    "    decoded_sentence = ''\n",
    "    while not stop_condition: # stop_condition이 True가 될 때까지 루프 반복\n",
    "\n",
    "        output_tokens, h, c = decoder_model.predict([target_seq] + [e_out, e_h, e_c])\n",
    "        sampled_token_index = np.argmax(output_tokens[0, -1, :])\n",
    "        sampled_token = tar_index_to_word[sampled_token_index]\n",
    "\n",
    "        if (sampled_token!='eostoken'):\n",
    "            decoded_sentence += ' '+sampled_token\n",
    "\n",
    "        #  <eos>에 도달하거나 최대 길이를 넘으면 중단.\n",
    "        if (sampled_token == 'eostoken'  or len(decoded_sentence.split()) >= (headlines_max_len-1)):\n",
    "            stop_condition = True\n",
    "\n",
    "        # 길이가 1인 타겟 시퀀스를 업데이트\n",
    "        target_seq = np.zeros((1,1))\n",
    "        target_seq[0, 0] = sampled_token_index\n",
    "\n",
    "        # 상태를 업데이트 합니다.\n",
    "        e_h, e_c = h, c\n",
    "\n",
    "    return decoded_sentence"
   ]
  },
  {
   "cell_type": "code",
   "execution_count": 293,
   "id": "different-hybrid",
   "metadata": {},
   "outputs": [],
   "source": [
    "# 원문의 정수 시퀀스를 텍스트 시퀀스로 변환\n",
    "def seq2text(input_seq):\n",
    "    temp=''\n",
    "    for i in input_seq:\n",
    "        if (i!=0):\n",
    "            temp = temp + src_index_to_word[i]+' '\n",
    "    return temp\n",
    "\n",
    "# 요약문의 정수 시퀀스를 텍스트 시퀀스로 변환\n",
    "def seq2summary(input_seq):\n",
    "    temp=''\n",
    "    for i in input_seq:\n",
    "        if ((i!=0 and i!=tar_word_to_index['sostoken']) and i!=tar_word_to_index['eostoken']):\n",
    "            temp = temp + tar_index_to_word[i] + ' '\n",
    "    return temp"
   ]
  },
  {
   "cell_type": "code",
   "execution_count": 299,
   "id": "sacred-baltimore",
   "metadata": {
    "scrolled": false
   },
   "outputs": [
    {
     "name": "stdout",
     "output_type": "stream",
     "text": [
      "원문 : subodh kumar singh sho posted killed clashes bulandshahr first investigating officer lynching case case relates mob killing mohammad suspicion cow slaughter beef consumption singh transferred middle investigation chargesheet filed another officer \n",
      "실제 요약 : killed in bulandshahr clashes probed lynching \n",
      "예측 요약 :  raids divorce posting scindia hospitalised einstein saree ban depressed russia juventus fair faked authority said brahm achieves\n",
      "\n",
      "\n",
      "원문 : qatar airways ceo akbar al baker monday said airline buy stake jet airways part owned etihad whose owner abu dhabi enemy qatar abu dhabi part uae cut ties qatar accusations supporting terrorism al baker added qatar airways would delighted invest indigo \n",
      "실제 요약 : jet airways backed by enemy state will not invest qatar airways ceo \n",
      "예측 요약 :  raids intel temple explain sehwag explain unicorn unicorn unicorn keys erdo headed fodder keys deep diplomats achievements\n",
      "\n",
      "\n",
      "원문 : anti corruption anna hazare friday said delhi cm one time arvind kejriwal shattered dream getting rid graft india said pained read allegations financial irregularities kejriwal hazare said kejriwal launched aap lord gave wisdom keep away kejriwal \n",
      "실제 요약 : kejriwal has my dream says anna hazare \n",
      "예측 요약 :  mou sleep pakistan betrayed reception cells catalan copying supplier profile sharma addiction sonia bajrang firs team beer\n",
      "\n",
      "\n",
      "원문 : condemning heinous suspected chemical attack syria us president donald trump monday said make decision us response within hours adding much doubt behind attack trump said cannot allow atrocities like earlier trump called syrian president bashar al assad animal \n",
      "실제 요약 : will respond to syria gas attack within hours trump \n",
      "예측 요약 :  raids intel origin foils raids misused dating aligarh suhana frozen nirbhaya replies children spot feeling feeling oxygen\n",
      "\n",
      "\n",
      "원문 : filmmaker ram gopal varma said making biopic martial arts legend actor bruce lee adding actually said fun rgv earlier tweeted devotional worship bruce lee going make biopic release time shekhar kapur authorised one \n",
      "실제 요약 : am not making biopic on lee said it for fun rgv \n",
      "예측 요약 :  raids intel transfers chouhan done diving hints cycling dating fulfil dating physicists sequoia disaster physicists footage footage\n",
      "\n",
      "\n"
     ]
    }
   ],
   "source": [
    "indexs = np.random.randint(len(encoder_input_test),size=5)\n",
    "for i in indexs:\n",
    "    print(\"원문 :\", seq2text(encoder_input_test[i]))\n",
    "    print(\"실제 요약 :\", seq2summary(decoder_input_test[i]))\n",
    "    print(\"예측 요약 :\", decode_sequence(encoder_input_test[i].reshape(1, text_max_len)))\n",
    "    print(\"\\n\")"
   ]
  },
  {
   "cell_type": "markdown",
   "id": "antique-archives",
   "metadata": {},
   "source": [
    "- 실제 요약 결과가 그렇게 좋지 못한 편이다. 아예 핵심 키워드가 들어있지 않은 경우도 존재한다."
   ]
  },
  {
   "cell_type": "markdown",
   "id": "commercial-iceland",
   "metadata": {},
   "source": [
    "# step5) `Summa`이용해 추출적 요약"
   ]
  },
  {
   "cell_type": "code",
   "execution_count": 300,
   "id": "historic-first",
   "metadata": {},
   "outputs": [],
   "source": [
    "from summa.summarizer import summarize"
   ]
  },
  {
   "cell_type": "markdown",
   "id": "undefined-cartridge",
   "metadata": {},
   "source": [
    "## 5-1. 데이터 원문으로 추출적 요약"
   ]
  },
  {
   "cell_type": "code",
   "execution_count": 111,
   "id": "corresponding-modem",
   "metadata": {},
   "outputs": [],
   "source": [
    "original = pd.read_csv('news_summary_more.csv', encoding='iso-8859-1')"
   ]
  },
  {
   "cell_type": "markdown",
   "id": "hollow-roman",
   "metadata": {},
   "source": [
    "- 확실히 `ratio`가 높을 수록 추출에 성공한 문장 개수가 많았다."
   ]
  },
  {
   "cell_type": "code",
   "execution_count": 204,
   "id": "foster-service",
   "metadata": {
    "scrolled": false
   },
   "outputs": [
    {
     "name": "stdout",
     "output_type": "stream",
     "text": [
      "ratio 0.0 일때 30개 문장 중 성공한 문장은 0개\n",
      "ratio 0.1 일때 30개 문장 중 성공한 문장은 0개\n",
      "ratio 0.2 일때 30개 문장 중 성공한 문장은 0개\n",
      "ratio 0.30000000000000004 일때 30개 문장 중 성공한 문장은 1개\n",
      "ratio 0.4 일때 30개 문장 중 성공한 문장은 39개\n",
      "ratio 0.5 일때 30개 문장 중 성공한 문장은 50개\n",
      "ratio 0.6 일때 30개 문장 중 성공한 문장은 50개\n",
      "ratio 0.7 일때 30개 문장 중 성공한 문장은 49개\n",
      "ratio 0.7999999999999999 일때 30개 문장 중 성공한 문장은 48개\n",
      "ratio 0.8999999999999999 일때 30개 문장 중 성공한 문장은 49개\n",
      "ratio 0.9999999999999999 일때 30개 문장 중 성공한 문장은 50개\n"
     ]
    }
   ],
   "source": [
    "ratio = 0.0\n",
    "while ratio <= 1.0:\n",
    "    ext_count = 0\n",
    "    for text in original['text'].sample(50):\n",
    "        summary = summarize(text, ratio=ratio)\n",
    "        if summary: # 안비어있으면\n",
    "            ext_count +=1\n",
    "    print(f'ratio {ratio} 일때 30개 문장 중 성공한 문장은 {ext_count}개')\n",
    "    ratio += 0.1"
   ]
  },
  {
   "cell_type": "markdown",
   "id": "interesting-bedroom",
   "metadata": {},
   "source": [
    "- `words` 역시 값이 클 때 추출적 요약이 성공할 확률이 높았다."
   ]
  },
  {
   "cell_type": "code",
   "execution_count": 120,
   "id": "alien-probe",
   "metadata": {
    "scrolled": false
   },
   "outputs": [
    {
     "name": "stdout",
     "output_type": "stream",
     "text": [
      "words 1 일때 50개 문장 중 성공한 문장은 0개\n",
      "words 6 일때 50개 문장 중 성공한 문장은 1개\n",
      "words 11 일때 50개 문장 중 성공한 문장은 18개\n",
      "words 16 일때 50개 문장 중 성공한 문장은 44개\n",
      "words 21 일때 50개 문장 중 성공한 문장은 48개\n",
      "words 26 일때 50개 문장 중 성공한 문장은 46개\n",
      "words 31 일때 50개 문장 중 성공한 문장은 50개\n",
      "words 36 일때 50개 문장 중 성공한 문장은 49개\n",
      "words 41 일때 50개 문장 중 성공한 문장은 48개\n",
      "words 46 일때 50개 문장 중 성공한 문장은 49개\n",
      "words 51 일때 50개 문장 중 성공한 문장은 47개\n",
      "words 56 일때 50개 문장 중 성공한 문장은 48개\n"
     ]
    }
   ],
   "source": [
    "words = 1\n",
    "while words <= text_max_len:\n",
    "    ext_count = 0\n",
    "    for text in original['text'].sample(50):\n",
    "        summary = summarize(text, words=words)\n",
    "        if summary: # 안비어있으면\n",
    "            ext_count +=1\n",
    "    print(f'words {words} 일때 50개 문장 중 성공한 문장은 {ext_count}개')\n",
    "    words +=5"
   ]
  },
  {
   "cell_type": "markdown",
   "id": "strange-reality",
   "metadata": {},
   "source": [
    "- 그러나 단어 개수 및 비율이 커질 수록 요약의 의미가 떨어지기 때문에 비율 0.4 정도로 요약을 진행하자.\n",
    "- 실제 요약과 추출적 요약을 비교하면 문장 길이가 더 길기는 하지만 의미는 비슷한 문장이 만들어 진다."
   ]
  },
  {
   "cell_type": "code",
   "execution_count": 271,
   "id": "reasonable-cooling",
   "metadata": {},
   "outputs": [
    {
     "name": "stdout",
     "output_type": "stream",
     "text": [
      "원문\n",
      "US-based software developer Shantini Vyas has developed an app called Pawsy which lets users find and connect their pet dogs with nearby dogs. The app connects pets based on a number of questions related to their personality, size, and style. Pawsy allows users to view other dog profiles on the platform and includes 'add friends' feature. \n",
      "실제 요약\n",
      "App lets users connect their pet dogs with nearby dogs\n",
      "추출적 요약문\n",
      "US-based software developer Shantini Vyas has developed an app called Pawsy which lets users find and connect their pet dogs with nearby dogs.\n",
      "\n",
      "\n",
      "원문\n",
      "AIMIM chief Asaduddin Owaisi on Wednesday questioned why PM Narendra Modi doesn't sit on fast for \"farmers who lost their lives\" and for \"atrocities on Dalits\". Owaisi was reacting to PM Modi's decision to sit on a day-long fast against Parliament disruptions. Ã¢ÂÂWhy doesnÃ¢ÂÂt the prime minister sit on a fast to atone for his false promises?\" Owaisi added.\n",
      "실제 요약\n",
      "Why doesn't PM Modi fast for farmers, Dalits, asks Owaisi\n",
      "추출적 요약문\n",
      "Owaisi was reacting to PM Modi's decision to sit on a day-long fast against Parliament disruptions.\n",
      "\n",
      "\n",
      "원문\n",
      "A missing man in his 90s has been reunited with his family after a video of him being fed by a cop in Solapur went viral. His family had launched a search for him but failed. However, the viral video reached Mumbai, where it was seen by a head constable who recognised his missing neighbour in the video.\n",
      "실제 요약\n",
      "90-yr-old finds family after viral video of cop feeding him\n",
      "추출적 요약문\n",
      "A missing man in his 90s has been reunited with his family after a video of him being fed by a cop in Solapur went viral.\n",
      "\n",
      "\n",
      "원문\n",
      "Finnair flight AY666 flew from Copenhagen to Helsinki (airport code HEL) on Friday the 13th for the last time, the airline announced. Finnair, which has operated AY666 to Helsinki on Friday the 13th 21 times in 11 years, is changing its flight numbers this month. While 666 is called the Number of the Beast, 13 is considered unlucky in Christianity.\n",
      "실제 요약\n",
      "Flight 666 flies to HEL on Friday the 13th for last time\n",
      "추출적 요약문\n",
      "Finnair, which has operated AY666 to Helsinki on Friday the 13th 21 times in 11 years, is changing its flight numbers this month.\n",
      "\n",
      "\n"
     ]
    }
   ],
   "source": [
    "for text in original['text'].sample(5):\n",
    "    summary = summarize(text, ratio=0.4)\n",
    "    if summary: # 안비어있으면\n",
    "        print(f'원문\\n{text}')\n",
    "        real_summary = original[original['text']==text]['headlines'].iloc[0]\n",
    "        print(f'실제 요약\\n{real_summary}')\n",
    "        print(f'추출적 요약문\\n{summary}')\n",
    "        print('\\n')"
   ]
  },
  {
   "cell_type": "markdown",
   "id": "concrete-survey",
   "metadata": {},
   "source": [
    "## 5-2. 전처리를 거친 후 추상적 요약과 추출적 요약 성능 비교"
   ]
  },
  {
   "cell_type": "markdown",
   "id": "superior-animal",
   "metadata": {},
   "source": [
    "- 추출적 요약은 구둣점이 중요한 역할을 하기 때문에 구둣점을 제거하지 않는 전처리를 진행한다."
   ]
  },
  {
   "cell_type": "code",
   "execution_count": 254,
   "id": "recognized-riding",
   "metadata": {},
   "outputs": [],
   "source": [
    "# 추출적 요약용 전처리 함수\n",
    "def preprocess_extract_sentence(sentence, remove_stopwords=True):\n",
    "    sentence = sentence.lower() # 텍스트 소문자화\n",
    "    sentence = BeautifulSoup(sentence, \"lxml\").text # <br />, <a href = ...> 등의 html 태그 제거\n",
    "    sentence = re.sub(r'\\([^)]*\\)', '', sentence) # 괄호로 닫힌 문자열 (...) 제거 Ex) my husband (and myself!) for => my husband for\n",
    "    sentence = re.sub('\"','', sentence) # 쌍따옴표 \" 제거\n",
    "    sentence = ' '.join([contractions[t] if t in contractions else t for t in sentence.split(\" \")]) # 약어 정규화\n",
    "    sentence = re.sub(r\"'s\\b\",\"\", sentence) # 소유격 제거. Ex) roland's -> roland\n",
    "    sentence = re.sub(\"[^a-zA-Z.,!]\", \" \", sentence) # 영어 외 문자(숫자, 특수문자 등) 공백으로 변환\n",
    "    sentence = re.sub('[m]{2,}', 'mm', sentence) # m이 3개 이상이면 2개로 변경. Ex) ummmmmmm yeah -> umm yeah\n",
    "    \n",
    "    # 불용어 제거 (Text)\n",
    "    if remove_stopwords:\n",
    "        tokens = ' '.join(word for word in sentence.split() if not word in stopwords.words('english') if len(word) > 1)\n",
    "    # 불용어 미제거 (Summary)\n",
    "    else:\n",
    "        tokens = ' '.join(word for word in sentence.split() if len(word) > 1)\n",
    "    return tokens\n",
    "\n",
    "import multiprocessing as mp   # 멀티 프로세싱으로 전처리 속도를 획기적으로 줄여봅시다\n",
    "from multiprocessing import Pool\n",
    "import time\n",
    "from functools import partial  # map을 할 때 함수에 여러 인자를 넣어줄 수 있도록 합니다\n",
    "\n",
    "# num_cores 만큼 쪼개진 데이터를 전처리하여 반환합니다\n",
    "def appendTexts(sentences, remove_stopwords):\n",
    "    texts = []\n",
    "    for s in sentences:\n",
    "        texts += preprocess_extract_sentence(s, remove_stopwords),\n",
    "    return texts\n",
    "\n",
    "def preprocess_extract_data(data, remove_stopwords=True):\n",
    "    start_time = time.time()\n",
    "    num_cores = mp.cpu_count()  # 컴퓨터의 코어 수를 구합니다\n",
    "\n",
    "    text_data_split = np.array_split(data, num_cores)  # 코어 수만큼 데이터를 배분하여 병렬적으로 처리할 수 있게 합니다\n",
    "    pool = Pool(num_cores)\n",
    "\n",
    "    processed_data = np.concatenate(pool.map(partial(appendTexts, remove_stopwords=remove_stopwords), text_data_split))  # 각자 작업한 데이터를 하나로 합쳐줍니다\n",
    "    pool.close()\n",
    "    pool.join()\n",
    "    print(time.time() - start_time, \" seconds\")\n",
    "    return processed_data"
   ]
  },
  {
   "cell_type": "code",
   "execution_count": 237,
   "id": "aging-laundry",
   "metadata": {},
   "outputs": [],
   "source": [
    "original_pre = original.copy()"
   ]
  },
  {
   "cell_type": "code",
   "execution_count": 238,
   "id": "miniature-clinic",
   "metadata": {},
   "outputs": [
    {
     "name": "stdout",
     "output_type": "stream",
     "text": [
      "6.031383037567139  seconds\n",
      "187.28473830223083  seconds\n"
     ]
    }
   ],
   "source": [
    "original_pre['headlines'] = preprocess_extract_data(original['headlines'], remove_stopwords=False)\n",
    "original_pre['text'] = preprocess_extract_data(original['text'])\n",
    "original_pre.replace('',np.nan, inplace=True)"
   ]
  },
  {
   "cell_type": "code",
   "execution_count": 300,
   "id": "competitive-manor",
   "metadata": {
    "scrolled": false
   },
   "outputs": [
    {
     "name": "stdout",
     "output_type": "stream",
     "text": [
      "원문 : pradeep candidate pyramid party india upcoming telangana assembly elections believes non causing global warming pradeep btech graduate said scientific done proves non one primary reasons global warming huge acres land animal farms breed animals meat \n",
      "실제 요약 : non cause of global warming gana party leader \n",
      "예측 요약 :  raids intel origin tech warships iraq evms soorma bihar dating cycling dating prabhas lata promoting keeping keeping\n",
      "추출적 요약 : telangana rashtra samithi secured majority member telangana assembly, caretaker cm chandrashekar rao son kt rama rao said, non congress non bjp force emerging telangana.\n",
      "added, keen federal front.\n",
      "earlier, caretaker cm rao said actively participate national politics.\n",
      "\n",
      "\n",
      "원문 : saudi prince bin talal middle east richest person moved five star hotel held jail refusing pay billion reported settlement saudi authorities billionaire arrested last year around princes officials corruption probe launched government \n",
      "실제 요약 : middle east richest man jailed after refusing to pay bn \n",
      "예측 요약 :  raids divorce posting scindia hospitalised einstein saree ban depressed faked chalu sunday sunday sunday atmosphere toilet desert\n",
      "추출적 요약 : court delhi monday allowed christian michel, alleged middleman agustawestland vvip chopper case, make phone calls family lawyers.\n",
      "court granted minutes week make international calls.\n",
      "\n",
      "\n",
      "원문 : speaking inauguration former cm mg ramachandran statue chennai university actor rajinikanth said knows politics easy snakes added trusts govern way aiadmk leader present government politicians job said \n",
      "실제 요약 : politics has snakes and rajinikanth \n",
      "예측 요약 :  raids mou dressing rohtak congo wireless trains closure cycling allegation closure seller seller seller weeks cfo flies\n",
      "추출적 요약 : goa cm ex defence minister manohar parrikar written letter congress president rahul gandhi claim parrikar told nothing new rafale deal.\n",
      "five minute meeting, discuss anything rafale, added.\n",
      "\n",
      "\n",
      "원문 : rti reply revealed illegal clinics nursing homes run community health centre gurugram moreover bogus doctors qualifications working clinics responding query officials added complaint made offenders action taken \n",
      "실제 요약 : gurugram has fake doctors and illegal rti \n",
      "예측 요약 :  mou sleep betrayed betrayed hometown reception betrayed deployed vande deployed hosts abuses escape escape cracks ki condemns\n",
      "추출적 요약 : two year old toddler allegedly kidnapped woman playing outside house year old sister gurugram tuesday morning.\n",
      "woman took toddler home lying sister someone calling inside house.\n",
      "\n",
      "\n",
      "원문 : year old boy killed year old uttar pradesh avenge injuries former brother sustained altercation latter police said accused took boy nearby drain pretext buying chocolates pushed police also said year old misled investigation making false statements interrogation \n",
      "실제 요약 : year old kills year old to brother injury \n",
      "예측 요약 :  transfers rugby clooney clooney suffer transfers madrasas chouhan rakesh madrasas reservation madrasas reservation chouhan jones english dating\n",
      "추출적 요약 : pranav kaushik, delhi techie, bagged reward spending cred coins.\n",
      "users get one cred coin per rupee bill paid, used avail rewards brands like ixigo, bookmyshow, ubereats, cult.fit more.\n",
      "\n",
      "\n"
     ]
    }
   ],
   "source": [
    "idx = np.random.randint(len(encoder_input_test)-5,size=1)[0]\n",
    "idx\n",
    "for i in range(idx, idx+5):\n",
    "    origin = seq2text(encoder_input_test[i])\n",
    "    print(\"원문 :\", origin)\n",
    "    real_summary =  seq2summary(decoder_input_test[i])\n",
    "    print(\"실제 요약 :\",real_summary)\n",
    "    print(\"예측 요약 :\", decode_sequence(encoder_input_test[i].reshape(1, text_max_len)))\n",
    "    text = original_pre[original_pre['headlines'].str.contains(real_summary[:5])]['text'].iloc[0]\n",
    "    summary =  summarize(text, ratio=0.99)\n",
    "    if summary:\n",
    "        print(f'추출적 요약 : {summary}')    \n",
    "    else:\n",
    "        print('추출적 요약 실패')\n",
    "    print('\\n')"
   ]
  },
  {
   "cell_type": "markdown",
   "id": "preceding-stocks",
   "metadata": {},
   "source": [
    "### 문법 완성도 측면\n",
    "- 추상적 요약의 결과가 너무 안좋았다. 동어 반복도 심했고 문법에도 잘 맞지 않아 그냥 단어를 내뱉는 느낌이 강하다.\n",
    "- 추출적 요약은 추상적 요약에 비해 문법은 준수하나 비교적 짧은 원문을 바탕으로 요약을 하려다보니 `ratio` 값을 키우게 되었고, 그로 인해 요약임에도 꽤 긴 문장을 제공하게 되었다.\n",
    "- 원본 문장에서 가져오는 비율이 커진 만큼 문법에 맞을 확률도 더 높아진 것 같다.\n",
    "\n",
    "### 요약 완성도 측면\n",
    "- 추상적 요약의 경우 아예 다른 이야기를 하는 경우도 보인다.\n",
    "- 추상적 요약은 동어 반복이 심해서 요약 내용의 질 역시 떨어졌다.\n",
    "- 이전에 괜찮은 결과를 낸 적이 있었지만 랜덤 속에서 어딘가로 사라졌다.\n",
    "- 추출적 요약은 비교적 핵심 키워드를 담아내기는 했지만 핵심 문장을 뽑아내지는 못했다.\n"
   ]
  },
  {
   "cell_type": "markdown",
   "id": "binary-underwear",
   "metadata": {},
   "source": [
    "# 회고\n",
    "- 아직 모델을 완벽하게 이해하지 못했다보니 어떤 식으로 하이퍼 파라미터를 조절해야 요약의 질이 올라갈지 모르겠다. 그런데 학습에 시간이 오래 걸려서 다양한 시도는 해보지 못했다.\n",
    "- 추출적 요약에서 꽤 애를 먹었다.\n",
    "- `ratio` 조절을 시도했어도 안돼서 `gensim`을 다운그레이드 해서 시도해보았는데도 묵묵 부답이었었다.\n",
    "- 문장 길이기 문제인가 싶어 단어수가 80개 이상인 문장만 요약해보고 정말 갖은 시도를 다했었다..\n",
    "- 패키지를 제거하거나 관련 의존성 패키지들을 재설치하는 것이 주피터에 바로 반영이 안되는 것 같다. 새로 `gensim`을 설치한 것도 `Import Error`로 한참 힘들었지만 새로 노트북파일을 생성하니까 잘 작동했다. 역시 정신 건강을 위해서는 가상환경을 새로 파고 깔끔하게 시작하는게 좋겠다.\n",
    "- 추출적 요약에 구둣점을 제외한 다른 부분을 전처리할 경우 성능이 향상되는지 실험해봐야겠다."
   ]
  }
 ],
 "metadata": {
  "kernelspec": {
   "display_name": "Python 3",
   "language": "python",
   "name": "python3"
  },
  "language_info": {
   "codemirror_mode": {
    "name": "ipython",
    "version": 3
   },
   "file_extension": ".py",
   "mimetype": "text/x-python",
   "name": "python",
   "nbconvert_exporter": "python",
   "pygments_lexer": "ipython3",
   "version": "3.7.9"
  }
 },
 "nbformat": 4,
 "nbformat_minor": 5
}
