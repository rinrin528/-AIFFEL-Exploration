{
 "cells": [
  {
   "cell_type": "markdown",
   "id": "sixth-gardening",
   "metadata": {},
   "source": [
    "# 네이버 영화 리뷰 감성 분석"
   ]
  },
  {
   "cell_type": "code",
   "execution_count": 1,
   "id": "banned-mouth",
   "metadata": {},
   "outputs": [],
   "source": [
    "from IPython.core.interactiveshell import InteractiveShell\n",
    "InteractiveShell.ast_node_interactivity = \"all\"\n",
    "import warnings\n",
    "warnings.filterwarnings('ignore')\n",
    "\n",
    "import numpy as np\n",
    "import pandas as pd\n",
    "import urllib.request\n",
    "\n",
    "# 전처리\n",
    "import re\n",
    "from konlpy.tag import Okt\n",
    "from tensorflow.keras.preprocessing.text import Tokenizer\n",
    "from tensorflow.keras.preprocessing.sequence import pad_sequences\n",
    "from collections import Counter\n",
    "\n",
    "# 모델링\n",
    "from tensorflow import keras\n",
    "from tensorflow.keras import optimizers\n",
    "from tensorflow.keras import losses\n",
    "from tensorflow.keras import metrics\n",
    "from tensorflow.keras.models import load_model\n",
    "from tensorflow.keras.callbacks import EarlyStopping, ModelCheckpoint\n",
    "\n",
    "# 임베딩 파라미터 분석\n",
    "import os\n",
    "from gensim.models.keyedvectors import Word2VecKeyedVectors\n",
    "\n",
    "# 사전 학습된 Word2Vec 활용\n",
    "from gensim.models import Word2Vec\n",
    "from tensorflow.keras.initializers import Constant\n",
    "\n",
    "# 시각화\n",
    "from IPython.display import SVG\n",
    "from keras.utils.vis_utils import model_to_dot\n",
    "%matplotlib inline\n",
    "import matplotlib.pyplot as plt\n",
    "import seaborn as sns\n",
    "sns.set_theme(style=\"darkgrid\")\n",
    "sns.set_style(\"white\")\n",
    "sns.set_palette(\"Set2\")"
   ]
  },
  {
   "cell_type": "code",
   "execution_count": 2,
   "id": "divided-primary",
   "metadata": {},
   "outputs": [
    {
     "name": "stdout",
     "output_type": "stream",
     "text": [
      "Requirement already satisfied: graphviz in /opt/conda/lib/python3.7/site-packages (0.16)\n",
      "\u001b[33mWARNING: You are using pip version 20.3.3; however, version 21.2.3 is available.\n",
      "You should consider upgrading via the '/opt/conda/bin/python3.7 -m pip install --upgrade pip' command.\u001b[0m\n",
      "Requirement already satisfied: pydot in /opt/conda/lib/python3.7/site-packages (1.4.2)\n",
      "Requirement already satisfied: pyparsing>=2.1.4 in /opt/conda/lib/python3.7/site-packages (from pydot) (2.4.7)\n",
      "\u001b[33mWARNING: You are using pip version 20.3.3; however, version 21.2.3 is available.\n",
      "You should consider upgrading via the '/opt/conda/bin/python3.7 -m pip install --upgrade pip' command.\u001b[0m\n"
     ]
    }
   ],
   "source": [
    "!pip install graphviz\n",
    "!pip install pydot"
   ]
  },
  {
   "cell_type": "markdown",
   "id": "related-malaysia",
   "metadata": {},
   "source": [
    "# step 1) 데이터 준비 및 확인"
   ]
  },
  {
   "cell_type": "code",
   "execution_count": 40,
   "id": "bright-clear",
   "metadata": {},
   "outputs": [],
   "source": [
    "dir_path=os.getenv('HOME')+'/aiffel/enode7/sentiment_classification/data/'"
   ]
  },
  {
   "cell_type": "code",
   "execution_count": 3,
   "id": "adverse-picking",
   "metadata": {},
   "outputs": [
    {
     "data": {
      "text/html": [
       "<div>\n",
       "<style scoped>\n",
       "    .dataframe tbody tr th:only-of-type {\n",
       "        vertical-align: middle;\n",
       "    }\n",
       "\n",
       "    .dataframe tbody tr th {\n",
       "        vertical-align: top;\n",
       "    }\n",
       "\n",
       "    .dataframe thead th {\n",
       "        text-align: right;\n",
       "    }\n",
       "</style>\n",
       "<table border=\"1\" class=\"dataframe\">\n",
       "  <thead>\n",
       "    <tr style=\"text-align: right;\">\n",
       "      <th></th>\n",
       "      <th>id</th>\n",
       "      <th>document</th>\n",
       "      <th>label</th>\n",
       "    </tr>\n",
       "  </thead>\n",
       "  <tbody>\n",
       "    <tr>\n",
       "      <th>33089</th>\n",
       "      <td>7937048</td>\n",
       "      <td>이런 어이없는 광고 따위 때문에 글쓰려고 로그인 하긴 첨이네..15세 관람가 인데 ...</td>\n",
       "      <td>0</td>\n",
       "    </tr>\n",
       "    <tr>\n",
       "      <th>31370</th>\n",
       "      <td>140596</td>\n",
       "      <td>뭘 애기하고 싶은 영화인지 모르겠다.....조금 웃기긴 했지만...저질</td>\n",
       "      <td>0</td>\n",
       "    </tr>\n",
       "    <tr>\n",
       "      <th>51970</th>\n",
       "      <td>8327505</td>\n",
       "      <td>'사요나라, 한국 영화' ... 제발 우려먹기나 거저먹기는 이제 그만. 영화 감독이...</td>\n",
       "      <td>0</td>\n",
       "    </tr>\n",
       "    <tr>\n",
       "      <th>78222</th>\n",
       "      <td>9980895</td>\n",
       "      <td>잘만든 영화임. 처으부터 끝까지 흥미진진하게 봄.</td>\n",
       "      <td>1</td>\n",
       "    </tr>\n",
       "    <tr>\n",
       "      <th>41533</th>\n",
       "      <td>4280658</td>\n",
       "      <td>꿈과 현실이 만나면 이렇게 되는듯</td>\n",
       "      <td>1</td>\n",
       "    </tr>\n",
       "  </tbody>\n",
       "</table>\n",
       "</div>"
      ],
      "text/plain": [
       "            id                                           document  label\n",
       "33089  7937048  이런 어이없는 광고 따위 때문에 글쓰려고 로그인 하긴 첨이네..15세 관람가 인데 ...      0\n",
       "31370   140596            뭘 애기하고 싶은 영화인지 모르겠다.....조금 웃기긴 했지만...저질      0\n",
       "51970  8327505  '사요나라, 한국 영화' ... 제발 우려먹기나 거저먹기는 이제 그만. 영화 감독이...      0\n",
       "78222  9980895                        잘만든 영화임. 처으부터 끝까지 흥미진진하게 봄.      1\n",
       "41533  4280658                                 꿈과 현실이 만나면 이렇게 되는듯      1"
      ]
     },
     "execution_count": 3,
     "metadata": {},
     "output_type": "execute_result"
    }
   ],
   "source": [
    "# 데이터를 읽어봅시다. \n",
    "train_data = pd.read_table('~/aiffel/enode7/sentiment_classification/data/ratings_train.txt')\n",
    "test_data = pd.read_table('~/aiffel/enode7/sentiment_classification/data/ratings_test.txt')\n",
    "\n",
    "train_data.sample(5)"
   ]
  },
  {
   "cell_type": "markdown",
   "id": "friendly-workshop",
   "metadata": {},
   "source": [
    "# step 2) 도우미 함수\n",
    "- 데이터 로드 함수\n",
    "- 모델 생성 함수\n",
    "- 학습 결과 시각화 함수\n",
    "\n",
    "## 2-1. 데이터 로드 함수\n",
    "- def `load_data(train, test, num_words=1000)`\n",
    "    - 데이터 중복 제거\n",
    "    - 결측치 제거\n",
    "    - 한국어 토크나이저로 토큰화\n",
    "    - 불용어 제거\n",
    "    - word_to_index 구성\n",
    "    - 텍스트 스트링을 사전 인덱스 스트링으로 변환\n",
    "    - train_x, train_y, test_x, test_y, word_to_index 반환"
   ]
  },
  {
   "cell_type": "code",
   "execution_count": 4,
   "id": "younger-dependence",
   "metadata": {},
   "outputs": [],
   "source": [
    "tokenizer = Okt()\n",
    "stopwords = ['의','가','이','은','들','는','좀','잘','걍','과','도','를','으로','자','에','와','한','하다']\n",
    "\n",
    "def load_data(train_data, test_data, num_words=10000):\n",
    "    train_data.drop_duplicates(subset=['document'], inplace=True)\n",
    "    train_data = train_data.dropna(how = 'any') \n",
    "    test_data.drop_duplicates(subset=['document'], inplace=True)\n",
    "    test_data = test_data.dropna(how = 'any') \n",
    "    \n",
    "    X_train = []\n",
    "    for sentence in train_data['document']:\n",
    "        temp_X = tokenizer.morphs(sentence) # 토큰화\n",
    "        temp_X = [word for word in temp_X if not word in stopwords] # 불용어 제거\n",
    "        X_train.append(temp_X)\n",
    "\n",
    "    X_test = []\n",
    "    for sentence in test_data['document']:\n",
    "        temp_X = tokenizer.morphs(sentence) # 토큰화\n",
    "        temp_X = [word for word in temp_X if not word in stopwords] # 불용어 제거\n",
    "        X_test.append(temp_X)\n",
    "    \n",
    "    words = np.concatenate(X_train).tolist()\n",
    "    counter = Counter(words)\n",
    "    counter = counter.most_common(10000-4)\n",
    "    vocab = ['', '', '', ''] + [key for key, _ in counter]\n",
    "    word_to_index = {word:index for index, word in enumerate(vocab)}\n",
    "        \n",
    "    def wordlist_to_indexlist(wordlist):\n",
    "        return [word_to_index[word] if word in word_to_index else word_to_index[''] for word in wordlist]\n",
    "        \n",
    "    X_train = list(map(wordlist_to_indexlist, X_train))\n",
    "    X_test = list(map(wordlist_to_indexlist, X_test))\n",
    "        \n",
    "    return X_train, np.array(list(train_data['label'])), X_test, np.array(list(test_data['label'])), word_to_index"
   ]
  },
  {
   "cell_type": "markdown",
   "id": "still-happening",
   "metadata": {},
   "source": [
    "## 2-2. 모델 생성 함수\n",
    "- def `create_models(num)`:\n",
    "    - 하이퍼 파라미터 조정 후 재학습을 위한 모델 생성"
   ]
  },
  {
   "cell_type": "code",
   "execution_count": 215,
   "id": "sorted-jacket",
   "metadata": {},
   "outputs": [],
   "source": [
    "# 빠른 재학습을 위한 모델 생성 도우미 함수\n",
    "def create_models(num):\n",
    "    if num == 1:\n",
    "        vocab_size = 10000    # 어휘 사전의 크기입니다(10,000개의 단어)\n",
    "        word_vector_dim = 16  # 워드 벡터의 차원 수 (변경 가능한 하이퍼파라미터)\n",
    "\n",
    "        # model 설계 - 딥러닝 모델 코드를 직접 작성해 주세요.\n",
    "        model1 = keras.Sequential()\n",
    "        model1.add(keras.layers.Embedding(vocab_size, word_vector_dim, input_shape=(None,)))\n",
    "        model1.add(keras.layers.LSTM(8))\n",
    "        model1.add(keras.layers.Dense(8, activation='relu'))\n",
    "        model1.add(keras.layers.Dense(1, activation='sigmoid'))\n",
    "\n",
    "        model1.summary()\n",
    "        model1.compile(optimizer='adam',\n",
    "          loss='binary_crossentropy',\n",
    "          metrics=['accuracy'])\n",
    "        return model1\n",
    "    if num == 2:\n",
    "        vocab_size = 10000  # 어휘 사전의 크기입니다(10개의 단어)\n",
    "        word_vector_dim = 16   # 단어 하나를 표현하는 임베딩 벡터의 차원 수입니다. \n",
    "\n",
    "        model2 = keras.Sequential()\n",
    "        model2.add(keras.layers.Embedding(vocab_size, word_vector_dim, input_shape=(None,)))\n",
    "        model2.add(keras.layers.GlobalMaxPooling1D())\n",
    "        model2.add(keras.layers.Dense(8, activation='relu'))\n",
    "        model2.add(keras.layers.Dense(1, activation='sigmoid'))  # 최종 출력은 긍정/부정을 나타내는 1dim 입니다.\n",
    "\n",
    "        model2.summary()\n",
    "        model2.compile(optimizer='adam',\n",
    "              loss='binary_crossentropy',\n",
    "              metrics=['accuracy'])\n",
    "        return model2\n",
    "    \n",
    "    if num == 3:\n",
    "        vocab_size = 10000  # 어휘 사전의 크기입니다(10개의 단어)\n",
    "        word_vector_dim = 16   # 단어 하나를 표현하는 임베딩 벡터의 차원 수입니다. \n",
    "        model3 = keras.models.Sequential()\n",
    "        model3.add(keras.layers.Embedding(vocab_size,word_vector_dim, input_shape=(None,)))\n",
    "        model3.add(keras.layers.Conv1D(128,5, activation='relu'))\n",
    "        model3.add(keras.layers.GlobalMaxPooling1D())\n",
    "        model3.add(keras.layers.Dense(64, activation='relu'))\n",
    "        model3.add(keras.layers.Dense(1, activation='sigmoid'))\n",
    "        \n",
    "        model3.summary()\n",
    "        model3.compile(optimizer='adam',\n",
    "                      loss='binary_crossentropy',\n",
    "                      metrics=['accuracy'])\n",
    "        return model3\n",
    "    if num == 4:\n",
    "        vocab_size = 10000\n",
    "        word_vector_dim = 200\n",
    "\n",
    "        # 모델 구성\n",
    "        fine_model = keras.Sequential()\n",
    "        fine_model.add(keras.layers.Embedding(vocab_size,\n",
    "                                              word_vector_dim, \n",
    "                                              embeddings_initializer=Constant(embedding_matrix),  # 카피한 임베딩을 여기서 활용\n",
    "                                              input_length=maxlen, \n",
    "                                              trainable=True))   # trainable을 True로 주면 Fine-tuning\n",
    "\n",
    "        fine_model.add(keras.layers.LSTM(72, activation='relu'))\n",
    "        fine_model.add(keras.layers.Dense(8, activation='relu'))\n",
    "        fine_model.add(keras.layers.Dense(1, activation='sigmoid')) \n",
    "\n",
    "        fine_model.summary()\n",
    "        # 학습의 진행\n",
    "        fine_model.compile(optimizer='rmsprop',\n",
    "                      loss='binary_crossentropy',\n",
    "                      metrics=['accuracy'])\n",
    "        return fine_model"
   ]
  },
  {
   "cell_type": "code",
   "execution_count": 7,
   "id": "homeless-lucas",
   "metadata": {
    "scrolled": false
   },
   "outputs": [],
   "source": [
    "x_train, y_train, x_test, y_test, word_to_index = load_data(train_data, test_data)\n",
    "word_to_index[\"<PAD>\"] = 0\n",
    "word_to_index[\"<BOS>\"] = 1\n",
    "word_to_index[\"<UNK>\"] = 2  # unknown\n",
    "word_to_index[\"<UNUSED>\"] = 3\n",
    "index_to_word = {index:word for word, index in word_to_index.items()}"
   ]
  },
  {
   "cell_type": "code",
   "execution_count": 11,
   "id": "fixed-richmond",
   "metadata": {},
   "outputs": [],
   "source": [
    "# 전처리 속도가 너무 느려서 피클링\n",
    "import pickle\n",
    "with open('preprocessed_review.p', 'wb') as f:\n",
    "    pickle.dump(x_train, f)\n",
    "    pickle.dump(x_test, f)\n",
    "    pickle.dump(word_to_index, f)\n",
    "\n",
    "\n",
    "np.save(y_train.npy', y_train)\n",
    "np.save(os.getenv('HOME')+'/aiffel/enode7/sentiment_classification/data/y_test.npy', y_test)"
   ]
  },
  {
   "cell_type": "code",
   "execution_count": null,
   "id": "precise-terror",
   "metadata": {},
   "outputs": [],
   "source": [
    "def unpikle():\n",
    "    with open(dir_path+'preprocessed_review.p', 'rb') as f:\n",
    "        x_train = pickle.load(f)\n",
    "        x_test = pickle.load(f)\n",
    "        word_to_index = pickle.load(f)\n",
    "\n",
    "    y_train = np.load(dir_path+'y_train.npy')\n",
    "    y_test = np.load(dir_path+'y_test.npy')\n"
   ]
  },
  {
   "cell_type": "markdown",
   "id": "married-prague",
   "metadata": {},
   "source": [
    "## 2-3. 학습 결과 시각화 함수\n",
    "- def `show_us(history)`\n",
    "    - `model.fit()`한 history 객체를 전달 받아  각 epoch 마다 정확도와 loss를 시각화"
   ]
  },
  {
   "cell_type": "code",
   "execution_count": 31,
   "id": "attended-playlist",
   "metadata": {},
   "outputs": [],
   "source": [
    "# 시각화 함수\n",
    "def show_us(history):\n",
    "    history_dict = history.history\n",
    "    loss_dict = {'loss': history_dict['loss'], 'val_loss':history_dict['val_loss']}\n",
    "    acc_dict = {'accuracy':history_dict['accuracy'],'val_accuracy':history_dict['val_accuracy']}\n",
    "    \n",
    "    print('Train Loss : {:.4f}  Validation Loss : {:.4f}'.format(loss_dict['loss'][-1],loss_dict['val_loss'][-1]))\n",
    "    print('Train Accuracy : {:.4f}  Validation Accuracy : {:.4f}'.format(acc_dict['accuracy'][-1],acc_dict['val_accuracy'][-1]))\n",
    "    fig, ax = plt.subplots(1,2, figsize=(15,5))\n",
    "    sns.set_theme(style=\"darkgrid\")\n",
    "    palette = sns.color_palette(\"mako_r\", 2)\n",
    "    sns.lineplot(data=loss_dict, palette=palette, ax=ax[0])\n",
    "    ax[0].set_title('Training and validation loss')\n",
    "    ax[0].set_xlabel('Epochs')\n",
    "    ax[0].set_ylabel('Loss')\n",
    "    sns.lineplot(data=acc_dict, palette=palette, ax=ax[1])\n",
    "    ax[1].set_title('Training and validation Accuracy')\n",
    "    ax[1].set_xlabel('Epochs')\n",
    "    ax[1].set_ylabel('Accuracy')\n",
    "\n",
    "    plt.show()"
   ]
  },
  {
   "cell_type": "markdown",
   "id": "posted-swift",
   "metadata": {},
   "source": [
    "## 2-4. 문장 인코딩, 디코딩 도우미 함수"
   ]
  },
  {
   "cell_type": "code",
   "execution_count": 8,
   "id": "burning-typing",
   "metadata": {},
   "outputs": [],
   "source": [
    "# 문장 1개를 활용할 딕셔너리와 함께 주면, 단어 인덱스 리스트 벡터로 변환해 주는 함수입니다. \n",
    "# 단, 모든 문장은 <BOS>로 시작하는 것으로 합니다. \n",
    "def get_encoded_sentence(sentence, word_to_index):\n",
    "    return [word_to_index['<BOS>']]+[word_to_index[word] if word in word_to_index else word_to_index['<UNK>'] for word in sentence.split()]\n",
    "\n",
    "# 여러 개의 문장 리스트를 한꺼번에 단어 인덱스 리스트 벡터로 encode해 주는 함수입니다. \n",
    "def get_encoded_sentences(sentences, word_to_index):\n",
    "    return [get_encoded_sentence(sentence, word_to_index) for sentence in sentences]\n",
    "\n",
    "# 숫자 벡터로 encode된 문장을 원래대로 decode하는 함수입니다. \n",
    "def get_decoded_sentence(encoded_sentence, index_to_word):\n",
    "    return ' '.join(index_to_word[index] if index in index_to_word else '<UNK>' for index in encoded_sentence[1:])  #[1:]를 통해 <BOS>를 제외\n",
    "\n",
    "# 여러 개의 숫자 벡터로 encode된 문장을 한꺼번에 원래대로 decode하는 함수입니다. \n",
    "def get_decoded_sentences(encoded_sentences, index_to_word):\n",
    "    return [get_decoded_sentence(encoded_sentence, index_to_word) for encoded_sentence in encoded_sentences]"
   ]
  },
  {
   "cell_type": "code",
   "execution_count": 9,
   "id": "floppy-poison",
   "metadata": {},
   "outputs": [
    {
     "name": "stdout",
     "output_type": "stream",
     "text": [
      "더빙 .. 진짜 짜증나네요 목소리\n",
      "라벨:  0\n"
     ]
    }
   ],
   "source": [
    "# 디코딩 잘 되나 확인\n",
    "print(get_decoded_sentence(x_train[0], index_to_word))\n",
    "print('라벨: ', y_train[0])  # 1번째 리뷰데이터의 라벨"
   ]
  },
  {
   "cell_type": "markdown",
   "id": "pacific-value",
   "metadata": {},
   "source": [
    "# step3) 데이터 분석 및 가공\n",
    "- 패딩 추가\n",
    "    1. 데이터셋 내 문장 길이 분포 확인\n",
    "    2. 적절한 최대 문장 길이 지정\n",
    "    3. `keras.preprocessing.sequence.pad_sequences()`로 패딩 추가"
   ]
  },
  {
   "cell_type": "code",
   "execution_count": 12,
   "id": "ecological-motel",
   "metadata": {},
   "outputs": [
    {
     "name": "stdout",
     "output_type": "stream",
     "text": [
      "문장길이 평균 :  12.806930515667634\n",
      "문장길이 최대 :  95\n",
      "문장길이 표준편차 :  10.399093335789471\n",
      "pad_sequences maxlen :  33\n",
      "전체 문장의 0.9347442139050574%가 maxlen 설정값 이내에 포함됩니다. \n"
     ]
    }
   ],
   "source": [
    "total_data_text = list(x_train) + list(x_test)\n",
    "# 텍스트데이터 문장길이의 리스트를 생성한 후\n",
    "num_tokens = [len(tokens) for tokens in total_data_text]\n",
    "num_tokens = np.array(num_tokens)\n",
    "# 문장길이의 평균값, 최대값, 표준편차를 계산해 본다. \n",
    "print('문장길이 평균 : ', np.mean(num_tokens))\n",
    "print('문장길이 최대 : ', np.max(num_tokens))\n",
    "print('문장길이 표준편차 : ', np.std(num_tokens))\n",
    "\n",
    "# 예를들어, 최대 길이를 (평균 + 2*표준편차)로 한다면,  \n",
    "max_tokens = np.mean(num_tokens) + 2 * np.std(num_tokens)\n",
    "maxlen = int(max_tokens)\n",
    "print('pad_sequences maxlen : ', maxlen)\n",
    "print('전체 문장의 {}%가 maxlen 설정값 이내에 포함됩니다. '.format(np.sum(num_tokens < max_tokens) / len(num_tokens)))"
   ]
  },
  {
   "cell_type": "code",
   "execution_count": 13,
   "id": "reflected-machine",
   "metadata": {},
   "outputs": [],
   "source": [
    "x_train = keras.preprocessing.sequence.pad_sequences(x_train,\n",
    "                                                        value=word_to_index[\"<PAD>\"],\n",
    "                                                        padding='post', # 혹은 'pre'\n",
    "                                                        maxlen=maxlen)\n",
    "\n",
    "x_test = keras.preprocessing.sequence.pad_sequences(x_test,\n",
    "                                                       value=word_to_index[\"<PAD>\"],\n",
    "                                                       padding='post', # 혹은 'pre'\n",
    "                                                       maxlen=maxlen)"
   ]
  },
  {
   "cell_type": "markdown",
   "id": "weird-tennis",
   "metadata": {},
   "source": [
    "# step4) 모델 구성 및 검증 데이터셋 구성"
   ]
  },
  {
   "cell_type": "code",
   "execution_count": 14,
   "id": "regional-recipient",
   "metadata": {},
   "outputs": [
    {
     "name": "stdout",
     "output_type": "stream",
     "text": [
      "(136182, 33)\n",
      "(136182,)\n"
     ]
    }
   ],
   "source": [
    "# 훈련용 데이터에서 검증용 데이터 분리\n",
    "# validation set 10000건 분리\n",
    "x_val = x_train[:10000]   \n",
    "y_val = y_train[:10000]\n",
    "\n",
    "# validation set을 제외한 나머지 15000건\n",
    "partial_x_train = x_train[10000:]  \n",
    "partial_y_train = y_train[10000:]\n",
    "\n",
    "print(partial_x_train.shape)\n",
    "print(partial_y_train.shape)"
   ]
  },
  {
   "cell_type": "markdown",
   "id": "nutritional-message",
   "metadata": {},
   "source": [
    "## 4-1) 모델1 : RNN"
   ]
  },
  {
   "cell_type": "code",
   "execution_count": 15,
   "id": "killing-excellence",
   "metadata": {},
   "outputs": [
    {
     "name": "stdout",
     "output_type": "stream",
     "text": [
      "Model: \"sequential\"\n",
      "_________________________________________________________________\n",
      "Layer (type)                 Output Shape              Param #   \n",
      "=================================================================\n",
      "embedding (Embedding)        (None, None, 16)          160000    \n",
      "_________________________________________________________________\n",
      "lstm (LSTM)                  (None, 8)                 800       \n",
      "_________________________________________________________________\n",
      "dense (Dense)                (None, 8)                 72        \n",
      "_________________________________________________________________\n",
      "dense_1 (Dense)              (None, 1)                 9         \n",
      "=================================================================\n",
      "Total params: 160,881\n",
      "Trainable params: 160,881\n",
      "Non-trainable params: 0\n",
      "_________________________________________________________________\n"
     ]
    }
   ],
   "source": [
    "vocab_size = 10000    # 어휘 사전의 크기입니다(10,000개의 단어)\n",
    "word_vector_dim = 16  # 워드 벡터의 차원 수 (변경 가능한 하이퍼파라미터)\n",
    "\n",
    "# model 설계\n",
    "model1 = keras.Sequential()\n",
    "model1.add(keras.layers.Embedding(vocab_size, word_vector_dim, input_shape=(None,)))\n",
    "model1.add(keras.layers.LSTM(8))\n",
    "model1.add(keras.layers.Dense(8, activation='relu'))\n",
    "model1.add(keras.layers.Dense(1, activation='sigmoid'))\n",
    "\n",
    "model1.summary()"
   ]
  },
  {
   "cell_type": "code",
   "execution_count": 16,
   "id": "suspended-eleven",
   "metadata": {},
   "outputs": [
    {
     "data": {
      "image/svg+xml": [
       "<svg height=\"349pt\" viewBox=\"0.00 0.00 429.00 387.00\" width=\"387pt\" xmlns=\"http://www.w3.org/2000/svg\" xmlns:xlink=\"http://www.w3.org/1999/xlink\">\n",
       "<g class=\"graph\" id=\"graph0\" transform=\"scale(.9028 .9028) rotate(0) translate(4 383)\">\n",
       "<title>G</title>\n",
       "<polygon fill=\"#ffffff\" points=\"-4,4 -4,-383 425,-383 425,4 -4,4\" stroke=\"transparent\"/>\n",
       "<!-- 140582074983696 -->\n",
       "<g class=\"node\" id=\"node1\">\n",
       "<title>140582074983696</title>\n",
       "<polygon fill=\"none\" points=\"0,-332.5 0,-378.5 421,-378.5 421,-332.5 0,-332.5\" stroke=\"#000000\"/>\n",
       "<text fill=\"#000000\" font-family=\"Times,serif\" font-size=\"14.00\" text-anchor=\"middle\" x=\"115\" y=\"-351.8\">embedding_input: InputLayer</text>\n",
       "<polyline fill=\"none\" points=\"230,-332.5 230,-378.5 \" stroke=\"#000000\"/>\n",
       "<text fill=\"#000000\" font-family=\"Times,serif\" font-size=\"14.00\" text-anchor=\"middle\" x=\"264\" y=\"-363.3\">input:</text>\n",
       "<polyline fill=\"none\" points=\"230,-355.5 298,-355.5 \" stroke=\"#000000\"/>\n",
       "<text fill=\"#000000\" font-family=\"Times,serif\" font-size=\"14.00\" text-anchor=\"middle\" x=\"264\" y=\"-340.3\">output:</text>\n",
       "<polyline fill=\"none\" points=\"298,-332.5 298,-378.5 \" stroke=\"#000000\"/>\n",
       "<text fill=\"#000000\" font-family=\"Times,serif\" font-size=\"14.00\" text-anchor=\"middle\" x=\"359.5\" y=\"-363.3\">[(None, None)]</text>\n",
       "<polyline fill=\"none\" points=\"298,-355.5 421,-355.5 \" stroke=\"#000000\"/>\n",
       "<text fill=\"#000000\" font-family=\"Times,serif\" font-size=\"14.00\" text-anchor=\"middle\" x=\"359.5\" y=\"-340.3\">[(None, None)]</text>\n",
       "</g>\n",
       "<!-- 140582074319376 -->\n",
       "<g class=\"node\" id=\"node2\">\n",
       "<title>140582074319376</title>\n",
       "<polygon fill=\"none\" points=\"13,-249.5 13,-295.5 408,-295.5 408,-249.5 13,-249.5\" stroke=\"#000000\"/>\n",
       "<text fill=\"#000000\" font-family=\"Times,serif\" font-size=\"14.00\" text-anchor=\"middle\" x=\"106.5\" y=\"-268.8\">embedding: Embedding</text>\n",
       "<polyline fill=\"none\" points=\"200,-249.5 200,-295.5 \" stroke=\"#000000\"/>\n",
       "<text fill=\"#000000\" font-family=\"Times,serif\" font-size=\"14.00\" text-anchor=\"middle\" x=\"234\" y=\"-280.3\">input:</text>\n",
       "<polyline fill=\"none\" points=\"200,-272.5 268,-272.5 \" stroke=\"#000000\"/>\n",
       "<text fill=\"#000000\" font-family=\"Times,serif\" font-size=\"14.00\" text-anchor=\"middle\" x=\"234\" y=\"-257.3\">output:</text>\n",
       "<polyline fill=\"none\" points=\"268,-249.5 268,-295.5 \" stroke=\"#000000\"/>\n",
       "<text fill=\"#000000\" font-family=\"Times,serif\" font-size=\"14.00\" text-anchor=\"middle\" x=\"338\" y=\"-280.3\">(None, None)</text>\n",
       "<polyline fill=\"none\" points=\"268,-272.5 408,-272.5 \" stroke=\"#000000\"/>\n",
       "<text fill=\"#000000\" font-family=\"Times,serif\" font-size=\"14.00\" text-anchor=\"middle\" x=\"338\" y=\"-257.3\">(None, None, 16)</text>\n",
       "</g>\n",
       "<!-- 140582074983696&#45;&gt;140582074319376 -->\n",
       "<g class=\"edge\" id=\"edge1\">\n",
       "<title>140582074983696-&gt;140582074319376</title>\n",
       "<path d=\"M210.5,-332.3799C210.5,-324.1745 210.5,-314.7679 210.5,-305.8786\" fill=\"none\" stroke=\"#000000\"/>\n",
       "<polygon fill=\"#000000\" points=\"214.0001,-305.784 210.5,-295.784 207.0001,-305.784 214.0001,-305.784\" stroke=\"#000000\"/>\n",
       "</g>\n",
       "<!-- 140582074985168 -->\n",
       "<g class=\"node\" id=\"node3\">\n",
       "<title>140582074985168</title>\n",
       "<polygon fill=\"none\" points=\"56,-166.5 56,-212.5 365,-212.5 365,-166.5 56,-166.5\" stroke=\"#000000\"/>\n",
       "<text fill=\"#000000\" font-family=\"Times,serif\" font-size=\"14.00\" text-anchor=\"middle\" x=\"106.5\" y=\"-185.8\">lstm: LSTM</text>\n",
       "<polyline fill=\"none\" points=\"157,-166.5 157,-212.5 \" stroke=\"#000000\"/>\n",
       "<text fill=\"#000000\" font-family=\"Times,serif\" font-size=\"14.00\" text-anchor=\"middle\" x=\"191\" y=\"-197.3\">input:</text>\n",
       "<polyline fill=\"none\" points=\"157,-189.5 225,-189.5 \" stroke=\"#000000\"/>\n",
       "<text fill=\"#000000\" font-family=\"Times,serif\" font-size=\"14.00\" text-anchor=\"middle\" x=\"191\" y=\"-174.3\">output:</text>\n",
       "<polyline fill=\"none\" points=\"225,-166.5 225,-212.5 \" stroke=\"#000000\"/>\n",
       "<text fill=\"#000000\" font-family=\"Times,serif\" font-size=\"14.00\" text-anchor=\"middle\" x=\"295\" y=\"-197.3\">(None, None, 16)</text>\n",
       "<polyline fill=\"none\" points=\"225,-189.5 365,-189.5 \" stroke=\"#000000\"/>\n",
       "<text fill=\"#000000\" font-family=\"Times,serif\" font-size=\"14.00\" text-anchor=\"middle\" x=\"295\" y=\"-174.3\">(None, 8)</text>\n",
       "</g>\n",
       "<!-- 140582074319376&#45;&gt;140582074985168 -->\n",
       "<g class=\"edge\" id=\"edge2\">\n",
       "<title>140582074319376-&gt;140582074985168</title>\n",
       "<path d=\"M210.5,-249.3799C210.5,-241.1745 210.5,-231.7679 210.5,-222.8786\" fill=\"none\" stroke=\"#000000\"/>\n",
       "<polygon fill=\"#000000\" points=\"214.0001,-222.784 210.5,-212.784 207.0001,-222.784 214.0001,-222.784\" stroke=\"#000000\"/>\n",
       "</g>\n",
       "<!-- 140582075971792 -->\n",
       "<g class=\"node\" id=\"node4\">\n",
       "<title>140582075971792</title>\n",
       "<polygon fill=\"none\" points=\"79,-83.5 79,-129.5 342,-129.5 342,-83.5 79,-83.5\" stroke=\"#000000\"/>\n",
       "<text fill=\"#000000\" font-family=\"Times,serif\" font-size=\"14.00\" text-anchor=\"middle\" x=\"135\" y=\"-102.8\">dense: Dense</text>\n",
       "<polyline fill=\"none\" points=\"191,-83.5 191,-129.5 \" stroke=\"#000000\"/>\n",
       "<text fill=\"#000000\" font-family=\"Times,serif\" font-size=\"14.00\" text-anchor=\"middle\" x=\"225\" y=\"-114.3\">input:</text>\n",
       "<polyline fill=\"none\" points=\"191,-106.5 259,-106.5 \" stroke=\"#000000\"/>\n",
       "<text fill=\"#000000\" font-family=\"Times,serif\" font-size=\"14.00\" text-anchor=\"middle\" x=\"225\" y=\"-91.3\">output:</text>\n",
       "<polyline fill=\"none\" points=\"259,-83.5 259,-129.5 \" stroke=\"#000000\"/>\n",
       "<text fill=\"#000000\" font-family=\"Times,serif\" font-size=\"14.00\" text-anchor=\"middle\" x=\"300.5\" y=\"-114.3\">(None, 8)</text>\n",
       "<polyline fill=\"none\" points=\"259,-106.5 342,-106.5 \" stroke=\"#000000\"/>\n",
       "<text fill=\"#000000\" font-family=\"Times,serif\" font-size=\"14.00\" text-anchor=\"middle\" x=\"300.5\" y=\"-91.3\">(None, 8)</text>\n",
       "</g>\n",
       "<!-- 140582074985168&#45;&gt;140582075971792 -->\n",
       "<g class=\"edge\" id=\"edge3\">\n",
       "<title>140582074985168-&gt;140582075971792</title>\n",
       "<path d=\"M210.5,-166.3799C210.5,-158.1745 210.5,-148.7679 210.5,-139.8786\" fill=\"none\" stroke=\"#000000\"/>\n",
       "<polygon fill=\"#000000\" points=\"214.0001,-139.784 210.5,-129.784 207.0001,-139.784 214.0001,-139.784\" stroke=\"#000000\"/>\n",
       "</g>\n",
       "<!-- 140583154799440 -->\n",
       "<g class=\"node\" id=\"node5\">\n",
       "<title>140583154799440</title>\n",
       "<polygon fill=\"none\" points=\"71,-.5 71,-46.5 350,-46.5 350,-.5 71,-.5\" stroke=\"#000000\"/>\n",
       "<text fill=\"#000000\" font-family=\"Times,serif\" font-size=\"14.00\" text-anchor=\"middle\" x=\"135\" y=\"-19.8\">dense_1: Dense</text>\n",
       "<polyline fill=\"none\" points=\"199,-.5 199,-46.5 \" stroke=\"#000000\"/>\n",
       "<text fill=\"#000000\" font-family=\"Times,serif\" font-size=\"14.00\" text-anchor=\"middle\" x=\"233\" y=\"-31.3\">input:</text>\n",
       "<polyline fill=\"none\" points=\"199,-23.5 267,-23.5 \" stroke=\"#000000\"/>\n",
       "<text fill=\"#000000\" font-family=\"Times,serif\" font-size=\"14.00\" text-anchor=\"middle\" x=\"233\" y=\"-8.3\">output:</text>\n",
       "<polyline fill=\"none\" points=\"267,-.5 267,-46.5 \" stroke=\"#000000\"/>\n",
       "<text fill=\"#000000\" font-family=\"Times,serif\" font-size=\"14.00\" text-anchor=\"middle\" x=\"308.5\" y=\"-31.3\">(None, 8)</text>\n",
       "<polyline fill=\"none\" points=\"267,-23.5 350,-23.5 \" stroke=\"#000000\"/>\n",
       "<text fill=\"#000000\" font-family=\"Times,serif\" font-size=\"14.00\" text-anchor=\"middle\" x=\"308.5\" y=\"-8.3\">(None, 1)</text>\n",
       "</g>\n",
       "<!-- 140582075971792&#45;&gt;140583154799440 -->\n",
       "<g class=\"edge\" id=\"edge4\">\n",
       "<title>140582075971792-&gt;140583154799440</title>\n",
       "<path d=\"M210.5,-83.3799C210.5,-75.1745 210.5,-65.7679 210.5,-56.8786\" fill=\"none\" stroke=\"#000000\"/>\n",
       "<polygon fill=\"#000000\" points=\"214.0001,-56.784 210.5,-46.784 207.0001,-56.784 214.0001,-56.784\" stroke=\"#000000\"/>\n",
       "</g>\n",
       "</g>\n",
       "</svg>"
      ],
      "text/plain": [
       "<IPython.core.display.SVG object>"
      ]
     },
     "execution_count": 16,
     "metadata": {},
     "output_type": "execute_result"
    }
   ],
   "source": [
    "SVG(model_to_dot(model1, show_shapes=True,show_layer_names=True, dpi=65).create(prog='dot',format='svg'))"
   ]
  },
  {
   "cell_type": "markdown",
   "id": "cooperative-neighborhood",
   "metadata": {},
   "source": [
    "## 4-2) 모델2 : 1-D CNN"
   ]
  },
  {
   "cell_type": "code",
   "execution_count": 17,
   "id": "random-general",
   "metadata": {
    "scrolled": true
   },
   "outputs": [
    {
     "name": "stdout",
     "output_type": "stream",
     "text": [
      "Model: \"sequential_1\"\n",
      "_________________________________________________________________\n",
      "Layer (type)                 Output Shape              Param #   \n",
      "=================================================================\n",
      "embedding_1 (Embedding)      (None, None, 16)          160000    \n",
      "_________________________________________________________________\n",
      "global_max_pooling1d (Global (None, 16)                0         \n",
      "_________________________________________________________________\n",
      "dense_2 (Dense)              (None, 8)                 136       \n",
      "_________________________________________________________________\n",
      "dense_3 (Dense)              (None, 1)                 9         \n",
      "=================================================================\n",
      "Total params: 160,145\n",
      "Trainable params: 160,145\n",
      "Non-trainable params: 0\n",
      "_________________________________________________________________\n"
     ]
    }
   ],
   "source": [
    "vocab_size = 10000  # 어휘 사전의 크기입니다(10개의 단어)\n",
    "word_vector_dim = 16   # 단어 하나를 표현하는 임베딩 벡터의 차원 수입니다. \n",
    "\n",
    "model2 = keras.Sequential()\n",
    "model2.add(keras.layers.Embedding(vocab_size, word_vector_dim, input_shape=(None,)))\n",
    "model2.add(keras.layers.GlobalMaxPooling1D())\n",
    "model2.add(keras.layers.Dense(8, activation='relu'))\n",
    "model2.add(keras.layers.Dense(1, activation='sigmoid'))\n",
    "\n",
    "model2.summary()"
   ]
  },
  {
   "cell_type": "code",
   "execution_count": 18,
   "id": "eastern-layout",
   "metadata": {},
   "outputs": [
    {
     "data": {
      "image/svg+xml": [
       "<svg height=\"349pt\" viewBox=\"0.00 0.00 550.00 387.00\" width=\"497pt\" xmlns=\"http://www.w3.org/2000/svg\" xmlns:xlink=\"http://www.w3.org/1999/xlink\">\n",
       "<g class=\"graph\" id=\"graph0\" transform=\"scale(.9028 .9028) rotate(0) translate(4 383)\">\n",
       "<title>G</title>\n",
       "<polygon fill=\"#ffffff\" points=\"-4,4 -4,-383 546,-383 546,4 -4,4\" stroke=\"transparent\"/>\n",
       "<!-- 140583155315920 -->\n",
       "<g class=\"node\" id=\"node1\">\n",
       "<title>140583155315920</title>\n",
       "<polygon fill=\"none\" points=\"52,-332.5 52,-378.5 490,-378.5 490,-332.5 52,-332.5\" stroke=\"#000000\"/>\n",
       "<text fill=\"#000000\" font-family=\"Times,serif\" font-size=\"14.00\" text-anchor=\"middle\" x=\"175.5\" y=\"-351.8\">embedding_1_input: InputLayer</text>\n",
       "<polyline fill=\"none\" points=\"299,-332.5 299,-378.5 \" stroke=\"#000000\"/>\n",
       "<text fill=\"#000000\" font-family=\"Times,serif\" font-size=\"14.00\" text-anchor=\"middle\" x=\"333\" y=\"-363.3\">input:</text>\n",
       "<polyline fill=\"none\" points=\"299,-355.5 367,-355.5 \" stroke=\"#000000\"/>\n",
       "<text fill=\"#000000\" font-family=\"Times,serif\" font-size=\"14.00\" text-anchor=\"middle\" x=\"333\" y=\"-340.3\">output:</text>\n",
       "<polyline fill=\"none\" points=\"367,-332.5 367,-378.5 \" stroke=\"#000000\"/>\n",
       "<text fill=\"#000000\" font-family=\"Times,serif\" font-size=\"14.00\" text-anchor=\"middle\" x=\"428.5\" y=\"-363.3\">[(None, None)]</text>\n",
       "<polyline fill=\"none\" points=\"367,-355.5 490,-355.5 \" stroke=\"#000000\"/>\n",
       "<text fill=\"#000000\" font-family=\"Times,serif\" font-size=\"14.00\" text-anchor=\"middle\" x=\"428.5\" y=\"-340.3\">[(None, None)]</text>\n",
       "</g>\n",
       "<!-- 140583159835280 -->\n",
       "<g class=\"node\" id=\"node2\">\n",
       "<title>140583159835280</title>\n",
       "<polygon fill=\"none\" points=\"65.5,-249.5 65.5,-295.5 476.5,-295.5 476.5,-249.5 65.5,-249.5\" stroke=\"#000000\"/>\n",
       "<text fill=\"#000000\" font-family=\"Times,serif\" font-size=\"14.00\" text-anchor=\"middle\" x=\"167\" y=\"-268.8\">embedding_1: Embedding</text>\n",
       "<polyline fill=\"none\" points=\"268.5,-249.5 268.5,-295.5 \" stroke=\"#000000\"/>\n",
       "<text fill=\"#000000\" font-family=\"Times,serif\" font-size=\"14.00\" text-anchor=\"middle\" x=\"302.5\" y=\"-280.3\">input:</text>\n",
       "<polyline fill=\"none\" points=\"268.5,-272.5 336.5,-272.5 \" stroke=\"#000000\"/>\n",
       "<text fill=\"#000000\" font-family=\"Times,serif\" font-size=\"14.00\" text-anchor=\"middle\" x=\"302.5\" y=\"-257.3\">output:</text>\n",
       "<polyline fill=\"none\" points=\"336.5,-249.5 336.5,-295.5 \" stroke=\"#000000\"/>\n",
       "<text fill=\"#000000\" font-family=\"Times,serif\" font-size=\"14.00\" text-anchor=\"middle\" x=\"406.5\" y=\"-280.3\">(None, None)</text>\n",
       "<polyline fill=\"none\" points=\"336.5,-272.5 476.5,-272.5 \" stroke=\"#000000\"/>\n",
       "<text fill=\"#000000\" font-family=\"Times,serif\" font-size=\"14.00\" text-anchor=\"middle\" x=\"406.5\" y=\"-257.3\">(None, None, 16)</text>\n",
       "</g>\n",
       "<!-- 140583155315920&#45;&gt;140583159835280 -->\n",
       "<g class=\"edge\" id=\"edge1\">\n",
       "<title>140583155315920-&gt;140583159835280</title>\n",
       "<path d=\"M271,-332.3799C271,-324.1745 271,-314.7679 271,-305.8786\" fill=\"none\" stroke=\"#000000\"/>\n",
       "<polygon fill=\"#000000\" points=\"274.5001,-305.784 271,-295.784 267.5001,-305.784 274.5001,-305.784\" stroke=\"#000000\"/>\n",
       "</g>\n",
       "<!-- 140583155316752 -->\n",
       "<g class=\"node\" id=\"node3\">\n",
       "<title>140583155316752</title>\n",
       "<polygon fill=\"none\" points=\"0,-166.5 0,-212.5 542,-212.5 542,-166.5 0,-166.5\" stroke=\"#000000\"/>\n",
       "<text fill=\"#000000\" font-family=\"Times,serif\" font-size=\"14.00\" text-anchor=\"middle\" x=\"167\" y=\"-185.8\">global_max_pooling1d: GlobalMaxPooling1D</text>\n",
       "<polyline fill=\"none\" points=\"334,-166.5 334,-212.5 \" stroke=\"#000000\"/>\n",
       "<text fill=\"#000000\" font-family=\"Times,serif\" font-size=\"14.00\" text-anchor=\"middle\" x=\"368\" y=\"-197.3\">input:</text>\n",
       "<polyline fill=\"none\" points=\"334,-189.5 402,-189.5 \" stroke=\"#000000\"/>\n",
       "<text fill=\"#000000\" font-family=\"Times,serif\" font-size=\"14.00\" text-anchor=\"middle\" x=\"368\" y=\"-174.3\">output:</text>\n",
       "<polyline fill=\"none\" points=\"402,-166.5 402,-212.5 \" stroke=\"#000000\"/>\n",
       "<text fill=\"#000000\" font-family=\"Times,serif\" font-size=\"14.00\" text-anchor=\"middle\" x=\"472\" y=\"-197.3\">(None, None, 16)</text>\n",
       "<polyline fill=\"none\" points=\"402,-189.5 542,-189.5 \" stroke=\"#000000\"/>\n",
       "<text fill=\"#000000\" font-family=\"Times,serif\" font-size=\"14.00\" text-anchor=\"middle\" x=\"472\" y=\"-174.3\">(None, 16)</text>\n",
       "</g>\n",
       "<!-- 140583159835280&#45;&gt;140583155316752 -->\n",
       "<g class=\"edge\" id=\"edge2\">\n",
       "<title>140583159835280-&gt;140583155316752</title>\n",
       "<path d=\"M271,-249.3799C271,-241.1745 271,-231.7679 271,-222.8786\" fill=\"none\" stroke=\"#000000\"/>\n",
       "<polygon fill=\"#000000\" points=\"274.5001,-222.784 271,-212.784 267.5001,-222.784 274.5001,-222.784\" stroke=\"#000000\"/>\n",
       "</g>\n",
       "<!-- 140583134673424 -->\n",
       "<g class=\"node\" id=\"node4\">\n",
       "<title>140583134673424</title>\n",
       "<polygon fill=\"none\" points=\"127,-83.5 127,-129.5 415,-129.5 415,-83.5 127,-83.5\" stroke=\"#000000\"/>\n",
       "<text fill=\"#000000\" font-family=\"Times,serif\" font-size=\"14.00\" text-anchor=\"middle\" x=\"191\" y=\"-102.8\">dense_2: Dense</text>\n",
       "<polyline fill=\"none\" points=\"255,-83.5 255,-129.5 \" stroke=\"#000000\"/>\n",
       "<text fill=\"#000000\" font-family=\"Times,serif\" font-size=\"14.00\" text-anchor=\"middle\" x=\"289\" y=\"-114.3\">input:</text>\n",
       "<polyline fill=\"none\" points=\"255,-106.5 323,-106.5 \" stroke=\"#000000\"/>\n",
       "<text fill=\"#000000\" font-family=\"Times,serif\" font-size=\"14.00\" text-anchor=\"middle\" x=\"289\" y=\"-91.3\">output:</text>\n",
       "<polyline fill=\"none\" points=\"323,-83.5 323,-129.5 \" stroke=\"#000000\"/>\n",
       "<text fill=\"#000000\" font-family=\"Times,serif\" font-size=\"14.00\" text-anchor=\"middle\" x=\"369\" y=\"-114.3\">(None, 16)</text>\n",
       "<polyline fill=\"none\" points=\"323,-106.5 415,-106.5 \" stroke=\"#000000\"/>\n",
       "<text fill=\"#000000\" font-family=\"Times,serif\" font-size=\"14.00\" text-anchor=\"middle\" x=\"369\" y=\"-91.3\">(None, 8)</text>\n",
       "</g>\n",
       "<!-- 140583155316752&#45;&gt;140583134673424 -->\n",
       "<g class=\"edge\" id=\"edge3\">\n",
       "<title>140583155316752-&gt;140583134673424</title>\n",
       "<path d=\"M271,-166.3799C271,-158.1745 271,-148.7679 271,-139.8786\" fill=\"none\" stroke=\"#000000\"/>\n",
       "<polygon fill=\"#000000\" points=\"274.5001,-139.784 271,-129.784 267.5001,-139.784 274.5001,-139.784\" stroke=\"#000000\"/>\n",
       "</g>\n",
       "<!-- 140583158698640 -->\n",
       "<g class=\"node\" id=\"node5\">\n",
       "<title>140583158698640</title>\n",
       "<polygon fill=\"none\" points=\"131.5,-.5 131.5,-46.5 410.5,-46.5 410.5,-.5 131.5,-.5\" stroke=\"#000000\"/>\n",
       "<text fill=\"#000000\" font-family=\"Times,serif\" font-size=\"14.00\" text-anchor=\"middle\" x=\"195.5\" y=\"-19.8\">dense_3: Dense</text>\n",
       "<polyline fill=\"none\" points=\"259.5,-.5 259.5,-46.5 \" stroke=\"#000000\"/>\n",
       "<text fill=\"#000000\" font-family=\"Times,serif\" font-size=\"14.00\" text-anchor=\"middle\" x=\"293.5\" y=\"-31.3\">input:</text>\n",
       "<polyline fill=\"none\" points=\"259.5,-23.5 327.5,-23.5 \" stroke=\"#000000\"/>\n",
       "<text fill=\"#000000\" font-family=\"Times,serif\" font-size=\"14.00\" text-anchor=\"middle\" x=\"293.5\" y=\"-8.3\">output:</text>\n",
       "<polyline fill=\"none\" points=\"327.5,-.5 327.5,-46.5 \" stroke=\"#000000\"/>\n",
       "<text fill=\"#000000\" font-family=\"Times,serif\" font-size=\"14.00\" text-anchor=\"middle\" x=\"369\" y=\"-31.3\">(None, 8)</text>\n",
       "<polyline fill=\"none\" points=\"327.5,-23.5 410.5,-23.5 \" stroke=\"#000000\"/>\n",
       "<text fill=\"#000000\" font-family=\"Times,serif\" font-size=\"14.00\" text-anchor=\"middle\" x=\"369\" y=\"-8.3\">(None, 1)</text>\n",
       "</g>\n",
       "<!-- 140583134673424&#45;&gt;140583158698640 -->\n",
       "<g class=\"edge\" id=\"edge4\">\n",
       "<title>140583134673424-&gt;140583158698640</title>\n",
       "<path d=\"M271,-83.3799C271,-75.1745 271,-65.7679 271,-56.8786\" fill=\"none\" stroke=\"#000000\"/>\n",
       "<polygon fill=\"#000000\" points=\"274.5001,-56.784 271,-46.784 267.5001,-56.784 274.5001,-56.784\" stroke=\"#000000\"/>\n",
       "</g>\n",
       "</g>\n",
       "</svg>"
      ],
      "text/plain": [
       "<IPython.core.display.SVG object>"
      ]
     },
     "execution_count": 18,
     "metadata": {},
     "output_type": "execute_result"
    }
   ],
   "source": [
    "SVG(model_to_dot(model2, show_shapes=True,show_layer_names=True, dpi=65).create(prog='dot',format='svg'))"
   ]
  },
  {
   "cell_type": "markdown",
   "id": "young-sympathy",
   "metadata": {},
   "source": [
    "## 4-3) 모델3 : CNN"
   ]
  },
  {
   "cell_type": "code",
   "execution_count": 19,
   "id": "arbitrary-spine",
   "metadata": {},
   "outputs": [
    {
     "name": "stdout",
     "output_type": "stream",
     "text": [
      "input train x shape : (136182, 33)\n",
      "input train y shape : (136182,)\n"
     ]
    }
   ],
   "source": [
    "print(f'input train x shape : {partial_x_train.shape}')\n",
    "print(f'input train y shape : {partial_y_train.shape}')"
   ]
  },
  {
   "cell_type": "code",
   "execution_count": 20,
   "id": "cardiac-metropolitan",
   "metadata": {},
   "outputs": [
    {
     "name": "stdout",
     "output_type": "stream",
     "text": [
      "Model: \"sequential_2\"\n",
      "_________________________________________________________________\n",
      "Layer (type)                 Output Shape              Param #   \n",
      "=================================================================\n",
      "embedding_2 (Embedding)      (None, None, 16)          160000    \n",
      "_________________________________________________________________\n",
      "conv1d (Conv1D)              (None, None, 128)         10368     \n",
      "_________________________________________________________________\n",
      "global_max_pooling1d_1 (Glob (None, 128)               0         \n",
      "_________________________________________________________________\n",
      "dense_4 (Dense)              (None, 64)                8256      \n",
      "_________________________________________________________________\n",
      "dense_5 (Dense)              (None, 1)                 65        \n",
      "=================================================================\n",
      "Total params: 178,689\n",
      "Trainable params: 178,689\n",
      "Non-trainable params: 0\n",
      "_________________________________________________________________\n"
     ]
    }
   ],
   "source": [
    "vocab_size = 10000  # 어휘 사전의 크기입니다(10개의 단어)\n",
    "word_vector_dim = 16   # 단어 하나를 표현하는 임베딩 벡터의 차원 수입니다. \n",
    "model3 = keras.models.Sequential()\n",
    "model3.add(keras.layers.Embedding(vocab_size,word_vector_dim, input_shape=(None,)))\n",
    "model3.add(keras.layers.Conv1D(128,5, activation='relu'))\n",
    "model3.add(keras.layers.GlobalMaxPooling1D())\n",
    "model3.add(keras.layers.Dense(64, activation='relu'))\n",
    "model3.add(keras.layers.Dense(1, activation='sigmoid'))\n",
    "model3.summary()"
   ]
  },
  {
   "cell_type": "code",
   "execution_count": 21,
   "id": "hybrid-architecture",
   "metadata": {},
   "outputs": [
    {
     "data": {
      "image/svg+xml": [
       "<svg height=\"424pt\" viewBox=\"0.00 0.00 575.00 470.00\" width=\"519pt\" xmlns=\"http://www.w3.org/2000/svg\" xmlns:xlink=\"http://www.w3.org/1999/xlink\">\n",
       "<g class=\"graph\" id=\"graph0\" transform=\"scale(.9028 .9028) rotate(0) translate(4 466)\">\n",
       "<title>G</title>\n",
       "<polygon fill=\"#ffffff\" points=\"-4,4 -4,-466 571,-466 571,4 -4,4\" stroke=\"transparent\"/>\n",
       "<!-- 140583134494352 -->\n",
       "<g class=\"node\" id=\"node1\">\n",
       "<title>140583134494352</title>\n",
       "<polygon fill=\"none\" points=\"64.5,-415.5 64.5,-461.5 502.5,-461.5 502.5,-415.5 64.5,-415.5\" stroke=\"#000000\"/>\n",
       "<text fill=\"#000000\" font-family=\"Times,serif\" font-size=\"14.00\" text-anchor=\"middle\" x=\"188\" y=\"-434.8\">embedding_2_input: InputLayer</text>\n",
       "<polyline fill=\"none\" points=\"311.5,-415.5 311.5,-461.5 \" stroke=\"#000000\"/>\n",
       "<text fill=\"#000000\" font-family=\"Times,serif\" font-size=\"14.00\" text-anchor=\"middle\" x=\"345.5\" y=\"-446.3\">input:</text>\n",
       "<polyline fill=\"none\" points=\"311.5,-438.5 379.5,-438.5 \" stroke=\"#000000\"/>\n",
       "<text fill=\"#000000\" font-family=\"Times,serif\" font-size=\"14.00\" text-anchor=\"middle\" x=\"345.5\" y=\"-423.3\">output:</text>\n",
       "<polyline fill=\"none\" points=\"379.5,-415.5 379.5,-461.5 \" stroke=\"#000000\"/>\n",
       "<text fill=\"#000000\" font-family=\"Times,serif\" font-size=\"14.00\" text-anchor=\"middle\" x=\"441\" y=\"-446.3\">[(None, None)]</text>\n",
       "<polyline fill=\"none\" points=\"379.5,-438.5 502.5,-438.5 \" stroke=\"#000000\"/>\n",
       "<text fill=\"#000000\" font-family=\"Times,serif\" font-size=\"14.00\" text-anchor=\"middle\" x=\"441\" y=\"-423.3\">[(None, None)]</text>\n",
       "</g>\n",
       "<!-- 140581952156624 -->\n",
       "<g class=\"node\" id=\"node2\">\n",
       "<title>140581952156624</title>\n",
       "<polygon fill=\"none\" points=\"78,-332.5 78,-378.5 489,-378.5 489,-332.5 78,-332.5\" stroke=\"#000000\"/>\n",
       "<text fill=\"#000000\" font-family=\"Times,serif\" font-size=\"14.00\" text-anchor=\"middle\" x=\"179.5\" y=\"-351.8\">embedding_2: Embedding</text>\n",
       "<polyline fill=\"none\" points=\"281,-332.5 281,-378.5 \" stroke=\"#000000\"/>\n",
       "<text fill=\"#000000\" font-family=\"Times,serif\" font-size=\"14.00\" text-anchor=\"middle\" x=\"315\" y=\"-363.3\">input:</text>\n",
       "<polyline fill=\"none\" points=\"281,-355.5 349,-355.5 \" stroke=\"#000000\"/>\n",
       "<text fill=\"#000000\" font-family=\"Times,serif\" font-size=\"14.00\" text-anchor=\"middle\" x=\"315\" y=\"-340.3\">output:</text>\n",
       "<polyline fill=\"none\" points=\"349,-332.5 349,-378.5 \" stroke=\"#000000\"/>\n",
       "<text fill=\"#000000\" font-family=\"Times,serif\" font-size=\"14.00\" text-anchor=\"middle\" x=\"419\" y=\"-363.3\">(None, None)</text>\n",
       "<polyline fill=\"none\" points=\"349,-355.5 489,-355.5 \" stroke=\"#000000\"/>\n",
       "<text fill=\"#000000\" font-family=\"Times,serif\" font-size=\"14.00\" text-anchor=\"middle\" x=\"419\" y=\"-340.3\">(None, None, 16)</text>\n",
       "</g>\n",
       "<!-- 140583134494352&#45;&gt;140581952156624 -->\n",
       "<g class=\"edge\" id=\"edge1\">\n",
       "<title>140583134494352-&gt;140581952156624</title>\n",
       "<path d=\"M283.5,-415.3799C283.5,-407.1745 283.5,-397.7679 283.5,-388.8786\" fill=\"none\" stroke=\"#000000\"/>\n",
       "<polygon fill=\"#000000\" points=\"287.0001,-388.784 283.5,-378.784 280.0001,-388.784 287.0001,-388.784\" stroke=\"#000000\"/>\n",
       "</g>\n",
       "<!-- 140583157301648 -->\n",
       "<g class=\"node\" id=\"node3\">\n",
       "<title>140583157301648</title>\n",
       "<polygon fill=\"none\" points=\"108,-249.5 108,-295.5 459,-295.5 459,-249.5 108,-249.5\" stroke=\"#000000\"/>\n",
       "<text fill=\"#000000\" font-family=\"Times,serif\" font-size=\"14.00\" text-anchor=\"middle\" x=\"175\" y=\"-268.8\">conv1d: Conv1D</text>\n",
       "<polyline fill=\"none\" points=\"242,-249.5 242,-295.5 \" stroke=\"#000000\"/>\n",
       "<text fill=\"#000000\" font-family=\"Times,serif\" font-size=\"14.00\" text-anchor=\"middle\" x=\"276\" y=\"-280.3\">input:</text>\n",
       "<polyline fill=\"none\" points=\"242,-272.5 310,-272.5 \" stroke=\"#000000\"/>\n",
       "<text fill=\"#000000\" font-family=\"Times,serif\" font-size=\"14.00\" text-anchor=\"middle\" x=\"276\" y=\"-257.3\">output:</text>\n",
       "<polyline fill=\"none\" points=\"310,-249.5 310,-295.5 \" stroke=\"#000000\"/>\n",
       "<text fill=\"#000000\" font-family=\"Times,serif\" font-size=\"14.00\" text-anchor=\"middle\" x=\"384.5\" y=\"-280.3\">(None, None, 16)</text>\n",
       "<polyline fill=\"none\" points=\"310,-272.5 459,-272.5 \" stroke=\"#000000\"/>\n",
       "<text fill=\"#000000\" font-family=\"Times,serif\" font-size=\"14.00\" text-anchor=\"middle\" x=\"384.5\" y=\"-257.3\">(None, None, 128)</text>\n",
       "</g>\n",
       "<!-- 140581952156624&#45;&gt;140583157301648 -->\n",
       "<g class=\"edge\" id=\"edge2\">\n",
       "<title>140581952156624-&gt;140583157301648</title>\n",
       "<path d=\"M283.5,-332.3799C283.5,-324.1745 283.5,-314.7679 283.5,-305.8786\" fill=\"none\" stroke=\"#000000\"/>\n",
       "<polygon fill=\"#000000\" points=\"287.0001,-305.784 283.5,-295.784 280.0001,-305.784 287.0001,-305.784\" stroke=\"#000000\"/>\n",
       "</g>\n",
       "<!-- 140583137325904 -->\n",
       "<g class=\"node\" id=\"node4\">\n",
       "<title>140583137325904</title>\n",
       "<polygon fill=\"none\" points=\"0,-166.5 0,-212.5 567,-212.5 567,-166.5 0,-166.5\" stroke=\"#000000\"/>\n",
       "<text fill=\"#000000\" font-family=\"Times,serif\" font-size=\"14.00\" text-anchor=\"middle\" x=\"175\" y=\"-185.8\">global_max_pooling1d_1: GlobalMaxPooling1D</text>\n",
       "<polyline fill=\"none\" points=\"350,-166.5 350,-212.5 \" stroke=\"#000000\"/>\n",
       "<text fill=\"#000000\" font-family=\"Times,serif\" font-size=\"14.00\" text-anchor=\"middle\" x=\"384\" y=\"-197.3\">input:</text>\n",
       "<polyline fill=\"none\" points=\"350,-189.5 418,-189.5 \" stroke=\"#000000\"/>\n",
       "<text fill=\"#000000\" font-family=\"Times,serif\" font-size=\"14.00\" text-anchor=\"middle\" x=\"384\" y=\"-174.3\">output:</text>\n",
       "<polyline fill=\"none\" points=\"418,-166.5 418,-212.5 \" stroke=\"#000000\"/>\n",
       "<text fill=\"#000000\" font-family=\"Times,serif\" font-size=\"14.00\" text-anchor=\"middle\" x=\"492.5\" y=\"-197.3\">(None, None, 128)</text>\n",
       "<polyline fill=\"none\" points=\"418,-189.5 567,-189.5 \" stroke=\"#000000\"/>\n",
       "<text fill=\"#000000\" font-family=\"Times,serif\" font-size=\"14.00\" text-anchor=\"middle\" x=\"492.5\" y=\"-174.3\">(None, 128)</text>\n",
       "</g>\n",
       "<!-- 140583157301648&#45;&gt;140583137325904 -->\n",
       "<g class=\"edge\" id=\"edge3\">\n",
       "<title>140583157301648-&gt;140583137325904</title>\n",
       "<path d=\"M283.5,-249.3799C283.5,-241.1745 283.5,-231.7679 283.5,-222.8786\" fill=\"none\" stroke=\"#000000\"/>\n",
       "<polygon fill=\"#000000\" points=\"287.0001,-222.784 283.5,-212.784 280.0001,-222.784 287.0001,-222.784\" stroke=\"#000000\"/>\n",
       "</g>\n",
       "<!-- 140583159121680 -->\n",
       "<g class=\"node\" id=\"node5\">\n",
       "<title>140583159121680</title>\n",
       "<polygon fill=\"none\" points=\"135,-83.5 135,-129.5 432,-129.5 432,-83.5 135,-83.5\" stroke=\"#000000\"/>\n",
       "<text fill=\"#000000\" font-family=\"Times,serif\" font-size=\"14.00\" text-anchor=\"middle\" x=\"199\" y=\"-102.8\">dense_4: Dense</text>\n",
       "<polyline fill=\"none\" points=\"263,-83.5 263,-129.5 \" stroke=\"#000000\"/>\n",
       "<text fill=\"#000000\" font-family=\"Times,serif\" font-size=\"14.00\" text-anchor=\"middle\" x=\"297\" y=\"-114.3\">input:</text>\n",
       "<polyline fill=\"none\" points=\"263,-106.5 331,-106.5 \" stroke=\"#000000\"/>\n",
       "<text fill=\"#000000\" font-family=\"Times,serif\" font-size=\"14.00\" text-anchor=\"middle\" x=\"297\" y=\"-91.3\">output:</text>\n",
       "<polyline fill=\"none\" points=\"331,-83.5 331,-129.5 \" stroke=\"#000000\"/>\n",
       "<text fill=\"#000000\" font-family=\"Times,serif\" font-size=\"14.00\" text-anchor=\"middle\" x=\"381.5\" y=\"-114.3\">(None, 128)</text>\n",
       "<polyline fill=\"none\" points=\"331,-106.5 432,-106.5 \" stroke=\"#000000\"/>\n",
       "<text fill=\"#000000\" font-family=\"Times,serif\" font-size=\"14.00\" text-anchor=\"middle\" x=\"381.5\" y=\"-91.3\">(None, 64)</text>\n",
       "</g>\n",
       "<!-- 140583137325904&#45;&gt;140583159121680 -->\n",
       "<g class=\"edge\" id=\"edge4\">\n",
       "<title>140583137325904-&gt;140583159121680</title>\n",
       "<path d=\"M283.5,-166.3799C283.5,-158.1745 283.5,-148.7679 283.5,-139.8786\" fill=\"none\" stroke=\"#000000\"/>\n",
       "<polygon fill=\"#000000\" points=\"287.0001,-139.784 283.5,-129.784 280.0001,-139.784 287.0001,-139.784\" stroke=\"#000000\"/>\n",
       "</g>\n",
       "<!-- 140583137881488 -->\n",
       "<g class=\"node\" id=\"node6\">\n",
       "<title>140583137881488</title>\n",
       "<polygon fill=\"none\" points=\"139.5,-.5 139.5,-46.5 427.5,-46.5 427.5,-.5 139.5,-.5\" stroke=\"#000000\"/>\n",
       "<text fill=\"#000000\" font-family=\"Times,serif\" font-size=\"14.00\" text-anchor=\"middle\" x=\"203.5\" y=\"-19.8\">dense_5: Dense</text>\n",
       "<polyline fill=\"none\" points=\"267.5,-.5 267.5,-46.5 \" stroke=\"#000000\"/>\n",
       "<text fill=\"#000000\" font-family=\"Times,serif\" font-size=\"14.00\" text-anchor=\"middle\" x=\"301.5\" y=\"-31.3\">input:</text>\n",
       "<polyline fill=\"none\" points=\"267.5,-23.5 335.5,-23.5 \" stroke=\"#000000\"/>\n",
       "<text fill=\"#000000\" font-family=\"Times,serif\" font-size=\"14.00\" text-anchor=\"middle\" x=\"301.5\" y=\"-8.3\">output:</text>\n",
       "<polyline fill=\"none\" points=\"335.5,-.5 335.5,-46.5 \" stroke=\"#000000\"/>\n",
       "<text fill=\"#000000\" font-family=\"Times,serif\" font-size=\"14.00\" text-anchor=\"middle\" x=\"381.5\" y=\"-31.3\">(None, 64)</text>\n",
       "<polyline fill=\"none\" points=\"335.5,-23.5 427.5,-23.5 \" stroke=\"#000000\"/>\n",
       "<text fill=\"#000000\" font-family=\"Times,serif\" font-size=\"14.00\" text-anchor=\"middle\" x=\"381.5\" y=\"-8.3\">(None, 1)</text>\n",
       "</g>\n",
       "<!-- 140583159121680&#45;&gt;140583137881488 -->\n",
       "<g class=\"edge\" id=\"edge5\">\n",
       "<title>140583159121680-&gt;140583137881488</title>\n",
       "<path d=\"M283.5,-83.3799C283.5,-75.1745 283.5,-65.7679 283.5,-56.8786\" fill=\"none\" stroke=\"#000000\"/>\n",
       "<polygon fill=\"#000000\" points=\"287.0001,-56.784 283.5,-46.784 280.0001,-56.784 287.0001,-56.784\" stroke=\"#000000\"/>\n",
       "</g>\n",
       "</g>\n",
       "</svg>"
      ],
      "text/plain": [
       "<IPython.core.display.SVG object>"
      ]
     },
     "execution_count": 21,
     "metadata": {},
     "output_type": "execute_result"
    }
   ],
   "source": [
    "SVG(model_to_dot(model3, show_shapes=True,show_layer_names=True, dpi=65).create(prog='dot',format='svg'))"
   ]
  },
  {
   "cell_type": "code",
   "execution_count": 22,
   "id": "authentic-waterproof",
   "metadata": {},
   "outputs": [],
   "source": [
    "model1.compile(optimizer='adam',\n",
    "              loss='binary_crossentropy',\n",
    "              metrics=['accuracy'])\n",
    "model2.compile(optimizer='adam',\n",
    "              loss='binary_crossentropy',\n",
    "              metrics=['accuracy'])\n",
    "model3.compile(optimizer='adam',\n",
    "              loss='binary_crossentropy',\n",
    "              metrics=['accuracy'])"
   ]
  },
  {
   "cell_type": "code",
   "execution_count": null,
   "id": "married-postcard",
   "metadata": {},
   "outputs": [],
   "source": [
    "# RNN 계열의 optimizer로 rmsporp이 좋다는 말을 들었다\n",
    "# model3.compile(optimizer=optimizers.RMSprop(lr=0.001),\n",
    "#              loss='binary_crossentropy',\n",
    "#              metrics=['accuracy'])"
   ]
  },
  {
   "cell_type": "markdown",
   "id": "every-diversity",
   "metadata": {},
   "source": [
    "# step5) 모델 훈련"
   ]
  },
  {
   "cell_type": "markdown",
   "id": "qualified-cabin",
   "metadata": {},
   "source": [
    "## 5-1. EarlyStopping 및 ModelCheckpoint설정\n",
    "- Validation Accuracy가 가장 높을 값일 때 멈추도록 설정\n",
    "- Validation Accuracy가 이전보다 좋아진 경우에 모델 저장"
   ]
  },
  {
   "cell_type": "code",
   "execution_count": 23,
   "id": "lonely-dayton",
   "metadata": {},
   "outputs": [],
   "source": [
    "es = EarlyStopping(monitor='val_accuracy', mode='max', verbose=1, patience=2)\n",
    "mc = ModelCheckpoint('best_weight.h5', monitor='val_acc', mode='max',verbose=1, save_best_only=True)"
   ]
  },
  {
   "cell_type": "code",
   "execution_count": 24,
   "id": "favorite-growing",
   "metadata": {
    "scrolled": false
   },
   "outputs": [
    {
     "name": "stdout",
     "output_type": "stream",
     "text": [
      "Model: \"sequential_3\"\n",
      "_________________________________________________________________\n",
      "Layer (type)                 Output Shape              Param #   \n",
      "=================================================================\n",
      "embedding_3 (Embedding)      (None, None, 16)          160000    \n",
      "_________________________________________________________________\n",
      "lstm_1 (LSTM)                (None, 8)                 800       \n",
      "_________________________________________________________________\n",
      "dense_6 (Dense)              (None, 8)                 72        \n",
      "_________________________________________________________________\n",
      "dense_7 (Dense)              (None, 1)                 9         \n",
      "=================================================================\n",
      "Total params: 160,881\n",
      "Trainable params: 160,881\n",
      "Non-trainable params: 0\n",
      "_________________________________________________________________\n",
      "Epoch 1/20\n",
      "266/266 [==============================] - 6s 12ms/step - loss: 0.6070 - accuracy: 0.6293 - val_loss: 0.3662 - val_accuracy: 0.8389\n",
      "WARNING:tensorflow:Can save best model only with val_acc available, skipping.\n",
      "Epoch 2/20\n",
      "266/266 [==============================] - 2s 8ms/step - loss: 0.3377 - accuracy: 0.8567 - val_loss: 0.3425 - val_accuracy: 0.8507\n",
      "WARNING:tensorflow:Can save best model only with val_acc available, skipping.\n",
      "Epoch 3/20\n",
      "266/266 [==============================] - 2s 8ms/step - loss: 0.3107 - accuracy: 0.8693 - val_loss: 0.3453 - val_accuracy: 0.8485\n",
      "WARNING:tensorflow:Can save best model only with val_acc available, skipping.\n",
      "Epoch 4/20\n",
      "266/266 [==============================] - 2s 9ms/step - loss: 0.3015 - accuracy: 0.8735 - val_loss: 0.3457 - val_accuracy: 0.8505\n",
      "WARNING:tensorflow:Can save best model only with val_acc available, skipping.\n",
      "Epoch 00004: early stopping\n",
      "1537/1537 [==============================] - 5s 3ms/step - loss: 0.3639 - accuracy: 0.8389\n"
     ]
    }
   ],
   "source": [
    "epochs=20  # 몇 epoch를 훈련하면 좋을지 결과를 보면서 바꾸어 봅시다. \n",
    "model1 = create_models(1)\n",
    "history1 = model1.fit(partial_x_train,\n",
    "                    partial_y_train,\n",
    "                    epochs=epochs,\n",
    "                    batch_size=512,\n",
    "                    validation_data=(x_val, y_val),\n",
    "                    callbacks=[es,mc],\n",
    "                    verbose=1)\n",
    "\n",
    "result1 = model1.evaluate(x_test, y_test, verbose=1)"
   ]
  },
  {
   "cell_type": "code",
   "execution_count": 26,
   "id": "viral-answer",
   "metadata": {},
   "outputs": [
    {
     "name": "stdout",
     "output_type": "stream",
     "text": [
      "1537/1537 [==============================] - 5s 3ms/step - loss: 0.3639 - accuracy: 0.8389\n"
     ]
    }
   ],
   "source": [
    "print(result1)"
   ]
  },
  {
   "cell_type": "code",
   "execution_count": 36,
   "id": "direct-reservoir",
   "metadata": {
    "scrolled": false
   },
   "outputs": [
    {
     "name": "stdout",
     "output_type": "stream",
     "text": [
      "Model: \"sequential_6\"\n",
      "_________________________________________________________________\n",
      "Layer (type)                 Output Shape              Param #   \n",
      "=================================================================\n",
      "embedding_6 (Embedding)      (None, None, 16)          160000    \n",
      "_________________________________________________________________\n",
      "global_max_pooling1d_4 (Glob (None, 16)                0         \n",
      "_________________________________________________________________\n",
      "dense_12 (Dense)             (None, 8)                 136       \n",
      "_________________________________________________________________\n",
      "dense_13 (Dense)             (None, 1)                 9         \n",
      "=================================================================\n",
      "Total params: 160,145\n",
      "Trainable params: 160,145\n",
      "Non-trainable params: 0\n",
      "_________________________________________________________________\n",
      "Epoch 1/6\n",
      "266/266 [==============================] - 2s 5ms/step - loss: 0.6510 - accuracy: 0.6832 - val_loss: 0.4283 - val_accuracy: 0.8188\n",
      "WARNING:tensorflow:Can save best model only with val_acc available, skipping.\n",
      "Epoch 2/6\n",
      "266/266 [==============================] - 1s 4ms/step - loss: 0.3906 - accuracy: 0.8368 - val_loss: 0.3587 - val_accuracy: 0.8412\n",
      "WARNING:tensorflow:Can save best model only with val_acc available, skipping.\n",
      "Epoch 3/6\n",
      "266/266 [==============================] - 1s 4ms/step - loss: 0.3237 - accuracy: 0.8632 - val_loss: 0.3471 - val_accuracy: 0.8454\n",
      "WARNING:tensorflow:Can save best model only with val_acc available, skipping.\n",
      "Epoch 4/6\n",
      "266/266 [==============================] - 1s 4ms/step - loss: 0.2962 - accuracy: 0.8762 - val_loss: 0.3465 - val_accuracy: 0.8488\n",
      "WARNING:tensorflow:Can save best model only with val_acc available, skipping.\n",
      "Epoch 5/6\n",
      "266/266 [==============================] - 1s 4ms/step - loss: 0.2774 - accuracy: 0.8842 - val_loss: 0.3496 - val_accuracy: 0.8498\n",
      "WARNING:tensorflow:Can save best model only with val_acc available, skipping.\n",
      "Epoch 6/6\n",
      "266/266 [==============================] - 1s 4ms/step - loss: 0.2590 - accuracy: 0.8944 - val_loss: 0.3554 - val_accuracy: 0.8500\n",
      "WARNING:tensorflow:Can save best model only with val_acc available, skipping.\n"
     ]
    }
   ],
   "source": [
    "epochs=6  # 몇 epoch를 훈련하면 좋을지 결과를 보면서 바꾸어 봅시다. \n",
    "model2 = create_models(2)\n",
    "history2 = model2.fit(partial_x_train,\n",
    "                    partial_y_train,\n",
    "                    epochs=epochs,\n",
    "                    batch_size=512,\n",
    "                    validation_data=(x_val, y_val),\n",
    "                    callbacks=[es,mc],\n",
    "                    verbose=1)"
   ]
  },
  {
   "cell_type": "code",
   "execution_count": 28,
   "id": "overall-terrain",
   "metadata": {
    "scrolled": false
   },
   "outputs": [
    {
     "name": "stdout",
     "output_type": "stream",
     "text": [
      "1537/1537 [==============================] - 2s 2ms/step - loss: 0.3787 - accuracy: 0.8385\n"
     ]
    }
   ],
   "source": [
    "result2 = model2.evaluate(x_test, y_test, verbose=1)"
   ]
  },
  {
   "cell_type": "markdown",
   "id": "fifty-scenario",
   "metadata": {},
   "source": [
    "- epochs이 6일때 train accuracy와 validation accuracy 둘 다 결과가 가장 좋았다."
   ]
  },
  {
   "cell_type": "markdown",
   "id": "minus-volunteer",
   "metadata": {},
   "source": [
    "- 실제 Conv1D 계층을 넣은 모델이다."
   ]
  },
  {
   "cell_type": "code",
   "execution_count": 29,
   "id": "fewer-score",
   "metadata": {
    "scrolled": false
   },
   "outputs": [
    {
     "name": "stdout",
     "output_type": "stream",
     "text": [
      "Model: \"sequential_5\"\n",
      "_________________________________________________________________\n",
      "Layer (type)                 Output Shape              Param #   \n",
      "=================================================================\n",
      "embedding_5 (Embedding)      (None, None, 16)          160000    \n",
      "_________________________________________________________________\n",
      "conv1d_1 (Conv1D)            (None, None, 128)         10368     \n",
      "_________________________________________________________________\n",
      "global_max_pooling1d_3 (Glob (None, 128)               0         \n",
      "_________________________________________________________________\n",
      "dense_10 (Dense)             (None, 64)                8256      \n",
      "_________________________________________________________________\n",
      "dense_11 (Dense)             (None, 1)                 65        \n",
      "=================================================================\n",
      "Total params: 178,689\n",
      "Trainable params: 178,689\n",
      "Non-trainable params: 0\n",
      "_________________________________________________________________\n",
      "Epoch 1/20\n",
      "266/266 [==============================] - 7s 14ms/step - loss: 0.5459 - accuracy: 0.7066 - val_loss: 0.3493 - val_accuracy: 0.8446\n",
      "WARNING:tensorflow:Can save best model only with val_acc available, skipping.\n",
      "Epoch 2/20\n",
      "266/266 [==============================] - 2s 8ms/step - loss: 0.3173 - accuracy: 0.8649 - val_loss: 0.3358 - val_accuracy: 0.8527\n",
      "WARNING:tensorflow:Can save best model only with val_acc available, skipping.\n",
      "Epoch 3/20\n",
      "266/266 [==============================] - 2s 7ms/step - loss: 0.2851 - accuracy: 0.8807 - val_loss: 0.3357 - val_accuracy: 0.8539\n",
      "WARNING:tensorflow:Can save best model only with val_acc available, skipping.\n",
      "Epoch 4/20\n",
      "266/266 [==============================] - 2s 7ms/step - loss: 0.2562 - accuracy: 0.8944 - val_loss: 0.3457 - val_accuracy: 0.8514\n",
      "WARNING:tensorflow:Can save best model only with val_acc available, skipping.\n",
      "Epoch 5/20\n",
      "266/266 [==============================] - 2s 7ms/step - loss: 0.2254 - accuracy: 0.9102 - val_loss: 0.3691 - val_accuracy: 0.8460\n",
      "WARNING:tensorflow:Can save best model only with val_acc available, skipping.\n",
      "Epoch 00005: early stopping\n",
      "1537/1537 - 3s - loss: 0.3873 - accuracy: 0.8404\n"
     ]
    }
   ],
   "source": [
    "epochs=20\n",
    "model3 = create_models(3)\n",
    "history3 = model3.fit(partial_x_train,\n",
    "                    partial_y_train,\n",
    "                    epochs=epochs,\n",
    "                    batch_size=512,\n",
    "                    validation_data=(x_val, y_val),\n",
    "                    callbacks=[es,mc],\n",
    "                    verbose=1)\n",
    "result3 = model3.evaluate(x_test, y_test, verbose=2)"
   ]
  },
  {
   "cell_type": "markdown",
   "id": "generous-recipient",
   "metadata": {},
   "source": [
    "# step6) 학습 결과 시각화"
   ]
  },
  {
   "cell_type": "markdown",
   "id": "ranging-money",
   "metadata": {},
   "source": [
    "### LSTM 계층 모델"
   ]
  },
  {
   "cell_type": "code",
   "execution_count": 34,
   "id": "frequent-thriller",
   "metadata": {},
   "outputs": [
    {
     "name": "stdout",
     "output_type": "stream",
     "text": [
      "Train Loss : 0.3080  Validation Loss : 0.3457\n",
      "Train Accuracy : 0.8694  Validation Accuracy : 0.8505\n"
     ]
    },
    {
     "data": {
      "image/png": "[encoded data removed]",
      "text/plain": [
       "<Figure size 1080x360 with 2 Axes>"
      ]
     },
     "metadata": {},
     "output_type": "display_data"
    }
   ],
   "source": [
    "show_us(history1)"
   ]
  },
  {
   "cell_type": "markdown",
   "id": "brief-clone",
   "metadata": {},
   "source": [
    "### MaxPooling 모델"
   ]
  },
  {
   "cell_type": "code",
   "execution_count": 37,
   "id": "personalized-montgomery",
   "metadata": {},
   "outputs": [
    {
     "name": "stdout",
     "output_type": "stream",
     "text": [
      "Train Loss : 0.2636  Validation Loss : 0.3554\n",
      "Train Accuracy : 0.8908  Validation Accuracy : 0.8500\n"
     ]
    },
    {
     "data": {
      "image/png": "[encoded data removed]",
      "text/plain": [
       "<Figure size 1080x360 with 2 Axes>"
      ]
     },
     "metadata": {},
     "output_type": "display_data"
    }
   ],
   "source": [
    "show_us(history2)"
   ]
  },
  {
   "cell_type": "markdown",
   "id": "running-korea",
   "metadata": {},
   "source": [
    "### 1D CNN 모델"
   ]
  },
  {
   "cell_type": "code",
   "execution_count": 35,
   "id": "prostate-guess",
   "metadata": {},
   "outputs": [
    {
     "name": "stdout",
     "output_type": "stream",
     "text": [
      "Train Loss : 0.2308  Validation Loss : 0.3691\n",
      "Train Accuracy : 0.9065  Validation Accuracy : 0.8460\n"
     ]
    },
    {
     "data": {
      "image/png": "[encoded data removed]",
      "text/plain": [
       "<Figure size 1080x360 with 2 Axes>"
      ]
     },
     "metadata": {},
     "output_type": "display_data"
    }
   ],
   "source": [
    "show_us(history3)"
   ]
  },
  {
   "cell_type": "markdown",
   "id": "orange-andorra",
   "metadata": {},
   "source": [
    "## 6-2. 새로운 문장 긍/부정 여부 판단"
   ]
  },
  {
   "cell_type": "code",
   "execution_count": 168,
   "id": "annoying-freight",
   "metadata": {},
   "outputs": [],
   "source": [
    "def predict_emotion(model, sentence):\n",
    "    okt = Okt()\n",
    "    stopwords = ['의','가','이','은','들','는','좀','잘','걍','과','도','를','으로','자','에','와','한','하다']\n",
    "\n",
    "    sentence = okt.morphs(sentence, stem=True)\n",
    "    sentence = str([word for word in sentence if not word in stopwords])\n",
    "    \n",
    "    encoded = get_encoded_sentence(sentence, word_to_index)\n",
    "    while len(encoded) <= maxlen:\n",
    "        encoded.append(3) # 3 == <PAD>\n",
    "    score = float(model.predict([encoded]))\n",
    "    if(score > 0.5):\n",
    "        print(\"{:.2f}% 확률로 긍정 리뷰\".format(score * 100))\n",
    "    else:\n",
    "        print(\"{:.2f}% 확률로 부정 리뷰\".format((1 - score) * 100))\n",
    "    "
   ]
  },
  {
   "cell_type": "code",
   "execution_count": 169,
   "id": "pointed-lincoln",
   "metadata": {
    "scrolled": true
   },
   "outputs": [
    {
     "name": "stdout",
     "output_type": "stream",
     "text": [
      "56.42% 확률로 부정 리뷰\n",
      "59.85% 확률로 부정 리뷰\n",
      "WARNING:tensorflow:5 out of the last 28 calls to <function Model.make_predict_function.<locals>.predict_function at 0x7fdc49e9a950> triggered tf.function retracing. Tracing is expensive and the excessive number of tracings could be due to (1) creating @tf.function repeatedly in a loop, (2) passing tensors with different shapes, (3) passing Python objects instead of tensors. For (1), please define your @tf.function outside of the loop. For (2), @tf.function has experimental_relax_shapes=True option that relaxes argument shapes that can avoid unnecessary retracing. For (3), please refer to https://www.tensorflow.org/guide/function#controlling_retracing and https://www.tensorflow.org/api_docs/python/tf/function for  more details.\n",
      "78.40% 확률로 부정 리뷰\n"
     ]
    }
   ],
   "source": [
    "for model in [model1, model2, model3]:\n",
    "    predict_emotion(model, '시간 낭비임')"
   ]
  },
  {
   "cell_type": "code",
   "execution_count": 187,
   "id": "incident-implement",
   "metadata": {
    "scrolled": true
   },
   "outputs": [
    {
     "name": "stdout",
     "output_type": "stream",
     "text": [
      "94.68% 확률로 긍정 리뷰\n",
      "59.85% 확률로 부정 리뷰\n",
      "89.89% 확률로 부정 리뷰\n"
     ]
    }
   ],
   "source": [
    "for model in [model1, model2, model3]:\n",
    "    predict_emotion(model, '뭐하나 부족함이 없는 작품..마지막장면의 아들을 향한 아버지의 눈빛에서 모든 감정이 읽혀져서 가장 기억에 오래 남네요.그 눈빛때문에 영화끝나고 엉엉 울었습니다')"
   ]
  },
  {
   "cell_type": "code",
   "execution_count": 188,
   "id": "indie-montgomery",
   "metadata": {
    "scrolled": true
   },
   "outputs": [
    {
     "name": "stdout",
     "output_type": "stream",
     "text": [
      "89.32% 확률로 긍정 리뷰\n",
      "59.85% 확률로 부정 리뷰\n",
      "89.49% 확률로 부정 리뷰\n"
     ]
    }
   ],
   "source": [
    "for model in [model1, model2, model3]:\n",
    "    predict_emotion(model, '기대안하고 ㅋㅋ봤는데 ㅋㅋ레이놀즠ㅋㅋ땜에 웃겨 죽는줄 ㅋㅋㅋ가볍게 보기에 좋음ㅋㅋㅋ중간에 ㅋㅋㅋ개터지는 부분 많음ㅋㅋㅋ')"
   ]
  },
  {
   "cell_type": "code",
   "execution_count": 190,
   "id": "overhead-upgrade",
   "metadata": {
    "scrolled": true
   },
   "outputs": [
    {
     "name": "stdout",
     "output_type": "stream",
     "text": [
      "90.76% 확률로 긍정 리뷰\n",
      "59.85% 확률로 부정 리뷰\n",
      "89.49% 확률로 부정 리뷰\n"
     ]
    }
   ],
   "source": [
    "for model in [model1, model2, model3]:\n",
    "    predict_emotion(model, '노래도 좋고 배우들도 넘 귀엽고 재밌다. 여름 분위기 물씬 나는 유쾌한 영화. 이 영화를 보면 여름을 더 즐겁게, 열심히 보내고 싶어진다.')"
   ]
  },
  {
   "cell_type": "markdown",
   "id": "serious-gibraltar",
   "metadata": {},
   "source": [
    "- 확실히 LSTM을 사용한 모델이 감정 분석 정확도가 뛰어났다.\n",
    "- 나머지 두 모델은 어떻게 하면 긍정 리뷰라고 해줄지 기대될 정도.."
   ]
  },
  {
   "cell_type": "code",
   "execution_count": 198,
   "id": "heated-borough",
   "metadata": {},
   "outputs": [
    {
     "name": "stdout",
     "output_type": "stream",
     "text": [
      "89.49% 확률로 부정 리뷰\n"
     ]
    }
   ],
   "source": [
    "predict_emotion(model3, '박진감 넘치고 재밌었다.')"
   ]
  },
  {
   "cell_type": "markdown",
   "id": "distinguished-domestic",
   "metadata": {},
   "source": [
    "# step7) 학습된 Embedding 레이어 분석\n",
    "- 모델 중 Embedding 레이어의 파라미터들을 따로 저장"
   ]
  },
  {
   "cell_type": "code",
   "execution_count": 38,
   "id": "fluid-secretary",
   "metadata": {},
   "outputs": [
    {
     "name": "stdout",
     "output_type": "stream",
     "text": [
      "(10000, 16)\n"
     ]
    }
   ],
   "source": [
    "embedding_layers=[]\n",
    "for model in [model1, model2, model3]:\n",
    "    embedding_layers.append(model.layers[0])\n",
    "weights = []\n",
    "for layer in embedding_layers:\n",
    "    weights.append(layer.get_weights()[0])\n",
    "print(weights[0].shape) # (vocab_size, embedding_dimension)"
   ]
  },
  {
   "cell_type": "code",
   "execution_count": null,
   "id": "special-error",
   "metadata": {
    "scrolled": true
   },
   "outputs": [],
   "source": [
    "#학습한 Embedding 파라미터를 파일에 써서 저장합니다. \n",
    "word2vec_file_path = dir_path+'nav_word2vec.txt'\n",
    "f = open(word2vec_file_path, 'w')\n",
    "f.write('{} {}\\n'.format(vocab_size-4, word_vector_dim))  # 몇개의 벡터를 얼마 사이즈로 기재할지 타이틀을 씁니다.\n",
    "\n",
    "# 단어 개수(에서 특수문자 4개는 제외하고)만큼의 워드 벡터를 파일에 기록합니다. \n",
    "vectors = model1.get_weights()[0]\n",
    "for i in range(4,vocab_size):\n",
    "    f.write('{} {}\\n'.format(index_to_word[i], ' '.join(map(str, list(vectors[i, :])))))\n",
    "f.close()"
   ]
  },
  {
   "cell_type": "code",
   "execution_count": 42,
   "id": "attractive-edwards",
   "metadata": {},
   "outputs": [
    {
     "data": {
      "text/plain": [
       "array([ 0.06831276, -0.09207106,  0.11604923, -0.07024089, -0.11716169,\n",
       "       -0.09161986, -0.06468874,  0.019323  ,  0.10129273, -0.06294193,\n",
       "        0.10306975, -0.01986909,  0.11626577,  0.09459221,  0.0809709 ,\n",
       "        0.12256305], dtype=float32)"
      ]
     },
     "execution_count": 42,
     "metadata": {},
     "output_type": "execute_result"
    }
   ],
   "source": [
    "word_vectors = Word2VecKeyedVectors.load_word2vec_format(word2vec_file_path, binary=False)\n",
    "vector = word_vectors['대박']\n",
    "vector"
   ]
  },
  {
   "cell_type": "markdown",
   "id": "empty-kinase",
   "metadata": {},
   "source": [
    "## 7-1. 긍정어 연관성"
   ]
  },
  {
   "cell_type": "code",
   "execution_count": 43,
   "id": "rocky-oxide",
   "metadata": {},
   "outputs": [
    {
     "data": {
      "text/plain": [
       "[('아깝지', 0.9753324389457703),\n",
       " ('애잔한', 0.9643542766571045),\n",
       " ('슬프지만', 0.9635875821113586),\n",
       " ('재밌기만', 0.9630200862884521),\n",
       " ('재미있게', 0.9625986814498901),\n",
       " ('보석', 0.9620888829231262),\n",
       " ('땀', 0.9618150591850281),\n",
       " ('반해', 0.960966944694519),\n",
       " ('억압', 0.9608917832374573),\n",
       " ('가히', 0.9596177935600281)]"
      ]
     },
     "execution_count": 43,
     "metadata": {},
     "output_type": "execute_result"
    }
   ],
   "source": [
    "word_vectors.similar_by_word(\"대박\")"
   ]
  },
  {
   "cell_type": "code",
   "execution_count": 44,
   "id": "thirty-render",
   "metadata": {},
   "outputs": [
    {
     "data": {
      "text/plain": [
       "[('마피아', 0.8979337215423584),\n",
       " ('괜찮았다', 0.8713160753250122),\n",
       " ('애정', 0.8677364587783813),\n",
       " ('박물관', 0.8549060821533203),\n",
       " ('흑형', 0.8428658246994019),\n",
       " ('어색하지', 0.8413121700286865),\n",
       " ('여왕', 0.8409032821655273),\n",
       " ('입체', 0.835097074508667),\n",
       " ('느끼게', 0.8342288732528687),\n",
       " ('잼있었는데', 0.8330966234207153)]"
      ]
     },
     "execution_count": 44,
     "metadata": {},
     "output_type": "execute_result"
    }
   ],
   "source": [
    "word_vectors.similar_by_word(\"볼\")"
   ]
  },
  {
   "cell_type": "code",
   "execution_count": 46,
   "id": "instructional-cooper",
   "metadata": {},
   "outputs": [
    {
     "data": {
      "text/plain": [
       "[('즐거웠다', 0.9377846717834473),\n",
       " ('되는데', 0.9349279999732971),\n",
       " ('감사하게', 0.9247840642929077),\n",
       " ('해봅니다', 0.9242801666259766),\n",
       " ('호불호', 0.9221433401107788),\n",
       " ('됬으면', 0.9202517867088318),\n",
       " ('깨달음', 0.9200471639633179),\n",
       " ('보고싶네요', 0.919702410697937),\n",
       " ('와도', 0.9137440919876099),\n",
       " ('훌륭함', 0.9108690023422241)]"
      ]
     },
     "execution_count": 46,
     "metadata": {},
     "output_type": "execute_result"
    }
   ],
   "source": [
    "word_vectors.similar_by_word(\"신선한\")"
   ]
  },
  {
   "cell_type": "code",
   "execution_count": 47,
   "id": "dense-listing",
   "metadata": {},
   "outputs": [
    {
     "data": {
      "text/plain": [
       "[('재밌당', 0.9837474226951599),\n",
       " ('김동완', 0.9836745858192444),\n",
       " ('재밌었고', 0.9798687100410461),\n",
       " ('아름다웠던', 0.9792598485946655),\n",
       " ('독특하고', 0.9787867069244385),\n",
       " ('이상형', 0.9769493341445923),\n",
       " ('슬프네요', 0.9765611290931702),\n",
       " ('진하게', 0.9760579466819763),\n",
       " ('펑펑', 0.9755608439445496),\n",
       " ('하모니', 0.975385844707489)]"
      ]
     },
     "execution_count": 47,
     "metadata": {},
     "output_type": "execute_result"
    }
   ],
   "source": [
    "word_vectors.similar_by_word(\"역작\")"
   ]
  },
  {
   "cell_type": "code",
   "execution_count": 87,
   "id": "loaded-coating",
   "metadata": {},
   "outputs": [
    {
     "data": {
      "text/plain": [
       "[('됩니다', 0.8895398378372192),\n",
       " ('남아있는', 0.8495774865150452),\n",
       " ('빕니다', 0.8480660915374756),\n",
       " ('눈물난다', 0.8320838809013367),\n",
       " ('장편', 0.8262819647789001),\n",
       " ('자아', 0.8218193054199219),\n",
       " ('깊었던', 0.8214067220687866),\n",
       " ('여태껏', 0.8205358982086182),\n",
       " ('다시금', 0.8198398351669312),\n",
       " ('미치도록', 0.8166539669036865)]"
      ]
     },
     "execution_count": 87,
     "metadata": {},
     "output_type": "execute_result"
    }
   ],
   "source": [
    "word_vectors.similar_by_word(\"흥행\")"
   ]
  },
  {
   "cell_type": "markdown",
   "id": "dramatic-exposure",
   "metadata": {},
   "source": [
    "## 7-2 부정어 연관성"
   ]
  },
  {
   "cell_type": "code",
   "execution_count": 45,
   "id": "active-psychiatry",
   "metadata": {},
   "outputs": [
    {
     "data": {
      "text/plain": [
       "[('없구', 0.984233558177948),\n",
       " ('오글거려', 0.9809844493865967),\n",
       " ('이상해서', 0.9808022975921631),\n",
       " ('노잼', 0.980696439743042),\n",
       " ('졸았다', 0.9805079698562622),\n",
       " ('만드냐', 0.9797564744949341),\n",
       " ('재미없네', 0.9794145822525024),\n",
       " ('만들겠다', 0.9793559312820435),\n",
       " ('접영', 0.9792845249176025),\n",
       " ('흥미롭지', 0.9778022766113281)]"
      ]
     },
     "execution_count": 45,
     "metadata": {},
     "output_type": "execute_result"
    }
   ],
   "source": [
    "word_vectors.similar_by_word(\"최악\")"
   ]
  },
  {
   "cell_type": "code",
   "execution_count": 48,
   "id": "bigger-london",
   "metadata": {},
   "outputs": [
    {
     "data": {
      "text/plain": [
       "[('이상해서', 0.9874067306518555),\n",
       " ('개그맨', 0.98728346824646),\n",
       " ('발성', 0.9872792959213257),\n",
       " ('최악', 0.980696439743042),\n",
       " ('이상해', 0.9796851277351379),\n",
       " ('만드는지', 0.9792374968528748),\n",
       " ('보겠음', 0.9789784550666809),\n",
       " ('썼나', 0.9787105321884155),\n",
       " ('웃기지도', 0.9780599474906921),\n",
       " ('흥미롭지', 0.9779815673828125)]"
      ]
     },
     "execution_count": 48,
     "metadata": {},
     "output_type": "execute_result"
    }
   ],
   "source": [
    "word_vectors.similar_by_word(\"노잼\")"
   ]
  },
  {
   "cell_type": "code",
   "execution_count": 90,
   "id": "governmental-daisy",
   "metadata": {},
   "outputs": [
    {
     "data": {
      "text/plain": [
       "[('어이없고', 0.972498893737793),\n",
       " ('아까워서', 0.9610217213630676),\n",
       " ('재미없다', 0.9602510929107666),\n",
       " ('만들겠다', 0.9601000547409058),\n",
       " ('실망했다', 0.9599971175193787),\n",
       " ('최악', 0.9586231708526611),\n",
       " ('재미없네', 0.9578620195388794),\n",
       " ('같지도', 0.9568795561790466),\n",
       " ('썼나', 0.9567750692367554),\n",
       " ('발연기', 0.9563157558441162)]"
      ]
     },
     "execution_count": 90,
     "metadata": {},
     "output_type": "execute_result"
    }
   ],
   "source": [
    "word_vectors.similar_by_word(\"억지\")"
   ]
  },
  {
   "cell_type": "code",
   "execution_count": 91,
   "id": "federal-calcium",
   "metadata": {},
   "outputs": [
    {
     "data": {
      "text/plain": [
       "[('김준호', 0.9818074107170105),\n",
       " ('김대희', 0.9749566316604614),\n",
       " ('아깝고', 0.9723896384239197),\n",
       " ('짜증', 0.9715514183044434),\n",
       " ('답답', 0.9706543684005737),\n",
       " ('흥미롭지', 0.9698517322540283),\n",
       " ('귀신', 0.9685678482055664),\n",
       " ('아까', 0.9678096771240234),\n",
       " ('만큼도', 0.9669404625892639),\n",
       " ('재미없다', 0.9660430550575256)]"
      ]
     },
     "execution_count": 91,
     "metadata": {},
     "output_type": "execute_result"
    }
   ],
   "source": [
    "word_vectors.similar_by_word(\"낭비\")"
   ]
  },
  {
   "cell_type": "markdown",
   "id": "meaning-dakota",
   "metadata": {},
   "source": [
    "- 긍정어, 부정어 둘 다 꽤 잘 맵핑된 것 같다.\n",
    "- 부정어에 '에릭'이나 개그맨 이름이 종종 나오는데 개인적으로 이유가 무엇일지 궁금하다."
   ]
  },
  {
   "cell_type": "code",
   "execution_count": 93,
   "id": "handy-applicant",
   "metadata": {},
   "outputs": [
    {
     "data": {
      "text/plain": [
       "[('낭비', 0.9749566316604614),\n",
       " ('도무지', 0.9718021154403687),\n",
       " ('아까', 0.9638904333114624),\n",
       " ('불과', 0.9637704491615295),\n",
       " ('깝', 0.9630115032196045),\n",
       " ('흥미롭지', 0.9620776772499084),\n",
       " ('김준호', 0.9602026343345642),\n",
       " ('마이너스', 0.9587829113006592),\n",
       " ('모르겟고', 0.9586681127548218),\n",
       " ('난국', 0.9585113525390625)]"
      ]
     },
     "execution_count": 93,
     "metadata": {},
     "output_type": "execute_result"
    }
   ],
   "source": [
    "word_vectors.similar_by_word(\"김대희\")"
   ]
  },
  {
   "cell_type": "markdown",
   "id": "boolean-punishment",
   "metadata": {},
   "source": [
    "# step8) 한국어 Word2Vec 임베딩으로 성능 개선"
   ]
  },
  {
   "cell_type": "markdown",
   "id": "divine-exclusive",
   "metadata": {},
   "source": [
    "## 8-0. Vocab 사용을 위해 gensim 다운그레이드"
   ]
  },
  {
   "cell_type": "code",
   "execution_count": null,
   "id": "focal-elder",
   "metadata": {},
   "outputs": [],
   "source": [
    "!pip install --upgrade gensim==3.8.1"
   ]
  },
  {
   "cell_type": "code",
   "execution_count": 49,
   "id": "antique-breath",
   "metadata": {},
   "outputs": [
    {
     "name": "stdout",
     "output_type": "stream",
     "text": [
      "gensim                        3.8.1\n",
      "\u001b[33mWARNING: You are using pip version 20.3.3; however, version 21.2.3 is available.\n",
      "You should consider upgrading via the '/opt/conda/bin/python3.7 -m pip install --upgrade pip' command.\u001b[0m\n"
     ]
    }
   ],
   "source": [
    "!pip list | grep gensim"
   ]
  },
  {
   "cell_type": "markdown",
   "id": "coastal-optimum",
   "metadata": {},
   "source": [
    "## 8-1. 한국어 Word2Vec 다운"
   ]
  },
  {
   "cell_type": "code",
   "execution_count": 50,
   "id": "governing-culture",
   "metadata": {},
   "outputs": [
    {
     "name": "stdout",
     "output_type": "stream",
     "text": [
      "total 243852\r\n",
      "drwxr-xr-x 4 root root     4096 Aug 12 10:51 .\r\n",
      "drwxr-xr-x 4 root root     4096 Aug 12 10:51 ..\r\n",
      "lrwxrwxrwx 1 root root       50 Aug 11 19:37 GoogleNews-vectors-negative300.bin.gz -> /aiffel/data/GoogleNews-vectors-negative300.bin.gz\r\n",
      "drwxr-xr-x 2 root root     4096 Aug 12 08:27 .ipynb_checkpoints\r\n",
      "-rw------- 1 root root 50697568 Dec 21  2016 ko.bin\r\n",
      "-rw------- 1 root root 85362829 Dec 21  2016 ko.tsv\r\n",
      "-rw-r--r-- 1 root root 80596565 Aug 12 08:34 ko.zip\r\n",
      "-rw-r--r-- 1 root root  2028066 Aug 12 11:18 nav_word2vec.txt\r\n",
      "-rw-r--r-- 1 root root  7838378 Aug 12 10:50 preprocessed_review.p\r\n",
      "drwxr-xr-x 3 root root     4096 Aug 12 08:00 pretrained\r\n",
      "-rwxr-xr-x 1 root root  4893335 Jul  6 03:16 ratings_test.txt\r\n",
      "-rwxr-xr-x 1 root root 14628807 Jul  6 03:16 ratings_train.txt\r\n",
      "-rw-r--r-- 1 root root  2057518 Aug 11 19:32 word2vec.txt\r\n",
      "-rw-r--r-- 1 root root   393384 Aug 12 10:50 y_test.npy\r\n",
      "-rw-r--r-- 1 root root  1169584 Aug 12 10:50 y_train.npy\r\n"
     ]
    }
   ],
   "source": [
    "!ls -al sentiment_classification/data"
   ]
  },
  {
   "cell_type": "markdown",
   "id": "hungarian-there",
   "metadata": {},
   "source": [
    "## 8-2. 사전 학습된 한국어  Word2Vec 모델 사용"
   ]
  },
  {
   "cell_type": "code",
   "execution_count": 10,
   "id": "driving-apollo",
   "metadata": {},
   "outputs": [],
   "source": [
    "koword2vec_path = os.getenv('HOME')+'/aiffel/enode7/sentiment_classification/data/ko.bin'\n",
    "koword2vec = Word2Vec.load(koword2vec_path)"
   ]
  },
  {
   "cell_type": "code",
   "execution_count": 51,
   "id": "grand-satin",
   "metadata": {},
   "outputs": [
    {
     "data": {
      "text/plain": [
       "array([ 1.3300865 , -0.70137125,  0.3151821 ,  0.4135478 ,  0.8475367 ,\n",
       "        0.18930033,  0.67249817, -0.02330537,  0.1058352 , -0.44736326,\n",
       "        1.2663724 ,  0.5302018 , -0.5853249 , -0.38746947, -0.2261098 ,\n",
       "        0.16653797, -0.3869417 ,  0.2020027 , -0.22752908, -0.90574646,\n",
       "       -0.60779965,  0.65778077,  0.43298417, -0.33474898, -0.509899  ,\n",
       "       -0.7520016 ,  0.71423244, -0.24393877, -0.33947507, -0.50915396,\n",
       "       -0.32689592,  0.03719105, -0.1446624 ,  0.34073737, -0.20699415,\n",
       "       -0.7795424 ,  0.21596694,  0.08077102,  0.03317945,  0.95000273,\n",
       "       -0.69421893,  0.7992769 ,  0.25610602, -0.68878144,  0.54442817,\n",
       "        0.5142195 ,  0.34343052, -0.84814304, -0.00331079,  0.814457  ,\n",
       "        0.5163203 ,  0.8377619 , -0.92593044, -1.0905721 , -1.3699466 ,\n",
       "       -0.7326797 , -0.6161057 , -0.6503584 , -0.36550024, -1.2844331 ,\n",
       "       -0.0402385 ,  0.4388169 , -0.52494925, -0.5788641 ,  0.07354188,\n",
       "        0.9250635 ,  0.89350903,  0.57776064,  0.20878994,  0.85936785,\n",
       "       -0.45945865, -0.0561837 ,  0.11330238,  0.6023253 ,  0.1973968 ,\n",
       "       -0.42329216,  1.0324186 , -1.2814463 , -0.89347506, -0.02931151,\n",
       "        1.4720882 , -1.1907161 ,  0.8441773 , -0.7135889 , -0.8227786 ,\n",
       "       -0.00288909,  0.6334392 ,  0.27594018, -1.1752096 ,  1.4723414 ,\n",
       "        0.30785772, -0.29385814,  0.3072558 , -0.03617267,  1.677031  ,\n",
       "        0.52425194,  0.05899867,  0.68325233,  0.40486842,  0.40253174,\n",
       "        0.60409564,  0.23311047,  0.88628083, -0.00300462, -0.15995947,\n",
       "        0.5792194 ,  0.30560732,  0.11551256,  0.599932  , -0.36347106,\n",
       "        0.41931283, -0.8682589 , -0.14858636, -0.7669445 ,  0.12528208,\n",
       "        0.74452156, -0.75221705,  0.60773003, -0.26798135,  0.42113176,\n",
       "       -0.39100987,  0.04497742,  0.19401036, -0.5661047 ,  0.12146106,\n",
       "       -0.291639  , -1.4494469 , -1.0914637 , -0.14020059, -0.03380831,\n",
       "       -0.02607657, -0.05433685,  1.3737025 ,  0.02955799, -0.8629945 ,\n",
       "        0.36092043,  0.44486374, -0.30671048,  0.24022788, -0.69289964,\n",
       "       -0.26288798,  0.19560985,  0.8341817 , -0.69122815, -0.40911433,\n",
       "        0.20096005, -0.30934048,  1.1363649 , -0.9212527 ,  0.7747535 ,\n",
       "       -0.8273668 ,  0.01069843,  0.82258743,  0.72586364,  0.2011983 ,\n",
       "       -1.2578676 , -0.7738713 ,  0.99254733, -0.9073315 ,  1.1160392 ,\n",
       "       -0.2644722 ,  0.21215625,  0.22882007, -0.5662936 ,  0.338713  ,\n",
       "        0.08341725, -0.16694467, -0.46318573,  0.6533881 ,  0.51446825,\n",
       "       -0.2157011 , -0.5573156 , -0.49555495, -1.0317756 , -0.8634008 ,\n",
       "       -0.17070189, -0.0914306 , -0.07282081,  0.19271336,  0.11196762,\n",
       "       -0.3420456 ,  0.30554676, -0.5116639 ,  0.5230944 ,  0.45404148,\n",
       "       -0.0274701 , -0.5622506 ,  0.8452997 ,  0.82271737, -0.4621793 ,\n",
       "       -1.0436642 ,  0.73344696,  1.2547821 , -0.6916562 ,  0.09844927,\n",
       "        0.62992454,  0.2540861 ,  1.1256069 ,  0.7373054 , -0.8411178 ],\n",
       "      dtype=float32)"
      ]
     },
     "execution_count": 51,
     "metadata": {},
     "output_type": "execute_result"
    }
   ],
   "source": [
    "vector = koword2vec['해산물']\n",
    "vector"
   ]
  },
  {
   "cell_type": "markdown",
   "id": "individual-resistance",
   "metadata": {},
   "source": [
    "## 8-3. 사전 학습된 Word2Vec의 연관어 성능\n",
    "- 위키백과를 기준으로 학습된 모델이기 때문에 리뷰에서 자주 사용되는 단어가 없는 경우가 있다. ex) 노잼\n",
    "- 보통 평가에만 쓰이는 단어가 너무 다양한 범위의 단어와 벡터 공간 상에서 가까이 존재한다."
   ]
  },
  {
   "cell_type": "code",
   "execution_count": 55,
   "id": "duplicate-image",
   "metadata": {},
   "outputs": [
    {
     "data": {
      "text/plain": [
       "[('초유', 0.546215832233429),\n",
       " ('최대', 0.4657382071018219),\n",
       " ('대공황', 0.4530748426914215),\n",
       " ('최고', 0.4529539942741394),\n",
       " ('최장', 0.4382264018058777),\n",
       " ('역전', 0.43632203340530396),\n",
       " ('최하위', 0.42039841413497925),\n",
       " ('여파', 0.4164554476737976),\n",
       " ('불황', 0.4069921672344208),\n",
       " ('추돌', 0.40534573793411255)]"
      ]
     },
     "execution_count": 55,
     "metadata": {},
     "output_type": "execute_result"
    }
   ],
   "source": [
    "koword2vec.similar_by_word(\"최악\")"
   ]
  },
  {
   "cell_type": "code",
   "execution_count": 57,
   "id": "numerical-timer",
   "metadata": {},
   "outputs": [
    {
     "data": {
      "text/plain": [
       "[('자극', 0.6292071342468262),\n",
       " ('악영향', 0.6289603114128113),\n",
       " ('고통', 0.6218981742858887),\n",
       " ('타격', 0.6169512271881104),\n",
       " ('영향', 0.599372148513794),\n",
       " ('감명', 0.5776066184043884),\n",
       " ('불쾌감', 0.562659502029419),\n",
       " ('반향', 0.5443421006202698),\n",
       " ('상처', 0.5426946878433228),\n",
       " ('손실', 0.5262940526008606)]"
      ]
     },
     "execution_count": 57,
     "metadata": {},
     "output_type": "execute_result"
    }
   ],
   "source": [
    "koword2vec.similar_by_word(\"충격\")"
   ]
  },
  {
   "cell_type": "code",
   "execution_count": 58,
   "id": "attempted-utility",
   "metadata": {},
   "outputs": [
    {
     "data": {
      "text/plain": [
       "[('대성공', 0.5648161172866821),\n",
       " ('매출', 0.548312246799469),\n",
       " ('시청률', 0.5455290079116821),\n",
       " ('영화계', 0.5239896774291992),\n",
       " ('상영', 0.5163764953613281),\n",
       " ('판매량', 0.5056595206260681),\n",
       " ('관객', 0.49975186586380005),\n",
       " ('성공', 0.4990675747394562),\n",
       " ('상업적', 0.4922037124633789),\n",
       " ('공연', 0.48489463329315186)]"
      ]
     },
     "execution_count": 58,
     "metadata": {},
     "output_type": "execute_result"
    }
   ],
   "source": [
    "koword2vec.similar_by_word(\"흥행\")"
   ]
  },
  {
   "cell_type": "code",
   "execution_count": 58,
   "id": "plastic-wilson",
   "metadata": {},
   "outputs": [
    {
     "data": {
      "text/plain": [
       "[('대성공', 0.5648161172866821),\n",
       " ('매출', 0.548312246799469),\n",
       " ('시청률', 0.5455290079116821),\n",
       " ('영화계', 0.5239896774291992),\n",
       " ('상영', 0.5163764953613281),\n",
       " ('판매량', 0.5056595206260681),\n",
       " ('관객', 0.49975186586380005),\n",
       " ('성공', 0.4990675747394562),\n",
       " ('상업적', 0.4922037124633789),\n",
       " ('공연', 0.48489463329315186)]"
      ]
     },
     "execution_count": 58,
     "metadata": {},
     "output_type": "execute_result"
    }
   ],
   "source": [
    "koword2vec.similar_by_word(\"감동\")"
   ]
  },
  {
   "cell_type": "markdown",
   "id": "environmental-ground",
   "metadata": {},
   "source": [
    "### 같은 단어 두 개의 Word2Vec에서 비교"
   ]
  },
  {
   "cell_type": "code",
   "execution_count": 91,
   "id": "forbidden-geography",
   "metadata": {},
   "outputs": [
    {
     "data": {
      "text/plain": [
       "[('김준호', 0.9818074107170105),\n",
       " ('김대희', 0.9749566316604614),\n",
       " ('아깝고', 0.9723896384239197),\n",
       " ('짜증', 0.9715514183044434),\n",
       " ('답답', 0.9706543684005737),\n",
       " ('흥미롭지', 0.9698517322540283),\n",
       " ('귀신', 0.9685678482055664),\n",
       " ('아까', 0.9678096771240234),\n",
       " ('만큼도', 0.9669404625892639),\n",
       " ('재미없다', 0.9660430550575256)]"
      ]
     },
     "execution_count": 91,
     "metadata": {},
     "output_type": "execute_result"
    }
   ],
   "source": [
    "word_vectors.similar_by_word(\"낭비\")"
   ]
  },
  {
   "cell_type": "code",
   "execution_count": 95,
   "id": "looking-meaning",
   "metadata": {},
   "outputs": [
    {
     "data": {
      "text/plain": [
       "[('소모', 0.6752241253852844),\n",
       " ('절약', 0.6708904504776001),\n",
       " ('절감', 0.6346127986907959),\n",
       " ('지출', 0.5851995944976807),\n",
       " ('부담', 0.578451931476593),\n",
       " ('최소화', 0.5538947582244873),\n",
       " ('바닥나', 0.5429131388664246),\n",
       " ('고갈', 0.5400604009628296),\n",
       " ('삭감', 0.5259852409362793),\n",
       " ('인건비', 0.523245096206665)]"
      ]
     },
     "execution_count": 95,
     "metadata": {},
     "output_type": "execute_result"
    }
   ],
   "source": [
    "koword2vec.similar_by_word(\"낭비\")"
   ]
  },
  {
   "cell_type": "markdown",
   "id": "hydraulic-chosen",
   "metadata": {},
   "source": [
    "## 8-4. 사전 학습된 Word2Vec 기반 모델 학습\n",
    "- 사전 학습된 Word2Vec에서 영화 리뷰에서 사용된 단어별 행렬 만들기"
   ]
  },
  {
   "cell_type": "code",
   "execution_count": 53,
   "id": "horizontal-alpha",
   "metadata": {},
   "outputs": [],
   "source": [
    "vocab_size = 10000\n",
    "word_vector_dim = 200\n",
    "\n",
    "embedding_matrix = np.random.rand(vocab_size, word_vector_dim)\n",
    "\n",
    "# embedding_matrix에 Word2Vec 워드 벡터를 단어 하나씩마다 차례차례 카피한다.\n",
    "for i in range(4,vocab_size):\n",
    "    if index_to_word[i] in koword2vec:\n",
    "        embedding_matrix[i] = koword2vec[index_to_word[i]]"
   ]
  },
  {
   "cell_type": "code",
   "execution_count": 218,
   "id": "exposed-luther",
   "metadata": {},
   "outputs": [
    {
     "name": "stdout",
     "output_type": "stream",
     "text": [
      "WARNING:tensorflow:Layer lstm_17 will not use cuDNN kernel since it doesn't meet the cuDNN kernel criteria. It will use generic GPU kernel as fallback when running on GPU\n",
      "Model: \"sequential_24\"\n",
      "_________________________________________________________________\n",
      "Layer (type)                 Output Shape              Param #   \n",
      "=================================================================\n",
      "embedding_24 (Embedding)     (None, 33, 200)           2000000   \n",
      "_________________________________________________________________\n",
      "lstm_17 (LSTM)               (None, 72)                78624     \n",
      "_________________________________________________________________\n",
      "dense_44 (Dense)             (None, 8)                 584       \n",
      "_________________________________________________________________\n",
      "dense_45 (Dense)             (None, 1)                 9         \n",
      "=================================================================\n",
      "Total params: 2,079,217\n",
      "Trainable params: 2,079,217\n",
      "Non-trainable params: 0\n",
      "_________________________________________________________________\n"
     ]
    }
   ],
   "source": [
    "vocab_size = 10000\n",
    "word_vector_dim = 200\n",
    "\n",
    "# 모델 구성\n",
    "fine_model = keras.Sequential()\n",
    "fine_model.add(keras.layers.Embedding(vocab_size,\n",
    "                                      word_vector_dim, \n",
    "                                      embeddings_initializer=Constant(embedding_matrix),  # 카피한 임베딩을 여기서 활용\n",
    "                                      input_length=maxlen, \n",
    "                                      trainable=True))   # trainable을 True로 주면 Fine-tuning\n",
    "\n",
    "fine_model.add(keras.layers.LSTM(72, activation='relu'))\n",
    "fine_model.add(keras.layers.Dense(8, activation='relu'))\n",
    "fine_model.add(keras.layers.Dense(1, activation='sigmoid')) \n",
    "\n",
    "fine_model.summary()\n",
    "# 학습의 진행\n",
    "fine_model.compile(optimizer='rmsprop',\n",
    "              loss='binary_crossentropy',\n",
    "              metrics=['accuracy'])"
   ]
  },
  {
   "cell_type": "code",
   "execution_count": 219,
   "id": "competent-council",
   "metadata": {},
   "outputs": [
    {
     "data": {
      "image/svg+xml": [
       "<svg height=\"349pt\" viewBox=\"0.00 0.00 435.00 387.00\" width=\"393pt\" xmlns=\"http://www.w3.org/2000/svg\" xmlns:xlink=\"http://www.w3.org/1999/xlink\">\n",
       "<g class=\"graph\" id=\"graph0\" transform=\"scale(.9028 .9028) rotate(0) translate(4 383)\">\n",
       "<title>G</title>\n",
       "<polygon fill=\"#ffffff\" points=\"-4,4 -4,-383 431,-383 431,4 -4,4\" stroke=\"transparent\"/>\n",
       "<!-- 140583982433232 -->\n",
       "<g class=\"node\" id=\"node1\">\n",
       "<title>140583982433232</title>\n",
       "<polygon fill=\"none\" points=\"0,-332.5 0,-378.5 427,-378.5 427,-332.5 0,-332.5\" stroke=\"#000000\"/>\n",
       "<text fill=\"#000000\" font-family=\"Times,serif\" font-size=\"14.00\" text-anchor=\"middle\" x=\"128\" y=\"-351.8\">embedding_24_input: InputLayer</text>\n",
       "<polyline fill=\"none\" points=\"256,-332.5 256,-378.5 \" stroke=\"#000000\"/>\n",
       "<text fill=\"#000000\" font-family=\"Times,serif\" font-size=\"14.00\" text-anchor=\"middle\" x=\"290\" y=\"-363.3\">input:</text>\n",
       "<polyline fill=\"none\" points=\"256,-355.5 324,-355.5 \" stroke=\"#000000\"/>\n",
       "<text fill=\"#000000\" font-family=\"Times,serif\" font-size=\"14.00\" text-anchor=\"middle\" x=\"290\" y=\"-340.3\">output:</text>\n",
       "<polyline fill=\"none\" points=\"324,-332.5 324,-378.5 \" stroke=\"#000000\"/>\n",
       "<text fill=\"#000000\" font-family=\"Times,serif\" font-size=\"14.00\" text-anchor=\"middle\" x=\"375.5\" y=\"-363.3\">[(None, 33)]</text>\n",
       "<polyline fill=\"none\" points=\"324,-355.5 427,-355.5 \" stroke=\"#000000\"/>\n",
       "<text fill=\"#000000\" font-family=\"Times,serif\" font-size=\"14.00\" text-anchor=\"middle\" x=\"375.5\" y=\"-340.3\">[(None, 33)]</text>\n",
       "</g>\n",
       "<!-- 140583980416336 -->\n",
       "<g class=\"node\" id=\"node2\">\n",
       "<title>140583980416336</title>\n",
       "<polygon fill=\"none\" points=\"9.5,-249.5 9.5,-295.5 417.5,-295.5 417.5,-249.5 9.5,-249.5\" stroke=\"#000000\"/>\n",
       "<text fill=\"#000000\" font-family=\"Times,serif\" font-size=\"14.00\" text-anchor=\"middle\" x=\"115.5\" y=\"-268.8\">embedding_24: Embedding</text>\n",
       "<polyline fill=\"none\" points=\"221.5,-249.5 221.5,-295.5 \" stroke=\"#000000\"/>\n",
       "<text fill=\"#000000\" font-family=\"Times,serif\" font-size=\"14.00\" text-anchor=\"middle\" x=\"255.5\" y=\"-280.3\">input:</text>\n",
       "<polyline fill=\"none\" points=\"221.5,-272.5 289.5,-272.5 \" stroke=\"#000000\"/>\n",
       "<text fill=\"#000000\" font-family=\"Times,serif\" font-size=\"14.00\" text-anchor=\"middle\" x=\"255.5\" y=\"-257.3\">output:</text>\n",
       "<polyline fill=\"none\" points=\"289.5,-249.5 289.5,-295.5 \" stroke=\"#000000\"/>\n",
       "<text fill=\"#000000\" font-family=\"Times,serif\" font-size=\"14.00\" text-anchor=\"middle\" x=\"353.5\" y=\"-280.3\">(None, 33)</text>\n",
       "<polyline fill=\"none\" points=\"289.5,-272.5 417.5,-272.5 \" stroke=\"#000000\"/>\n",
       "<text fill=\"#000000\" font-family=\"Times,serif\" font-size=\"14.00\" text-anchor=\"middle\" x=\"353.5\" y=\"-257.3\">(None, 33, 200)</text>\n",
       "</g>\n",
       "<!-- 140583982433232&#45;&gt;140583980416336 -->\n",
       "<g class=\"edge\" id=\"edge1\">\n",
       "<title>140583982433232-&gt;140583980416336</title>\n",
       "<path d=\"M213.5,-332.3799C213.5,-324.1745 213.5,-314.7679 213.5,-305.8786\" fill=\"none\" stroke=\"#000000\"/>\n",
       "<polygon fill=\"#000000\" points=\"217.0001,-305.784 213.5,-295.784 210.0001,-305.784 217.0001,-305.784\" stroke=\"#000000\"/>\n",
       "</g>\n",
       "<!-- 140583980415248 -->\n",
       "<g class=\"node\" id=\"node3\">\n",
       "<title>140583980415248</title>\n",
       "<polygon fill=\"none\" points=\"52.5,-166.5 52.5,-212.5 374.5,-212.5 374.5,-166.5 52.5,-166.5\" stroke=\"#000000\"/>\n",
       "<text fill=\"#000000\" font-family=\"Times,serif\" font-size=\"14.00\" text-anchor=\"middle\" x=\"115.5\" y=\"-185.8\">lstm_17: LSTM</text>\n",
       "<polyline fill=\"none\" points=\"178.5,-166.5 178.5,-212.5 \" stroke=\"#000000\"/>\n",
       "<text fill=\"#000000\" font-family=\"Times,serif\" font-size=\"14.00\" text-anchor=\"middle\" x=\"212.5\" y=\"-197.3\">input:</text>\n",
       "<polyline fill=\"none\" points=\"178.5,-189.5 246.5,-189.5 \" stroke=\"#000000\"/>\n",
       "<text fill=\"#000000\" font-family=\"Times,serif\" font-size=\"14.00\" text-anchor=\"middle\" x=\"212.5\" y=\"-174.3\">output:</text>\n",
       "<polyline fill=\"none\" points=\"246.5,-166.5 246.5,-212.5 \" stroke=\"#000000\"/>\n",
       "<text fill=\"#000000\" font-family=\"Times,serif\" font-size=\"14.00\" text-anchor=\"middle\" x=\"310.5\" y=\"-197.3\">(None, 33, 200)</text>\n",
       "<polyline fill=\"none\" points=\"246.5,-189.5 374.5,-189.5 \" stroke=\"#000000\"/>\n",
       "<text fill=\"#000000\" font-family=\"Times,serif\" font-size=\"14.00\" text-anchor=\"middle\" x=\"310.5\" y=\"-174.3\">(None, 72)</text>\n",
       "</g>\n",
       "<!-- 140583980416336&#45;&gt;140583980415248 -->\n",
       "<g class=\"edge\" id=\"edge2\">\n",
       "<title>140583980416336-&gt;140583980415248</title>\n",
       "<path d=\"M213.5,-249.3799C213.5,-241.1745 213.5,-231.7679 213.5,-222.8786\" fill=\"none\" stroke=\"#000000\"/>\n",
       "<polygon fill=\"#000000\" points=\"217.0001,-222.784 213.5,-212.784 210.0001,-222.784 217.0001,-222.784\" stroke=\"#000000\"/>\n",
       "</g>\n",
       "<!-- 140583980885904 -->\n",
       "<g class=\"node\" id=\"node4\">\n",
       "<title>140583980885904</title>\n",
       "<polygon fill=\"none\" points=\"65,-83.5 65,-129.5 362,-129.5 362,-83.5 65,-83.5\" stroke=\"#000000\"/>\n",
       "<text fill=\"#000000\" font-family=\"Times,serif\" font-size=\"14.00\" text-anchor=\"middle\" x=\"133.5\" y=\"-102.8\">dense_44: Dense</text>\n",
       "<polyline fill=\"none\" points=\"202,-83.5 202,-129.5 \" stroke=\"#000000\"/>\n",
       "<text fill=\"#000000\" font-family=\"Times,serif\" font-size=\"14.00\" text-anchor=\"middle\" x=\"236\" y=\"-114.3\">input:</text>\n",
       "<polyline fill=\"none\" points=\"202,-106.5 270,-106.5 \" stroke=\"#000000\"/>\n",
       "<text fill=\"#000000\" font-family=\"Times,serif\" font-size=\"14.00\" text-anchor=\"middle\" x=\"236\" y=\"-91.3\">output:</text>\n",
       "<polyline fill=\"none\" points=\"270,-83.5 270,-129.5 \" stroke=\"#000000\"/>\n",
       "<text fill=\"#000000\" font-family=\"Times,serif\" font-size=\"14.00\" text-anchor=\"middle\" x=\"316\" y=\"-114.3\">(None, 72)</text>\n",
       "<polyline fill=\"none\" points=\"270,-106.5 362,-106.5 \" stroke=\"#000000\"/>\n",
       "<text fill=\"#000000\" font-family=\"Times,serif\" font-size=\"14.00\" text-anchor=\"middle\" x=\"316\" y=\"-91.3\">(None, 8)</text>\n",
       "</g>\n",
       "<!-- 140583980415248&#45;&gt;140583980885904 -->\n",
       "<g class=\"edge\" id=\"edge3\">\n",
       "<title>140583980415248-&gt;140583980885904</title>\n",
       "<path d=\"M213.5,-166.3799C213.5,-158.1745 213.5,-148.7679 213.5,-139.8786\" fill=\"none\" stroke=\"#000000\"/>\n",
       "<polygon fill=\"#000000\" points=\"217.0001,-139.784 213.5,-129.784 210.0001,-139.784 217.0001,-139.784\" stroke=\"#000000\"/>\n",
       "</g>\n",
       "<!-- 140583979510608 -->\n",
       "<g class=\"node\" id=\"node5\">\n",
       "<title>140583979510608</title>\n",
       "<polygon fill=\"none\" points=\"69.5,-.5 69.5,-46.5 357.5,-46.5 357.5,-.5 69.5,-.5\" stroke=\"#000000\"/>\n",
       "<text fill=\"#000000\" font-family=\"Times,serif\" font-size=\"14.00\" text-anchor=\"middle\" x=\"138\" y=\"-19.8\">dense_45: Dense</text>\n",
       "<polyline fill=\"none\" points=\"206.5,-.5 206.5,-46.5 \" stroke=\"#000000\"/>\n",
       "<text fill=\"#000000\" font-family=\"Times,serif\" font-size=\"14.00\" text-anchor=\"middle\" x=\"240.5\" y=\"-31.3\">input:</text>\n",
       "<polyline fill=\"none\" points=\"206.5,-23.5 274.5,-23.5 \" stroke=\"#000000\"/>\n",
       "<text fill=\"#000000\" font-family=\"Times,serif\" font-size=\"14.00\" text-anchor=\"middle\" x=\"240.5\" y=\"-8.3\">output:</text>\n",
       "<polyline fill=\"none\" points=\"274.5,-.5 274.5,-46.5 \" stroke=\"#000000\"/>\n",
       "<text fill=\"#000000\" font-family=\"Times,serif\" font-size=\"14.00\" text-anchor=\"middle\" x=\"316\" y=\"-31.3\">(None, 8)</text>\n",
       "<polyline fill=\"none\" points=\"274.5,-23.5 357.5,-23.5 \" stroke=\"#000000\"/>\n",
       "<text fill=\"#000000\" font-family=\"Times,serif\" font-size=\"14.00\" text-anchor=\"middle\" x=\"316\" y=\"-8.3\">(None, 1)</text>\n",
       "</g>\n",
       "<!-- 140583980885904&#45;&gt;140583979510608 -->\n",
       "<g class=\"edge\" id=\"edge4\">\n",
       "<title>140583980885904-&gt;140583979510608</title>\n",
       "<path d=\"M213.5,-83.3799C213.5,-75.1745 213.5,-65.7679 213.5,-56.8786\" fill=\"none\" stroke=\"#000000\"/>\n",
       "<polygon fill=\"#000000\" points=\"217.0001,-56.784 213.5,-46.784 210.0001,-56.784 217.0001,-56.784\" stroke=\"#000000\"/>\n",
       "</g>\n",
       "</g>\n",
       "</svg>"
      ],
      "text/plain": [
       "<IPython.core.display.SVG object>"
      ]
     },
     "execution_count": 219,
     "metadata": {},
     "output_type": "execute_result"
    }
   ],
   "source": [
    "SVG(model_to_dot(fine_model, show_shapes=True,show_layer_names=True, dpi=65).create(prog='dot',format='svg'))"
   ]
  },
  {
   "cell_type": "code",
   "execution_count": 199,
   "id": "modular-integrity",
   "metadata": {},
   "outputs": [],
   "source": [
    "es2 = EarlyStopping(monitor='val_loss', mode='min', verbose=1, patience=3)\n",
    "mc2 = ModelCheckpoint('pretrained_weight.h5', monitor='val_acc', mode='max',verbose=1, save_best_only=True)"
   ]
  },
  {
   "cell_type": "code",
   "execution_count": 216,
   "id": "worthy-consultation",
   "metadata": {},
   "outputs": [
    {
     "name": "stdout",
     "output_type": "stream",
     "text": [
      "WARNING:tensorflow:Layer lstm_16 will not use cuDNN kernel since it doesn't meet the cuDNN kernel criteria. It will use generic GPU kernel as fallback when running on GPU\n",
      "Model: \"sequential_23\"\n",
      "_________________________________________________________________\n",
      "Layer (type)                 Output Shape              Param #   \n",
      "=================================================================\n",
      "embedding_23 (Embedding)     (None, 33, 200)           2000000   \n",
      "_________________________________________________________________\n",
      "lstm_16 (LSTM)               (None, 72)                78624     \n",
      "_________________________________________________________________\n",
      "dense_42 (Dense)             (None, 8)                 584       \n",
      "_________________________________________________________________\n",
      "dense_43 (Dense)             (None, 1)                 9         \n",
      "=================================================================\n",
      "Total params: 2,079,217\n",
      "Trainable params: 2,079,217\n",
      "Non-trainable params: 0\n",
      "_________________________________________________________________\n",
      "Epoch 1/20\n",
      "266/266 [==============================] - 18s 64ms/step - loss: 0.6326 - accuracy: 0.6175 - val_loss: 0.4244 - val_accuracy: 0.8057\n",
      "WARNING:tensorflow:Can save best model only with val_acc available, skipping.\n",
      "Epoch 2/20\n",
      "266/266 [==============================] - 16s 62ms/step - loss: 0.4197 - accuracy: 0.8064 - val_loss: 0.3709 - val_accuracy: 0.8323\n",
      "WARNING:tensorflow:Can save best model only with val_acc available, skipping.\n",
      "Epoch 3/20\n",
      "266/266 [==============================] - 16s 60ms/step - loss: 0.3464 - accuracy: 0.8467 - val_loss: 0.3604 - val_accuracy: 0.8361\n",
      "WARNING:tensorflow:Can save best model only with val_acc available, skipping.\n",
      "Epoch 4/20\n",
      "266/266 [==============================] - 15s 58ms/step - loss: 0.3195 - accuracy: 0.8612 - val_loss: 0.3318 - val_accuracy: 0.8512\n",
      "WARNING:tensorflow:Can save best model only with val_acc available, skipping.\n",
      "Epoch 5/20\n",
      "266/266 [==============================] - 15s 57ms/step - loss: 0.2989 - accuracy: 0.8703 - val_loss: 0.3404 - val_accuracy: 0.8501\n",
      "WARNING:tensorflow:Can save best model only with val_acc available, skipping.\n",
      "Epoch 6/20\n",
      "266/266 [==============================] - 15s 57ms/step - loss: 0.2852 - accuracy: 0.8768 - val_loss: 0.3292 - val_accuracy: 0.8560\n",
      "WARNING:tensorflow:Can save best model only with val_acc available, skipping.\n",
      "Epoch 7/20\n",
      "266/266 [==============================] - 15s 58ms/step - loss: 0.2711 - accuracy: 0.8832 - val_loss: 0.3304 - val_accuracy: 0.8559\n",
      "WARNING:tensorflow:Can save best model only with val_acc available, skipping.\n",
      "Epoch 8/20\n",
      "266/266 [==============================] - 15s 57ms/step - loss: 0.2610 - accuracy: 0.8895 - val_loss: 0.3514 - val_accuracy: 0.8506\n",
      "WARNING:tensorflow:Can save best model only with val_acc available, skipping.\n",
      "Epoch 9/20\n",
      "266/266 [==============================] - 15s 57ms/step - loss: 0.2477 - accuracy: 0.8948 - val_loss: 0.3361 - val_accuracy: 0.8546\n",
      "WARNING:tensorflow:Can save best model only with val_acc available, skipping.\n",
      "Epoch 00009: early stopping\n"
     ]
    }
   ],
   "source": [
    "epochs=20\n",
    "fine_model = create_models(4)\n",
    "fine_history = fine_model.fit(partial_x_train,\n",
    "                    partial_y_train,\n",
    "                    epochs=epochs,\n",
    "                    batch_size=512,\n",
    "                    validation_data=(x_val, y_val),\n",
    "                    callbacks=[es2,mc2],\n",
    "                    verbose=1)"
   ]
  },
  {
   "cell_type": "markdown",
   "id": "metropolitan-contrast",
   "metadata": {},
   "source": [
    "## 8-5. 모델 평가"
   ]
  },
  {
   "cell_type": "code",
   "execution_count": 217,
   "id": "motivated-answer",
   "metadata": {},
   "outputs": [
    {
     "name": "stdout",
     "output_type": "stream",
     "text": [
      "1537/1537 - 8s - loss: 0.3496 - accuracy: 0.8512\n",
      "[0.34958934783935547, 0.851150393486023]\n"
     ]
    }
   ],
   "source": [
    "# 테스트셋을 통한 모델 평가\n",
    "fine_results = fine_model.evaluate(x_test,  y_test, verbose=2)\n",
    "print(fine_results)"
   ]
  },
  {
   "cell_type": "code",
   "execution_count": 220,
   "id": "competent-passage",
   "metadata": {},
   "outputs": [
    {
     "name": "stdout",
     "output_type": "stream",
     "text": [
      "Train Loss : 0.2516  Validation Loss : 0.3361\n",
      "Train Accuracy : 0.8937  Validation Accuracy : 0.8546\n"
     ]
    },
    {
     "data": {
      "image/png": "[encoded data removed]",
      "text/plain": [
       "<Figure size 1080x360 with 2 Axes>"
      ]
     },
     "metadata": {},
     "output_type": "display_data"
    }
   ],
   "source": [
    "show_us(fine_history)"
   ]
  },
  {
   "cell_type": "markdown",
   "id": "studied-event",
   "metadata": {},
   "source": [
    "- Train Accuracy와 Validation Accuracy가 85% 이상 나왔다."
   ]
  },
  {
   "cell_type": "markdown",
   "id": "electronic-branch",
   "metadata": {},
   "source": [
    "## 8-6. 전이학습 후 결과\n",
    "- 전이 학습한 Embedding 레이어의 가중치를 저장하고 새롭게 학습된 Word2Vec 으로 단어간 유사성을 확인해보자."
   ]
  },
  {
   "cell_type": "code",
   "execution_count": null,
   "id": "black-works",
   "metadata": {
    "scrolled": false
   },
   "outputs": [],
   "source": [
    "embedding_layer=fine_model.layers[0]\n",
    "fine_weights = embedding_layer.get_weights()[0]\n",
    "print(fine_weights[0].shape) # (vocab_size, embedding_dimension)\n",
    "fine_word2vec_path = dir_path+'fine_word2vec.txt'\n",
    "with open(fine_word2vec_path, 'w') as f:\n",
    "    f.write('{} {}\\n'.format(vocab_size-4, word_vector_dim))\n",
    "    vectors = fine_weights\n",
    "    for i in range(4,vocab_size):\n",
    "        f.write('{} {}\\n'.format(index_to_word[i], ' '.join(map(str, list(vectors[i, :])))))"
   ]
  },
  {
   "cell_type": "code",
   "execution_count": 100,
   "id": "original-classic",
   "metadata": {},
   "outputs": [],
   "source": [
    "fine_word_vectors = Word2VecKeyedVectors.load_word2vec_format(fine_word2vec_path, binary=False)"
   ]
  },
  {
   "cell_type": "code",
   "execution_count": 101,
   "id": "hungry-glucose",
   "metadata": {},
   "outputs": [
    {
     "data": {
      "text/plain": [
       "[('당당히', 0.5191193222999573),\n",
       " ('해학', 0.47902533411979675),\n",
       " ('첫사랑', 0.4744148254394531),\n",
       " ('단연', 0.4740237891674042),\n",
       " ('ㅠㅠ', 0.4559360146522522),\n",
       " ('울림', 0.44840335845947266),\n",
       " ('여운', 0.4418393075466156),\n",
       " ('하이라이트', 0.4409647583961487),\n",
       " ('자칫', 0.4396534562110901),\n",
       " ('후편', 0.43106889724731445)]"
      ]
     },
     "execution_count": 101,
     "metadata": {},
     "output_type": "execute_result"
    }
   ],
   "source": [
    "fine_word_vectors.similar_by_word(\"대박\")"
   ]
  },
  {
   "cell_type": "markdown",
   "id": "lesser-medicare",
   "metadata": {},
   "source": [
    "### 같은 단어 연관성 비교"
   ]
  },
  {
   "cell_type": "markdown",
   "id": "sorted-minutes",
   "metadata": {},
   "source": [
    "- 아까 영화 리뷰와 맞지 않았던 단어를 다시 보자."
   ]
  },
  {
   "cell_type": "code",
   "execution_count": 124,
   "id": "beautiful-internship",
   "metadata": {},
   "outputs": [
    {
     "data": {
      "text/plain": [
       "[('재밋네', 0.9859057664871216),\n",
       " ('헌신', 0.9856736660003662),\n",
       " ('~~^^', 0.9854410886764526),\n",
       " ('주옥', 0.9842020869255066),\n",
       " ('유쾌하다', 0.9831419587135315),\n",
       " ('기다리고', 0.9827318787574768),\n",
       " ('슬퍼요', 0.9818447828292847),\n",
       " ('고마워요', 0.9815157651901245),\n",
       " ('귀여워요', 0.9814049005508423),\n",
       " ('찾게', 0.9810928106307983)]"
      ]
     },
     "execution_count": 124,
     "metadata": {},
     "output_type": "execute_result"
    }
   ],
   "source": [
    "word_vectors.similar_by_word(\"울림\")"
   ]
  },
  {
   "cell_type": "code",
   "execution_count": 125,
   "id": "difficult-backup",
   "metadata": {},
   "outputs": [
    {
     "data": {
      "text/plain": [
       "[('음색', 0.6680917739868164),\n",
       " ('리듬', 0.6386824250221252),\n",
       " ('선율', 0.6064305901527405),\n",
       " ('음빛깔', 0.6063597202301025),\n",
       " ('저음', 0.6059113144874573),\n",
       " ('창법', 0.575785756111145),\n",
       " ('트럼펫', 0.5727246999740601),\n",
       " ('목관', 0.5687721967697144),\n",
       " ('건반', 0.5667521953582764),\n",
       " ('질감', 0.5458199381828308)]"
      ]
     },
     "execution_count": 125,
     "metadata": {},
     "output_type": "execute_result"
    }
   ],
   "source": [
    "koword2vec.similar_by_word(\"울림\")"
   ]
  },
  {
   "cell_type": "markdown",
   "id": "coastal-comparative",
   "metadata": {},
   "source": [
    "- 영화 리뷰에 완전히 부합하지는 않지만 fine tuning 이전 보다는 확실히 리뷰 다워졌다."
   ]
  },
  {
   "cell_type": "code",
   "execution_count": 126,
   "id": "given-employment",
   "metadata": {},
   "outputs": [
    {
     "data": {
      "text/plain": [
       "[('선율', 0.613617479801178),\n",
       " ('해학', 0.5526250600814819),\n",
       " ('색감', 0.508919358253479),\n",
       " ('울음', 0.5070587992668152),\n",
       " ('배꼽', 0.4977574348449707),\n",
       " ('백미', 0.494942843914032),\n",
       " ('여운', 0.49392712116241455),\n",
       " ('후편', 0.4889737069606781),\n",
       " ('탱고', 0.4796716272830963),\n",
       " ('중후', 0.4782445728778839)]"
      ]
     },
     "execution_count": 126,
     "metadata": {},
     "output_type": "execute_result"
    }
   ],
   "source": [
    "fine_word_vectors.similar_by_word(\"울림\")"
   ]
  },
  {
   "cell_type": "code",
   "execution_count": 123,
   "id": "humanitarian-destiny",
   "metadata": {},
   "outputs": [
    {
     "data": {
      "text/plain": [
       "[('고갈', 0.5641037821769714),\n",
       " ('부담', 0.5425623655319214),\n",
       " ('비용', 0.4881782531738281),\n",
       " ('부실', 0.48487651348114014),\n",
       " ('모자라', 0.478725790977478),\n",
       " ('스트레스', 0.4689067006111145),\n",
       " ('문제', 0.459914892911911),\n",
       " ('여유', 0.45892950892448425),\n",
       " ('남발', 0.4565277099609375),\n",
       " ('과잉', 0.4528103470802307)]"
      ]
     },
     "execution_count": 123,
     "metadata": {},
     "output_type": "execute_result"
    }
   ],
   "source": [
    "fine_word_vectors.similar_by_word(\"낭비\")"
   ]
  },
  {
   "cell_type": "markdown",
   "id": "exotic-headline",
   "metadata": {},
   "source": [
    "- 아직 영화리뷰 분석에 최적화된 정도가 낮아서 적절하지 않은 단어들이 가깝게 나오기도 한다."
   ]
  },
  {
   "cell_type": "code",
   "execution_count": 129,
   "id": "casual-dover",
   "metadata": {
    "scrolled": false
   },
   "outputs": [
    {
     "name": "stdout",
     "output_type": "stream",
     "text": [
      "영화로만에서 재미와 가까운 단어 "
     ]
    },
    {
     "data": {
      "text/plain": [
       "[('작', 0.7298842668533325),\n",
       " ('지하철', 0.7180498838424683),\n",
       " ('나온', 0.7067513465881348),\n",
       " ('볼거', 0.7051318287849426),\n",
       " ('보입니다', 0.69635409116745)]"
      ]
     },
     "execution_count": 129,
     "metadata": {},
     "output_type": "execute_result"
    },
    {
     "name": "stdout",
     "output_type": "stream",
     "text": [
      "위키로만에서 재미와 가까운 단어 "
     ]
    },
    {
     "data": {
      "text/plain": [
       "[('취미', 0.5857348442077637),\n",
       " ('유머', 0.5140613913536072),\n",
       " ('매력', 0.5105490684509277),\n",
       " ('흥미', 0.4988338351249695),\n",
       " ('공짜', 0.4960595667362213)]"
      ]
     },
     "execution_count": 129,
     "metadata": {},
     "output_type": "execute_result"
    },
    {
     "name": "stdout",
     "output_type": "stream",
     "text": [
      "전이학습에서 재미와 가까운 단어 "
     ]
    },
    {
     "data": {
      "text/plain": [
       "[('취미', 0.5908895134925842),\n",
       " ('매력', 0.5209051966667175),\n",
       " ('흥미', 0.5053398609161377),\n",
       " ('유머', 0.5021570324897766),\n",
       " ('즐거움', 0.48166829347610474)]"
      ]
     },
     "execution_count": 129,
     "metadata": {},
     "output_type": "execute_result"
    },
    {
     "name": "stdout",
     "output_type": "stream",
     "text": [
      "영화로만에서 눈물와 가까운 단어 "
     ]
    },
    {
     "data": {
      "text/plain": [
       "[('멋짐', 0.9616162776947021),\n",
       " ('입니당', 0.958705723285675),\n",
       " ('김현주', 0.9517280459403992),\n",
       " ('싶어졌다', 0.9492244720458984),\n",
       " ('넘침', 0.94769287109375)]"
      ]
     },
     "execution_count": 129,
     "metadata": {},
     "output_type": "execute_result"
    },
    {
     "name": "stdout",
     "output_type": "stream",
     "text": [
      "위키로만에서 눈물와 가까운 단어 "
     ]
    },
    {
     "data": {
      "text/plain": [
       "[('땀', 0.6310575008392334),\n",
       " ('슬픔', 0.5787195563316345),\n",
       " ('이별', 0.5772002935409546),\n",
       " ('추억', 0.5725258588790894),\n",
       " ('한숨', 0.5546674728393555)]"
      ]
     },
     "execution_count": 129,
     "metadata": {},
     "output_type": "execute_result"
    },
    {
     "name": "stdout",
     "output_type": "stream",
     "text": [
      "전이학습에서 눈물와 가까운 단어 "
     ]
    },
    {
     "data": {
      "text/plain": [
       "[('땀', 0.6158510446548462),\n",
       " ('슬픔', 0.5869154334068298),\n",
       " ('추억', 0.5838078260421753),\n",
       " ('이별', 0.5773792266845703),\n",
       " ('슬프', 0.5604763627052307)]"
      ]
     },
     "execution_count": 129,
     "metadata": {},
     "output_type": "execute_result"
    },
    {
     "name": "stdout",
     "output_type": "stream",
     "text": [
      "영화로만에서 흥행와 가까운 단어 "
     ]
    },
    {
     "data": {
      "text/plain": [
       "[('됩니다', 0.8895398378372192),\n",
       " ('남아있는', 0.8495774865150452),\n",
       " ('빕니다', 0.8480660915374756),\n",
       " ('눈물난다', 0.8320838809013367),\n",
       " ('장편', 0.8262819647789001)]"
      ]
     },
     "execution_count": 129,
     "metadata": {},
     "output_type": "execute_result"
    },
    {
     "name": "stdout",
     "output_type": "stream",
     "text": [
      "위키로만에서 흥행와 가까운 단어 "
     ]
    },
    {
     "data": {
      "text/plain": [
       "[('대성공', 0.5648161172866821),\n",
       " ('매출', 0.548312246799469),\n",
       " ('시청률', 0.5455290079116821),\n",
       " ('영화계', 0.5239896774291992),\n",
       " ('상영', 0.5163764953613281)]"
      ]
     },
     "execution_count": 129,
     "metadata": {},
     "output_type": "execute_result"
    },
    {
     "name": "stdout",
     "output_type": "stream",
     "text": [
      "전이학습에서 흥행와 가까운 단어 "
     ]
    },
    {
     "data": {
      "text/plain": [
       "[('시청률', 0.5461490154266357),\n",
       " ('상영', 0.5104687213897705),\n",
       " ('영화계', 0.5058581233024597),\n",
       " ('성공', 0.4984830319881439),\n",
       " ('관객', 0.49257993698120117)]"
      ]
     },
     "execution_count": 129,
     "metadata": {},
     "output_type": "execute_result"
    },
    {
     "name": "stdout",
     "output_type": "stream",
     "text": [
      "영화로만에서 명작와 가까운 단어 "
     ]
    },
    {
     "data": {
      "text/plain": [
       "[('낮아서', 0.9773876667022705),\n",
       " ('굳', 0.9732784032821655),\n",
       " ('재밌는', 0.9732643961906433),\n",
       " ('보고싶네요', 0.972762942314148),\n",
       " ('고인', 0.9722486138343811)]"
      ]
     },
     "execution_count": 129,
     "metadata": {},
     "output_type": "execute_result"
    },
    {
     "name": "stdout",
     "output_type": "stream",
     "text": [
      "위키로만에서 명작와 가까운 단어 "
     ]
    },
    {
     "data": {
      "text/plain": [
       "[('걸작', 0.7933748364448547),\n",
       " ('작품', 0.7375749945640564),\n",
       " ('대작', 0.686141848564148),\n",
       " ('희극', 0.6746902465820312),\n",
       " ('희곡', 0.674653947353363)]"
      ]
     },
     "execution_count": 129,
     "metadata": {},
     "output_type": "execute_result"
    },
    {
     "name": "stdout",
     "output_type": "stream",
     "text": [
      "전이학습에서 명작와 가까운 단어 "
     ]
    },
    {
     "data": {
      "text/plain": [
       "[('걸작', 0.8030387163162231),\n",
       " ('대작', 0.7368746995925903),\n",
       " ('작품', 0.6799803972244263),\n",
       " ('희극', 0.6399794220924377),\n",
       " ('거장', 0.6029123663902283)]"
      ]
     },
     "execution_count": 129,
     "metadata": {},
     "output_type": "execute_result"
    },
    {
     "name": "stdout",
     "output_type": "stream",
     "text": [
      "영화로만에서 심각와 가까운 단어 "
     ]
    },
    {
     "data": {
      "text/plain": [
       "[('명화', 0.9575226306915283),\n",
       " ('상치', 0.9493702054023743),\n",
       " ('근래', 0.9452059864997864),\n",
       " ('잼있음', 0.9422772526741028),\n",
       " ('괜찮았음', 0.9371293783187866)]"
      ]
     },
     "execution_count": 129,
     "metadata": {},
     "output_type": "execute_result"
    },
    {
     "name": "stdout",
     "output_type": "stream",
     "text": [
      "위키로만에서 심각와 가까운 단어 "
     ]
    },
    {
     "data": {
      "text/plain": [
       "[('극심', 0.8198436498641968),\n",
       " ('격심', 0.6635507345199585),\n",
       " ('불안정', 0.6633630394935608),\n",
       " ('민감', 0.6586565971374512),\n",
       " ('빈번', 0.6537488698959351)]"
      ]
     },
     "execution_count": 129,
     "metadata": {},
     "output_type": "execute_result"
    },
    {
     "name": "stdout",
     "output_type": "stream",
     "text": [
      "전이학습에서 심각와 가까운 단어 "
     ]
    },
    {
     "data": {
      "text/plain": [
       "[('위험', 0.5840416550636292),\n",
       " ('불안', 0.5553780794143677),\n",
       " ('절실', 0.5464164614677429),\n",
       " ('강력', 0.5276475548744202),\n",
       " ('대단', 0.5125010013580322)]"
      ]
     },
     "execution_count": 129,
     "metadata": {},
     "output_type": "execute_result"
    },
    {
     "name": "stdout",
     "output_type": "stream",
     "text": [
      "영화로만에서 최악와 가까운 단어 "
     ]
    },
    {
     "data": {
      "text/plain": [
       "[('없구', 0.984233558177948),\n",
       " ('오글거려', 0.9809844493865967),\n",
       " ('이상해서', 0.9808022975921631),\n",
       " ('노잼', 0.980696439743042),\n",
       " ('졸았다', 0.9805079698562622)]"
      ]
     },
     "execution_count": 129,
     "metadata": {},
     "output_type": "execute_result"
    },
    {
     "name": "stdout",
     "output_type": "stream",
     "text": [
      "위키로만에서 최악와 가까운 단어 "
     ]
    },
    {
     "data": {
      "text/plain": [
       "[('초유', 0.546215832233429),\n",
       " ('최대', 0.4657382071018219),\n",
       " ('대공황', 0.4530748426914215),\n",
       " ('최고', 0.4529539942741394),\n",
       " ('최장', 0.4382264018058777)]"
      ]
     },
     "execution_count": 129,
     "metadata": {},
     "output_type": "execute_result"
    },
    {
     "name": "stdout",
     "output_type": "stream",
     "text": [
      "전이학습에서 최악와 가까운 단어 "
     ]
    },
    {
     "data": {
      "text/plain": [
       "[('최대', 0.45113712549209595),\n",
       " ('최고', 0.4243558347225189),\n",
       " ('긴박', 0.3956333100795746),\n",
       " ('추락', 0.393665075302124),\n",
       " ('하락', 0.38641592860221863)]"
      ]
     },
     "execution_count": 129,
     "metadata": {},
     "output_type": "execute_result"
    },
    {
     "name": "stdout",
     "output_type": "stream",
     "text": [
      "영화로만에서 시간와 가까운 단어 "
     ]
    },
    {
     "data": {
      "text/plain": [
       "[('지경', 0.8957328796386719),\n",
       " ('줄수', 0.8847212195396423),\n",
       " ('아깝다', 0.8775444030761719),\n",
       " ('끝남', 0.8746466040611267),\n",
       " ('모르겟고', 0.8739814162254333)]"
      ]
     },
     "execution_count": 129,
     "metadata": {},
     "output_type": "execute_result"
    },
    {
     "name": "stdout",
     "output_type": "stream",
     "text": [
      "위키로만에서 시간와 가까운 단어 "
     ]
    },
    {
     "data": {
      "text/plain": [
       "[('분간', 0.599348783493042),\n",
       " ('간격', 0.5879659652709961),\n",
       " ('일주일', 0.5773798227310181),\n",
       " ('장시간', 0.5595555305480957),\n",
       " ('기간', 0.5561516880989075)]"
      ]
     },
     "execution_count": 129,
     "metadata": {},
     "output_type": "execute_result"
    },
    {
     "name": "stdout",
     "output_type": "stream",
     "text": [
      "전이학습에서 시간와 가까운 단어 "
     ]
    },
    {
     "data": {
      "text/plain": [
       "[('일주일', 0.5631872415542603),\n",
       " ('기간', 0.554441511631012),\n",
       " ('며칠', 0.5455434918403625),\n",
       " ('시간대', 0.5396287441253662),\n",
       " ('속도', 0.5079134702682495)]"
      ]
     },
     "execution_count": 129,
     "metadata": {},
     "output_type": "execute_result"
    },
    {
     "name": "stdout",
     "output_type": "stream",
     "text": [
      "영화로만에서 울림와 가까운 단어 "
     ]
    },
    {
     "data": {
      "text/plain": [
       "[('재밋네', 0.9859057664871216),\n",
       " ('헌신', 0.9856736660003662),\n",
       " ('~~^^', 0.9854410886764526),\n",
       " ('주옥', 0.9842020869255066),\n",
       " ('유쾌하다', 0.9831419587135315)]"
      ]
     },
     "execution_count": 129,
     "metadata": {},
     "output_type": "execute_result"
    },
    {
     "name": "stdout",
     "output_type": "stream",
     "text": [
      "위키로만에서 울림와 가까운 단어 "
     ]
    },
    {
     "data": {
      "text/plain": [
       "[('음색', 0.6680917739868164),\n",
       " ('리듬', 0.6386824250221252),\n",
       " ('선율', 0.6064305901527405),\n",
       " ('음빛깔', 0.6063597202301025),\n",
       " ('저음', 0.6059113144874573)]"
      ]
     },
     "execution_count": 129,
     "metadata": {},
     "output_type": "execute_result"
    },
    {
     "name": "stdout",
     "output_type": "stream",
     "text": [
      "전이학습에서 울림와 가까운 단어 "
     ]
    },
    {
     "data": {
      "text/plain": [
       "[('선율', 0.613617479801178),\n",
       " ('해학', 0.5526250600814819),\n",
       " ('색감', 0.508919358253479),\n",
       " ('울음', 0.5070587992668152),\n",
       " ('배꼽', 0.4977574348449707)]"
      ]
     },
     "execution_count": 129,
     "metadata": {},
     "output_type": "execute_result"
    }
   ],
   "source": [
    "vecs = [(word_vectors,'영화로만'), (koword2vec,'위키로만'), (fine_word_vectors, '전이학습')]\n",
    "test_words = ['재미','눈물','흥행','명작','심각', '최악','시간','울림']\n",
    "for word in test_words:\n",
    "    for wv, name in vecs:\n",
    "        print(f'{name}에서 {word}와 가까운 단어',end=' ')\n",
    "        wv.similar_by_word(word)[:5]"
   ]
  },
  {
   "cell_type": "markdown",
   "id": "false-alabama",
   "metadata": {},
   "source": [
    "# 회고"
   ]
  },
  {
   "cell_type": "markdown",
   "id": "uniform-tracker",
   "metadata": {},
   "source": [
    " - 시간이 부족해서 다양한 모델 변경이나 하이퍼 파라미터 변경을 진행하지 못한 것 같아 아쉽다.\n",
    " - 전처리를 다양한 방식으로 시도해보고 그에 따른 실험 결과를 보고 싶다.\n",
    " - 효과적인 전이학습을 위한 다른 방식이 있는지 알아봐야겠다."
   ]
  }
 ],
 "metadata": {
  "kernelspec": {
   "display_name": "Python 3",
   "language": "python",
   "name": "python3"
  },
  "language_info": {
   "codemirror_mode": {
    "name": "ipython",
    "version": 3
   },
   "file_extension": ".py",
   "mimetype": "text/x-python",
   "name": "python",
   "nbconvert_exporter": "python",
   "pygments_lexer": "ipython3",
   "version": "3.7.9"
  }
 },
 "nbformat": 4,
 "nbformat_minor": 5
}
