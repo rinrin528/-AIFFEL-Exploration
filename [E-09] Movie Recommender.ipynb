{
 "cells": [
  {
   "cell_type": "markdown",
   "id": "unusual-premium",
   "metadata": {},
   "source": [
    "# step1) 데이터 준비 및 전처리"
   ]
  },
  {
   "cell_type": "code",
   "execution_count": 1,
   "id": "sexual-relations",
   "metadata": {},
   "outputs": [
    {
     "name": "stdout",
     "output_type": "stream",
     "text": [
      "Requirement already satisfied: implicit in /opt/conda/lib/python3.7/site-packages (0.4.4)\n",
      "Requirement already satisfied: tqdm>=4.27 in /opt/conda/lib/python3.7/site-packages (from implicit) (4.56.0)\n",
      "Requirement already satisfied: scipy>=0.16 in /opt/conda/lib/python3.7/site-packages (from implicit) (1.4.1)\n",
      "Requirement already satisfied: numpy in /opt/conda/lib/python3.7/site-packages (from implicit) (1.19.5)\n",
      "\u001b[33mWARNING: Running pip as the 'root' user can result in broken permissions and conflicting behaviour with the system package manager. It is recommended to use a virtual environment instead: https://pip.pypa.io/warnings/venv\u001b[0m\n"
     ]
    }
   ],
   "source": [
    "!pip install implicit"
   ]
  },
  {
   "cell_type": "code",
   "execution_count": 2,
   "id": "protecting-duration",
   "metadata": {},
   "outputs": [
    {
     "name": "stdout",
     "output_type": "stream",
     "text": [
      "implicit                      0.4.4\r\n"
     ]
    }
   ],
   "source": [
    "!pip list | grep implicit"
   ]
  },
  {
   "cell_type": "code",
   "execution_count": 3,
   "id": "distinct-barcelona",
   "metadata": {},
   "outputs": [],
   "source": [
    "import os\n",
    "import pandas as pd\n",
    "import numpy as np\n",
    "\n",
    "from IPython.core.interactiveshell import InteractiveShell\n",
    "InteractiveShell.ast_node_interactivity = \"all\"\n",
    "\n",
    "import matplotlib.pyplot as plt\n",
    "import seaborn as sns\n",
    "%matplotlib inline\n",
    "\n",
    "from scipy.sparse import csr_matrix\n",
    "from implicit.als import AlternatingLeastSquares"
   ]
  },
  {
   "cell_type": "markdown",
   "id": "bottom-appointment",
   "metadata": {},
   "source": [
    "## 1-1. 데이터셋 구성\n",
    "- `user_id` : 사용자 아이디\n",
    "- `move_id` : 영화 아이디\n",
    "- `rating` : 별점\n",
    "- `timestap` : 별점 준 시간 "
   ]
  },
  {
   "cell_type": "code",
   "execution_count": 4,
   "id": "antique-sphere",
   "metadata": {},
   "outputs": [
    {
     "data": {
      "text/html": [
       "<div>\n",
       "<style scoped>\n",
       "    .dataframe tbody tr th:only-of-type {\n",
       "        vertical-align: middle;\n",
       "    }\n",
       "\n",
       "    .dataframe tbody tr th {\n",
       "        vertical-align: top;\n",
       "    }\n",
       "\n",
       "    .dataframe thead th {\n",
       "        text-align: right;\n",
       "    }\n",
       "</style>\n",
       "<table border=\"1\" class=\"dataframe\">\n",
       "  <thead>\n",
       "    <tr style=\"text-align: right;\">\n",
       "      <th></th>\n",
       "      <th>user_id</th>\n",
       "      <th>movie_id</th>\n",
       "      <th>rating</th>\n",
       "      <th>timestamp</th>\n",
       "    </tr>\n",
       "  </thead>\n",
       "  <tbody>\n",
       "    <tr>\n",
       "      <th>0</th>\n",
       "      <td>1</td>\n",
       "      <td>1193</td>\n",
       "      <td>5</td>\n",
       "      <td>978300760</td>\n",
       "    </tr>\n",
       "    <tr>\n",
       "      <th>1</th>\n",
       "      <td>1</td>\n",
       "      <td>661</td>\n",
       "      <td>3</td>\n",
       "      <td>978302109</td>\n",
       "    </tr>\n",
       "    <tr>\n",
       "      <th>2</th>\n",
       "      <td>1</td>\n",
       "      <td>914</td>\n",
       "      <td>3</td>\n",
       "      <td>978301968</td>\n",
       "    </tr>\n",
       "    <tr>\n",
       "      <th>3</th>\n",
       "      <td>1</td>\n",
       "      <td>3408</td>\n",
       "      <td>4</td>\n",
       "      <td>978300275</td>\n",
       "    </tr>\n",
       "    <tr>\n",
       "      <th>4</th>\n",
       "      <td>1</td>\n",
       "      <td>2355</td>\n",
       "      <td>5</td>\n",
       "      <td>978824291</td>\n",
       "    </tr>\n",
       "  </tbody>\n",
       "</table>\n",
       "</div>"
      ],
      "text/plain": [
       "   user_id  movie_id  rating  timestamp\n",
       "0        1      1193       5  978300760\n",
       "1        1       661       3  978302109\n",
       "2        1       914       3  978301968\n",
       "3        1      3408       4  978300275\n",
       "4        1      2355       5  978824291"
      ]
     },
     "execution_count": 4,
     "metadata": {},
     "output_type": "execute_result"
    }
   ],
   "source": [
    "rating_file_path=os.getenv('HOME') + '/aiffel/enode9/recommendata_iu/data/ml-1m/ratings.dat'\n",
    "ratings_cols = ['user_id', 'movie_id', 'rating', 'timestamp']\n",
    "ratings = pd.read_csv(rating_file_path, sep='::', names=ratings_cols, engine='python', encoding = \"ISO-8859-1\")\n",
    "orginal_data_size = len(ratings)\n",
    "ratings.head()"
   ]
  },
  {
   "cell_type": "markdown",
   "id": "modern-communist",
   "metadata": {},
   "source": [
    "## 1-2. 별점을 재생횟수로\n",
    "- 3점 미만은 선호하지 않는 것으로 보고 삭제\n",
    "- 3점 이상인 경우 별점을 재생횟수로 생각하고 컬럼 이름 변경"
   ]
  },
  {
   "cell_type": "code",
   "execution_count": 5,
   "id": "defensive-favorite",
   "metadata": {},
   "outputs": [
    {
     "name": "stdout",
     "output_type": "stream",
     "text": [
      "orginal_data_size: 1000209, filtered_data_size: 836478\n",
      "Ratio of Remaining Data is 83.63%\n"
     ]
    }
   ],
   "source": [
    "# 3점 이상만 남깁니다.\n",
    "ratings = ratings[ratings['rating']>=3]\n",
    "filtered_data_size = len(ratings)\n",
    "\n",
    "print(f'orginal_data_size: {orginal_data_size}, filtered_data_size: {filtered_data_size}')\n",
    "print(f'Ratio of Remaining Data is {filtered_data_size / orginal_data_size:.2%}')"
   ]
  },
  {
   "cell_type": "code",
   "execution_count": 6,
   "id": "higher-bundle",
   "metadata": {},
   "outputs": [],
   "source": [
    "# rating 컬럼의 이름을 count로 바꿉니다.\n",
    "ratings.rename(columns={'rating':'count'}, inplace=True)"
   ]
  },
  {
   "cell_type": "code",
   "execution_count": 7,
   "id": "accomplished-reliance",
   "metadata": {},
   "outputs": [
    {
     "data": {
      "text/plain": [
       "0          5\n",
       "1          3\n",
       "2          3\n",
       "3          4\n",
       "4          5\n",
       "          ..\n",
       "1000203    3\n",
       "1000205    5\n",
       "1000206    5\n",
       "1000207    4\n",
       "1000208    4\n",
       "Name: count, Length: 836478, dtype: int64"
      ]
     },
     "execution_count": 7,
     "metadata": {},
     "output_type": "execute_result"
    }
   ],
   "source": [
    "ratings['count']"
   ]
  },
  {
   "cell_type": "markdown",
   "id": "ethical-maple",
   "metadata": {},
   "source": [
    "## 1-3. 영화 제목 메타 데이터"
   ]
  },
  {
   "cell_type": "code",
   "execution_count": 8,
   "id": "statistical-klein",
   "metadata": {},
   "outputs": [
    {
     "data": {
      "text/html": [
       "<div>\n",
       "<style scoped>\n",
       "    .dataframe tbody tr th:only-of-type {\n",
       "        vertical-align: middle;\n",
       "    }\n",
       "\n",
       "    .dataframe tbody tr th {\n",
       "        vertical-align: top;\n",
       "    }\n",
       "\n",
       "    .dataframe thead th {\n",
       "        text-align: right;\n",
       "    }\n",
       "</style>\n",
       "<table border=\"1\" class=\"dataframe\">\n",
       "  <thead>\n",
       "    <tr style=\"text-align: right;\">\n",
       "      <th></th>\n",
       "      <th>movie_id</th>\n",
       "      <th>title</th>\n",
       "      <th>genre</th>\n",
       "    </tr>\n",
       "  </thead>\n",
       "  <tbody>\n",
       "    <tr>\n",
       "      <th>0</th>\n",
       "      <td>1</td>\n",
       "      <td>Toy Story (1995)</td>\n",
       "      <td>Animation|Children's|Comedy</td>\n",
       "    </tr>\n",
       "    <tr>\n",
       "      <th>1</th>\n",
       "      <td>2</td>\n",
       "      <td>Jumanji (1995)</td>\n",
       "      <td>Adventure|Children's|Fantasy</td>\n",
       "    </tr>\n",
       "    <tr>\n",
       "      <th>2</th>\n",
       "      <td>3</td>\n",
       "      <td>Grumpier Old Men (1995)</td>\n",
       "      <td>Comedy|Romance</td>\n",
       "    </tr>\n",
       "    <tr>\n",
       "      <th>3</th>\n",
       "      <td>4</td>\n",
       "      <td>Waiting to Exhale (1995)</td>\n",
       "      <td>Comedy|Drama</td>\n",
       "    </tr>\n",
       "    <tr>\n",
       "      <th>4</th>\n",
       "      <td>5</td>\n",
       "      <td>Father of the Bride Part II (1995)</td>\n",
       "      <td>Comedy</td>\n",
       "    </tr>\n",
       "    <tr>\n",
       "      <th>...</th>\n",
       "      <td>...</td>\n",
       "      <td>...</td>\n",
       "      <td>...</td>\n",
       "    </tr>\n",
       "    <tr>\n",
       "      <th>3878</th>\n",
       "      <td>3948</td>\n",
       "      <td>Meet the Parents (2000)</td>\n",
       "      <td>Comedy</td>\n",
       "    </tr>\n",
       "    <tr>\n",
       "      <th>3879</th>\n",
       "      <td>3949</td>\n",
       "      <td>Requiem for a Dream (2000)</td>\n",
       "      <td>Drama</td>\n",
       "    </tr>\n",
       "    <tr>\n",
       "      <th>3880</th>\n",
       "      <td>3950</td>\n",
       "      <td>Tigerland (2000)</td>\n",
       "      <td>Drama</td>\n",
       "    </tr>\n",
       "    <tr>\n",
       "      <th>3881</th>\n",
       "      <td>3951</td>\n",
       "      <td>Two Family House (2000)</td>\n",
       "      <td>Drama</td>\n",
       "    </tr>\n",
       "    <tr>\n",
       "      <th>3882</th>\n",
       "      <td>3952</td>\n",
       "      <td>Contender, The (2000)</td>\n",
       "      <td>Drama|Thriller</td>\n",
       "    </tr>\n",
       "  </tbody>\n",
       "</table>\n",
       "<p>3883 rows × 3 columns</p>\n",
       "</div>"
      ],
      "text/plain": [
       "      movie_id                               title  \\\n",
       "0            1                    Toy Story (1995)   \n",
       "1            2                      Jumanji (1995)   \n",
       "2            3             Grumpier Old Men (1995)   \n",
       "3            4            Waiting to Exhale (1995)   \n",
       "4            5  Father of the Bride Part II (1995)   \n",
       "...        ...                                 ...   \n",
       "3878      3948             Meet the Parents (2000)   \n",
       "3879      3949          Requiem for a Dream (2000)   \n",
       "3880      3950                    Tigerland (2000)   \n",
       "3881      3951             Two Family House (2000)   \n",
       "3882      3952               Contender, The (2000)   \n",
       "\n",
       "                             genre  \n",
       "0      Animation|Children's|Comedy  \n",
       "1     Adventure|Children's|Fantasy  \n",
       "2                   Comedy|Romance  \n",
       "3                     Comedy|Drama  \n",
       "4                           Comedy  \n",
       "...                            ...  \n",
       "3878                        Comedy  \n",
       "3879                         Drama  \n",
       "3880                         Drama  \n",
       "3881                         Drama  \n",
       "3882                Drama|Thriller  \n",
       "\n",
       "[3883 rows x 3 columns]"
      ]
     },
     "execution_count": 8,
     "metadata": {},
     "output_type": "execute_result"
    }
   ],
   "source": [
    "# 영화 제목을 보기 위해 메타 데이터를 읽어옵니다.\n",
    "movie_file_path=os.getenv('HOME') + '/aiffel/enode9/recommendata_iu/data/ml-1m/movies.dat'\n",
    "cols = ['movie_id', 'title', 'genre'] \n",
    "movies = pd.read_csv(movie_file_path, sep='::', names=cols, engine='python', encoding='ISO-8859-1')\n",
    "movies"
   ]
  },
  {
   "cell_type": "markdown",
   "id": "minimal-candle",
   "metadata": {},
   "source": [
    "- 추후 분석의 용이함을 위해 개봉년도를 파생 변수로 추출하자.\n",
    "- 검색을 쉽게 하기 위해 제목을 다 소문자로 바꾸고 좌우 공백을 제거했다."
   ]
  },
  {
   "cell_type": "code",
   "execution_count": 9,
   "id": "limiting-failing",
   "metadata": {},
   "outputs": [
    {
     "data": {
      "text/html": [
       "<div>\n",
       "<style scoped>\n",
       "    .dataframe tbody tr th:only-of-type {\n",
       "        vertical-align: middle;\n",
       "    }\n",
       "\n",
       "    .dataframe tbody tr th {\n",
       "        vertical-align: top;\n",
       "    }\n",
       "\n",
       "    .dataframe thead th {\n",
       "        text-align: right;\n",
       "    }\n",
       "</style>\n",
       "<table border=\"1\" class=\"dataframe\">\n",
       "  <thead>\n",
       "    <tr style=\"text-align: right;\">\n",
       "      <th></th>\n",
       "      <th>movie_id</th>\n",
       "      <th>title</th>\n",
       "      <th>genre</th>\n",
       "      <th>release</th>\n",
       "    </tr>\n",
       "  </thead>\n",
       "  <tbody>\n",
       "    <tr>\n",
       "      <th>0</th>\n",
       "      <td>1</td>\n",
       "      <td>toy story</td>\n",
       "      <td>Animation|Children's|Comedy</td>\n",
       "      <td>1995</td>\n",
       "    </tr>\n",
       "    <tr>\n",
       "      <th>1</th>\n",
       "      <td>2</td>\n",
       "      <td>jumanji</td>\n",
       "      <td>Adventure|Children's|Fantasy</td>\n",
       "      <td>1995</td>\n",
       "    </tr>\n",
       "    <tr>\n",
       "      <th>2</th>\n",
       "      <td>3</td>\n",
       "      <td>grumpier old men</td>\n",
       "      <td>Comedy|Romance</td>\n",
       "      <td>1995</td>\n",
       "    </tr>\n",
       "    <tr>\n",
       "      <th>3</th>\n",
       "      <td>4</td>\n",
       "      <td>waiting to exhale</td>\n",
       "      <td>Comedy|Drama</td>\n",
       "      <td>1995</td>\n",
       "    </tr>\n",
       "    <tr>\n",
       "      <th>4</th>\n",
       "      <td>5</td>\n",
       "      <td>father of the bride part ii</td>\n",
       "      <td>Comedy</td>\n",
       "      <td>1995</td>\n",
       "    </tr>\n",
       "    <tr>\n",
       "      <th>...</th>\n",
       "      <td>...</td>\n",
       "      <td>...</td>\n",
       "      <td>...</td>\n",
       "      <td>...</td>\n",
       "    </tr>\n",
       "    <tr>\n",
       "      <th>3878</th>\n",
       "      <td>3948</td>\n",
       "      <td>meet the parents</td>\n",
       "      <td>Comedy</td>\n",
       "      <td>2000</td>\n",
       "    </tr>\n",
       "    <tr>\n",
       "      <th>3879</th>\n",
       "      <td>3949</td>\n",
       "      <td>requiem for a dream</td>\n",
       "      <td>Drama</td>\n",
       "      <td>2000</td>\n",
       "    </tr>\n",
       "    <tr>\n",
       "      <th>3880</th>\n",
       "      <td>3950</td>\n",
       "      <td>tigerland</td>\n",
       "      <td>Drama</td>\n",
       "      <td>2000</td>\n",
       "    </tr>\n",
       "    <tr>\n",
       "      <th>3881</th>\n",
       "      <td>3951</td>\n",
       "      <td>two family house</td>\n",
       "      <td>Drama</td>\n",
       "      <td>2000</td>\n",
       "    </tr>\n",
       "    <tr>\n",
       "      <th>3882</th>\n",
       "      <td>3952</td>\n",
       "      <td>contender, the</td>\n",
       "      <td>Drama|Thriller</td>\n",
       "      <td>2000</td>\n",
       "    </tr>\n",
       "  </tbody>\n",
       "</table>\n",
       "<p>3883 rows × 4 columns</p>\n",
       "</div>"
      ],
      "text/plain": [
       "      movie_id                        title                         genre  \\\n",
       "0            1                    toy story   Animation|Children's|Comedy   \n",
       "1            2                      jumanji  Adventure|Children's|Fantasy   \n",
       "2            3             grumpier old men                Comedy|Romance   \n",
       "3            4            waiting to exhale                  Comedy|Drama   \n",
       "4            5  father of the bride part ii                        Comedy   \n",
       "...        ...                          ...                           ...   \n",
       "3878      3948             meet the parents                        Comedy   \n",
       "3879      3949          requiem for a dream                         Drama   \n",
       "3880      3950                    tigerland                         Drama   \n",
       "3881      3951             two family house                         Drama   \n",
       "3882      3952               contender, the                Drama|Thriller   \n",
       "\n",
       "      release  \n",
       "0        1995  \n",
       "1        1995  \n",
       "2        1995  \n",
       "3        1995  \n",
       "4        1995  \n",
       "...       ...  \n",
       "3878     2000  \n",
       "3879     2000  \n",
       "3880     2000  \n",
       "3881     2000  \n",
       "3882     2000  \n",
       "\n",
       "[3883 rows x 4 columns]"
      ]
     },
     "execution_count": 9,
     "metadata": {},
     "output_type": "execute_result"
    }
   ],
   "source": [
    "movies['release'] = movies['title'].str[-5:-1].astype(int)\n",
    "movies['title'] = movies['title'].str[:-6].str.lower().str.strip()\n",
    "movies"
   ]
  },
  {
   "cell_type": "markdown",
   "id": "imposed-colombia",
   "metadata": {},
   "source": [
    "# step2) 데이터 분석"
   ]
  },
  {
   "cell_type": "markdown",
   "id": "floppy-whole",
   "metadata": {},
   "source": [
    "## 2-1. Unique 값 분석"
   ]
  },
  {
   "cell_type": "markdown",
   "id": "laden-reception",
   "metadata": {},
   "source": [
    "- rating에 있는 유니크한 사용자 수"
   ]
  },
  {
   "cell_type": "code",
   "execution_count": 10,
   "id": "cardiovascular-brown",
   "metadata": {},
   "outputs": [
    {
     "data": {
      "text/plain": [
       "6039"
      ]
     },
     "execution_count": 10,
     "metadata": {},
     "output_type": "execute_result"
    }
   ],
   "source": [
    "ratings['user_id'].nunique()"
   ]
  },
  {
   "cell_type": "markdown",
   "id": "beginning-mexico",
   "metadata": {},
   "source": [
    "- ratings에 있는 유니크한 영화 개수"
   ]
  },
  {
   "cell_type": "code",
   "execution_count": 11,
   "id": "hourly-boundary",
   "metadata": {},
   "outputs": [
    {
     "data": {
      "text/plain": [
       "3628"
      ]
     },
     "execution_count": 11,
     "metadata": {},
     "output_type": "execute_result"
    }
   ],
   "source": [
    "ratings['movie_id'].nunique()"
   ]
  },
  {
   "cell_type": "markdown",
   "id": "defined-george",
   "metadata": {},
   "source": [
    "## 2-2. 사용자별 분석"
   ]
  },
  {
   "cell_type": "markdown",
   "id": "pursuant-pound",
   "metadata": {},
   "source": [
    "- 사용자별 좋아한 영화 편수 통계"
   ]
  },
  {
   "cell_type": "code",
   "execution_count": 12,
   "id": "desirable-company",
   "metadata": {},
   "outputs": [
    {
     "data": {
      "text/plain": [
       "count    6039.000000\n",
       "mean      138.512668\n",
       "std       156.241599\n",
       "min         1.000000\n",
       "25%        38.000000\n",
       "50%        81.000000\n",
       "75%       177.000000\n",
       "max      1968.000000\n",
       "Name: movie_id, dtype: float64"
      ]
     },
     "execution_count": 12,
     "metadata": {},
     "output_type": "execute_result"
    }
   ],
   "source": [
    "ratings.groupby('user_id')['movie_id'].count().describe()"
   ]
  },
  {
   "cell_type": "markdown",
   "id": "medical-diversity",
   "metadata": {},
   "source": [
    "- 1인당 시청한 가장 많은 영화 편수는 1968개였다.\n",
    "- 물리적으로 가능한 수치인가..?"
   ]
  },
  {
   "cell_type": "markdown",
   "id": "federal-travel",
   "metadata": {},
   "source": [
    "- 가장 인기 있는 영화 30개 (인기순)"
   ]
  },
  {
   "cell_type": "code",
   "execution_count": 13,
   "id": "obvious-spice",
   "metadata": {},
   "outputs": [],
   "source": [
    "famous_movie = ratings.groupby('movie_id')['user_id'].count().sort_values(ascending=False).head(30)"
   ]
  },
  {
   "cell_type": "code",
   "execution_count": 14,
   "id": "formal-bernard",
   "metadata": {
    "scrolled": false
   },
   "outputs": [
    {
     "data": {
      "text/plain": [
       "['toy story',\n",
       " 'braveheart',\n",
       " 'star wars: episode iv - a new hope',\n",
       " 'pulp fiction',\n",
       " 'shawshank redemption, the',\n",
       " 'forrest gump',\n",
       " 'fugitive, the',\n",
       " 'jurassic park',\n",
       " \"schindler's list\",\n",
       " 'terminator 2: judgment day',\n",
       " 'silence of the lambs, the',\n",
       " 'fargo',\n",
       " 'godfather, the',\n",
       " 'e.t. the extra-terrestrial',\n",
       " 'star wars: episode v - the empire strikes back',\n",
       " 'princess bride, the',\n",
       " 'raiders of the lost ark',\n",
       " 'star wars: episode vi - return of the jedi',\n",
       " 'terminator, the',\n",
       " 'groundhog day',\n",
       " 'back to the future',\n",
       " 'men in black',\n",
       " 'l.a. confidential',\n",
       " 'saving private ryan',\n",
       " 'shakespeare in love',\n",
       " 'matrix, the',\n",
       " 'ghostbusters',\n",
       " 'sixth sense, the',\n",
       " 'american beauty',\n",
       " 'being john malkovich']"
      ]
     },
     "execution_count": 14,
     "metadata": {},
     "output_type": "execute_result"
    }
   ],
   "source": [
    "[movie for movie, id in zip(movies['title'], movies['movie_id']) if id in famous_movie]"
   ]
  },
  {
   "cell_type": "code",
   "execution_count": 15,
   "id": "adequate-perry",
   "metadata": {},
   "outputs": [
    {
     "data": {
      "text/plain": [
       "<AxesSubplot:xlabel='count', ylabel='count'>"
      ]
     },
     "execution_count": 15,
     "metadata": {},
     "output_type": "execute_result"
    },
    {
     "data": {
      "image/png": "[encoded data removed]",
      "text/plain": [
       "<Figure size 432x288 with 1 Axes>"
      ]
     },
     "metadata": {
      "needs_background": "light"
     },
     "output_type": "display_data"
    }
   ],
   "source": [
    "sns.countplot(x='count', data = ratings, palette=sns.color_palette(\"Set3\"))\n",
    "plt.show()"
   ]
  },
  {
   "cell_type": "code",
   "execution_count": 16,
   "id": "computational-court",
   "metadata": {},
   "outputs": [
    {
     "data": {
      "text/html": [
       "<div>\n",
       "<style scoped>\n",
       "    .dataframe tbody tr th:only-of-type {\n",
       "        vertical-align: middle;\n",
       "    }\n",
       "\n",
       "    .dataframe tbody tr th {\n",
       "        vertical-align: top;\n",
       "    }\n",
       "\n",
       "    .dataframe thead th {\n",
       "        text-align: right;\n",
       "    }\n",
       "</style>\n",
       "<table border=\"1\" class=\"dataframe\">\n",
       "  <thead>\n",
       "    <tr style=\"text-align: right;\">\n",
       "      <th></th>\n",
       "      <th>user_id</th>\n",
       "      <th>movie_id</th>\n",
       "      <th>count</th>\n",
       "      <th>timestamp</th>\n",
       "    </tr>\n",
       "  </thead>\n",
       "  <tbody>\n",
       "    <tr>\n",
       "      <th>0</th>\n",
       "      <td>1</td>\n",
       "      <td>1193</td>\n",
       "      <td>5</td>\n",
       "      <td>978300760</td>\n",
       "    </tr>\n",
       "    <tr>\n",
       "      <th>1</th>\n",
       "      <td>1</td>\n",
       "      <td>661</td>\n",
       "      <td>3</td>\n",
       "      <td>978302109</td>\n",
       "    </tr>\n",
       "    <tr>\n",
       "      <th>2</th>\n",
       "      <td>1</td>\n",
       "      <td>914</td>\n",
       "      <td>3</td>\n",
       "      <td>978301968</td>\n",
       "    </tr>\n",
       "    <tr>\n",
       "      <th>3</th>\n",
       "      <td>1</td>\n",
       "      <td>3408</td>\n",
       "      <td>4</td>\n",
       "      <td>978300275</td>\n",
       "    </tr>\n",
       "  </tbody>\n",
       "</table>\n",
       "</div>"
      ],
      "text/plain": [
       "   user_id  movie_id  count  timestamp\n",
       "0        1      1193      5  978300760\n",
       "1        1       661      3  978302109\n",
       "2        1       914      3  978301968\n",
       "3        1      3408      4  978300275"
      ]
     },
     "execution_count": 16,
     "metadata": {},
     "output_type": "execute_result"
    }
   ],
   "source": [
    "ratings.head(4)"
   ]
  },
  {
   "cell_type": "markdown",
   "id": "artificial-basement",
   "metadata": {},
   "source": [
    "## 2-3. 모델 검증을 위해 선호하는 영화 5가지 rating에 추가\n",
    "- 다 2000년 이전 영화여서 고르기가 쉽지 않은 듯 하다"
   ]
  },
  {
   "cell_type": "code",
   "execution_count": 17,
   "id": "growing-arbitration",
   "metadata": {},
   "outputs": [
    {
     "data": {
      "text/html": [
       "<div>\n",
       "<style scoped>\n",
       "    .dataframe tbody tr th:only-of-type {\n",
       "        vertical-align: middle;\n",
       "    }\n",
       "\n",
       "    .dataframe tbody tr th {\n",
       "        vertical-align: top;\n",
       "    }\n",
       "\n",
       "    .dataframe thead th {\n",
       "        text-align: right;\n",
       "    }\n",
       "</style>\n",
       "<table border=\"1\" class=\"dataframe\">\n",
       "  <thead>\n",
       "    <tr style=\"text-align: right;\">\n",
       "      <th></th>\n",
       "      <th>movie_id</th>\n",
       "      <th>title</th>\n",
       "      <th>genre</th>\n",
       "      <th>release</th>\n",
       "    </tr>\n",
       "  </thead>\n",
       "  <tbody>\n",
       "  </tbody>\n",
       "</table>\n",
       "</div>"
      ],
      "text/plain": [
       "Empty DataFrame\n",
       "Columns: [movie_id, title, genre, release]\n",
       "Index: []"
      ]
     },
     "execution_count": 17,
     "metadata": {},
     "output_type": "execute_result"
    }
   ],
   "source": [
    "movies[movies['release']>2000]"
   ]
  },
  {
   "cell_type": "code",
   "execution_count": 18,
   "id": "committed-spoke",
   "metadata": {},
   "outputs": [
    {
     "data": {
      "text/plain": [
       "[1, 364, 588, 1270, 3799]"
      ]
     },
     "execution_count": 18,
     "metadata": {},
     "output_type": "execute_result"
    }
   ],
   "source": [
    "my_favorite = ['toy story', 'lion king, the', 'pokémon the movie 2000', 'back to the future', 'aladdin' ]\n",
    "my_favorite_id = [idx for title, idx in zip(movies.title, movies.movie_id) if title in my_favorite]\n",
    "my_favorite_id"
   ]
  },
  {
   "cell_type": "code",
   "execution_count": 19,
   "id": "iraqi-doubt",
   "metadata": {},
   "outputs": [],
   "source": [
    "my_watchedlist = pd.DataFrame({'user_id':[200528]*5, 'movie_id':my_favorite_id ,'count':[4]*5})\n",
    "if not ratings.isin({'user_id':[200528]})['user_id'].any():\n",
    "    ratings = ratings.append(my_watchedlist, ignore_index=True)"
   ]
  },
  {
   "cell_type": "code",
   "execution_count": 20,
   "id": "binding-fisher",
   "metadata": {
    "scrolled": true
   },
   "outputs": [
    {
     "data": {
      "text/plain": [
       "user_id       True\n",
       "movie_id      True\n",
       "count         True\n",
       "timestamp    False\n",
       "dtype: bool"
      ]
     },
     "execution_count": 20,
     "metadata": {},
     "output_type": "execute_result"
    }
   ],
   "source": [
    "ratings[ratings['user_id']==200528].any()"
   ]
  },
  {
   "cell_type": "code",
   "execution_count": 21,
   "id": "lovely-defeat",
   "metadata": {},
   "outputs": [
    {
     "data": {
      "text/html": [
       "<div>\n",
       "<style scoped>\n",
       "    .dataframe tbody tr th:only-of-type {\n",
       "        vertical-align: middle;\n",
       "    }\n",
       "\n",
       "    .dataframe tbody tr th {\n",
       "        vertical-align: top;\n",
       "    }\n",
       "\n",
       "    .dataframe thead th {\n",
       "        text-align: right;\n",
       "    }\n",
       "</style>\n",
       "<table border=\"1\" class=\"dataframe\">\n",
       "  <thead>\n",
       "    <tr style=\"text-align: right;\">\n",
       "      <th></th>\n",
       "      <th>user_id</th>\n",
       "      <th>movie_id</th>\n",
       "      <th>count</th>\n",
       "      <th>timestamp</th>\n",
       "    </tr>\n",
       "  </thead>\n",
       "  <tbody>\n",
       "    <tr>\n",
       "      <th>836475</th>\n",
       "      <td>6040</td>\n",
       "      <td>562</td>\n",
       "      <td>5</td>\n",
       "      <td>956704746.0</td>\n",
       "    </tr>\n",
       "    <tr>\n",
       "      <th>836476</th>\n",
       "      <td>6040</td>\n",
       "      <td>1096</td>\n",
       "      <td>4</td>\n",
       "      <td>956715648.0</td>\n",
       "    </tr>\n",
       "    <tr>\n",
       "      <th>836477</th>\n",
       "      <td>6040</td>\n",
       "      <td>1097</td>\n",
       "      <td>4</td>\n",
       "      <td>956715569.0</td>\n",
       "    </tr>\n",
       "    <tr>\n",
       "      <th>836478</th>\n",
       "      <td>200528</td>\n",
       "      <td>1</td>\n",
       "      <td>4</td>\n",
       "      <td>NaN</td>\n",
       "    </tr>\n",
       "    <tr>\n",
       "      <th>836479</th>\n",
       "      <td>200528</td>\n",
       "      <td>364</td>\n",
       "      <td>4</td>\n",
       "      <td>NaN</td>\n",
       "    </tr>\n",
       "    <tr>\n",
       "      <th>836480</th>\n",
       "      <td>200528</td>\n",
       "      <td>588</td>\n",
       "      <td>4</td>\n",
       "      <td>NaN</td>\n",
       "    </tr>\n",
       "    <tr>\n",
       "      <th>836481</th>\n",
       "      <td>200528</td>\n",
       "      <td>1270</td>\n",
       "      <td>4</td>\n",
       "      <td>NaN</td>\n",
       "    </tr>\n",
       "    <tr>\n",
       "      <th>836482</th>\n",
       "      <td>200528</td>\n",
       "      <td>3799</td>\n",
       "      <td>4</td>\n",
       "      <td>NaN</td>\n",
       "    </tr>\n",
       "  </tbody>\n",
       "</table>\n",
       "</div>"
      ],
      "text/plain": [
       "        user_id  movie_id  count    timestamp\n",
       "836475     6040       562      5  956704746.0\n",
       "836476     6040      1096      4  956715648.0\n",
       "836477     6040      1097      4  956715569.0\n",
       "836478   200528         1      4          NaN\n",
       "836479   200528       364      4          NaN\n",
       "836480   200528       588      4          NaN\n",
       "836481   200528      1270      4          NaN\n",
       "836482   200528      3799      4          NaN"
      ]
     },
     "execution_count": 21,
     "metadata": {},
     "output_type": "execute_result"
    }
   ],
   "source": [
    "ratings.tail(8)"
   ]
  },
  {
   "cell_type": "markdown",
   "id": "nasty-geography",
   "metadata": {},
   "source": [
    "## 2-3. 영화 id 및 사용자 id 인덱싱\n",
    "- 두 컬럼 다 정수지만 숫자가 이어지지 않아서 다시 인덱싱을 해준다."
   ]
  },
  {
   "cell_type": "code",
   "execution_count": 22,
   "id": "peaceful-interval",
   "metadata": {
    "scrolled": true
   },
   "outputs": [
    {
     "name": "stdout",
     "output_type": "stream",
     "text": [
      "<class 'pandas.core.frame.DataFrame'>\n",
      "RangeIndex: 836483 entries, 0 to 836482\n",
      "Data columns (total 4 columns):\n",
      " #   Column     Non-Null Count   Dtype  \n",
      "---  ------     --------------   -----  \n",
      " 0   user_id    836483 non-null  int64  \n",
      " 1   movie_id   836483 non-null  int64  \n",
      " 2   count      836483 non-null  int64  \n",
      " 3   timestamp  836478 non-null  float64\n",
      "dtypes: float64(1), int64(3)\n",
      "memory usage: 25.5 MB\n"
     ]
    }
   ],
   "source": [
    "ratings.info()"
   ]
  },
  {
   "cell_type": "code",
   "execution_count": 23,
   "id": "activated-statistics",
   "metadata": {},
   "outputs": [],
   "source": [
    "# 고유한 사용자와 영화 추출\n",
    "unique_user = ratings['user_id'].unique()\n",
    "unique_movie = ratings['movie_id'].unique()\n",
    "\n",
    "# 사용자, 영화 indexing\n",
    "user_to_idx = {v:k for k,v in enumerate(unique_user)}\n",
    "movie_to_idx = {v:k for k,v in enumerate(unique_movie)}"
   ]
  },
  {
   "cell_type": "code",
   "execution_count": 25,
   "id": "dangerous-antenna",
   "metadata": {},
   "outputs": [
    {
     "name": "stdout",
     "output_type": "stream",
     "text": [
      "user_id column indexing OK!!\n",
      "movie_id column indexing OK!!\n"
     ]
    },
    {
     "data": {
      "text/html": [
       "<div>\n",
       "<style scoped>\n",
       "    .dataframe tbody tr th:only-of-type {\n",
       "        vertical-align: middle;\n",
       "    }\n",
       "\n",
       "    .dataframe tbody tr th {\n",
       "        vertical-align: top;\n",
       "    }\n",
       "\n",
       "    .dataframe thead th {\n",
       "        text-align: right;\n",
       "    }\n",
       "</style>\n",
       "<table border=\"1\" class=\"dataframe\">\n",
       "  <thead>\n",
       "    <tr style=\"text-align: right;\">\n",
       "      <th></th>\n",
       "      <th>user_id</th>\n",
       "      <th>movie_id</th>\n",
       "      <th>count</th>\n",
       "      <th>timestamp</th>\n",
       "    </tr>\n",
       "  </thead>\n",
       "  <tbody>\n",
       "    <tr>\n",
       "      <th>0</th>\n",
       "      <td>0</td>\n",
       "      <td>0</td>\n",
       "      <td>5</td>\n",
       "      <td>978300760.0</td>\n",
       "    </tr>\n",
       "    <tr>\n",
       "      <th>1</th>\n",
       "      <td>0</td>\n",
       "      <td>1</td>\n",
       "      <td>3</td>\n",
       "      <td>978302109.0</td>\n",
       "    </tr>\n",
       "    <tr>\n",
       "      <th>2</th>\n",
       "      <td>0</td>\n",
       "      <td>2</td>\n",
       "      <td>3</td>\n",
       "      <td>978301968.0</td>\n",
       "    </tr>\n",
       "    <tr>\n",
       "      <th>3</th>\n",
       "      <td>0</td>\n",
       "      <td>3</td>\n",
       "      <td>4</td>\n",
       "      <td>978300275.0</td>\n",
       "    </tr>\n",
       "    <tr>\n",
       "      <th>4</th>\n",
       "      <td>0</td>\n",
       "      <td>4</td>\n",
       "      <td>5</td>\n",
       "      <td>978824291.0</td>\n",
       "    </tr>\n",
       "    <tr>\n",
       "      <th>...</th>\n",
       "      <td>...</td>\n",
       "      <td>...</td>\n",
       "      <td>...</td>\n",
       "      <td>...</td>\n",
       "    </tr>\n",
       "    <tr>\n",
       "      <th>836478</th>\n",
       "      <td>6039</td>\n",
       "      <td>40</td>\n",
       "      <td>4</td>\n",
       "      <td>NaN</td>\n",
       "    </tr>\n",
       "    <tr>\n",
       "      <th>836479</th>\n",
       "      <td>6039</td>\n",
       "      <td>330</td>\n",
       "      <td>4</td>\n",
       "      <td>NaN</td>\n",
       "    </tr>\n",
       "    <tr>\n",
       "      <th>836480</th>\n",
       "      <td>6039</td>\n",
       "      <td>33</td>\n",
       "      <td>4</td>\n",
       "      <td>NaN</td>\n",
       "    </tr>\n",
       "    <tr>\n",
       "      <th>836481</th>\n",
       "      <td>6039</td>\n",
       "      <td>22</td>\n",
       "      <td>4</td>\n",
       "      <td>NaN</td>\n",
       "    </tr>\n",
       "    <tr>\n",
       "      <th>836482</th>\n",
       "      <td>6039</td>\n",
       "      <td>219</td>\n",
       "      <td>4</td>\n",
       "      <td>NaN</td>\n",
       "    </tr>\n",
       "  </tbody>\n",
       "</table>\n",
       "<p>836483 rows × 4 columns</p>\n",
       "</div>"
      ],
      "text/plain": [
       "        user_id  movie_id  count    timestamp\n",
       "0             0         0      5  978300760.0\n",
       "1             0         1      3  978302109.0\n",
       "2             0         2      3  978301968.0\n",
       "3             0         3      4  978300275.0\n",
       "4             0         4      5  978824291.0\n",
       "...         ...       ...    ...          ...\n",
       "836478     6039        40      4          NaN\n",
       "836479     6039       330      4          NaN\n",
       "836480     6039        33      4          NaN\n",
       "836481     6039        22      4          NaN\n",
       "836482     6039       219      4          NaN\n",
       "\n",
       "[836483 rows x 4 columns]"
      ]
     },
     "execution_count": 25,
     "metadata": {},
     "output_type": "execute_result"
    }
   ],
   "source": [
    "temp_user_data = ratings['user_id'].map(user_to_idx.get).dropna()\n",
    "if len(temp_user_data) == len(ratings):   # 모든 row가 정상적으로 인덱싱되었다면\n",
    "    print('user_id column indexing OK!!')\n",
    "    ratings['user_id'] = temp_user_data   # data['user_id']을 인덱싱된 Series로 교체해 줍니다. \n",
    "else:\n",
    "    print('user_id column indexing Fail!!')\n",
    "\n",
    "# artist_to_idx을 통해 artist 컬럼도 동일한 방식으로 인덱싱해 줍니다. \n",
    "temp_movie_data = ratings['movie_id'].map(movie_to_idx.get).dropna()\n",
    "if len(temp_movie_data) == len(ratings):\n",
    "    print('movie_id column indexing OK!!')\n",
    "    ratings['movie_id'] = temp_movie_data\n",
    "else:\n",
    "    print('movie column indexing Fail!!')\n",
    "\n",
    "ratings"
   ]
  },
  {
   "cell_type": "markdown",
   "id": "complex-equilibrium",
   "metadata": {},
   "source": [
    "# step3) CSR Matrix 생성"
   ]
  },
  {
   "cell_type": "code",
   "execution_count": 26,
   "id": "equal-glasgow",
   "metadata": {},
   "outputs": [
    {
     "data": {
      "text/plain": [
       "6040"
      ]
     },
     "execution_count": 26,
     "metadata": {},
     "output_type": "execute_result"
    }
   ],
   "source": [
    "ratings['user_id'].nunique()"
   ]
  },
  {
   "cell_type": "code",
   "execution_count": 27,
   "id": "unknown-speaking",
   "metadata": {},
   "outputs": [
    {
     "data": {
      "text/plain": [
       "3628"
      ]
     },
     "execution_count": 27,
     "metadata": {},
     "output_type": "execute_result"
    }
   ],
   "source": [
    "ratings['movie_id'].nunique()"
   ]
  },
  {
   "cell_type": "code",
   "execution_count": 28,
   "id": "fossil-liberty",
   "metadata": {},
   "outputs": [
    {
     "data": {
      "text/plain": [
       "836483"
      ]
     },
     "execution_count": 28,
     "metadata": {},
     "output_type": "execute_result"
    }
   ],
   "source": [
    "ratings['count'].count()"
   ]
  },
  {
   "cell_type": "code",
   "execution_count": 29,
   "id": "romantic-cartoon",
   "metadata": {},
   "outputs": [
    {
     "data": {
      "text/plain": [
       "<6040x3628 sparse matrix of type '<class 'numpy.longlong'>'\n",
       "\twith 836483 stored elements in Compressed Sparse Row format>"
      ]
     },
     "execution_count": 29,
     "metadata": {},
     "output_type": "execute_result"
    }
   ],
   "source": [
    "num_user = ratings['user_id'].nunique()\n",
    "num_movie = ratings['movie_id'].nunique()\n",
    "csr_data = csr_matrix((ratings['count'],(ratings.user_id, ratings.movie_id)), shape = (num_user, num_movie))\n",
    "csr_data"
   ]
  },
  {
   "cell_type": "markdown",
   "id": "progressive-wisdom",
   "metadata": {},
   "source": [
    "# step3) MF 모델 구성"
   ]
  },
  {
   "cell_type": "markdown",
   "id": "informational-purchase",
   "metadata": {},
   "source": [
    "# step5) AltenatingLeastSquares 모델 생성 및 훈련"
   ]
  },
  {
   "cell_type": "code",
   "execution_count": 30,
   "id": "lonely-archive",
   "metadata": {},
   "outputs": [],
   "source": [
    "os.environ['OPENBLAS_NUM_THREADS']='1'\n",
    "os.environ['KMP_DUPLICATE_LIB_OK']='True'\n",
    "os.environ['MKL_NUM_THREADS']='1'"
   ]
  },
  {
   "cell_type": "code",
   "execution_count": 31,
   "id": "pediatric-piece",
   "metadata": {},
   "outputs": [],
   "source": [
    "# Implicit AlternatingLeastSquares 모델의 선언\n",
    "als_model = AlternatingLeastSquares(factors=100, regularization=0.01, use_gpu=False, iterations=15, dtype=np.float32)"
   ]
  },
  {
   "cell_type": "code",
   "execution_count": 32,
   "id": "stock-designation",
   "metadata": {},
   "outputs": [
    {
     "data": {
      "text/plain": [
       "<3628x6040 sparse matrix of type '<class 'numpy.longlong'>'\n",
       "\twith 836483 stored elements in Compressed Sparse Column format>"
      ]
     },
     "execution_count": 32,
     "metadata": {},
     "output_type": "execute_result"
    }
   ],
   "source": [
    "# als 모델은 input으로 (item X user 꼴의 matrix를 받기 때문에 Transpose해줍니다.)\n",
    "csr_data_transpose = csr_data.T\n",
    "csr_data_transpose"
   ]
  },
  {
   "cell_type": "code",
   "execution_count": 33,
   "id": "technological-pendant",
   "metadata": {},
   "outputs": [
    {
     "data": {
      "application/vnd.jupyter.widget-view+json": {
       "model_id": "b602b0a1a1cc4cbb9ec0f6bfcb317f30",
       "version_major": 2,
       "version_minor": 0
      },
      "text/plain": [
       "  0%|          | 0/15 [00:00<?, ?it/s]"
      ]
     },
     "metadata": {},
     "output_type": "display_data"
    }
   ],
   "source": [
    "# 모델 훈련\n",
    "als_model.fit(csr_data_transpose)"
   ]
  },
  {
   "cell_type": "markdown",
   "id": "spectacular-boxing",
   "metadata": {},
   "source": [
    "# step6) 모델 학습 결과 분석"
   ]
  },
  {
   "cell_type": "markdown",
   "id": "friendly-sensitivity",
   "metadata": {},
   "source": [
    "## 6-0. 사전에 추가했던 사용자의 특성 벡터와 선호하는 영화의 특성 벡터의 형태와 두 벡터의 내적 확인"
   ]
  },
  {
   "cell_type": "code",
   "execution_count": 34,
   "id": "future-arena",
   "metadata": {},
   "outputs": [],
   "source": [
    "new, toy_story = user_to_idx[200528], movie_to_idx[1]\n",
    "new_vector, toy_story_vector = als_model.user_factors[new], als_model.item_factors[toy_story]"
   ]
  },
  {
   "cell_type": "code",
   "execution_count": 35,
   "id": "dried-semester",
   "metadata": {},
   "outputs": [
    {
     "data": {
      "text/plain": [
       "array([-0.45789048, -0.12500013, -0.13409421, -0.28378838,  1.0139608 ,\n",
       "       -0.13352135, -0.05000258, -0.01052808,  0.04298467,  0.53745013,\n",
       "        0.07570723,  0.24372303, -0.4428826 ,  0.15718596,  0.41772404,\n",
       "       -0.61684877,  0.41793862,  1.038861  ,  0.20694652, -0.26481712,\n",
       "       -0.40598324, -0.22818066, -0.655666  , -0.06056779, -0.45605403,\n",
       "       -0.5177449 ,  0.23864956,  0.08511475, -0.7960353 , -0.33195895,\n",
       "        0.12815948, -0.6661421 ,  0.14988045,  0.4052909 ,  0.00642152,\n",
       "       -0.302934  ,  0.64217126,  0.20289977, -0.2586199 ,  0.03260233,\n",
       "       -0.47460935, -0.13161461,  0.07290754, -0.6492447 , -0.17348303,\n",
       "       -0.03012614,  0.37599447, -0.44603312,  0.31979606, -0.20664537,\n",
       "        0.65471685,  0.12027306, -0.3166216 ,  0.42917833,  0.55374634,\n",
       "        0.6243386 ,  0.38382307, -1.0036169 , -0.41507325, -0.48752216,\n",
       "        0.2762575 , -0.23224895, -0.13044523, -0.42893168,  0.18234217,\n",
       "       -0.07044369, -0.1920704 , -0.6404311 , -0.01173624,  0.31250262,\n",
       "        0.37522873,  0.4382249 ,  0.5139683 , -0.03558491, -0.31680936,\n",
       "        0.7906609 ,  0.5189527 , -0.51344436,  0.59429514,  0.583041  ,\n",
       "       -0.01702876, -0.04549016,  0.0557459 , -0.695137  ,  0.19690831,\n",
       "        0.51196784,  0.39435968, -0.9445333 ,  1.0346314 , -0.0154554 ,\n",
       "        0.56755966,  0.21965733,  0.45669723, -0.41776133,  0.13068211,\n",
       "       -0.36112538,  0.11260752,  0.12054932,  0.05148219, -0.02991263],\n",
       "      dtype=float32)"
      ]
     },
     "execution_count": 35,
     "metadata": {},
     "output_type": "execute_result"
    }
   ],
   "source": [
    "new_vector"
   ]
  },
  {
   "cell_type": "code",
   "execution_count": 36,
   "id": "modern-style",
   "metadata": {},
   "outputs": [
    {
     "data": {
      "text/plain": [
       "array([-0.00314706,  0.01192966,  0.01042574, -0.00504658,  0.03192298,\n",
       "        0.01011922,  0.0017515 ,  0.00546801, -0.00614591,  0.02164052,\n",
       "        0.01386214,  0.00642006, -0.01374802,  0.02375527,  0.00224539,\n",
       "       -0.0137229 ,  0.02671659,  0.03119159, -0.00220316,  0.01245101,\n",
       "       -0.0241963 ,  0.00450806, -0.0264008 , -0.01816485, -0.00993348,\n",
       "        0.00972374,  0.02769792, -0.00126142, -0.02218457, -0.01692727,\n",
       "        0.02505555, -0.0355464 ,  0.02119218,  0.00552842,  0.03326321,\n",
       "       -0.00217544,  0.04994061,  0.02383985, -0.00707303,  0.02049585,\n",
       "       -0.01682138, -0.02111671,  0.00640573, -0.02569073, -0.02928492,\n",
       "        0.01906357,  0.0192677 , -0.00427474,  0.01033671,  0.01020434,\n",
       "        0.02375352, -0.00689002,  0.00933314,  0.02451891,  0.01774687,\n",
       "        0.02991289, -0.00112622, -0.01740038, -0.02167213, -0.0052175 ,\n",
       "        0.01174489, -0.0329106 , -0.00878415, -0.01584945,  0.02797425,\n",
       "       -0.00840544, -0.0039444 , -0.02421806,  0.01280884,  0.01181283,\n",
       "       -0.00551227,  0.0093502 ,  0.02767638, -0.00485454, -0.0025019 ,\n",
       "        0.02687091,  0.0274655 , -0.00875792,  0.02141747,  0.04069985,\n",
       "        0.00060816, -0.00305602,  0.00342964,  0.02085934,  0.01598176,\n",
       "        0.01069351,  0.00622267, -0.03541012,  0.0300447 , -0.02654931,\n",
       "        0.03471056,  0.01189913,  0.00803924, -0.00678889,  0.02137243,\n",
       "       -0.02277774,  0.02603091,  0.02311984, -0.00682558,  0.00884085],\n",
       "      dtype=float32)"
      ]
     },
     "execution_count": 36,
     "metadata": {},
     "output_type": "execute_result"
    }
   ],
   "source": [
    "toy_story_vector"
   ]
  },
  {
   "cell_type": "code",
   "execution_count": 37,
   "id": "equal-excellence",
   "metadata": {},
   "outputs": [
    {
     "data": {
      "text/plain": [
       "0.5998609"
      ]
     },
     "execution_count": 37,
     "metadata": {},
     "output_type": "execute_result"
    }
   ],
   "source": [
    "# 새로 추가한 사용자와 toy_story 내적\n",
    "np.dot(new_vector, toy_story_vector)"
   ]
  },
  {
   "cell_type": "markdown",
   "id": "african-deadline",
   "metadata": {},
   "source": [
    "- 0.5 이상의 결과 보여주고 있다."
   ]
  },
  {
   "cell_type": "markdown",
   "id": "guilty-bracelet",
   "metadata": {},
   "source": [
    "## 6-1. 선호하는 5가지 영화 중 하나와 그 외 영화를 골라 예측한 선호도 파악\n",
    "- def `check_prefernece(user, movie)` : 사용자가 해당 영화를 얼마나 좋아하는지 사용자 특성 벡터와 영화 특성 벡터를 내적해 수치를 보여준다."
   ]
  },
  {
   "cell_type": "code",
   "execution_count": 38,
   "id": "loaded-reviewer",
   "metadata": {},
   "outputs": [],
   "source": [
    "def check_preference(user, movie):\n",
    "    movie_id = movies[movies['title'] == movie].iloc[0,0]    \n",
    "    new, fav_movie = user_to_idx[user], movie_to_idx[movie_id]\n",
    "    new_vector, fav_movie_vector = als_model.user_factors[new], als_model.item_factors[fav_movie]\n",
    "    print(np.dot(new_vector, fav_movie_vector))"
   ]
  },
  {
   "cell_type": "markdown",
   "id": "modern-adventure",
   "metadata": {},
   "source": [
    "- 확실히 시청했던 영화 벡터와의 내적이 점수가 높다."
   ]
  },
  {
   "cell_type": "code",
   "execution_count": 39,
   "id": "allied-scotland",
   "metadata": {},
   "outputs": [
    {
     "name": "stdout",
     "output_type": "stream",
     "text": [
      "toy story`s score 0.5998609\n",
      "lion king, the`s score 0.47060257\n",
      "pokémon the movie 2000`s score 0.011793078\n",
      "back to the future`s score 0.39999115\n",
      "aladdin`s score 0.5794199\n"
     ]
    }
   ],
   "source": [
    "# 선호하는 영화의 특성 벡터와 내적\n",
    "for movie in my_favorite:\n",
    "    print(f'{movie}`s score', end=' ')\n",
    "    check_preference(200528, movie)"
   ]
  },
  {
   "cell_type": "code",
   "execution_count": 40,
   "id": "domestic-complexity",
   "metadata": {},
   "outputs": [
    {
     "name": "stdout",
     "output_type": "stream",
     "text": [
      "-0.043526623\n",
      "-0.014419573\n"
     ]
    }
   ],
   "source": [
    "# 시청하지 않았던 다른 영화의 특성 벡터와 내적\n",
    "check_preference(200528, 'meet the parents')\n",
    "check_preference(200528, 'tigerland')"
   ]
  },
  {
   "cell_type": "markdown",
   "id": "becoming-sponsorship",
   "metadata": {},
   "source": [
    "- 시청 기록이 없더라도 비슷한 장르의 영화는 다른 영화보다 점수가 높게 나왔다."
   ]
  },
  {
   "cell_type": "code",
   "execution_count": 41,
   "id": "nonprofit-water",
   "metadata": {},
   "outputs": [
    {
     "name": "stdout",
     "output_type": "stream",
     "text": [
      "0.09339066\n"
     ]
    }
   ],
   "source": [
    "# 시청하지 않았지만 비슷한 장르의 영화\n",
    "check_preference(200528, 'alice in wonderland')"
   ]
  },
  {
   "cell_type": "code",
   "execution_count": 42,
   "id": "accessory-canyon",
   "metadata": {},
   "outputs": [
    {
     "data": {
      "text/html": [
       "<div>\n",
       "<style scoped>\n",
       "    .dataframe tbody tr th:only-of-type {\n",
       "        vertical-align: middle;\n",
       "    }\n",
       "\n",
       "    .dataframe tbody tr th {\n",
       "        vertical-align: top;\n",
       "    }\n",
       "\n",
       "    .dataframe thead th {\n",
       "        text-align: right;\n",
       "    }\n",
       "</style>\n",
       "<table border=\"1\" class=\"dataframe\">\n",
       "  <thead>\n",
       "    <tr style=\"text-align: right;\">\n",
       "      <th></th>\n",
       "      <th>movie_id</th>\n",
       "      <th>title</th>\n",
       "      <th>genre</th>\n",
       "      <th>release</th>\n",
       "    </tr>\n",
       "  </thead>\n",
       "  <tbody>\n",
       "    <tr>\n",
       "      <th>612</th>\n",
       "      <td>616</td>\n",
       "      <td>aristocats, the</td>\n",
       "      <td>Animation|Children's</td>\n",
       "      <td>1970</td>\n",
       "    </tr>\n",
       "    <tr>\n",
       "      <th>1812</th>\n",
       "      <td>1881</td>\n",
       "      <td>quest for camelot</td>\n",
       "      <td>Adventure|Animation|Children's|Fantasy</td>\n",
       "      <td>1998</td>\n",
       "    </tr>\n",
       "    <tr>\n",
       "      <th>2490</th>\n",
       "      <td>2559</td>\n",
       "      <td>king and i, the</td>\n",
       "      <td>Animation|Children's</td>\n",
       "      <td>1999</td>\n",
       "    </tr>\n",
       "  </tbody>\n",
       "</table>\n",
       "</div>"
      ],
      "text/plain": [
       "      movie_id              title                                   genre  \\\n",
       "612        616    aristocats, the                    Animation|Children's   \n",
       "1812      1881  quest for camelot  Adventure|Animation|Children's|Fantasy   \n",
       "2490      2559    king and i, the                    Animation|Children's   \n",
       "\n",
       "      release  \n",
       "612      1970  \n",
       "1812     1998  \n",
       "2490     1999  "
      ]
     },
     "execution_count": 42,
     "metadata": {},
     "output_type": "execute_result"
    }
   ],
   "source": [
    "movies[movies['genre'].str.contains('Animation')].sample(3)"
   ]
  },
  {
   "cell_type": "markdown",
   "id": "imposed-danish",
   "metadata": {},
   "source": [
    "## 6-2. 좋아하는 영화와 비슷한 영화 추천\n",
    "- def `get_movie_id(movie)` : 영화 제목에 해당하는 영화 아이디 반환\n",
    "- def `get_genre(movie)` : 영화 제목의 장르 반환\n",
    "- def `get_movie_name(movie_id)` : 영화 아이디에 해당하는 영화 제목 반환\n",
    "- def `get_similar_movie(movie_name)` : 영화와 비슷한 영화 목록 반환"
   ]
  },
  {
   "cell_type": "code",
   "execution_count": 45,
   "id": "available-revision",
   "metadata": {},
   "outputs": [],
   "source": [
    "def get_movie_id(movie):\n",
    "    return movies[movies['title'] == movie].iloc[0,0]\n",
    "\n",
    "def get_genre(movie):\n",
    "    return movies[movies['title']==movie].values[0,2]\n",
    "\n",
    "def get_movie_name(movie_id):\n",
    "    return movies[movies['movie_id']==movie_id].values[0,1]\n",
    "\n",
    "idx_to_movie = {v:k for k,v in movie_to_idx.items()}"
   ]
  },
  {
   "cell_type": "code",
   "execution_count": 46,
   "id": "prescription-bishop",
   "metadata": {},
   "outputs": [],
   "source": [
    "# 반복 확인\n",
    "def get_similar_movie(movie_name: str):\n",
    "    movie_id = get_movie_id(movie_name)\n",
    "    similar_movie = als_model.similar_items(movie_id)\n",
    "    similar_movie = [idx_to_movie[i[0]] for i in similar_movie]\n",
    "    return similar_movie"
   ]
  },
  {
   "cell_type": "code",
   "execution_count": 47,
   "id": "imported-facial",
   "metadata": {},
   "outputs": [
    {
     "name": "stdout",
     "output_type": "stream",
     "text": [
      "\n",
      "======<executive decision>`s similar movies======\n",
      "executive decision\n",
      "tales from the darkside: the movie\n",
      "murder!\n",
      "angus\n",
      "jade\n",
      "down periscope\n",
      "penitentiary ii\n",
      "grease 2\n",
      "big green, the\n",
      "sneakers\n",
      "\n",
      "======<fish called wanda, a>`s similar movies======\n",
      "fish called wanda, a\n",
      "clean slate (coup de torchon)\n",
      "full monty, the\n",
      "sexual life of the belgians, the\n",
      "arrival, the\n",
      "my name is joe\n",
      "lolita\n",
      "candyman: farewell to the flesh\n",
      "tarzan\n",
      "spanking the monkey\n",
      "\n",
      "======<terminator, the>`s similar movies======\n",
      "terminator, the\n",
      "delicatessen\n",
      "fierce creatures\n",
      "underneath, the\n",
      "fugitive, the\n",
      "rob roy\n",
      "kissing a fool\n",
      "swamp thing\n",
      "mighty joe young\n",
      "shakespeare in love\n",
      "\n",
      "======<shakespeare in love>`s similar movies======\n",
      "shakespeare in love\n",
      "back to school\n",
      "underneath, the\n",
      "another man's poison\n",
      "cyrano de bergerac\n",
      "howard the duck\n",
      "stop making sense\n",
      "varsity blues\n",
      "kissing a fool\n",
      "misérables, les\n",
      "\n",
      "======<miracle on 34th street>`s similar movies======\n",
      "miracle on 34th street\n",
      "swimming with sharks\n",
      "wonderful, horrible life of leni riefenstahl, the (die macht der bilder)\n",
      "10 things i hate about you\n",
      "message to love: the isle of wight festival\n",
      "exorcist iii, the\n",
      "friday the 13th part viii: jason takes manhattan\n",
      "wrong man, the\n",
      "romy and michele's high school reunion\n",
      "speed 2: cruise control\n"
     ]
    }
   ],
   "source": [
    "for movie_id in ratings['movie_id'].sample(5):\n",
    "    movie = get_movie_name(idx_to_movie[movie_id])\n",
    "    print(f'\\n======<{movie}>`s similar movies======')\n",
    "    for movie_id in get_similar_movie(movie):\n",
    "        print(get_movie_name(movie_to_idx[movie_id]))"
   ]
  },
  {
   "cell_type": "markdown",
   "id": "bright-beads",
   "metadata": {},
   "source": [
    "## 6-3. 내가 가장 좋아할 만한 영화 추천"
   ]
  },
  {
   "cell_type": "markdown",
   "id": "confidential-polls",
   "metadata": {},
   "source": [
    "- 이전에 추가한 좋아하는 영화 목록을 보자."
   ]
  },
  {
   "cell_type": "code",
   "execution_count": 48,
   "id": "proper-display",
   "metadata": {},
   "outputs": [
    {
     "data": {
      "text/plain": [
       "['toy story',\n",
       " 'lion king, the',\n",
       " 'pokémon the movie 2000',\n",
       " 'back to the future',\n",
       " 'aladdin']"
      ]
     },
     "execution_count": 48,
     "metadata": {},
     "output_type": "execute_result"
    }
   ],
   "source": [
    "my_favorite"
   ]
  },
  {
   "cell_type": "markdown",
   "id": "virtual-warner",
   "metadata": {},
   "source": [
    "- 해당 영화 목록을 보유하는 사용자에게 모델이 어떤 영화를 추천하는지 확인한다."
   ]
  },
  {
   "cell_type": "code",
   "execution_count": 49,
   "id": "bridal-reaction",
   "metadata": {},
   "outputs": [],
   "source": [
    "user = user_to_idx[200528]\n",
    "# recommend에서는 user*item CSR Matrix를 받습니다.\n",
    "recommended_movie = als_model.recommend(user, csr_data, N=20, filter_already_liked_items=True)"
   ]
  },
  {
   "cell_type": "markdown",
   "id": "norman-conspiracy",
   "metadata": {},
   "source": [
    "- 확실히 선호하는 영화에 디즈니 영화가 많았다보니 애니메이션 관련 영화를 많이 추천해 주었다."
   ]
  },
  {
   "cell_type": "code",
   "execution_count": 50,
   "id": "wicked-export",
   "metadata": {},
   "outputs": [
    {
     "data": {
      "text/plain": [
       "[('toy story 2', 0.46149746),\n",
       " ('beauty and the beast', 0.45687643),\n",
       " (\"bug's life, a\", 0.35265052),\n",
       " ('babe', 0.29136252),\n",
       " ('little mermaid, the', 0.25241354),\n",
       " ('forrest gump', 0.2299691),\n",
       " ('tarzan', 0.217454),\n",
       " ('hercules', 0.20888785),\n",
       " ('mulan', 0.20592381),\n",
       " ('e.t. the extra-terrestrial', 0.19256899),\n",
       " ('groundhog day', 0.1892686),\n",
       " ('snow white and the seven dwarfs', 0.17693682),\n",
       " ('hunchback of notre dame, the', 0.17685229),\n",
       " ('star wars: episode v - the empire strikes back', 0.16675389),\n",
       " ('2001: a space odyssey', 0.16665715),\n",
       " ('fantasia', 0.16368756),\n",
       " ('shakespeare in love', 0.15962169),\n",
       " ('mask, the', 0.15246198),\n",
       " ('apollo 13', 0.15023418),\n",
       " ('mary poppins', 0.14941864)]"
      ]
     },
     "execution_count": 50,
     "metadata": {},
     "output_type": "execute_result"
    }
   ],
   "source": [
    "# 추천 영화 순위 및 점수\n",
    "[(get_movie_name(idx_to_movie[movie_id]), score) for movie_id, score in recommended_movie]"
   ]
  },
  {
   "cell_type": "markdown",
   "id": "roman-piece",
   "metadata": {},
   "source": [
    "## 6-4. 추천한 영화에 영향을 미친 영화순위와 장르\n",
    "- def `recommend(user_id)` : 해당 사용자의 시청 목록을 기반으로 추천할 만한 영화 및 점수 목록 반환\n",
    "- def `explainer(user_id, recommended_movie_name)` : 사용자가 시청한 영화가 추천한 영화에 미친 영향 파악"
   ]
  },
  {
   "cell_type": "code",
   "execution_count": 51,
   "id": "fallen-collection",
   "metadata": {},
   "outputs": [],
   "source": [
    "# 다른 사용자의 추천 영화 리스트를 알기 위한 함수\n",
    "def recommend(user_id):\n",
    "    user = user_to_idx[user_id]\n",
    "    recommended_movie = als_model.recommend(user, csr_data, N=20, filter_already_liked_items=True)\n",
    "    return [(get_movie_name(idx_to_movie[movie_id]), score) for movie_id, score in recommended_movie]"
   ]
  },
  {
   "cell_type": "code",
   "execution_count": 52,
   "id": "imperial-merchandise",
   "metadata": {},
   "outputs": [],
   "source": [
    "def explainer(user_id,recommended_movie_name):\n",
    "    print('원 장르 : ',get_genre(recommended_movie_name))\n",
    "    user = user_to_idx[user_id]\n",
    "    movie_id = get_movie_id(recommended_movie_name)\n",
    "    explain = als_model.explain(user, csr_data, itemid=movie_id)\n",
    "    return pd.DataFrame([(get_movie_name(idx_to_movie[i[0]]), i[1],get_genre(get_movie_name(idx_to_movie[i[0]]))) for i in explain[1]],columns=['title','score','genre'])"
   ]
  },
  {
   "cell_type": "code",
   "execution_count": 53,
   "id": "determined-abuse",
   "metadata": {
    "scrolled": true
   },
   "outputs": [
    {
     "name": "stdout",
     "output_type": "stream",
     "text": [
      "원 장르 :  Children's|Drama|Fantasy|Sci-Fi\n"
     ]
    },
    {
     "data": {
      "text/html": [
       "<div>\n",
       "<style scoped>\n",
       "    .dataframe tbody tr th:only-of-type {\n",
       "        vertical-align: middle;\n",
       "    }\n",
       "\n",
       "    .dataframe tbody tr th {\n",
       "        vertical-align: top;\n",
       "    }\n",
       "\n",
       "    .dataframe thead th {\n",
       "        text-align: right;\n",
       "    }\n",
       "</style>\n",
       "<table border=\"1\" class=\"dataframe\">\n",
       "  <thead>\n",
       "    <tr style=\"text-align: right;\">\n",
       "      <th></th>\n",
       "      <th>title</th>\n",
       "      <th>score</th>\n",
       "      <th>genre</th>\n",
       "    </tr>\n",
       "  </thead>\n",
       "  <tbody>\n",
       "    <tr>\n",
       "      <th>0</th>\n",
       "      <td>back to the future</td>\n",
       "      <td>0.070740</td>\n",
       "      <td>Comedy|Sci-Fi</td>\n",
       "    </tr>\n",
       "    <tr>\n",
       "      <th>1</th>\n",
       "      <td>aladdin</td>\n",
       "      <td>0.031779</td>\n",
       "      <td>Animation|Children's|Comedy|Musical</td>\n",
       "    </tr>\n",
       "    <tr>\n",
       "      <th>2</th>\n",
       "      <td>lion king, the</td>\n",
       "      <td>0.013682</td>\n",
       "      <td>Animation|Children's|Musical</td>\n",
       "    </tr>\n",
       "    <tr>\n",
       "      <th>3</th>\n",
       "      <td>toy story</td>\n",
       "      <td>-0.006107</td>\n",
       "      <td>Animation|Children's|Comedy</td>\n",
       "    </tr>\n",
       "    <tr>\n",
       "      <th>4</th>\n",
       "      <td>pokémon the movie 2000</td>\n",
       "      <td>-0.007250</td>\n",
       "      <td>Animation|Children's</td>\n",
       "    </tr>\n",
       "  </tbody>\n",
       "</table>\n",
       "</div>"
      ],
      "text/plain": [
       "                    title     score                                genre\n",
       "0      back to the future  0.070740                        Comedy|Sci-Fi\n",
       "1                 aladdin  0.031779  Animation|Children's|Comedy|Musical\n",
       "2          lion king, the  0.013682         Animation|Children's|Musical\n",
       "3               toy story -0.006107          Animation|Children's|Comedy\n",
       "4  pokémon the movie 2000 -0.007250                 Animation|Children's"
      ]
     },
     "execution_count": 53,
     "metadata": {},
     "output_type": "execute_result"
    }
   ],
   "source": [
    "explainer(200528,\"e.t. the extra-terrestrial\")"
   ]
  },
  {
   "cell_type": "code",
   "execution_count": 54,
   "id": "insured-violin",
   "metadata": {
    "scrolled": true
   },
   "outputs": [
    {
     "name": "stdout",
     "output_type": "stream",
     "text": [
      "원 장르 :  Comedy|Romance|War\n"
     ]
    },
    {
     "data": {
      "text/html": [
       "<div>\n",
       "<style scoped>\n",
       "    .dataframe tbody tr th:only-of-type {\n",
       "        vertical-align: middle;\n",
       "    }\n",
       "\n",
       "    .dataframe tbody tr th {\n",
       "        vertical-align: top;\n",
       "    }\n",
       "\n",
       "    .dataframe thead th {\n",
       "        text-align: right;\n",
       "    }\n",
       "</style>\n",
       "<table border=\"1\" class=\"dataframe\">\n",
       "  <thead>\n",
       "    <tr style=\"text-align: right;\">\n",
       "      <th></th>\n",
       "      <th>title</th>\n",
       "      <th>score</th>\n",
       "      <th>genre</th>\n",
       "    </tr>\n",
       "  </thead>\n",
       "  <tbody>\n",
       "    <tr>\n",
       "      <th>0</th>\n",
       "      <td>aladdin</td>\n",
       "      <td>0.007582</td>\n",
       "      <td>Animation|Children's|Comedy|Musical</td>\n",
       "    </tr>\n",
       "    <tr>\n",
       "      <th>1</th>\n",
       "      <td>lion king, the</td>\n",
       "      <td>0.006662</td>\n",
       "      <td>Animation|Children's|Musical</td>\n",
       "    </tr>\n",
       "    <tr>\n",
       "      <th>2</th>\n",
       "      <td>pokémon the movie 2000</td>\n",
       "      <td>0.000839</td>\n",
       "      <td>Animation|Children's</td>\n",
       "    </tr>\n",
       "    <tr>\n",
       "      <th>3</th>\n",
       "      <td>back to the future</td>\n",
       "      <td>-0.000770</td>\n",
       "      <td>Comedy|Sci-Fi</td>\n",
       "    </tr>\n",
       "    <tr>\n",
       "      <th>4</th>\n",
       "      <td>toy story</td>\n",
       "      <td>-0.032589</td>\n",
       "      <td>Animation|Children's|Comedy</td>\n",
       "    </tr>\n",
       "  </tbody>\n",
       "</table>\n",
       "</div>"
      ],
      "text/plain": [
       "                    title     score                                genre\n",
       "0                 aladdin  0.007582  Animation|Children's|Comedy|Musical\n",
       "1          lion king, the  0.006662         Animation|Children's|Musical\n",
       "2  pokémon the movie 2000  0.000839                 Animation|Children's\n",
       "3      back to the future -0.000770                        Comedy|Sci-Fi\n",
       "4               toy story -0.032589          Animation|Children's|Comedy"
      ]
     },
     "execution_count": 54,
     "metadata": {},
     "output_type": "execute_result"
    }
   ],
   "source": [
    "explainer(200528,'forrest gump')"
   ]
  },
  {
   "cell_type": "markdown",
   "id": "chinese-sterling",
   "metadata": {},
   "source": [
    "- 추천 점수가 낮았던 영화는 그에 걸맞게 장르에서도 많이는 겹치지 않았다.\n",
    "- `star wars` 추천에서 특이한 점은 그래도 장르가 겹쳤던 `back to the future`가 큰 영향을 미치지 않았다는 점이었다."
   ]
  },
  {
   "cell_type": "code",
   "execution_count": 55,
   "id": "neutral-kuwait",
   "metadata": {
    "scrolled": false
   },
   "outputs": [
    {
     "name": "stdout",
     "output_type": "stream",
     "text": [
      "원 장르 :  Action|Adventure|Drama|Sci-Fi|War\n"
     ]
    },
    {
     "data": {
      "text/html": [
       "<div>\n",
       "<style scoped>\n",
       "    .dataframe tbody tr th:only-of-type {\n",
       "        vertical-align: middle;\n",
       "    }\n",
       "\n",
       "    .dataframe tbody tr th {\n",
       "        vertical-align: top;\n",
       "    }\n",
       "\n",
       "    .dataframe thead th {\n",
       "        text-align: right;\n",
       "    }\n",
       "</style>\n",
       "<table border=\"1\" class=\"dataframe\">\n",
       "  <thead>\n",
       "    <tr style=\"text-align: right;\">\n",
       "      <th></th>\n",
       "      <th>title</th>\n",
       "      <th>score</th>\n",
       "      <th>genre</th>\n",
       "    </tr>\n",
       "  </thead>\n",
       "  <tbody>\n",
       "    <tr>\n",
       "      <th>0</th>\n",
       "      <td>toy story</td>\n",
       "      <td>0.028430</td>\n",
       "      <td>Animation|Children's|Comedy</td>\n",
       "    </tr>\n",
       "    <tr>\n",
       "      <th>1</th>\n",
       "      <td>back to the future</td>\n",
       "      <td>0.002073</td>\n",
       "      <td>Comedy|Sci-Fi</td>\n",
       "    </tr>\n",
       "    <tr>\n",
       "      <th>2</th>\n",
       "      <td>pokémon the movie 2000</td>\n",
       "      <td>0.000638</td>\n",
       "      <td>Animation|Children's</td>\n",
       "    </tr>\n",
       "    <tr>\n",
       "      <th>3</th>\n",
       "      <td>lion king, the</td>\n",
       "      <td>-0.013795</td>\n",
       "      <td>Animation|Children's|Musical</td>\n",
       "    </tr>\n",
       "    <tr>\n",
       "      <th>4</th>\n",
       "      <td>aladdin</td>\n",
       "      <td>-0.031501</td>\n",
       "      <td>Animation|Children's|Comedy|Musical</td>\n",
       "    </tr>\n",
       "  </tbody>\n",
       "</table>\n",
       "</div>"
      ],
      "text/plain": [
       "                    title     score                                genre\n",
       "0               toy story  0.028430          Animation|Children's|Comedy\n",
       "1      back to the future  0.002073                        Comedy|Sci-Fi\n",
       "2  pokémon the movie 2000  0.000638                 Animation|Children's\n",
       "3          lion king, the -0.013795         Animation|Children's|Musical\n",
       "4                 aladdin -0.031501  Animation|Children's|Comedy|Musical"
      ]
     },
     "execution_count": 55,
     "metadata": {},
     "output_type": "execute_result"
    }
   ],
   "source": [
    "explainer(200528,'star wars: episode v - the empire strikes back')"
   ]
  },
  {
   "cell_type": "markdown",
   "id": "compatible-success",
   "metadata": {},
   "source": [
    "- 다른 사용자의 추천 영화를 보자."
   ]
  },
  {
   "cell_type": "code",
   "execution_count": 56,
   "id": "considerable-miracle",
   "metadata": {},
   "outputs": [
    {
     "data": {
      "text/plain": [
       "array([ 1,  5,  9, 13, 17])"
      ]
     },
     "execution_count": 56,
     "metadata": {},
     "output_type": "execute_result"
    }
   ],
   "source": [
    "ratings['user_id'].unique()[1:20:4]"
   ]
  },
  {
   "cell_type": "markdown",
   "id": "interior-astrology",
   "metadata": {},
   "source": [
    "- 1번 사용자는 애니메이션을 많이 시청한 것으로 보인다."
   ]
  },
  {
   "cell_type": "code",
   "execution_count": 57,
   "id": "false-testimony",
   "metadata": {},
   "outputs": [
    {
     "data": {
      "text/plain": [
       "[('lion king, the', 1.0387063),\n",
       " ('shawshank redemption, the', 0.8288442),\n",
       " ('little mermaid, the', 0.8069404),\n",
       " ('babe', 0.78645074),\n",
       " ('jungle book, the', 0.75622165),\n",
       " ('amadeus', 0.7494767),\n",
       " ('fantasia', 0.74385124),\n",
       " ('sleeping beauty', 0.7383149),\n",
       " ('pinocchio', 0.6967769),\n",
       " ('peter pan', 0.64731944),\n",
       " ('raiders of the lost ark', 0.63259935),\n",
       " ('good will hunting', 0.6276747),\n",
       " ('star wars: episode v - the empire strikes back', 0.6123146),\n",
       " ('silence of the lambs, the', 0.6035732),\n",
       " ('ghostbusters', 0.58210945),\n",
       " ('alice in wonderland', 0.57005847),\n",
       " ('101 dalmatians', 0.5677511),\n",
       " ('lady and the tramp', 0.5664714),\n",
       " ('wrong trousers, the', 0.56486976),\n",
       " ('american beauty', 0.55412745)]"
      ]
     },
     "execution_count": 57,
     "metadata": {},
     "output_type": "execute_result"
    }
   ],
   "source": [
    "recommend(1)"
   ]
  },
  {
   "cell_type": "code",
   "execution_count": 58,
   "id": "eastern-creativity",
   "metadata": {},
   "outputs": [
    {
     "name": "stdout",
     "output_type": "stream",
     "text": [
      "원 장르 :  Animation|Children's|Musical\n"
     ]
    },
    {
     "data": {
      "text/html": [
       "<div>\n",
       "<style scoped>\n",
       "    .dataframe tbody tr th:only-of-type {\n",
       "        vertical-align: middle;\n",
       "    }\n",
       "\n",
       "    .dataframe tbody tr th {\n",
       "        vertical-align: top;\n",
       "    }\n",
       "\n",
       "    .dataframe thead th {\n",
       "        text-align: right;\n",
       "    }\n",
       "</style>\n",
       "<table border=\"1\" class=\"dataframe\">\n",
       "  <thead>\n",
       "    <tr style=\"text-align: right;\">\n",
       "      <th></th>\n",
       "      <th>title</th>\n",
       "      <th>score</th>\n",
       "      <th>genre</th>\n",
       "    </tr>\n",
       "  </thead>\n",
       "  <tbody>\n",
       "    <tr>\n",
       "      <th>0</th>\n",
       "      <td>saving private ryan</td>\n",
       "      <td>0.036562</td>\n",
       "      <td>Action|Drama|War</td>\n",
       "    </tr>\n",
       "    <tr>\n",
       "      <th>1</th>\n",
       "      <td>toy story 2</td>\n",
       "      <td>0.024389</td>\n",
       "      <td>Animation|Children's|Comedy</td>\n",
       "    </tr>\n",
       "    <tr>\n",
       "      <th>2</th>\n",
       "      <td>one flew over the cuckoo's nest</td>\n",
       "      <td>0.021088</td>\n",
       "      <td>Drama</td>\n",
       "    </tr>\n",
       "    <tr>\n",
       "      <th>3</th>\n",
       "      <td>secret garden, the</td>\n",
       "      <td>0.019568</td>\n",
       "      <td>Children's|Drama</td>\n",
       "    </tr>\n",
       "    <tr>\n",
       "      <th>4</th>\n",
       "      <td>meet joe black</td>\n",
       "      <td>0.018951</td>\n",
       "      <td>Romance</td>\n",
       "    </tr>\n",
       "    <tr>\n",
       "      <th>5</th>\n",
       "      <td>back to the future</td>\n",
       "      <td>0.016251</td>\n",
       "      <td>Comedy|Sci-Fi</td>\n",
       "    </tr>\n",
       "    <tr>\n",
       "      <th>6</th>\n",
       "      <td>big</td>\n",
       "      <td>0.016031</td>\n",
       "      <td>Comedy|Fantasy</td>\n",
       "    </tr>\n",
       "    <tr>\n",
       "      <th>7</th>\n",
       "      <td>pocahontas</td>\n",
       "      <td>0.015086</td>\n",
       "      <td>Animation|Children's|Musical|Romance</td>\n",
       "    </tr>\n",
       "    <tr>\n",
       "      <th>8</th>\n",
       "      <td>bambi</td>\n",
       "      <td>0.013638</td>\n",
       "      <td>Animation|Children's</td>\n",
       "    </tr>\n",
       "    <tr>\n",
       "      <th>9</th>\n",
       "      <td>driving miss daisy</td>\n",
       "      <td>0.012957</td>\n",
       "      <td>Drama</td>\n",
       "    </tr>\n",
       "  </tbody>\n",
       "</table>\n",
       "</div>"
      ],
      "text/plain": [
       "                             title     score  \\\n",
       "0              saving private ryan  0.036562   \n",
       "1                      toy story 2  0.024389   \n",
       "2  one flew over the cuckoo's nest  0.021088   \n",
       "3               secret garden, the  0.019568   \n",
       "4                   meet joe black  0.018951   \n",
       "5               back to the future  0.016251   \n",
       "6                              big  0.016031   \n",
       "7                       pocahontas  0.015086   \n",
       "8                            bambi  0.013638   \n",
       "9               driving miss daisy  0.012957   \n",
       "\n",
       "                                  genre  \n",
       "0                      Action|Drama|War  \n",
       "1           Animation|Children's|Comedy  \n",
       "2                                 Drama  \n",
       "3                      Children's|Drama  \n",
       "4                               Romance  \n",
       "5                         Comedy|Sci-Fi  \n",
       "6                        Comedy|Fantasy  \n",
       "7  Animation|Children's|Musical|Romance  \n",
       "8                  Animation|Children's  \n",
       "9                                 Drama  "
      ]
     },
     "execution_count": 58,
     "metadata": {},
     "output_type": "execute_result"
    }
   ],
   "source": [
    "explainer(1, 'lion king, the')"
   ]
  },
  {
   "cell_type": "code",
   "execution_count": 59,
   "id": "australian-plaintiff",
   "metadata": {},
   "outputs": [
    {
     "data": {
      "text/plain": [
       "[('star trek: first contact', 1.0955336),\n",
       " ('dr. no', 1.0917943),\n",
       " ('sneakers', 1.0704753),\n",
       " ('outbreak', 1.0541794),\n",
       " ('lady and the tramp', 1.0099185),\n",
       " ('from russia with love', 0.9499478),\n",
       " ('rush hour', 0.9493133),\n",
       " ('nightmare before christmas, the', 0.9358027),\n",
       " ('ghost and the darkness, the', 0.93150127),\n",
       " ('what about bob?', 0.9088996),\n",
       " ('austin powers: international man of mystery', 0.89919704),\n",
       " ('birdcage, the', 0.8904398),\n",
       " ('die hard: with a vengeance', 0.8782613),\n",
       " ('west side story', 0.8751185),\n",
       " ('honey, i shrunk the kids', 0.8718513),\n",
       " ('say anything...', 0.85871),\n",
       " ('breakdown', 0.84899837),\n",
       " ('dr. strangelove or: how i learned to stop worrying and love the bomb',\n",
       "  0.84175265),\n",
       " ('rock, the', 0.83849305),\n",
       " ('fantasia 2000', 0.83838785)]"
      ]
     },
     "execution_count": 59,
     "metadata": {},
     "output_type": "execute_result"
    }
   ],
   "source": [
    "recommend(48)"
   ]
  },
  {
   "cell_type": "code",
   "execution_count": 60,
   "id": "respected-governor",
   "metadata": {},
   "outputs": [
    {
     "name": "stdout",
     "output_type": "stream",
     "text": [
      "원 장르 :  Crime|Drama|Sci-Fi\n"
     ]
    },
    {
     "data": {
      "text/html": [
       "<div>\n",
       "<style scoped>\n",
       "    .dataframe tbody tr th:only-of-type {\n",
       "        vertical-align: middle;\n",
       "    }\n",
       "\n",
       "    .dataframe tbody tr th {\n",
       "        vertical-align: top;\n",
       "    }\n",
       "\n",
       "    .dataframe thead th {\n",
       "        text-align: right;\n",
       "    }\n",
       "</style>\n",
       "<table border=\"1\" class=\"dataframe\">\n",
       "  <thead>\n",
       "    <tr style=\"text-align: right;\">\n",
       "      <th></th>\n",
       "      <th>title</th>\n",
       "      <th>score</th>\n",
       "      <th>genre</th>\n",
       "    </tr>\n",
       "  </thead>\n",
       "  <tbody>\n",
       "    <tr>\n",
       "      <th>0</th>\n",
       "      <td>breakfast at tiffany's</td>\n",
       "      <td>0.030017</td>\n",
       "      <td>Drama|Romance</td>\n",
       "    </tr>\n",
       "    <tr>\n",
       "      <th>1</th>\n",
       "      <td>shampoo</td>\n",
       "      <td>0.026383</td>\n",
       "      <td>Comedy|Romance</td>\n",
       "    </tr>\n",
       "    <tr>\n",
       "      <th>2</th>\n",
       "      <td>october sky</td>\n",
       "      <td>0.017764</td>\n",
       "      <td>Drama</td>\n",
       "    </tr>\n",
       "    <tr>\n",
       "      <th>3</th>\n",
       "      <td>help!</td>\n",
       "      <td>0.017426</td>\n",
       "      <td>Comedy|Musical</td>\n",
       "    </tr>\n",
       "    <tr>\n",
       "      <th>4</th>\n",
       "      <td>titanic</td>\n",
       "      <td>0.016558</td>\n",
       "      <td>Drama|Romance</td>\n",
       "    </tr>\n",
       "    <tr>\n",
       "      <th>5</th>\n",
       "      <td>odd couple, the</td>\n",
       "      <td>0.016481</td>\n",
       "      <td>Comedy</td>\n",
       "    </tr>\n",
       "    <tr>\n",
       "      <th>6</th>\n",
       "      <td>american beauty</td>\n",
       "      <td>0.015457</td>\n",
       "      <td>Comedy|Drama</td>\n",
       "    </tr>\n",
       "    <tr>\n",
       "      <th>7</th>\n",
       "      <td>superman</td>\n",
       "      <td>0.014821</td>\n",
       "      <td>Action|Adventure|Sci-Fi</td>\n",
       "    </tr>\n",
       "    <tr>\n",
       "      <th>8</th>\n",
       "      <td>jerk, the</td>\n",
       "      <td>0.013788</td>\n",
       "      <td>Comedy</td>\n",
       "    </tr>\n",
       "    <tr>\n",
       "      <th>9</th>\n",
       "      <td>wild bunch, the</td>\n",
       "      <td>0.013706</td>\n",
       "      <td>Western</td>\n",
       "    </tr>\n",
       "  </tbody>\n",
       "</table>\n",
       "</div>"
      ],
      "text/plain": [
       "                    title     score                    genre\n",
       "0  breakfast at tiffany's  0.030017            Drama|Romance\n",
       "1                 shampoo  0.026383           Comedy|Romance\n",
       "2             october sky  0.017764                    Drama\n",
       "3                   help!  0.017426           Comedy|Musical\n",
       "4                 titanic  0.016558            Drama|Romance\n",
       "5         odd couple, the  0.016481                   Comedy\n",
       "6         american beauty  0.015457             Comedy|Drama\n",
       "7                superman  0.014821  Action|Adventure|Sci-Fi\n",
       "8               jerk, the  0.013788                   Comedy\n",
       "9         wild bunch, the  0.013706                  Western"
      ]
     },
     "execution_count": 60,
     "metadata": {},
     "output_type": "execute_result"
    }
   ],
   "source": [
    "explainer(48, 'sneakers')"
   ]
  },
  {
   "cell_type": "markdown",
   "id": "adverse-screw",
   "metadata": {},
   "source": [
    "- 실제 영향을 미친 스코어를 볼 때는 추천받은 영화의 장르와 이전에 시청한 장르가 그렇게 큰 영향을 미치지는 않는다.\n",
    "- 시청한 영화의 개수가 많아서 그런가?\n",
    "- 48번 사용자가 시청한 영화 개수는 101개였다."
   ]
  },
  {
   "cell_type": "code",
   "execution_count": 61,
   "id": "standard-personality",
   "metadata": {},
   "outputs": [
    {
     "data": {
      "text/plain": [
       "user_id        1\n",
       "movie_id     101\n",
       "count          3\n",
       "timestamp     46\n",
       "dtype: int64"
      ]
     },
     "execution_count": 61,
     "metadata": {},
     "output_type": "execute_result"
    }
   ],
   "source": [
    "ratings[ratings['user_id']==48].nunique()"
   ]
  },
  {
   "cell_type": "markdown",
   "id": "quiet-development",
   "metadata": {},
   "source": [
    "# 회고"
   ]
  },
  {
   "cell_type": "markdown",
   "id": "close-great",
   "metadata": {},
   "source": [
    "- 다양한 OTT 서비스를 사용하면서 추천시스템에 불만을 느낀 적도 있었는데 직접 구현해보니 사용자가 만족할만한 성능을 내는 것은 어려운 일임을 다시 깨달았다.\n",
    "- 영화의 장르, 개봉년도, 리뷰를 남긴 시간대 등의 다양한 메타 정보를 적절하게 활용할 수 있는 방법을 찾아봐야겠다."
   ]
  }
 ],
 "metadata": {
  "kernelspec": {
   "display_name": "Python 3",
   "language": "python",
   "name": "python3"
  },
  "language_info": {
   "codemirror_mode": {
    "name": "ipython",
    "version": 3
   },
   "file_extension": ".py",
   "mimetype": "text/x-python",
   "name": "python",
   "nbconvert_exporter": "python",
   "pygments_lexer": "ipython3",
   "version": "3.7.9"
  }
 },
 "nbformat": 4,
 "nbformat_minor": 5
}
