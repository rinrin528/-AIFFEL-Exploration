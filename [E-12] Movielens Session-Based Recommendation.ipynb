{
 "cells": [
  {
   "cell_type": "markdown",
   "id": "early-empty",
   "metadata": {},
   "source": [
    "# Movielens 영화 데이터 기반 Session-Based Recommendation"
   ]
  },
  {
   "cell_type": "markdown",
   "id": "fewer-wireless",
   "metadata": {},
   "source": [
    "# step1) 데이터 불러오기 및 확인"
   ]
  },
  {
   "cell_type": "markdown",
   "id": "gentle-stand",
   "metadata": {},
   "source": [
    "## 1-1. 필요 패키지 임포트"
   ]
  },
  {
   "cell_type": "code",
   "execution_count": 2,
   "id": "anticipated-maldives",
   "metadata": {},
   "outputs": [],
   "source": [
    "from pathlib import Path\n",
    "import os\n",
    "\n",
    "import pandas as pd\n",
    "import numpy as np\n",
    "import datetime as dt\n",
    "from datetime import datetime, timedelta\n",
    "\n",
    "import matplotlib.pyplot as plt\n",
    "import seaborn as sns\n",
    "\n",
    "import warnings\n",
    "warnings.filterwarnings('ignore')\n",
    "from IPython.core.interactiveshell import InteractiveShell\n",
    "InteractiveShell.ast_node_interactivity = 'all'"
   ]
  },
  {
   "cell_type": "markdown",
   "id": "superb-penetration",
   "metadata": {},
   "source": [
    "## 1-2. 데이터 불러오기"
   ]
  },
  {
   "cell_type": "code",
   "execution_count": 3,
   "id": "hidden-fellowship",
   "metadata": {},
   "outputs": [],
   "source": [
    "data_path = Path(os.getenv('HOME')+'/aiffel/enode12/yoochoose/data/') \n",
    "train_path = data_path / 'ratings.dat'"
   ]
  },
  {
   "cell_type": "code",
   "execution_count": 4,
   "id": "palestinian-laptop",
   "metadata": {
    "scrolled": false
   },
   "outputs": [
    {
     "data": {
      "text/html": [
       "<div>\n",
       "<style scoped>\n",
       "    .dataframe tbody tr th:only-of-type {\n",
       "        vertical-align: middle;\n",
       "    }\n",
       "\n",
       "    .dataframe tbody tr th {\n",
       "        vertical-align: top;\n",
       "    }\n",
       "\n",
       "    .dataframe thead th {\n",
       "        text-align: right;\n",
       "    }\n",
       "</style>\n",
       "<table border=\"1\" class=\"dataframe\">\n",
       "  <thead>\n",
       "    <tr style=\"text-align: right;\">\n",
       "      <th></th>\n",
       "      <th>UserId</th>\n",
       "      <th>ItemId</th>\n",
       "      <th>Rating</th>\n",
       "      <th>Time</th>\n",
       "    </tr>\n",
       "  </thead>\n",
       "  <tbody>\n",
       "    <tr>\n",
       "      <th>31</th>\n",
       "      <td>1</td>\n",
       "      <td>3186</td>\n",
       "      <td>4</td>\n",
       "      <td>978300019</td>\n",
       "    </tr>\n",
       "    <tr>\n",
       "      <th>22</th>\n",
       "      <td>1</td>\n",
       "      <td>1270</td>\n",
       "      <td>5</td>\n",
       "      <td>978300055</td>\n",
       "    </tr>\n",
       "    <tr>\n",
       "      <th>27</th>\n",
       "      <td>1</td>\n",
       "      <td>1721</td>\n",
       "      <td>4</td>\n",
       "      <td>978300055</td>\n",
       "    </tr>\n",
       "    <tr>\n",
       "      <th>37</th>\n",
       "      <td>1</td>\n",
       "      <td>1022</td>\n",
       "      <td>5</td>\n",
       "      <td>978300055</td>\n",
       "    </tr>\n",
       "    <tr>\n",
       "      <th>24</th>\n",
       "      <td>1</td>\n",
       "      <td>2340</td>\n",
       "      <td>3</td>\n",
       "      <td>978300103</td>\n",
       "    </tr>\n",
       "    <tr>\n",
       "      <th>...</th>\n",
       "      <td>...</td>\n",
       "      <td>...</td>\n",
       "      <td>...</td>\n",
       "      <td>...</td>\n",
       "    </tr>\n",
       "    <tr>\n",
       "      <th>1000019</th>\n",
       "      <td>6040</td>\n",
       "      <td>2917</td>\n",
       "      <td>4</td>\n",
       "      <td>997454429</td>\n",
       "    </tr>\n",
       "    <tr>\n",
       "      <th>999988</th>\n",
       "      <td>6040</td>\n",
       "      <td>1921</td>\n",
       "      <td>4</td>\n",
       "      <td>997454464</td>\n",
       "    </tr>\n",
       "    <tr>\n",
       "      <th>1000172</th>\n",
       "      <td>6040</td>\n",
       "      <td>1784</td>\n",
       "      <td>3</td>\n",
       "      <td>997454464</td>\n",
       "    </tr>\n",
       "    <tr>\n",
       "      <th>1000167</th>\n",
       "      <td>6040</td>\n",
       "      <td>161</td>\n",
       "      <td>3</td>\n",
       "      <td>997454486</td>\n",
       "    </tr>\n",
       "    <tr>\n",
       "      <th>1000042</th>\n",
       "      <td>6040</td>\n",
       "      <td>1221</td>\n",
       "      <td>4</td>\n",
       "      <td>998315055</td>\n",
       "    </tr>\n",
       "  </tbody>\n",
       "</table>\n",
       "<p>1000209 rows × 4 columns</p>\n",
       "</div>"
      ],
      "text/plain": [
       "         UserId  ItemId  Rating       Time\n",
       "31            1    3186       4  978300019\n",
       "22            1    1270       5  978300055\n",
       "27            1    1721       4  978300055\n",
       "37            1    1022       5  978300055\n",
       "24            1    2340       3  978300103\n",
       "...         ...     ...     ...        ...\n",
       "1000019    6040    2917       4  997454429\n",
       "999988     6040    1921       4  997454464\n",
       "1000172    6040    1784       3  997454464\n",
       "1000167    6040     161       3  997454486\n",
       "1000042    6040    1221       4  998315055\n",
       "\n",
       "[1000209 rows x 4 columns]"
      ]
     },
     "execution_count": 4,
     "metadata": {},
     "output_type": "execute_result"
    }
   ],
   "source": [
    "def load_data(data_path: Path, nrows=None):\n",
    "    data = pd.read_csv(data_path, sep='::', header=None, usecols=[0, 1, 2, 3], dtype={0: np.int32, 1: np.int32, 2: np.int32}, nrows=nrows)\n",
    "    data.columns = ['UserId', 'ItemId', 'Rating', 'Time']\n",
    "    return data\n",
    "\n",
    "data = load_data(train_path, None)\n",
    "data.sort_values(['UserId', 'Time'], inplace=True)  # data를 id와 시간 순서로 정렬해줍니다.\n",
    "data"
   ]
  },
  {
   "cell_type": "markdown",
   "id": "colored-central",
   "metadata": {},
   "source": [
    "# step2) 데이터 분석"
   ]
  },
  {
   "cell_type": "markdown",
   "id": "emerging-suffering",
   "metadata": {},
   "source": [
    "간단히 구성해 본 데이터셋을 꼼꼼이 살펴보면서 항목별 기본분석, session length, session time, cleaning 등의 작업을 진행합니다.\n",
    "특히, 이 데이터셋에서는 Session이 아닌 UserID 단위로 데이터가 생성되어 있으므로, 이를 Session 단위로 어떻게 해석할지에 주의합니다."
   ]
  },
  {
   "cell_type": "code",
   "execution_count": 5,
   "id": "applicable-aside",
   "metadata": {},
   "outputs": [
    {
     "name": "stdout",
     "output_type": "stream",
     "text": [
      "<class 'pandas.core.frame.DataFrame'>\n",
      "Int64Index: 1000209 entries, 31 to 1000042\n",
      "Data columns (total 4 columns):\n",
      " #   Column  Non-Null Count    Dtype\n",
      "---  ------  --------------    -----\n",
      " 0   UserId  1000209 non-null  int32\n",
      " 1   ItemId  1000209 non-null  int32\n",
      " 2   Rating  1000209 non-null  int32\n",
      " 3   Time    1000209 non-null  int64\n",
      "dtypes: int32(3), int64(1)\n",
      "memory usage: 26.7 MB\n"
     ]
    }
   ],
   "source": [
    "data.info()"
   ]
  },
  {
   "cell_type": "markdown",
   "id": "level-palace",
   "metadata": {},
   "source": [
    "## 2-1. `Time` 변수 `datetime` 형으로 변환\n",
    "- `Time` 변수가 `int64` 타입이다.\n",
    "- 데이터 파악 및 날짜 계산을 쉽게 하기 위해 `datatime` 형식으로 바꿔주자\n",
    "    1. `Time` 변수를 문자열 형식으로 변환\n",
    "    2. 문자열 형식을 다시 `datetime`형식으로 변환"
   ]
  },
  {
   "cell_type": "code",
   "execution_count": 6,
   "id": "integral-portugal",
   "metadata": {},
   "outputs": [
    {
     "name": "stdout",
     "output_type": "stream",
     "text": [
      "<class 'pandas.core.frame.DataFrame'>\n",
      "Int64Index: 1000209 entries, 31 to 1000042\n",
      "Data columns (total 5 columns):\n",
      " #   Column  Non-Null Count    Dtype \n",
      "---  ------  --------------    ----- \n",
      " 0   UserId  1000209 non-null  int32 \n",
      " 1   ItemId  1000209 non-null  int32 \n",
      " 2   Rating  1000209 non-null  int32 \n",
      " 3   Time    1000209 non-null  int64 \n",
      " 4   UTC     1000209 non-null  object\n",
      "dtypes: int32(3), int64(1), object(1)\n",
      "memory usage: 34.3+ MB\n"
     ]
    }
   ],
   "source": [
    "data['UTC'] = data['Time'].astype('str')\n",
    "data.info()"
   ]
  },
  {
   "cell_type": "code",
   "execution_count": 7,
   "id": "digital-colombia",
   "metadata": {},
   "outputs": [],
   "source": [
    "# unit='s'는 초단위까지 보여줌\n",
    "data['UTC'] = pd.to_datetime(data['UTC'], unit='s')"
   ]
  },
  {
   "cell_type": "markdown",
   "id": "fifth-samoa",
   "metadata": {},
   "source": [
    "- 변환 후 데이터"
   ]
  },
  {
   "cell_type": "code",
   "execution_count": 8,
   "id": "built-dover",
   "metadata": {},
   "outputs": [
    {
     "data": {
      "text/html": [
       "<div>\n",
       "<style scoped>\n",
       "    .dataframe tbody tr th:only-of-type {\n",
       "        vertical-align: middle;\n",
       "    }\n",
       "\n",
       "    .dataframe tbody tr th {\n",
       "        vertical-align: top;\n",
       "    }\n",
       "\n",
       "    .dataframe thead th {\n",
       "        text-align: right;\n",
       "    }\n",
       "</style>\n",
       "<table border=\"1\" class=\"dataframe\">\n",
       "  <thead>\n",
       "    <tr style=\"text-align: right;\">\n",
       "      <th></th>\n",
       "      <th>UserId</th>\n",
       "      <th>ItemId</th>\n",
       "      <th>Rating</th>\n",
       "      <th>Time</th>\n",
       "      <th>UTC</th>\n",
       "    </tr>\n",
       "  </thead>\n",
       "  <tbody>\n",
       "    <tr>\n",
       "      <th>31</th>\n",
       "      <td>1</td>\n",
       "      <td>3186</td>\n",
       "      <td>4</td>\n",
       "      <td>978300019</td>\n",
       "      <td>2000-12-31 22:00:19</td>\n",
       "    </tr>\n",
       "    <tr>\n",
       "      <th>22</th>\n",
       "      <td>1</td>\n",
       "      <td>1270</td>\n",
       "      <td>5</td>\n",
       "      <td>978300055</td>\n",
       "      <td>2000-12-31 22:00:55</td>\n",
       "    </tr>\n",
       "    <tr>\n",
       "      <th>27</th>\n",
       "      <td>1</td>\n",
       "      <td>1721</td>\n",
       "      <td>4</td>\n",
       "      <td>978300055</td>\n",
       "      <td>2000-12-31 22:00:55</td>\n",
       "    </tr>\n",
       "    <tr>\n",
       "      <th>37</th>\n",
       "      <td>1</td>\n",
       "      <td>1022</td>\n",
       "      <td>5</td>\n",
       "      <td>978300055</td>\n",
       "      <td>2000-12-31 22:00:55</td>\n",
       "    </tr>\n",
       "    <tr>\n",
       "      <th>24</th>\n",
       "      <td>1</td>\n",
       "      <td>2340</td>\n",
       "      <td>3</td>\n",
       "      <td>978300103</td>\n",
       "      <td>2000-12-31 22:01:43</td>\n",
       "    </tr>\n",
       "  </tbody>\n",
       "</table>\n",
       "</div>"
      ],
      "text/plain": [
       "    UserId  ItemId  Rating       Time                 UTC\n",
       "31       1    3186       4  978300019 2000-12-31 22:00:19\n",
       "22       1    1270       5  978300055 2000-12-31 22:00:55\n",
       "27       1    1721       4  978300055 2000-12-31 22:00:55\n",
       "37       1    1022       5  978300055 2000-12-31 22:00:55\n",
       "24       1    2340       3  978300103 2000-12-31 22:01:43"
      ]
     },
     "execution_count": 8,
     "metadata": {},
     "output_type": "execute_result"
    },
    {
     "data": {
      "text/html": [
       "<div>\n",
       "<style scoped>\n",
       "    .dataframe tbody tr th:only-of-type {\n",
       "        vertical-align: middle;\n",
       "    }\n",
       "\n",
       "    .dataframe tbody tr th {\n",
       "        vertical-align: top;\n",
       "    }\n",
       "\n",
       "    .dataframe thead th {\n",
       "        text-align: right;\n",
       "    }\n",
       "</style>\n",
       "<table border=\"1\" class=\"dataframe\">\n",
       "  <thead>\n",
       "    <tr style=\"text-align: right;\">\n",
       "      <th></th>\n",
       "      <th>UserId</th>\n",
       "      <th>ItemId</th>\n",
       "      <th>Rating</th>\n",
       "      <th>Time</th>\n",
       "      <th>UTC</th>\n",
       "    </tr>\n",
       "  </thead>\n",
       "  <tbody>\n",
       "    <tr>\n",
       "      <th>1000019</th>\n",
       "      <td>6040</td>\n",
       "      <td>2917</td>\n",
       "      <td>4</td>\n",
       "      <td>997454429</td>\n",
       "      <td>2001-08-10 14:40:29</td>\n",
       "    </tr>\n",
       "    <tr>\n",
       "      <th>999988</th>\n",
       "      <td>6040</td>\n",
       "      <td>1921</td>\n",
       "      <td>4</td>\n",
       "      <td>997454464</td>\n",
       "      <td>2001-08-10 14:41:04</td>\n",
       "    </tr>\n",
       "    <tr>\n",
       "      <th>1000172</th>\n",
       "      <td>6040</td>\n",
       "      <td>1784</td>\n",
       "      <td>3</td>\n",
       "      <td>997454464</td>\n",
       "      <td>2001-08-10 14:41:04</td>\n",
       "    </tr>\n",
       "    <tr>\n",
       "      <th>1000167</th>\n",
       "      <td>6040</td>\n",
       "      <td>161</td>\n",
       "      <td>3</td>\n",
       "      <td>997454486</td>\n",
       "      <td>2001-08-10 14:41:26</td>\n",
       "    </tr>\n",
       "    <tr>\n",
       "      <th>1000042</th>\n",
       "      <td>6040</td>\n",
       "      <td>1221</td>\n",
       "      <td>4</td>\n",
       "      <td>998315055</td>\n",
       "      <td>2001-08-20 13:44:15</td>\n",
       "    </tr>\n",
       "  </tbody>\n",
       "</table>\n",
       "</div>"
      ],
      "text/plain": [
       "         UserId  ItemId  Rating       Time                 UTC\n",
       "1000019    6040    2917       4  997454429 2001-08-10 14:40:29\n",
       "999988     6040    1921       4  997454464 2001-08-10 14:41:04\n",
       "1000172    6040    1784       3  997454464 2001-08-10 14:41:04\n",
       "1000167    6040     161       3  997454486 2001-08-10 14:41:26\n",
       "1000042    6040    1221       4  998315055 2001-08-20 13:44:15"
      ]
     },
     "execution_count": 8,
     "metadata": {},
     "output_type": "execute_result"
    }
   ],
   "source": [
    "data.head()\n",
    "data.tail()"
   ]
  },
  {
   "cell_type": "markdown",
   "id": "finished-testament",
   "metadata": {},
   "source": [
    "## 2-2. 데이터 확인\n",
    "- 각 변수의 범위와 구성을 확인해보자"
   ]
  },
  {
   "cell_type": "code",
   "execution_count": 9,
   "id": "powerful-creek",
   "metadata": {},
   "outputs": [
    {
     "name": "stdout",
     "output_type": "stream",
     "text": [
      "|UserId|1~6040| 6040 |\n",
      "|ItemId|1~3952| 3706 |\n",
      "|Rating|1~5| 5 |\n",
      "|Time|956703932~1046454590| 458455 |\n",
      "|UTC|2000-04-25 23:05:32~2003-02-28 17:49:50| 458455 |\n"
     ]
    }
   ],
   "source": [
    "# 마크 다운 정리를 위한 코드\n",
    "for col in data.columns:\n",
    "    mini = data[col].min()\n",
    "    maxi = data[col].max()\n",
    "    print(f'|{col}|{mini}~{maxi}|',data[col].nunique(),'|')"
   ]
  },
  {
   "cell_type": "markdown",
   "id": "explicit-subdivision",
   "metadata": {},
   "source": [
    "### 데이터 구성\n",
    "|컬럼명|설명|데이터 범위|유니크값 개수|\n",
    "|------|----------|--------|----|\n",
    "|UserId|사용자 ID|1~6040| 6040 |\n",
    "|ItemId|영화 ID|1~3952| 3706 |\n",
    "|Rating|별점|1~5| 5 |\n",
    "|Time|별점 부여 시간 (int64)|956703932~1046454590| 458455 |\n",
    "|UTC|별점 부여 시간 (UTC)|2000-04-25 23:05:32~2003-02-28 17:49:50| 458455 |"
   ]
  },
  {
   "cell_type": "markdown",
   "id": "random-beatles",
   "metadata": {},
   "source": [
    "- MovieLens 데이터에는 `SessionID` 대신 `UserID` 항목이 있다.\n",
    "    - 같은 UserID더라도 별점을 남긴 시간에 따라 다른 세션으로 구분하는 것이 시계열적인 변화를 확인하는데 좋을 것이다.\n",
    "- Rating 정보가 포함된다.\n",
    "    - 직전에 봤던 영화를 선호하지 않는 경우 비슷한 영화를 추천해도 좋지 않을 것이다.\n",
    "    - Rating이 낮은 데이터를 제거해보자.\n",
    "- Time 변수는 1970년 1월 1일부터 경과된 초단위 시간을 정수로 저장한다.\n",
    "    - datetime형으로 변환한 `UTC` 컬럼을 추가하자."
   ]
  },
  {
   "cell_type": "markdown",
   "id": "suspected-inspiration",
   "metadata": {},
   "source": [
    "### 평점 분포 확인"
   ]
  },
  {
   "cell_type": "code",
   "execution_count": 150,
   "id": "taken-position",
   "metadata": {},
   "outputs": [
    {
     "data": {
      "text/plain": [
       "<AxesSubplot:xlabel='Rating', ylabel='Density'>"
      ]
     },
     "execution_count": 150,
     "metadata": {},
     "output_type": "execute_result"
    },
    {
     "data": {
      "text/plain": [
       "<function matplotlib.pyplot.show(close=None, block=None)>"
      ]
     },
     "execution_count": 150,
     "metadata": {},
     "output_type": "execute_result"
    },
    {
     "data": {
      "image/png": "[encoded data removed]",
      "text/plain": [
       "<Figure size 432x288 with 1 Axes>"
      ]
     },
     "metadata": {
      "needs_background": "light"
     },
     "output_type": "display_data"
    }
   ],
   "source": [
    "sns.distplot(data['Rating'])\n",
    "plt.show"
   ]
  },
  {
   "cell_type": "markdown",
   "id": "abandoned-cabin",
   "metadata": {},
   "source": [
    "- 과반수 이상의 데이터가 3~5점이다 3점 이하의 별점 데이터는 버려도 될 듯 하다."
   ]
  },
  {
   "cell_type": "markdown",
   "id": "abroad-stage",
   "metadata": {},
   "source": [
    "## 2-3. 시간 분석\n",
    "- `SessionId` 대신 `UserId`와 별점을 남긴 시간 정보가 있다.\n",
    "- 어떤 간격을 하나의 세션으로 볼 것인가?"
   ]
  },
  {
   "cell_type": "markdown",
   "id": "forced-resident",
   "metadata": {},
   "source": [
    "- 시간 연산을 쉽게 하기 위해서 `UTC`를 index로 pivot한다.\n",
    "- `UTC`를 기준으로 정렬해 한 사용자가 연달아서 별점을 남긴 시간대를 확인해보자."
   ]
  },
  {
   "cell_type": "markdown",
   "id": "alpine-lindsay",
   "metadata": {},
   "source": [
    "- 어떤 사용자의 경우 1시간 내내 평가를 진행하고 있는 것을 볼 수 있다."
   ]
  },
  {
   "cell_type": "code",
   "execution_count": 10,
   "id": "resident-consent",
   "metadata": {
    "scrolled": true
   },
   "outputs": [
    {
     "data": {
      "text/html": [
       "<div>\n",
       "<style scoped>\n",
       "    .dataframe tbody tr th:only-of-type {\n",
       "        vertical-align: middle;\n",
       "    }\n",
       "\n",
       "    .dataframe tbody tr th {\n",
       "        vertical-align: top;\n",
       "    }\n",
       "\n",
       "    .dataframe thead th {\n",
       "        text-align: right;\n",
       "    }\n",
       "</style>\n",
       "<table border=\"1\" class=\"dataframe\">\n",
       "  <thead>\n",
       "    <tr style=\"text-align: right;\">\n",
       "      <th></th>\n",
       "      <th>UserId</th>\n",
       "      <th>ItemId</th>\n",
       "      <th>Rating</th>\n",
       "    </tr>\n",
       "    <tr>\n",
       "      <th>UTC</th>\n",
       "      <th></th>\n",
       "      <th></th>\n",
       "      <th></th>\n",
       "    </tr>\n",
       "  </thead>\n",
       "  <tbody>\n",
       "    <tr>\n",
       "      <th>2000-04-25 23:05:32</th>\n",
       "      <td>6040</td>\n",
       "      <td>858</td>\n",
       "      <td>4</td>\n",
       "    </tr>\n",
       "    <tr>\n",
       "      <th>2000-04-25 23:05:54</th>\n",
       "      <td>6040</td>\n",
       "      <td>593</td>\n",
       "      <td>5</td>\n",
       "    </tr>\n",
       "    <tr>\n",
       "      <th>2000-04-25 23:05:54</th>\n",
       "      <td>6040</td>\n",
       "      <td>2384</td>\n",
       "      <td>4</td>\n",
       "    </tr>\n",
       "    <tr>\n",
       "      <th>2000-04-25 23:06:17</th>\n",
       "      <td>6040</td>\n",
       "      <td>1961</td>\n",
       "      <td>4</td>\n",
       "    </tr>\n",
       "    <tr>\n",
       "      <th>2000-04-25 23:06:17</th>\n",
       "      <td>6040</td>\n",
       "      <td>2019</td>\n",
       "      <td>5</td>\n",
       "    </tr>\n",
       "    <tr>\n",
       "      <th>2000-04-25 23:07:36</th>\n",
       "      <td>6040</td>\n",
       "      <td>573</td>\n",
       "      <td>4</td>\n",
       "    </tr>\n",
       "    <tr>\n",
       "      <th>2000-04-25 23:07:36</th>\n",
       "      <td>6040</td>\n",
       "      <td>1419</td>\n",
       "      <td>3</td>\n",
       "    </tr>\n",
       "    <tr>\n",
       "      <th>2000-04-25 23:07:36</th>\n",
       "      <td>6040</td>\n",
       "      <td>213</td>\n",
       "      <td>5</td>\n",
       "    </tr>\n",
       "    <tr>\n",
       "      <th>2000-04-25 23:07:36</th>\n",
       "      <td>6040</td>\n",
       "      <td>3111</td>\n",
       "      <td>5</td>\n",
       "    </tr>\n",
       "    <tr>\n",
       "      <th>2000-04-25 23:07:36</th>\n",
       "      <td>6040</td>\n",
       "      <td>3505</td>\n",
       "      <td>4</td>\n",
       "    </tr>\n",
       "    <tr>\n",
       "      <th>2000-04-25 23:08:01</th>\n",
       "      <td>6040</td>\n",
       "      <td>1734</td>\n",
       "      <td>2</td>\n",
       "    </tr>\n",
       "    <tr>\n",
       "      <th>2000-04-25 23:09:51</th>\n",
       "      <td>6040</td>\n",
       "      <td>919</td>\n",
       "      <td>5</td>\n",
       "    </tr>\n",
       "    <tr>\n",
       "      <th>2000-04-25 23:09:51</th>\n",
       "      <td>6040</td>\n",
       "      <td>2503</td>\n",
       "      <td>5</td>\n",
       "    </tr>\n",
       "    <tr>\n",
       "      <th>2000-04-25 23:09:51</th>\n",
       "      <td>6040</td>\n",
       "      <td>912</td>\n",
       "      <td>5</td>\n",
       "    </tr>\n",
       "    <tr>\n",
       "      <th>2000-04-25 23:10:19</th>\n",
       "      <td>6040</td>\n",
       "      <td>527</td>\n",
       "      <td>5</td>\n",
       "    </tr>\n",
       "    <tr>\n",
       "      <th>2000-04-25 23:10:57</th>\n",
       "      <td>6040</td>\n",
       "      <td>649</td>\n",
       "      <td>5</td>\n",
       "    </tr>\n",
       "    <tr>\n",
       "      <th>2000-04-25 23:10:57</th>\n",
       "      <td>6040</td>\n",
       "      <td>318</td>\n",
       "      <td>4</td>\n",
       "    </tr>\n",
       "    <tr>\n",
       "      <th>2000-04-25 23:10:57</th>\n",
       "      <td>6040</td>\n",
       "      <td>1252</td>\n",
       "      <td>5</td>\n",
       "    </tr>\n",
       "    <tr>\n",
       "      <th>2000-04-25 23:11:45</th>\n",
       "      <td>6040</td>\n",
       "      <td>3289</td>\n",
       "      <td>5</td>\n",
       "    </tr>\n",
       "    <tr>\n",
       "      <th>2000-04-25 23:14:08</th>\n",
       "      <td>6040</td>\n",
       "      <td>759</td>\n",
       "      <td>5</td>\n",
       "    </tr>\n",
       "    <tr>\n",
       "      <th>2000-04-25 23:14:35</th>\n",
       "      <td>6040</td>\n",
       "      <td>608</td>\n",
       "      <td>4</td>\n",
       "    </tr>\n",
       "    <tr>\n",
       "      <th>2000-04-25 23:14:35</th>\n",
       "      <td>6040</td>\n",
       "      <td>2858</td>\n",
       "      <td>4</td>\n",
       "    </tr>\n",
       "    <tr>\n",
       "      <th>2000-04-25 23:14:35</th>\n",
       "      <td>6040</td>\n",
       "      <td>2396</td>\n",
       "      <td>3</td>\n",
       "    </tr>\n",
       "    <tr>\n",
       "      <th>2000-04-25 23:15:19</th>\n",
       "      <td>6040</td>\n",
       "      <td>1649</td>\n",
       "      <td>5</td>\n",
       "    </tr>\n",
       "    <tr>\n",
       "      <th>2000-04-25 23:15:19</th>\n",
       "      <td>6040</td>\n",
       "      <td>2028</td>\n",
       "      <td>5</td>\n",
       "    </tr>\n",
       "    <tr>\n",
       "      <th>2000-04-25 23:15:19</th>\n",
       "      <td>6040</td>\n",
       "      <td>326</td>\n",
       "      <td>4</td>\n",
       "    </tr>\n",
       "    <tr>\n",
       "      <th>2000-04-25 23:16:24</th>\n",
       "      <td>6040</td>\n",
       "      <td>17</td>\n",
       "      <td>3</td>\n",
       "    </tr>\n",
       "    <tr>\n",
       "      <th>2000-04-25 23:16:24</th>\n",
       "      <td>6040</td>\n",
       "      <td>2762</td>\n",
       "      <td>4</td>\n",
       "    </tr>\n",
       "    <tr>\n",
       "      <th>2000-04-25 23:16:24</th>\n",
       "      <td>6040</td>\n",
       "      <td>34</td>\n",
       "      <td>4</td>\n",
       "    </tr>\n",
       "    <tr>\n",
       "      <th>2000-04-25 23:16:53</th>\n",
       "      <td>6040</td>\n",
       "      <td>246</td>\n",
       "      <td>5</td>\n",
       "    </tr>\n",
       "    <tr>\n",
       "      <th>2000-04-25 23:17:36</th>\n",
       "      <td>6040</td>\n",
       "      <td>2692</td>\n",
       "      <td>4</td>\n",
       "    </tr>\n",
       "    <tr>\n",
       "      <th>2000-04-25 23:17:53</th>\n",
       "      <td>6040</td>\n",
       "      <td>1617</td>\n",
       "      <td>4</td>\n",
       "    </tr>\n",
       "    <tr>\n",
       "      <th>2000-04-25 23:18:36</th>\n",
       "      <td>6040</td>\n",
       "      <td>1111</td>\n",
       "      <td>5</td>\n",
       "    </tr>\n",
       "    <tr>\n",
       "      <th>2000-04-25 23:18:36</th>\n",
       "      <td>6040</td>\n",
       "      <td>300</td>\n",
       "      <td>2</td>\n",
       "    </tr>\n",
       "    <tr>\n",
       "      <th>2000-04-25 23:18:36</th>\n",
       "      <td>6040</td>\n",
       "      <td>1392</td>\n",
       "      <td>5</td>\n",
       "    </tr>\n",
       "    <tr>\n",
       "      <th>2000-04-25 23:18:36</th>\n",
       "      <td>6040</td>\n",
       "      <td>150</td>\n",
       "      <td>3</td>\n",
       "    </tr>\n",
       "    <tr>\n",
       "      <th>2000-04-25 23:19:06</th>\n",
       "      <td>6040</td>\n",
       "      <td>549</td>\n",
       "      <td>4</td>\n",
       "    </tr>\n",
       "    <tr>\n",
       "      <th>2000-04-25 23:19:06</th>\n",
       "      <td>6040</td>\n",
       "      <td>562</td>\n",
       "      <td>5</td>\n",
       "    </tr>\n",
       "    <tr>\n",
       "      <th>2000-04-25 23:19:48</th>\n",
       "      <td>6040</td>\n",
       "      <td>866</td>\n",
       "      <td>4</td>\n",
       "    </tr>\n",
       "    <tr>\n",
       "      <th>2000-04-25 23:19:48</th>\n",
       "      <td>6040</td>\n",
       "      <td>1554</td>\n",
       "      <td>2</td>\n",
       "    </tr>\n",
       "    <tr>\n",
       "      <th>2000-04-25 23:19:48</th>\n",
       "      <td>6040</td>\n",
       "      <td>448</td>\n",
       "      <td>4</td>\n",
       "    </tr>\n",
       "    <tr>\n",
       "      <th>2000-04-25 23:19:48</th>\n",
       "      <td>6040</td>\n",
       "      <td>265</td>\n",
       "      <td>3</td>\n",
       "    </tr>\n",
       "    <tr>\n",
       "      <th>2000-04-25 23:19:48</th>\n",
       "      <td>6040</td>\n",
       "      <td>1537</td>\n",
       "      <td>5</td>\n",
       "    </tr>\n",
       "    <tr>\n",
       "      <th>2000-04-25 23:20:29</th>\n",
       "      <td>6040</td>\n",
       "      <td>1358</td>\n",
       "      <td>3</td>\n",
       "    </tr>\n",
       "    <tr>\n",
       "      <th>2000-04-25 23:20:29</th>\n",
       "      <td>6040</td>\n",
       "      <td>2324</td>\n",
       "      <td>3</td>\n",
       "    </tr>\n",
       "    <tr>\n",
       "      <th>2000-04-25 23:20:54</th>\n",
       "      <td>6040</td>\n",
       "      <td>235</td>\n",
       "      <td>2</td>\n",
       "    </tr>\n",
       "    <tr>\n",
       "      <th>2000-04-25 23:20:54</th>\n",
       "      <td>6040</td>\n",
       "      <td>247</td>\n",
       "      <td>2</td>\n",
       "    </tr>\n",
       "    <tr>\n",
       "      <th>2000-04-25 23:20:54</th>\n",
       "      <td>6040</td>\n",
       "      <td>446</td>\n",
       "      <td>4</td>\n",
       "    </tr>\n",
       "    <tr>\n",
       "      <th>2000-04-25 23:21:27</th>\n",
       "      <td>6040</td>\n",
       "      <td>1704</td>\n",
       "      <td>3</td>\n",
       "    </tr>\n",
       "    <tr>\n",
       "      <th>2000-04-25 23:21:27</th>\n",
       "      <td>6040</td>\n",
       "      <td>1094</td>\n",
       "      <td>5</td>\n",
       "    </tr>\n",
       "    <tr>\n",
       "      <th>2000-04-25 23:21:51</th>\n",
       "      <td>6040</td>\n",
       "      <td>50</td>\n",
       "      <td>4</td>\n",
       "    </tr>\n",
       "    <tr>\n",
       "      <th>2000-04-25 23:22:33</th>\n",
       "      <td>6040</td>\n",
       "      <td>162</td>\n",
       "      <td>4</td>\n",
       "    </tr>\n",
       "    <tr>\n",
       "      <th>2000-04-25 23:22:33</th>\n",
       "      <td>6040</td>\n",
       "      <td>45</td>\n",
       "      <td>3</td>\n",
       "    </tr>\n",
       "    <tr>\n",
       "      <th>2000-04-25 23:22:52</th>\n",
       "      <td>6040</td>\n",
       "      <td>508</td>\n",
       "      <td>4</td>\n",
       "    </tr>\n",
       "    <tr>\n",
       "      <th>2000-04-25 23:22:52</th>\n",
       "      <td>6040</td>\n",
       "      <td>348</td>\n",
       "      <td>2</td>\n",
       "    </tr>\n",
       "    <tr>\n",
       "      <th>2000-04-25 23:23:16</th>\n",
       "      <td>6040</td>\n",
       "      <td>589</td>\n",
       "      <td>4</td>\n",
       "    </tr>\n",
       "    <tr>\n",
       "      <th>2000-04-25 23:23:16</th>\n",
       "      <td>6040</td>\n",
       "      <td>1089</td>\n",
       "      <td>4</td>\n",
       "    </tr>\n",
       "    <tr>\n",
       "      <th>2000-04-25 23:23:53</th>\n",
       "      <td>6040</td>\n",
       "      <td>58</td>\n",
       "      <td>5</td>\n",
       "    </tr>\n",
       "    <tr>\n",
       "      <th>2000-04-25 23:24:16</th>\n",
       "      <td>6040</td>\n",
       "      <td>2580</td>\n",
       "      <td>4</td>\n",
       "    </tr>\n",
       "    <tr>\n",
       "      <th>2000-04-25 23:24:16</th>\n",
       "      <td>6040</td>\n",
       "      <td>1694</td>\n",
       "      <td>3</td>\n",
       "    </tr>\n",
       "  </tbody>\n",
       "</table>\n",
       "</div>"
      ],
      "text/plain": [
       "                     UserId  ItemId  Rating\n",
       "UTC                                        \n",
       "2000-04-25 23:05:32    6040     858       4\n",
       "2000-04-25 23:05:54    6040     593       5\n",
       "2000-04-25 23:05:54    6040    2384       4\n",
       "2000-04-25 23:06:17    6040    1961       4\n",
       "2000-04-25 23:06:17    6040    2019       5\n",
       "2000-04-25 23:07:36    6040     573       4\n",
       "2000-04-25 23:07:36    6040    1419       3\n",
       "2000-04-25 23:07:36    6040     213       5\n",
       "2000-04-25 23:07:36    6040    3111       5\n",
       "2000-04-25 23:07:36    6040    3505       4\n",
       "2000-04-25 23:08:01    6040    1734       2\n",
       "2000-04-25 23:09:51    6040     919       5\n",
       "2000-04-25 23:09:51    6040    2503       5\n",
       "2000-04-25 23:09:51    6040     912       5\n",
       "2000-04-25 23:10:19    6040     527       5\n",
       "2000-04-25 23:10:57    6040     649       5\n",
       "2000-04-25 23:10:57    6040     318       4\n",
       "2000-04-25 23:10:57    6040    1252       5\n",
       "2000-04-25 23:11:45    6040    3289       5\n",
       "2000-04-25 23:14:08    6040     759       5\n",
       "2000-04-25 23:14:35    6040     608       4\n",
       "2000-04-25 23:14:35    6040    2858       4\n",
       "2000-04-25 23:14:35    6040    2396       3\n",
       "2000-04-25 23:15:19    6040    1649       5\n",
       "2000-04-25 23:15:19    6040    2028       5\n",
       "2000-04-25 23:15:19    6040     326       4\n",
       "2000-04-25 23:16:24    6040      17       3\n",
       "2000-04-25 23:16:24    6040    2762       4\n",
       "2000-04-25 23:16:24    6040      34       4\n",
       "2000-04-25 23:16:53    6040     246       5\n",
       "2000-04-25 23:17:36    6040    2692       4\n",
       "2000-04-25 23:17:53    6040    1617       4\n",
       "2000-04-25 23:18:36    6040    1111       5\n",
       "2000-04-25 23:18:36    6040     300       2\n",
       "2000-04-25 23:18:36    6040    1392       5\n",
       "2000-04-25 23:18:36    6040     150       3\n",
       "2000-04-25 23:19:06    6040     549       4\n",
       "2000-04-25 23:19:06    6040     562       5\n",
       "2000-04-25 23:19:48    6040     866       4\n",
       "2000-04-25 23:19:48    6040    1554       2\n",
       "2000-04-25 23:19:48    6040     448       4\n",
       "2000-04-25 23:19:48    6040     265       3\n",
       "2000-04-25 23:19:48    6040    1537       5\n",
       "2000-04-25 23:20:29    6040    1358       3\n",
       "2000-04-25 23:20:29    6040    2324       3\n",
       "2000-04-25 23:20:54    6040     235       2\n",
       "2000-04-25 23:20:54    6040     247       2\n",
       "2000-04-25 23:20:54    6040     446       4\n",
       "2000-04-25 23:21:27    6040    1704       3\n",
       "2000-04-25 23:21:27    6040    1094       5\n",
       "2000-04-25 23:21:51    6040      50       4\n",
       "2000-04-25 23:22:33    6040     162       4\n",
       "2000-04-25 23:22:33    6040      45       3\n",
       "2000-04-25 23:22:52    6040     508       4\n",
       "2000-04-25 23:22:52    6040     348       2\n",
       "2000-04-25 23:23:16    6040     589       4\n",
       "2000-04-25 23:23:16    6040    1089       4\n",
       "2000-04-25 23:23:53    6040      58       5\n",
       "2000-04-25 23:24:16    6040    2580       4\n",
       "2000-04-25 23:24:16    6040    1694       3"
      ]
     },
     "execution_count": 10,
     "metadata": {},
     "output_type": "execute_result"
    }
   ],
   "source": [
    "pivot = data.drop('Time', axis=1)\n",
    "pivot = pivot.set_index('UTC').sort_index()\n",
    "pivot.head(60)"
   ]
  },
  {
   "cell_type": "markdown",
   "id": "continued-state",
   "metadata": {},
   "source": [
    "- 30분 단위로 리샘플링 해본 경우 시간대별 사용자 명수와 평가 개수\n",
    "- 시간대에 값이 없는 경우도 꽤 존재한다."
   ]
  },
  {
   "cell_type": "code",
   "execution_count": 157,
   "id": "failing-hepatitis",
   "metadata": {
    "scrolled": false
   },
   "outputs": [
    {
     "data": {
      "text/html": [
       "<div>\n",
       "<style scoped>\n",
       "    .dataframe tbody tr th:only-of-type {\n",
       "        vertical-align: middle;\n",
       "    }\n",
       "\n",
       "    .dataframe tbody tr th {\n",
       "        vertical-align: top;\n",
       "    }\n",
       "\n",
       "    .dataframe thead th {\n",
       "        text-align: right;\n",
       "    }\n",
       "</style>\n",
       "<table border=\"1\" class=\"dataframe\">\n",
       "  <thead>\n",
       "    <tr style=\"text-align: right;\">\n",
       "      <th></th>\n",
       "      <th>UserId</th>\n",
       "      <th>ItemId</th>\n",
       "      <th>Rating</th>\n",
       "    </tr>\n",
       "    <tr>\n",
       "      <th>UTC</th>\n",
       "      <th></th>\n",
       "      <th></th>\n",
       "      <th></th>\n",
       "    </tr>\n",
       "  </thead>\n",
       "  <tbody>\n",
       "    <tr>\n",
       "      <th>2000-04-25 23:00:00</th>\n",
       "      <td>2</td>\n",
       "      <td>85</td>\n",
       "      <td>4</td>\n",
       "    </tr>\n",
       "    <tr>\n",
       "      <th>2000-04-25 23:30:00</th>\n",
       "      <td>2</td>\n",
       "      <td>100</td>\n",
       "      <td>4</td>\n",
       "    </tr>\n",
       "    <tr>\n",
       "      <th>2000-04-26 00:00:00</th>\n",
       "      <td>2</td>\n",
       "      <td>14</td>\n",
       "      <td>5</td>\n",
       "    </tr>\n",
       "    <tr>\n",
       "      <th>2000-04-26 00:30:00</th>\n",
       "      <td>2</td>\n",
       "      <td>231</td>\n",
       "      <td>5</td>\n",
       "    </tr>\n",
       "    <tr>\n",
       "      <th>2000-04-26 01:00:00</th>\n",
       "      <td>3</td>\n",
       "      <td>332</td>\n",
       "      <td>5</td>\n",
       "    </tr>\n",
       "    <tr>\n",
       "      <th>...</th>\n",
       "      <td>...</td>\n",
       "      <td>...</td>\n",
       "      <td>...</td>\n",
       "    </tr>\n",
       "    <tr>\n",
       "      <th>2003-02-28 15:30:00</th>\n",
       "      <td>0</td>\n",
       "      <td>0</td>\n",
       "      <td>0</td>\n",
       "    </tr>\n",
       "    <tr>\n",
       "      <th>2003-02-28 16:00:00</th>\n",
       "      <td>0</td>\n",
       "      <td>0</td>\n",
       "      <td>0</td>\n",
       "    </tr>\n",
       "    <tr>\n",
       "      <th>2003-02-28 16:30:00</th>\n",
       "      <td>0</td>\n",
       "      <td>0</td>\n",
       "      <td>0</td>\n",
       "    </tr>\n",
       "    <tr>\n",
       "      <th>2003-02-28 17:00:00</th>\n",
       "      <td>0</td>\n",
       "      <td>0</td>\n",
       "      <td>0</td>\n",
       "    </tr>\n",
       "    <tr>\n",
       "      <th>2003-02-28 17:30:00</th>\n",
       "      <td>1</td>\n",
       "      <td>8</td>\n",
       "      <td>4</td>\n",
       "    </tr>\n",
       "  </tbody>\n",
       "</table>\n",
       "<p>49862 rows × 3 columns</p>\n",
       "</div>"
      ],
      "text/plain": [
       "                     UserId  ItemId  Rating\n",
       "UTC                                        \n",
       "2000-04-25 23:00:00       2      85       4\n",
       "2000-04-25 23:30:00       2     100       4\n",
       "2000-04-26 00:00:00       2      14       5\n",
       "2000-04-26 00:30:00       2     231       5\n",
       "2000-04-26 01:00:00       3     332       5\n",
       "...                     ...     ...     ...\n",
       "2003-02-28 15:30:00       0       0       0\n",
       "2003-02-28 16:00:00       0       0       0\n",
       "2003-02-28 16:30:00       0       0       0\n",
       "2003-02-28 17:00:00       0       0       0\n",
       "2003-02-28 17:30:00       1       8       4\n",
       "\n",
       "[49862 rows x 3 columns]"
      ]
     },
     "execution_count": 157,
     "metadata": {},
     "output_type": "execute_result"
    }
   ],
   "source": [
    "pivot.resample('30min').nunique()"
   ]
  },
  {
   "cell_type": "markdown",
   "id": "dutch-danish",
   "metadata": {},
   "source": [
    "- 1시간 단위로 리샘플링해 사용자수와 평가개수 확인"
   ]
  },
  {
   "cell_type": "code",
   "execution_count": 158,
   "id": "worldwide-concern",
   "metadata": {
    "scrolled": true
   },
   "outputs": [
    {
     "data": {
      "text/html": [
       "<div>\n",
       "<style scoped>\n",
       "    .dataframe tbody tr th:only-of-type {\n",
       "        vertical-align: middle;\n",
       "    }\n",
       "\n",
       "    .dataframe tbody tr th {\n",
       "        vertical-align: top;\n",
       "    }\n",
       "\n",
       "    .dataframe thead th {\n",
       "        text-align: right;\n",
       "    }\n",
       "</style>\n",
       "<table border=\"1\" class=\"dataframe\">\n",
       "  <thead>\n",
       "    <tr style=\"text-align: right;\">\n",
       "      <th></th>\n",
       "      <th>UserId</th>\n",
       "      <th>ItemId</th>\n",
       "      <th>Rating</th>\n",
       "    </tr>\n",
       "    <tr>\n",
       "      <th>UTC</th>\n",
       "      <th></th>\n",
       "      <th></th>\n",
       "      <th></th>\n",
       "    </tr>\n",
       "  </thead>\n",
       "  <tbody>\n",
       "    <tr>\n",
       "      <th>2000-04-25 23:00:00</th>\n",
       "      <td>3</td>\n",
       "      <td>181</td>\n",
       "      <td>4</td>\n",
       "    </tr>\n",
       "    <tr>\n",
       "      <th>2000-04-26 00:00:00</th>\n",
       "      <td>3</td>\n",
       "      <td>241</td>\n",
       "      <td>5</td>\n",
       "    </tr>\n",
       "    <tr>\n",
       "      <th>2000-04-26 01:00:00</th>\n",
       "      <td>4</td>\n",
       "      <td>541</td>\n",
       "      <td>5</td>\n",
       "    </tr>\n",
       "    <tr>\n",
       "      <th>2000-04-26 02:00:00</th>\n",
       "      <td>6</td>\n",
       "      <td>354</td>\n",
       "      <td>5</td>\n",
       "    </tr>\n",
       "    <tr>\n",
       "      <th>2000-04-26 03:00:00</th>\n",
       "      <td>5</td>\n",
       "      <td>249</td>\n",
       "      <td>5</td>\n",
       "    </tr>\n",
       "    <tr>\n",
       "      <th>...</th>\n",
       "      <td>...</td>\n",
       "      <td>...</td>\n",
       "      <td>...</td>\n",
       "    </tr>\n",
       "    <tr>\n",
       "      <th>2003-02-28 13:00:00</th>\n",
       "      <td>1</td>\n",
       "      <td>2</td>\n",
       "      <td>2</td>\n",
       "    </tr>\n",
       "    <tr>\n",
       "      <th>2003-02-28 14:00:00</th>\n",
       "      <td>0</td>\n",
       "      <td>0</td>\n",
       "      <td>0</td>\n",
       "    </tr>\n",
       "    <tr>\n",
       "      <th>2003-02-28 15:00:00</th>\n",
       "      <td>1</td>\n",
       "      <td>1</td>\n",
       "      <td>1</td>\n",
       "    </tr>\n",
       "    <tr>\n",
       "      <th>2003-02-28 16:00:00</th>\n",
       "      <td>0</td>\n",
       "      <td>0</td>\n",
       "      <td>0</td>\n",
       "    </tr>\n",
       "    <tr>\n",
       "      <th>2003-02-28 17:00:00</th>\n",
       "      <td>1</td>\n",
       "      <td>8</td>\n",
       "      <td>4</td>\n",
       "    </tr>\n",
       "  </tbody>\n",
       "</table>\n",
       "<p>24931 rows × 3 columns</p>\n",
       "</div>"
      ],
      "text/plain": [
       "                     UserId  ItemId  Rating\n",
       "UTC                                        \n",
       "2000-04-25 23:00:00       3     181       4\n",
       "2000-04-26 00:00:00       3     241       5\n",
       "2000-04-26 01:00:00       4     541       5\n",
       "2000-04-26 02:00:00       6     354       5\n",
       "2000-04-26 03:00:00       5     249       5\n",
       "...                     ...     ...     ...\n",
       "2003-02-28 13:00:00       1       2       2\n",
       "2003-02-28 14:00:00       0       0       0\n",
       "2003-02-28 15:00:00       1       1       1\n",
       "2003-02-28 16:00:00       0       0       0\n",
       "2003-02-28 17:00:00       1       8       4\n",
       "\n",
       "[24931 rows x 3 columns]"
      ]
     },
     "execution_count": 158,
     "metadata": {},
     "output_type": "execute_result"
    }
   ],
   "source": [
    "pivot.resample('1h').nunique()"
   ]
  },
  {
   "cell_type": "markdown",
   "id": "photographic-ghost",
   "metadata": {},
   "source": [
    "- 2시간 단위로 리샘플링한 결과이다."
   ]
  },
  {
   "cell_type": "code",
   "execution_count": 231,
   "id": "subjective-province",
   "metadata": {
    "scrolled": false
   },
   "outputs": [
    {
     "data": {
      "text/html": [
       "<div>\n",
       "<style scoped>\n",
       "    .dataframe tbody tr th:only-of-type {\n",
       "        vertical-align: middle;\n",
       "    }\n",
       "\n",
       "    .dataframe tbody tr th {\n",
       "        vertical-align: top;\n",
       "    }\n",
       "\n",
       "    .dataframe thead th {\n",
       "        text-align: right;\n",
       "    }\n",
       "</style>\n",
       "<table border=\"1\" class=\"dataframe\">\n",
       "  <thead>\n",
       "    <tr style=\"text-align: right;\">\n",
       "      <th></th>\n",
       "      <th>UserId</th>\n",
       "      <th>ItemId</th>\n",
       "      <th>Rating</th>\n",
       "    </tr>\n",
       "    <tr>\n",
       "      <th>UTC</th>\n",
       "      <th></th>\n",
       "      <th></th>\n",
       "      <th></th>\n",
       "    </tr>\n",
       "  </thead>\n",
       "  <tbody>\n",
       "    <tr>\n",
       "      <th>2000-04-25 22:00:00</th>\n",
       "      <td>3</td>\n",
       "      <td>181</td>\n",
       "      <td>4</td>\n",
       "    </tr>\n",
       "    <tr>\n",
       "      <th>2000-04-26 00:00:00</th>\n",
       "      <td>6</td>\n",
       "      <td>717</td>\n",
       "      <td>5</td>\n",
       "    </tr>\n",
       "    <tr>\n",
       "      <th>2000-04-26 02:00:00</th>\n",
       "      <td>8</td>\n",
       "      <td>528</td>\n",
       "      <td>5</td>\n",
       "    </tr>\n",
       "    <tr>\n",
       "      <th>2000-04-26 04:00:00</th>\n",
       "      <td>5</td>\n",
       "      <td>172</td>\n",
       "      <td>5</td>\n",
       "    </tr>\n",
       "    <tr>\n",
       "      <th>2000-04-26 06:00:00</th>\n",
       "      <td>1</td>\n",
       "      <td>204</td>\n",
       "      <td>5</td>\n",
       "    </tr>\n",
       "    <tr>\n",
       "      <th>...</th>\n",
       "      <td>...</td>\n",
       "      <td>...</td>\n",
       "      <td>...</td>\n",
       "    </tr>\n",
       "    <tr>\n",
       "      <th>2003-02-28 08:00:00</th>\n",
       "      <td>0</td>\n",
       "      <td>0</td>\n",
       "      <td>0</td>\n",
       "    </tr>\n",
       "    <tr>\n",
       "      <th>2003-02-28 10:00:00</th>\n",
       "      <td>0</td>\n",
       "      <td>0</td>\n",
       "      <td>0</td>\n",
       "    </tr>\n",
       "    <tr>\n",
       "      <th>2003-02-28 12:00:00</th>\n",
       "      <td>1</td>\n",
       "      <td>2</td>\n",
       "      <td>2</td>\n",
       "    </tr>\n",
       "    <tr>\n",
       "      <th>2003-02-28 14:00:00</th>\n",
       "      <td>1</td>\n",
       "      <td>1</td>\n",
       "      <td>1</td>\n",
       "    </tr>\n",
       "    <tr>\n",
       "      <th>2003-02-28 16:00:00</th>\n",
       "      <td>1</td>\n",
       "      <td>8</td>\n",
       "      <td>4</td>\n",
       "    </tr>\n",
       "  </tbody>\n",
       "</table>\n",
       "<p>12466 rows × 3 columns</p>\n",
       "</div>"
      ],
      "text/plain": [
       "                     UserId  ItemId  Rating\n",
       "UTC                                        \n",
       "2000-04-25 22:00:00       3     181       4\n",
       "2000-04-26 00:00:00       6     717       5\n",
       "2000-04-26 02:00:00       8     528       5\n",
       "2000-04-26 04:00:00       5     172       5\n",
       "2000-04-26 06:00:00       1     204       5\n",
       "...                     ...     ...     ...\n",
       "2003-02-28 08:00:00       0       0       0\n",
       "2003-02-28 10:00:00       0       0       0\n",
       "2003-02-28 12:00:00       1       2       2\n",
       "2003-02-28 14:00:00       1       1       1\n",
       "2003-02-28 16:00:00       1       8       4\n",
       "\n",
       "[12466 rows x 3 columns]"
      ]
     },
     "execution_count": 231,
     "metadata": {},
     "output_type": "execute_result"
    }
   ],
   "source": [
    "pivot.resample('2h').nunique()"
   ]
  },
  {
   "cell_type": "markdown",
   "id": "applicable-beads",
   "metadata": {},
   "source": [
    "- 시간 단위를 늘렸음에도 `UserId`의 유니크한 값 개수가 폭증하지 않는 것으로 보아 동일한 사용자가 오랜 시간 평점을 남기는 경우도 존재함을 유추할 수 있다."
   ]
  },
  {
   "cell_type": "code",
   "execution_count": 235,
   "id": "capable-wound",
   "metadata": {
    "scrolled": false
   },
   "outputs": [
    {
     "data": {
      "text/plain": [
       "UserId      87\n",
       "ItemId    1600\n",
       "Rating       5\n",
       "dtype: int64"
      ]
     },
     "execution_count": 235,
     "metadata": {},
     "output_type": "execute_result"
    }
   ],
   "source": [
    "pivot.resample('30min').nunique().max()"
   ]
  },
  {
   "cell_type": "code",
   "execution_count": 234,
   "id": "overhead-password",
   "metadata": {},
   "outputs": [
    {
     "data": {
      "text/plain": [
       "UserId     111\n",
       "ItemId    1896\n",
       "Rating       5\n",
       "dtype: int64"
      ]
     },
     "execution_count": 234,
     "metadata": {},
     "output_type": "execute_result"
    }
   ],
   "source": [
    "pivot.resample('1h').nunique().max()"
   ]
  },
  {
   "cell_type": "code",
   "execution_count": 233,
   "id": "worthy-geology",
   "metadata": {},
   "outputs": [
    {
     "data": {
      "text/plain": [
       "UserId     158\n",
       "ItemId    2402\n",
       "Rating       5\n",
       "dtype: int64"
      ]
     },
     "execution_count": 233,
     "metadata": {},
     "output_type": "execute_result"
    }
   ],
   "source": [
    "pivot.resample('2h').nunique().max()"
   ]
  },
  {
   "cell_type": "markdown",
   "id": "civil-apache",
   "metadata": {},
   "source": [
    "## 2-3-1. 시간차 파생 변수 추가\n",
    "- 이전 행의 시간과 얼마의 차이가 나는지에 대한 파생 변수를 생성하자."
   ]
  },
  {
   "cell_type": "code",
   "execution_count": 13,
   "id": "conditional-straight",
   "metadata": {
    "scrolled": false
   },
   "outputs": [
    {
     "data": {
      "text/html": [
       "<div>\n",
       "<style scoped>\n",
       "    .dataframe tbody tr th:only-of-type {\n",
       "        vertical-align: middle;\n",
       "    }\n",
       "\n",
       "    .dataframe tbody tr th {\n",
       "        vertical-align: top;\n",
       "    }\n",
       "\n",
       "    .dataframe thead th {\n",
       "        text-align: right;\n",
       "    }\n",
       "</style>\n",
       "<table border=\"1\" class=\"dataframe\">\n",
       "  <thead>\n",
       "    <tr style=\"text-align: right;\">\n",
       "      <th></th>\n",
       "      <th>UserId</th>\n",
       "      <th>ItemId</th>\n",
       "      <th>Rating</th>\n",
       "      <th>Time</th>\n",
       "      <th>UTC</th>\n",
       "      <th>diff</th>\n",
       "    </tr>\n",
       "  </thead>\n",
       "  <tbody>\n",
       "    <tr>\n",
       "      <th>31</th>\n",
       "      <td>1</td>\n",
       "      <td>3186</td>\n",
       "      <td>4</td>\n",
       "      <td>978300019</td>\n",
       "      <td>2000-12-31 22:00:19</td>\n",
       "      <td>0 days 00:00:00</td>\n",
       "    </tr>\n",
       "    <tr>\n",
       "      <th>22</th>\n",
       "      <td>1</td>\n",
       "      <td>1270</td>\n",
       "      <td>5</td>\n",
       "      <td>978300055</td>\n",
       "      <td>2000-12-31 22:00:55</td>\n",
       "      <td>0 days 00:00:36</td>\n",
       "    </tr>\n",
       "    <tr>\n",
       "      <th>27</th>\n",
       "      <td>1</td>\n",
       "      <td>1721</td>\n",
       "      <td>4</td>\n",
       "      <td>978300055</td>\n",
       "      <td>2000-12-31 22:00:55</td>\n",
       "      <td>0 days 00:00:00</td>\n",
       "    </tr>\n",
       "    <tr>\n",
       "      <th>37</th>\n",
       "      <td>1</td>\n",
       "      <td>1022</td>\n",
       "      <td>5</td>\n",
       "      <td>978300055</td>\n",
       "      <td>2000-12-31 22:00:55</td>\n",
       "      <td>0 days 00:00:00</td>\n",
       "    </tr>\n",
       "    <tr>\n",
       "      <th>24</th>\n",
       "      <td>1</td>\n",
       "      <td>2340</td>\n",
       "      <td>3</td>\n",
       "      <td>978300103</td>\n",
       "      <td>2000-12-31 22:01:43</td>\n",
       "      <td>0 days 00:00:48</td>\n",
       "    </tr>\n",
       "    <tr>\n",
       "      <th>...</th>\n",
       "      <td>...</td>\n",
       "      <td>...</td>\n",
       "      <td>...</td>\n",
       "      <td>...</td>\n",
       "      <td>...</td>\n",
       "      <td>...</td>\n",
       "    </tr>\n",
       "    <tr>\n",
       "      <th>1000019</th>\n",
       "      <td>6040</td>\n",
       "      <td>2917</td>\n",
       "      <td>4</td>\n",
       "      <td>997454429</td>\n",
       "      <td>2001-08-10 14:40:29</td>\n",
       "      <td>0 days 00:00:31</td>\n",
       "    </tr>\n",
       "    <tr>\n",
       "      <th>999988</th>\n",
       "      <td>6040</td>\n",
       "      <td>1921</td>\n",
       "      <td>4</td>\n",
       "      <td>997454464</td>\n",
       "      <td>2001-08-10 14:41:04</td>\n",
       "      <td>0 days 00:00:35</td>\n",
       "    </tr>\n",
       "    <tr>\n",
       "      <th>1000172</th>\n",
       "      <td>6040</td>\n",
       "      <td>1784</td>\n",
       "      <td>3</td>\n",
       "      <td>997454464</td>\n",
       "      <td>2001-08-10 14:41:04</td>\n",
       "      <td>0 days 00:00:00</td>\n",
       "    </tr>\n",
       "    <tr>\n",
       "      <th>1000167</th>\n",
       "      <td>6040</td>\n",
       "      <td>161</td>\n",
       "      <td>3</td>\n",
       "      <td>997454486</td>\n",
       "      <td>2001-08-10 14:41:26</td>\n",
       "      <td>0 days 00:00:22</td>\n",
       "    </tr>\n",
       "    <tr>\n",
       "      <th>1000042</th>\n",
       "      <td>6040</td>\n",
       "      <td>1221</td>\n",
       "      <td>4</td>\n",
       "      <td>998315055</td>\n",
       "      <td>2001-08-20 13:44:15</td>\n",
       "      <td>9 days 23:02:49</td>\n",
       "    </tr>\n",
       "  </tbody>\n",
       "</table>\n",
       "<p>1000209 rows × 6 columns</p>\n",
       "</div>"
      ],
      "text/plain": [
       "         UserId  ItemId  Rating       Time                 UTC            diff\n",
       "31            1    3186       4  978300019 2000-12-31 22:00:19 0 days 00:00:00\n",
       "22            1    1270       5  978300055 2000-12-31 22:00:55 0 days 00:00:36\n",
       "27            1    1721       4  978300055 2000-12-31 22:00:55 0 days 00:00:00\n",
       "37            1    1022       5  978300055 2000-12-31 22:00:55 0 days 00:00:00\n",
       "24            1    2340       3  978300103 2000-12-31 22:01:43 0 days 00:00:48\n",
       "...         ...     ...     ...        ...                 ...             ...\n",
       "1000019    6040    2917       4  997454429 2001-08-10 14:40:29 0 days 00:00:31\n",
       "999988     6040    1921       4  997454464 2001-08-10 14:41:04 0 days 00:00:35\n",
       "1000172    6040    1784       3  997454464 2001-08-10 14:41:04 0 days 00:00:00\n",
       "1000167    6040     161       3  997454486 2001-08-10 14:41:26 0 days 00:00:22\n",
       "1000042    6040    1221       4  998315055 2001-08-20 13:44:15 9 days 23:02:49\n",
       "\n",
       "[1000209 rows x 6 columns]"
      ]
     },
     "execution_count": 13,
     "metadata": {},
     "output_type": "execute_result"
    }
   ],
   "source": [
    "data['diff'] = (data.UTC - data.UTC.shift()).fillna(pd.Timedelta(seconds=0))\n",
    "data"
   ]
  },
  {
   "cell_type": "markdown",
   "id": "boolean-namibia",
   "metadata": {},
   "source": [
    "## 2-3-2. 동일 사용자 여부 파생변수 추가\n",
    "- 이전 칼럼과의 시간차가 작더라도 사용자가 달라지면 다른 세션으로 구분해야한다.\n",
    "- 사용자 변경 여부를 확인할 수 있는 파생변수를 추가하자."
   ]
  },
  {
   "cell_type": "code",
   "execution_count": 62,
   "id": "moving-missouri",
   "metadata": {
    "scrolled": false
   },
   "outputs": [
    {
     "data": {
      "text/html": [
       "<div>\n",
       "<style scoped>\n",
       "    .dataframe tbody tr th:only-of-type {\n",
       "        vertical-align: middle;\n",
       "    }\n",
       "\n",
       "    .dataframe tbody tr th {\n",
       "        vertical-align: top;\n",
       "    }\n",
       "\n",
       "    .dataframe thead th {\n",
       "        text-align: right;\n",
       "    }\n",
       "</style>\n",
       "<table border=\"1\" class=\"dataframe\">\n",
       "  <thead>\n",
       "    <tr style=\"text-align: right;\">\n",
       "      <th></th>\n",
       "      <th>UserId</th>\n",
       "      <th>ItemId</th>\n",
       "      <th>Rating</th>\n",
       "      <th>Time</th>\n",
       "      <th>UTC</th>\n",
       "      <th>diff</th>\n",
       "      <th>SameUser</th>\n",
       "    </tr>\n",
       "  </thead>\n",
       "  <tbody>\n",
       "    <tr>\n",
       "      <th>31</th>\n",
       "      <td>1</td>\n",
       "      <td>3186</td>\n",
       "      <td>4</td>\n",
       "      <td>978300019</td>\n",
       "      <td>2000-12-31 22:00:19</td>\n",
       "      <td>0 days 00:00:00</td>\n",
       "      <td>0.0</td>\n",
       "    </tr>\n",
       "    <tr>\n",
       "      <th>22</th>\n",
       "      <td>1</td>\n",
       "      <td>1270</td>\n",
       "      <td>5</td>\n",
       "      <td>978300055</td>\n",
       "      <td>2000-12-31 22:00:55</td>\n",
       "      <td>0 days 00:00:36</td>\n",
       "      <td>0.0</td>\n",
       "    </tr>\n",
       "    <tr>\n",
       "      <th>27</th>\n",
       "      <td>1</td>\n",
       "      <td>1721</td>\n",
       "      <td>4</td>\n",
       "      <td>978300055</td>\n",
       "      <td>2000-12-31 22:00:55</td>\n",
       "      <td>0 days 00:00:00</td>\n",
       "      <td>0.0</td>\n",
       "    </tr>\n",
       "    <tr>\n",
       "      <th>37</th>\n",
       "      <td>1</td>\n",
       "      <td>1022</td>\n",
       "      <td>5</td>\n",
       "      <td>978300055</td>\n",
       "      <td>2000-12-31 22:00:55</td>\n",
       "      <td>0 days 00:00:00</td>\n",
       "      <td>0.0</td>\n",
       "    </tr>\n",
       "    <tr>\n",
       "      <th>24</th>\n",
       "      <td>1</td>\n",
       "      <td>2340</td>\n",
       "      <td>3</td>\n",
       "      <td>978300103</td>\n",
       "      <td>2000-12-31 22:01:43</td>\n",
       "      <td>0 days 00:00:48</td>\n",
       "      <td>0.0</td>\n",
       "    </tr>\n",
       "    <tr>\n",
       "      <th>...</th>\n",
       "      <td>...</td>\n",
       "      <td>...</td>\n",
       "      <td>...</td>\n",
       "      <td>...</td>\n",
       "      <td>...</td>\n",
       "      <td>...</td>\n",
       "      <td>...</td>\n",
       "    </tr>\n",
       "    <tr>\n",
       "      <th>1000019</th>\n",
       "      <td>6040</td>\n",
       "      <td>2917</td>\n",
       "      <td>4</td>\n",
       "      <td>997454429</td>\n",
       "      <td>2001-08-10 14:40:29</td>\n",
       "      <td>0 days 00:00:31</td>\n",
       "      <td>0.0</td>\n",
       "    </tr>\n",
       "    <tr>\n",
       "      <th>999988</th>\n",
       "      <td>6040</td>\n",
       "      <td>1921</td>\n",
       "      <td>4</td>\n",
       "      <td>997454464</td>\n",
       "      <td>2001-08-10 14:41:04</td>\n",
       "      <td>0 days 00:00:35</td>\n",
       "      <td>0.0</td>\n",
       "    </tr>\n",
       "    <tr>\n",
       "      <th>1000172</th>\n",
       "      <td>6040</td>\n",
       "      <td>1784</td>\n",
       "      <td>3</td>\n",
       "      <td>997454464</td>\n",
       "      <td>2001-08-10 14:41:04</td>\n",
       "      <td>0 days 00:00:00</td>\n",
       "      <td>0.0</td>\n",
       "    </tr>\n",
       "    <tr>\n",
       "      <th>1000167</th>\n",
       "      <td>6040</td>\n",
       "      <td>161</td>\n",
       "      <td>3</td>\n",
       "      <td>997454486</td>\n",
       "      <td>2001-08-10 14:41:26</td>\n",
       "      <td>0 days 00:00:22</td>\n",
       "      <td>0.0</td>\n",
       "    </tr>\n",
       "    <tr>\n",
       "      <th>1000042</th>\n",
       "      <td>6040</td>\n",
       "      <td>1221</td>\n",
       "      <td>4</td>\n",
       "      <td>998315055</td>\n",
       "      <td>2001-08-20 13:44:15</td>\n",
       "      <td>9 days 23:02:49</td>\n",
       "      <td>0.0</td>\n",
       "    </tr>\n",
       "  </tbody>\n",
       "</table>\n",
       "<p>1000209 rows × 7 columns</p>\n",
       "</div>"
      ],
      "text/plain": [
       "         UserId  ItemId  Rating       Time                 UTC  \\\n",
       "31            1    3186       4  978300019 2000-12-31 22:00:19   \n",
       "22            1    1270       5  978300055 2000-12-31 22:00:55   \n",
       "27            1    1721       4  978300055 2000-12-31 22:00:55   \n",
       "37            1    1022       5  978300055 2000-12-31 22:00:55   \n",
       "24            1    2340       3  978300103 2000-12-31 22:01:43   \n",
       "...         ...     ...     ...        ...                 ...   \n",
       "1000019    6040    2917       4  997454429 2001-08-10 14:40:29   \n",
       "999988     6040    1921       4  997454464 2001-08-10 14:41:04   \n",
       "1000172    6040    1784       3  997454464 2001-08-10 14:41:04   \n",
       "1000167    6040     161       3  997454486 2001-08-10 14:41:26   \n",
       "1000042    6040    1221       4  998315055 2001-08-20 13:44:15   \n",
       "\n",
       "                   diff  SameUser  \n",
       "31      0 days 00:00:00       0.0  \n",
       "22      0 days 00:00:36       0.0  \n",
       "27      0 days 00:00:00       0.0  \n",
       "37      0 days 00:00:00       0.0  \n",
       "24      0 days 00:00:48       0.0  \n",
       "...                 ...       ...  \n",
       "1000019 0 days 00:00:31       0.0  \n",
       "999988  0 days 00:00:35       0.0  \n",
       "1000172 0 days 00:00:00       0.0  \n",
       "1000167 0 days 00:00:22       0.0  \n",
       "1000042 9 days 23:02:49       0.0  \n",
       "\n",
       "[1000209 rows x 7 columns]"
      ]
     },
     "execution_count": 62,
     "metadata": {},
     "output_type": "execute_result"
    }
   ],
   "source": [
    "data['SameUser'] = (data.UserId - data.UserId.shift()).fillna(0)\n",
    "data"
   ]
  },
  {
   "cell_type": "markdown",
   "id": "velvet-freight",
   "metadata": {},
   "source": [
    "- 사용자가 바뀐 행 출력\n",
    "\n",
    "실제 시간차는 얼마 나지 않지만 다른 사용자의 경우를 구분하고 있다."
   ]
  },
  {
   "cell_type": "code",
   "execution_count": 64,
   "id": "guilty-citation",
   "metadata": {
    "scrolled": false
   },
   "outputs": [
    {
     "data": {
      "text/html": [
       "<div>\n",
       "<style scoped>\n",
       "    .dataframe tbody tr th:only-of-type {\n",
       "        vertical-align: middle;\n",
       "    }\n",
       "\n",
       "    .dataframe tbody tr th {\n",
       "        vertical-align: top;\n",
       "    }\n",
       "\n",
       "    .dataframe thead th {\n",
       "        text-align: right;\n",
       "    }\n",
       "</style>\n",
       "<table border=\"1\" class=\"dataframe\">\n",
       "  <thead>\n",
       "    <tr style=\"text-align: right;\">\n",
       "      <th></th>\n",
       "      <th>UserId</th>\n",
       "      <th>ItemId</th>\n",
       "      <th>Rating</th>\n",
       "      <th>Time</th>\n",
       "      <th>UTC</th>\n",
       "      <th>diff</th>\n",
       "      <th>SameUser</th>\n",
       "    </tr>\n",
       "  </thead>\n",
       "  <tbody>\n",
       "    <tr>\n",
       "      <th>130</th>\n",
       "      <td>2</td>\n",
       "      <td>1198</td>\n",
       "      <td>4</td>\n",
       "      <td>978298124</td>\n",
       "      <td>2000-12-31 21:28:44</td>\n",
       "      <td>-7 days +21:49:33</td>\n",
       "      <td>1.0</td>\n",
       "    </tr>\n",
       "    <tr>\n",
       "      <th>217</th>\n",
       "      <td>3</td>\n",
       "      <td>593</td>\n",
       "      <td>3</td>\n",
       "      <td>978297018</td>\n",
       "      <td>2000-12-31 21:10:18</td>\n",
       "      <td>-1 days +23:07:24</td>\n",
       "      <td>1.0</td>\n",
       "    </tr>\n",
       "    <tr>\n",
       "      <th>234</th>\n",
       "      <td>4</td>\n",
       "      <td>1210</td>\n",
       "      <td>3</td>\n",
       "      <td>978293924</td>\n",
       "      <td>2000-12-31 20:18:44</td>\n",
       "      <td>-1 days +22:43:40</td>\n",
       "      <td>1.0</td>\n",
       "    </tr>\n",
       "    <tr>\n",
       "      <th>325</th>\n",
       "      <td>5</td>\n",
       "      <td>2717</td>\n",
       "      <td>1</td>\n",
       "      <td>978241072</td>\n",
       "      <td>2000-12-31 05:37:52</td>\n",
       "      <td>-1 days +09:13:10</td>\n",
       "      <td>1.0</td>\n",
       "    </tr>\n",
       "    <tr>\n",
       "      <th>461</th>\n",
       "      <td>6</td>\n",
       "      <td>3072</td>\n",
       "      <td>4</td>\n",
       "      <td>978236075</td>\n",
       "      <td>2000-12-31 04:14:35</td>\n",
       "      <td>-1 days +21:04:50</td>\n",
       "      <td>1.0</td>\n",
       "    </tr>\n",
       "    <tr>\n",
       "      <th>...</th>\n",
       "      <td>...</td>\n",
       "      <td>...</td>\n",
       "      <td>...</td>\n",
       "      <td>...</td>\n",
       "      <td>...</td>\n",
       "      <td>...</td>\n",
       "      <td>...</td>\n",
       "    </tr>\n",
       "    <tr>\n",
       "      <th>999375</th>\n",
       "      <td>6036</td>\n",
       "      <td>1721</td>\n",
       "      <td>4</td>\n",
       "      <td>956709349</td>\n",
       "      <td>2000-04-26 00:35:49</td>\n",
       "      <td>-1 days +22:48:29</td>\n",
       "      <td>1.0</td>\n",
       "    </tr>\n",
       "    <tr>\n",
       "      <th>999568</th>\n",
       "      <td>6037</td>\n",
       "      <td>1882</td>\n",
       "      <td>1</td>\n",
       "      <td>956708997</td>\n",
       "      <td>2000-04-26 00:29:57</td>\n",
       "      <td>-1 days +11:10:01</td>\n",
       "      <td>1.0</td>\n",
       "    </tr>\n",
       "    <tr>\n",
       "      <th>999726</th>\n",
       "      <td>6038</td>\n",
       "      <td>920</td>\n",
       "      <td>3</td>\n",
       "      <td>956706827</td>\n",
       "      <td>2000-04-25 23:53:47</td>\n",
       "      <td>-2 days +21:36:27</td>\n",
       "      <td>1.0</td>\n",
       "    </tr>\n",
       "    <tr>\n",
       "      <th>999794</th>\n",
       "      <td>6039</td>\n",
       "      <td>282</td>\n",
       "      <td>4</td>\n",
       "      <td>956705158</td>\n",
       "      <td>2000-04-25 23:25:58</td>\n",
       "      <td>-1 days +20:39:14</td>\n",
       "      <td>1.0</td>\n",
       "    </tr>\n",
       "    <tr>\n",
       "      <th>1000138</th>\n",
       "      <td>6040</td>\n",
       "      <td>858</td>\n",
       "      <td>4</td>\n",
       "      <td>956703932</td>\n",
       "      <td>2000-04-25 23:05:32</td>\n",
       "      <td>-1 days +08:58:23</td>\n",
       "      <td>1.0</td>\n",
       "    </tr>\n",
       "  </tbody>\n",
       "</table>\n",
       "<p>6039 rows × 7 columns</p>\n",
       "</div>"
      ],
      "text/plain": [
       "         UserId  ItemId  Rating       Time                 UTC  \\\n",
       "130           2    1198       4  978298124 2000-12-31 21:28:44   \n",
       "217           3     593       3  978297018 2000-12-31 21:10:18   \n",
       "234           4    1210       3  978293924 2000-12-31 20:18:44   \n",
       "325           5    2717       1  978241072 2000-12-31 05:37:52   \n",
       "461           6    3072       4  978236075 2000-12-31 04:14:35   \n",
       "...         ...     ...     ...        ...                 ...   \n",
       "999375     6036    1721       4  956709349 2000-04-26 00:35:49   \n",
       "999568     6037    1882       1  956708997 2000-04-26 00:29:57   \n",
       "999726     6038     920       3  956706827 2000-04-25 23:53:47   \n",
       "999794     6039     282       4  956705158 2000-04-25 23:25:58   \n",
       "1000138    6040     858       4  956703932 2000-04-25 23:05:32   \n",
       "\n",
       "                     diff  SameUser  \n",
       "130     -7 days +21:49:33       1.0  \n",
       "217     -1 days +23:07:24       1.0  \n",
       "234     -1 days +22:43:40       1.0  \n",
       "325     -1 days +09:13:10       1.0  \n",
       "461     -1 days +21:04:50       1.0  \n",
       "...                   ...       ...  \n",
       "999375  -1 days +22:48:29       1.0  \n",
       "999568  -1 days +11:10:01       1.0  \n",
       "999726  -2 days +21:36:27       1.0  \n",
       "999794  -1 days +20:39:14       1.0  \n",
       "1000138 -1 days +08:58:23       1.0  \n",
       "\n",
       "[6039 rows x 7 columns]"
      ]
     },
     "execution_count": 64,
     "metadata": {},
     "output_type": "execute_result"
    }
   ],
   "source": [
    "data[data['SameUser'] ==1.0]"
   ]
  },
  {
   "cell_type": "markdown",
   "id": "herbal-engineering",
   "metadata": {},
   "source": [
    "## 2-3-3. SessionId 부여\n",
    "- 2시간 이내에 동일한 사용자가 평잠을 부여한 경우를 하나의 세션으로 취급한다."
   ]
  },
  {
   "cell_type": "code",
   "execution_count": 65,
   "id": "relevant-updating",
   "metadata": {},
   "outputs": [],
   "source": [
    "session_idx = 1\n",
    "def split_session(data):\n",
    "    global session_idx\n",
    "    if data['diff'] > timedelta(hours=2) or data['SameUser']==1.0:\n",
    "        session_idx += 1\n",
    "    return session_idx"
   ]
  },
  {
   "cell_type": "code",
   "execution_count": 66,
   "id": "effective-civilian",
   "metadata": {},
   "outputs": [],
   "source": [
    "data['SessionId'] = data.apply(split_session, axis=1)"
   ]
  },
  {
   "cell_type": "code",
   "execution_count": 67,
   "id": "rolled-charter",
   "metadata": {
    "scrolled": false
   },
   "outputs": [
    {
     "data": {
      "text/html": [
       "<div>\n",
       "<style scoped>\n",
       "    .dataframe tbody tr th:only-of-type {\n",
       "        vertical-align: middle;\n",
       "    }\n",
       "\n",
       "    .dataframe tbody tr th {\n",
       "        vertical-align: top;\n",
       "    }\n",
       "\n",
       "    .dataframe thead th {\n",
       "        text-align: right;\n",
       "    }\n",
       "</style>\n",
       "<table border=\"1\" class=\"dataframe\">\n",
       "  <thead>\n",
       "    <tr style=\"text-align: right;\">\n",
       "      <th></th>\n",
       "      <th>UserId</th>\n",
       "      <th>ItemId</th>\n",
       "      <th>Rating</th>\n",
       "      <th>Time</th>\n",
       "      <th>UTC</th>\n",
       "      <th>diff</th>\n",
       "      <th>SameUser</th>\n",
       "      <th>SessionId</th>\n",
       "    </tr>\n",
       "  </thead>\n",
       "  <tbody>\n",
       "    <tr>\n",
       "      <th>31</th>\n",
       "      <td>1</td>\n",
       "      <td>3186</td>\n",
       "      <td>4</td>\n",
       "      <td>978300019</td>\n",
       "      <td>2000-12-31 22:00:19</td>\n",
       "      <td>0 days 00:00:00</td>\n",
       "      <td>0.0</td>\n",
       "      <td>1</td>\n",
       "    </tr>\n",
       "    <tr>\n",
       "      <th>22</th>\n",
       "      <td>1</td>\n",
       "      <td>1270</td>\n",
       "      <td>5</td>\n",
       "      <td>978300055</td>\n",
       "      <td>2000-12-31 22:00:55</td>\n",
       "      <td>0 days 00:00:36</td>\n",
       "      <td>0.0</td>\n",
       "      <td>1</td>\n",
       "    </tr>\n",
       "    <tr>\n",
       "      <th>27</th>\n",
       "      <td>1</td>\n",
       "      <td>1721</td>\n",
       "      <td>4</td>\n",
       "      <td>978300055</td>\n",
       "      <td>2000-12-31 22:00:55</td>\n",
       "      <td>0 days 00:00:00</td>\n",
       "      <td>0.0</td>\n",
       "      <td>1</td>\n",
       "    </tr>\n",
       "    <tr>\n",
       "      <th>37</th>\n",
       "      <td>1</td>\n",
       "      <td>1022</td>\n",
       "      <td>5</td>\n",
       "      <td>978300055</td>\n",
       "      <td>2000-12-31 22:00:55</td>\n",
       "      <td>0 days 00:00:00</td>\n",
       "      <td>0.0</td>\n",
       "      <td>1</td>\n",
       "    </tr>\n",
       "    <tr>\n",
       "      <th>24</th>\n",
       "      <td>1</td>\n",
       "      <td>2340</td>\n",
       "      <td>3</td>\n",
       "      <td>978300103</td>\n",
       "      <td>2000-12-31 22:01:43</td>\n",
       "      <td>0 days 00:00:48</td>\n",
       "      <td>0.0</td>\n",
       "      <td>1</td>\n",
       "    </tr>\n",
       "    <tr>\n",
       "      <th>...</th>\n",
       "      <td>...</td>\n",
       "      <td>...</td>\n",
       "      <td>...</td>\n",
       "      <td>...</td>\n",
       "      <td>...</td>\n",
       "      <td>...</td>\n",
       "      <td>...</td>\n",
       "      <td>...</td>\n",
       "    </tr>\n",
       "    <tr>\n",
       "      <th>1000019</th>\n",
       "      <td>6040</td>\n",
       "      <td>2917</td>\n",
       "      <td>4</td>\n",
       "      <td>997454429</td>\n",
       "      <td>2001-08-10 14:40:29</td>\n",
       "      <td>0 days 00:00:31</td>\n",
       "      <td>0.0</td>\n",
       "      <td>23824</td>\n",
       "    </tr>\n",
       "    <tr>\n",
       "      <th>999988</th>\n",
       "      <td>6040</td>\n",
       "      <td>1921</td>\n",
       "      <td>4</td>\n",
       "      <td>997454464</td>\n",
       "      <td>2001-08-10 14:41:04</td>\n",
       "      <td>0 days 00:00:35</td>\n",
       "      <td>0.0</td>\n",
       "      <td>23824</td>\n",
       "    </tr>\n",
       "    <tr>\n",
       "      <th>1000172</th>\n",
       "      <td>6040</td>\n",
       "      <td>1784</td>\n",
       "      <td>3</td>\n",
       "      <td>997454464</td>\n",
       "      <td>2001-08-10 14:41:04</td>\n",
       "      <td>0 days 00:00:00</td>\n",
       "      <td>0.0</td>\n",
       "      <td>23824</td>\n",
       "    </tr>\n",
       "    <tr>\n",
       "      <th>1000167</th>\n",
       "      <td>6040</td>\n",
       "      <td>161</td>\n",
       "      <td>3</td>\n",
       "      <td>997454486</td>\n",
       "      <td>2001-08-10 14:41:26</td>\n",
       "      <td>0 days 00:00:22</td>\n",
       "      <td>0.0</td>\n",
       "      <td>23824</td>\n",
       "    </tr>\n",
       "    <tr>\n",
       "      <th>1000042</th>\n",
       "      <td>6040</td>\n",
       "      <td>1221</td>\n",
       "      <td>4</td>\n",
       "      <td>998315055</td>\n",
       "      <td>2001-08-20 13:44:15</td>\n",
       "      <td>9 days 23:02:49</td>\n",
       "      <td>0.0</td>\n",
       "      <td>23825</td>\n",
       "    </tr>\n",
       "  </tbody>\n",
       "</table>\n",
       "<p>1000209 rows × 8 columns</p>\n",
       "</div>"
      ],
      "text/plain": [
       "         UserId  ItemId  Rating       Time                 UTC  \\\n",
       "31            1    3186       4  978300019 2000-12-31 22:00:19   \n",
       "22            1    1270       5  978300055 2000-12-31 22:00:55   \n",
       "27            1    1721       4  978300055 2000-12-31 22:00:55   \n",
       "37            1    1022       5  978300055 2000-12-31 22:00:55   \n",
       "24            1    2340       3  978300103 2000-12-31 22:01:43   \n",
       "...         ...     ...     ...        ...                 ...   \n",
       "1000019    6040    2917       4  997454429 2001-08-10 14:40:29   \n",
       "999988     6040    1921       4  997454464 2001-08-10 14:41:04   \n",
       "1000172    6040    1784       3  997454464 2001-08-10 14:41:04   \n",
       "1000167    6040     161       3  997454486 2001-08-10 14:41:26   \n",
       "1000042    6040    1221       4  998315055 2001-08-20 13:44:15   \n",
       "\n",
       "                   diff  SameUser  SessionId  \n",
       "31      0 days 00:00:00       0.0          1  \n",
       "22      0 days 00:00:36       0.0          1  \n",
       "27      0 days 00:00:00       0.0          1  \n",
       "37      0 days 00:00:00       0.0          1  \n",
       "24      0 days 00:00:48       0.0          1  \n",
       "...                 ...       ...        ...  \n",
       "1000019 0 days 00:00:31       0.0      23824  \n",
       "999988  0 days 00:00:35       0.0      23824  \n",
       "1000172 0 days 00:00:00       0.0      23824  \n",
       "1000167 0 days 00:00:22       0.0      23824  \n",
       "1000042 9 days 23:02:49       0.0      23825  \n",
       "\n",
       "[1000209 rows x 8 columns]"
      ]
     },
     "execution_count": 67,
     "metadata": {},
     "output_type": "execute_result"
    }
   ],
   "source": [
    "data"
   ]
  },
  {
   "cell_type": "markdown",
   "id": "wooden-psychiatry",
   "metadata": {},
   "source": [
    "### 세션 분리 결과 확인"
   ]
  },
  {
   "cell_type": "code",
   "execution_count": 261,
   "id": "civilian-ferry",
   "metadata": {},
   "outputs": [],
   "source": [
    "# 하나의 사용자더라도 여러개의 세션 아이디로 나뉜 것을 볼 수 있다.\n",
    "sess = data.set_index(['UserId','SessionId'])"
   ]
  },
  {
   "cell_type": "markdown",
   "id": "loaded-wedding",
   "metadata": {},
   "source": [
    "- 나뉜 세션 아이디도 비교적 정확하다."
   ]
  },
  {
   "cell_type": "code",
   "execution_count": 251,
   "id": "perceived-prior",
   "metadata": {
    "scrolled": false
   },
   "outputs": [
    {
     "data": {
      "text/html": [
       "<div>\n",
       "<style scoped>\n",
       "    .dataframe tbody tr th:only-of-type {\n",
       "        vertical-align: middle;\n",
       "    }\n",
       "\n",
       "    .dataframe tbody tr th {\n",
       "        vertical-align: top;\n",
       "    }\n",
       "\n",
       "    .dataframe thead th {\n",
       "        text-align: right;\n",
       "    }\n",
       "</style>\n",
       "<table border=\"1\" class=\"dataframe\">\n",
       "  <thead>\n",
       "    <tr style=\"text-align: right;\">\n",
       "      <th></th>\n",
       "      <th></th>\n",
       "      <th>ItemId</th>\n",
       "      <th>Rating</th>\n",
       "      <th>Time</th>\n",
       "      <th>UTC</th>\n",
       "      <th>diff</th>\n",
       "      <th>SameUser</th>\n",
       "    </tr>\n",
       "    <tr>\n",
       "      <th>UserId</th>\n",
       "      <th>SessionId</th>\n",
       "      <th></th>\n",
       "      <th></th>\n",
       "      <th></th>\n",
       "      <th></th>\n",
       "      <th></th>\n",
       "      <th></th>\n",
       "    </tr>\n",
       "  </thead>\n",
       "  <tbody>\n",
       "    <tr>\n",
       "      <th rowspan=\"40\" valign=\"top\">1</th>\n",
       "      <th>1</th>\n",
       "      <td>3186</td>\n",
       "      <td>4</td>\n",
       "      <td>978300019</td>\n",
       "      <td>2000-12-31 22:00:19</td>\n",
       "      <td>0 days 00:00:00</td>\n",
       "      <td>0.0</td>\n",
       "    </tr>\n",
       "    <tr>\n",
       "      <th>1</th>\n",
       "      <td>1270</td>\n",
       "      <td>5</td>\n",
       "      <td>978300055</td>\n",
       "      <td>2000-12-31 22:00:55</td>\n",
       "      <td>0 days 00:00:36</td>\n",
       "      <td>0.0</td>\n",
       "    </tr>\n",
       "    <tr>\n",
       "      <th>1</th>\n",
       "      <td>1721</td>\n",
       "      <td>4</td>\n",
       "      <td>978300055</td>\n",
       "      <td>2000-12-31 22:00:55</td>\n",
       "      <td>0 days 00:00:00</td>\n",
       "      <td>0.0</td>\n",
       "    </tr>\n",
       "    <tr>\n",
       "      <th>1</th>\n",
       "      <td>1022</td>\n",
       "      <td>5</td>\n",
       "      <td>978300055</td>\n",
       "      <td>2000-12-31 22:00:55</td>\n",
       "      <td>0 days 00:00:00</td>\n",
       "      <td>0.0</td>\n",
       "    </tr>\n",
       "    <tr>\n",
       "      <th>1</th>\n",
       "      <td>2340</td>\n",
       "      <td>3</td>\n",
       "      <td>978300103</td>\n",
       "      <td>2000-12-31 22:01:43</td>\n",
       "      <td>0 days 00:00:48</td>\n",
       "      <td>0.0</td>\n",
       "    </tr>\n",
       "    <tr>\n",
       "      <th>1</th>\n",
       "      <td>1836</td>\n",
       "      <td>5</td>\n",
       "      <td>978300172</td>\n",
       "      <td>2000-12-31 22:02:52</td>\n",
       "      <td>0 days 00:01:09</td>\n",
       "      <td>0.0</td>\n",
       "    </tr>\n",
       "    <tr>\n",
       "      <th>1</th>\n",
       "      <td>3408</td>\n",
       "      <td>4</td>\n",
       "      <td>978300275</td>\n",
       "      <td>2000-12-31 22:04:35</td>\n",
       "      <td>0 days 00:01:43</td>\n",
       "      <td>0.0</td>\n",
       "    </tr>\n",
       "    <tr>\n",
       "      <th>1</th>\n",
       "      <td>2804</td>\n",
       "      <td>5</td>\n",
       "      <td>978300719</td>\n",
       "      <td>2000-12-31 22:11:59</td>\n",
       "      <td>0 days 00:07:24</td>\n",
       "      <td>0.0</td>\n",
       "    </tr>\n",
       "    <tr>\n",
       "      <th>1</th>\n",
       "      <td>1207</td>\n",
       "      <td>4</td>\n",
       "      <td>978300719</td>\n",
       "      <td>2000-12-31 22:11:59</td>\n",
       "      <td>0 days 00:00:00</td>\n",
       "      <td>0.0</td>\n",
       "    </tr>\n",
       "    <tr>\n",
       "      <th>1</th>\n",
       "      <td>1193</td>\n",
       "      <td>5</td>\n",
       "      <td>978300760</td>\n",
       "      <td>2000-12-31 22:12:40</td>\n",
       "      <td>0 days 00:00:41</td>\n",
       "      <td>0.0</td>\n",
       "    </tr>\n",
       "    <tr>\n",
       "      <th>1</th>\n",
       "      <td>720</td>\n",
       "      <td>3</td>\n",
       "      <td>978300760</td>\n",
       "      <td>2000-12-31 22:12:40</td>\n",
       "      <td>0 days 00:00:00</td>\n",
       "      <td>0.0</td>\n",
       "    </tr>\n",
       "    <tr>\n",
       "      <th>1</th>\n",
       "      <td>260</td>\n",
       "      <td>4</td>\n",
       "      <td>978300760</td>\n",
       "      <td>2000-12-31 22:12:40</td>\n",
       "      <td>0 days 00:00:00</td>\n",
       "      <td>0.0</td>\n",
       "    </tr>\n",
       "    <tr>\n",
       "      <th>1</th>\n",
       "      <td>919</td>\n",
       "      <td>4</td>\n",
       "      <td>978301368</td>\n",
       "      <td>2000-12-31 22:22:48</td>\n",
       "      <td>0 days 00:10:08</td>\n",
       "      <td>0.0</td>\n",
       "    </tr>\n",
       "    <tr>\n",
       "      <th>1</th>\n",
       "      <td>608</td>\n",
       "      <td>4</td>\n",
       "      <td>978301398</td>\n",
       "      <td>2000-12-31 22:23:18</td>\n",
       "      <td>0 days 00:00:30</td>\n",
       "      <td>0.0</td>\n",
       "    </tr>\n",
       "    <tr>\n",
       "      <th>1</th>\n",
       "      <td>2692</td>\n",
       "      <td>4</td>\n",
       "      <td>978301570</td>\n",
       "      <td>2000-12-31 22:26:10</td>\n",
       "      <td>0 days 00:02:52</td>\n",
       "      <td>0.0</td>\n",
       "    </tr>\n",
       "    <tr>\n",
       "      <th>1</th>\n",
       "      <td>1961</td>\n",
       "      <td>5</td>\n",
       "      <td>978301590</td>\n",
       "      <td>2000-12-31 22:26:30</td>\n",
       "      <td>0 days 00:00:20</td>\n",
       "      <td>0.0</td>\n",
       "    </tr>\n",
       "    <tr>\n",
       "      <th>1</th>\n",
       "      <td>2028</td>\n",
       "      <td>5</td>\n",
       "      <td>978301619</td>\n",
       "      <td>2000-12-31 22:26:59</td>\n",
       "      <td>0 days 00:00:29</td>\n",
       "      <td>0.0</td>\n",
       "    </tr>\n",
       "    <tr>\n",
       "      <th>1</th>\n",
       "      <td>3105</td>\n",
       "      <td>5</td>\n",
       "      <td>978301713</td>\n",
       "      <td>2000-12-31 22:28:33</td>\n",
       "      <td>0 days 00:01:34</td>\n",
       "      <td>0.0</td>\n",
       "    </tr>\n",
       "    <tr>\n",
       "      <th>1</th>\n",
       "      <td>938</td>\n",
       "      <td>4</td>\n",
       "      <td>978301752</td>\n",
       "      <td>2000-12-31 22:29:12</td>\n",
       "      <td>0 days 00:00:39</td>\n",
       "      <td>0.0</td>\n",
       "    </tr>\n",
       "    <tr>\n",
       "      <th>1</th>\n",
       "      <td>1035</td>\n",
       "      <td>5</td>\n",
       "      <td>978301753</td>\n",
       "      <td>2000-12-31 22:29:13</td>\n",
       "      <td>0 days 00:00:01</td>\n",
       "      <td>0.0</td>\n",
       "    </tr>\n",
       "    <tr>\n",
       "      <th>1</th>\n",
       "      <td>1962</td>\n",
       "      <td>4</td>\n",
       "      <td>978301753</td>\n",
       "      <td>2000-12-31 22:29:13</td>\n",
       "      <td>0 days 00:00:00</td>\n",
       "      <td>0.0</td>\n",
       "    </tr>\n",
       "    <tr>\n",
       "      <th>1</th>\n",
       "      <td>2018</td>\n",
       "      <td>4</td>\n",
       "      <td>978301777</td>\n",
       "      <td>2000-12-31 22:29:37</td>\n",
       "      <td>0 days 00:00:24</td>\n",
       "      <td>0.0</td>\n",
       "    </tr>\n",
       "    <tr>\n",
       "      <th>1</th>\n",
       "      <td>150</td>\n",
       "      <td>5</td>\n",
       "      <td>978301777</td>\n",
       "      <td>2000-12-31 22:29:37</td>\n",
       "      <td>0 days 00:00:00</td>\n",
       "      <td>0.0</td>\n",
       "    </tr>\n",
       "    <tr>\n",
       "      <th>1</th>\n",
       "      <td>1028</td>\n",
       "      <td>5</td>\n",
       "      <td>978301777</td>\n",
       "      <td>2000-12-31 22:29:37</td>\n",
       "      <td>0 days 00:00:00</td>\n",
       "      <td>0.0</td>\n",
       "    </tr>\n",
       "    <tr>\n",
       "      <th>1</th>\n",
       "      <td>1097</td>\n",
       "      <td>4</td>\n",
       "      <td>978301953</td>\n",
       "      <td>2000-12-31 22:32:33</td>\n",
       "      <td>0 days 00:02:56</td>\n",
       "      <td>0.0</td>\n",
       "    </tr>\n",
       "    <tr>\n",
       "      <th>1</th>\n",
       "      <td>914</td>\n",
       "      <td>3</td>\n",
       "      <td>978301968</td>\n",
       "      <td>2000-12-31 22:32:48</td>\n",
       "      <td>0 days 00:00:15</td>\n",
       "      <td>0.0</td>\n",
       "    </tr>\n",
       "    <tr>\n",
       "      <th>1</th>\n",
       "      <td>1287</td>\n",
       "      <td>5</td>\n",
       "      <td>978302039</td>\n",
       "      <td>2000-12-31 22:33:59</td>\n",
       "      <td>0 days 00:01:11</td>\n",
       "      <td>0.0</td>\n",
       "    </tr>\n",
       "    <tr>\n",
       "      <th>1</th>\n",
       "      <td>2797</td>\n",
       "      <td>4</td>\n",
       "      <td>978302039</td>\n",
       "      <td>2000-12-31 22:33:59</td>\n",
       "      <td>0 days 00:00:00</td>\n",
       "      <td>0.0</td>\n",
       "    </tr>\n",
       "    <tr>\n",
       "      <th>1</th>\n",
       "      <td>2762</td>\n",
       "      <td>4</td>\n",
       "      <td>978302091</td>\n",
       "      <td>2000-12-31 22:34:51</td>\n",
       "      <td>0 days 00:00:52</td>\n",
       "      <td>0.0</td>\n",
       "    </tr>\n",
       "    <tr>\n",
       "      <th>1</th>\n",
       "      <td>1246</td>\n",
       "      <td>4</td>\n",
       "      <td>978302091</td>\n",
       "      <td>2000-12-31 22:34:51</td>\n",
       "      <td>0 days 00:00:00</td>\n",
       "      <td>0.0</td>\n",
       "    </tr>\n",
       "    <tr>\n",
       "      <th>1</th>\n",
       "      <td>661</td>\n",
       "      <td>3</td>\n",
       "      <td>978302109</td>\n",
       "      <td>2000-12-31 22:35:09</td>\n",
       "      <td>0 days 00:00:18</td>\n",
       "      <td>0.0</td>\n",
       "    </tr>\n",
       "    <tr>\n",
       "      <th>1</th>\n",
       "      <td>2918</td>\n",
       "      <td>4</td>\n",
       "      <td>978302124</td>\n",
       "      <td>2000-12-31 22:35:24</td>\n",
       "      <td>0 days 00:00:15</td>\n",
       "      <td>0.0</td>\n",
       "    </tr>\n",
       "    <tr>\n",
       "      <th>1</th>\n",
       "      <td>531</td>\n",
       "      <td>4</td>\n",
       "      <td>978302149</td>\n",
       "      <td>2000-12-31 22:35:49</td>\n",
       "      <td>0 days 00:00:25</td>\n",
       "      <td>0.0</td>\n",
       "    </tr>\n",
       "    <tr>\n",
       "      <th>1</th>\n",
       "      <td>3114</td>\n",
       "      <td>4</td>\n",
       "      <td>978302174</td>\n",
       "      <td>2000-12-31 22:36:14</td>\n",
       "      <td>0 days 00:00:25</td>\n",
       "      <td>0.0</td>\n",
       "    </tr>\n",
       "    <tr>\n",
       "      <th>1</th>\n",
       "      <td>2791</td>\n",
       "      <td>4</td>\n",
       "      <td>978302188</td>\n",
       "      <td>2000-12-31 22:36:28</td>\n",
       "      <td>0 days 00:00:14</td>\n",
       "      <td>0.0</td>\n",
       "    </tr>\n",
       "    <tr>\n",
       "      <th>1</th>\n",
       "      <td>2321</td>\n",
       "      <td>3</td>\n",
       "      <td>978302205</td>\n",
       "      <td>2000-12-31 22:36:45</td>\n",
       "      <td>0 days 00:00:17</td>\n",
       "      <td>0.0</td>\n",
       "    </tr>\n",
       "    <tr>\n",
       "      <th>1</th>\n",
       "      <td>1029</td>\n",
       "      <td>5</td>\n",
       "      <td>978302205</td>\n",
       "      <td>2000-12-31 22:36:45</td>\n",
       "      <td>0 days 00:00:00</td>\n",
       "      <td>0.0</td>\n",
       "    </tr>\n",
       "    <tr>\n",
       "      <th>1</th>\n",
       "      <td>1197</td>\n",
       "      <td>3</td>\n",
       "      <td>978302268</td>\n",
       "      <td>2000-12-31 22:37:48</td>\n",
       "      <td>0 days 00:01:03</td>\n",
       "      <td>0.0</td>\n",
       "    </tr>\n",
       "    <tr>\n",
       "      <th>1</th>\n",
       "      <td>594</td>\n",
       "      <td>4</td>\n",
       "      <td>978302268</td>\n",
       "      <td>2000-12-31 22:37:48</td>\n",
       "      <td>0 days 00:00:00</td>\n",
       "      <td>0.0</td>\n",
       "    </tr>\n",
       "    <tr>\n",
       "      <th>1</th>\n",
       "      <td>2398</td>\n",
       "      <td>4</td>\n",
       "      <td>978302281</td>\n",
       "      <td>2000-12-31 22:38:01</td>\n",
       "      <td>0 days 00:00:13</td>\n",
       "      <td>0.0</td>\n",
       "    </tr>\n",
       "  </tbody>\n",
       "</table>\n",
       "</div>"
      ],
      "text/plain": [
       "                  ItemId  Rating       Time                 UTC  \\\n",
       "UserId SessionId                                                  \n",
       "1      1            3186       4  978300019 2000-12-31 22:00:19   \n",
       "       1            1270       5  978300055 2000-12-31 22:00:55   \n",
       "       1            1721       4  978300055 2000-12-31 22:00:55   \n",
       "       1            1022       5  978300055 2000-12-31 22:00:55   \n",
       "       1            2340       3  978300103 2000-12-31 22:01:43   \n",
       "       1            1836       5  978300172 2000-12-31 22:02:52   \n",
       "       1            3408       4  978300275 2000-12-31 22:04:35   \n",
       "       1            2804       5  978300719 2000-12-31 22:11:59   \n",
       "       1            1207       4  978300719 2000-12-31 22:11:59   \n",
       "       1            1193       5  978300760 2000-12-31 22:12:40   \n",
       "       1             720       3  978300760 2000-12-31 22:12:40   \n",
       "       1             260       4  978300760 2000-12-31 22:12:40   \n",
       "       1             919       4  978301368 2000-12-31 22:22:48   \n",
       "       1             608       4  978301398 2000-12-31 22:23:18   \n",
       "       1            2692       4  978301570 2000-12-31 22:26:10   \n",
       "       1            1961       5  978301590 2000-12-31 22:26:30   \n",
       "       1            2028       5  978301619 2000-12-31 22:26:59   \n",
       "       1            3105       5  978301713 2000-12-31 22:28:33   \n",
       "       1             938       4  978301752 2000-12-31 22:29:12   \n",
       "       1            1035       5  978301753 2000-12-31 22:29:13   \n",
       "       1            1962       4  978301753 2000-12-31 22:29:13   \n",
       "       1            2018       4  978301777 2000-12-31 22:29:37   \n",
       "       1             150       5  978301777 2000-12-31 22:29:37   \n",
       "       1            1028       5  978301777 2000-12-31 22:29:37   \n",
       "       1            1097       4  978301953 2000-12-31 22:32:33   \n",
       "       1             914       3  978301968 2000-12-31 22:32:48   \n",
       "       1            1287       5  978302039 2000-12-31 22:33:59   \n",
       "       1            2797       4  978302039 2000-12-31 22:33:59   \n",
       "       1            2762       4  978302091 2000-12-31 22:34:51   \n",
       "       1            1246       4  978302091 2000-12-31 22:34:51   \n",
       "       1             661       3  978302109 2000-12-31 22:35:09   \n",
       "       1            2918       4  978302124 2000-12-31 22:35:24   \n",
       "       1             531       4  978302149 2000-12-31 22:35:49   \n",
       "       1            3114       4  978302174 2000-12-31 22:36:14   \n",
       "       1            2791       4  978302188 2000-12-31 22:36:28   \n",
       "       1            2321       3  978302205 2000-12-31 22:36:45   \n",
       "       1            1029       5  978302205 2000-12-31 22:36:45   \n",
       "       1            1197       3  978302268 2000-12-31 22:37:48   \n",
       "       1             594       4  978302268 2000-12-31 22:37:48   \n",
       "       1            2398       4  978302281 2000-12-31 22:38:01   \n",
       "\n",
       "                            diff  SameUser  \n",
       "UserId SessionId                            \n",
       "1      1         0 days 00:00:00       0.0  \n",
       "       1         0 days 00:00:36       0.0  \n",
       "       1         0 days 00:00:00       0.0  \n",
       "       1         0 days 00:00:00       0.0  \n",
       "       1         0 days 00:00:48       0.0  \n",
       "       1         0 days 00:01:09       0.0  \n",
       "       1         0 days 00:01:43       0.0  \n",
       "       1         0 days 00:07:24       0.0  \n",
       "       1         0 days 00:00:00       0.0  \n",
       "       1         0 days 00:00:41       0.0  \n",
       "       1         0 days 00:00:00       0.0  \n",
       "       1         0 days 00:00:00       0.0  \n",
       "       1         0 days 00:10:08       0.0  \n",
       "       1         0 days 00:00:30       0.0  \n",
       "       1         0 days 00:02:52       0.0  \n",
       "       1         0 days 00:00:20       0.0  \n",
       "       1         0 days 00:00:29       0.0  \n",
       "       1         0 days 00:01:34       0.0  \n",
       "       1         0 days 00:00:39       0.0  \n",
       "       1         0 days 00:00:01       0.0  \n",
       "       1         0 days 00:00:00       0.0  \n",
       "       1         0 days 00:00:24       0.0  \n",
       "       1         0 days 00:00:00       0.0  \n",
       "       1         0 days 00:00:00       0.0  \n",
       "       1         0 days 00:02:56       0.0  \n",
       "       1         0 days 00:00:15       0.0  \n",
       "       1         0 days 00:01:11       0.0  \n",
       "       1         0 days 00:00:00       0.0  \n",
       "       1         0 days 00:00:52       0.0  \n",
       "       1         0 days 00:00:00       0.0  \n",
       "       1         0 days 00:00:18       0.0  \n",
       "       1         0 days 00:00:15       0.0  \n",
       "       1         0 days 00:00:25       0.0  \n",
       "       1         0 days 00:00:25       0.0  \n",
       "       1         0 days 00:00:14       0.0  \n",
       "       1         0 days 00:00:17       0.0  \n",
       "       1         0 days 00:00:00       0.0  \n",
       "       1         0 days 00:01:03       0.0  \n",
       "       1         0 days 00:00:00       0.0  \n",
       "       1         0 days 00:00:13       0.0  "
      ]
     },
     "execution_count": 251,
     "metadata": {},
     "output_type": "execute_result"
    }
   ],
   "source": [
    "sess.loc[(1,1)]"
   ]
  },
  {
   "cell_type": "code",
   "execution_count": 254,
   "id": "whole-proxy",
   "metadata": {},
   "outputs": [
    {
     "data": {
      "text/html": [
       "<div>\n",
       "<style scoped>\n",
       "    .dataframe tbody tr th:only-of-type {\n",
       "        vertical-align: middle;\n",
       "    }\n",
       "\n",
       "    .dataframe tbody tr th {\n",
       "        vertical-align: top;\n",
       "    }\n",
       "\n",
       "    .dataframe thead th {\n",
       "        text-align: right;\n",
       "    }\n",
       "</style>\n",
       "<table border=\"1\" class=\"dataframe\">\n",
       "  <thead>\n",
       "    <tr style=\"text-align: right;\">\n",
       "      <th></th>\n",
       "      <th></th>\n",
       "      <th>ItemId</th>\n",
       "      <th>Rating</th>\n",
       "      <th>Time</th>\n",
       "      <th>UTC</th>\n",
       "      <th>diff</th>\n",
       "      <th>SameUser</th>\n",
       "    </tr>\n",
       "    <tr>\n",
       "      <th>UserId</th>\n",
       "      <th>SessionId</th>\n",
       "      <th></th>\n",
       "      <th></th>\n",
       "      <th></th>\n",
       "      <th></th>\n",
       "      <th></th>\n",
       "      <th></th>\n",
       "    </tr>\n",
       "  </thead>\n",
       "  <tbody>\n",
       "    <tr>\n",
       "      <th rowspan=\"13\" valign=\"top\">1</th>\n",
       "      <th>2</th>\n",
       "      <td>1545</td>\n",
       "      <td>4</td>\n",
       "      <td>978824139</td>\n",
       "      <td>2001-01-06 23:35:39</td>\n",
       "      <td>6 days 00:57:38</td>\n",
       "      <td>0.0</td>\n",
       "    </tr>\n",
       "    <tr>\n",
       "      <th>2</th>\n",
       "      <td>527</td>\n",
       "      <td>5</td>\n",
       "      <td>978824195</td>\n",
       "      <td>2001-01-06 23:36:35</td>\n",
       "      <td>0 days 00:00:56</td>\n",
       "      <td>0.0</td>\n",
       "    </tr>\n",
       "    <tr>\n",
       "      <th>2</th>\n",
       "      <td>595</td>\n",
       "      <td>5</td>\n",
       "      <td>978824268</td>\n",
       "      <td>2001-01-06 23:37:48</td>\n",
       "      <td>0 days 00:01:13</td>\n",
       "      <td>0.0</td>\n",
       "    </tr>\n",
       "    <tr>\n",
       "      <th>2</th>\n",
       "      <td>2687</td>\n",
       "      <td>3</td>\n",
       "      <td>978824268</td>\n",
       "      <td>2001-01-06 23:37:48</td>\n",
       "      <td>0 days 00:00:00</td>\n",
       "      <td>0.0</td>\n",
       "    </tr>\n",
       "    <tr>\n",
       "      <th>2</th>\n",
       "      <td>745</td>\n",
       "      <td>3</td>\n",
       "      <td>978824268</td>\n",
       "      <td>2001-01-06 23:37:48</td>\n",
       "      <td>0 days 00:00:00</td>\n",
       "      <td>0.0</td>\n",
       "    </tr>\n",
       "    <tr>\n",
       "      <th>2</th>\n",
       "      <td>588</td>\n",
       "      <td>4</td>\n",
       "      <td>978824268</td>\n",
       "      <td>2001-01-06 23:37:48</td>\n",
       "      <td>0 days 00:00:00</td>\n",
       "      <td>0.0</td>\n",
       "    </tr>\n",
       "    <tr>\n",
       "      <th>2</th>\n",
       "      <td>1</td>\n",
       "      <td>5</td>\n",
       "      <td>978824268</td>\n",
       "      <td>2001-01-06 23:37:48</td>\n",
       "      <td>0 days 00:00:00</td>\n",
       "      <td>0.0</td>\n",
       "    </tr>\n",
       "    <tr>\n",
       "      <th>2</th>\n",
       "      <td>2355</td>\n",
       "      <td>5</td>\n",
       "      <td>978824291</td>\n",
       "      <td>2001-01-06 23:38:11</td>\n",
       "      <td>0 days 00:00:23</td>\n",
       "      <td>0.0</td>\n",
       "    </tr>\n",
       "    <tr>\n",
       "      <th>2</th>\n",
       "      <td>2294</td>\n",
       "      <td>4</td>\n",
       "      <td>978824291</td>\n",
       "      <td>2001-01-06 23:38:11</td>\n",
       "      <td>0 days 00:00:00</td>\n",
       "      <td>0.0</td>\n",
       "    </tr>\n",
       "    <tr>\n",
       "      <th>2</th>\n",
       "      <td>783</td>\n",
       "      <td>4</td>\n",
       "      <td>978824291</td>\n",
       "      <td>2001-01-06 23:38:11</td>\n",
       "      <td>0 days 00:00:00</td>\n",
       "      <td>0.0</td>\n",
       "    </tr>\n",
       "    <tr>\n",
       "      <th>2</th>\n",
       "      <td>1566</td>\n",
       "      <td>4</td>\n",
       "      <td>978824330</td>\n",
       "      <td>2001-01-06 23:38:50</td>\n",
       "      <td>0 days 00:00:39</td>\n",
       "      <td>0.0</td>\n",
       "    </tr>\n",
       "    <tr>\n",
       "      <th>2</th>\n",
       "      <td>1907</td>\n",
       "      <td>4</td>\n",
       "      <td>978824330</td>\n",
       "      <td>2001-01-06 23:38:50</td>\n",
       "      <td>0 days 00:00:00</td>\n",
       "      <td>0.0</td>\n",
       "    </tr>\n",
       "    <tr>\n",
       "      <th>2</th>\n",
       "      <td>48</td>\n",
       "      <td>5</td>\n",
       "      <td>978824351</td>\n",
       "      <td>2001-01-06 23:39:11</td>\n",
       "      <td>0 days 00:00:21</td>\n",
       "      <td>0.0</td>\n",
       "    </tr>\n",
       "  </tbody>\n",
       "</table>\n",
       "</div>"
      ],
      "text/plain": [
       "                  ItemId  Rating       Time                 UTC  \\\n",
       "UserId SessionId                                                  \n",
       "1      2            1545       4  978824139 2001-01-06 23:35:39   \n",
       "       2             527       5  978824195 2001-01-06 23:36:35   \n",
       "       2             595       5  978824268 2001-01-06 23:37:48   \n",
       "       2            2687       3  978824268 2001-01-06 23:37:48   \n",
       "       2             745       3  978824268 2001-01-06 23:37:48   \n",
       "       2             588       4  978824268 2001-01-06 23:37:48   \n",
       "       2               1       5  978824268 2001-01-06 23:37:48   \n",
       "       2            2355       5  978824291 2001-01-06 23:38:11   \n",
       "       2            2294       4  978824291 2001-01-06 23:38:11   \n",
       "       2             783       4  978824291 2001-01-06 23:38:11   \n",
       "       2            1566       4  978824330 2001-01-06 23:38:50   \n",
       "       2            1907       4  978824330 2001-01-06 23:38:50   \n",
       "       2              48       5  978824351 2001-01-06 23:39:11   \n",
       "\n",
       "                            diff  SameUser  \n",
       "UserId SessionId                            \n",
       "1      2         6 days 00:57:38       0.0  \n",
       "       2         0 days 00:00:56       0.0  \n",
       "       2         0 days 00:01:13       0.0  \n",
       "       2         0 days 00:00:00       0.0  \n",
       "       2         0 days 00:00:00       0.0  \n",
       "       2         0 days 00:00:00       0.0  \n",
       "       2         0 days 00:00:00       0.0  \n",
       "       2         0 days 00:00:23       0.0  \n",
       "       2         0 days 00:00:00       0.0  \n",
       "       2         0 days 00:00:00       0.0  \n",
       "       2         0 days 00:00:39       0.0  \n",
       "       2         0 days 00:00:00       0.0  \n",
       "       2         0 days 00:00:21       0.0  "
      ]
     },
     "execution_count": 254,
     "metadata": {},
     "output_type": "execute_result"
    }
   ],
   "source": [
    "sess.loc[(1,2)]"
   ]
  },
  {
   "cell_type": "markdown",
   "id": "radio-numbers",
   "metadata": {},
   "source": [
    "## 2-4. 세션 길이 확인\n",
    "- 사용자 ID같고 UTC 2시간 내로 같은 경우를 하나의 세션으로 보기로 했다."
   ]
  },
  {
   "cell_type": "code",
   "execution_count": 68,
   "id": "naked-prague",
   "metadata": {},
   "outputs": [
    {
     "data": {
      "text/plain": [
       "(23825, 3706)"
      ]
     },
     "execution_count": 68,
     "metadata": {},
     "output_type": "execute_result"
    }
   ],
   "source": [
    "data['SessionId'].nunique(), data['ItemId'].nunique()"
   ]
  },
  {
   "cell_type": "code",
   "execution_count": 69,
   "id": "random-consistency",
   "metadata": {},
   "outputs": [
    {
     "data": {
      "text/plain": [
       "SessionId\n",
       "1         40\n",
       "2         13\n",
       "3        129\n",
       "4         51\n",
       "5         21\n",
       "        ... \n",
       "23821      7\n",
       "23822     14\n",
       "23823      1\n",
       "23824     21\n",
       "23825      1\n",
       "Length: 23825, dtype: int64"
      ]
     },
     "execution_count": 69,
     "metadata": {},
     "output_type": "execute_result"
    }
   ],
   "source": [
    "session_length = data.groupby('SessionId').size()\n",
    "session_length"
   ]
  },
  {
   "cell_type": "code",
   "execution_count": 70,
   "id": "hungarian-local",
   "metadata": {},
   "outputs": [
    {
     "data": {
      "text/plain": [
       "(1, 1442)"
      ]
     },
     "execution_count": 70,
     "metadata": {},
     "output_type": "execute_result"
    }
   ],
   "source": [
    "session_length.min(), session_length.max()"
   ]
  },
  {
   "cell_type": "markdown",
   "id": "vertical-identity",
   "metadata": {},
   "source": [
    "- 전체 세션 길이의 99분위수는 407이었다."
   ]
  },
  {
   "cell_type": "code",
   "execution_count": 71,
   "id": "entire-donna",
   "metadata": {},
   "outputs": [
    {
     "data": {
      "text/plain": [
       "407.0"
      ]
     },
     "execution_count": 71,
     "metadata": {},
     "output_type": "execute_result"
    }
   ],
   "source": [
    "session_length.quantile(0.99)"
   ]
  },
  {
   "cell_type": "markdown",
   "id": "satellite-token",
   "metadata": {},
   "source": [
    "- 세션길이 1442는 이상치인가?"
   ]
  },
  {
   "cell_type": "code",
   "execution_count": 72,
   "id": "amber-clerk",
   "metadata": {},
   "outputs": [
    {
     "data": {
      "text/html": [
       "<div>\n",
       "<style scoped>\n",
       "    .dataframe tbody tr th:only-of-type {\n",
       "        vertical-align: middle;\n",
       "    }\n",
       "\n",
       "    .dataframe tbody tr th {\n",
       "        vertical-align: top;\n",
       "    }\n",
       "\n",
       "    .dataframe thead th {\n",
       "        text-align: right;\n",
       "    }\n",
       "</style>\n",
       "<table border=\"1\" class=\"dataframe\">\n",
       "  <thead>\n",
       "    <tr style=\"text-align: right;\">\n",
       "      <th></th>\n",
       "      <th>UserId</th>\n",
       "      <th>ItemId</th>\n",
       "      <th>Rating</th>\n",
       "      <th>Time</th>\n",
       "      <th>UTC</th>\n",
       "      <th>diff</th>\n",
       "      <th>SameUser</th>\n",
       "      <th>SessionId</th>\n",
       "    </tr>\n",
       "  </thead>\n",
       "  <tbody>\n",
       "    <tr>\n",
       "      <th>137631</th>\n",
       "      <td>889</td>\n",
       "      <td>1266</td>\n",
       "      <td>3</td>\n",
       "      <td>975247862</td>\n",
       "      <td>2000-11-26 14:11:02</td>\n",
       "      <td>-1 days +17:39:54</td>\n",
       "      <td>1.0</td>\n",
       "      <td>3443</td>\n",
       "    </tr>\n",
       "    <tr>\n",
       "      <th>137864</th>\n",
       "      <td>889</td>\n",
       "      <td>2430</td>\n",
       "      <td>3</td>\n",
       "      <td>975247862</td>\n",
       "      <td>2000-11-26 14:11:02</td>\n",
       "      <td>0 days 00:00:00</td>\n",
       "      <td>0.0</td>\n",
       "      <td>3443</td>\n",
       "    </tr>\n",
       "    <tr>\n",
       "      <th>137889</th>\n",
       "      <td>889</td>\n",
       "      <td>1643</td>\n",
       "      <td>3</td>\n",
       "      <td>975247862</td>\n",
       "      <td>2000-11-26 14:11:02</td>\n",
       "      <td>0 days 00:00:00</td>\n",
       "      <td>0.0</td>\n",
       "      <td>3443</td>\n",
       "    </tr>\n",
       "    <tr>\n",
       "      <th>138039</th>\n",
       "      <td>889</td>\n",
       "      <td>3461</td>\n",
       "      <td>3</td>\n",
       "      <td>975247862</td>\n",
       "      <td>2000-11-26 14:11:02</td>\n",
       "      <td>0 days 00:00:00</td>\n",
       "      <td>0.0</td>\n",
       "      <td>3443</td>\n",
       "    </tr>\n",
       "    <tr>\n",
       "      <th>138316</th>\n",
       "      <td>889</td>\n",
       "      <td>1193</td>\n",
       "      <td>1</td>\n",
       "      <td>975247862</td>\n",
       "      <td>2000-11-26 14:11:02</td>\n",
       "      <td>0 days 00:00:00</td>\n",
       "      <td>0.0</td>\n",
       "      <td>3443</td>\n",
       "    </tr>\n",
       "    <tr>\n",
       "      <th>...</th>\n",
       "      <td>...</td>\n",
       "      <td>...</td>\n",
       "      <td>...</td>\n",
       "      <td>...</td>\n",
       "      <td>...</td>\n",
       "      <td>...</td>\n",
       "      <td>...</td>\n",
       "      <td>...</td>\n",
       "    </tr>\n",
       "    <tr>\n",
       "      <th>138442</th>\n",
       "      <td>889</td>\n",
       "      <td>1543</td>\n",
       "      <td>1</td>\n",
       "      <td>975261851</td>\n",
       "      <td>2000-11-26 18:04:11</td>\n",
       "      <td>0 days 00:00:00</td>\n",
       "      <td>0.0</td>\n",
       "      <td>3443</td>\n",
       "    </tr>\n",
       "    <tr>\n",
       "      <th>138211</th>\n",
       "      <td>889</td>\n",
       "      <td>617</td>\n",
       "      <td>3</td>\n",
       "      <td>975261864</td>\n",
       "      <td>2000-11-26 18:04:24</td>\n",
       "      <td>0 days 00:00:13</td>\n",
       "      <td>0.0</td>\n",
       "      <td>3443</td>\n",
       "    </tr>\n",
       "    <tr>\n",
       "      <th>138215</th>\n",
       "      <td>889</td>\n",
       "      <td>476</td>\n",
       "      <td>2</td>\n",
       "      <td>975261864</td>\n",
       "      <td>2000-11-26 18:04:24</td>\n",
       "      <td>0 days 00:00:00</td>\n",
       "      <td>0.0</td>\n",
       "      <td>3443</td>\n",
       "    </tr>\n",
       "    <tr>\n",
       "      <th>138394</th>\n",
       "      <td>889</td>\n",
       "      <td>844</td>\n",
       "      <td>3</td>\n",
       "      <td>975261879</td>\n",
       "      <td>2000-11-26 18:04:39</td>\n",
       "      <td>0 days 00:00:15</td>\n",
       "      <td>0.0</td>\n",
       "      <td>3443</td>\n",
       "    </tr>\n",
       "    <tr>\n",
       "      <th>138640</th>\n",
       "      <td>889</td>\n",
       "      <td>167</td>\n",
       "      <td>3</td>\n",
       "      <td>975261879</td>\n",
       "      <td>2000-11-26 18:04:39</td>\n",
       "      <td>0 days 00:00:00</td>\n",
       "      <td>0.0</td>\n",
       "      <td>3443</td>\n",
       "    </tr>\n",
       "  </tbody>\n",
       "</table>\n",
       "<p>1442 rows × 8 columns</p>\n",
       "</div>"
      ],
      "text/plain": [
       "        UserId  ItemId  Rating       Time                 UTC  \\\n",
       "137631     889    1266       3  975247862 2000-11-26 14:11:02   \n",
       "137864     889    2430       3  975247862 2000-11-26 14:11:02   \n",
       "137889     889    1643       3  975247862 2000-11-26 14:11:02   \n",
       "138039     889    3461       3  975247862 2000-11-26 14:11:02   \n",
       "138316     889    1193       1  975247862 2000-11-26 14:11:02   \n",
       "...        ...     ...     ...        ...                 ...   \n",
       "138442     889    1543       1  975261851 2000-11-26 18:04:11   \n",
       "138211     889     617       3  975261864 2000-11-26 18:04:24   \n",
       "138215     889     476       2  975261864 2000-11-26 18:04:24   \n",
       "138394     889     844       3  975261879 2000-11-26 18:04:39   \n",
       "138640     889     167       3  975261879 2000-11-26 18:04:39   \n",
       "\n",
       "                    diff  SameUser  SessionId  \n",
       "137631 -1 days +17:39:54       1.0       3443  \n",
       "137864   0 days 00:00:00       0.0       3443  \n",
       "137889   0 days 00:00:00       0.0       3443  \n",
       "138039   0 days 00:00:00       0.0       3443  \n",
       "138316   0 days 00:00:00       0.0       3443  \n",
       "...                  ...       ...        ...  \n",
       "138442   0 days 00:00:00       0.0       3443  \n",
       "138211   0 days 00:00:13       0.0       3443  \n",
       "138215   0 days 00:00:00       0.0       3443  \n",
       "138394   0 days 00:00:15       0.0       3443  \n",
       "138640   0 days 00:00:00       0.0       3443  \n",
       "\n",
       "[1442 rows x 8 columns]"
      ]
     },
     "execution_count": 72,
     "metadata": {},
     "output_type": "execute_result"
    }
   ],
   "source": [
    "long_session = session_length[session_length==1442].index[0]\n",
    "data[data['SessionId']==long_session]"
   ]
  },
  {
   "cell_type": "code",
   "execution_count": 262,
   "id": "suffering-pharmaceutical",
   "metadata": {},
   "outputs": [
    {
     "data": {
      "text/html": [
       "<div>\n",
       "<style scoped>\n",
       "    .dataframe tbody tr th:only-of-type {\n",
       "        vertical-align: middle;\n",
       "    }\n",
       "\n",
       "    .dataframe tbody tr th {\n",
       "        vertical-align: top;\n",
       "    }\n",
       "\n",
       "    .dataframe thead th {\n",
       "        text-align: right;\n",
       "    }\n",
       "</style>\n",
       "<table border=\"1\" class=\"dataframe\">\n",
       "  <thead>\n",
       "    <tr style=\"text-align: right;\">\n",
       "      <th></th>\n",
       "      <th>UserId</th>\n",
       "      <th>ItemId</th>\n",
       "      <th>Rating</th>\n",
       "      <th>Time</th>\n",
       "      <th>diff</th>\n",
       "      <th>SameUser</th>\n",
       "      <th>SessionId</th>\n",
       "    </tr>\n",
       "  </thead>\n",
       "  <tbody>\n",
       "    <tr>\n",
       "      <th>count</th>\n",
       "      <td>1437.0</td>\n",
       "      <td>1437.000000</td>\n",
       "      <td>1437.000000</td>\n",
       "      <td>1.437000e+03</td>\n",
       "      <td>1437</td>\n",
       "      <td>1437.000000</td>\n",
       "      <td>1437.0</td>\n",
       "    </tr>\n",
       "    <tr>\n",
       "      <th>mean</th>\n",
       "      <td>889.0</td>\n",
       "      <td>1992.300626</td>\n",
       "      <td>2.839944</td>\n",
       "      <td>9.752527e+08</td>\n",
       "      <td>-1 days +23:59:53.869867781</td>\n",
       "      <td>0.000696</td>\n",
       "      <td>3443.0</td>\n",
       "    </tr>\n",
       "    <tr>\n",
       "      <th>std</th>\n",
       "      <td>0.0</td>\n",
       "      <td>1145.879807</td>\n",
       "      <td>1.019034</td>\n",
       "      <td>3.916356e+03</td>\n",
       "      <td>0 days 00:10:24.432256153</td>\n",
       "      <td>0.026380</td>\n",
       "      <td>0.0</td>\n",
       "    </tr>\n",
       "    <tr>\n",
       "      <th>min</th>\n",
       "      <td>889.0</td>\n",
       "      <td>1.000000</td>\n",
       "      <td>1.000000</td>\n",
       "      <td>9.752479e+08</td>\n",
       "      <td>-1 days +17:39:54</td>\n",
       "      <td>0.000000</td>\n",
       "      <td>3443.0</td>\n",
       "    </tr>\n",
       "    <tr>\n",
       "      <th>25%</th>\n",
       "      <td>889.0</td>\n",
       "      <td>1068.000000</td>\n",
       "      <td>2.000000</td>\n",
       "      <td>9.752498e+08</td>\n",
       "      <td>0 days 00:00:00</td>\n",
       "      <td>0.000000</td>\n",
       "      <td>3443.0</td>\n",
       "    </tr>\n",
       "    <tr>\n",
       "      <th>50%</th>\n",
       "      <td>889.0</td>\n",
       "      <td>1956.000000</td>\n",
       "      <td>3.000000</td>\n",
       "      <td>9.752515e+08</td>\n",
       "      <td>0 days 00:00:00</td>\n",
       "      <td>0.000000</td>\n",
       "      <td>3443.0</td>\n",
       "    </tr>\n",
       "    <tr>\n",
       "      <th>75%</th>\n",
       "      <td>889.0</td>\n",
       "      <td>3002.000000</td>\n",
       "      <td>3.000000</td>\n",
       "      <td>9.752546e+08</td>\n",
       "      <td>0 days 00:00:00</td>\n",
       "      <td>0.000000</td>\n",
       "      <td>3443.0</td>\n",
       "    </tr>\n",
       "    <tr>\n",
       "      <th>max</th>\n",
       "      <td>889.0</td>\n",
       "      <td>3952.000000</td>\n",
       "      <td>5.000000</td>\n",
       "      <td>9.752619e+08</td>\n",
       "      <td>0 days 01:38:37</td>\n",
       "      <td>1.000000</td>\n",
       "      <td>3443.0</td>\n",
       "    </tr>\n",
       "  </tbody>\n",
       "</table>\n",
       "</div>"
      ],
      "text/plain": [
       "       UserId       ItemId       Rating          Time  \\\n",
       "count  1437.0  1437.000000  1437.000000  1.437000e+03   \n",
       "mean    889.0  1992.300626     2.839944  9.752527e+08   \n",
       "std       0.0  1145.879807     1.019034  3.916356e+03   \n",
       "min     889.0     1.000000     1.000000  9.752479e+08   \n",
       "25%     889.0  1068.000000     2.000000  9.752498e+08   \n",
       "50%     889.0  1956.000000     3.000000  9.752515e+08   \n",
       "75%     889.0  3002.000000     3.000000  9.752546e+08   \n",
       "max     889.0  3952.000000     5.000000  9.752619e+08   \n",
       "\n",
       "                              diff     SameUser  SessionId  \n",
       "count                         1437  1437.000000     1437.0  \n",
       "mean   -1 days +23:59:53.869867781     0.000696     3443.0  \n",
       "std      0 days 00:10:24.432256153     0.026380        0.0  \n",
       "min              -1 days +17:39:54     0.000000     3443.0  \n",
       "25%                0 days 00:00:00     0.000000     3443.0  \n",
       "50%                0 days 00:00:00     0.000000     3443.0  \n",
       "75%                0 days 00:00:00     0.000000     3443.0  \n",
       "max                0 days 01:38:37     1.000000     3443.0  "
      ]
     },
     "execution_count": 262,
     "metadata": {},
     "output_type": "execute_result"
    }
   ],
   "source": [
    "data[data['SessionId']==long_session].describe()"
   ]
  },
  {
   "cell_type": "code",
   "execution_count": 263,
   "id": "decreased-prophet",
   "metadata": {
    "scrolled": false
   },
   "outputs": [
    {
     "data": {
      "text/html": [
       "<div>\n",
       "<style scoped>\n",
       "    .dataframe tbody tr th:only-of-type {\n",
       "        vertical-align: middle;\n",
       "    }\n",
       "\n",
       "    .dataframe tbody tr th {\n",
       "        vertical-align: top;\n",
       "    }\n",
       "\n",
       "    .dataframe thead th {\n",
       "        text-align: right;\n",
       "    }\n",
       "</style>\n",
       "<table border=\"1\" class=\"dataframe\">\n",
       "  <thead>\n",
       "    <tr style=\"text-align: right;\">\n",
       "      <th></th>\n",
       "      <th>UserId</th>\n",
       "      <th>ItemId</th>\n",
       "      <th>Rating</th>\n",
       "      <th>Time</th>\n",
       "      <th>UTC</th>\n",
       "      <th>diff</th>\n",
       "      <th>SameUser</th>\n",
       "      <th>SessionId</th>\n",
       "    </tr>\n",
       "  </thead>\n",
       "  <tbody>\n",
       "    <tr>\n",
       "      <th>137631</th>\n",
       "      <td>889</td>\n",
       "      <td>1266</td>\n",
       "      <td>3</td>\n",
       "      <td>975247862</td>\n",
       "      <td>2000-11-26 14:11:02</td>\n",
       "      <td>-1 days +17:39:54</td>\n",
       "      <td>1.0</td>\n",
       "      <td>3443</td>\n",
       "    </tr>\n",
       "    <tr>\n",
       "      <th>137864</th>\n",
       "      <td>889</td>\n",
       "      <td>2430</td>\n",
       "      <td>3</td>\n",
       "      <td>975247862</td>\n",
       "      <td>2000-11-26 14:11:02</td>\n",
       "      <td>0 days 00:00:00</td>\n",
       "      <td>0.0</td>\n",
       "      <td>3443</td>\n",
       "    </tr>\n",
       "    <tr>\n",
       "      <th>137889</th>\n",
       "      <td>889</td>\n",
       "      <td>1643</td>\n",
       "      <td>3</td>\n",
       "      <td>975247862</td>\n",
       "      <td>2000-11-26 14:11:02</td>\n",
       "      <td>0 days 00:00:00</td>\n",
       "      <td>0.0</td>\n",
       "      <td>3443</td>\n",
       "    </tr>\n",
       "    <tr>\n",
       "      <th>138039</th>\n",
       "      <td>889</td>\n",
       "      <td>3461</td>\n",
       "      <td>3</td>\n",
       "      <td>975247862</td>\n",
       "      <td>2000-11-26 14:11:02</td>\n",
       "      <td>0 days 00:00:00</td>\n",
       "      <td>0.0</td>\n",
       "      <td>3443</td>\n",
       "    </tr>\n",
       "    <tr>\n",
       "      <th>138316</th>\n",
       "      <td>889</td>\n",
       "      <td>1193</td>\n",
       "      <td>1</td>\n",
       "      <td>975247862</td>\n",
       "      <td>2000-11-26 14:11:02</td>\n",
       "      <td>0 days 00:00:00</td>\n",
       "      <td>0.0</td>\n",
       "      <td>3443</td>\n",
       "    </tr>\n",
       "    <tr>\n",
       "      <th>...</th>\n",
       "      <td>...</td>\n",
       "      <td>...</td>\n",
       "      <td>...</td>\n",
       "      <td>...</td>\n",
       "      <td>...</td>\n",
       "      <td>...</td>\n",
       "      <td>...</td>\n",
       "      <td>...</td>\n",
       "    </tr>\n",
       "    <tr>\n",
       "      <th>138442</th>\n",
       "      <td>889</td>\n",
       "      <td>1543</td>\n",
       "      <td>1</td>\n",
       "      <td>975261851</td>\n",
       "      <td>2000-11-26 18:04:11</td>\n",
       "      <td>0 days 00:00:00</td>\n",
       "      <td>0.0</td>\n",
       "      <td>3443</td>\n",
       "    </tr>\n",
       "    <tr>\n",
       "      <th>138211</th>\n",
       "      <td>889</td>\n",
       "      <td>617</td>\n",
       "      <td>3</td>\n",
       "      <td>975261864</td>\n",
       "      <td>2000-11-26 18:04:24</td>\n",
       "      <td>0 days 00:00:13</td>\n",
       "      <td>0.0</td>\n",
       "      <td>3443</td>\n",
       "    </tr>\n",
       "    <tr>\n",
       "      <th>138215</th>\n",
       "      <td>889</td>\n",
       "      <td>476</td>\n",
       "      <td>2</td>\n",
       "      <td>975261864</td>\n",
       "      <td>2000-11-26 18:04:24</td>\n",
       "      <td>0 days 00:00:00</td>\n",
       "      <td>0.0</td>\n",
       "      <td>3443</td>\n",
       "    </tr>\n",
       "    <tr>\n",
       "      <th>138394</th>\n",
       "      <td>889</td>\n",
       "      <td>844</td>\n",
       "      <td>3</td>\n",
       "      <td>975261879</td>\n",
       "      <td>2000-11-26 18:04:39</td>\n",
       "      <td>0 days 00:00:15</td>\n",
       "      <td>0.0</td>\n",
       "      <td>3443</td>\n",
       "    </tr>\n",
       "    <tr>\n",
       "      <th>138640</th>\n",
       "      <td>889</td>\n",
       "      <td>167</td>\n",
       "      <td>3</td>\n",
       "      <td>975261879</td>\n",
       "      <td>2000-11-26 18:04:39</td>\n",
       "      <td>0 days 00:00:00</td>\n",
       "      <td>0.0</td>\n",
       "      <td>3443</td>\n",
       "    </tr>\n",
       "  </tbody>\n",
       "</table>\n",
       "<p>1437 rows × 8 columns</p>\n",
       "</div>"
      ],
      "text/plain": [
       "        UserId  ItemId  Rating       Time                 UTC  \\\n",
       "137631     889    1266       3  975247862 2000-11-26 14:11:02   \n",
       "137864     889    2430       3  975247862 2000-11-26 14:11:02   \n",
       "137889     889    1643       3  975247862 2000-11-26 14:11:02   \n",
       "138039     889    3461       3  975247862 2000-11-26 14:11:02   \n",
       "138316     889    1193       1  975247862 2000-11-26 14:11:02   \n",
       "...        ...     ...     ...        ...                 ...   \n",
       "138442     889    1543       1  975261851 2000-11-26 18:04:11   \n",
       "138211     889     617       3  975261864 2000-11-26 18:04:24   \n",
       "138215     889     476       2  975261864 2000-11-26 18:04:24   \n",
       "138394     889     844       3  975261879 2000-11-26 18:04:39   \n",
       "138640     889     167       3  975261879 2000-11-26 18:04:39   \n",
       "\n",
       "                    diff  SameUser  SessionId  \n",
       "137631 -1 days +17:39:54       1.0       3443  \n",
       "137864   0 days 00:00:00       0.0       3443  \n",
       "137889   0 days 00:00:00       0.0       3443  \n",
       "138039   0 days 00:00:00       0.0       3443  \n",
       "138316   0 days 00:00:00       0.0       3443  \n",
       "...                  ...       ...        ...  \n",
       "138442   0 days 00:00:00       0.0       3443  \n",
       "138211   0 days 00:00:13       0.0       3443  \n",
       "138215   0 days 00:00:00       0.0       3443  \n",
       "138394   0 days 00:00:15       0.0       3443  \n",
       "138640   0 days 00:00:00       0.0       3443  \n",
       "\n",
       "[1437 rows x 8 columns]"
      ]
     },
     "execution_count": 263,
     "metadata": {},
     "output_type": "execute_result"
    }
   ],
   "source": [
    "data[data['SessionId']==long_session]"
   ]
  },
  {
   "cell_type": "markdown",
   "id": "expressed-emission",
   "metadata": {},
   "source": [
    "- 4시간 동안 평가를 했다는 점이 조금 거슬리긴 한다."
   ]
  },
  {
   "cell_type": "markdown",
   "id": "superb-faculty",
   "metadata": {},
   "source": [
    "## 2-4. 세션 길이 시각화"
   ]
  },
  {
   "cell_type": "code",
   "execution_count": 78,
   "id": "liable-partnership",
   "metadata": {},
   "outputs": [
    {
     "data": {
      "text/plain": [
       "1      0.272529\n",
       "2      0.373767\n",
       "3      0.424218\n",
       "4      0.456118\n",
       "5      0.483064\n",
       "         ...   \n",
       "768    0.998825\n",
       "769    0.998867\n",
       "771    0.998909\n",
       "775    0.998951\n",
       "777    0.998993\n",
       "Length: 547, dtype: float64"
      ]
     },
     "execution_count": 78,
     "metadata": {},
     "output_type": "execute_result"
    }
   ],
   "source": [
    "length_count = session_length.groupby(session_length).size()\n",
    "length_percent_cumsum = length_count.cumsum() / length_count.sum()\n",
    "length_percent_cumsum_999 = length_percent_cumsum[length_percent_cumsum < 0.999]\n",
    "\n",
    "length_percent_cumsum_999"
   ]
  },
  {
   "cell_type": "code",
   "execution_count": 137,
   "id": "classical-diagram",
   "metadata": {},
   "outputs": [],
   "source": [
    "# 그래프 외의 정보 나와서 설정 변경\n",
    "InteractiveShell.ast_node_interactivity = 'last_expr'"
   ]
  },
  {
   "cell_type": "code",
   "execution_count": 138,
   "id": "induced-runner",
   "metadata": {},
   "outputs": [
    {
     "data": {
      "image/png": "[encoded data removed]",
      "text/plain": [
       "<Figure size 2160x720 with 1 Axes>"
      ]
     },
     "metadata": {
      "needs_background": "light"
     },
     "output_type": "display_data"
    }
   ],
   "source": [
    "plt.figure(figsize=(30, 10))\n",
    "plt.bar(x=length_percent_cumsum_999.index,\n",
    "        height=length_percent_cumsum_999, color='red')\n",
    "plt.xticks(length_percent_cumsum_999.index)\n",
    "plt.yticks(np.arange(0, 1.01, 0.05))\n",
    "plt.title('Cumsum Percentage Until 0.999', size=20)\n",
    "plt.show()"
   ]
  },
  {
   "cell_type": "code",
   "execution_count": 139,
   "id": "decimal-explosion",
   "metadata": {
    "scrolled": false
   },
   "outputs": [],
   "source": [
    "# 다시 여러 셀 출력\n",
    "InteractiveShell.ast_node_interactivity = 'all'"
   ]
  },
  {
   "cell_type": "markdown",
   "id": "downtown-davis",
   "metadata": {},
   "source": [
    "## 2-5. 세션 시간\n",
    "- 해당 데이터는 2000-04-25 23:05:32 부터 2003-02-28 17:49:50 까지의 데이터이다."
   ]
  },
  {
   "cell_type": "code",
   "execution_count": 81,
   "id": "apart-partner",
   "metadata": {
    "scrolled": true
   },
   "outputs": [
    {
     "name": "stdout",
     "output_type": "stream",
     "text": [
      "2000-04-25 23:05:32\n",
      "2003-02-28 17:49:50\n"
     ]
    }
   ],
   "source": [
    "oldest, latest = data['UTC'].min(), data['UTC'].max()\n",
    "print(oldest) \n",
    "print(latest)"
   ]
  },
  {
   "cell_type": "markdown",
   "id": "documented-excuse",
   "metadata": {},
   "source": [
    "# step3) 데이터 전처리\n",
    "- def `cleanse_short_session()`\n",
    "- 우리는 한 세션 내의 활동을 기반으로 바로 사용자가 원하는 영화가 무엇일지를 알아내는 것이 목적이기 때문에 한 사용자가 남긴 평가가 일정 개수 이상인 정보만 보고자한다.\n",
    "- def `cleanse_unpopular_item()`\n",
    "- 사용자의 평가가 많지 않은 경우 추천해도 긍정적인 영향을 얻을 확률이 상대적으로 낮기 때문에 특정 평가 개수 이하의 항목에 대한 평가는 아예 제거한다."
   ]
  },
  {
   "cell_type": "code",
   "execution_count": 82,
   "id": "impaired-square",
   "metadata": {},
   "outputs": [],
   "source": [
    "# short_session을 제거한 다음 unpopular item을 제거하면 다시 길이가 1인 session이 생길 수 있습니다.\n",
    "# 이를 위해 반복문을 통해 지속적으로 제거 합니다.\n",
    "def cleanse_recursive(data: pd.DataFrame, shortest, least_click) -> pd.DataFrame:\n",
    "    while True:\n",
    "        before_len = len(data)\n",
    "        data = cleanse_short_session(data, shortest)\n",
    "        data = cleanse_unpopular_item(data, least_click)\n",
    "        after_len = len(data)\n",
    "        if before_len == after_len:\n",
    "            break\n",
    "    return data\n",
    "\n",
    "\n",
    "def cleanse_short_session(data: pd.DataFrame, shortest):\n",
    "    session_len = data.groupby('SessionId').size()\n",
    "    session_use = session_len[session_len >= shortest].index\n",
    "    data = data[data['SessionId'].isin(session_use)]\n",
    "    return data\n",
    "\n",
    "\n",
    "def cleanse_unpopular_item(data: pd.DataFrame, least_click):\n",
    "    item_popular = data.groupby('ItemId').size()\n",
    "    item_use = item_popular[item_popular >= least_click].index\n",
    "    data = data[data['ItemId'].isin(item_use)]\n",
    "    return data"
   ]
  },
  {
   "cell_type": "code",
   "execution_count": 83,
   "id": "rubber-firmware",
   "metadata": {},
   "outputs": [
    {
     "data": {
      "text/html": [
       "<div>\n",
       "<style scoped>\n",
       "    .dataframe tbody tr th:only-of-type {\n",
       "        vertical-align: middle;\n",
       "    }\n",
       "\n",
       "    .dataframe tbody tr th {\n",
       "        vertical-align: top;\n",
       "    }\n",
       "\n",
       "    .dataframe thead th {\n",
       "        text-align: right;\n",
       "    }\n",
       "</style>\n",
       "<table border=\"1\" class=\"dataframe\">\n",
       "  <thead>\n",
       "    <tr style=\"text-align: right;\">\n",
       "      <th></th>\n",
       "      <th>UserId</th>\n",
       "      <th>ItemId</th>\n",
       "      <th>Rating</th>\n",
       "      <th>Time</th>\n",
       "      <th>UTC</th>\n",
       "      <th>diff</th>\n",
       "      <th>SameUser</th>\n",
       "      <th>SessionId</th>\n",
       "    </tr>\n",
       "  </thead>\n",
       "  <tbody>\n",
       "    <tr>\n",
       "      <th>31</th>\n",
       "      <td>1</td>\n",
       "      <td>3186</td>\n",
       "      <td>4</td>\n",
       "      <td>978300019</td>\n",
       "      <td>2000-12-31 22:00:19</td>\n",
       "      <td>0 days 00:00:00</td>\n",
       "      <td>0.0</td>\n",
       "      <td>1</td>\n",
       "    </tr>\n",
       "    <tr>\n",
       "      <th>22</th>\n",
       "      <td>1</td>\n",
       "      <td>1270</td>\n",
       "      <td>5</td>\n",
       "      <td>978300055</td>\n",
       "      <td>2000-12-31 22:00:55</td>\n",
       "      <td>0 days 00:00:36</td>\n",
       "      <td>0.0</td>\n",
       "      <td>1</td>\n",
       "    </tr>\n",
       "    <tr>\n",
       "      <th>27</th>\n",
       "      <td>1</td>\n",
       "      <td>1721</td>\n",
       "      <td>4</td>\n",
       "      <td>978300055</td>\n",
       "      <td>2000-12-31 22:00:55</td>\n",
       "      <td>0 days 00:00:00</td>\n",
       "      <td>0.0</td>\n",
       "      <td>1</td>\n",
       "    </tr>\n",
       "    <tr>\n",
       "      <th>37</th>\n",
       "      <td>1</td>\n",
       "      <td>1022</td>\n",
       "      <td>5</td>\n",
       "      <td>978300055</td>\n",
       "      <td>2000-12-31 22:00:55</td>\n",
       "      <td>0 days 00:00:00</td>\n",
       "      <td>0.0</td>\n",
       "      <td>1</td>\n",
       "    </tr>\n",
       "    <tr>\n",
       "      <th>24</th>\n",
       "      <td>1</td>\n",
       "      <td>2340</td>\n",
       "      <td>3</td>\n",
       "      <td>978300103</td>\n",
       "      <td>2000-12-31 22:01:43</td>\n",
       "      <td>0 days 00:00:48</td>\n",
       "      <td>0.0</td>\n",
       "      <td>1</td>\n",
       "    </tr>\n",
       "    <tr>\n",
       "      <th>...</th>\n",
       "      <td>...</td>\n",
       "      <td>...</td>\n",
       "      <td>...</td>\n",
       "      <td>...</td>\n",
       "      <td>...</td>\n",
       "      <td>...</td>\n",
       "      <td>...</td>\n",
       "      <td>...</td>\n",
       "    </tr>\n",
       "    <tr>\n",
       "      <th>999923</th>\n",
       "      <td>6040</td>\n",
       "      <td>232</td>\n",
       "      <td>5</td>\n",
       "      <td>997454398</td>\n",
       "      <td>2001-08-10 14:39:58</td>\n",
       "      <td>0 days 00:00:31</td>\n",
       "      <td>0.0</td>\n",
       "      <td>23824</td>\n",
       "    </tr>\n",
       "    <tr>\n",
       "      <th>1000019</th>\n",
       "      <td>6040</td>\n",
       "      <td>2917</td>\n",
       "      <td>4</td>\n",
       "      <td>997454429</td>\n",
       "      <td>2001-08-10 14:40:29</td>\n",
       "      <td>0 days 00:00:31</td>\n",
       "      <td>0.0</td>\n",
       "      <td>23824</td>\n",
       "    </tr>\n",
       "    <tr>\n",
       "      <th>999988</th>\n",
       "      <td>6040</td>\n",
       "      <td>1921</td>\n",
       "      <td>4</td>\n",
       "      <td>997454464</td>\n",
       "      <td>2001-08-10 14:41:04</td>\n",
       "      <td>0 days 00:00:35</td>\n",
       "      <td>0.0</td>\n",
       "      <td>23824</td>\n",
       "    </tr>\n",
       "    <tr>\n",
       "      <th>1000172</th>\n",
       "      <td>6040</td>\n",
       "      <td>1784</td>\n",
       "      <td>3</td>\n",
       "      <td>997454464</td>\n",
       "      <td>2001-08-10 14:41:04</td>\n",
       "      <td>0 days 00:00:00</td>\n",
       "      <td>0.0</td>\n",
       "      <td>23824</td>\n",
       "    </tr>\n",
       "    <tr>\n",
       "      <th>1000167</th>\n",
       "      <td>6040</td>\n",
       "      <td>161</td>\n",
       "      <td>3</td>\n",
       "      <td>997454486</td>\n",
       "      <td>2001-08-10 14:41:26</td>\n",
       "      <td>0 days 00:00:22</td>\n",
       "      <td>0.0</td>\n",
       "      <td>23824</td>\n",
       "    </tr>\n",
       "  </tbody>\n",
       "</table>\n",
       "<p>993080 rows × 8 columns</p>\n",
       "</div>"
      ],
      "text/plain": [
       "         UserId  ItemId  Rating       Time                 UTC  \\\n",
       "31            1    3186       4  978300019 2000-12-31 22:00:19   \n",
       "22            1    1270       5  978300055 2000-12-31 22:00:55   \n",
       "27            1    1721       4  978300055 2000-12-31 22:00:55   \n",
       "37            1    1022       5  978300055 2000-12-31 22:00:55   \n",
       "24            1    2340       3  978300103 2000-12-31 22:01:43   \n",
       "...         ...     ...     ...        ...                 ...   \n",
       "999923     6040     232       5  997454398 2001-08-10 14:39:58   \n",
       "1000019    6040    2917       4  997454429 2001-08-10 14:40:29   \n",
       "999988     6040    1921       4  997454464 2001-08-10 14:41:04   \n",
       "1000172    6040    1784       3  997454464 2001-08-10 14:41:04   \n",
       "1000167    6040     161       3  997454486 2001-08-10 14:41:26   \n",
       "\n",
       "                   diff  SameUser  SessionId  \n",
       "31      0 days 00:00:00       0.0          1  \n",
       "22      0 days 00:00:36       0.0          1  \n",
       "27      0 days 00:00:00       0.0          1  \n",
       "37      0 days 00:00:00       0.0          1  \n",
       "24      0 days 00:00:48       0.0          1  \n",
       "...                 ...       ...        ...  \n",
       "999923  0 days 00:00:31       0.0      23824  \n",
       "1000019 0 days 00:00:31       0.0      23824  \n",
       "999988  0 days 00:00:35       0.0      23824  \n",
       "1000172 0 days 00:00:00       0.0      23824  \n",
       "1000167 0 days 00:00:22       0.0      23824  \n",
       "\n",
       "[993080 rows x 8 columns]"
      ]
     },
     "execution_count": 83,
     "metadata": {},
     "output_type": "execute_result"
    }
   ],
   "source": [
    "data = cleanse_recursive(data, shortest=2, least_click=5)\n",
    "data"
   ]
  },
  {
   "cell_type": "markdown",
   "id": "editorial-henry",
   "metadata": {},
   "source": [
    "# step4) 미니 배치 구성"
   ]
  },
  {
   "cell_type": "markdown",
   "id": "eleven-batch",
   "metadata": {},
   "source": [
    "- 학습을 위한 데이터셋과 미니 배치를 구성한다.\n",
    "- 따로 긴 세션에 대한 전처리를 하지 않았으므로 Session-Parallel Mini Batch 작업이 성능 향상에 도움을 줄 것이다."
   ]
  },
  {
   "cell_type": "markdown",
   "id": "miniature-segment",
   "metadata": {},
   "source": [
    "## 4-1. train, val, test 데이터셋 분리\n",
    "- 별도로 `train`, `test` 데이터셋 구분이 없기 때문에 전처리한 데이터셋을 분리해주자.\n",
    "- 데이터의 기간은 우선 전체로 한다.\n",
    "- `validation`의 데이터의 기간은 최신 16~31일\n",
    "- `test` 데이터 셋의 기간은 최신 15일\n",
    "- `train`의 기간은 그 외 전부로 한다."
   ]
  },
  {
   "cell_type": "code",
   "execution_count": 85,
   "id": "spoken-final",
   "metadata": {},
   "outputs": [
    {
     "data": {
      "text/html": [
       "<div>\n",
       "<style scoped>\n",
       "    .dataframe tbody tr th:only-of-type {\n",
       "        vertical-align: middle;\n",
       "    }\n",
       "\n",
       "    .dataframe tbody tr th {\n",
       "        vertical-align: top;\n",
       "    }\n",
       "\n",
       "    .dataframe thead th {\n",
       "        text-align: right;\n",
       "    }\n",
       "</style>\n",
       "<table border=\"1\" class=\"dataframe\">\n",
       "  <thead>\n",
       "    <tr style=\"text-align: right;\">\n",
       "      <th></th>\n",
       "      <th>UserId</th>\n",
       "      <th>ItemId</th>\n",
       "      <th>Rating</th>\n",
       "      <th>UTC</th>\n",
       "      <th>SessionId</th>\n",
       "    </tr>\n",
       "  </thead>\n",
       "  <tbody>\n",
       "    <tr>\n",
       "      <th>31</th>\n",
       "      <td>1</td>\n",
       "      <td>3186</td>\n",
       "      <td>4</td>\n",
       "      <td>2000-12-31 22:00:19</td>\n",
       "      <td>1</td>\n",
       "    </tr>\n",
       "    <tr>\n",
       "      <th>22</th>\n",
       "      <td>1</td>\n",
       "      <td>1270</td>\n",
       "      <td>5</td>\n",
       "      <td>2000-12-31 22:00:55</td>\n",
       "      <td>1</td>\n",
       "    </tr>\n",
       "    <tr>\n",
       "      <th>27</th>\n",
       "      <td>1</td>\n",
       "      <td>1721</td>\n",
       "      <td>4</td>\n",
       "      <td>2000-12-31 22:00:55</td>\n",
       "      <td>1</td>\n",
       "    </tr>\n",
       "    <tr>\n",
       "      <th>37</th>\n",
       "      <td>1</td>\n",
       "      <td>1022</td>\n",
       "      <td>5</td>\n",
       "      <td>2000-12-31 22:00:55</td>\n",
       "      <td>1</td>\n",
       "    </tr>\n",
       "    <tr>\n",
       "      <th>24</th>\n",
       "      <td>1</td>\n",
       "      <td>2340</td>\n",
       "      <td>3</td>\n",
       "      <td>2000-12-31 22:01:43</td>\n",
       "      <td>1</td>\n",
       "    </tr>\n",
       "    <tr>\n",
       "      <th>...</th>\n",
       "      <td>...</td>\n",
       "      <td>...</td>\n",
       "      <td>...</td>\n",
       "      <td>...</td>\n",
       "      <td>...</td>\n",
       "    </tr>\n",
       "    <tr>\n",
       "      <th>999923</th>\n",
       "      <td>6040</td>\n",
       "      <td>232</td>\n",
       "      <td>5</td>\n",
       "      <td>2001-08-10 14:39:58</td>\n",
       "      <td>23824</td>\n",
       "    </tr>\n",
       "    <tr>\n",
       "      <th>1000019</th>\n",
       "      <td>6040</td>\n",
       "      <td>2917</td>\n",
       "      <td>4</td>\n",
       "      <td>2001-08-10 14:40:29</td>\n",
       "      <td>23824</td>\n",
       "    </tr>\n",
       "    <tr>\n",
       "      <th>999988</th>\n",
       "      <td>6040</td>\n",
       "      <td>1921</td>\n",
       "      <td>4</td>\n",
       "      <td>2001-08-10 14:41:04</td>\n",
       "      <td>23824</td>\n",
       "    </tr>\n",
       "    <tr>\n",
       "      <th>1000172</th>\n",
       "      <td>6040</td>\n",
       "      <td>1784</td>\n",
       "      <td>3</td>\n",
       "      <td>2001-08-10 14:41:04</td>\n",
       "      <td>23824</td>\n",
       "    </tr>\n",
       "    <tr>\n",
       "      <th>1000167</th>\n",
       "      <td>6040</td>\n",
       "      <td>161</td>\n",
       "      <td>3</td>\n",
       "      <td>2001-08-10 14:41:26</td>\n",
       "      <td>23824</td>\n",
       "    </tr>\n",
       "  </tbody>\n",
       "</table>\n",
       "<p>993080 rows × 5 columns</p>\n",
       "</div>"
      ],
      "text/plain": [
       "         UserId  ItemId  Rating                 UTC  SessionId\n",
       "31            1    3186       4 2000-12-31 22:00:19          1\n",
       "22            1    1270       5 2000-12-31 22:00:55          1\n",
       "27            1    1721       4 2000-12-31 22:00:55          1\n",
       "37            1    1022       5 2000-12-31 22:00:55          1\n",
       "24            1    2340       3 2000-12-31 22:01:43          1\n",
       "...         ...     ...     ...                 ...        ...\n",
       "999923     6040     232       5 2001-08-10 14:39:58      23824\n",
       "1000019    6040    2917       4 2001-08-10 14:40:29      23824\n",
       "999988     6040    1921       4 2001-08-10 14:41:04      23824\n",
       "1000172    6040    1784       3 2001-08-10 14:41:04      23824\n",
       "1000167    6040     161       3 2001-08-10 14:41:26      23824\n",
       "\n",
       "[993080 rows x 5 columns]"
      ]
     },
     "execution_count": 85,
     "metadata": {},
     "output_type": "execute_result"
    }
   ],
   "source": [
    "train_data = data.drop(['Time','diff','SameUser'],axis=1)\n",
    "train_data"
   ]
  },
  {
   "cell_type": "code",
   "execution_count": 97,
   "id": "opposite-poverty",
   "metadata": {},
   "outputs": [],
   "source": [
    "def split_by_date(data: pd.DataFrame, n_days: int):\n",
    "    final_time = data['UTC'].max()\n",
    "    session_last_time = data.groupby('SessionId')['UTC'].max()\n",
    "    session_in_train = session_last_time[session_last_time < final_time - dt.timedelta(n_days)].index\n",
    "    session_in_test = session_last_time[session_last_time >= final_time - dt.timedelta(n_days)].index\n",
    "\n",
    "    before_date = data[data['SessionId'].isin(session_in_train)]\n",
    "    after_date = data[data['SessionId'].isin(session_in_test)]\n",
    "    after_date = after_date[after_date['ItemId'].isin(before_date['ItemId'])]\n",
    "    return before_date, after_date"
   ]
  },
  {
   "cell_type": "code",
   "execution_count": 101,
   "id": "roman-alliance",
   "metadata": {},
   "outputs": [],
   "source": [
    "tr, test = split_by_date(train_data, n_days=15)\n",
    "tr, val = split_by_date(tr, n_days=15)"
   ]
  },
  {
   "cell_type": "code",
   "execution_count": 102,
   "id": "local-syria",
   "metadata": {},
   "outputs": [],
   "source": [
    "# data에 대한 정보를 살펴봅니다.\n",
    "def stats_info(data: pd.DataFrame, status: str):\n",
    "    print(f'* {status} Set Stats Info\\n'\n",
    "          f'\\t Events: {len(data)}\\n'\n",
    "          f'\\t Sessions: {data[\"UserId\"].nunique()}\\n'\n",
    "          f'\\t Items: {data[\"ItemId\"].nunique()}\\n'\n",
    "          f'\\t First Time : {data[\"UTC\"].min()}\\n'\n",
    "          f'\\t Last Time : {data[\"UTC\"].max()}\\n')"
   ]
  },
  {
   "cell_type": "code",
   "execution_count": 103,
   "id": "statutory-pressing",
   "metadata": {},
   "outputs": [
    {
     "name": "stdout",
     "output_type": "stream",
     "text": [
      "* train Set Stats Info\n",
      "\t Events: 991631\n",
      "\t Sessions: 6040\n",
      "\t Items: 3405\n",
      "\t First Time : 2000-04-25 23:05:32\n",
      "\t Last Time : 2003-01-29 00:35:10\n",
      "\n",
      "* valid Set Stats Info\n",
      "\t Events: 846\n",
      "\t Sessions: 37\n",
      "\t Items: 667\n",
      "\t First Time : 2003-01-29 02:58:33\n",
      "\t Last Time : 2003-02-13 02:34:39\n",
      "\n",
      "* test Set Stats Info\n",
      "\t Events: 603\n",
      "\t Sessions: 39\n",
      "\t Items: 504\n",
      "\t First Time : 2003-02-13 18:06:30\n",
      "\t Last Time : 2003-02-28 17:49:50\n",
      "\n"
     ]
    }
   ],
   "source": [
    "stats_info(tr, 'train')\n",
    "stats_info(val, 'valid')\n",
    "stats_info(test, 'test')"
   ]
  },
  {
   "cell_type": "markdown",
   "id": "endless-remove",
   "metadata": {},
   "source": [
    "## 3-2. train data 기준 인덱싱"
   ]
  },
  {
   "cell_type": "code",
   "execution_count": 110,
   "id": "prescribed-school",
   "metadata": {},
   "outputs": [],
   "source": [
    "# train set에 없는 아이템이 val, test기간에 생길 수 있으므로 train data를 기준으로 인덱싱합니다.\n",
    "id2idx = {item_id : index for index, item_id in enumerate(tr['ItemId'].unique())}\n",
    "\n",
    "def indexing(df, id2idx):\n",
    "    df['item_idx'] = df['ItemId'].map(lambda x: id2idx.get(x, -1))  # id2idx에 없는 아이템은 모르는 값(-1) 처리 해줍니다.\n",
    "    return df\n",
    "\n",
    "tr = indexing(tr, id2idx)\n",
    "val = indexing(val, id2idx)\n",
    "test = indexing(test, id2idx)"
   ]
  },
  {
   "cell_type": "code",
   "execution_count": 111,
   "id": "auburn-equivalent",
   "metadata": {},
   "outputs": [],
   "source": [
    "save_path = data_path / 'processed'\n",
    "save_path.mkdir(parents=True, exist_ok=True)"
   ]
  },
  {
   "cell_type": "code",
   "execution_count": 112,
   "id": "descending-accommodation",
   "metadata": {},
   "outputs": [],
   "source": [
    "tr.to_pickle(save_path / 'train.pkl')\n",
    "val.to_pickle(save_path / 'valid.pkl')\n",
    "test.to_pickle(save_path / 'test.pkl')"
   ]
  },
  {
   "cell_type": "code",
   "execution_count": 113,
   "id": "selected-listening",
   "metadata": {},
   "outputs": [
    {
     "data": {
      "text/html": [
       "<div>\n",
       "<style scoped>\n",
       "    .dataframe tbody tr th:only-of-type {\n",
       "        vertical-align: middle;\n",
       "    }\n",
       "\n",
       "    .dataframe tbody tr th {\n",
       "        vertical-align: top;\n",
       "    }\n",
       "\n",
       "    .dataframe thead th {\n",
       "        text-align: right;\n",
       "    }\n",
       "</style>\n",
       "<table border=\"1\" class=\"dataframe\">\n",
       "  <thead>\n",
       "    <tr style=\"text-align: right;\">\n",
       "      <th></th>\n",
       "      <th>UserId</th>\n",
       "      <th>ItemId</th>\n",
       "      <th>Rating</th>\n",
       "      <th>UTC</th>\n",
       "      <th>SessionId</th>\n",
       "      <th>item_idx</th>\n",
       "    </tr>\n",
       "  </thead>\n",
       "  <tbody>\n",
       "    <tr>\n",
       "      <th>31</th>\n",
       "      <td>1</td>\n",
       "      <td>3186</td>\n",
       "      <td>4</td>\n",
       "      <td>2000-12-31 22:00:19</td>\n",
       "      <td>1</td>\n",
       "      <td>0</td>\n",
       "    </tr>\n",
       "    <tr>\n",
       "      <th>22</th>\n",
       "      <td>1</td>\n",
       "      <td>1270</td>\n",
       "      <td>5</td>\n",
       "      <td>2000-12-31 22:00:55</td>\n",
       "      <td>1</td>\n",
       "      <td>1</td>\n",
       "    </tr>\n",
       "    <tr>\n",
       "      <th>27</th>\n",
       "      <td>1</td>\n",
       "      <td>1721</td>\n",
       "      <td>4</td>\n",
       "      <td>2000-12-31 22:00:55</td>\n",
       "      <td>1</td>\n",
       "      <td>2</td>\n",
       "    </tr>\n",
       "    <tr>\n",
       "      <th>37</th>\n",
       "      <td>1</td>\n",
       "      <td>1022</td>\n",
       "      <td>5</td>\n",
       "      <td>2000-12-31 22:00:55</td>\n",
       "      <td>1</td>\n",
       "      <td>3</td>\n",
       "    </tr>\n",
       "    <tr>\n",
       "      <th>24</th>\n",
       "      <td>1</td>\n",
       "      <td>2340</td>\n",
       "      <td>3</td>\n",
       "      <td>2000-12-31 22:01:43</td>\n",
       "      <td>1</td>\n",
       "      <td>4</td>\n",
       "    </tr>\n",
       "  </tbody>\n",
       "</table>\n",
       "</div>"
      ],
      "text/plain": [
       "    UserId  ItemId  Rating                 UTC  SessionId  item_idx\n",
       "31       1    3186       4 2000-12-31 22:00:19          1         0\n",
       "22       1    1270       5 2000-12-31 22:00:55          1         1\n",
       "27       1    1721       4 2000-12-31 22:00:55          1         2\n",
       "37       1    1022       5 2000-12-31 22:00:55          1         3\n",
       "24       1    2340       3 2000-12-31 22:01:43          1         4"
      ]
     },
     "execution_count": 113,
     "metadata": {},
     "output_type": "execute_result"
    },
    {
     "data": {
      "text/html": [
       "<div>\n",
       "<style scoped>\n",
       "    .dataframe tbody tr th:only-of-type {\n",
       "        vertical-align: middle;\n",
       "    }\n",
       "\n",
       "    .dataframe tbody tr th {\n",
       "        vertical-align: top;\n",
       "    }\n",
       "\n",
       "    .dataframe thead th {\n",
       "        text-align: right;\n",
       "    }\n",
       "</style>\n",
       "<table border=\"1\" class=\"dataframe\">\n",
       "  <thead>\n",
       "    <tr style=\"text-align: right;\">\n",
       "      <th></th>\n",
       "      <th>UserId</th>\n",
       "      <th>ItemId</th>\n",
       "      <th>Rating</th>\n",
       "      <th>UTC</th>\n",
       "      <th>SessionId</th>\n",
       "      <th>item_idx</th>\n",
       "    </tr>\n",
       "  </thead>\n",
       "  <tbody>\n",
       "    <tr>\n",
       "      <th>28443</th>\n",
       "      <td>195</td>\n",
       "      <td>468</td>\n",
       "      <td>3</td>\n",
       "      <td>2003-02-11 17:42:36</td>\n",
       "      <td>913</td>\n",
       "      <td>1309</td>\n",
       "    </tr>\n",
       "    <tr>\n",
       "      <th>28255</th>\n",
       "      <td>195</td>\n",
       "      <td>2748</td>\n",
       "      <td>1</td>\n",
       "      <td>2003-02-11 18:23:28</td>\n",
       "      <td>913</td>\n",
       "      <td>1695</td>\n",
       "    </tr>\n",
       "    <tr>\n",
       "      <th>28281</th>\n",
       "      <td>195</td>\n",
       "      <td>410</td>\n",
       "      <td>2</td>\n",
       "      <td>2003-02-11 18:23:28</td>\n",
       "      <td>913</td>\n",
       "      <td>1835</td>\n",
       "    </tr>\n",
       "    <tr>\n",
       "      <th>28389</th>\n",
       "      <td>195</td>\n",
       "      <td>2791</td>\n",
       "      <td>3</td>\n",
       "      <td>2003-02-11 18:23:28</td>\n",
       "      <td>913</td>\n",
       "      <td>34</td>\n",
       "    </tr>\n",
       "    <tr>\n",
       "      <th>28391</th>\n",
       "      <td>195</td>\n",
       "      <td>2792</td>\n",
       "      <td>2</td>\n",
       "      <td>2003-02-11 18:23:28</td>\n",
       "      <td>913</td>\n",
       "      <td>1194</td>\n",
       "    </tr>\n",
       "  </tbody>\n",
       "</table>\n",
       "</div>"
      ],
      "text/plain": [
       "       UserId  ItemId  Rating                 UTC  SessionId  item_idx\n",
       "28443     195     468       3 2003-02-11 17:42:36        913      1309\n",
       "28255     195    2748       1 2003-02-11 18:23:28        913      1695\n",
       "28281     195     410       2 2003-02-11 18:23:28        913      1835\n",
       "28389     195    2791       3 2003-02-11 18:23:28        913        34\n",
       "28391     195    2792       2 2003-02-11 18:23:28        913      1194"
      ]
     },
     "execution_count": 113,
     "metadata": {},
     "output_type": "execute_result"
    },
    {
     "data": {
      "text/html": [
       "<div>\n",
       "<style scoped>\n",
       "    .dataframe tbody tr th:only-of-type {\n",
       "        vertical-align: middle;\n",
       "    }\n",
       "\n",
       "    .dataframe tbody tr th {\n",
       "        vertical-align: top;\n",
       "    }\n",
       "\n",
       "    .dataframe thead th {\n",
       "        text-align: right;\n",
       "    }\n",
       "</style>\n",
       "<table border=\"1\" class=\"dataframe\">\n",
       "  <thead>\n",
       "    <tr style=\"text-align: right;\">\n",
       "      <th></th>\n",
       "      <th>UserId</th>\n",
       "      <th>ItemId</th>\n",
       "      <th>Rating</th>\n",
       "      <th>UTC</th>\n",
       "      <th>SessionId</th>\n",
       "      <th>item_idx</th>\n",
       "    </tr>\n",
       "  </thead>\n",
       "  <tbody>\n",
       "    <tr>\n",
       "      <th>27895</th>\n",
       "      <td>195</td>\n",
       "      <td>2247</td>\n",
       "      <td>2</td>\n",
       "      <td>2003-02-16 00:48:27</td>\n",
       "      <td>914</td>\n",
       "      <td>1402</td>\n",
       "    </tr>\n",
       "    <tr>\n",
       "      <th>27846</th>\n",
       "      <td>195</td>\n",
       "      <td>1356</td>\n",
       "      <td>2</td>\n",
       "      <td>2003-02-16 01:27:14</td>\n",
       "      <td>914</td>\n",
       "      <td>549</td>\n",
       "    </tr>\n",
       "    <tr>\n",
       "      <th>27901</th>\n",
       "      <td>195</td>\n",
       "      <td>1374</td>\n",
       "      <td>3</td>\n",
       "      <td>2003-02-16 01:27:14</td>\n",
       "      <td>914</td>\n",
       "      <td>740</td>\n",
       "    </tr>\n",
       "    <tr>\n",
       "      <th>27902</th>\n",
       "      <td>195</td>\n",
       "      <td>1375</td>\n",
       "      <td>2</td>\n",
       "      <td>2003-02-16 01:27:14</td>\n",
       "      <td>914</td>\n",
       "      <td>641</td>\n",
       "    </tr>\n",
       "    <tr>\n",
       "      <th>28241</th>\n",
       "      <td>195</td>\n",
       "      <td>329</td>\n",
       "      <td>2</td>\n",
       "      <td>2003-02-16 01:27:14</td>\n",
       "      <td>914</td>\n",
       "      <td>670</td>\n",
       "    </tr>\n",
       "  </tbody>\n",
       "</table>\n",
       "</div>"
      ],
      "text/plain": [
       "       UserId  ItemId  Rating                 UTC  SessionId  item_idx\n",
       "27895     195    2247       2 2003-02-16 00:48:27        914      1402\n",
       "27846     195    1356       2 2003-02-16 01:27:14        914       549\n",
       "27901     195    1374       3 2003-02-16 01:27:14        914       740\n",
       "27902     195    1375       2 2003-02-16 01:27:14        914       641\n",
       "28241     195     329       2 2003-02-16 01:27:14        914       670"
      ]
     },
     "execution_count": 113,
     "metadata": {},
     "output_type": "execute_result"
    }
   ],
   "source": [
    "tr = pd.read_pickle(save_path / 'train.pkl')\n",
    "val = pd.read_pickle(save_path / 'valid.pkl')\n",
    "test = pd.read_pickle(save_path / 'test.pkl')\n",
    "tr.head()\n",
    "val.head()\n",
    "test.head()"
   ]
  },
  {
   "cell_type": "markdown",
   "id": "resident-genesis",
   "metadata": {},
   "source": [
    "## 4-2. `SessionDataset` 클래스\n",
    "- 데이터로 부터 세션이 시작되는 인덱스를 담는 값과 세션을 새로 인덱싱한 값을 저장\n",
    "- `SessionDataset.click_offsets` : 각 세션이 시작된 인덱스 담는 멤버변수\n",
    "- `SessionDataset.session_idx` : 각 세션을 인덱싱한 `np.array`"
   ]
  },
  {
   "cell_type": "code",
   "execution_count": 114,
   "id": "known-lawyer",
   "metadata": {},
   "outputs": [],
   "source": [
    "class SessionDataset:\n",
    "    \"\"\"Credit to yhs-968/pyGRU4REC.\"\"\"\n",
    "\n",
    "    def __init__(self, data):\n",
    "        self.df = data\n",
    "        self.click_offsets = self.get_click_offsets()\n",
    "        self.session_idx = np.arange(self.df['SessionId'].nunique())  # indexing to SessionId\n",
    "\n",
    "    def get_click_offsets(self):\n",
    "        \"\"\"\n",
    "        Return the indexes of the first click of each session IDs,\n",
    "        \"\"\"\n",
    "        offsets = np.zeros(self.df['SessionId'].nunique() + 1, dtype=np.int32)\n",
    "        offsets[1:] = self.df.groupby('SessionId').size().cumsum()\n",
    "        return offsets"
   ]
  },
  {
   "cell_type": "markdown",
   "id": "plastic-anaheim",
   "metadata": {},
   "source": [
    "- 인스턴스 변수"
   ]
  },
  {
   "cell_type": "code",
   "execution_count": 115,
   "id": "acting-ideal",
   "metadata": {
    "scrolled": true
   },
   "outputs": [
    {
     "data": {
      "text/html": [
       "<div>\n",
       "<style scoped>\n",
       "    .dataframe tbody tr th:only-of-type {\n",
       "        vertical-align: middle;\n",
       "    }\n",
       "\n",
       "    .dataframe tbody tr th {\n",
       "        vertical-align: top;\n",
       "    }\n",
       "\n",
       "    .dataframe thead th {\n",
       "        text-align: right;\n",
       "    }\n",
       "</style>\n",
       "<table border=\"1\" class=\"dataframe\">\n",
       "  <thead>\n",
       "    <tr style=\"text-align: right;\">\n",
       "      <th></th>\n",
       "      <th>UserId</th>\n",
       "      <th>ItemId</th>\n",
       "      <th>Rating</th>\n",
       "      <th>UTC</th>\n",
       "      <th>SessionId</th>\n",
       "      <th>item_idx</th>\n",
       "    </tr>\n",
       "  </thead>\n",
       "  <tbody>\n",
       "    <tr>\n",
       "      <th>31</th>\n",
       "      <td>1</td>\n",
       "      <td>3186</td>\n",
       "      <td>4</td>\n",
       "      <td>2000-12-31 22:00:19</td>\n",
       "      <td>1</td>\n",
       "      <td>0</td>\n",
       "    </tr>\n",
       "    <tr>\n",
       "      <th>22</th>\n",
       "      <td>1</td>\n",
       "      <td>1270</td>\n",
       "      <td>5</td>\n",
       "      <td>2000-12-31 22:00:55</td>\n",
       "      <td>1</td>\n",
       "      <td>1</td>\n",
       "    </tr>\n",
       "    <tr>\n",
       "      <th>27</th>\n",
       "      <td>1</td>\n",
       "      <td>1721</td>\n",
       "      <td>4</td>\n",
       "      <td>2000-12-31 22:00:55</td>\n",
       "      <td>1</td>\n",
       "      <td>2</td>\n",
       "    </tr>\n",
       "    <tr>\n",
       "      <th>37</th>\n",
       "      <td>1</td>\n",
       "      <td>1022</td>\n",
       "      <td>5</td>\n",
       "      <td>2000-12-31 22:00:55</td>\n",
       "      <td>1</td>\n",
       "      <td>3</td>\n",
       "    </tr>\n",
       "    <tr>\n",
       "      <th>24</th>\n",
       "      <td>1</td>\n",
       "      <td>2340</td>\n",
       "      <td>3</td>\n",
       "      <td>2000-12-31 22:01:43</td>\n",
       "      <td>1</td>\n",
       "      <td>4</td>\n",
       "    </tr>\n",
       "    <tr>\n",
       "      <th>36</th>\n",
       "      <td>1</td>\n",
       "      <td>1836</td>\n",
       "      <td>5</td>\n",
       "      <td>2000-12-31 22:02:52</td>\n",
       "      <td>1</td>\n",
       "      <td>5</td>\n",
       "    </tr>\n",
       "    <tr>\n",
       "      <th>3</th>\n",
       "      <td>1</td>\n",
       "      <td>3408</td>\n",
       "      <td>4</td>\n",
       "      <td>2000-12-31 22:04:35</td>\n",
       "      <td>1</td>\n",
       "      <td>6</td>\n",
       "    </tr>\n",
       "    <tr>\n",
       "      <th>7</th>\n",
       "      <td>1</td>\n",
       "      <td>2804</td>\n",
       "      <td>5</td>\n",
       "      <td>2000-12-31 22:11:59</td>\n",
       "      <td>1</td>\n",
       "      <td>7</td>\n",
       "    </tr>\n",
       "    <tr>\n",
       "      <th>47</th>\n",
       "      <td>1</td>\n",
       "      <td>1207</td>\n",
       "      <td>4</td>\n",
       "      <td>2000-12-31 22:11:59</td>\n",
       "      <td>1</td>\n",
       "      <td>8</td>\n",
       "    </tr>\n",
       "    <tr>\n",
       "      <th>0</th>\n",
       "      <td>1</td>\n",
       "      <td>1193</td>\n",
       "      <td>5</td>\n",
       "      <td>2000-12-31 22:12:40</td>\n",
       "      <td>1</td>\n",
       "      <td>9</td>\n",
       "    </tr>\n",
       "  </tbody>\n",
       "</table>\n",
       "</div>"
      ],
      "text/plain": [
       "    UserId  ItemId  Rating                 UTC  SessionId  item_idx\n",
       "31       1    3186       4 2000-12-31 22:00:19          1         0\n",
       "22       1    1270       5 2000-12-31 22:00:55          1         1\n",
       "27       1    1721       4 2000-12-31 22:00:55          1         2\n",
       "37       1    1022       5 2000-12-31 22:00:55          1         3\n",
       "24       1    2340       3 2000-12-31 22:01:43          1         4\n",
       "36       1    1836       5 2000-12-31 22:02:52          1         5\n",
       "3        1    3408       4 2000-12-31 22:04:35          1         6\n",
       "7        1    2804       5 2000-12-31 22:11:59          1         7\n",
       "47       1    1207       4 2000-12-31 22:11:59          1         8\n",
       "0        1    1193       5 2000-12-31 22:12:40          1         9"
      ]
     },
     "execution_count": 115,
     "metadata": {},
     "output_type": "execute_result"
    }
   ],
   "source": [
    "tr_dataset = SessionDataset(tr)\n",
    "tr_dataset.df.head(10)"
   ]
  },
  {
   "cell_type": "code",
   "execution_count": 116,
   "id": "shaped-championship",
   "metadata": {},
   "outputs": [
    {
     "data": {
      "text/plain": [
       "array([     0,     40,     53, ..., 991596, 991610, 991631], dtype=int32)"
      ]
     },
     "execution_count": 116,
     "metadata": {},
     "output_type": "execute_result"
    }
   ],
   "source": [
    "tr_dataset.click_offsets"
   ]
  },
  {
   "cell_type": "code",
   "execution_count": 117,
   "id": "conventional-marks",
   "metadata": {
    "scrolled": true
   },
   "outputs": [
    {
     "data": {
      "text/plain": [
       "array([    0,     1,     2, ..., 17216, 17217, 17218])"
      ]
     },
     "execution_count": 117,
     "metadata": {},
     "output_type": "execute_result"
    }
   ],
   "source": [
    "tr_dataset.session_idx"
   ]
  },
  {
   "cell_type": "markdown",
   "id": "accepted-consistency",
   "metadata": {},
   "source": [
    "## 4-3. `SessionDataLoader`\n",
    "- `SessionDataset` 객체로 부터 `Session-Parallel mini-batch` 만드는 클래스\n",
    "- `__iter__` 메소드는 모델 이눗, 라벨, 세션이 끝나는 곳의 위치를 `yield`"
   ]
  },
  {
   "cell_type": "code",
   "execution_count": 118,
   "id": "heard-basketball",
   "metadata": {},
   "outputs": [],
   "source": [
    "class SessionDataLoader:\n",
    "    \"\"\"Credit to yhs-968/pyGRU4REC.\"\"\"\n",
    "\n",
    "    def __init__(self, dataset: SessionDataset, batch_size=50):\n",
    "        self.dataset = dataset\n",
    "        self.batch_size = batch_size\n",
    "\n",
    "    def __iter__(self):\n",
    "        \"\"\" Returns the iterator for producing session-parallel training mini-batches.\n",
    "        Yields:\n",
    "            input (B,):  Item indices that will be encoded as one-hot vectors later.\n",
    "            target (B,): a Variable that stores the target item indices\n",
    "            masks: Numpy array indicating the positions of the sessions to be terminated\n",
    "        \"\"\"\n",
    "\n",
    "        start, end, mask, last_session, finished = self.initialize()  # initialize 메소드에서 확인해주세요.\n",
    "        \"\"\"\n",
    "        start : Index Where Session Start\n",
    "        end : Index Where Session End\n",
    "        mask : indicator for the sessions to be terminated\n",
    "        \"\"\"\n",
    "\n",
    "        while not finished:\n",
    "            min_len = (end - start).min() - 1  # Shortest Length Among Sessions\n",
    "            for i in range(min_len):\n",
    "                # Build inputs & targets\n",
    "                inp = self.dataset.df['item_idx'].values[start + i]\n",
    "                target = self.dataset.df['item_idx'].values[start + i + 1]\n",
    "                yield inp, target, mask\n",
    "\n",
    "            start, end, mask, last_session, finished = self.update_status(start, end, min_len, last_session, finished)\n",
    "\n",
    "    def initialize(self):\n",
    "        first_iters = np.arange(self.batch_size)    # 첫 배치에 사용할 세션 Index를 가져옵니다.\n",
    "        last_session = self.batch_size - 1    # 마지막으로 다루고 있는 세션 Index를 저장해둡니다.\n",
    "        start = self.dataset.click_offsets[self.dataset.session_idx[first_iters]]       # data 상에서 session이 시작된 위치를 가져옵니다.\n",
    "        end = self.dataset.click_offsets[self.dataset.session_idx[first_iters] + 1]  # session이 끝난 위치 바로 다음 위치를 가져옵니다.\n",
    "        mask = np.array([])   # session의 모든 아이템을 다 돌은 경우 mask에 추가해줄 것입니다.\n",
    "        finished = False         # data를 전부 돌았는지 기록하기 위한 변수입니다.\n",
    "        return start, end, mask, last_session, finished\n",
    "\n",
    "    def update_status(self, start: np.ndarray, end: np.ndarray, min_len: int, last_session: int, finished: bool):  \n",
    "        # 다음 배치 데이터를 생성하기 위해 상태를 update합니다.\n",
    "        \n",
    "        start += min_len   # __iter__에서 min_len 만큼 for문을 돌았으므로 start를 min_len 만큼 더해줍니다.\n",
    "        mask = np.arange(self.batch_size)[(end - start) == 1]  \n",
    "        # end는 다음 세션이 시작되는 위치인데 start와 한 칸 차이난다는 것은 session이 끝났다는 뜻입니다. mask에 기록해줍니다.\n",
    "\n",
    "        for i, idx in enumerate(mask, start=1):  # mask에 추가된 세션 개수만큼 새로운 세션을 돌것입니다.\n",
    "            new_session = last_session + i  \n",
    "            if new_session > self.dataset.session_idx[-1]:  # 만약 새로운 세션이 마지막 세션 index보다 크다면 모든 학습데이터를 돈 것입니다.\n",
    "                finished = True\n",
    "                break\n",
    "            # update the next starting/ending point\n",
    "            start[idx] = self.dataset.click_offsets[self.dataset.session_idx[new_session]]     # 종료된 세션 대신 새로운 세션의 시작점을 기록합니다.\n",
    "            end[idx] = self.dataset.click_offsets[self.dataset.session_idx[new_session] + 1]\n",
    "\n",
    "        last_session += len(mask)  # 마지막 세션의 위치를 기록해둡니다.\n",
    "        return start, end, mask, last_session, finished"
   ]
  },
  {
   "cell_type": "code",
   "execution_count": 119,
   "id": "combined-arabic",
   "metadata": {},
   "outputs": [
    {
     "data": {
      "text/html": [
       "<div>\n",
       "<style scoped>\n",
       "    .dataframe tbody tr th:only-of-type {\n",
       "        vertical-align: middle;\n",
       "    }\n",
       "\n",
       "    .dataframe tbody tr th {\n",
       "        vertical-align: top;\n",
       "    }\n",
       "\n",
       "    .dataframe thead th {\n",
       "        text-align: right;\n",
       "    }\n",
       "</style>\n",
       "<table border=\"1\" class=\"dataframe\">\n",
       "  <thead>\n",
       "    <tr style=\"text-align: right;\">\n",
       "      <th></th>\n",
       "      <th>UserId</th>\n",
       "      <th>ItemId</th>\n",
       "      <th>Rating</th>\n",
       "      <th>UTC</th>\n",
       "      <th>SessionId</th>\n",
       "      <th>item_idx</th>\n",
       "    </tr>\n",
       "  </thead>\n",
       "  <tbody>\n",
       "    <tr>\n",
       "      <th>31</th>\n",
       "      <td>1</td>\n",
       "      <td>3186</td>\n",
       "      <td>4</td>\n",
       "      <td>2000-12-31 22:00:19</td>\n",
       "      <td>1</td>\n",
       "      <td>0</td>\n",
       "    </tr>\n",
       "    <tr>\n",
       "      <th>22</th>\n",
       "      <td>1</td>\n",
       "      <td>1270</td>\n",
       "      <td>5</td>\n",
       "      <td>2000-12-31 22:00:55</td>\n",
       "      <td>1</td>\n",
       "      <td>1</td>\n",
       "    </tr>\n",
       "    <tr>\n",
       "      <th>27</th>\n",
       "      <td>1</td>\n",
       "      <td>1721</td>\n",
       "      <td>4</td>\n",
       "      <td>2000-12-31 22:00:55</td>\n",
       "      <td>1</td>\n",
       "      <td>2</td>\n",
       "    </tr>\n",
       "    <tr>\n",
       "      <th>37</th>\n",
       "      <td>1</td>\n",
       "      <td>1022</td>\n",
       "      <td>5</td>\n",
       "      <td>2000-12-31 22:00:55</td>\n",
       "      <td>1</td>\n",
       "      <td>3</td>\n",
       "    </tr>\n",
       "    <tr>\n",
       "      <th>24</th>\n",
       "      <td>1</td>\n",
       "      <td>2340</td>\n",
       "      <td>3</td>\n",
       "      <td>2000-12-31 22:01:43</td>\n",
       "      <td>1</td>\n",
       "      <td>4</td>\n",
       "    </tr>\n",
       "    <tr>\n",
       "      <th>36</th>\n",
       "      <td>1</td>\n",
       "      <td>1836</td>\n",
       "      <td>5</td>\n",
       "      <td>2000-12-31 22:02:52</td>\n",
       "      <td>1</td>\n",
       "      <td>5</td>\n",
       "    </tr>\n",
       "    <tr>\n",
       "      <th>3</th>\n",
       "      <td>1</td>\n",
       "      <td>3408</td>\n",
       "      <td>4</td>\n",
       "      <td>2000-12-31 22:04:35</td>\n",
       "      <td>1</td>\n",
       "      <td>6</td>\n",
       "    </tr>\n",
       "    <tr>\n",
       "      <th>7</th>\n",
       "      <td>1</td>\n",
       "      <td>2804</td>\n",
       "      <td>5</td>\n",
       "      <td>2000-12-31 22:11:59</td>\n",
       "      <td>1</td>\n",
       "      <td>7</td>\n",
       "    </tr>\n",
       "    <tr>\n",
       "      <th>47</th>\n",
       "      <td>1</td>\n",
       "      <td>1207</td>\n",
       "      <td>4</td>\n",
       "      <td>2000-12-31 22:11:59</td>\n",
       "      <td>1</td>\n",
       "      <td>8</td>\n",
       "    </tr>\n",
       "    <tr>\n",
       "      <th>0</th>\n",
       "      <td>1</td>\n",
       "      <td>1193</td>\n",
       "      <td>5</td>\n",
       "      <td>2000-12-31 22:12:40</td>\n",
       "      <td>1</td>\n",
       "      <td>9</td>\n",
       "    </tr>\n",
       "    <tr>\n",
       "      <th>21</th>\n",
       "      <td>1</td>\n",
       "      <td>720</td>\n",
       "      <td>3</td>\n",
       "      <td>2000-12-31 22:12:40</td>\n",
       "      <td>1</td>\n",
       "      <td>10</td>\n",
       "    </tr>\n",
       "    <tr>\n",
       "      <th>44</th>\n",
       "      <td>1</td>\n",
       "      <td>260</td>\n",
       "      <td>4</td>\n",
       "      <td>2000-12-31 22:12:40</td>\n",
       "      <td>1</td>\n",
       "      <td>11</td>\n",
       "    </tr>\n",
       "    <tr>\n",
       "      <th>9</th>\n",
       "      <td>1</td>\n",
       "      <td>919</td>\n",
       "      <td>4</td>\n",
       "      <td>2000-12-31 22:22:48</td>\n",
       "      <td>1</td>\n",
       "      <td>12</td>\n",
       "    </tr>\n",
       "    <tr>\n",
       "      <th>51</th>\n",
       "      <td>1</td>\n",
       "      <td>608</td>\n",
       "      <td>4</td>\n",
       "      <td>2000-12-31 22:23:18</td>\n",
       "      <td>1</td>\n",
       "      <td>13</td>\n",
       "    </tr>\n",
       "    <tr>\n",
       "      <th>43</th>\n",
       "      <td>1</td>\n",
       "      <td>2692</td>\n",
       "      <td>4</td>\n",
       "      <td>2000-12-31 22:26:10</td>\n",
       "      <td>1</td>\n",
       "      <td>14</td>\n",
       "    </tr>\n",
       "  </tbody>\n",
       "</table>\n",
       "</div>"
      ],
      "text/plain": [
       "    UserId  ItemId  Rating                 UTC  SessionId  item_idx\n",
       "31       1    3186       4 2000-12-31 22:00:19          1         0\n",
       "22       1    1270       5 2000-12-31 22:00:55          1         1\n",
       "27       1    1721       4 2000-12-31 22:00:55          1         2\n",
       "37       1    1022       5 2000-12-31 22:00:55          1         3\n",
       "24       1    2340       3 2000-12-31 22:01:43          1         4\n",
       "36       1    1836       5 2000-12-31 22:02:52          1         5\n",
       "3        1    3408       4 2000-12-31 22:04:35          1         6\n",
       "7        1    2804       5 2000-12-31 22:11:59          1         7\n",
       "47       1    1207       4 2000-12-31 22:11:59          1         8\n",
       "0        1    1193       5 2000-12-31 22:12:40          1         9\n",
       "21       1     720       3 2000-12-31 22:12:40          1        10\n",
       "44       1     260       4 2000-12-31 22:12:40          1        11\n",
       "9        1     919       4 2000-12-31 22:22:48          1        12\n",
       "51       1     608       4 2000-12-31 22:23:18          1        13\n",
       "43       1    2692       4 2000-12-31 22:26:10          1        14"
      ]
     },
     "execution_count": 119,
     "metadata": {},
     "output_type": "execute_result"
    }
   ],
   "source": [
    "tr_data_loader = SessionDataLoader(tr_dataset, batch_size=4)\n",
    "tr_dataset.df.head(15)"
   ]
  },
  {
   "cell_type": "code",
   "execution_count": 120,
   "id": "atmospheric-portland",
   "metadata": {},
   "outputs": [],
   "source": [
    "iter_ex = iter(tr_data_loader)"
   ]
  },
  {
   "cell_type": "markdown",
   "id": "gross-father",
   "metadata": {},
   "source": [
    "- 아래 셀을 반복 실행하면 `next`로 이터레이터 소환해서 계속 다음 데이터 생성\n",
    "- input, output, mask의 값"
   ]
  },
  {
   "cell_type": "code",
   "execution_count": 121,
   "id": "convertible-accreditation",
   "metadata": {},
   "outputs": [
    {
     "name": "stdout",
     "output_type": "stream",
     "text": [
      "Model Input Item Idx are : [ 0 40 53 65]\n",
      "Label Item Idx are :       [ 1 41 54 62]\n",
      "Previous Masked Input Idx are []\n"
     ]
    }
   ],
   "source": [
    "inputs, labels, mask =  next(iter_ex)\n",
    "print(f'Model Input Item Idx are : {inputs}')\n",
    "print(f'Label Item Idx are : {\"\":5} {labels}')\n",
    "print(f'Previous Masked Input Idx are {mask}')"
   ]
  },
  {
   "cell_type": "markdown",
   "id": "proper-riding",
   "metadata": {},
   "source": [
    "# step5) 모델 구성"
   ]
  },
  {
   "cell_type": "markdown",
   "id": "compliant-jewelry",
   "metadata": {},
   "source": [
    "## 5-1. 모델 평가 지표\n",
    "- def `mrr_k(pred, truth, k)` : `MRR`을 구현한 함수\n",
    "    - 0부터 k-1번째 예측 중에 정답이 나온 가장 빠른 인덱스의 역수 반환\n",
    "    - 정답을 빨리 추천할 수록 좋은 것\n",
    "- def `recall_k(red, truth, k)` : `recall@k`를 구현한 함수\n",
    "    - 세션 기반 추천에서는 모델이 제시한 k개의 아이템 중에서 사용자가 클릭하거나 구매한 n개의 아이템이 많아야 좋다.\n",
    "    - 전체 데이터 집단의 재현율이 아니라 추천한 k개의 아이템 중에서의 재현율을 측정"
   ]
  },
  {
   "cell_type": "code",
   "execution_count": 104,
   "id": "oriented-coordinator",
   "metadata": {},
   "outputs": [],
   "source": [
    "def mrr_k(pred, truth: int, k: int):\n",
    "    indexing = np.where(pred[:k] == truth)[0]\n",
    "    if len(indexing) > 0:\n",
    "        return 1 / (indexing[0] + 1)\n",
    "    else:\n",
    "        return 0\n",
    "\n",
    "\n",
    "def recall_k(pred, truth: int, k: int) -> int:\n",
    "    answer = truth in pred[:k]\n",
    "    return int(answer)"
   ]
  },
  {
   "cell_type": "markdown",
   "id": "arbitrary-image",
   "metadata": {},
   "source": [
    "## 5-2. 모델 구성"
   ]
  },
  {
   "cell_type": "code",
   "execution_count": 106,
   "id": "bearing-server",
   "metadata": {},
   "outputs": [],
   "source": [
    "import numpy as np\n",
    "import tensorflow as tf\n",
    "from tensorflow.keras.layers import Input, Dense, Dropout, GRU\n",
    "from tensorflow.keras.losses import categorical_crossentropy\n",
    "from tensorflow.keras.models import Model\n",
    "from tensorflow.keras.optimizers import Adam\n",
    "from tensorflow.keras.utils import to_categorical\n",
    "from tqdm import tqdm"
   ]
  },
  {
   "cell_type": "code",
   "execution_count": null,
   "id": "positive-composer",
   "metadata": {},
   "outputs": [],
   "source": [
    "class Args:\n",
    "    def __init__(self, tr, val, test, batch_size, hsz, drop_rate, lr, epochs, k):\n",
    "        self.tr = tr\n",
    "        self.val = val\n",
    "        self.test = test\n",
    "        self.num_items = tr['ItemId'].nunique()\n",
    "        self.num_sessions = tr['SessionId'].nunique()\n",
    "        self.batch_size = batch_size\n",
    "        self.hsz = hsz\n",
    "        self.drop_rate = drop_rate\n",
    "        self.lr = lr\n",
    "        self.epochs = epochs\n",
    "        self.k = k"
   ]
  },
  {
   "cell_type": "code",
   "execution_count": 108,
   "id": "changing-savage",
   "metadata": {},
   "outputs": [],
   "source": [
    "def create_model(args):\n",
    "    inputs = Input(batch_shape=(args.batch_size, 1, args.num_items))\n",
    "    gru, _ = GRU(args.hsz, stateful=True, return_state=True, name='GRU')(inputs)\n",
    "    dropout = Dropout(args.drop_rate)(gru)\n",
    "    predictions = Dense(args.num_items, activation='softmax')(dropout)\n",
    "    model = Model(inputs=inputs, outputs=[predictions])\n",
    "    model.compile(loss=categorical_crossentropy, optimizer=Adam(args.lr), metrics=['accuracy'])\n",
    "    model.summary()\n",
    "    return model"
   ]
  },
  {
   "cell_type": "code",
   "execution_count": 130,
   "id": "preceding-smoke",
   "metadata": {
    "scrolled": true
   },
   "outputs": [
    {
     "name": "stdout",
     "output_type": "stream",
     "text": [
      "Model: \"model_3\"\n",
      "_________________________________________________________________\n",
      "Layer (type)                 Output Shape              Param #   \n",
      "=================================================================\n",
      "input_4 (InputLayer)         [(16, 1, 3405)]           0         \n",
      "_________________________________________________________________\n",
      "GRU (GRU)                    [(16, 50), (16, 50)]      518550    \n",
      "_________________________________________________________________\n",
      "dropout_3 (Dropout)          (16, 50)                  0         \n",
      "_________________________________________________________________\n",
      "dense_3 (Dense)              (16, 3405)                173655    \n",
      "=================================================================\n",
      "Total params: 692,205\n",
      "Trainable params: 692,205\n",
      "Non-trainable params: 0\n",
      "_________________________________________________________________\n"
     ]
    }
   ],
   "source": [
    "args = Args(tr, val, test, batch_size=16, hsz=50, drop_rate=0.1, lr=0.001, epochs=3, k=20)\n",
    "model = create_model(args)"
   ]
  },
  {
   "cell_type": "markdown",
   "id": "registered-bearing",
   "metadata": {},
   "source": [
    "# step5) 모델 학습"
   ]
  },
  {
   "cell_type": "markdown",
   "id": "suitable-softball",
   "metadata": {},
   "source": [
    "다양한 하이퍼파라미터를 변경해 보며 검증해 보도록 합니다. 실습코드에 언급되었던 Recall, MRR 등의 개념들도 함께 관리될 수 있도록 합니다."
   ]
  },
  {
   "cell_type": "code",
   "execution_count": 124,
   "id": "radical-implement",
   "metadata": {},
   "outputs": [],
   "source": [
    "# train 셋으로 학습하면서 valid 셋으로 검증합니다.\n",
    "def train_model(model, args):\n",
    "    train_dataset = SessionDataset(args.tr)\n",
    "    train_loader = SessionDataLoader(train_dataset, batch_size=args.batch_size)\n",
    "\n",
    "    for epoch in range(1, args.epochs + 1):\n",
    "        total_step = len(args.tr) - args.tr['SessionId'].nunique()\n",
    "        tr_loader = tqdm(train_loader, total=total_step // args.batch_size, desc='Train', mininterval=1)\n",
    "        for feat, target, mask in tr_loader:\n",
    "            reset_hidden_states(model, mask)  # 종료된 session은 hidden_state를 초기화합니다. 아래 메서드에서 확인해주세요.\n",
    "\n",
    "            input_ohe = to_categorical(feat, num_classes=args.num_items)\n",
    "            input_ohe = np.expand_dims(input_ohe, axis=1)\n",
    "            target_ohe = to_categorical(target, num_classes=args.num_items)\n",
    "\n",
    "            result = model.train_on_batch(input_ohe, target_ohe)\n",
    "            tr_loader.set_postfix(train_loss=result[0], accuracy = result[1])\n",
    "\n",
    "        val_recall, val_mrr = get_metrics(args.val, model, args, args.k)  # valid set에 대해 검증합니다.\n",
    "\n",
    "        print(f\"\\t - Recall@{args.k} epoch {epoch}: {val_recall:3f}\")\n",
    "        print(f\"\\t - MRR@{args.k}    epoch {epoch}: {val_mrr:3f}\\n\")\n",
    "\n",
    "\n",
    "def reset_hidden_states(model, mask):\n",
    "    gru_layer = model.get_layer(name='GRU')  # model에서 gru layer를 가져옵니다.\n",
    "    hidden_states = gru_layer.states[0].numpy()  # gru_layer의 parameter를 가져옵니다.\n",
    "    for elt in mask:  # mask된 인덱스 즉, 종료된 세션의 인덱스를 돌면서\n",
    "        hidden_states[elt, :] = 0  # parameter를 초기화 합니다.\n",
    "    gru_layer.reset_states(states=hidden_states)\n",
    "\n",
    "\n",
    "def get_metrics(data, model, args, k: int):  # validation set 및 test set 평가 \n",
    "                                            # mrr, recall을 구하는 라인이 있습니다.\n",
    "    dataset = SessionDataset(data)\n",
    "    loader = SessionDataLoader(dataset, batch_size=args.batch_size)\n",
    "    recall_list, mrr_list = [], []\n",
    "\n",
    "    total_step = len(data) - data['SessionId'].nunique()\n",
    "    for inputs, label, mask in tqdm(loader, total=total_step // args.batch_size, desc='Evaluation', mininterval=1):\n",
    "        reset_hidden_states(model, mask)\n",
    "        input_ohe = to_categorical(inputs, num_classes=args.num_items)\n",
    "        input_ohe = np.expand_dims(input_ohe, axis=1)\n",
    "\n",
    "        pred = model.predict(input_ohe, batch_size=args.batch_size)\n",
    "        pred_arg = tf.argsort(pred, direction='DESCENDING')  # softmax 값 기준 내림차순 정렬\n",
    "\n",
    "        length = len(inputs)\n",
    "        recall_list.extend([recall_k(pred_arg[i], label[i], k) for i in range(length)])\n",
    "        mrr_list.extend([mrr_k(pred_arg[i], label[i], k) for i in range(length)])\n",
    "\n",
    "    recall, mrr = np.mean(recall_list), np.mean(mrr_list)\n",
    "    return recall, mrr"
   ]
  },
  {
   "cell_type": "code",
   "execution_count": 131,
   "id": "architectural-snowboard",
   "metadata": {
    "scrolled": false
   },
   "outputs": [
    {
     "name": "stderr",
     "output_type": "stream",
     "text": [
      "Train: 100%|█████████▉| 60805/60900 [10:03<00:00, 100.71it/s, accuracy=0.0625, train_loss=5.89]\n",
      "Evaluation:  22%|██▏       | 11/50 [00:01<00:05,  6.59it/s]\n",
      "Train:   0%|          | 0/60900 [00:00<?, ?it/s, accuracy=0.0625, train_loss=5.12]"
     ]
    },
    {
     "name": "stdout",
     "output_type": "stream",
     "text": [
      "\t - Recall@20 epoch 1: 0.096591\n",
      "\t - MRR@20    epoch 1: 0.023107\n",
      "\n"
     ]
    },
    {
     "name": "stderr",
     "output_type": "stream",
     "text": [
      "Train: 100%|█████████▉| 60805/60900 [09:56<00:00, 101.95it/s, accuracy=0, train_loss=5.77]     \n",
      "Evaluation:  22%|██▏       | 11/50 [00:01<00:04,  8.29it/s]\n",
      "Train:   0%|          | 0/60900 [00:00<?, ?it/s, accuracy=0.125, train_loss=6.03] "
     ]
    },
    {
     "name": "stdout",
     "output_type": "stream",
     "text": [
      "\t - Recall@20 epoch 2: 0.107955\n",
      "\t - MRR@20    epoch 2: 0.040040\n",
      "\n"
     ]
    },
    {
     "name": "stderr",
     "output_type": "stream",
     "text": [
      "Train: 100%|█████████▉| 60805/60900 [09:41<00:00, 104.58it/s, accuracy=0, train_loss=5.93]     \n",
      "Evaluation:  22%|██▏       | 11/50 [00:01<00:04,  8.63it/s]"
     ]
    },
    {
     "name": "stdout",
     "output_type": "stream",
     "text": [
      "\t - Recall@20 epoch 3: 0.102273\n",
      "\t - MRR@20    epoch 3: 0.038497\n",
      "\n"
     ]
    },
    {
     "name": "stderr",
     "output_type": "stream",
     "text": [
      "\n"
     ]
    }
   ],
   "source": [
    "train_model(model, args)"
   ]
  },
  {
   "cell_type": "markdown",
   "id": "numeric-species",
   "metadata": {},
   "source": [
    "# step7) 모델 테스트"
   ]
  },
  {
   "cell_type": "markdown",
   "id": "flying-ozone",
   "metadata": {},
   "source": [
    "- 이전에 분리해둔 test set으로 Recall@k와 MRR@k를 계산한다."
   ]
  },
  {
   "cell_type": "code",
   "execution_count": 219,
   "id": "better-encounter",
   "metadata": {},
   "outputs": [],
   "source": [
    "def test_model(model1, arg, test1):\n",
    "    test_recall, test_mrr = get_metrics(test1, model1, arg, 10)\n",
    "    print(f\"\\t - Recall@{args.k}: {test_recall:3f}\")\n",
    "    print(f\"\\t - MRR@{args.k}: {test_mrr:3f}\\n\")"
   ]
  },
  {
   "cell_type": "code",
   "execution_count": 160,
   "id": "suitable-transfer",
   "metadata": {},
   "outputs": [
    {
     "name": "stderr",
     "output_type": "stream",
     "text": [
      "Evaluation:  32%|███▏      | 11/34 [00:00<00:01, 12.06it/s]"
     ]
    },
    {
     "name": "stdout",
     "output_type": "stream",
     "text": [
      "\t - Recall@20: 0.119318\n",
      "\t - MRR@20: 0.058640\n",
      "\n"
     ]
    },
    {
     "name": "stderr",
     "output_type": "stream",
     "text": [
      "\n"
     ]
    }
   ],
   "source": [
    "test_model(model, args, test)"
   ]
  },
  {
   "cell_type": "markdown",
   "id": "static-delight",
   "metadata": {},
   "source": [
    "# step8) 모델 실험"
   ]
  },
  {
   "cell_type": "markdown",
   "id": "complicated-gibson",
   "metadata": {},
   "source": [
    "- 다양한 방법으로 데이터를 추가 전처리해 모델을 학습시켜보자.\n",
    "- 하이퍼 파라미터도 조절해서 더 나은 성능의 모델을 만들어보자."
   ]
  },
  {
   "cell_type": "code",
   "execution_count": 192,
   "id": "becoming-quality",
   "metadata": {},
   "outputs": [],
   "source": [
    "# 마크다운 정리를 위한 코드\n",
    "def show_difference(test, model, args, model_name):\n",
    "    test_recall, test_mrr = get_metrics(test, model, args, int(args.k))\n",
    "    print(f'|모델명|batch size|hidden_size|drop_rate|epochs|metrics k|Recall@{args.k}|MRR@{args.k}|')\n",
    "    print('|-------|------|----|----|----|----|----|----|')\n",
    "    print(f'|{model_name}|{args.batch_size}|{args.hsz}|{args.drop_rate}|{args.epochs}|{args.k}|{test_recall:3f}|{test_mrr:3f}|')"
   ]
  },
  {
   "cell_type": "markdown",
   "id": "decent-possession",
   "metadata": {},
   "source": [
    "- 실험 결과\n",
    "\n",
    "결과적으로 별다른 추가 전처리를 하지 않은 기본 모델에 배치사이즈를 늘린 경우가 가장 좋은 재현율을 보였다.\n",
    "\n",
    "\n",
    "|모델 특이사항|batch size|hidden_size|drop_rate|epochs|metrics k|Recall@k|MRR@k|\n",
    "|--------|------|----|----|----|----|----|----|\n",
    "|기본|16|50|0.1|3|20|0.119318|0.058640|\n",
    "|평점 3.0 미만 제거|32|100|0.1|10|20|0.140625|0.058903|\n",
    "|2002년 이후|32|50|0.1|10|20|0.048295|0.017407|\n",
    "|2002년 이후 ver2|16|50|0.1|10|20|0.092262|0.030956|\n",
    "|기본 배치 사이즈 증가|32|50|0.1|10|20|0.161932|0.061652|"
   ]
  },
  {
   "cell_type": "markdown",
   "id": "narrative-telephone",
   "metadata": {},
   "source": [
    "## 8-1. 별점 3점 미만 제거\n",
    "- 별점이 낮은 영화는 세션에 기반해 추천해도 좋은 평가를 받지 못할 것이다.\n",
    "- 3점 미만의 경우는 제거하자."
   ]
  },
  {
   "cell_type": "markdown",
   "id": "complex-neighbor",
   "metadata": {},
   "source": [
    "- 제거 전 : 993080 rows × 5 columns"
   ]
  },
  {
   "cell_type": "code",
   "execution_count": 180,
   "id": "crazy-pregnancy",
   "metadata": {
    "scrolled": false
   },
   "outputs": [
    {
     "data": {
      "text/html": [
       "<div>\n",
       "<style scoped>\n",
       "    .dataframe tbody tr th:only-of-type {\n",
       "        vertical-align: middle;\n",
       "    }\n",
       "\n",
       "    .dataframe tbody tr th {\n",
       "        vertical-align: top;\n",
       "    }\n",
       "\n",
       "    .dataframe thead th {\n",
       "        text-align: right;\n",
       "    }\n",
       "</style>\n",
       "<table border=\"1\" class=\"dataframe\">\n",
       "  <thead>\n",
       "    <tr style=\"text-align: right;\">\n",
       "      <th></th>\n",
       "      <th>UserId</th>\n",
       "      <th>ItemId</th>\n",
       "      <th>Rating</th>\n",
       "      <th>UTC</th>\n",
       "      <th>SessionId</th>\n",
       "    </tr>\n",
       "  </thead>\n",
       "  <tbody>\n",
       "    <tr>\n",
       "      <th>31</th>\n",
       "      <td>1</td>\n",
       "      <td>3186</td>\n",
       "      <td>4</td>\n",
       "      <td>2000-12-31 22:00:19</td>\n",
       "      <td>1</td>\n",
       "    </tr>\n",
       "    <tr>\n",
       "      <th>22</th>\n",
       "      <td>1</td>\n",
       "      <td>1270</td>\n",
       "      <td>5</td>\n",
       "      <td>2000-12-31 22:00:55</td>\n",
       "      <td>1</td>\n",
       "    </tr>\n",
       "    <tr>\n",
       "      <th>27</th>\n",
       "      <td>1</td>\n",
       "      <td>1721</td>\n",
       "      <td>4</td>\n",
       "      <td>2000-12-31 22:00:55</td>\n",
       "      <td>1</td>\n",
       "    </tr>\n",
       "    <tr>\n",
       "      <th>37</th>\n",
       "      <td>1</td>\n",
       "      <td>1022</td>\n",
       "      <td>5</td>\n",
       "      <td>2000-12-31 22:00:55</td>\n",
       "      <td>1</td>\n",
       "    </tr>\n",
       "    <tr>\n",
       "      <th>24</th>\n",
       "      <td>1</td>\n",
       "      <td>2340</td>\n",
       "      <td>3</td>\n",
       "      <td>2000-12-31 22:01:43</td>\n",
       "      <td>1</td>\n",
       "    </tr>\n",
       "    <tr>\n",
       "      <th>...</th>\n",
       "      <td>...</td>\n",
       "      <td>...</td>\n",
       "      <td>...</td>\n",
       "      <td>...</td>\n",
       "      <td>...</td>\n",
       "    </tr>\n",
       "    <tr>\n",
       "      <th>999923</th>\n",
       "      <td>6040</td>\n",
       "      <td>232</td>\n",
       "      <td>5</td>\n",
       "      <td>2001-08-10 14:39:58</td>\n",
       "      <td>23824</td>\n",
       "    </tr>\n",
       "    <tr>\n",
       "      <th>1000019</th>\n",
       "      <td>6040</td>\n",
       "      <td>2917</td>\n",
       "      <td>4</td>\n",
       "      <td>2001-08-10 14:40:29</td>\n",
       "      <td>23824</td>\n",
       "    </tr>\n",
       "    <tr>\n",
       "      <th>999988</th>\n",
       "      <td>6040</td>\n",
       "      <td>1921</td>\n",
       "      <td>4</td>\n",
       "      <td>2001-08-10 14:41:04</td>\n",
       "      <td>23824</td>\n",
       "    </tr>\n",
       "    <tr>\n",
       "      <th>1000172</th>\n",
       "      <td>6040</td>\n",
       "      <td>1784</td>\n",
       "      <td>3</td>\n",
       "      <td>2001-08-10 14:41:04</td>\n",
       "      <td>23824</td>\n",
       "    </tr>\n",
       "    <tr>\n",
       "      <th>1000167</th>\n",
       "      <td>6040</td>\n",
       "      <td>161</td>\n",
       "      <td>3</td>\n",
       "      <td>2001-08-10 14:41:26</td>\n",
       "      <td>23824</td>\n",
       "    </tr>\n",
       "  </tbody>\n",
       "</table>\n",
       "<p>830461 rows × 5 columns</p>\n",
       "</div>"
      ],
      "text/plain": [
       "         UserId  ItemId  Rating                 UTC  SessionId\n",
       "31            1    3186       4 2000-12-31 22:00:19          1\n",
       "22            1    1270       5 2000-12-31 22:00:55          1\n",
       "27            1    1721       4 2000-12-31 22:00:55          1\n",
       "37            1    1022       5 2000-12-31 22:00:55          1\n",
       "24            1    2340       3 2000-12-31 22:01:43          1\n",
       "...         ...     ...     ...                 ...        ...\n",
       "999923     6040     232       5 2001-08-10 14:39:58      23824\n",
       "1000019    6040    2917       4 2001-08-10 14:40:29      23824\n",
       "999988     6040    1921       4 2001-08-10 14:41:04      23824\n",
       "1000172    6040    1784       3 2001-08-10 14:41:04      23824\n",
       "1000167    6040     161       3 2001-08-10 14:41:26      23824\n",
       "\n",
       "[830461 rows x 5 columns]"
      ]
     },
     "execution_count": 180,
     "metadata": {},
     "output_type": "execute_result"
    }
   ],
   "source": [
    "train_data = data.drop(['Time','diff','SameUser'],axis=1)\n",
    "train_data = train_data[train_data['Rating']>=3]\n",
    "train_data"
   ]
  },
  {
   "cell_type": "code",
   "execution_count": 184,
   "id": "identical-triumph",
   "metadata": {},
   "outputs": [
    {
     "data": {
      "text/plain": [
       "array([4, 5, 3], dtype=int32)"
      ]
     },
     "execution_count": 184,
     "metadata": {},
     "output_type": "execute_result"
    }
   ],
   "source": [
    "train_data['Rating'].unique()"
   ]
  },
  {
   "cell_type": "code",
   "execution_count": 181,
   "id": "internal-honor",
   "metadata": {},
   "outputs": [
    {
     "name": "stdout",
     "output_type": "stream",
     "text": [
      "Model: \"model_9\"\n",
      "_________________________________________________________________\n",
      "Layer (type)                 Output Shape              Param #   \n",
      "=================================================================\n",
      "input_10 (InputLayer)        [(32, 1, 3398)]           0         \n",
      "_________________________________________________________________\n",
      "GRU (GRU)                    [(32, 100), (32, 100)]    1050000   \n",
      "_________________________________________________________________\n",
      "dropout_9 (Dropout)          (32, 100)                 0         \n",
      "_________________________________________________________________\n",
      "dense_9 (Dense)              (32, 3398)                343198    \n",
      "=================================================================\n",
      "Total params: 1,393,198\n",
      "Trainable params: 1,393,198\n",
      "Non-trainable params: 0\n",
      "_________________________________________________________________\n"
     ]
    }
   ],
   "source": [
    "tr, test = split_by_date(train_data, n_days=15)\n",
    "tr, val = split_by_date(tr, n_days=15)\n",
    "\n",
    "id2idx = {item_id : index for index, item_id in enumerate(tr['ItemId'].unique())}\n",
    "\n",
    "tr = indexing(tr, id2idx)\n",
    "val = indexing(val, id2idx)\n",
    "test = indexing(test, id2idx)\n",
    "\n",
    "\n",
    "args2 = Args(tr, val, test, batch_size=32, hsz=100, drop_rate=0.1, lr=0.001, epochs=10, k=20)\n",
    "model2 = create_model(args2)"
   ]
  },
  {
   "cell_type": "code",
   "execution_count": 182,
   "id": "isolated-lithuania",
   "metadata": {
    "scrolled": false
   },
   "outputs": [
    {
     "name": "stderr",
     "output_type": "stream",
     "text": [
      "Train: 100%|█████████▉| 25304/25382 [05:05<00:00, 82.88it/s, accuracy=0, train_loss=5.37]     \n",
      "Evaluation:   6%|▌         | 1/18 [00:00<00:08,  2.10it/s]\n",
      "Train:   0%|          | 0/25382 [00:00<?, ?it/s, accuracy=0.0312, train_loss=6.32]"
     ]
    },
    {
     "name": "stdout",
     "output_type": "stream",
     "text": [
      "\t - Recall@20 epoch 1: 0.000000\n",
      "\t - MRR@20    epoch 1: 0.000000\n",
      "\n"
     ]
    },
    {
     "name": "stderr",
     "output_type": "stream",
     "text": [
      "Train: 100%|█████████▉| 25304/25382 [05:02<00:00, 83.60it/s, accuracy=0.0312, train_loss=5.25]\n",
      "Evaluation:   6%|▌         | 1/18 [00:00<00:03,  4.63it/s]\n",
      "Train:   0%|          | 0/25382 [00:00<?, ?it/s, accuracy=0.0938, train_loss=5.83]"
     ]
    },
    {
     "name": "stdout",
     "output_type": "stream",
     "text": [
      "\t - Recall@20 epoch 2: 0.000000\n",
      "\t - MRR@20    epoch 2: 0.000000\n",
      "\n"
     ]
    },
    {
     "name": "stderr",
     "output_type": "stream",
     "text": [
      "Train: 100%|█████████▉| 25304/25382 [05:02<00:00, 83.61it/s, accuracy=0.0625, train_loss=5]   \n",
      "Evaluation:   6%|▌         | 1/18 [00:00<00:03,  4.60it/s]\n",
      "Train:   0%|          | 0/25382 [00:00<?, ?it/s, accuracy=0.125, train_loss=5.65] "
     ]
    },
    {
     "name": "stdout",
     "output_type": "stream",
     "text": [
      "\t - Recall@20 epoch 3: 0.031250\n",
      "\t - MRR@20    epoch 3: 0.005208\n",
      "\n"
     ]
    },
    {
     "name": "stderr",
     "output_type": "stream",
     "text": [
      "Train: 100%|█████████▉| 25304/25382 [05:07<00:00, 82.36it/s, accuracy=0.0312, train_loss=5.03]\n",
      "Evaluation:   6%|▌         | 1/18 [00:00<00:03,  4.75it/s]\n",
      "Train:   0%|          | 0/25382 [00:00<?, ?it/s, accuracy=0.0312, train_loss=6.14]"
     ]
    },
    {
     "name": "stdout",
     "output_type": "stream",
     "text": [
      "\t - Recall@20 epoch 4: 0.062500\n",
      "\t - MRR@20    epoch 4: 0.009115\n",
      "\n"
     ]
    },
    {
     "name": "stderr",
     "output_type": "stream",
     "text": [
      "Train: 100%|█████████▉| 25304/25382 [05:08<00:00, 82.08it/s, accuracy=0.0625, train_loss=4.96]\n",
      "Evaluation:   6%|▌         | 1/18 [00:00<00:03,  4.69it/s]\n",
      "Train:   0%|          | 0/25382 [00:00<?, ?it/s, accuracy=0.0625, train_loss=6.17]"
     ]
    },
    {
     "name": "stdout",
     "output_type": "stream",
     "text": [
      "\t - Recall@20 epoch 5: 0.062500\n",
      "\t - MRR@20    epoch 5: 0.005445\n",
      "\n"
     ]
    },
    {
     "name": "stderr",
     "output_type": "stream",
     "text": [
      "Train: 100%|█████████▉| 25304/25382 [05:07<00:00, 82.27it/s, accuracy=0.125, train_loss=4.92] \n",
      "Evaluation:   6%|▌         | 1/18 [00:00<00:03,  4.57it/s]\n",
      "Train:   0%|          | 0/25382 [00:00<?, ?it/s, accuracy=0.0625, train_loss=6.03]"
     ]
    },
    {
     "name": "stdout",
     "output_type": "stream",
     "text": [
      "\t - Recall@20 epoch 6: 0.062500\n",
      "\t - MRR@20    epoch 6: 0.003906\n",
      "\n"
     ]
    },
    {
     "name": "stderr",
     "output_type": "stream",
     "text": [
      "Train: 100%|█████████▉| 25304/25382 [05:06<00:00, 82.50it/s, accuracy=0.125, train_loss=4.81] \n",
      "Evaluation:   6%|▌         | 1/18 [00:00<00:03,  4.72it/s]\n",
      "Train:   0%|          | 0/25382 [00:00<?, ?it/s, accuracy=0.0312, train_loss=6.07]"
     ]
    },
    {
     "name": "stdout",
     "output_type": "stream",
     "text": [
      "\t - Recall@20 epoch 7: 0.031250\n",
      "\t - MRR@20    epoch 7: 0.001563\n",
      "\n"
     ]
    },
    {
     "name": "stderr",
     "output_type": "stream",
     "text": [
      "Train: 100%|█████████▉| 25304/25382 [05:07<00:00, 82.20it/s, accuracy=0.0938, train_loss=4.89]\n",
      "Evaluation:   6%|▌         | 1/18 [00:00<00:03,  4.70it/s]\n",
      "Train:   0%|          | 0/25382 [00:00<?, ?it/s, accuracy=0.0312, train_loss=5.99]"
     ]
    },
    {
     "name": "stdout",
     "output_type": "stream",
     "text": [
      "\t - Recall@20 epoch 8: 0.031250\n",
      "\t - MRR@20    epoch 8: 0.001645\n",
      "\n"
     ]
    },
    {
     "name": "stderr",
     "output_type": "stream",
     "text": [
      "Train: 100%|█████████▉| 25304/25382 [05:07<00:00, 82.16it/s, accuracy=0.0938, train_loss=4.96]\n",
      "Evaluation:   6%|▌         | 1/18 [00:00<00:03,  4.53it/s]\n",
      "Train:   0%|          | 0/25382 [00:00<?, ?it/s, accuracy=0.0938, train_loss=5.25]"
     ]
    },
    {
     "name": "stdout",
     "output_type": "stream",
     "text": [
      "\t - Recall@20 epoch 9: 0.000000\n",
      "\t - MRR@20    epoch 9: 0.000000\n",
      "\n"
     ]
    },
    {
     "name": "stderr",
     "output_type": "stream",
     "text": [
      "Train: 100%|█████████▉| 25304/25382 [05:09<00:00, 81.84it/s, accuracy=0.188, train_loss=4.81] \n",
      "Evaluation:   6%|▌         | 1/18 [00:00<00:03,  4.73it/s]"
     ]
    },
    {
     "name": "stdout",
     "output_type": "stream",
     "text": [
      "\t - Recall@20 epoch 10: 0.031250\n",
      "\t - MRR@20    epoch 10: 0.001736\n",
      "\n",
      "CPU times: user 1h 37min 44s, sys: 7min 48s, total: 1h 45min 33s\n",
      "Wall time: 51min 8s\n"
     ]
    },
    {
     "name": "stderr",
     "output_type": "stream",
     "text": [
      "\n"
     ]
    }
   ],
   "source": [
    "%%time\n",
    "train_model(model2, args2)"
   ]
  },
  {
   "cell_type": "code",
   "execution_count": 183,
   "id": "modern-pottery",
   "metadata": {
    "scrolled": true
   },
   "outputs": [
    {
     "name": "stderr",
     "output_type": "stream",
     "text": [
      "Evaluation:  14%|█▍        | 2/14 [00:00<00:01,  7.52it/s]"
     ]
    },
    {
     "name": "stdout",
     "output_type": "stream",
     "text": [
      "\t - Recall@20: 0.078125\n",
      "\t - MRR@20: 0.042318\n",
      "\n"
     ]
    },
    {
     "name": "stderr",
     "output_type": "stream",
     "text": [
      "\n"
     ]
    }
   ],
   "source": [
    "test_model(model2, args2, test)"
   ]
  },
  {
   "cell_type": "code",
   "execution_count": 193,
   "id": "focused-composite",
   "metadata": {
    "scrolled": false
   },
   "outputs": [
    {
     "name": "stderr",
     "output_type": "stream",
     "text": [
      "Evaluation:  14%|█▍        | 2/14 [00:00<00:02,  5.00it/s]"
     ]
    },
    {
     "name": "stdout",
     "output_type": "stream",
     "text": [
      "|모델명|batch size|hidden_size|drop_rate|epochs|metrics k|Recall@20|MRR@20|\n",
      "|---|---|----|----|----|----|\n",
      "|평점 3.0 미만 제거|32|100|0.1|10|20|0.140625|0.058903|\n"
     ]
    },
    {
     "name": "stderr",
     "output_type": "stream",
     "text": [
      "\n"
     ]
    }
   ],
   "source": [
    "show_difference(test, model2, args2, '평점 3.0 미만 제거')"
   ]
  },
  {
   "cell_type": "markdown",
   "id": "swiss-shadow",
   "metadata": {},
   "source": [
    "## 8-2. 데이터 기간 변경"
   ]
  },
  {
   "cell_type": "code",
   "execution_count": 197,
   "id": "diverse-justice",
   "metadata": {},
   "outputs": [
    {
     "data": {
      "text/html": [
       "<div>\n",
       "<style scoped>\n",
       "    .dataframe tbody tr th:only-of-type {\n",
       "        vertical-align: middle;\n",
       "    }\n",
       "\n",
       "    .dataframe tbody tr th {\n",
       "        vertical-align: top;\n",
       "    }\n",
       "\n",
       "    .dataframe thead th {\n",
       "        text-align: right;\n",
       "    }\n",
       "</style>\n",
       "<table border=\"1\" class=\"dataframe\">\n",
       "  <thead>\n",
       "    <tr style=\"text-align: right;\">\n",
       "      <th></th>\n",
       "      <th>UserId</th>\n",
       "      <th>ItemId</th>\n",
       "      <th>Rating</th>\n",
       "      <th>UTC</th>\n",
       "      <th>SessionId</th>\n",
       "    </tr>\n",
       "  </thead>\n",
       "  <tbody>\n",
       "    <tr>\n",
       "      <th>5125</th>\n",
       "      <td>36</td>\n",
       "      <td>1292</td>\n",
       "      <td>5</td>\n",
       "      <td>2002-02-03 03:40:35</td>\n",
       "      <td>81</td>\n",
       "    </tr>\n",
       "    <tr>\n",
       "      <th>5053</th>\n",
       "      <td>36</td>\n",
       "      <td>7</td>\n",
       "      <td>4</td>\n",
       "      <td>2002-02-03 03:41:37</td>\n",
       "      <td>81</td>\n",
       "    </tr>\n",
       "    <tr>\n",
       "      <th>5170</th>\n",
       "      <td>36</td>\n",
       "      <td>1387</td>\n",
       "      <td>5</td>\n",
       "      <td>2002-03-12 03:46:59</td>\n",
       "      <td>82</td>\n",
       "    </tr>\n",
       "    <tr>\n",
       "      <th>5267</th>\n",
       "      <td>36</td>\n",
       "      <td>1201</td>\n",
       "      <td>4</td>\n",
       "      <td>2002-03-12 03:46:59</td>\n",
       "      <td>82</td>\n",
       "    </tr>\n",
       "    <tr>\n",
       "      <th>5122</th>\n",
       "      <td>36</td>\n",
       "      <td>1291</td>\n",
       "      <td>5</td>\n",
       "      <td>2002-03-12 03:47:16</td>\n",
       "      <td>82</td>\n",
       "    </tr>\n",
       "    <tr>\n",
       "      <th>...</th>\n",
       "      <td>...</td>\n",
       "      <td>...</td>\n",
       "      <td>...</td>\n",
       "      <td>...</td>\n",
       "      <td>...</td>\n",
       "    </tr>\n",
       "    <tr>\n",
       "      <th>994100</th>\n",
       "      <td>6002</td>\n",
       "      <td>2013</td>\n",
       "      <td>4</td>\n",
       "      <td>2002-02-24 04:24:39</td>\n",
       "      <td>23752</td>\n",
       "    </tr>\n",
       "    <tr>\n",
       "      <th>993890</th>\n",
       "      <td>6002</td>\n",
       "      <td>2520</td>\n",
       "      <td>4</td>\n",
       "      <td>2002-02-24 04:24:40</td>\n",
       "      <td>23752</td>\n",
       "    </tr>\n",
       "    <tr>\n",
       "      <th>994045</th>\n",
       "      <td>6002</td>\n",
       "      <td>1387</td>\n",
       "      <td>5</td>\n",
       "      <td>2002-02-24 04:25:20</td>\n",
       "      <td>23752</td>\n",
       "    </tr>\n",
       "    <tr>\n",
       "      <th>993900</th>\n",
       "      <td>6002</td>\n",
       "      <td>1927</td>\n",
       "      <td>4</td>\n",
       "      <td>2002-02-24 04:25:58</td>\n",
       "      <td>23752</td>\n",
       "    </tr>\n",
       "    <tr>\n",
       "      <th>994050</th>\n",
       "      <td>6002</td>\n",
       "      <td>101</td>\n",
       "      <td>4</td>\n",
       "      <td>2002-02-24 04:26:57</td>\n",
       "      <td>23752</td>\n",
       "    </tr>\n",
       "  </tbody>\n",
       "</table>\n",
       "<p>25340 rows × 5 columns</p>\n",
       "</div>"
      ],
      "text/plain": [
       "        UserId  ItemId  Rating                 UTC  SessionId\n",
       "5125        36    1292       5 2002-02-03 03:40:35         81\n",
       "5053        36       7       4 2002-02-03 03:41:37         81\n",
       "5170        36    1387       5 2002-03-12 03:46:59         82\n",
       "5267        36    1201       4 2002-03-12 03:46:59         82\n",
       "5122        36    1291       5 2002-03-12 03:47:16         82\n",
       "...        ...     ...     ...                 ...        ...\n",
       "994100    6002    2013       4 2002-02-24 04:24:39      23752\n",
       "993890    6002    2520       4 2002-02-24 04:24:40      23752\n",
       "994045    6002    1387       5 2002-02-24 04:25:20      23752\n",
       "993900    6002    1927       4 2002-02-24 04:25:58      23752\n",
       "994050    6002     101       4 2002-02-24 04:26:57      23752\n",
       "\n",
       "[25340 rows x 5 columns]"
      ]
     },
     "execution_count": 197,
     "metadata": {},
     "output_type": "execute_result"
    },
    {
     "name": "stdout",
     "output_type": "stream",
     "text": [
      "Model: \"model_11\"\n",
      "_________________________________________________________________\n",
      "Layer (type)                 Output Shape              Param #   \n",
      "=================================================================\n",
      "input_12 (InputLayer)        [(32, 1, 2873)]           0         \n",
      "_________________________________________________________________\n",
      "GRU (GRU)                    [(32, 50), (32, 50)]      438750    \n",
      "_________________________________________________________________\n",
      "dropout_11 (Dropout)         (32, 50)                  0         \n",
      "_________________________________________________________________\n",
      "dense_11 (Dense)             (32, 2873)                146523    \n",
      "=================================================================\n",
      "Total params: 585,273\n",
      "Trainable params: 585,273\n",
      "Non-trainable params: 0\n",
      "_________________________________________________________________\n"
     ]
    }
   ],
   "source": [
    "train_data = data.drop(['Time','diff','SameUser'],axis=1)\n",
    "train_data = train_data[train_data['UTC'].dt.date>= dt.date(2002,1,1)]\n",
    "train_data\n",
    "\n",
    "tr, test3 = split_by_date(train_data, n_days=30)\n",
    "tr, val = split_by_date(tr, n_days=30)\n",
    "\n",
    "id2idx = {item_id : index for index, item_id in enumerate(tr['ItemId'].unique())}\n",
    "\n",
    "tr = indexing(tr, id2idx)\n",
    "val = indexing(val, id2idx)\n",
    "test3 = indexing(test3, id2idx)\n",
    "\n",
    "\n",
    "args3 = Args(tr, val, test3, batch_size=32, hsz=50, drop_rate=0.1, lr=0.001, epochs=10, k=20)\n",
    "model3 = create_model(args3)"
   ]
  },
  {
   "cell_type": "code",
   "execution_count": 198,
   "id": "formed-morning",
   "metadata": {},
   "outputs": [
    {
     "name": "stderr",
     "output_type": "stream",
     "text": [
      "Train:  94%|█████████▎| 599/639 [00:06<00:00, 87.29it/s, accuracy=0.0312, train_loss=7.72]\n",
      "Evaluation:  38%|███▊      | 18/48 [00:04<00:06,  4.41it/s]\n",
      "Train:   0%|          | 0/639 [00:00<?, ?it/s, accuracy=0, train_loss=7.21]     "
     ]
    },
    {
     "name": "stdout",
     "output_type": "stream",
     "text": [
      "\t - Recall@20 epoch 1: 0.041667\n",
      "\t - MRR@20    epoch 1: 0.008812\n",
      "\n"
     ]
    },
    {
     "name": "stderr",
     "output_type": "stream",
     "text": [
      "Train:  94%|█████████▎| 599/639 [00:05<00:00, 105.10it/s, accuracy=0, train_loss=7.57]     \n",
      "Evaluation:  38%|███▊      | 18/48 [00:04<00:06,  4.36it/s]\n",
      "Train:   0%|          | 0/639 [00:00<?, ?it/s, accuracy=0, train_loss=7.31]     "
     ]
    },
    {
     "name": "stdout",
     "output_type": "stream",
     "text": [
      "\t - Recall@20 epoch 2: 0.050347\n",
      "\t - MRR@20    epoch 2: 0.010298\n",
      "\n"
     ]
    },
    {
     "name": "stderr",
     "output_type": "stream",
     "text": [
      "Train:  94%|█████████▎| 599/639 [00:05<00:00, 102.55it/s, accuracy=0, train_loss=7.45]     \n",
      "Evaluation:  38%|███▊      | 18/48 [00:03<00:06,  4.84it/s]\n",
      "Train:   0%|          | 0/639 [00:00<?, ?it/s, accuracy=0, train_loss=7.26]     "
     ]
    },
    {
     "name": "stdout",
     "output_type": "stream",
     "text": [
      "\t - Recall@20 epoch 3: 0.053819\n",
      "\t - MRR@20    epoch 3: 0.012309\n",
      "\n"
     ]
    },
    {
     "name": "stderr",
     "output_type": "stream",
     "text": [
      "Train:  94%|█████████▎| 599/639 [00:05<00:00, 101.73it/s, accuracy=0, train_loss=7.37]     \n",
      "Evaluation:  38%|███▊      | 18/48 [00:03<00:06,  4.75it/s]\n",
      "Train:   0%|          | 0/639 [00:00<?, ?it/s, accuracy=0, train_loss=7.18]     "
     ]
    },
    {
     "name": "stdout",
     "output_type": "stream",
     "text": [
      "\t - Recall@20 epoch 4: 0.057292\n",
      "\t - MRR@20    epoch 4: 0.013338\n",
      "\n"
     ]
    },
    {
     "name": "stderr",
     "output_type": "stream",
     "text": [
      "Train:  94%|█████████▎| 599/639 [00:05<00:00, 101.59it/s, accuracy=0, train_loss=7.29]     \n",
      "Evaluation:  38%|███▊      | 18/48 [00:03<00:06,  4.69it/s]\n",
      "Train:   0%|          | 0/639 [00:00<?, ?it/s, accuracy=0, train_loss=7.07]     "
     ]
    },
    {
     "name": "stdout",
     "output_type": "stream",
     "text": [
      "\t - Recall@20 epoch 5: 0.052083\n",
      "\t - MRR@20    epoch 5: 0.011689\n",
      "\n"
     ]
    },
    {
     "name": "stderr",
     "output_type": "stream",
     "text": [
      "Train:  94%|█████████▎| 599/639 [00:05<00:00, 102.76it/s, accuracy=0, train_loss=7.13]     \n",
      "Evaluation:  38%|███▊      | 18/48 [00:03<00:06,  4.71it/s]\n",
      "Train:   0%|          | 0/639 [00:00<?, ?it/s, accuracy=0.0312, train_loss=7.03]"
     ]
    },
    {
     "name": "stdout",
     "output_type": "stream",
     "text": [
      "\t - Recall@20 epoch 6: 0.059028\n",
      "\t - MRR@20    epoch 6: 0.012361\n",
      "\n"
     ]
    },
    {
     "name": "stderr",
     "output_type": "stream",
     "text": [
      "Train:  94%|█████████▎| 599/639 [00:05<00:00, 103.69it/s, accuracy=0, train_loss=6.95]     \n",
      "Evaluation:  38%|███▊      | 18/48 [00:03<00:06,  4.77it/s]\n",
      "Train:   0%|          | 0/639 [00:00<?, ?it/s, accuracy=0, train_loss=6.89]     "
     ]
    },
    {
     "name": "stdout",
     "output_type": "stream",
     "text": [
      "\t - Recall@20 epoch 7: 0.060764\n",
      "\t - MRR@20    epoch 7: 0.013004\n",
      "\n"
     ]
    },
    {
     "name": "stderr",
     "output_type": "stream",
     "text": [
      "Train:  94%|█████████▎| 599/639 [00:05<00:00, 105.12it/s, accuracy=0, train_loss=6.81]     \n",
      "Evaluation:  38%|███▊      | 18/48 [00:03<00:06,  4.75it/s]\n",
      "Train:   0%|          | 0/639 [00:00<?, ?it/s, accuracy=0, train_loss=6.81]     "
     ]
    },
    {
     "name": "stdout",
     "output_type": "stream",
     "text": [
      "\t - Recall@20 epoch 8: 0.064236\n",
      "\t - MRR@20    epoch 8: 0.016048\n",
      "\n"
     ]
    },
    {
     "name": "stderr",
     "output_type": "stream",
     "text": [
      "Train:  94%|█████████▎| 599/639 [00:05<00:00, 104.84it/s, accuracy=0, train_loss=6.61]     \n",
      "Evaluation:  38%|███▊      | 18/48 [00:03<00:06,  4.79it/s]\n",
      "Train:   0%|          | 0/639 [00:00<?, ?it/s, accuracy=0.0312, train_loss=6.67]"
     ]
    },
    {
     "name": "stdout",
     "output_type": "stream",
     "text": [
      "\t - Recall@20 epoch 9: 0.071181\n",
      "\t - MRR@20    epoch 9: 0.020939\n",
      "\n"
     ]
    },
    {
     "name": "stderr",
     "output_type": "stream",
     "text": [
      "Train:  94%|█████████▎| 599/639 [00:05<00:00, 103.92it/s, accuracy=0.0312, train_loss=6.39]\n",
      "Evaluation:  38%|███▊      | 18/48 [00:03<00:06,  4.91it/s]"
     ]
    },
    {
     "name": "stdout",
     "output_type": "stream",
     "text": [
      "\t - Recall@20 epoch 10: 0.078125\n",
      "\t - MRR@20    epoch 10: 0.024878\n",
      "\n",
      "CPU times: user 2min 15s, sys: 10.8 s, total: 2min 26s\n",
      "Wall time: 1min 37s\n"
     ]
    },
    {
     "name": "stderr",
     "output_type": "stream",
     "text": [
      "\n"
     ]
    }
   ],
   "source": [
    "%%time\n",
    "train_model(model3, args3)"
   ]
  },
  {
   "cell_type": "code",
   "execution_count": 199,
   "id": "further-graphic",
   "metadata": {
    "scrolled": true
   },
   "outputs": [
    {
     "name": "stderr",
     "output_type": "stream",
     "text": [
      "Evaluation:  27%|██▋       | 11/41 [00:01<00:04,  7.49it/s]"
     ]
    },
    {
     "name": "stdout",
     "output_type": "stream",
     "text": [
      "\t - Recall@20: 0.034091\n",
      "\t - MRR@20: 0.016943\n",
      "\n"
     ]
    },
    {
     "name": "stderr",
     "output_type": "stream",
     "text": [
      "\n"
     ]
    }
   ],
   "source": [
    "test_model(model3, args3, test3)"
   ]
  },
  {
   "cell_type": "code",
   "execution_count": 201,
   "id": "rough-colleague",
   "metadata": {
    "scrolled": true
   },
   "outputs": [
    {
     "name": "stderr",
     "output_type": "stream",
     "text": [
      "Evaluation:  27%|██▋       | 11/41 [00:02<00:06,  4.75it/s]"
     ]
    },
    {
     "name": "stdout",
     "output_type": "stream",
     "text": [
      "|모델명|batch size|hidden_size|drop_rate|epochs|metrics k|Recall@20|MRR@20|\n",
      "|---|---|----|----|----|----|\n",
      "|2002년 이후|32|50|0.1|10|20|0.048295|0.017407|\n"
     ]
    },
    {
     "name": "stderr",
     "output_type": "stream",
     "text": [
      "\n"
     ]
    }
   ],
   "source": [
    "show_difference(test3, model3, args3, '2002년 이후')"
   ]
  },
  {
   "cell_type": "markdown",
   "id": "sound-space",
   "metadata": {},
   "source": [
    "- 그다지 큰 성능향상을 보이지 않았다. batch_size를 줄여보자"
   ]
  },
  {
   "cell_type": "markdown",
   "id": "sensitive-completion",
   "metadata": {},
   "source": [
    "### 2002년 이후 데이터에 batch_size=16"
   ]
  },
  {
   "cell_type": "code",
   "execution_count": 203,
   "id": "phantom-chosen",
   "metadata": {
    "scrolled": false
   },
   "outputs": [
    {
     "name": "stderr",
     "output_type": "stream",
     "text": [
      "\r",
      "Train:   0%|          | 0/1278 [00:00<?, ?it/s]"
     ]
    },
    {
     "name": "stdout",
     "output_type": "stream",
     "text": [
      "Model: \"model_13\"\n",
      "_________________________________________________________________\n",
      "Layer (type)                 Output Shape              Param #   \n",
      "=================================================================\n",
      "input_14 (InputLayer)        [(16, 1, 2873)]           0         \n",
      "_________________________________________________________________\n",
      "GRU (GRU)                    [(16, 50), (16, 50)]      438750    \n",
      "_________________________________________________________________\n",
      "dropout_13 (Dropout)         (16, 50)                  0         \n",
      "_________________________________________________________________\n",
      "dense_13 (Dense)             (16, 2873)                146523    \n",
      "=================================================================\n",
      "Total params: 585,273\n",
      "Trainable params: 585,273\n",
      "Non-trainable params: 0\n",
      "_________________________________________________________________\n"
     ]
    },
    {
     "name": "stderr",
     "output_type": "stream",
     "text": [
      "Train:  97%|█████████▋| 1245/1278 [00:11<00:00, 105.07it/s, accuracy=0, train_loss=7.88]     \n",
      "Evaluation:  54%|█████▍    | 52/96 [00:06<00:05,  7.93it/s]\n",
      "Train:   0%|          | 0/1278 [00:00<?, ?it/s, accuracy=0, train_loss=7.54]    "
     ]
    },
    {
     "name": "stdout",
     "output_type": "stream",
     "text": [
      "\t - Recall@20 epoch 1: 0.038462\n",
      "\t - MRR@20    epoch 1: 0.007559\n",
      "\n"
     ]
    },
    {
     "name": "stderr",
     "output_type": "stream",
     "text": [
      "Train:  97%|█████████▋| 1245/1278 [00:10<00:00, 118.98it/s, accuracy=0, train_loss=7.89]     \n",
      "Evaluation:  54%|█████▍    | 52/96 [00:06<00:05,  8.31it/s]\n",
      "Train:   0%|          | 0/1278 [00:00<?, ?it/s, accuracy=0, train_loss=7.47]     "
     ]
    },
    {
     "name": "stdout",
     "output_type": "stream",
     "text": [
      "\t - Recall@20 epoch 2: 0.039663\n",
      "\t - MRR@20    epoch 2: 0.009301\n",
      "\n"
     ]
    },
    {
     "name": "stderr",
     "output_type": "stream",
     "text": [
      "Train:  97%|█████████▋| 1245/1278 [00:10<00:00, 119.89it/s, accuracy=0, train_loss=7.87]     \n",
      "Evaluation:  54%|█████▍    | 52/96 [00:06<00:05,  8.27it/s]\n",
      "Train:   0%|          | 0/1278 [00:00<?, ?it/s, accuracy=0, train_loss=7.42]     "
     ]
    },
    {
     "name": "stdout",
     "output_type": "stream",
     "text": [
      "\t - Recall@20 epoch 3: 0.044471\n",
      "\t - MRR@20    epoch 3: 0.009676\n",
      "\n"
     ]
    },
    {
     "name": "stderr",
     "output_type": "stream",
     "text": [
      "Train:  97%|█████████▋| 1245/1278 [00:10<00:00, 119.65it/s, accuracy=0, train_loss=7.8]      \n",
      "Evaluation:  54%|█████▍    | 52/96 [00:06<00:05,  8.29it/s]\n",
      "Train:   0%|          | 0/1278 [00:00<?, ?it/s, accuracy=0, train_loss=7.32]     "
     ]
    },
    {
     "name": "stdout",
     "output_type": "stream",
     "text": [
      "\t - Recall@20 epoch 4: 0.040865\n",
      "\t - MRR@20    epoch 4: 0.011559\n",
      "\n"
     ]
    },
    {
     "name": "stderr",
     "output_type": "stream",
     "text": [
      "Train:  97%|█████████▋| 1245/1278 [00:10<00:00, 118.79it/s, accuracy=0, train_loss=7.61]     \n",
      "Evaluation:  54%|█████▍    | 52/96 [00:06<00:05,  8.22it/s]\n",
      "Train:   0%|          | 0/1278 [00:00<?, ?it/s, accuracy=0, train_loss=7.28]     "
     ]
    },
    {
     "name": "stdout",
     "output_type": "stream",
     "text": [
      "\t - Recall@20 epoch 5: 0.058894\n",
      "\t - MRR@20    epoch 5: 0.014348\n",
      "\n"
     ]
    },
    {
     "name": "stderr",
     "output_type": "stream",
     "text": [
      "Train:  97%|█████████▋| 1245/1278 [00:10<00:00, 119.52it/s, accuracy=0, train_loss=7.27]     \n",
      "Evaluation:  54%|█████▍    | 52/96 [00:06<00:05,  8.42it/s]\n",
      "Train:   0%|          | 0/1278 [00:00<?, ?it/s, accuracy=0.0625, train_loss=6.62]"
     ]
    },
    {
     "name": "stdout",
     "output_type": "stream",
     "text": [
      "\t - Recall@20 epoch 6: 0.070913\n",
      "\t - MRR@20    epoch 6: 0.018250\n",
      "\n"
     ]
    },
    {
     "name": "stderr",
     "output_type": "stream",
     "text": [
      "Train:  97%|█████████▋| 1245/1278 [00:10<00:00, 119.64it/s, accuracy=0, train_loss=7.18]     \n",
      "Evaluation:  54%|█████▍    | 52/96 [00:06<00:05,  8.39it/s]\n",
      "Train:   0%|          | 0/1278 [00:00<?, ?it/s, accuracy=0, train_loss=6.69]     "
     ]
    },
    {
     "name": "stdout",
     "output_type": "stream",
     "text": [
      "\t - Recall@20 epoch 7: 0.076923\n",
      "\t - MRR@20    epoch 7: 0.024103\n",
      "\n"
     ]
    },
    {
     "name": "stderr",
     "output_type": "stream",
     "text": [
      "Train:  97%|█████████▋| 1245/1278 [00:10<00:00, 118.07it/s, accuracy=0, train_loss=6.84]     \n",
      "Evaluation:  54%|█████▍    | 52/96 [00:06<00:05,  8.41it/s]\n",
      "Train:   0%|          | 0/1278 [00:00<?, ?it/s, accuracy=0, train_loss=6.32]     "
     ]
    },
    {
     "name": "stdout",
     "output_type": "stream",
     "text": [
      "\t - Recall@20 epoch 8: 0.086538\n",
      "\t - MRR@20    epoch 8: 0.026722\n",
      "\n"
     ]
    },
    {
     "name": "stderr",
     "output_type": "stream",
     "text": [
      "Train:  97%|█████████▋| 1245/1278 [00:10<00:00, 118.92it/s, accuracy=0.0625, train_loss=6.38]\n",
      "Evaluation:  54%|█████▍    | 52/96 [00:06<00:05,  8.40it/s]\n",
      "Train:   0%|          | 0/1278 [00:00<?, ?it/s, accuracy=0.0625, train_loss=5.87]"
     ]
    },
    {
     "name": "stdout",
     "output_type": "stream",
     "text": [
      "\t - Recall@20 epoch 9: 0.088942\n",
      "\t - MRR@20    epoch 9: 0.029294\n",
      "\n"
     ]
    },
    {
     "name": "stderr",
     "output_type": "stream",
     "text": [
      "Train:  97%|█████████▋| 1245/1278 [00:10<00:00, 119.38it/s, accuracy=0.0625, train_loss=6.15]\n",
      "Evaluation:  54%|█████▍    | 52/96 [00:06<00:05,  8.32it/s]"
     ]
    },
    {
     "name": "stdout",
     "output_type": "stream",
     "text": [
      "\t - Recall@20 epoch 10: 0.093750\n",
      "\t - MRR@20    epoch 10: 0.030142\n",
      "\n"
     ]
    },
    {
     "name": "stderr",
     "output_type": "stream",
     "text": [
      "\n"
     ]
    }
   ],
   "source": [
    "args4 = Args(tr, val, test3, batch_size=16, hsz=50, drop_rate=0.1, lr=0.001, epochs=10, k=20)\n",
    "model4 = create_model(args4)\n",
    "train_model(model4, args4)"
   ]
  },
  {
   "cell_type": "code",
   "execution_count": 204,
   "id": "amino-confusion",
   "metadata": {
    "scrolled": true
   },
   "outputs": [
    {
     "name": "stderr",
     "output_type": "stream",
     "text": [
      "Evaluation:  51%|█████     | 42/83 [00:03<00:03, 12.17it/s]"
     ]
    },
    {
     "name": "stdout",
     "output_type": "stream",
     "text": [
      "\t - Recall@20: 0.066964\n",
      "\t - MRR@20: 0.029683\n",
      "\n"
     ]
    },
    {
     "name": "stderr",
     "output_type": "stream",
     "text": [
      "\n"
     ]
    }
   ],
   "source": [
    "test_model(model4, args4, test3)"
   ]
  },
  {
   "cell_type": "code",
   "execution_count": 230,
   "id": "eastern-retention",
   "metadata": {},
   "outputs": [
    {
     "name": "stderr",
     "output_type": "stream",
     "text": [
      "Evaluation:  51%|█████     | 42/83 [00:04<00:04,  8.45it/s]"
     ]
    },
    {
     "name": "stdout",
     "output_type": "stream",
     "text": [
      "|모델명|batch size|hidden_size|drop_rate|epochs|metrics k|Recall@20|MRR@20|\n",
      "|---|---|----|----|----|----|\n",
      "|2002년 이후 ver2|16|50|0.1|10|20|0.092262|0.030956|\n"
     ]
    },
    {
     "name": "stderr",
     "output_type": "stream",
     "text": [
      "\n"
     ]
    }
   ],
   "source": [
    "show_difference(test3, model4, args4, '2002년 이후 ver2')"
   ]
  },
  {
   "cell_type": "markdown",
   "id": "dutch-northeast",
   "metadata": {},
   "source": [
    "- 미미한 차이였지만 `batch_size`를 줄이는게 재현율과 MRR을 더 높였다."
   ]
  },
  {
   "cell_type": "markdown",
   "id": "horizontal-robert",
   "metadata": {},
   "source": [
    "- 확실한 확인을 위해 기본 데이터에서 batch_size와 hidden_size를 늘려보자."
   ]
  },
  {
   "cell_type": "code",
   "execution_count": 206,
   "id": "approved-portrait",
   "metadata": {},
   "outputs": [
    {
     "data": {
      "text/html": [
       "<div>\n",
       "<style scoped>\n",
       "    .dataframe tbody tr th:only-of-type {\n",
       "        vertical-align: middle;\n",
       "    }\n",
       "\n",
       "    .dataframe tbody tr th {\n",
       "        vertical-align: top;\n",
       "    }\n",
       "\n",
       "    .dataframe thead th {\n",
       "        text-align: right;\n",
       "    }\n",
       "</style>\n",
       "<table border=\"1\" class=\"dataframe\">\n",
       "  <thead>\n",
       "    <tr style=\"text-align: right;\">\n",
       "      <th></th>\n",
       "      <th>UserId</th>\n",
       "      <th>ItemId</th>\n",
       "      <th>Rating</th>\n",
       "      <th>UTC</th>\n",
       "      <th>SessionId</th>\n",
       "    </tr>\n",
       "  </thead>\n",
       "  <tbody>\n",
       "    <tr>\n",
       "      <th>31</th>\n",
       "      <td>1</td>\n",
       "      <td>3186</td>\n",
       "      <td>4</td>\n",
       "      <td>2000-12-31 22:00:19</td>\n",
       "      <td>1</td>\n",
       "    </tr>\n",
       "    <tr>\n",
       "      <th>22</th>\n",
       "      <td>1</td>\n",
       "      <td>1270</td>\n",
       "      <td>5</td>\n",
       "      <td>2000-12-31 22:00:55</td>\n",
       "      <td>1</td>\n",
       "    </tr>\n",
       "    <tr>\n",
       "      <th>27</th>\n",
       "      <td>1</td>\n",
       "      <td>1721</td>\n",
       "      <td>4</td>\n",
       "      <td>2000-12-31 22:00:55</td>\n",
       "      <td>1</td>\n",
       "    </tr>\n",
       "    <tr>\n",
       "      <th>37</th>\n",
       "      <td>1</td>\n",
       "      <td>1022</td>\n",
       "      <td>5</td>\n",
       "      <td>2000-12-31 22:00:55</td>\n",
       "      <td>1</td>\n",
       "    </tr>\n",
       "    <tr>\n",
       "      <th>24</th>\n",
       "      <td>1</td>\n",
       "      <td>2340</td>\n",
       "      <td>3</td>\n",
       "      <td>2000-12-31 22:01:43</td>\n",
       "      <td>1</td>\n",
       "    </tr>\n",
       "    <tr>\n",
       "      <th>...</th>\n",
       "      <td>...</td>\n",
       "      <td>...</td>\n",
       "      <td>...</td>\n",
       "      <td>...</td>\n",
       "      <td>...</td>\n",
       "    </tr>\n",
       "    <tr>\n",
       "      <th>999923</th>\n",
       "      <td>6040</td>\n",
       "      <td>232</td>\n",
       "      <td>5</td>\n",
       "      <td>2001-08-10 14:39:58</td>\n",
       "      <td>23824</td>\n",
       "    </tr>\n",
       "    <tr>\n",
       "      <th>1000019</th>\n",
       "      <td>6040</td>\n",
       "      <td>2917</td>\n",
       "      <td>4</td>\n",
       "      <td>2001-08-10 14:40:29</td>\n",
       "      <td>23824</td>\n",
       "    </tr>\n",
       "    <tr>\n",
       "      <th>999988</th>\n",
       "      <td>6040</td>\n",
       "      <td>1921</td>\n",
       "      <td>4</td>\n",
       "      <td>2001-08-10 14:41:04</td>\n",
       "      <td>23824</td>\n",
       "    </tr>\n",
       "    <tr>\n",
       "      <th>1000172</th>\n",
       "      <td>6040</td>\n",
       "      <td>1784</td>\n",
       "      <td>3</td>\n",
       "      <td>2001-08-10 14:41:04</td>\n",
       "      <td>23824</td>\n",
       "    </tr>\n",
       "    <tr>\n",
       "      <th>1000167</th>\n",
       "      <td>6040</td>\n",
       "      <td>161</td>\n",
       "      <td>3</td>\n",
       "      <td>2001-08-10 14:41:26</td>\n",
       "      <td>23824</td>\n",
       "    </tr>\n",
       "  </tbody>\n",
       "</table>\n",
       "<p>993080 rows × 5 columns</p>\n",
       "</div>"
      ],
      "text/plain": [
       "         UserId  ItemId  Rating                 UTC  SessionId\n",
       "31            1    3186       4 2000-12-31 22:00:19          1\n",
       "22            1    1270       5 2000-12-31 22:00:55          1\n",
       "27            1    1721       4 2000-12-31 22:00:55          1\n",
       "37            1    1022       5 2000-12-31 22:00:55          1\n",
       "24            1    2340       3 2000-12-31 22:01:43          1\n",
       "...         ...     ...     ...                 ...        ...\n",
       "999923     6040     232       5 2001-08-10 14:39:58      23824\n",
       "1000019    6040    2917       4 2001-08-10 14:40:29      23824\n",
       "999988     6040    1921       4 2001-08-10 14:41:04      23824\n",
       "1000172    6040    1784       3 2001-08-10 14:41:04      23824\n",
       "1000167    6040     161       3 2001-08-10 14:41:26      23824\n",
       "\n",
       "[993080 rows x 5 columns]"
      ]
     },
     "execution_count": 206,
     "metadata": {},
     "output_type": "execute_result"
    },
    {
     "name": "stdout",
     "output_type": "stream",
     "text": [
      "Model: \"model_14\"\n",
      "_________________________________________________________________\n",
      "Layer (type)                 Output Shape              Param #   \n",
      "=================================================================\n",
      "input_15 (InputLayer)        [(32, 1, 3405)]           0         \n",
      "_________________________________________________________________\n",
      "GRU (GRU)                    [(32, 50), (32, 50)]      518550    \n",
      "_________________________________________________________________\n",
      "dropout_14 (Dropout)         (32, 50)                  0         \n",
      "_________________________________________________________________\n",
      "dense_14 (Dense)             (32, 3405)                173655    \n",
      "=================================================================\n",
      "Total params: 692,205\n",
      "Trainable params: 692,205\n",
      "Non-trainable params: 0\n",
      "_________________________________________________________________\n"
     ]
    }
   ],
   "source": [
    "train_data = data.drop(['Time','diff','SameUser'],axis=1)\n",
    "train_data\n",
    "\n",
    "tr, test= split_by_date(train_data, n_days=30)\n",
    "tr, val = split_by_date(tr, n_days=30)\n",
    "\n",
    "id2idx = {item_id : index for index, item_id in enumerate(tr['ItemId'].unique())}\n",
    "\n",
    "tr = indexing(tr, id2idx)\n",
    "val = indexing(val, id2idx)\n",
    "test = indexing(test, id2idx)\n",
    "\n",
    "\n",
    "args5 = Args(tr, val, test, batch_size=32, hsz=50, drop_rate=0.1, lr=0.001, epochs=10, k=20)\n",
    "model5 = create_model(args5)"
   ]
  },
  {
   "cell_type": "code",
   "execution_count": 207,
   "id": "healthy-lobby",
   "metadata": {},
   "outputs": [
    {
     "name": "stderr",
     "output_type": "stream",
     "text": [
      "Train: 100%|█████████▉| 30301/30401 [05:17<00:01, 95.58it/s, accuracy=0.0312, train_loss=6.13]\n",
      "Evaluation:  39%|███▉      | 19/49 [00:04<00:06,  4.52it/s]\n",
      "Train:   0%|          | 0/30401 [00:00<?, ?it/s, accuracy=0.0625, train_loss=5.95]"
     ]
    },
    {
     "name": "stdout",
     "output_type": "stream",
     "text": [
      "\t - Recall@20 epoch 1: 0.139803\n",
      "\t - MRR@20    epoch 1: 0.048282\n",
      "\n"
     ]
    },
    {
     "name": "stderr",
     "output_type": "stream",
     "text": [
      "Train: 100%|█████████▉| 30301/30401 [05:07<00:01, 98.51it/s, accuracy=0.0625, train_loss=6.2] \n",
      "Evaluation:  39%|███▉      | 19/49 [00:03<00:06,  4.94it/s]\n",
      "Train:   0%|          | 0/30401 [00:00<?, ?it/s, accuracy=0.0625, train_loss=5.97]"
     ]
    },
    {
     "name": "stdout",
     "output_type": "stream",
     "text": [
      "\t - Recall@20 epoch 2: 0.179276\n",
      "\t - MRR@20    epoch 2: 0.063261\n",
      "\n"
     ]
    },
    {
     "name": "stderr",
     "output_type": "stream",
     "text": [
      "Train: 100%|█████████▉| 30301/30401 [05:06<00:01, 98.73it/s, accuracy=0.0625, train_loss=6.13] \n",
      "Evaluation:  39%|███▉      | 19/49 [00:03<00:05,  5.11it/s]\n",
      "Train:   0%|          | 0/30401 [00:00<?, ?it/s, accuracy=0.0625, train_loss=5.86]"
     ]
    },
    {
     "name": "stdout",
     "output_type": "stream",
     "text": [
      "\t - Recall@20 epoch 3: 0.179276\n",
      "\t - MRR@20    epoch 3: 0.066627\n",
      "\n"
     ]
    },
    {
     "name": "stderr",
     "output_type": "stream",
     "text": [
      "Train: 100%|█████████▉| 30301/30401 [05:13<00:01, 96.74it/s, accuracy=0.0312, train_loss=5.88]\n",
      "Evaluation:  39%|███▉      | 19/49 [00:03<00:05,  5.04it/s]\n",
      "Train:   0%|          | 0/30401 [00:00<?, ?it/s, accuracy=0.0625, train_loss=5.75]"
     ]
    },
    {
     "name": "stdout",
     "output_type": "stream",
     "text": [
      "\t - Recall@20 epoch 4: 0.184211\n",
      "\t - MRR@20    epoch 4: 0.065737\n",
      "\n"
     ]
    },
    {
     "name": "stderr",
     "output_type": "stream",
     "text": [
      "Train: 100%|█████████▉| 30301/30401 [05:14<00:01, 96.27it/s, accuracy=0.0625, train_loss=6.02]\n",
      "Evaluation:  39%|███▉      | 19/49 [00:03<00:05,  5.02it/s]\n",
      "Train:   0%|          | 0/30401 [00:00<?, ?it/s, accuracy=0.0625, train_loss=5.86]"
     ]
    },
    {
     "name": "stdout",
     "output_type": "stream",
     "text": [
      "\t - Recall@20 epoch 5: 0.185855\n",
      "\t - MRR@20    epoch 5: 0.068612\n",
      "\n"
     ]
    },
    {
     "name": "stderr",
     "output_type": "stream",
     "text": [
      "Train: 100%|█████████▉| 30301/30401 [05:07<00:01, 98.45it/s, accuracy=0.0312, train_loss=6.03] \n",
      "Evaluation:  39%|███▉      | 19/49 [00:03<00:05,  5.02it/s]\n",
      "Train:   0%|          | 0/30401 [00:00<?, ?it/s, accuracy=0.0625, train_loss=5.66]"
     ]
    },
    {
     "name": "stdout",
     "output_type": "stream",
     "text": [
      "\t - Recall@20 epoch 6: 0.194079\n",
      "\t - MRR@20    epoch 6: 0.067278\n",
      "\n"
     ]
    },
    {
     "name": "stderr",
     "output_type": "stream",
     "text": [
      "Train: 100%|█████████▉| 30301/30401 [05:12<00:01, 97.10it/s, accuracy=0.0312, train_loss=5.94]\n",
      "Evaluation:  39%|███▉      | 19/49 [00:03<00:05,  5.06it/s]\n",
      "Train:   0%|          | 0/30401 [00:00<?, ?it/s, accuracy=0.0312, train_loss=5.71]"
     ]
    },
    {
     "name": "stdout",
     "output_type": "stream",
     "text": [
      "\t - Recall@20 epoch 7: 0.185855\n",
      "\t - MRR@20    epoch 7: 0.065547\n",
      "\n"
     ]
    },
    {
     "name": "stderr",
     "output_type": "stream",
     "text": [
      "Train: 100%|█████████▉| 30301/30401 [05:13<00:01, 96.67it/s, accuracy=0.0938, train_loss=5.8] \n",
      "Evaluation:  39%|███▉      | 19/49 [00:03<00:05,  5.04it/s]\n",
      "Train:   0%|          | 0/30401 [00:00<?, ?it/s, accuracy=0.0625, train_loss=5.82]"
     ]
    },
    {
     "name": "stdout",
     "output_type": "stream",
     "text": [
      "\t - Recall@20 epoch 8: 0.189145\n",
      "\t - MRR@20    epoch 8: 0.067045\n",
      "\n"
     ]
    },
    {
     "name": "stderr",
     "output_type": "stream",
     "text": [
      "Train: 100%|█████████▉| 30301/30401 [05:07<00:01, 98.40it/s, accuracy=0.0625, train_loss=5.67]\n",
      "Evaluation:  39%|███▉      | 19/49 [00:03<00:05,  5.07it/s]\n",
      "Train:   0%|          | 0/30401 [00:00<?, ?it/s, accuracy=0.0625, train_loss=5.61]"
     ]
    },
    {
     "name": "stdout",
     "output_type": "stream",
     "text": [
      "\t - Recall@20 epoch 9: 0.187500\n",
      "\t - MRR@20    epoch 9: 0.064837\n",
      "\n"
     ]
    },
    {
     "name": "stderr",
     "output_type": "stream",
     "text": [
      "Train: 100%|█████████▉| 30301/30401 [05:13<00:01, 96.56it/s, accuracy=0.0625, train_loss=5.93]\n",
      "Evaluation:  39%|███▉      | 19/49 [00:03<00:05,  5.07it/s]"
     ]
    },
    {
     "name": "stdout",
     "output_type": "stream",
     "text": [
      "\t - Recall@20 epoch 10: 0.190789\n",
      "\t - MRR@20    epoch 10: 0.066976\n",
      "\n",
      "CPU times: user 1h 28min 51s, sys: 9min 5s, total: 1h 37min 56s\n",
      "Wall time: 52min 32s\n"
     ]
    },
    {
     "name": "stderr",
     "output_type": "stream",
     "text": [
      "\n"
     ]
    }
   ],
   "source": [
    "%%time\n",
    "train_model(model5, args5)"
   ]
  },
  {
   "cell_type": "code",
   "execution_count": 226,
   "id": "noted-newman",
   "metadata": {},
   "outputs": [
    {
     "name": "stderr",
     "output_type": "stream",
     "text": [
      "Evaluation:  26%|██▌       | 11/42 [00:01<00:04,  7.68it/s]"
     ]
    },
    {
     "name": "stdout",
     "output_type": "stream",
     "text": [
      "\t - Recall@20: 0.113636\n",
      "\t - MRR@20: 0.055119\n",
      "\n"
     ]
    },
    {
     "name": "stderr",
     "output_type": "stream",
     "text": [
      "\n"
     ]
    }
   ],
   "source": [
    "test_model(model5, args5, test)"
   ]
  },
  {
   "cell_type": "code",
   "execution_count": 227,
   "id": "fourth-joint",
   "metadata": {},
   "outputs": [
    {
     "name": "stderr",
     "output_type": "stream",
     "text": [
      "Evaluation:  26%|██▌       | 11/42 [00:02<00:06,  4.99it/s]"
     ]
    },
    {
     "name": "stdout",
     "output_type": "stream",
     "text": [
      "|모델명|batch size|hidden_size|drop_rate|epochs|metrics k|Recall@20|MRR@20|\n",
      "|---|---|----|----|----|----|\n",
      "|배치 사이즈 증가|32|50|0.1|10|20|0.161932|0.061652|\n"
     ]
    },
    {
     "name": "stderr",
     "output_type": "stream",
     "text": [
      "\n"
     ]
    }
   ],
   "source": [
    "show_difference(test, model5, args5, '배치 사이즈 증가')"
   ]
  },
  {
   "cell_type": "markdown",
   "id": "stupid-shadow",
   "metadata": {},
   "source": [
    "# 회고\n",
    "- `test_model()`과 `show_difference()` 둘 다 `get_metrics()`를 사용하는데 같은 모델에 같은 데이터인 둘의 결과가 미묘하게 달랐다. 왜일까?\n",
    "- 세션 기반 분석이면 최근의 데이터로 학습하는 것이 재현율이 높을 것이라고 추측하기 쉬운데 오히려 전체 기간의 데이터를 사용한 경우가 더 재현율이 높았다. 영화는 취향이 2~3년 내에 쉽게 바뀌지 않아서 그런걸까.\n",
    "- 하이퍼 파라미터 AutoML을 빨리 공부하자...."
   ]
  }
 ],
 "metadata": {
  "kernelspec": {
   "display_name": "Python 3",
   "language": "python",
   "name": "python3"
  },
  "language_info": {
   "codemirror_mode": {
    "name": "ipython",
    "version": 3
   },
   "file_extension": ".py",
   "mimetype": "text/x-python",
   "name": "python",
   "nbconvert_exporter": "python",
   "pygments_lexer": "ipython3",
   "version": "3.7.9"
  }
 },
 "nbformat": 4,
 "nbformat_minor": 5
}
