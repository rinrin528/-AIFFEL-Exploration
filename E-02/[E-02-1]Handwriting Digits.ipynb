{
 "cells": [
  {
   "cell_type": "markdown",
   "id": "economic-corrections",
   "metadata": {},
   "source": [
    "# 사이킷런 손글씨 분류 예제"
   ]
  },
  {
   "cell_type": "markdown",
   "id": "ecological-project",
   "metadata": {},
   "source": [
    "1. 필요한 모듈 임포트\n",
    "2. 데이터 준비\n",
    "3. 데이터 분석\n",
    "4. train, test 데이터 분리\n",
    "5. 다양한 모델로 학습\n",
    "6. 모델 평가"
   ]
  },
  {
   "cell_type": "markdown",
   "id": "expensive-treasury",
   "metadata": {},
   "source": [
    "## 1)필요 모듈 import"
   ]
  },
  {
   "cell_type": "code",
   "execution_count": 1,
   "id": "exact-personal",
   "metadata": {},
   "outputs": [],
   "source": [
    "from sklearn.datasets import load_digits\n",
    "from sklearn.model_selection import train_test_split\n",
    "from sklearn.metrics import classification_report"
   ]
  },
  {
   "cell_type": "markdown",
   "id": "under-philosophy",
   "metadata": {},
   "source": [
    "## 2)데이터 준비"
   ]
  },
  {
   "cell_type": "code",
   "execution_count": 2,
   "id": "infectious-neutral",
   "metadata": {},
   "outputs": [],
   "source": [
    "digits = load_digits()"
   ]
  },
  {
   "cell_type": "markdown",
   "id": "associate-frame",
   "metadata": {},
   "source": [
    "## 3)데이터 이해"
   ]
  },
  {
   "cell_type": "code",
   "execution_count": 3,
   "id": "alpha-filing",
   "metadata": {},
   "outputs": [
    {
     "data": {
      "text/plain": [
       "dict_keys(['data', 'target', 'frame', 'feature_names', 'target_names', 'images', 'DESCR'])"
      ]
     },
     "execution_count": 3,
     "metadata": {},
     "output_type": "execute_result"
    }
   ],
   "source": [
    "digits.keys()"
   ]
  },
  {
   "cell_type": "markdown",
   "id": "composed-worth",
   "metadata": {},
   "source": [
    "### Feature Data"
   ]
  },
  {
   "cell_type": "code",
   "execution_count": 4,
   "id": "abroad-polyester",
   "metadata": {},
   "outputs": [],
   "source": [
    "digits_data = digits.data"
   ]
  },
  {
   "cell_type": "code",
   "execution_count": 5,
   "id": "level-siemens",
   "metadata": {},
   "outputs": [
    {
     "data": {
      "text/plain": [
       "array([[ 0.,  0.,  5., ...,  0.,  0.,  0.],\n",
       "       [ 0.,  0.,  0., ..., 10.,  0.,  0.],\n",
       "       [ 0.,  0.,  0., ..., 16.,  9.,  0.],\n",
       "       ...,\n",
       "       [ 0.,  0.,  1., ...,  6.,  0.,  0.],\n",
       "       [ 0.,  0.,  2., ..., 12.,  0.,  0.],\n",
       "       [ 0.,  0., 10., ..., 12.,  1.,  0.]])"
      ]
     },
     "execution_count": 5,
     "metadata": {},
     "output_type": "execute_result"
    }
   ],
   "source": [
    "digits_data"
   ]
  },
  {
   "cell_type": "code",
   "execution_count": 6,
   "id": "stopped-syria",
   "metadata": {},
   "outputs": [
    {
     "data": {
      "text/plain": [
       "(1797, 64)"
      ]
     },
     "execution_count": 6,
     "metadata": {},
     "output_type": "execute_result"
    }
   ],
   "source": [
    "digits_data.shape"
   ]
  },
  {
   "cell_type": "markdown",
   "id": "played-array",
   "metadata": {},
   "source": [
    "feature에는 (8,8) 이미지를 1차원으로 만든 배열 1797개가 있다."
   ]
  },
  {
   "cell_type": "markdown",
   "id": "incredible-laundry",
   "metadata": {},
   "source": [
    "### Label Data"
   ]
  },
  {
   "cell_type": "code",
   "execution_count": 7,
   "id": "enormous-doctrine",
   "metadata": {},
   "outputs": [
    {
     "data": {
      "text/plain": [
       "array([0, 1, 2, ..., 8, 9, 8])"
      ]
     },
     "execution_count": 7,
     "metadata": {},
     "output_type": "execute_result"
    }
   ],
   "source": [
    "digits.target"
   ]
  },
  {
   "cell_type": "code",
   "execution_count": 8,
   "id": "aerial-dallas",
   "metadata": {},
   "outputs": [],
   "source": [
    "digits_label=digits.target"
   ]
  },
  {
   "cell_type": "code",
   "execution_count": 9,
   "id": "fundamental-niagara",
   "metadata": {},
   "outputs": [
    {
     "name": "stdout",
     "output_type": "stream",
     "text": [
      "{0, 1, 2, 3, 4, 5, 6, 7, 8, 9}\n",
      "10\n"
     ]
    }
   ],
   "source": [
    "num_of_class=set(digits_label)\n",
    "print(num_of_class)\n",
    "print(len(num_of_class))"
   ]
  },
  {
   "cell_type": "code",
   "execution_count": 10,
   "id": "sweet-briefing",
   "metadata": {},
   "outputs": [
    {
     "data": {
      "text/plain": [
       "(1797,)"
      ]
     },
     "execution_count": 10,
     "metadata": {},
     "output_type": "execute_result"
    }
   ],
   "source": [
    "digits_label.shape"
   ]
  },
  {
   "cell_type": "markdown",
   "id": "rural-motion",
   "metadata": {},
   "source": [
    "label은 손글씨 이미지에 대한 분류로 0~9로 10 종류가 있다. 라벨의 개수는 1797개가 있다."
   ]
  },
  {
   "cell_type": "markdown",
   "id": "isolated-stage",
   "metadata": {},
   "source": [
    "### Target Names"
   ]
  },
  {
   "cell_type": "code",
   "execution_count": 11,
   "id": "limited-heavy",
   "metadata": {},
   "outputs": [
    {
     "data": {
      "text/plain": [
       "array([0, 1, 2, 3, 4, 5, 6, 7, 8, 9])"
      ]
     },
     "execution_count": 11,
     "metadata": {},
     "output_type": "execute_result"
    }
   ],
   "source": [
    "digits.target_names"
   ]
  },
  {
   "cell_type": "markdown",
   "id": "individual-browse",
   "metadata": {},
   "source": [
    "### 데이터 Describe"
   ]
  },
  {
   "cell_type": "code",
   "execution_count": 12,
   "id": "elegant-portfolio",
   "metadata": {},
   "outputs": [
    {
     "name": "stdout",
     "output_type": "stream",
     "text": [
      ".. _digits_dataset:\n",
      "\n",
      "Optical recognition of handwritten digits dataset\n",
      "--------------------------------------------------\n",
      "\n",
      "**Data Set Characteristics:**\n",
      "\n",
      "    :Number of Instances: 5620\n",
      "    :Number of Attributes: 64\n",
      "    :Attribute Information: 8x8 image of integer pixels in the range 0..16.\n",
      "    :Missing Attribute Values: None\n",
      "    :Creator: E. Alpaydin (alpaydin '@' boun.edu.tr)\n",
      "    :Date: July; 1998\n",
      "\n",
      "This is a copy of the test set of the UCI ML hand-written digits datasets\n",
      "https://archive.ics.uci.edu/ml/datasets/Optical+Recognition+of+Handwritten+Digits\n",
      "\n",
      "The data set contains images of hand-written digits: 10 classes where\n",
      "each class refers to a digit.\n",
      "\n",
      "Preprocessing programs made available by NIST were used to extract\n",
      "normalized bitmaps of handwritten digits from a preprinted form. From a\n",
      "total of 43 people, 30 contributed to the training set and different 13\n",
      "to the test set. 32x32 bitmaps are divided into nonoverlapping blocks of\n",
      "4x4 and the number of on pixels are counted in each block. This generates\n",
      "an input matrix of 8x8 where each element is an integer in the range\n",
      "0..16. This reduces dimensionality and gives invariance to small\n",
      "distortions.\n",
      "\n",
      "For info on NIST preprocessing routines, see M. D. Garris, J. L. Blue, G.\n",
      "T. Candela, D. L. Dimmick, J. Geist, P. J. Grother, S. A. Janet, and C.\n",
      "L. Wilson, NIST Form-Based Handprint Recognition System, NISTIR 5469,\n",
      "1994.\n",
      "\n",
      ".. topic:: References\n",
      "\n",
      "  - C. Kaynak (1995) Methods of Combining Multiple Classifiers and Their\n",
      "    Applications to Handwritten Digit Recognition, MSc Thesis, Institute of\n",
      "    Graduate Studies in Science and Engineering, Bogazici University.\n",
      "  - E. Alpaydin, C. Kaynak (1998) Cascading Classifiers, Kybernetika.\n",
      "  - Ken Tang and Ponnuthurai N. Suganthan and Xi Yao and A. Kai Qin.\n",
      "    Linear dimensionalityreduction using relevance weighted LDA. School of\n",
      "    Electrical and Electronic Engineering Nanyang Technological University.\n",
      "    2005.\n",
      "  - Claudio Gentile. A New Approximate Maximal Margin Classification\n",
      "    Algorithm. NIPS. 2000.\n"
     ]
    }
   ],
   "source": [
    "print(digits.DESCR)"
   ]
  },
  {
   "cell_type": "code",
   "execution_count": 13,
   "id": "electric-canadian",
   "metadata": {},
   "outputs": [
    {
     "data": {
      "text/plain": [
       "array([ 0.,  0.,  5., 13.,  9.,  1.,  0.,  0.,  0.,  0., 13., 15., 10.,\n",
       "       15.,  5.,  0.,  0.,  3., 15.,  2.,  0., 11.,  8.,  0.,  0.,  4.,\n",
       "       12.,  0.,  0.,  8.,  8.,  0.,  0.,  5.,  8.,  0.,  0.,  9.,  8.,\n",
       "        0.,  0.,  4., 11.,  0.,  1., 12.,  7.,  0.,  0.,  2., 14.,  5.,\n",
       "       10., 12.,  0.,  0.,  0.,  0.,  6., 13., 10.,  0.,  0.,  0.])"
      ]
     },
     "execution_count": 13,
     "metadata": {},
     "output_type": "execute_result"
    }
   ],
   "source": [
    "digits_data[0]"
   ]
  },
  {
   "cell_type": "code",
   "execution_count": 14,
   "id": "involved-essay",
   "metadata": {},
   "outputs": [],
   "source": [
    "from matplotlib import pyplot as plt\n"
   ]
  },
  {
   "cell_type": "markdown",
   "id": "continuous-stand",
   "metadata": {},
   "source": [
    "## 4)train, test 데이터 분리"
   ]
  },
  {
   "cell_type": "code",
   "execution_count": 15,
   "id": "preliminary-optimization",
   "metadata": {},
   "outputs": [],
   "source": [
    "X_train, X_test, y_train, y_test = train_test_split(digits_data,\n",
    "                                                   digits_label,\n",
    "                                                   test_size=0.2,\n",
    "                                                   random_state=54)"
   ]
  },
  {
   "cell_type": "code",
   "execution_count": 16,
   "id": "fantastic-spring",
   "metadata": {},
   "outputs": [
    {
     "name": "stdout",
     "output_type": "stream",
     "text": [
      "X_train : (1437, 64) y_train : (1437,)\n",
      "X_test : (360, 64) y_test : (360,)\n"
     ]
    }
   ],
   "source": [
    "print(f'X_train : {X_train.shape} y_train : {y_train.shape}\\nX_test : {X_test.shape} y_test : {y_test.shape}')"
   ]
  },
  {
   "cell_type": "markdown",
   "id": "reserved-invalid",
   "metadata": {},
   "source": [
    "## 5)다양한 모델로 학습"
   ]
  },
  {
   "cell_type": "markdown",
   "id": "expanded-studio",
   "metadata": {},
   "source": [
    "- `DecisionTree`\n",
    "- `RandomForest`\n",
    "- `SVM`\n",
    "- `SGD Classifier`\n",
    "- `Logistic Regression`"
   ]
  },
  {
   "cell_type": "markdown",
   "id": "social-joining",
   "metadata": {},
   "source": [
    "### 필요 모듈 임포트"
   ]
  },
  {
   "cell_type": "code",
   "execution_count": 17,
   "id": "automatic-centre",
   "metadata": {},
   "outputs": [],
   "source": [
    "from sklearn.tree import DecisionTreeClassifier\n",
    "from sklearn.ensemble import RandomForestClassifier\n",
    "from sklearn import svm\n",
    "from sklearn.linear_model import SGDClassifier\n",
    "from sklearn.linear_model import LogisticRegression"
   ]
  },
  {
   "cell_type": "markdown",
   "id": "metallic-bearing",
   "metadata": {},
   "source": [
    "# 1차시도"
   ]
  },
  {
   "cell_type": "code",
   "execution_count": 18,
   "id": "generic-student",
   "metadata": {},
   "outputs": [],
   "source": [
    "dt = DecisionTreeClassifier()\n",
    "rf = RandomForestClassifier()\n",
    "svm = svm.SVC()\n",
    "sgd = SGDClassifier()\n",
    "logi = LogisticRegression()"
   ]
  },
  {
   "cell_type": "code",
   "execution_count": 19,
   "id": "recovered-indicator",
   "metadata": {
    "scrolled": true
   },
   "outputs": [],
   "source": [
    "dt.fit(X_train,y_train)\n",
    "dt_pred = dt.predict(X_test)"
   ]
  },
  {
   "cell_type": "code",
   "execution_count": 20,
   "id": "biological-health",
   "metadata": {},
   "outputs": [],
   "source": [
    "rf.fit(X_train,y_train)\n",
    "rf_pred = rf.predict(X_test)"
   ]
  },
  {
   "cell_type": "code",
   "execution_count": 21,
   "id": "coordinated-stevens",
   "metadata": {},
   "outputs": [],
   "source": [
    "svm.fit(X_train,y_train)\n",
    "svm_pred = svm.predict(X_test)"
   ]
  },
  {
   "cell_type": "code",
   "execution_count": 22,
   "id": "golden-cabinet",
   "metadata": {},
   "outputs": [],
   "source": [
    "sgd.fit(X_train,y_train)\n",
    "sgd_pred = sgd.predict(X_test)"
   ]
  },
  {
   "cell_type": "code",
   "execution_count": 23,
   "id": "interracial-blast",
   "metadata": {},
   "outputs": [
    {
     "name": "stderr",
     "output_type": "stream",
     "text": [
      "/opt/conda/lib/python3.7/site-packages/sklearn/linear_model/_logistic.py:762: ConvergenceWarning: lbfgs failed to converge (status=1):\n",
      "STOP: TOTAL NO. of ITERATIONS REACHED LIMIT.\n",
      "\n",
      "Increase the number of iterations (max_iter) or scale the data as shown in:\n",
      "    https://scikit-learn.org/stable/modules/preprocessing.html\n",
      "Please also refer to the documentation for alternative solver options:\n",
      "    https://scikit-learn.org/stable/modules/linear_model.html#logistic-regression\n",
      "  extra_warning_msg=_LOGISTIC_SOLVER_CONVERGENCE_MSG)\n"
     ]
    }
   ],
   "source": [
    "logi.fit(X_train,y_train)\n",
    "logi_pred = logi.predict(X_test)"
   ]
  },
  {
   "cell_type": "markdown",
   "id": "fancy-distinction",
   "metadata": {},
   "source": [
    "## 6)모델 평가"
   ]
  },
  {
   "cell_type": "code",
   "execution_count": 24,
   "id": "rough-bumper",
   "metadata": {},
   "outputs": [],
   "source": [
    "from sklearn.metrics import confusion_matrix,accuracy_score,precision_score,recall_score,f1_score,classification_report"
   ]
  },
  {
   "cell_type": "code",
   "execution_count": 25,
   "id": "front-davis",
   "metadata": {},
   "outputs": [
    {
     "data": {
      "text/plain": [
       "array([[30,  0,  0,  0,  0,  0,  0,  0,  0,  0],\n",
       "       [ 0, 23,  2,  1,  2,  2,  0,  1,  3,  1],\n",
       "       [ 0,  0, 33,  0,  0,  0,  0,  1,  0,  2],\n",
       "       [ 0,  0,  0, 29,  0,  0,  0,  0,  3,  3],\n",
       "       [ 0,  3,  1,  1, 34,  0,  0,  1,  0,  0],\n",
       "       [ 0,  0,  0,  1,  1, 36,  2,  0,  0,  1],\n",
       "       [ 0,  0,  1,  1,  0,  0, 34,  0,  0,  0],\n",
       "       [ 0,  1,  1,  2,  2,  0,  0, 31,  0,  1],\n",
       "       [ 0,  1,  0,  3,  1,  1,  0,  1, 26,  2],\n",
       "       [ 0,  2,  1,  1,  0,  1,  0,  1,  1, 27]])"
      ]
     },
     "execution_count": 25,
     "metadata": {},
     "output_type": "execute_result"
    }
   ],
   "source": [
    "confusion_matrix(y_test,dt_pred)"
   ]
  },
  {
   "cell_type": "markdown",
   "id": "prescription-distance",
   "metadata": {},
   "source": [
    "- 클래스가 10개라 오차행렬 가독성 떨어짐"
   ]
  },
  {
   "cell_type": "code",
   "execution_count": 32,
   "id": "available-nelson",
   "metadata": {
    "scrolled": false
   },
   "outputs": [
    {
     "name": "stdout",
     "output_type": "stream",
     "text": [
      "==============DecisionTree의 성능===============\n",
      "요약\n",
      "              precision    recall  f1-score   support\n",
      "\n",
      "           0       1.00      1.00      1.00        30\n",
      "           1       0.77      0.66      0.71        35\n",
      "           2       0.85      0.92      0.88        36\n",
      "           3       0.74      0.83      0.78        35\n",
      "           4       0.85      0.85      0.85        40\n",
      "           5       0.90      0.88      0.89        41\n",
      "           6       0.94      0.94      0.94        36\n",
      "           7       0.86      0.82      0.84        38\n",
      "           8       0.79      0.74      0.76        35\n",
      "           9       0.73      0.79      0.76        34\n",
      "\n",
      "    accuracy                           0.84       360\n",
      "   macro avg       0.84      0.84      0.84       360\n",
      "weighted avg       0.84      0.84      0.84       360\n",
      "\n",
      "정확도 : 0.8416666666666667\n",
      "정밀도 : 0.8416666666666667\n",
      "재현율 : 0.8416666666666667\n",
      "==============RandomForest의 성능===============\n",
      "요약\n",
      "              precision    recall  f1-score   support\n",
      "\n",
      "           0       1.00      1.00      1.00        30\n",
      "           1       0.97      1.00      0.99        35\n",
      "           2       1.00      1.00      1.00        36\n",
      "           3       0.97      1.00      0.99        35\n",
      "           4       0.97      0.97      0.97        40\n",
      "           5       1.00      0.95      0.97        41\n",
      "           6       0.97      1.00      0.99        36\n",
      "           7       0.95      1.00      0.97        38\n",
      "           8       1.00      0.94      0.97        35\n",
      "           9       0.97      0.94      0.96        34\n",
      "\n",
      "    accuracy                           0.98       360\n",
      "   macro avg       0.98      0.98      0.98       360\n",
      "weighted avg       0.98      0.98      0.98       360\n",
      "\n",
      "정확도 : 0.9805555555555555\n",
      "정밀도 : 0.9805555555555555\n",
      "재현율 : 0.9805555555555555\n",
      "==============SVM의 성능===============\n",
      "요약\n",
      "              precision    recall  f1-score   support\n",
      "\n",
      "           0       1.00      1.00      1.00        30\n",
      "           1       0.97      1.00      0.99        35\n",
      "           2       1.00      1.00      1.00        36\n",
      "           3       1.00      1.00      1.00        35\n",
      "           4       1.00      1.00      1.00        40\n",
      "           5       1.00      0.98      0.99        41\n",
      "           6       0.97      1.00      0.99        36\n",
      "           7       0.97      1.00      0.99        38\n",
      "           8       1.00      0.94      0.97        35\n",
      "           9       0.97      0.97      0.97        34\n",
      "\n",
      "    accuracy                           0.99       360\n",
      "   macro avg       0.99      0.99      0.99       360\n",
      "weighted avg       0.99      0.99      0.99       360\n",
      "\n",
      "정확도 : 0.9888888888888889\n",
      "정밀도 : 0.9888888888888889\n",
      "재현율 : 0.9888888888888889\n",
      "==============SGD의 성능===============\n",
      "요약\n",
      "              precision    recall  f1-score   support\n",
      "\n",
      "           0       1.00      1.00      1.00        30\n",
      "           1       0.87      0.97      0.92        35\n",
      "           2       1.00      0.97      0.99        36\n",
      "           3       0.97      0.91      0.94        35\n",
      "           4       0.97      0.90      0.94        40\n",
      "           5       0.98      0.98      0.98        41\n",
      "           6       0.90      1.00      0.95        36\n",
      "           7       0.92      0.92      0.92        38\n",
      "           8       0.85      0.94      0.89        35\n",
      "           9       1.00      0.82      0.90        34\n",
      "\n",
      "    accuracy                           0.94       360\n",
      "   macro avg       0.95      0.94      0.94       360\n",
      "weighted avg       0.95      0.94      0.94       360\n",
      "\n",
      "정확도 : 0.9416666666666667\n",
      "정밀도 : 0.9416666666666667\n",
      "재현율 : 0.9416666666666667\n",
      "==============LogiticsRegression의 성능===============\n",
      "요약\n",
      "              precision    recall  f1-score   support\n",
      "\n",
      "           0       1.00      1.00      1.00        30\n",
      "           1       0.92      1.00      0.96        35\n",
      "           2       1.00      0.97      0.99        36\n",
      "           3       0.97      0.97      0.97        35\n",
      "           4       0.95      0.93      0.94        40\n",
      "           5       0.93      0.95      0.94        41\n",
      "           6       0.92      1.00      0.96        36\n",
      "           7       0.97      0.95      0.96        38\n",
      "           8       0.94      0.89      0.91        35\n",
      "           9       1.00      0.94      0.97        34\n",
      "\n",
      "    accuracy                           0.96       360\n",
      "   macro avg       0.96      0.96      0.96       360\n",
      "weighted avg       0.96      0.96      0.96       360\n",
      "\n",
      "정확도 : 0.9583333333333334\n",
      "정밀도 : 0.9583333333333334\n",
      "재현율 : 0.9583333333333334\n"
     ]
    }
   ],
   "source": [
    "import pandas as pd\n",
    "model_dict = {'DecisionTree' : dt_pred, 'RandomForest' : rf_pred, 'SVM' : svm_pred, 'SGD': sgd_pred, 'LogiticRegression':logi_pred}\n",
    "measure=pd.DataFrame(columns=model_dict.keys(),index=['정확도','정밀도','재현율'])\n",
    "for k, v in model_dict.items():\n",
    "    accuracy=accuracy_score(y_test,v)\n",
    "    precisions=precision_score(y_test, v, average=None)\n",
    "    recalls=recall_score(y_test,v, average=None)\n",
    "    measure[k]['정확도']=accuracy\n",
    "    measure[k]['정밀도']=sum(precisions)/10\n",
    "    measure[k]['재현율']=sum(recalls)/10\n",
    "    print(f'=============={k}의 성능===============')\n",
    "    print('요약')\n",
    "    print(classification_report(y_test,v))\n",
    "    print(f'정확도 : {accuracy}')\n",
    "    print(f'정밀도 : {sum(precisions)/10}')\n",
    "    print(f'재현율 : {sum(recalls)/10}')"
   ]
  },
  {
   "cell_type": "code",
   "execution_count": 31,
   "id": "broken-ocean",
   "metadata": {},
   "outputs": [
    {
     "name": "stdout",
     "output_type": "stream",
     "text": [
      "===============총정리==============\n",
      "    DecisionTree RandomForest       SVM       SGD LogiticsRegression\n",
      "정확도     0.841667     0.980556  0.988889  0.941667           0.958333\n",
      "정밀도     0.842581     0.980979  0.989112  0.945518           0.959276\n",
      "재현율     0.841667     0.980556  0.988889  0.941667           0.958333\n"
     ]
    }
   ],
   "source": [
    "print('===============총정리==============')\n",
    "print(measure)"
   ]
  },
  {
   "cell_type": "markdown",
   "id": "essential-quantity",
   "metadata": {},
   "source": [
    "- 각 카테고리별 정밀도와 재현율이 고루고루 높은 모델은 `SVM`이었다.\n",
    "- 그 뒤로 `RandomForest` 모델이 높은 정밀도 및 재현율을 보여주었다."
   ]
  },
  {
   "cell_type": "markdown",
   "id": "julian-batman",
   "metadata": {},
   "source": [
    "## 왜 정확도, 정밀도, 재현율 사이에 큰 차이가 없는가?\n",
    "- 생각외로 `정확도`, `정밀도`, `재현율` 수치 간에 유의미한 차이가 없었다.\n",
    "- `sklearn.metrics`에서 제공하는 `precision()`과 `recall()`은 이진 분류를 기본으로 하고 있어서 각 카테고리별 평균을 산출하기 위해 별도의 인자를 전달해 주어야했는데\n",
    "- `classification_report()` 에선 `macro` 방식과 `weighted` 방식을 사용해서 알려주고 있다."
   ]
  },
  {
   "cell_type": "code",
   "execution_count": 36,
   "id": "emotional-editing",
   "metadata": {},
   "outputs": [
    {
     "name": "stdout",
     "output_type": "stream",
     "text": [
      "             DecisionTree RandomForest       SVM       SGD LogiticRegression\n",
      "정확도              0.841667     0.980556  0.988889  0.941667          0.958333\n",
      "정밀도_micro        0.841667     0.980556  0.988889  0.941667          0.958333\n",
      "재현율_micro        0.841667     0.980556  0.988889  0.941667          0.958333\n",
      "정밀도_macro        0.842957     0.981211  0.989014  0.945728          0.960521\n",
      "재현율_macro        0.842764     0.981025  0.988906  0.942099          0.959413\n",
      "정밀도_weighted     0.842581     0.980979  0.989112  0.945518          0.959276\n",
      "재현율_weighted     0.841667     0.980556  0.988889  0.941667          0.958333\n"
     ]
    }
   ],
   "source": [
    "import pandas as pd\n",
    "model_dict = {'DecisionTree' : dt_pred, 'RandomForest' : rf_pred, \n",
    "              'SVM' : svm_pred, 'SGD': sgd_pred, 'LogiticRegression':logi_pred}\n",
    "measure=pd.DataFrame(columns=model_dict.keys(),index=['정확도',\n",
    "                                                      '정밀도_micro','재현율_micro',\n",
    "                                                      '정밀도_macro','재현율_macro',\n",
    "                                                      '정밀도_weighted','재현율_weighted'])\n",
    "for k, v in model_dict.items():\n",
    "    measure[k]['정확도']=accuracy_score(y_test,v)\n",
    "    measure[k]['정밀도_micro']=precision_score(y_test, v, average='micro')\n",
    "    measure[k]['재현율_micro']=recall_score(y_test, v, average='micro')\n",
    "    measure[k]['정밀도_macro']=precision_score(y_test, v, average='macro')\n",
    "    measure[k]['재현율_macro']=recall_score(y_test, v, average='macro')\n",
    "    measure[k]['정밀도_weighted']=precision_score(y_test, v, average='weighted')\n",
    "    measure[k]['재현율_weighted']=recall_score(y_test, v, average='weighted')\n",
    "    \n",
    "print(measure)"
   ]
  },
  {
   "cell_type": "markdown",
   "id": "spanish-california",
   "metadata": {},
   "source": [
    "### `sklearn.metrics.precision`과 `recall`의 `average` 인자"
   ]
  },
  {
   "cell_type": "markdown",
   "id": "approved-activation",
   "metadata": {},
   "source": [
    " average : {'micro', 'macro', 'samples', 'weighted', 'binary'} \\\n",
    "            default='binary'\n",
    "        This parameter is required for multiclass/multilabel targets.\n",
    "        If `None`, the scores for each class are returned. Otherwise, this\n",
    "        determines the type of averaging performed on the data:\n",
    "\n",
    "- `'binary'`: Only report results for the class specified by `pos_label`. This is applicable only if targets (`y_{true,pred}`) are binary.\n",
    "            \n",
    "- `'micro'`: Calculate metrics globally by counting the total true positives, false negatives and false positives.\n",
    "            \n",
    "- `'macro'`: Calculate metrics for each label, and find their unweighted mean.  This does not take label imbalance into account.\n",
    "            \n",
    "- `'weighted'`: Calculate metrics for each label, and find their average weighted by support (the number of true instances for each label). This alters 'macro' to account for label imbalance; it can result in an F-score that is not between precision and recall.\n",
    "            \n",
    "- `'samples'`: Calculate metrics for each instance, and find their average (only meaningful for multilabel classification where this differs from :func:`accuracy_score`)."
   ]
  },
  {
   "cell_type": "markdown",
   "id": "improving-citizen",
   "metadata": {},
   "source": [
    "# 회고"
   ]
  },
  {
   "cell_type": "markdown",
   "id": "hindu-failing",
   "metadata": {},
   "source": [
    "역시 예제 데이터 셋이라서 그런지 전반적으로 성능 평가도 좋게 나왔다.\n",
    "이진 분류와 다중 분류의 차이점을 알고 성능 평가 지표를 파악하는데 어떤 지표가 더 좋을지 공부해야겠다."
   ]
  }
 ],
 "metadata": {
  "kernelspec": {
   "display_name": "Python 3",
   "language": "python",
   "name": "python3"
  },
  "language_info": {
   "codemirror_mode": {
    "name": "ipython",
    "version": 3
   },
   "file_extension": ".py",
   "mimetype": "text/x-python",
   "name": "python",
   "nbconvert_exporter": "python",
   "pygments_lexer": "ipython3",
   "version": "3.7.9"
  }
 },
 "nbformat": 4,
 "nbformat_minor": 5
}
