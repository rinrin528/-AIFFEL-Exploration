{
  "nbformat": 4,
  "nbformat_minor": 5,
  "metadata": {
    "kernelspec": {
      "display_name": "Python 3",
      "language": "python",
      "name": "python3"
    },
    "language_info": {
      "codemirror_mode": {
        "name": "ipython",
        "version": 3
      },
      "file_extension": ".py",
      "mimetype": "text/x-python",
      "name": "python",
      "nbconvert_exporter": "python",
      "pygments_lexer": "ipython3",
      "version": "3.7.9"
    },
    "colab": {
      "name": "[E-01]rock_scissors_paper.ipynb",
      "provenance": [],
      "include_colab_link": true
    }
  },
  "cells": [
    {
      "cell_type": "markdown",
      "metadata": {
        "id": "view-in-github",
        "colab_type": "text"
      },
      "source": [
        "<a href=\"https://colab.research.google.com/github/rinrin528/AIFFEL-Exploration/blob/main/%5BE_01%5Drock_scissors_paper.ipynb\" target=\"_parent\"><img src=\"https://colab.research.google.com/assets/colab-badge.svg\" alt=\"Open In Colab\"/></a>"
      ]
    },
    {
      "cell_type": "code",
      "metadata": {
        "id": "hairy-investment"
      },
      "source": [
        "from PIL import Image\n",
        "import os, glob\n",
        "def resize_images(img_path):\n",
        "\timages=glob.glob(img_path + \"/*.jpg\")  \n",
        "    \n",
        "\tprint(len(images), \" images to be resized.\")\n",
        "\n",
        "    # 파일마다 모두 28x28 사이즈로 바꾸어 저장합니다.\n",
        "\ttarget_size=(28,28)\n",
        "\tfor img in images:\n",
        "\t\told_img=Image.open(img)\n",
        "\t\tnew_img=old_img.resize(target_size,Image.ANTIALIAS)\n",
        "\t\tnew_img.save(img, \"JPEG\")\n",
        "    \n",
        "\tprint(len(images), \" images resized.\")\n",
        "\n",
        "import numpy as np\n",
        "\n",
        "def load_data(img_path, number_of_data=8435):  # 가위바위보 이미지 개수 총합에 주의하세요.\n",
        "    # 가위 : 0, 바위 : 1, 보 : 2\n",
        "    img_size=28\n",
        "    color=3\n",
        "    #이미지 데이터와 라벨(가위 : 0, 바위 : 1, 보 : 2) 데이터를 담을 행렬(matrix) 영역을 생성합니다.\n",
        "    imgs=np.zeros(number_of_data*img_size*img_size*color,dtype=np.int32).reshape(number_of_data,img_size,img_size,color)\n",
        "    labels=np.zeros(number_of_data,dtype=np.int32)\n",
        "\n",
        "    idx=0\n",
        "    for file in glob.iglob(img_path+'/scissor/*.jpg'):\n",
        "        img = np.array(Image.open(file),dtype=np.int32)\n",
        "        imgs[idx,:,:,:]=img    # 데이터 영역에 이미지 행렬을 복사\n",
        "        labels[idx]=0   # 가위 : 0\n",
        "        idx=idx+1\n",
        "\n",
        "    for file in glob.iglob(img_path+'/rock/*.jpg'):\n",
        "        img = np.array(Image.open(file),dtype=np.int32)\n",
        "        imgs[idx,:,:,:]=img    # 데이터 영역에 이미지 행렬을 복사\n",
        "        labels[idx]=1   # 바위 : 1\n",
        "        idx=idx+1  \n",
        "    \n",
        "    for file in glob.iglob(img_path+'/paper/*.jpg'):\n",
        "        img = np.array(Image.open(file),dtype=np.int32)\n",
        "        imgs[idx,:,:,:]=img    # 데이터 영역에 이미지 행렬을 복사\n",
        "        labels[idx]=2   # 보 : 2\n",
        "        idx=idx+1\n",
        "        \n",
        "    print(\"학습데이터(x_train)의 이미지 개수는\", idx,\"입니다.\")\n",
        "    return imgs, labels"
      ],
      "id": "hairy-investment",
      "execution_count": null,
      "outputs": []
    },
    {
      "cell_type": "code",
      "metadata": {
        "id": "exclusive-testimony",
        "outputId": "aef771a3-52e1-46b4-e90e-e3d0f8e4140e"
      },
      "source": [
        "# train image 사이즈 변경\n",
        "for i in ['scissor','rock','paper']:\n",
        "    image_dir_path = os.getenv(\"HOME\") + \"/aiffel/enode1/rock_scissor_paper/\"+i\n",
        "    resize_images(image_dir_path)"
      ],
      "id": "exclusive-testimony",
      "execution_count": null,
      "outputs": [
        {
          "output_type": "stream",
          "text": [
            "2743  images to be resized.\n",
            "2743  images resized.\n",
            "2940  images to be resized.\n",
            "2940  images resized.\n",
            "2752  images to be resized.\n",
            "2752  images resized.\n"
          ],
          "name": "stdout"
        }
      ]
    },
    {
      "cell_type": "markdown",
      "metadata": {
        "id": "conceptual-branch"
      },
      "source": [
        "## 훈련 데이터"
      ],
      "id": "conceptual-branch"
    },
    {
      "cell_type": "code",
      "metadata": {
        "id": "dominant-jenny",
        "outputId": "b284aa1c-e652-4bdd-f277-521504d36352"
      },
      "source": [
        "image_dir_path = os.getenv(\"HOME\") + \"/aiffel/enode1/rock_scissor_paper\"\n",
        "(x_train, y_train)=load_data(image_dir_path)\n",
        "x_train_norm = x_train/255.0   # 입력은 0~1 사이의 값으로 정규화\n",
        "\n",
        "print(\"x_train shape: {}\".format(x_train.shape))\n",
        "print(\"y_train shape: {}\".format(y_train.shape))"
      ],
      "id": "dominant-jenny",
      "execution_count": null,
      "outputs": [
        {
          "output_type": "stream",
          "text": [
            "학습데이터(x_train)의 이미지 개수는 8435 입니다.\n",
            "x_train shape: (8435, 28, 28, 3)\n",
            "y_train shape: (8435,)\n"
          ],
          "name": "stdout"
        }
      ]
    },
    {
      "cell_type": "markdown",
      "metadata": {
        "id": "pregnant-illustration"
      },
      "source": [
        "## 네트워크 설계하기"
      ],
      "id": "pregnant-illustration"
    },
    {
      "cell_type": "code",
      "metadata": {
        "id": "failing-bidder",
        "outputId": "5103ada4-4388-4a3d-bb78-f79121f78909"
      },
      "source": [
        "import tensorflow as tf\n",
        "from tensorflow import keras\n",
        "import numpy as np\n",
        "\n",
        "# model을 직접 만들어 보세요.\n",
        "# Hint! model의 입력/출력부에 특히 유의해 주세요. 가위바위보 데이터셋은 MNIST 데이터셋과 어떤 점이 달라졌나요?\n",
        "channel_1 = 32\n",
        "channel_2 = 32\n",
        "channel_3 = 64\n",
        "n_dense = 34\n",
        "n_train_epoch = 10\n",
        "\n",
        "model=keras.models.Sequential()\n",
        "model.add(keras.layers.Conv2D(channel_1,(3,3), activation='relu', input_shape=(28,28,3)))\n",
        "model.add(keras.layers.MaxPool2D(2,2))\n",
        "model.add(keras.layers.Conv2D(channel_2,(3,3), activation='relu'))\n",
        "model.add(keras.layers.MaxPool2D(2,2))\n",
        "model.add(keras.layers.Conv2D(channel_3,(3,3), activation='relu'))\n",
        "model.add(keras.layers.Flatten())\n",
        "model.add(keras.layers.Dense(n_dense, activation='relu'))\n",
        "model.add(keras.layers.Dropout(0.5))\n",
        "model.add(keras.layers.Dense(3,activation='softmax'))\n",
        "\n",
        "model.summary()"
      ],
      "id": "failing-bidder",
      "execution_count": null,
      "outputs": [
        {
          "output_type": "stream",
          "text": [
            "Model: \"sequential\"\n",
            "_________________________________________________________________\n",
            "Layer (type)                 Output Shape              Param #   \n",
            "=================================================================\n",
            "conv2d (Conv2D)              (None, 26, 26, 32)        896       \n",
            "_________________________________________________________________\n",
            "max_pooling2d (MaxPooling2D) (None, 13, 13, 32)        0         \n",
            "_________________________________________________________________\n",
            "conv2d_1 (Conv2D)            (None, 11, 11, 32)        9248      \n",
            "_________________________________________________________________\n",
            "max_pooling2d_1 (MaxPooling2 (None, 5, 5, 32)          0         \n",
            "_________________________________________________________________\n",
            "conv2d_2 (Conv2D)            (None, 3, 3, 64)          18496     \n",
            "_________________________________________________________________\n",
            "flatten (Flatten)            (None, 576)               0         \n",
            "_________________________________________________________________\n",
            "dense (Dense)                (None, 34)                19618     \n",
            "_________________________________________________________________\n",
            "dropout (Dropout)            (None, 34)                0         \n",
            "_________________________________________________________________\n",
            "dense_1 (Dense)              (None, 3)                 105       \n",
            "=================================================================\n",
            "Total params: 48,363\n",
            "Trainable params: 48,363\n",
            "Non-trainable params: 0\n",
            "_________________________________________________________________\n"
          ],
          "name": "stdout"
        }
      ]
    },
    {
      "cell_type": "markdown",
      "metadata": {
        "id": "vocal-basketball"
      },
      "source": [
        "## 모델 학습"
      ],
      "id": "vocal-basketball"
    },
    {
      "cell_type": "code",
      "metadata": {
        "id": "twelve-raleigh",
        "outputId": "38fd745c-7e78-4416-fc27-bdc4a983af27"
      },
      "source": [
        "model.compile(optimizer='adam',\n",
        "             loss='sparse_categorical_crossentropy',\n",
        "             metrics=['accuracy'])\n",
        "history = model.fit(x_train_norm, y_train, epochs=n_train_epoch)"
      ],
      "id": "twelve-raleigh",
      "execution_count": null,
      "outputs": [
        {
          "output_type": "stream",
          "text": [
            "Epoch 1/10\n",
            "264/264 [==============================] - 12s 22ms/step - loss: 1.0515 - accuracy: 0.4033\n",
            "Epoch 2/10\n",
            "264/264 [==============================] - 1s 4ms/step - loss: 0.7258 - accuracy: 0.6775\n",
            "Epoch 3/10\n",
            "264/264 [==============================] - 1s 3ms/step - loss: 0.4940 - accuracy: 0.7943\n",
            "Epoch 4/10\n",
            "264/264 [==============================] - 1s 3ms/step - loss: 0.3602 - accuracy: 0.8553\n",
            "Epoch 5/10\n",
            "264/264 [==============================] - 1s 3ms/step - loss: 0.2987 - accuracy: 0.8756\n",
            "Epoch 6/10\n",
            "264/264 [==============================] - 1s 3ms/step - loss: 0.2305 - accuracy: 0.9046\n",
            "Epoch 7/10\n",
            "264/264 [==============================] - 1s 3ms/step - loss: 0.1994 - accuracy: 0.9099\n",
            "Epoch 8/10\n",
            "264/264 [==============================] - 1s 3ms/step - loss: 0.1629 - accuracy: 0.9244\n",
            "Epoch 9/10\n",
            "264/264 [==============================] - 1s 4ms/step - loss: 0.1474 - accuracy: 0.9336\n",
            "Epoch 10/10\n",
            "264/264 [==============================] - 1s 3ms/step - loss: 0.1327 - accuracy: 0.9392\n"
          ],
          "name": "stdout"
        }
      ]
    },
    {
      "cell_type": "markdown",
      "metadata": {
        "id": "regulation-science"
      },
      "source": [
        "## 테스트 데이터"
      ],
      "id": "regulation-science"
    },
    {
      "cell_type": "code",
      "metadata": {
        "id": "norwegian-nevada",
        "outputId": "6836c3ca-2a91-41d2-cb59-2d91099828a5"
      },
      "source": [
        "for i in ['rock','scissor','paper']:\n",
        "\timage_dir_path = os.getenv(\"HOME\") + \"/aiffel/enode1/rock_scissor_paper/test/\"+i\n",
        "\tresize_images(image_dir_path)\n",
        "test_image_dir_path = os.getenv(\"HOME\") + \"/aiffel/enode1/rock_scissor_paper/test\"\n",
        "(x_test, y_test)=load_data(test_image_dir_path, 428)\n",
        "x_test_norm = x_test/255.0   # 입력은 0~1 사이의 값으로 정규화\n",
        "\n",
        "print(\"x_test shape: {}\".format(x_test_norm.shape))\n",
        "print(\"y_test shape: {}\".format(y_test.shape))"
      ],
      "id": "norwegian-nevada",
      "execution_count": null,
      "outputs": [
        {
          "output_type": "stream",
          "text": [
            "109  images to be resized.\n",
            "109  images resized.\n",
            "210  images to be resized.\n",
            "210  images resized.\n",
            "109  images to be resized.\n",
            "109  images resized.\n",
            "학습데이터(x_train)의 이미지 개수는 428 입니다.\n",
            "x_test shape: (428, 28, 28, 3)\n",
            "y_test shape: (428,)\n"
          ],
          "name": "stdout"
        }
      ]
    },
    {
      "cell_type": "markdown",
      "metadata": {
        "id": "recent-subcommittee"
      },
      "source": [
        "## 모델 평가"
      ],
      "id": "recent-subcommittee"
    },
    {
      "cell_type": "code",
      "metadata": {
        "id": "executive-provider",
        "outputId": "21410822-2ca2-464b-99f6-f69d74661f36"
      },
      "source": [
        "test_loss, test_accuracy = model.evaluate(x_test_norm, y_test, verbose=2)\n",
        "print(\"test_loss: {} \".format(test_loss))\n",
        "print(\"test_accuracy: {}\".format(test_accuracy))"
      ],
      "id": "executive-provider",
      "execution_count": null,
      "outputs": [
        {
          "output_type": "stream",
          "text": [
            "14/14 - 3s - loss: 0.3323 - accuracy: 0.7617\n",
            "test_loss: 0.3323216736316681 \n",
            "test_accuracy: 0.7616822719573975\n"
          ],
          "name": "stdout"
        }
      ]
    },
    {
      "cell_type": "code",
      "metadata": {
        "scrolled": true,
        "id": "former-church",
        "outputId": "8a156b1a-e1ad-4c07-9c3a-ce3819b3eb66"
      },
      "source": [
        "predicted_result = model.predict(x_test_norm)  # model이 추론한 확률값. \n",
        "predicted_labels = np.argmax(predicted_result, axis=1)\n",
        "\n",
        "# 실제 모델이 추론한 결과를 보자\n",
        "index = {'가위':(0,100), '바위':(130,300), '보':(330,400)}\n",
        "for idx in range(0,109):\n",
        "    print('model.predict() 결과 : ', predicted_result[idx])\n",
        "    print(f'model이 추론한 답 : {predicted_labels[idx]} 실제 데이터의 라벨 : {y_test[idx]}')"
      ],
      "id": "former-church",
      "execution_count": null,
      "outputs": [
        {
          "output_type": "stream",
          "text": [
            "model.predict() 결과 :  [0.394366   0.32219312 0.2834409 ]\n",
            "model이 추론한 답 : 0 실제 데이터의 라벨 : 0\n",
            "model.predict() 결과 :  [9.9986756e-01 5.0860643e-07 1.3191983e-04]\n",
            "model이 추론한 답 : 0 실제 데이터의 라벨 : 0\n",
            "model.predict() 결과 :  [9.9966741e-01 1.3322267e-06 3.3125511e-04]\n",
            "model이 추론한 답 : 0 실제 데이터의 라벨 : 0\n",
            "model.predict() 결과 :  [0.32649416 0.32242477 0.35108113]\n",
            "model이 추론한 답 : 2 실제 데이터의 라벨 : 0\n",
            "model.predict() 결과 :  [0.40020832 0.5987885  0.00100321]\n",
            "model이 추론한 답 : 1 실제 데이터의 라벨 : 0\n",
            "model.predict() 결과 :  [0.303917   0.33632737 0.3597556 ]\n",
            "model이 추론한 답 : 2 실제 데이터의 라벨 : 0\n",
            "model.predict() 결과 :  [0.33292463 0.34888965 0.31818566]\n",
            "model이 추론한 답 : 1 실제 데이터의 라벨 : 0\n",
            "model.predict() 결과 :  [9.9839467e-01 7.5176038e-04 8.5358339e-04]\n",
            "model이 추론한 답 : 0 실제 데이터의 라벨 : 0\n",
            "model.predict() 결과 :  [9.9938917e-01 1.4169264e-04 4.6917971e-04]\n",
            "model이 추론한 답 : 0 실제 데이터의 라벨 : 0\n",
            "model.predict() 결과 :  [0.29447553 0.3639616  0.34156287]\n",
            "model이 추론한 답 : 1 실제 데이터의 라벨 : 0\n",
            "model.predict() 결과 :  [8.7264997e-01 1.5643639e-04 1.2719360e-01]\n",
            "model이 추론한 답 : 0 실제 데이터의 라벨 : 0\n",
            "model.predict() 결과 :  [9.6961325e-01 1.7900667e-05 3.0368805e-02]\n",
            "model이 추론한 답 : 0 실제 데이터의 라벨 : 0\n",
            "model.predict() 결과 :  [9.9839598e-01 6.8191322e-05 1.5358587e-03]\n",
            "model이 추론한 답 : 0 실제 데이터의 라벨 : 0\n",
            "model.predict() 결과 :  [9.9916983e-01 1.4365193e-05 8.1578438e-04]\n",
            "model이 추론한 답 : 0 실제 데이터의 라벨 : 0\n",
            "model.predict() 결과 :  [9.9818879e-01 3.1554277e-04 1.4955841e-03]\n",
            "model이 추론한 답 : 0 실제 데이터의 라벨 : 0\n",
            "model.predict() 결과 :  [0.34385562 0.3474655  0.3086789 ]\n",
            "model이 추론한 답 : 1 실제 데이터의 라벨 : 0\n",
            "model.predict() 결과 :  [9.9524647e-01 2.9936468e-04 4.4542230e-03]\n",
            "model이 추론한 답 : 0 실제 데이터의 라벨 : 0\n",
            "model.predict() 결과 :  [0.30168012 0.34688944 0.3514305 ]\n",
            "model이 추론한 답 : 2 실제 데이터의 라벨 : 0\n",
            "model.predict() 결과 :  [9.99874353e-01 1.62235483e-05 1.09447305e-04]\n",
            "model이 추론한 답 : 0 실제 데이터의 라벨 : 0\n",
            "model.predict() 결과 :  [9.6445781e-01 3.6421133e-04 3.5177942e-02]\n",
            "model이 추론한 답 : 0 실제 데이터의 라벨 : 0\n",
            "model.predict() 결과 :  [9.9951720e-01 6.6296555e-09 4.8281363e-04]\n",
            "model이 추론한 답 : 0 실제 데이터의 라벨 : 0\n",
            "model.predict() 결과 :  [9.9996245e-01 4.0474074e-06 3.3503613e-05]\n",
            "model이 추론한 답 : 0 실제 데이터의 라벨 : 0\n",
            "model.predict() 결과 :  [9.9995220e-01 2.6891254e-07 4.7529822e-05]\n",
            "model이 추론한 답 : 0 실제 데이터의 라벨 : 0\n",
            "model.predict() 결과 :  [0.5205216  0.23371977 0.24575865]\n",
            "model이 추론한 답 : 0 실제 데이터의 라벨 : 0\n",
            "model.predict() 결과 :  [0.32549927 0.32504883 0.34945193]\n",
            "model이 추론한 답 : 2 실제 데이터의 라벨 : 0\n",
            "model.predict() 결과 :  [0.31057584 0.3321936  0.3572305 ]\n",
            "model이 추론한 답 : 2 실제 데이터의 라벨 : 0\n",
            "model.predict() 결과 :  [0.31588998 0.32891503 0.355195  ]\n",
            "model이 추론한 답 : 2 실제 데이터의 라벨 : 0\n",
            "model.predict() 결과 :  [0.29213116 0.3437163  0.36415258]\n",
            "model이 추론한 답 : 2 실제 데이터의 라벨 : 0\n",
            "model.predict() 결과 :  [9.9772638e-01 5.3560024e-04 1.7380364e-03]\n",
            "model이 추론한 답 : 0 실제 데이터의 라벨 : 0\n",
            "model.predict() 결과 :  [9.9983060e-01 2.6272366e-05 1.4318277e-04]\n",
            "model이 추론한 답 : 0 실제 데이터의 라벨 : 0\n",
            "model.predict() 결과 :  [9.973552e-01 7.367352e-05 2.571136e-03]\n",
            "model이 추론한 답 : 0 실제 데이터의 라벨 : 0\n",
            "model.predict() 결과 :  [0.3217173  0.32533997 0.35294273]\n",
            "model이 추론한 답 : 2 실제 데이터의 라벨 : 0\n",
            "model.predict() 결과 :  [0.32963118 0.36200228 0.30836657]\n",
            "model이 추론한 답 : 1 실제 데이터의 라벨 : 0\n",
            "model.predict() 결과 :  [0.30085498 0.33823803 0.36090702]\n",
            "model이 추론한 답 : 2 실제 데이터의 라벨 : 0\n",
            "model.predict() 결과 :  [0.33221555 0.31895083 0.34883365]\n",
            "model이 추론한 답 : 2 실제 데이터의 라벨 : 0\n",
            "model.predict() 결과 :  [9.9723536e-01 3.2477521e-06 2.7614438e-03]\n",
            "model이 추론한 답 : 0 실제 데이터의 라벨 : 0\n",
            "model.predict() 결과 :  [0.33292463 0.34888965 0.31818566]\n",
            "model이 추론한 답 : 1 실제 데이터의 라벨 : 0\n",
            "model.predict() 결과 :  [9.9412692e-01 9.1564216e-05 5.7814843e-03]\n",
            "model이 추론한 답 : 0 실제 데이터의 라벨 : 0\n",
            "model.predict() 결과 :  [0.32267132 0.32475665 0.35257202]\n",
            "model이 추론한 답 : 2 실제 데이터의 라벨 : 0\n",
            "model.predict() 결과 :  [0.32043526 0.34017602 0.33938873]\n",
            "model이 추론한 답 : 1 실제 데이터의 라벨 : 0\n",
            "model.predict() 결과 :  [0.29213116 0.3437163  0.36415258]\n",
            "model이 추론한 답 : 2 실제 데이터의 라벨 : 0\n",
            "model.predict() 결과 :  [9.9991906e-01 2.3172523e-05 5.7837489e-05]\n",
            "model이 추론한 답 : 0 실제 데이터의 라벨 : 0\n",
            "model.predict() 결과 :  [9.9420691e-01 2.3971229e-04 5.5533005e-03]\n",
            "model이 추론한 답 : 0 실제 데이터의 라벨 : 0\n",
            "model.predict() 결과 :  [0.29213116 0.3437163  0.36415258]\n",
            "model이 추론한 답 : 2 실제 데이터의 라벨 : 0\n",
            "model.predict() 결과 :  [0.3278374  0.33893147 0.3332311 ]\n",
            "model이 추론한 답 : 1 실제 데이터의 라벨 : 0\n",
            "model.predict() 결과 :  [9.99970675e-01 1.10410895e-07 2.92539826e-05]\n",
            "model이 추론한 답 : 0 실제 데이터의 라벨 : 0\n",
            "model.predict() 결과 :  [0.30817938 0.33989766 0.351923  ]\n",
            "model이 추론한 답 : 2 실제 데이터의 라벨 : 0\n",
            "model.predict() 결과 :  [9.9811399e-01 1.0331740e-03 8.5289596e-04]\n",
            "model이 추론한 답 : 0 실제 데이터의 라벨 : 0\n",
            "model.predict() 결과 :  [9.95228052e-01 1.09887726e-04 4.66204947e-03]\n",
            "model이 추론한 답 : 0 실제 데이터의 라벨 : 0\n",
            "model.predict() 결과 :  [0.29213116 0.3437163  0.36415258]\n",
            "model이 추론한 답 : 2 실제 데이터의 라벨 : 0\n",
            "model.predict() 결과 :  [0.29213116 0.3437163  0.36415258]\n",
            "model이 추론한 답 : 2 실제 데이터의 라벨 : 0\n",
            "model.predict() 결과 :  [9.9854761e-01 3.5635714e-04 1.0959816e-03]\n",
            "model이 추론한 답 : 0 실제 데이터의 라벨 : 0\n",
            "model.predict() 결과 :  [9.9805200e-01 1.7853625e-04 1.7694705e-03]\n",
            "model이 추론한 답 : 0 실제 데이터의 라벨 : 0\n",
            "model.predict() 결과 :  [9.9075770e-01 2.2973017e-04 9.0125501e-03]\n",
            "model이 추론한 답 : 0 실제 데이터의 라벨 : 0\n",
            "model.predict() 결과 :  [0.99084014 0.00151189 0.00764798]\n",
            "model이 추론한 답 : 0 실제 데이터의 라벨 : 0\n",
            "model.predict() 결과 :  [9.905139e-01 8.731147e-03 7.549138e-04]\n",
            "model이 추론한 답 : 0 실제 데이터의 라벨 : 0\n",
            "model.predict() 결과 :  [9.9966502e-01 8.1705741e-07 3.3410592e-04]\n",
            "model이 추론한 답 : 0 실제 데이터의 라벨 : 0\n",
            "model.predict() 결과 :  [9.9902344e-01 5.0052449e-06 9.7157457e-04]\n",
            "model이 추론한 답 : 0 실제 데이터의 라벨 : 0\n",
            "model.predict() 결과 :  [0.40782288 0.3426684  0.24950868]\n",
            "model이 추론한 답 : 0 실제 데이터의 라벨 : 0\n",
            "model.predict() 결과 :  [0.88195246 0.11701979 0.00102772]\n",
            "model이 추론한 답 : 0 실제 데이터의 라벨 : 0\n",
            "model.predict() 결과 :  [9.9038929e-01 1.2949549e-04 9.4812559e-03]\n",
            "model이 추론한 답 : 0 실제 데이터의 라벨 : 0\n",
            "model.predict() 결과 :  [0.29259673 0.34342256 0.36398068]\n",
            "model이 추론한 답 : 2 실제 데이터의 라벨 : 0\n",
            "model.predict() 결과 :  [0.44590703 0.30955285 0.24454015]\n",
            "model이 추론한 답 : 0 실제 데이터의 라벨 : 0\n",
            "model.predict() 결과 :  [0.32889265 0.3227814  0.34832594]\n",
            "model이 추론한 답 : 2 실제 데이터의 라벨 : 0\n",
            "model.predict() 결과 :  [0.32253838 0.32481006 0.35265154]\n",
            "model이 추론한 답 : 2 실제 데이터의 라벨 : 0\n",
            "model.predict() 결과 :  [9.9955183e-01 4.5928100e-06 4.4345096e-04]\n",
            "model이 추론한 답 : 0 실제 데이터의 라벨 : 0\n",
            "model.predict() 결과 :  [0.29213116 0.3437163  0.36415258]\n",
            "model이 추론한 답 : 2 실제 데이터의 라벨 : 0\n",
            "model.predict() 결과 :  [0.29245448 0.3428234  0.36472216]\n",
            "model이 추론한 답 : 2 실제 데이터의 라벨 : 0\n",
            "model.predict() 결과 :  [9.6216053e-01 3.7174016e-02 6.6544523e-04]\n",
            "model이 추론한 답 : 0 실제 데이터의 라벨 : 0\n",
            "model.predict() 결과 :  [9.9772638e-01 5.3560024e-04 1.7380364e-03]\n",
            "model이 추론한 답 : 0 실제 데이터의 라벨 : 0\n",
            "model.predict() 결과 :  [0.32809907 0.32144833 0.3504526 ]\n",
            "model이 추론한 답 : 2 실제 데이터의 라벨 : 0\n",
            "model.predict() 결과 :  [9.5849198e-01 4.0558252e-02 9.4972720e-04]\n",
            "model이 추론한 답 : 0 실제 데이터의 라벨 : 0\n",
            "model.predict() 결과 :  [0.29920503 0.3392701  0.36152482]\n",
            "model이 추론한 답 : 2 실제 데이터의 라벨 : 0\n",
            "model.predict() 결과 :  [9.9765956e-01 7.2888346e-05 2.2674848e-03]\n",
            "model이 추론한 답 : 0 실제 데이터의 라벨 : 0\n",
            "model.predict() 결과 :  [0.4125119  0.32975957 0.25772858]\n",
            "model이 추론한 답 : 0 실제 데이터의 라벨 : 0\n",
            "model.predict() 결과 :  [9.9226576e-01 6.5103297e-05 7.6691560e-03]\n",
            "model이 추론한 답 : 0 실제 데이터의 라벨 : 0\n",
            "model.predict() 결과 :  [0.32367247 0.32414514 0.35218242]\n",
            "model이 추론한 답 : 2 실제 데이터의 라벨 : 0\n",
            "model.predict() 결과 :  [0.26923868 0.35188133 0.37887996]\n",
            "model이 추론한 답 : 2 실제 데이터의 라벨 : 0\n",
            "model.predict() 결과 :  [9.9451548e-01 5.0492347e-03 4.3518134e-04]\n",
            "model이 추론한 답 : 0 실제 데이터의 라벨 : 0\n",
            "model.predict() 결과 :  [0.6637711  0.33346736 0.00276157]\n",
            "model이 추론한 답 : 0 실제 데이터의 라벨 : 0\n",
            "model.predict() 결과 :  [0.3129295  0.33073932 0.35633117]\n",
            "model이 추론한 답 : 2 실제 데이터의 라벨 : 0\n",
            "model.predict() 결과 :  [0.3274153  0.32186416 0.35072055]\n",
            "model이 추론한 답 : 2 실제 데이터의 라벨 : 0\n",
            "model.predict() 결과 :  [9.6115595e-01 2.3249726e-05 3.8820788e-02]\n",
            "model이 추론한 답 : 0 실제 데이터의 라벨 : 0\n",
            "model.predict() 결과 :  [0.80151457 0.19481339 0.0036721 ]\n",
            "model이 추론한 답 : 0 실제 데이터의 라벨 : 0\n",
            "model.predict() 결과 :  [0.28462636 0.34590596 0.3694677 ]\n",
            "model이 추론한 답 : 2 실제 데이터의 라벨 : 0\n",
            "model.predict() 결과 :  [0.31827462 0.32744953 0.35427585]\n",
            "model이 추론한 답 : 2 실제 데이터의 라벨 : 0\n",
            "model.predict() 결과 :  [0.38825437 0.34800822 0.26373738]\n",
            "model이 추론한 답 : 0 실제 데이터의 라벨 : 0\n",
            "model.predict() 결과 :  [9.9852544e-01 2.0020581e-05 1.4546078e-03]\n",
            "model이 추론한 답 : 0 실제 데이터의 라벨 : 0\n",
            "model.predict() 결과 :  [9.9885774e-01 5.0219870e-07 1.1417983e-03]\n",
            "model이 추론한 답 : 0 실제 데이터의 라벨 : 0\n",
            "model.predict() 결과 :  [0.35962966 0.3627064  0.27766398]\n",
            "model이 추론한 답 : 1 실제 데이터의 라벨 : 0\n",
            "model.predict() 결과 :  [9.9354750e-01 2.7937206e-04 6.1731488e-03]\n",
            "model이 추론한 답 : 0 실제 데이터의 라벨 : 0\n",
            "model.predict() 결과 :  [0.2943277  0.34490404 0.36076832]\n",
            "model이 추론한 답 : 2 실제 데이터의 라벨 : 0\n",
            "model.predict() 결과 :  [0.28116864 0.71724546 0.00158593]\n",
            "model이 추론한 답 : 1 실제 데이터의 라벨 : 0\n",
            "model.predict() 결과 :  [0.30948007 0.33287188 0.35764802]\n",
            "model이 추론한 답 : 2 실제 데이터의 라벨 : 0\n",
            "model.predict() 결과 :  [9.9655414e-01 3.2263650e-03 2.1951858e-04]\n",
            "model이 추론한 답 : 0 실제 데이터의 라벨 : 0\n",
            "model.predict() 결과 :  [0.30396107 0.32701626 0.3690227 ]\n",
            "model이 추론한 답 : 2 실제 데이터의 라벨 : 0\n",
            "model.predict() 결과 :  [0.29481745 0.3676275  0.337555  ]\n",
            "model이 추론한 답 : 1 실제 데이터의 라벨 : 0\n",
            "model.predict() 결과 :  [0.31057584 0.3321936  0.3572305 ]\n",
            "model이 추론한 답 : 2 실제 데이터의 라벨 : 0\n",
            "model.predict() 결과 :  [0.2770102  0.34931627 0.37367356]\n",
            "model이 추론한 답 : 2 실제 데이터의 라벨 : 0\n",
            "model.predict() 결과 :  [0.3213464  0.3255669  0.35308668]\n",
            "model이 추론한 답 : 2 실제 데이터의 라벨 : 0\n",
            "model.predict() 결과 :  [0.31970534 0.32657197 0.35372272]\n",
            "model이 추론한 답 : 2 실제 데이터의 라벨 : 0\n",
            "model.predict() 결과 :  [0.3189947  0.35581112 0.32519418]\n",
            "model이 추론한 답 : 1 실제 데이터의 라벨 : 0\n",
            "model.predict() 결과 :  [0.93312913 0.0652189  0.00165199]\n",
            "model이 추론한 답 : 0 실제 데이터의 라벨 : 0\n",
            "model.predict() 결과 :  [0.33590508 0.35348824 0.3106067 ]\n",
            "model이 추론한 답 : 1 실제 데이터의 라벨 : 0\n",
            "model.predict() 결과 :  [0.89815307 0.1004612  0.00138563]\n",
            "model이 추론한 답 : 0 실제 데이터의 라벨 : 0\n",
            "model.predict() 결과 :  [0.40810782 0.0136036  0.5782886 ]\n",
            "model이 추론한 답 : 2 실제 데이터의 라벨 : 0\n",
            "model.predict() 결과 :  [9.9993467e-01 3.3375381e-05 3.1890046e-05]\n",
            "model이 추론한 답 : 0 실제 데이터의 라벨 : 0\n",
            "model.predict() 결과 :  [9.9527305e-01 1.2541405e-04 4.6015405e-03]\n",
            "model이 추론한 답 : 0 실제 데이터의 라벨 : 0\n",
            "model.predict() 결과 :  [9.9730241e-01 3.0211196e-04 2.3954166e-03]\n",
            "model이 추론한 답 : 0 실제 데이터의 라벨 : 0\n"
          ],
          "name": "stdout"
        }
      ]
    },
    {
      "cell_type": "code",
      "metadata": {
        "id": "ahead-chart",
        "outputId": "f769dc66-9686-465b-fccf-ea98c30cc8ef"
      },
      "source": [
        "# try2로 데이터 양 보강한 후\n",
        "from sklearn.metrics import classification_report\n",
        "print(classification_report(y_test, predicted_labels,target_names=['가위','바위','보']))"
      ],
      "id": "ahead-chart",
      "execution_count": null,
      "outputs": [
        {
          "output_type": "stream",
          "text": [
            "              precision    recall  f1-score   support\n",
            "\n",
            "          가위       0.95      0.55      0.70       210\n",
            "          바위       0.81      0.98      0.89       109\n",
            "           보       0.59      0.94      0.73       109\n",
            "\n",
            "    accuracy                           0.76       428\n",
            "   macro avg       0.78      0.83      0.77       428\n",
            "weighted avg       0.82      0.76      0.75       428\n",
            "\n"
          ],
          "name": "stdout"
        }
      ]
    },
    {
      "cell_type": "markdown",
      "metadata": {
        "id": "accessible-donna"
      },
      "source": [
        "# 정확도 향상을 위한 시행착오\n",
        "### 첫번째 문제상황\n",
        "- 가위 데이터가 적은 편\n",
        "- 대부분의 데이터를 보자기라고 판단\n",
        "- 과적합되어서 훈련 데이터 정확도는 99% (epochs 늘리면 100% 이기도)"
      ],
      "id": "accessible-donna"
    },
    {
      "cell_type": "markdown",
      "metadata": {
        "id": "chicken-latex"
      },
      "source": [
        "### try1) 모델층 쌓기\n",
        "\n",
        "1. 원래 사용했던 모델\n",
        "   - Conv2D(16, (3,3), relu)\n",
        "   - MaxPool2D(2,2)\n",
        "   - Conv2D(32, (3,3), relu)\n",
        "   - MaxPool2D(2,2)\n",
        "   - Conv2D(64, (3,3), relu)\n",
        "   - Flatten\n",
        "   - Dense(34, relu)\n",
        "   \n",
        "   정확도 39%\n",
        " \n",
        " \n",
        "  \n",
        " 2. 과적합 피하기 위해 Dropout 층 추가\n",
        "    - Conv2D(32, (3,3), relu)\n",
        "    - MaxPool2D(2,2)\n",
        "    - Conv2D(32, (3,3), relu)\n",
        "    - MaxPool2D(2,2)\n",
        "    - Conv2D(64, (3,3), relu)\n",
        "    - Flatten\n",
        "    - Dense(34, relu)\n",
        "    - **Dropout(0.5)**\n",
        "    \n",
        "    \n",
        "    정확도 41%\n",
        "    \n",
        "  유의미한 성능 향상이 보여지진 않았다\n",
        " "
      ],
      "id": "chicken-latex"
    },
    {
      "cell_type": "markdown",
      "metadata": {
        "id": "purple-cambodia"
      },
      "source": [
        "### try2) 이미지 개수 늘리기\n",
        "\n",
        "- 이전 훈련 데이터가 3207개 -> `evaluate()` 결과 정확도가 41%\n",
        "- 훈련 데이터 8345개로 늘리기 -> `evaluate()` 결과 정확도가 76%"
      ],
      "id": "purple-cambodia"
    },
    {
      "cell_type": "markdown",
      "metadata": {
        "id": "registered-brazilian"
      },
      "source": [
        "# 평가 및 개선점\n",
        "\n",
        "- 데이터를 기존의 2.6배 정도로 늘렸더니 정확도가 쉽게 개선되었다.\n",
        "- 세 분류 중 가위를 보자기라고 월등히 잘 못 분류하고 있다\n",
        "  (가위의 재현율이 매우 낮고 보의 정밀도가 매우 낮다)\n",
        "- 가위를 더 잘 분류할 수 있게 개선이 필요하다"
      ],
      "id": "registered-brazilian"
    },
    {
      "cell_type": "markdown",
      "metadata": {
        "id": "satisfactory-packing"
      },
      "source": [
        "### 다음에 시도해볼 만한 방법 :  이미지 증강"
      ],
      "id": "satisfactory-packing"
    },
    {
      "cell_type": "code",
      "metadata": {
        "id": "dirty-reunion"
      },
      "source": [
        "from keras.preprocessing.image import ImageDataGenerator, array_to_img, img_to_array, load_img\n",
        "datagen = ImageDataGenerator(\n",
        "    rotation_range=40,\n",
        "    width_shift_range=0.2,\n",
        "    height_shift_range=0.2,\n",
        "    rescale=1./255,\n",
        "    shear_range=0.2,\n",
        "    zoom_range=0.2,\n",
        "    horizontal_flip=True,\n",
        "    fill_mode='nearest')\n",
        "img = load_img(image_dir_path+'/1.jpg')\n",
        "x = img_to_array(img)  # (3, 150, 150) 크기의 NumPy 배열\n",
        "x = x.reshape((1,) + x.shape)  # (1, 3, 150, 150) 크기의 NumPy 배열\n",
        "\n",
        "# 아래 .flow() 함수는 임의 변환된 이미지를 배치 단위로 생성해서\n",
        "# 지정된 `preview/` 폴더에 저장합니다.\n",
        "i = 0\n",
        "for batch in datagen.flow(x, batch_size=1,\n",
        "                          save_to_dir='preview', save_prefix='paper', save_format='jpeg'):\n",
        "    i += 1\n",
        "    if i > 20:\n",
        "        break "
      ],
      "id": "dirty-reunion",
      "execution_count": null,
      "outputs": []
    }
  ]
}